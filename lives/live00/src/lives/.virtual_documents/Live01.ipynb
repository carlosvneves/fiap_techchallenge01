


import pandas as pd 
#import matplotlib.pyplot as plt
#import seaborn as sns
#import polars as pl


students = pd.read_csv("./data/StudentsPerformance.csv", separator=";")
students.head()


students.select(["math score", "reading score", "writing score"]).describe()


students_corr = students.select(["math score", "reading score", "writing score"]).corr()


sns.heatmap(students_corr)


dis = students.select(["math score", "reading score", "writing score"]).to_pandas()
sns.pairplot(dis)






