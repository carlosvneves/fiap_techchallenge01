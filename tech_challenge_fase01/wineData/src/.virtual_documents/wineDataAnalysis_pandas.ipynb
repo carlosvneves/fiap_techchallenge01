








# importa as bibliotecas e carrega os dados
import plotly.express as px
import pandas as pd
import plotly.io as pio
import warnings
import statsmodels.api as sm
import matplotlib.pyplot as plt
import plotly.graph_objects as go
import seaborn as sns



from itables import show
from itables import init_notebook_mode
from statsmodels.tsa.seasonal import seasonal_decompose
from IPython.display import display, Markdown
from plotly.subplots import make_subplots

from bcb import sgs
#init_notebook_mode(all_interactive=True)

from great_tables import GT

plt.style.use("ggplot")

warnings.filterwarnings("ignore")



from ydata_profiling import ProfileReport


# estilização de figuras e tabelas
fig_w, fig_h = 800, 600
pio.templates.default = "plotly_white"


# função auxiliar para imprimir markdown no jupyter notebook
def print_markdown(text:str):
    display(Markdown(text))

expvinho_val_title = "Valor Exportado de Vinho em US$ (FOB)"
expvinho_qt_title = "Quantidade Exportada de Vinho em Kg (1Kg=1L)"


# Configuração global do estilo
pd.set_option('display.max_rows', 10)  # Número máximo de linhas a serem exibidas
pd.set_option('display.max_columns', 5)  # Número máximo de colunas a serem exibidas
pd.set_option('display.width', 1000)  # Largura máxima da exibição
#pd.set_option('display.precision', 2)  # Número de casas decimais a serem exibidas
pd.set_option('display.float_format', '{:,.2f}'.format)  # Duas casas decimais e separador de milhar


# Configuração de estilo específica
#pd.set_option('display.colheader_justify', 'center')  # Alinhamento do cabeçalho das colunas








# carrega os dados de importação de vinhos (dados da página indicada)
expvinho_viti = pd.read_csv("../data/ExpVinho.csv", sep=";").drop("Id", axis=1)
expvinho_viti.describe()


expvinho_viti["País"]





expvinho_viti_2000 = expvinho_viti[[c for c in expvinho_viti.columns[1:] if int(str(c).split(".")[0]) > 1999]] 
expvinho_viti_2000["País"] = expvinho_viti["País"]
expvinho_viti_2000.tail()


expvinho_viti = expvinho_viti_2000


# constrói dois dataframes, um com dados de valor exportado em US$ e outro com dados de quantidade

# valor
expvinho_viti_val = pd.concat([expvinho_viti.filter(like = 'País', axis=1), expvinho_viti.filter(like = '.1', axis=1)], axis=1)

# quantidade
expvinho_viti_qt = pd.concat([expvinho_viti.filter(like = 'País', axis=1),expvinho_viti.drop(expvinho_viti_val.columns, axis=1)], axis = 1)
expvinho_viti_qt.index = expvinho_viti_qt['País']
expvinho_viti_qt = expvinho_viti_qt.drop('País', axis=1)
expvinho_viti_qt = expvinho_viti_qt.astype('float64')
# renomeia colunas de data para retirar o '.1'
expvinho_viti_val.columns = [name[0:4] for name in expvinho_viti_val.columns]
expvinho_viti_val.index = expvinho_viti_val['País']
expvinho_viti_val = expvinho_viti_val.drop('País', axis=1)
expvinho_viti_val = expvinho_viti_val.astype('float64')
# seleciona colunas acima do ano 1999
#expvinho_viti_qt = expvinho_viti_qt[[x for x in expvinho_viti_qt.columns if int(x) > 1999]]
#expvinho_viti_val = expvinho_viti_val[[x for x in expvinho_viti_val.columns if int(x) > 1999]]




print_markdown(r"## " + expvinho_val_title + " para cada país a partir de 2000:")
show(expvinho_viti_val)
print("\n\n")
print_markdown(r"## " + expvinho_qt_title + " para cada país a partir de 2000:")
show(expvinho_viti_qt)





print(f"Brasil - quantidade: {expvinho_viti_qt.loc['Brasil'].sum()},valor: {expvinho_viti_val.loc['Brasil'].sum()}")





expvinho_viti_qt = expvinho_viti_qt.drop('Brasil', axis=0)
expvinho_viti_val = expvinho_viti_val.drop('Brasil', axis=0)








cpi_us = pd.read_csv(
    "../data/cpi_brazil_us/cpi_series.csv",
    sep=";",
    dtype={"year": 'Int64', "cpi": 'Float64'}
)

cpi_us.set_index('year', inplace=True)

px.line(
    cpi_us,
    y="cpi",
    title="CPI - índice de inflação dos Estados Unidos (anual)",
    width=fig_w,
    height=fig_h,
    labels={"year": "Ano", "cpi":"CPI"},
)


px.line(
    cpi_us.pct_change(periods=1)*100,
    y="cpi",
    title="CPI - índice de inflação dos Estados Unidos (variação interanual)",
    width=fig_w,
    height=fig_h,
    labels={"year": "Ano", "cpi":"CPI (%)"},
)



fig = make_subplots(rows=1, 
                    cols=2,
                    subplot_titles=("CPI-índice anual","CPI-variação interanual"))

fig.add_trace(
    go.Scatter(x=cpi_us.index, y = (cpi_us.pct_change(periods=1)*100)['cpi']  ),
    row=1, col=2
)


fig.add_trace(
    go.Scatter(x=cpi_us.index, y= cpi_us['cpi'] ),
    row=1, col=1
)


fig.update_layout(height=fig_h-200, width=fig_w, title_text="Evolução da inflação no período analisado (CPI)", showlegend=False)
fig.show()





correct_idx = 1.0/(cpi_us/cpi_us.loc[2022])
expvinho_viti_val_corrected = {}
for year in expvinho_viti_val.columns:
    expvinho_viti_val_corrected.update({year:[val for val in expvinho_viti_val[year] * correct_idx.loc[int(year)][0]]})

expvinho_viti_val_corrected = pd.DataFrame(expvinho_viti_val_corrected)
expvinho_viti_val_corrected.set_index(expvinho_viti_val.index,inplace=True)

print_markdown(r"## " + expvinho_val_title + " *corrigido pelo CPI* para cada país a partir de 2000:")

show(expvinho_viti_val_corrected)


px.bar(expvinho_viti_val_corrected.transpose(), 
       title="Valor exportado por ano e por país em US$ de 2022",
       height=fig_h,
       width=fig_w+300,
       
      )
#fig.show()


expvinho_viti_val_corrected_T = expvinho_viti_val_corrected.transpose().reset_index(0)
#expvinho_viti_val_corrected_T.set_index("Ano", inplace=True)
#expvinho_viti_val_corrected_T.droplevel("País", axis=0)
expvinho_viti_val_corrected_T.columns


px.box(expvinho_viti_val_corrected.T,  y = ["Paraguai", "Rússia", "Estados Unidos","Reino Unido", "China", 
                                            "Países Baixos", "Japão", "Espanha", "Alemanha, República Democrática" ],
      title="Valor total exportado por ano em US$ de 2022",
       height=fig_h,
       width=fig_w,
       log_y=True,
       
      )


expvinho_viti_sum_year = pd.DataFrame({"US$":expvinho_viti_val.sum(), 
                                       "US$(2022)":expvinho_viti_val_corrected.sum(), 
                                       "L":expvinho_viti_qt.sum(),
                                       "US$/L":expvinho_viti_val.sum()/expvinho_viti_qt.sum(),
                                       "US$(2022)/L":expvinho_viti_val_corrected.sum()/expvinho_viti_qt.sum()})
print_markdown(r"## " + "Valor, Quantidade e Razão entre Valor e Quantidade" + " - total por ano")
show(expvinho_viti_sum_year, caption="Valor, Quantidade e Valor/Quantidade- Total por ano")


px.box(expvinho_viti_sum_year,y="US$(2022)",
      title="Valor total exportado por ano em US$ de 2022",
       height=fig_h,
       width=fig_w,
      )


px.box(expvinho_viti_sum_year,y="L",
      title="Valor total exportado por ano em US$ de 2022",
       height=fig_h,
       width=fig_w,
      )


px.box(expvinho_viti_sum_year,y="US$(2022)/L",
      title="Valor total exportado por ano em US$ de 2022",
       height=fig_h,
       width=fig_w,
      )


px.line(
    expvinho_viti_sum_year[['US$(2022)/L','US$/L']],
    title="Indicador de US$/L anual (nominal e corrigido para 2022) entre 2000 e 2022",
    width=fig_w + 200,
    height=fig_h,   
   labels={"value":"US$/L","index": "Ano"},    
)


px.line(
    expvinho_viti_sum_year[['US$(2022)','US$']],
    title="Valor exportado em US$ anual (nominal e corrigido) entre 2000 e 2022",
    width=fig_w + 200,
    height=fig_h,
    labels={"value":"US$","index": "Ano"},
    log_y=True,
)


px.line(
    expvinho_viti_sum_year['L'],
    title="Quantidade exportada em L por ano entre 2000 e 2022",
    width=fig_w + 200,
    height=fig_h,
    log_y=True,
    labels={"value":"L", "index":"Ano"},
)


expvinho_viti_sum_country = pd.DataFrame({"US$":expvinho_viti_val.T.sum(), 
                                          "US$(2022)":expvinho_viti_val_corrected.T.sum(),
                                          "L":expvinho_viti_qt.T.sum(),
                                          "US$/L":expvinho_viti_val.T.sum()/expvinho_viti_qt.T.sum(),
                                           "US$(2022)/L":expvinho_viti_val_corrected.T.sum()/expvinho_viti_qt.T.sum()}).dropna()
print_markdown(r"## " + "Valor e Quantidade" + " total por país")
show(expvinho_viti_sum_country, caption="Valor e Quantidade - Total por país", order=[[1, "dsc"]])



px.box(expvinho_viti_sum_country,y="US$(2022)",
      title="Valor total exportado por país em US$ de 2022",
       height=fig_h,
       width=fig_w,
       log_y=True,
      
      )


px.box(expvinho_viti_sum_country,y="L",
      title="Valor total exportado por país em US$ de 2022",
       height=fig_h,
       width=fig_w,
       log_y=True,
      
      )





df = expvinho_viti_sum_country.reset_index() 
df.sort_values('US$(2022)',inplace=True, ascending=False)
px.treemap(
    df,
    path=["País"],
    values='US$(2022)',    
    color_continuous_scale="RdBu",
    width=fig_w,
    height=fig_h,
    title="Valor exportado em US$(FOB) de 2022 - 2000 a 2022",
)


px.treemap(
    df,
    path=["País"],
    values='L',    
    color_continuous_scale="RdBu",
    width=fig_w,
    height=fig_h,
    title="Quantidade exportada em Litros - 2000 a 2022",
)


px.treemap(
    df,
    path=["País"],
    values='US$(2022)/L',    
    color_continuous_scale="RdBu",
    width=fig_w,
    height=fig_h,
    title="Indicador de US$/L com valores corrigidos para 2022  - 2000 a 2022",
)








from bcb import currency

cy = currency.get(['USD', 'EUR'], start = '2000-01-01', end='2022-12-31')

px.line(
    cy,
    height=fig_h,
    width=fig_w,
    title="Taxa de câmbio diária entre janeiro de 2000 e dezembro de 2022",
    labels={'value':'tx. de câmbio'},
)


cambio_mensal = cy.resample('M').mean()
px.line(cambio_mensal, width=fig_w, height=fig_h)


cambio_anual = cy.resample('Y').mean()
px.line(cambio_anual, height=fig_h, width=fig_w)





# prepara o dataframe de média anual de câmbio para o join com as medidas de interesse em base anual
df1 = media_anual.reset_index()
df1['Ano'] = [int(str(x).split('-')[0]) for x in df1['Date']]
df1.drop('Date', inplace=True, axis=1)

# dataframe com as medidas de   interesse em base anual
values_by_year = expvinho_viti_sum_year.reset_index()
values_by_year.rename(columns={"index":"Ano"}, inplace=True)
values_by_year["Ano"] = values_by_year["Ano"].astype("int64")
#df2 = df2.join(df1, on = "Ano")
values_by_year = pd.concat([values_by_year,df1], axis=1, join="inner")
values_by_year = values_by_year.loc[:,~values_by_year.T.duplicated(keep='first')]
show(values_by_year, caption="Valor, Quantidade, Valor/Quantidade, Câmbio EUR/R\$ e Câmbio USD/R\$ - Total por ano")




profile = ProfileReport(values_by_year)
profile.to_notebook_iframe()


px.imshow(values_by_year[["US$(2022)","L","US$(2022)/L","USD"]].corr(), text_auto=True,  color_continuous_scale='RdBu_r', width=fig_w, height=fig_h)


px.line(values_by_year[["US$(2022)/L","USD"]], 
        height=fig_h, 
        width= fig_w, 
        title="Indicador US$(2022)/L e câmbio USD/Reais no período analisado",
        labels={"index":"Ano","value":"US$/L - USD"},     
)


# Create figure with secondary y-axis
fig = make_subplots(specs=[[{"secondary_y": True}]])

# Add traces
fig.add_trace(
    go.Scatter(x=values_by_year["Ano"], y=values_by_year["US$(2022)"], name="Valor exportado"),
    secondary_y=False,
)

fig.add_trace(
    go.Scatter(x=values_by_year["Ano"], y=values_by_year["USD"], name="Câmbio USD/R$"),
    secondary_y=True,
)

# Add figure title
fig.update_layout(
    title_text="Valor exportado em US$(2022) e câmbio USD/Reais no período analisado",
    width=fig_w,
    height=fig_h, 
)

# Set x-axis title
fig.update_xaxes(title_text="Ano")

# Set y-axes titles
fig.update_yaxes(title_text="<b>USD(2022)</b>", secondary_y=False)
fig.update_yaxes(title_text="<b>USD/R$</b>", secondary_y=True)


fig.show()


# Create figure with secondary y-axis
fig = make_subplots(specs=[[{"secondary_y": True}]])

# Add traces
fig.add_trace(
    go.Scatter(x=values_by_year["Ano"], y=values_by_year["L"], name="Qtd. em Litros"),
    secondary_y=False,
)

fig.add_trace(
    go.Scatter(x=values_by_year["Ano"], y=values_by_year["USD"], name="Câmbio USD/R$"),
    secondary_y=True,
)

# Add figure title
fig.update_layout(
    title_text="Quantidade exportada em Litros e câmbio USD/Reais no período analisado",
    width=fig_w,
    height=fig_h, 
)

# Set x-axis title
fig.update_xaxes(title_text="Ano")

# Set y-axes titles
fig.update_yaxes(title_text="<b>L</b>", secondary_y=False)
fig.update_yaxes(title_text="<b>USD/R$</b>", secondary_y=True)


fig.show()











from statsmodels.tsa.stattools import adfuller


def adf_test(series:pd.Series):
    """
    Teste de estacionariedade ADF
    
    """
    print(f'Name: {series.name}')
    result = adfuller(series) 
    print(f'Test Statistics: {result[0]}')
    print(f'p-value: {result[1]}')
    print(f'critical_values: {result[4]}')
    if result[1] > 0.05:
        print("Series is not stationary")
    else:
        print("Series is stationary")
    print("\n")
    return


values_by_year_select = values_by_year[['Ano','US$(2022)', 'L', 'USD', 'US$(2022)/L']]
values_by_year_select.set_index("Ano", inplace=True)
# aplica os testes de estacionariedade às séries de interesse    

values_by_year_select.apply(adf_test);

# for col in values_by_year_select.columns:
#     print(f'Série: {col}')
#     adf_test(values_by_year_select[col])
#     print('\n')



#  como a série de câmbio é não-estacionária (conforme esperado), calcula-se a primeira diferença
diff1_cambio = values_by_year['USD'].diff().dropna()
diff1_USD_L = values_by_year['US$(2022)/L'].diff().dropna()
values_by_year_select = values_by_year[['US$(2022)']].iloc[1:]

print(diff1_cambio.shape)
print(diff1_USD_L.shape)
print(values_by_year_select.shape)





# carrega os dados de exportação dos dados extraídos do Comexstat com frequência mensal
expvinho_mensal = (pd.read_csv("../data/EXP_VINHO_2000_2022_20231118_mensal.csv", sep=";")
    .drop(['Código CUCI Item', 'Descrição CUCI Item'], axis=1)         
)
expvinho_mensal.rename({'Valor FOB (US$)':'US$','Quilograma Líquido':'L'}, inplace=True, axis=1)  
show(expvinho_mensal)


cpi_us_monthly = pl.read_csv(
    "../data/cpi_brazil_us/CPIAUCSL_monthly.csv",
    separator=",",
    dtypes={"DATE": pl.Date, "CPIAUCSL": pl.Float64},
).rename({"DATE": "date", "CPIAUCSL": "cpi"})

infl_month = pl.Series(
    "infl_month",
    1.0
    / (
        cpi_us_monthly["cpi"]
        / cpi_us_monthly.filter(pl.col("date") == date(2022, 12, 1))["cpi"]
    ),
)

cpi_us_monthly.insert_at_idx(2, infl_month)

exp_vinho_monthly_corrected = exp_vinho_monthly.join(cpi_us_monthly, on="date").sort(
    "date"
)

(
    exp_vinho_monthly_corrected.insert_at_idx(
        4,
        pl.Series(
            "value_corrected",
            exp_vinho_monthly_corrected["value"]
            * exp_vinho_monthly_corrected["infl_month"],
        ),
    )
)

exp_vinho_monthly_corrected = exp_vinho_monthly_corrected.drop(["cpi", "infl_month"])
show(exp_vinho_monthly_corrected)








# carrega dados extraídos do sistema do MDIC na forma de
exp_vinho = (
    pl.read_csv("../data/EXP_VINHO_2000_2022_20231118_anual.csv", separator=";").rename(
        {
            "Ano": "year",
            "Países": "country",
            "Valor FOB (US$)": "value",
            "Quilograma Líquido": "quantity",
        }
    )
).drop(["Código CUCI Item", "Descrição CUCI Item"])


# carrega os dados com as colunas necessárias para posterior plotagem dos dados em mapa
df = px.data.gapminder()

geo_info = (
    df.groupby(["country", "iso_alpha"])
    .first()
    .reset_index()[["country", "iso_alpha", "continent"]]
)

# carrega os nomes dos países em inglês e em português para os países
countries_names = pl.read_csv("../data/countries_names.csv", truncate_ragged_lines=True)

# exp_vinho = pl.DataFrame.join(pl.from_dataframe(geo_info), exp_vinho, on="country")


(exp_vinho
    .filter(pl.col('country') == 'Rússia')
    .select(pl.col(['year', 'value']))
).head()


import pandas as pd

exp_vinho_viti = pd.read_csv('../data/ExpVinho.csv', sep=';')
display(exp_vinho_viti.head())
filtered_cols = exp_vinho_viti.filter(like='.1', axis=1)
display(exp_vinho_viti[exp_vinho_viti['País'] == 'Rússia'].filter(like='.1', axis=1))





show(exp_vinho)





exp_vinho_top20 = (
    exp_vinho_corrected.group_by(by="country")
    .sum()
    .select(pl.col(["country", "value_corrected", "quantity"]))
    .sort("value_corrected", descending=True)
    .limit(20)
)
show(exp_vinho_top20)





px.treemap(
    exp_vinho_top20,
    path=["country"],
    values="value_corrected",
    color="value_corrected",
    color_continuous_scale="RdBu",
    width=fig_w,
    height=fig_h,
    title="Top 20 - valor em US$ de 2022",
    labels={"value_corrected": "Valor em US$"},
)


px.treemap(
    exp_vinho_top20,
    path=["country"],
    values="quantity",
    color="quantity",
    color_continuous_scale="RdBu",
    width=fig_w,
    height=fig_h,
    title="Top 20 - quantidade (1Kg=1L)",
    labels={"quantity": "quantidade"},
)








px.line(
    exp_vinho_corrected.filter(
        pl.col("country").is_in(exp_vinho_top20["country"].limit(5))
    ),
    x="year",
    y="value_corrected",
    color="country",
    log_y=True,
    width=fig_w + 200,
    height=fig_h,
    title="Evolução do valor exportado de vinhos em US$ de 2022 para os 5 maiores compradores",
    labels={"value_corrected": "log do Valor em US$", "year": "Ano", "county": "país"},
)





px.line(
    exp_vinho_corrected.filter(
        pl.col("country").is_in(exp_vinho_top20["country"].limit(5))
    ),
    x="year",
    y="quantity",
    color="country",
    log_y=True,
    width=fig_w + 200,
    height=fig_h,
    title="Evolução da quantidade exportada de vinhos os 5 maiores compradores",
    labels={"value_corrected": "log da quantidade", "year": "Ano", "county": "país"},
)





from datetime import date

exp_vinho_monthly = (
    (
        pl.read_csv(
            "../data/EXP_VINHO_2000_2022_20231118_mensal.csv", separator=";"
        ).rename(
            {
                "Ano": "year",
                "Mês": "month",
                "Países": "country",
                "Valor FOB (US$)": "value",
                "Quilograma Líquido": "quantity",
            }
        )
    )
    .drop(["Código CUCI Item", "Descrição CUCI Item"])
    .with_columns(pl.date(pl.col("year"), pl.col("month"), 1).alias("date"))
)


show(exp_vinho_monthly)





cpi_us_monthly = pl.read_csv(
    "../data/cpi_brazil_us/CPIAUCSL_monthly.csv",
    separator=",",
    dtypes={"DATE": pl.Date, "CPIAUCSL": pl.Float64},
).rename({"DATE": "date", "CPIAUCSL": "cpi"})

infl_month = pl.Series(
    "infl_month",
    1.0
    / (
        cpi_us_monthly["cpi"]
        / cpi_us_monthly.filter(pl.col("date") == date(2022, 12, 1))["cpi"]
    ),
)

cpi_us_monthly.insert_at_idx(2, infl_month)

exp_vinho_monthly_corrected = exp_vinho_monthly.join(cpi_us_monthly, on="date").sort(
    "date"
)

(
    exp_vinho_monthly_corrected.insert_at_idx(
        4,
        pl.Series(
            "value_corrected",
            exp_vinho_monthly_corrected["value"]
            * exp_vinho_monthly_corrected["infl_month"],
        ),
    )
)

exp_vinho_monthly_corrected = exp_vinho_monthly_corrected.drop(["cpi", "infl_month"])
show(exp_vinho_monthly_corrected)








px.line(
    exp_vinho_monthly_corrected.filter(
        pl.col("country").is_in(exp_vinho_top20["country"].limit(5))
    )
    .sort("date")
    .to_pandas(),
    x="date",
    y="value_corrected",
    color="country",
    log_y=True,
    width=fig_w + 200,
    height=fig_h,
    title="Evolução do valor exportado de vinhos em US$ de 2022 para os 5 maiores compradores (mensal)",
    labels={"value_corrected": "log do valor", "date": "Mês-Ano", "county": "país"},
    template="plotly_white",
).update_xaxes(dtick="M6", tickformat="%b-%Y", ticklabelmode="period")





px.line(
    exp_vinho_monthly_corrected.filter(
        pl.col("country").is_in(exp_vinho_top20["country"].limit(5))
    )
    .sort("date")
    .to_pandas(),
    x="date",
    y="quantity",
    color="country",
    log_y=True,
    width=fig_w + 200,
    height=fig_h,
    title="Evolução da quantidade de vinhos vendidos para os 5 maiores compradores (mensal)",
    labels={"value_corrected": "log do valor", "date": "Mês-Ano", "county": "país"},
    template="plotly_white",
).update_xaxes(dtick="M6", tickformat="%b-%Y", ticklabelmode="period")





from prophet import Prophet
from prophet.plot import plot_plotly, plot_components_plotly


exp_vinho_monthly_top5 = exp_vinho_monthly_corrected.filter(
    pl.col("country").is_in(exp_vinho_top20["country"].limit(5))
)
exp_vinho_monthly_top5.head()


qty_series = (
    exp_vinho_monthly_top5.filter(pl.col("country") == "Paraguai")
    .select(pl.col("date"), pl.col("quantity"))
    .to_pandas()
)
qty_series.columns = ["ds", "y"]
qty_series.head()


m = Prophet(interval_width=0.95)
m.fit(qty_series)


future = m.make_future_dataframe(periods=36, freq="M")
future.tail()


forecast = m.predict(future)
forecast[["ds", "yhat", "yhat_lower", "yhat_upper"]].tail()


# fig1 = m.plot(forecast)
plot_plotly(m, forecast)


plot_components_plotly(m, forecast)


qty_series = qty_series.set_index("ds")


seasonal_decompose(qty_series["y"], model="additive", period=12).plot()



