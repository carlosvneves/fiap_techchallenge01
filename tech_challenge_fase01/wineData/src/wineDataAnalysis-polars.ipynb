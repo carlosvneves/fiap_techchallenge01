{
 "cells": [
  {
   "cell_type": "markdown",
   "metadata": {},
   "source": [
    "# Introdução\n",
    "\n",
    "Descrição da atividade.\n",
    "\n",
    "Imagine agora, que você vai atuar como Expert em Data Analytics em uma empresa que exporta vinhos do Brasil para o mundo todo.\n",
    "\n",
    "Sua área é recém-criada dentro da empresa, e você será responsável pelos relatórios iniciais a serem apresentados em uma reunião de investidores e acionistas, explicando a quantidade de vinhos exportados e os fatores externos que podem vir a surgir e que interferem nas análises:\n",
    "\n",
    "- \tDados climáticos.\n",
    "- \tDados demográficos.\n",
    "- \tDados econômicos.\n",
    "- \tDados de avaliações de vinhos.\n",
    "  \n",
    "O Head de Dados pediu para que você construísse uma tabela contendo as seguintes informações:\n",
    "-   País de origem (Brasil).\n",
    "- \tPaís de destino.\n",
    "- \tQuantidade em litros de vinho exportado (utilize: 1KG =1L).\n",
    "- \tValor em US$.\n",
    "\n",
    "Os dados que lhe forneceram são de uma vinícola parceira, e podem ser encontrados  [aqui](http://vitibrasil.cnpuv.embrapa.br/index.php?opcao=opt_01).\n",
    "Tomando como referência o [relatório](https://ainfo.cnptia.embrapa.br/digital/bitstream/item/215377/1/COMUNICADO-TECNICO-214-Publica-602-versao-2020-08-14.pdf), sabemos que os valores exportados constantes das bases de dados estão em US$ 1.000,00 (FOB).\n",
    "\n",
    "Com o intuito de confirmar tal informação, ainda extraímos os dados diretamente da plataforma [Comexstat](http://comexstat.mdic.gov.br/pt/geral/97910) de responsabilidade do Ministério da Indústria, Comércio Exterior e Serviços (MDIC). Nesta caso, os vinhos de mesa correspondem ao produto de Código CUCI 11217 - \"Vinhos de uvas frescas (exceto vinho espumante); mostos de uvas cuja fermentação tenha sido impedida ou interrompida por adição de álcool\".\n",
    "\n",
    "Ao compararmos os dados da Comexstat com os dados da Vitibrasil, vemos que o valor exportado está expresso em US$ 1.000,00 (FOB).\n",
    "\n",
    "\n",
    "https://balanca.economia.gov.br/balanca/manual/Manual.pdf\n",
    "\n",
    "https://ourworldindata.org\n",
    "\n",
    "https://data.worldbank.org\n",
    "\n",
    " Classificação Uniforme para o Comércio Internacional - CUCI, também conhecida\n",
    "como Standard International Trade Classification - SITC é uma classificação de produto da ONU\n",
    "usada para estatísticas de comércio exterior (valores de exportação e importação e volumes de \n",
    "mercadorias), permitindo comparações internacionais de mercadorias e produtos\n",
    "manufaturados.\n",
    "\n",
    "\n",
    "O valor FOB indica o preço da mercadoria em dólares americanos sob o Incoterm FOB\n",
    "(Free on Board), modalidade na qual o vendedor é responsável por embarcar a mercadoria\n",
    "enquanto o comprador assume o pagamento do frete, seguros e demais custos pós embarque.\n",
    "Nesse caso, o valor informado da mercadoria expressa o valor exclusivamente da mercadoria.\n",
    "\n",
    "\n",
    "Medida que expressa o peso líquido da mercadoria. Mesmo produtos com quantidades\n",
    "estatísticas diferentes do quilograma também possuem disponível a medida em quilograma,\n",
    "referindo-se ao peso líquido da mercadoria, ou seja, mercadoria desconsiderando embalagens,\n",
    "caixas ou quaisquer outros adicionais de transporte. Vale relembrar que essa informação, bem\n",
    "como as demais informadas nas operações de comércio exterior, é de livre preenchimento e de\n",
    "responsabilidade exclusiva dos operadores de comércio exterior.\n",
    "\n",
    "\n",
    "- opções de ferramentas:\n",
    "  - https://ipyvizzu-story.vizzuhq.com/latest/\n",
    "  - http://gsap.com/"
   ]
  },
  {
   "cell_type": "markdown",
   "metadata": {},
   "source": [
    "# Análise de dados"
   ]
  },
  {
   "cell_type": "code",
   "execution_count": 1,
   "metadata": {},
   "outputs": [],
   "source": [
    "# importa as bibliotecas e carrega os dados\n",
    "import plotly.express as px\n",
    "import polars as pl\n",
    "\n",
    "# carrega os dados de importação de vinhos\n",
    "exp_vinho = (\n",
    "    pl.read_csv(\"../data/ExpVinho.csv\", separator=\";\")\n",
    "    .rename({\"País\": \"country\"})\n",
    "    .drop(\"Id\")\n",
    ")\n",
    "\n",
    "# carrega os dados com as colunas necessárias para posterior plotagem dos dados em mapa\n",
    "df = px.data.gapminder()\n",
    "\n",
    "geo_info = (\n",
    "    df.groupby([\"country\", \"iso_alpha\"])\n",
    "    .first()\n",
    "    .reset_index()[[\"country\", \"iso_alpha\", \"continent\"]]\n",
    ")\n",
    "\n",
    "exp_vinho = pl.DataFrame.join(pl.from_dataframe(geo_info), exp_vinho, on=\"country\")"
   ]
  },
  {
   "cell_type": "code",
   "execution_count": 2,
   "metadata": {},
   "outputs": [],
   "source": [
    "import polars.selectors as cs\n",
    "\n",
    "# dados de quantidade exportada\n",
    "exp_vinho_qty = exp_vinho.select(\n",
    "    cs.by_name(\"country\")\n",
    "    | cs.by_name(\"iso_alpha\")\n",
    "    | cs.by_name(\"continent\")\n",
    "    | cs.ends_with(\"_0\")\n",
    ")\n",
    "exp_vinho_qty.columns = [\n",
    "    col.replace(\"_duplicated_0\", \"\") for col in exp_vinho_qty.columns\n",
    "]\n",
    "\n",
    "# dados de exportação em valor (US$)\n",
    "exp_vinho_val = exp_vinho.select(\n",
    "    cs.by_name(\"country\")\n",
    "    | cs.by_name(\"iso_alpha\")\n",
    "    | cs.by_name(\"continent\")\n",
    "    | ~cs.ends_with(\"_0\")\n",
    ")"
   ]
  },
  {
   "cell_type": "code",
   "execution_count": 5,
   "metadata": {},
   "outputs": [
    {
     "data": {
      "text/html": [
       "<div><style>\n",
       ".dataframe > thead > tr > th,\n",
       ".dataframe > tbody > tr > td {\n",
       "  text-align: right;\n",
       "  white-space: pre-wrap;\n",
       "}\n",
       "</style>\n",
       "<small>shape: (5, 56)</small><table border=\"1\" class=\"dataframe\"><thead><tr><th>country</th><th>iso_alpha</th><th>continent</th><th>1970</th><th>1971</th><th>1972</th><th>1973</th><th>1974</th><th>1975</th><th>1976</th><th>1977</th><th>1978</th><th>1979</th><th>1980</th><th>1981</th><th>1982</th><th>1983</th><th>1984</th><th>1985</th><th>1986</th><th>1987</th><th>1988</th><th>1989</th><th>1990</th><th>1991</th><th>1992</th><th>1993</th><th>1994</th><th>1995</th><th>1996</th><th>1997</th><th>1998</th><th>1999</th><th>2000</th><th>2001</th><th>2002</th><th>2003</th><th>2004</th><th>2005</th><th>2006</th><th>2007</th><th>2008</th><th>2009</th><th>2010</th><th>2011</th><th>2012</th><th>2013</th><th>2014</th><th>2015</th><th>2016</th><th>2017</th><th>2018</th><th>2019</th><th>2020</th><th>2021</th><th>2022</th></tr><tr><td>str</td><td>str</td><td>str</td><td>i64</td><td>i64</td><td>i64</td><td>i64</td><td>i64</td><td>i64</td><td>i64</td><td>i64</td><td>i64</td><td>i64</td><td>i64</td><td>i64</td><td>i64</td><td>i64</td><td>i64</td><td>i64</td><td>i64</td><td>i64</td><td>i64</td><td>i64</td><td>i64</td><td>i64</td><td>i64</td><td>i64</td><td>i64</td><td>i64</td><td>i64</td><td>i64</td><td>i64</td><td>i64</td><td>i64</td><td>i64</td><td>i64</td><td>i64</td><td>i64</td><td>i64</td><td>i64</td><td>i64</td><td>i64</td><td>i64</td><td>i64</td><td>i64</td><td>i64</td><td>i64</td><td>i64</td><td>i64</td><td>i64</td><td>i64</td><td>i64</td><td>i64</td><td>i64</td><td>i64</td><td>i64</td></tr></thead><tbody><tr><td>&quot;Angola&quot;</td><td>&quot;AGO&quot;</td><td>&quot;Africa&quot;</td><td>0</td><td>0</td><td>0</td><td>0</td><td>0</td><td>0</td><td>0</td><td>0</td><td>0</td><td>3465756</td><td>1682244</td><td>0</td><td>0</td><td>0</td><td>0</td><td>339</td><td>774</td><td>1316</td><td>18500</td><td>168</td><td>930</td><td>125</td><td>292</td><td>189</td><td>0</td><td>24</td><td>2118</td><td>68494</td><td>15780</td><td>10998</td><td>249717</td><td>12150</td><td>9812</td><td>19937</td><td>37573</td><td>24056</td><td>3766</td><td>25931</td><td>25721</td><td>54786</td><td>33557</td><td>13889</td><td>2833</td><td>1573</td><td>12182</td><td>1908</td><td>7359</td><td>10170</td><td>477</td><td>345</td><td>0</td><td>0</td><td>4068</td></tr><tr><td>&quot;Argentina&quot;</td><td>&quot;ARG&quot;</td><td>&quot;Americas&quot;</td><td>0</td><td>0</td><td>0</td><td>0</td><td>0</td><td>0</td><td>0</td><td>0</td><td>0</td><td>0</td><td>0</td><td>0</td><td>0</td><td>0</td><td>0</td><td>0</td><td>0</td><td>0</td><td>360</td><td>0</td><td>6300</td><td>0</td><td>1125</td><td>322990</td><td>691422</td><td>0</td><td>2100</td><td>40</td><td>211</td><td>0</td><td>0</td><td>1477</td><td>0</td><td>0</td><td>0</td><td>0</td><td>0</td><td>0</td><td>0</td><td>162</td><td>0</td><td>13253</td><td>0</td><td>0</td><td>20385</td><td>0</td><td>0</td><td>0</td><td>15711</td><td>0</td><td>1015</td><td>6</td><td>480</td></tr><tr><td>&quot;Bangladesh&quot;</td><td>&quot;BGD&quot;</td><td>&quot;Asia&quot;</td><td>0</td><td>0</td><td>0</td><td>0</td><td>0</td><td>0</td><td>0</td><td>0</td><td>0</td><td>0</td><td>0</td><td>0</td><td>0</td><td>0</td><td>0</td><td>0</td><td>0</td><td>0</td><td>0</td><td>0</td><td>0</td><td>0</td><td>0</td><td>0</td><td>0</td><td>0</td><td>0</td><td>0</td><td>0</td><td>0</td><td>0</td><td>0</td><td>0</td><td>0</td><td>0</td><td>0</td><td>0</td><td>0</td><td>0</td><td>0</td><td>0</td><td>0</td><td>0</td><td>0</td><td>0</td><td>0</td><td>0</td><td>0</td><td>0</td><td>0</td><td>3</td><td>2</td><td>7</td></tr><tr><td>&quot;Benin&quot;</td><td>&quot;BEN&quot;</td><td>&quot;Africa&quot;</td><td>0</td><td>0</td><td>0</td><td>0</td><td>0</td><td>0</td><td>0</td><td>0</td><td>0</td><td>0</td><td>0</td><td>0</td><td>0</td><td>0</td><td>0</td><td>0</td><td>0</td><td>0</td><td>0</td><td>0</td><td>0</td><td>0</td><td>0</td><td>0</td><td>0</td><td>0</td><td>0</td><td>0</td><td>0</td><td>0</td><td>0</td><td>0</td><td>0</td><td>0</td><td>0</td><td>0</td><td>10350</td><td>0</td><td>10350</td><td>0</td><td>0</td><td>0</td><td>0</td><td>0</td><td>0</td><td>0</td><td>5040</td><td>0</td><td>0</td><td>9</td><td>0</td><td>0</td><td>0</td></tr><tr><td>&quot;Chile&quot;</td><td>&quot;CHL&quot;</td><td>&quot;Americas&quot;</td><td>0</td><td>0</td><td>0</td><td>0</td><td>0</td><td>0</td><td>0</td><td>0</td><td>0</td><td>0</td><td>0</td><td>0</td><td>0</td><td>0</td><td>0</td><td>0</td><td>0</td><td>0</td><td>0</td><td>900</td><td>0</td><td>0</td><td>0</td><td>160</td><td>0</td><td>0</td><td>0</td><td>0</td><td>0</td><td>0</td><td>0</td><td>0</td><td>31</td><td>0</td><td>0</td><td>0</td><td>1988</td><td>60930</td><td>0</td><td>1475</td><td>0</td><td>0</td><td>8550</td><td>0</td><td>0</td><td>0</td><td>0</td><td>0</td><td>11049</td><td>0</td><td>11</td><td>26</td><td>2094</td></tr></tbody></table></div>"
      ],
      "text/plain": [
       "shape: (5, 56)\n",
       "┌────────────┬───────────┬───────────┬──────┬───┬──────┬──────┬──────┬──────┐\n",
       "│ country    ┆ iso_alpha ┆ continent ┆ 1970 ┆ … ┆ 2019 ┆ 2020 ┆ 2021 ┆ 2022 │\n",
       "│ ---        ┆ ---       ┆ ---       ┆ ---  ┆   ┆ ---  ┆ ---  ┆ ---  ┆ ---  │\n",
       "│ str        ┆ str       ┆ str       ┆ i64  ┆   ┆ i64  ┆ i64  ┆ i64  ┆ i64  │\n",
       "╞════════════╪═══════════╪═══════════╪══════╪═══╪══════╪══════╪══════╪══════╡\n",
       "│ Angola     ┆ AGO       ┆ Africa    ┆ 0    ┆ … ┆ 345  ┆ 0    ┆ 0    ┆ 4068 │\n",
       "│ Argentina  ┆ ARG       ┆ Americas  ┆ 0    ┆ … ┆ 0    ┆ 1015 ┆ 6    ┆ 480  │\n",
       "│ Bangladesh ┆ BGD       ┆ Asia      ┆ 0    ┆ … ┆ 0    ┆ 3    ┆ 2    ┆ 7    │\n",
       "│ Benin      ┆ BEN       ┆ Africa    ┆ 0    ┆ … ┆ 9    ┆ 0    ┆ 0    ┆ 0    │\n",
       "│ Chile      ┆ CHL       ┆ Americas  ┆ 0    ┆ … ┆ 0    ┆ 11   ┆ 26   ┆ 2094 │\n",
       "└────────────┴───────────┴───────────┴──────┴───┴──────┴──────┴──────┴──────┘"
      ]
     },
     "execution_count": 5,
     "metadata": {},
     "output_type": "execute_result"
    }
   ],
   "source": [
    "# dataframe com US$ exportado/ litro\n",
    "exp_vinho_val.head()"
   ]
  },
  {
   "cell_type": "code",
   "execution_count": null,
   "metadata": {},
   "outputs": [],
   "source": []
  },
  {
   "cell_type": "code",
   "execution_count": null,
   "metadata": {},
   "outputs": [],
   "source": []
  },
  {
   "cell_type": "code",
   "execution_count": null,
   "metadata": {},
   "outputs": [],
   "source": []
  }
 ],
 "metadata": {
  "kernelspec": {
   "display_name": "Python 3 (ipykernel)",
   "language": "python",
   "name": "python3"
  },
  "language_info": {
   "codemirror_mode": {
    "name": "ipython",
    "version": 3
   },
   "file_extension": ".py",
   "mimetype": "text/x-python",
   "name": "python",
   "nbconvert_exporter": "python",
   "pygments_lexer": "ipython3",
   "version": "3.11.6"
  }
 },
 "nbformat": 4,
 "nbformat_minor": 4
}
