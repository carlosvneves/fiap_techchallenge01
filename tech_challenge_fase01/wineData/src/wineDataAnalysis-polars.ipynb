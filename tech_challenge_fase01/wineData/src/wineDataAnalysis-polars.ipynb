{
 "cells": [
  {
   "cell_type": "markdown",
   "metadata": {
    "id": "b3oqBE9HRuxX"
   },
   "source": [
    "# Introdução\n",
    "\n",
    "Descrição da atividade.\n",
    "\n",
    "Imagine agora, que você vai atuar como Expert em Data Analytics em uma empresa que exporta vinhos do Brasil para o mundo todo.\n",
    "\n",
    "Sua área é recém-criada dentro da empresa, e você será responsável pelos relatórios iniciais a serem apresentados em uma reunião de investidores e acionistas, explicando a quantidade de vinhos exportados e os fatores externos que podem vir a surgir e que interferem nas análises:\n",
    "\n",
    "- \tDados climáticos.\n",
    "- \tDados demográficos.\n",
    "- \tDados econômicos.\n",
    "- \tDados de avaliações de vinhos.\n",
    "  \n",
    "O Head de Dados pediu para que você construísse uma tabela contendo as seguintes informações:\n",
    "-   País de origem (Brasil).\n",
    "- \tPaís de destino.\n",
    "- \tQuantidade em litros de vinho exportado (utilize: 1KG =1L).\n",
    "- \tValor em US$.\n",
    "\n",
    "Os dados que lhe forneceram são de uma vinícola parceira, e podem ser encontrados  [aqui](http://vitibrasil.cnpuv.embrapa.br/index.php?opcao=opt_01).\n",
    "Tomando como referência o [relatório](https://ainfo.cnptia.embrapa.br/digital/bitstream/item/215377/1/COMUNICADO-TECNICO-214-Publica-602-versao-2020-08-14.pdf), sabemos que os valores exportados constantes das bases de dados estão em US$ 1.000,00 (FOB).\n",
    "\n",
    "Com o intuito de confirmar tal informação, ainda extraímos os dados diretamente da plataforma [Comexstat](http://comexstat.mdic.gov.br/pt/geral/97910) de responsabilidade do Ministério da Indústria, Comércio Exterior e Serviços (MDIC). Nesta caso, os vinhos de mesa correspondem ao produto de Código CUCI 11217 - \"Vinhos de uvas frescas (exceto vinho espumante); mostos de uvas cuja fermentação tenha sido impedida ou interrompida por adição de álcool\".\n",
    "\n",
    "Ao compararmos os dados da Comexstat com os dados da Vitibrasil, vemos que o valor exportado está expresso em US$ 1.000,00 (FOB).\n",
    "\n",
    "\n",
    "https://balanca.economia.gov.br/balanca/manual/Manual.pdf\n",
    "\n",
    "https://ourworldindata.org\n",
    "\n",
    "https://data.worldbank.org\n",
    "\n",
    " Classificação Uniforme para o Comércio Internacional - CUCI, também conhecida\n",
    "como Standard International Trade Classification - SITC é uma classificação de produto da ONU\n",
    "usada para estatísticas de comércio exterior (valores de exportação e importação e volumes de\n",
    "mercadorias), permitindo comparações internacionais de mercadorias e produtos\n",
    "manufaturados.\n",
    "\n",
    "\n",
    "O valor FOB indica o preço da mercadoria em dólares americanos sob o Incoterm FOB\n",
    "(Free on Board), modalidade na qual o vendedor é responsável por embarcar a mercadoria\n",
    "enquanto o comprador assume o pagamento do frete, seguros e demais custos pós embarque.\n",
    "Nesse caso, o valor informado da mercadoria expressa o valor exclusivamente da mercadoria.\n",
    "\n",
    "\n",
    "Medida que expressa o peso líquido da mercadoria. Mesmo produtos com quantidades\n",
    "estatísticas diferentes do quilograma também possuem disponível a medida em quilograma,\n",
    "referindo-se ao peso líquido da mercadoria, ou seja, mercadoria desconsiderando embalagens,\n",
    "caixas ou quaisquer outros adicionais de transporte. Vale relembrar que essa informação, bem\n",
    "como as demais informadas nas operações de comércio exterior, é de livre preenchimento e de\n",
    "responsabilidade exclusiva dos operadores de comércio exterior.\n",
    "\n",
    "\n",
    "- opções de ferramentas:\n",
    "  - https://ipyvizzu-story.vizzuhq.com/latest/\n",
    "  - http://gsap.com/"
   ]
  },
  {
   "cell_type": "markdown",
   "metadata": {
    "id": "lK69LqpaRuxf"
   },
   "source": [
    "# Análise de dados"
   ]
  },
  {
   "cell_type": "markdown",
   "metadata": {},
   "source": [
    "O primeiro passo para a análise de dados é a importação das bibliotecas necessárias. Neste trabalho foi utilizada a biblioteca _polars_ para manipulação de dados e a biblioteca _plotly_ para a confecção de gráficos. "
   ]
  },
  {
   "cell_type": "code",
   "execution_count": 1,
   "metadata": {},
   "outputs": [
    {
     "ename": "ImportError",
     "evalue": "DLL load failed while importing _path: Não foi possível encontrar o módulo especificado.",
     "output_type": "error",
     "traceback": [
      "\u001b[1;31m---------------------------------------------------------------------------\u001b[0m",
      "\u001b[1;31mImportError\u001b[0m                               Traceback (most recent call last)",
      "\u001b[1;32mc:\\projects\\alura_postech\\tech_challenge_fase01\\wineData\\src\\wineDataAnalysis-polars.ipynb Cell 4\u001b[0m line \u001b[0;36m9\n\u001b[0;32m      <a href='vscode-notebook-cell:/c%3A/projects/alura_postech/tech_challenge_fase01/wineData/src/wineDataAnalysis-polars.ipynb#W3sZmlsZQ%3D%3D?line=6'>7</a>\u001b[0m \u001b[39mimport\u001b[39;00m \u001b[39mstatsmodels\u001b[39;00m\u001b[39m.\u001b[39;00m\u001b[39mapi\u001b[39;00m \u001b[39mas\u001b[39;00m \u001b[39msm\u001b[39;00m\n\u001b[0;32m      <a href='vscode-notebook-cell:/c%3A/projects/alura_postech/tech_challenge_fase01/wineData/src/wineDataAnalysis-polars.ipynb#W3sZmlsZQ%3D%3D?line=7'>8</a>\u001b[0m \u001b[39mfrom\u001b[39;00m \u001b[39mstatsmodels\u001b[39;00m\u001b[39m.\u001b[39;00m\u001b[39mtsa\u001b[39;00m\u001b[39m.\u001b[39;00m\u001b[39mseasonal\u001b[39;00m \u001b[39mimport\u001b[39;00m seasonal_decompose\n\u001b[1;32m----> <a href='vscode-notebook-cell:/c%3A/projects/alura_postech/tech_challenge_fase01/wineData/src/wineDataAnalysis-polars.ipynb#W3sZmlsZQ%3D%3D?line=8'>9</a>\u001b[0m \u001b[39mimport\u001b[39;00m \u001b[39mmatplotlib\u001b[39;00m\u001b[39m.\u001b[39;00m\u001b[39mpyplot\u001b[39;00m \u001b[39mas\u001b[39;00m \u001b[39mplt\u001b[39;00m\n\u001b[0;32m     <a href='vscode-notebook-cell:/c%3A/projects/alura_postech/tech_challenge_fase01/wineData/src/wineDataAnalysis-polars.ipynb#W3sZmlsZQ%3D%3D?line=10'>11</a>\u001b[0m plt\u001b[39m.\u001b[39mstyle\u001b[39m.\u001b[39muse(\u001b[39m\"\u001b[39m\u001b[39mggplot\u001b[39m\u001b[39m\"\u001b[39m)\n\u001b[0;32m     <a href='vscode-notebook-cell:/c%3A/projects/alura_postech/tech_challenge_fase01/wineData/src/wineDataAnalysis-polars.ipynb#W3sZmlsZQ%3D%3D?line=13'>14</a>\u001b[0m warnings\u001b[39m.\u001b[39mfilterwarnings(\u001b[39m\"\u001b[39m\u001b[39mignore\u001b[39m\u001b[39m\"\u001b[39m)\n",
      "File \u001b[1;32mc:\\projects\\alura_postech\\tech_challenge_fase01\\wineData\\.venv\\Lib\\site-packages\\matplotlib\\__init__.py:174\u001b[0m\n\u001b[0;32m    170\u001b[0m \u001b[39mfrom\u001b[39;00m \u001b[39mpackaging\u001b[39;00m\u001b[39m.\u001b[39;00m\u001b[39mversion\u001b[39;00m \u001b[39mimport\u001b[39;00m parse \u001b[39mas\u001b[39;00m parse_version\n\u001b[0;32m    172\u001b[0m \u001b[39m# cbook must import matplotlib only within function\u001b[39;00m\n\u001b[0;32m    173\u001b[0m \u001b[39m# definitions, so it is safe to import from it here.\u001b[39;00m\n\u001b[1;32m--> 174\u001b[0m \u001b[39mfrom\u001b[39;00m \u001b[39m.\u001b[39;00m \u001b[39mimport\u001b[39;00m _api, _version, cbook, _docstring, rcsetup\n\u001b[0;32m    175\u001b[0m \u001b[39mfrom\u001b[39;00m \u001b[39mmatplotlib\u001b[39;00m\u001b[39m.\u001b[39;00m\u001b[39mcbook\u001b[39;00m \u001b[39mimport\u001b[39;00m sanitize_sequence\n\u001b[0;32m    176\u001b[0m \u001b[39mfrom\u001b[39;00m \u001b[39mmatplotlib\u001b[39;00m\u001b[39m.\u001b[39;00m\u001b[39m_api\u001b[39;00m \u001b[39mimport\u001b[39;00m MatplotlibDeprecationWarning\n",
      "File \u001b[1;32mc:\\projects\\alura_postech\\tech_challenge_fase01\\wineData\\.venv\\Lib\\site-packages\\matplotlib\\rcsetup.py:27\u001b[0m\n\u001b[0;32m     25\u001b[0m \u001b[39mfrom\u001b[39;00m \u001b[39mmatplotlib\u001b[39;00m \u001b[39mimport\u001b[39;00m _api, cbook\n\u001b[0;32m     26\u001b[0m \u001b[39mfrom\u001b[39;00m \u001b[39mmatplotlib\u001b[39;00m\u001b[39m.\u001b[39;00m\u001b[39mcbook\u001b[39;00m \u001b[39mimport\u001b[39;00m ls_mapper\n\u001b[1;32m---> 27\u001b[0m \u001b[39mfrom\u001b[39;00m \u001b[39mmatplotlib\u001b[39;00m\u001b[39m.\u001b[39;00m\u001b[39mcolors\u001b[39;00m \u001b[39mimport\u001b[39;00m Colormap, is_color_like\n\u001b[0;32m     28\u001b[0m \u001b[39mfrom\u001b[39;00m \u001b[39mmatplotlib\u001b[39;00m\u001b[39m.\u001b[39;00m\u001b[39m_fontconfig_pattern\u001b[39;00m \u001b[39mimport\u001b[39;00m parse_fontconfig_pattern\n\u001b[0;32m     29\u001b[0m \u001b[39mfrom\u001b[39;00m \u001b[39mmatplotlib\u001b[39;00m\u001b[39m.\u001b[39;00m\u001b[39m_enums\u001b[39;00m \u001b[39mimport\u001b[39;00m JoinStyle, CapStyle\n",
      "File \u001b[1;32mc:\\projects\\alura_postech\\tech_challenge_fase01\\wineData\\.venv\\Lib\\site-packages\\matplotlib\\colors.py:57\u001b[0m\n\u001b[0;32m     55\u001b[0m \u001b[39mimport\u001b[39;00m \u001b[39mmatplotlib\u001b[39;00m \u001b[39mas\u001b[39;00m \u001b[39mmpl\u001b[39;00m\n\u001b[0;32m     56\u001b[0m \u001b[39mimport\u001b[39;00m \u001b[39mnumpy\u001b[39;00m \u001b[39mas\u001b[39;00m \u001b[39mnp\u001b[39;00m\n\u001b[1;32m---> 57\u001b[0m \u001b[39mfrom\u001b[39;00m \u001b[39mmatplotlib\u001b[39;00m \u001b[39mimport\u001b[39;00m _api, _cm, cbook, scale\n\u001b[0;32m     58\u001b[0m \u001b[39mfrom\u001b[39;00m \u001b[39m.\u001b[39;00m\u001b[39m_color_data\u001b[39;00m \u001b[39mimport\u001b[39;00m BASE_COLORS, TABLEAU_COLORS, CSS4_COLORS, XKCD_COLORS\n\u001b[0;32m     61\u001b[0m \u001b[39mclass\u001b[39;00m \u001b[39m_ColorMapping\u001b[39;00m(\u001b[39mdict\u001b[39m):\n",
      "File \u001b[1;32mc:\\projects\\alura_postech\\tech_challenge_fase01\\wineData\\.venv\\Lib\\site-packages\\matplotlib\\scale.py:22\u001b[0m\n\u001b[0;32m     20\u001b[0m \u001b[39mimport\u001b[39;00m \u001b[39mmatplotlib\u001b[39;00m \u001b[39mas\u001b[39;00m \u001b[39mmpl\u001b[39;00m\n\u001b[0;32m     21\u001b[0m \u001b[39mfrom\u001b[39;00m \u001b[39mmatplotlib\u001b[39;00m \u001b[39mimport\u001b[39;00m _api, _docstring\n\u001b[1;32m---> 22\u001b[0m \u001b[39mfrom\u001b[39;00m \u001b[39mmatplotlib\u001b[39;00m\u001b[39m.\u001b[39;00m\u001b[39mticker\u001b[39;00m \u001b[39mimport\u001b[39;00m (\n\u001b[0;32m     23\u001b[0m     NullFormatter, ScalarFormatter, LogFormatterSciNotation, LogitFormatter,\n\u001b[0;32m     24\u001b[0m     NullLocator, LogLocator, AutoLocator, AutoMinorLocator,\n\u001b[0;32m     25\u001b[0m     SymmetricalLogLocator, AsinhLocator, LogitLocator)\n\u001b[0;32m     26\u001b[0m \u001b[39mfrom\u001b[39;00m \u001b[39mmatplotlib\u001b[39;00m\u001b[39m.\u001b[39;00m\u001b[39mtransforms\u001b[39;00m \u001b[39mimport\u001b[39;00m Transform, IdentityTransform\n\u001b[0;32m     29\u001b[0m \u001b[39mclass\u001b[39;00m \u001b[39mScaleBase\u001b[39;00m:\n",
      "File \u001b[1;32mc:\\projects\\alura_postech\\tech_challenge_fase01\\wineData\\.venv\\Lib\\site-packages\\matplotlib\\ticker.py:143\u001b[0m\n\u001b[0;32m    141\u001b[0m \u001b[39mimport\u001b[39;00m \u001b[39mmatplotlib\u001b[39;00m \u001b[39mas\u001b[39;00m \u001b[39mmpl\u001b[39;00m\n\u001b[0;32m    142\u001b[0m \u001b[39mfrom\u001b[39;00m \u001b[39mmatplotlib\u001b[39;00m \u001b[39mimport\u001b[39;00m _api, cbook\n\u001b[1;32m--> 143\u001b[0m \u001b[39mfrom\u001b[39;00m \u001b[39mmatplotlib\u001b[39;00m \u001b[39mimport\u001b[39;00m transforms \u001b[39mas\u001b[39;00m mtransforms\n\u001b[0;32m    145\u001b[0m _log \u001b[39m=\u001b[39m logging\u001b[39m.\u001b[39mgetLogger(\u001b[39m__name__\u001b[39m)\n\u001b[0;32m    147\u001b[0m __all__ \u001b[39m=\u001b[39m (\u001b[39m'\u001b[39m\u001b[39mTickHelper\u001b[39m\u001b[39m'\u001b[39m, \u001b[39m'\u001b[39m\u001b[39mFormatter\u001b[39m\u001b[39m'\u001b[39m, \u001b[39m'\u001b[39m\u001b[39mFixedFormatter\u001b[39m\u001b[39m'\u001b[39m,\n\u001b[0;32m    148\u001b[0m            \u001b[39m'\u001b[39m\u001b[39mNullFormatter\u001b[39m\u001b[39m'\u001b[39m, \u001b[39m'\u001b[39m\u001b[39mFuncFormatter\u001b[39m\u001b[39m'\u001b[39m, \u001b[39m'\u001b[39m\u001b[39mFormatStrFormatter\u001b[39m\u001b[39m'\u001b[39m,\n\u001b[0;32m    149\u001b[0m            \u001b[39m'\u001b[39m\u001b[39mStrMethodFormatter\u001b[39m\u001b[39m'\u001b[39m, \u001b[39m'\u001b[39m\u001b[39mScalarFormatter\u001b[39m\u001b[39m'\u001b[39m, \u001b[39m'\u001b[39m\u001b[39mLogFormatter\u001b[39m\u001b[39m'\u001b[39m,\n\u001b[1;32m   (...)\u001b[0m\n\u001b[0;32m    155\u001b[0m            \u001b[39m'\u001b[39m\u001b[39mMultipleLocator\u001b[39m\u001b[39m'\u001b[39m, \u001b[39m'\u001b[39m\u001b[39mMaxNLocator\u001b[39m\u001b[39m'\u001b[39m, \u001b[39m'\u001b[39m\u001b[39mAutoMinorLocator\u001b[39m\u001b[39m'\u001b[39m,\n\u001b[0;32m    156\u001b[0m            \u001b[39m'\u001b[39m\u001b[39mSymmetricalLogLocator\u001b[39m\u001b[39m'\u001b[39m, \u001b[39m'\u001b[39m\u001b[39mAsinhLocator\u001b[39m\u001b[39m'\u001b[39m, \u001b[39m'\u001b[39m\u001b[39mLogitLocator\u001b[39m\u001b[39m'\u001b[39m)\n",
      "File \u001b[1;32mc:\\projects\\alura_postech\\tech_challenge_fase01\\wineData\\.venv\\Lib\\site-packages\\matplotlib\\transforms.py:49\u001b[0m\n\u001b[0;32m     46\u001b[0m \u001b[39mfrom\u001b[39;00m \u001b[39mnumpy\u001b[39;00m\u001b[39m.\u001b[39;00m\u001b[39mlinalg\u001b[39;00m \u001b[39mimport\u001b[39;00m inv\n\u001b[0;32m     48\u001b[0m \u001b[39mfrom\u001b[39;00m \u001b[39mmatplotlib\u001b[39;00m \u001b[39mimport\u001b[39;00m _api\n\u001b[1;32m---> 49\u001b[0m \u001b[39mfrom\u001b[39;00m \u001b[39mmatplotlib\u001b[39;00m\u001b[39m.\u001b[39;00m\u001b[39m_path\u001b[39;00m \u001b[39mimport\u001b[39;00m (\n\u001b[0;32m     50\u001b[0m     affine_transform, count_bboxes_overlapping_bbox, update_path_extents)\n\u001b[0;32m     51\u001b[0m \u001b[39mfrom\u001b[39;00m \u001b[39m.\u001b[39;00m\u001b[39mpath\u001b[39;00m \u001b[39mimport\u001b[39;00m Path\n\u001b[0;32m     53\u001b[0m DEBUG \u001b[39m=\u001b[39m \u001b[39mFalse\u001b[39;00m\n",
      "\u001b[1;31mImportError\u001b[0m: DLL load failed while importing _path: Não foi possível encontrar o módulo especificado."
     ]
    }
   ],
   "source": [
    "# importa as bibliotecas e carrega os dados\n",
    "import plotly.express as px\n",
    "import polars as pl\n",
    "from itables import show\n",
    "import plotly.io as pio\n",
    "import warnings\n",
    "import statsmodels.api as sm\n",
    "from statsmodels.tsa.seasonal import seasonal_decompose\n",
    "import matplotlib.pyplot as plt\n",
    "\n",
    "plt.style.use(\"ggplot\")\n",
    "\n",
    "\n",
    "warnings.filterwarnings(\"ignore\")"
   ]
  },
  {
   "cell_type": "code",
   "execution_count": null,
   "metadata": {},
   "outputs": [],
   "source": [
    "# estilização de figuras e tabelas\n",
    "fig_w, fig_h = 800, 600\n",
    "pio.templates.default = \"plotly_white\""
   ]
  },
  {
   "cell_type": "markdown",
   "metadata": {},
   "source": []
  },
  {
   "cell_type": "markdown",
   "metadata": {},
   "source": [
    "Primeiramente analisaremos a série dos dados de quantidade e valor exportado a partir dos dados  extraídos diretamente do Comexstat. Tal escolha decorreu do fato de que, havendo a fonte primária, é preferível utilizar os dados dela proveniente com vistas a garantir a fidedignidade dos dados. Outro ponto que nos fez optar pelo uso dos dados do Comexstat é que assim pudemos ter acesso aos dados também em base mensal, os quais são úteis para análises mais completas."
   ]
  },
  {
   "cell_type": "code",
   "execution_count": null,
   "metadata": {},
   "outputs": [
    {
     "data": {
      "text/html": [
       "<div><style>\n",
       ".dataframe > thead > tr > th,\n",
       ".dataframe > tbody > tr > td {\n",
       "  text-align: right;\n",
       "  white-space: pre-wrap;\n",
       "}\n",
       "</style>\n",
       "<small>shape: (1, 107)</small><table border=\"1\" class=\"dataframe\"><thead><tr><th>country</th><th>1970</th><th>1970_duplicated_0</th><th>1971</th><th>1971_duplicated_0</th><th>1972</th><th>1972_duplicated_0</th><th>1973</th><th>1973_duplicated_0</th><th>1974</th><th>1974_duplicated_0</th><th>1975</th><th>1975_duplicated_0</th><th>1976</th><th>1976_duplicated_0</th><th>1977</th><th>1977_duplicated_0</th><th>1978</th><th>1978_duplicated_0</th><th>1979</th><th>1979_duplicated_0</th><th>1980</th><th>1980_duplicated_0</th><th>1981</th><th>1981_duplicated_0</th><th>1982</th><th>1982_duplicated_0</th><th>1983</th><th>1983_duplicated_0</th><th>1984</th><th>1984_duplicated_0</th><th>1985</th><th>1985_duplicated_0</th><th>1986</th><th>1986_duplicated_0</th><th>1987</th><th>1987_duplicated_0</th><th>&hellip;</th><th>2004_duplicated_0</th><th>2005</th><th>2005_duplicated_0</th><th>2006</th><th>2006_duplicated_0</th><th>2007</th><th>2007_duplicated_0</th><th>2008</th><th>2008_duplicated_0</th><th>2009</th><th>2009_duplicated_0</th><th>2010</th><th>2010_duplicated_0</th><th>2011</th><th>2011_duplicated_0</th><th>2012</th><th>2012_duplicated_0</th><th>2013</th><th>2013_duplicated_0</th><th>2014</th><th>2014_duplicated_0</th><th>2015</th><th>2015_duplicated_0</th><th>2016</th><th>2016_duplicated_0</th><th>2017</th><th>2017_duplicated_0</th><th>2018</th><th>2018_duplicated_0</th><th>2019</th><th>2019_duplicated_0</th><th>2020</th><th>2020_duplicated_0</th><th>2021</th><th>2021_duplicated_0</th><th>2022</th><th>2022_duplicated_0</th></tr><tr><td>str</td><td>i64</td><td>i64</td><td>i64</td><td>i64</td><td>i64</td><td>i64</td><td>i64</td><td>i64</td><td>i64</td><td>i64</td><td>i64</td><td>i64</td><td>i64</td><td>i64</td><td>i64</td><td>i64</td><td>i64</td><td>i64</td><td>i64</td><td>i64</td><td>i64</td><td>i64</td><td>i64</td><td>i64</td><td>i64</td><td>i64</td><td>i64</td><td>i64</td><td>i64</td><td>i64</td><td>i64</td><td>i64</td><td>i64</td><td>i64</td><td>i64</td><td>i64</td><td>&hellip;</td><td>i64</td><td>i64</td><td>i64</td><td>i64</td><td>i64</td><td>i64</td><td>i64</td><td>i64</td><td>i64</td><td>i64</td><td>i64</td><td>i64</td><td>i64</td><td>i64</td><td>i64</td><td>i64</td><td>i64</td><td>i64</td><td>i64</td><td>i64</td><td>i64</td><td>i64</td><td>i64</td><td>i64</td><td>i64</td><td>i64</td><td>i64</td><td>i64</td><td>i64</td><td>i64</td><td>i64</td><td>i64</td><td>i64</td><td>i64</td><td>i64</td><td>i64</td><td>i64</td></tr></thead><tbody><tr><td>&quot;Rússia&quot;</td><td>0</td><td>0</td><td>0</td><td>0</td><td>0</td><td>0</td><td>0</td><td>0</td><td>0</td><td>0</td><td>0</td><td>0</td><td>0</td><td>0</td><td>0</td><td>0</td><td>0</td><td>0</td><td>0</td><td>0</td><td>0</td><td>0</td><td>0</td><td>0</td><td>0</td><td>0</td><td>0</td><td>0</td><td>0</td><td>0</td><td>0</td><td>0</td><td>0</td><td>0</td><td>0</td><td>0</td><td>&hellip;</td><td>0</td><td>177600</td><td>71988</td><td>334200</td><td>164744</td><td>266400</td><td>173160</td><td>6207658</td><td>2352768</td><td>21912914</td><td>5732280</td><td>0</td><td>0</td><td>0</td><td>0</td><td>4528176</td><td>2103968</td><td>5893291</td><td>14795694</td><td>190656</td><td>61440</td><td>47664</td><td>18240</td><td>0</td><td>0</td><td>0</td><td>0</td><td>0</td><td>0</td><td>0</td><td>0</td><td>1463</td><td>8550</td><td>181931</td><td>312926</td><td>66046</td><td>118618</td></tr></tbody></table></div>"
      ],
      "text/plain": [
       "shape: (1, 107)\n",
       "┌─────────┬──────┬─────────────────┬──────┬───┬────────┬─────────────────┬───────┬─────────────────┐\n",
       "│ country ┆ 1970 ┆ 1970_duplicated ┆ 1971 ┆ … ┆ 2021   ┆ 2021_duplicated ┆ 2022  ┆ 2022_duplicated │\n",
       "│ ---     ┆ ---  ┆ _0              ┆ ---  ┆   ┆ ---    ┆ _0              ┆ ---   ┆ _0              │\n",
       "│ str     ┆ i64  ┆ ---             ┆ i64  ┆   ┆ i64    ┆ ---             ┆ i64   ┆ ---             │\n",
       "│         ┆      ┆ i64             ┆      ┆   ┆        ┆ i64             ┆       ┆ i64             │\n",
       "╞═════════╪══════╪═════════════════╪══════╪═══╪════════╪═════════════════╪═══════╪═════════════════╡\n",
       "│ Rússia  ┆ 0    ┆ 0               ┆ 0    ┆ … ┆ 181931 ┆ 312926          ┆ 66046 ┆ 118618          │\n",
       "└─────────┴──────┴─────────────────┴──────┴───┴────────┴─────────────────┴───────┴─────────────────┘"
      ]
     },
     "execution_count": 76,
     "metadata": {},
     "output_type": "execute_result"
    }
   ],
   "source": [
    "# carrega os dados de importação de vinhos (dados da página indica)\n",
    "exp_vinho_viti = (\n",
    "    pl.read_csv(\"../data/ExpVinho.csv\", separator=\";\")\n",
    "    .rename({\"País\": \"country\"})\n",
    "    .drop(\"Id\")\n",
    ")\n",
    "\n",
    "exp_vinho_viti.filter(pl.col(\"country\") == \"Rússia\")\n",
    "# dados de quantidade exportada\n",
    "# exp_vinho_qty = exp_vinho.select(\n",
    "#     cs.by_name(\"country\")\n",
    "#     #| cs.by_name(\"iso_alpha\")\n",
    "#     #| cs.by_name(\"continent\")\n",
    "#     #| cs.ends_with(\"_0\") & cs.starts_with(\"2\")\n",
    "# )\n",
    "# exp_vinho_qty.columns = [\n",
    "#     col.replace(\"_duplicated_0\", \"\") for col in exp_vinho_qty.columns\n",
    "# ]\n",
    "\n",
    "# # dados de exportação em valor (US$)\n",
    "# exp_vinho_val = exp_vinho.select(\n",
    "#     cs.by_name(\"country\")\n",
    "#     #| cs.by_name(\"iso_alpha\")\n",
    "#     #| cs.by_name(\"continent\")\n",
    "#     | ~cs.ends_with(\"_0\") & cs.starts_with(\"2\")\n",
    "# )"
   ]
  },
  {
   "cell_type": "markdown",
   "metadata": {},
   "source": [
    "# Série Anual - extraída do Comexstat"
   ]
  },
  {
   "cell_type": "code",
   "execution_count": null,
   "metadata": {
    "executionInfo": {
     "elapsed": 761,
     "status": "ok",
     "timestamp": 1700425895944,
     "user": {
      "displayName": "Carlos Neves",
      "userId": "12912154966366425425"
     },
     "user_tz": 180
    },
    "id": "tQD8kGImRuxf"
   },
   "outputs": [],
   "source": [
    "# carrega dados extraídos do sistema do MDIC na forma de\n",
    "exp_vinho = (\n",
    "    pl.read_csv(\"../data/EXP_VINHO_2000_2022_20231118_anual.csv\", separator=\";\").rename(\n",
    "        {\n",
    "            \"Ano\": \"year\",\n",
    "            \"Países\": \"country\",\n",
    "            \"Valor FOB (US$)\": \"value\",\n",
    "            \"Quilograma Líquido\": \"quantity\",\n",
    "        }\n",
    "    )\n",
    ").drop([\"Código CUCI Item\", \"Descrição CUCI Item\"])\n",
    "\n",
    "\n",
    "# carrega os dados com as colunas necessárias para posterior plotagem dos dados em mapa\n",
    "df = px.data.gapminder()\n",
    "\n",
    "geo_info = (\n",
    "    df.groupby([\"country\", \"iso_alpha\"])\n",
    "    .first()\n",
    "    .reset_index()[[\"country\", \"iso_alpha\", \"continent\"]]\n",
    ")\n",
    "\n",
    "# carrega os nomes dos países em inglês e em português para os países\n",
    "countries_names = pl.read_csv(\"../data/countries_names.csv\", truncate_ragged_lines=True)\n",
    "\n",
    "# exp_vinho = pl.DataFrame.join(pl.from_dataframe(geo_info), exp_vinho, on=\"country\")"
   ]
  },
  {
   "cell_type": "code",
   "execution_count": null,
   "metadata": {},
   "outputs": [
    {
     "data": {
      "text/html": [
       "<style>.itables table td {\n",
       "    text-overflow: ellipsis;\n",
       "    overflow: hidden;\n",
       "}\n",
       "\n",
       ".itables table th {\n",
       "    text-overflow: ellipsis;\n",
       "    overflow: hidden;\n",
       "}\n",
       "\n",
       ".itables thead input {\n",
       "    width: 100%;\n",
       "    padding: 3px;\n",
       "    box-sizing: border-box;\n",
       "}\n",
       "\n",
       ".itables tfoot input {\n",
       "    width: 100%;\n",
       "    padding: 3px;\n",
       "    box-sizing: border-box;\n",
       "}\n",
       "</style>\n",
       "<div class=\"itables\">\n",
       "<table id=\"4cfb51c7-93eb-4a4e-b4e2-817c6c697b15\" class=\"display nowrap\"style=\"table-layout:auto;width:auto;margin:auto;caption-side:bottom\"><thead>\n",
       "    <tr style=\"text-align: right;\">\n",
       "      \n",
       "      <th>year</th>\n",
       "      <th>country</th>\n",
       "      <th>value</th>\n",
       "      <th>quantity</th>\n",
       "    </tr>\n",
       "  </thead><tbody><tr><td>Loading... (need <a href=https://mwouts.github.io/itables/troubleshooting.html>help</a>?)</td></tr></tbody></table>\n",
       "<link rel=\"stylesheet\" type=\"text/css\" href=\"https://cdn.datatables.net/1.13.1/css/jquery.dataTables.min.css\">\n",
       "<script type=\"module\">\n",
       "    // Import jquery and DataTable\n",
       "    import 'https://code.jquery.com/jquery-3.6.0.min.js';\n",
       "    import dt from 'https://cdn.datatables.net/1.12.1/js/jquery.dataTables.mjs';\n",
       "    dt($);\n",
       "\n",
       "    // Define the table data\n",
       "    const data = [[2022, \"Paraguai\", 7156293, 5076670], [2022, \"Uruguai\", 997367, 637117], [2022, \"Haiti\", 741014, 553503], [2022, \"Estados Unidos\", 447893, 220373], [2022, \"China\", 404647, 105395], [2022, \"Reino Unido\", 138154, 18835], [2022, \"R\\u00fassia\", 118618, 66046], [2022, \"Emirados \\u00c1rabes Unidos\", 85465, 4781], [2022, \"Jap\\u00e3o\", 82208, 37324], [2022, \"Cura\\u00e7ao\", 66950, 40673], [2022, \"Nig\\u00e9ria\", 50283, 32234], [2022, \"Panam\\u00e1\", 49392, 11490], [2022, \"Gana\", 49304, 35949], [2022, \"Bol\\u00edvia\", 49011, 32530], [2022, \"Alemanha\", 45367, 7630], [2022, \"Noruega\", 40316, 2711], [2022, \"Hong Kong\", 38218, 9371], [2022, \"Pa\\u00edses Baixos (Holanda)\", 37240, 7034], [2022, \"Lib\\u00e9ria\", 34815, 9145], [2022, \"Venezuela\", 32351, 23220], [2022, \"Marshall, Ilhas\", 27178, 7240], [2022, \"Togo\", 25608, 17317], [2022, \"Fran\\u00e7a\", 25008, 5694], [2022, \"Su\\u00ed\\u00e7a\", 20863, 1584], [2022, \"Malta\", 15587, 3127], [2022, \"Singapura\", 15434, 4322], [2022, \"Serra Leoa\", 15182, 8101], [2022, \"Col\\u00f4mbia\", 14068, 8217], [2022, \"Austr\\u00e1lia\", 12299, 1424], [2022, \"Tcheca, Rep\\u00fablica\", 9997, 1305], [2022, \"Chile\", 7986, 2094], [2022, \"Granada\", 7914, 5610], [2022, \"Portugal\", 7613, 1918], [2022, \"It\\u00e1lia\", 6151, 1129], [2022, \"B\\u00e9lgica\", 6145, 828], [2022, \"Guiana\", 5823, 2064], [2022, \"Bahamas\", 5799, 1215], [2022, \"Canad\\u00e1\", 5784, 1183], [2022, \"Guatemala\", 5350, 1283], [2022, \"Angola\", 4761, 4068], [2022, \"Chipre\", 4458, 1521], [2022, \"Suriname\", 3360, 1225], [2022, \"Argentina\", 3232, 480], [2022, \"Barein\", 2789, 979], [2022, \"Gr\\u00e9cia\", 2426, 920], [2022, \"Dominica\", 2223, 1485], [2022, \"Qu\\u00eania\", 2080, 1440], [2022, \"Mo\\u00e7ambique\", 1927, 383], [2022, \"Ant\\u00edgua e Barbuda\", 1866, 419], [2022, \"Tail\\u00e2ndia\", 1713, 432], [2022, \"Barbados\", 1145, 220], [2022, \"\\u00cdndia\", 1021, 247], [2022, \"Cayman, Ilhas\", 958, 160], [2022, \"Brasil\", 952, 2504], [2022, \"Luxemburgo\", 802, 36], [2022, \"Filipinas\", 790, 375], [2022, \"Om\\u00e3\", 670, 194], [2022, \"Ilha de Man\", 641, 165], [2022, \"Turquia\", 503, 418], [2022, \"Cro\\u00e1cia\", 484, 34], [2022, \"Vietn\\u00e3\", 277, 130], [2022, \"Taiwan (Formosa)\", 277, 25], [2022, \"Coreia do Sul\", 257, 77], [2022, \"\\u00c1ustria\", 212, 6], [2022, \"Equador\", 210, 135], [2022, \"Nova Zel\\u00e2ndia\", 156, 63], [2022, \"Ir\\u00e3\", 90, 47], [2022, \"Bangladesh\", 84, 7], [2022, \"Cocos (Keeling), Ilhas\", 60, 26], [2022, \"S\\u00e3o Vicente e Granadinas\", 51, 20], [2022, \"M\\u00e9xico\", 33, 6], [2022, \"Bulg\\u00e1ria\", 31, 5], [2022, \"Guiana Francesa\", 18, 22], [2022, \"Su\\u00e9cia\", 18, 5], [2022, \"Cuba\", 6, 16], [2022, \"Dinamarca\", 6, 2], [2021, \"Paraguai\", 7192362, 6522527], [2021, \"Haiti\", 831181, 670379], [2021, \"R\\u00fassia\", 312926, 181931], [2021, \"China\", 264116, 61884], [2021, \"Estados Unidos\", 203554, 111085], [2021, \"Uruguai\", 149842, 136774], [2021, \"Reino Unido\", 122394, 25316], [2021, \"Nig\\u00e9ria\", 113172, 68247], [2021, \"Jap\\u00e3o\", 90275, 39491], [2021, \"Cura\\u00e7ao\", 58993, 32263], [2021, \"Panam\\u00e1\", 48444, 29520], [2021, \"Portugal\", 42633, 6358], [2021, \"Hong Kong\", 39390, 12507], [2021, \"Venezuela\", 35944, 26415], [2021, \"Guatemala\", 29100, 17347], [2021, \"Fran\\u00e7a\", 23742, 7052], [2021, \"Lib\\u00e9ria\", 23060, 7554], [2021, \"Marshall, Ilhas\", 22561, 8644], [2021, \"Col\\u00f4mbia\", 21867, 12160], [2021, \"Gana\", 19196, 12578], [2021, \"Peru\", 17107, 9720], [2021, \"Malta\", 15454, 3441], [2021, \"Singapura\", 14346, 4504], [2021, \"Serra Leoa\", 12955, 6525], [2021, \"Nova Caled\\u00f4nia\", 11924, 7227], [2021, \"Emirados \\u00c1rabes Unidos\", 10522, 810], [2021, \"Nova Zel\\u00e2ndia\", 10477, 657], [2021, \"Filipinas\", 10368, 2784], [2021, \"Pa\\u00edses Baixos (Holanda)\", 8484, 3791], [2021, \"Bol\\u00edvia\", 8360, 5850], [2021, \"Noruega\", 8320, 1878], [2021, \"Taiwan (Formosa)\", 8153, 1313], [2021, \"Su\\u00ed\\u00e7a\", 6999, 627], [2021, \"Alemanha\", 6741, 2698], [2021, \"Guiana\", 6525, 2372], [2021, \"Canad\\u00e1\", 6157, 1172], [2021, \"Tcheca, Rep\\u00fablica\", 5988, 456], [2021, \"Bahamas\", 4567, 1083], [2021, \"Chipre\", 4530, 1855], [2021, \"Austr\\u00e1lia\", 4034, 705], [2021, \"B\\u00e9lgica\", 3749, 483], [2021, \"It\\u00e1lia\", 3715, 696], [2021, \"Gr\\u00e9cia\", 3014, 908], [2021, \"Tail\\u00e2ndia\", 2529, 1334], [2021, \"Ant\\u00edgua e Barbuda\", 2268, 805], [2021, \"Togo\", 2012, 1890], [2021, \"Suriname\", 1472, 900], [2021, \"Barein\", 894, 302], [2021, \"Turquia\", 878, 343], [2021, \"Barbados\", 844, 216], [2021, \"Dominica\", 634, 460], [2021, \"Hungria\", 583, 87], [2021, \"Dinamarca\", 504, 87], [2021, \"Ilha de Man\", 445, 97], [2021, \"Cayman, Ilhas\", 356, 104], [2021, \"Ir\\u00e3\", 287, 116], [2021, \"Irlanda\", 208, 36], [2021, \"Cabo Verde\", 124, 16], [2021, \"Coreia do Sul\", 100, 67], [2021, \"\\u00cdndia\", 86, 13], [2021, \"Maurit\\u00e2nia\", 85, 9], [2021, \"Su\\u00e9cia\", 74, 23], [2021, \"Montenegro\", 65, 14], [2021, \"S\\u00e3o Vicente e Granadinas\", 48, 8], [2021, \"Brasil\", 46, 31], [2021, \"Afeganist\\u00e3o\", 46, 11], [2021, \"Guiana Francesa\", 32, 90], [2021, \"Suazil\\u00e2ndia\", 24, 10], [2021, \"Bangladesh\", 20, 2], [2021, \"Pol\\u00f4nia\", 14, 4], [2021, \"Argentina\", 13, 6], [2021, \"Chile\", 6, 26], [2021, \"M\\u00e9xico\", 2, 9], [2021, \"Catar\", 2, 1], [2020, \"Paraguai\", 3869245, 3299020], [2020, \"Estados Unidos\", 610770, 300351], [2020, \"Haiti\", 471153, 399128], [2020, \"China\", 363002, 122272], [2020, \"Jap\\u00e3o\", 92675, 36443], [2020, \"Reino Unido\", 82728, 22915], [2020, \"Cura\\u00e7ao\", 65987, 47965], [2020, \"Fran\\u00e7a\", 57145, 12621], [2020, \"Hong Kong\", 41990, 15191], [2020, \"Portugal\", 34500, 8047], [2020, \"Alemanha\", 32606, 6262], [2020, \"Panam\\u00e1\", 28371, 10857], [2020, \"Su\\u00ed\\u00e7a\", 27930, 2827], [2020, \"Nig\\u00e9ria\", 26514, 12095], [2020, \"Col\\u00f4mbia\", 23780, 15660], [2020, \"Gana\", 22027, 18810], [2020, \"B\\u00e9lgica\", 20461, 3167], [2020, \"Marshall, Ilhas\", 19636, 6289], [2020, \"Guatemala\", 18094, 6863], [2020, \"Lib\\u00e9ria\", 17625, 5175], [2020, \"Bol\\u00edvia\", 16025, 9900], [2020, \"Noruega\", 15135, 1865], [2020, \"Serra Leoa\", 13051, 9240], [2020, \"Venezuela\", 9808, 4086], [2020, \"Malta\", 9686, 3498], [2020, \"Singapura\", 9320, 4050], [2020, \"R\\u00fassia\", 8550, 1463], [2020, \"Canad\\u00e1\", 8431, 1672], [2020, \"Chipre\", 6790, 2488], [2020, \"Suriname\", 5277, 4185], [2020, \"Luxemburgo\", 5110, 1086], [2020, \"Tcheca, Rep\\u00fablica\", 4805, 564], [2020, \"Taiwan (Formosa)\", 4671, 967], [2020, \"Argentina\", 4176, 1016], [2020, \"Equador\", 3824, 3780], [2020, \"Bahamas\", 3703, 1218], [2020, \"Austr\\u00e1lia\", 3413, 1013], [2020, \"Gr\\u00e9cia\", 2859, 772], [2020, \"Guiana\", 2578, 990], [2020, \"Emirados \\u00c1rabes Unidos\", 2280, 581], [2020, \"Dinamarca\", 1962, 659], [2020, \"Ant\\u00edgua e Barbuda\", 1866, 624], [2020, \"Tail\\u00e2ndia\", 1754, 539], [2020, \"Filipinas\", 1547, 721], [2020, \"Pa\\u00edses Baixos (Holanda)\", 1534, 250], [2020, \"Vietn\\u00e3\", 583, 87], [2020, \"Nova Zel\\u00e2ndia\", 515, 95], [2020, \"Coreia do Sul\", 433, 103], [2020, \"It\\u00e1lia\", 377, 91], [2020, \"Cayman, Ilhas\", 338, 123], [2020, \"Irlanda\", 258, 30], [2020, \"M\\u00e9xico\", 226, 26], [2020, \"Camar\\u00f5es\", 178, 0], [2020, \"Barbados\", 169, 144], [2020, \"Espanha\", 127, 28], [2020, \"Cro\\u00e1cia\", 122, 20], [2020, \"Ilha de Man\", 121, 11], [2020, \"Pol\\u00f4nia\", 86, 74], [2020, \"B\\u00f3snia-Herzegovina\", 52, 45], [2020, \"Jord\\u00e2nia\", 52, 12], [2020, \"Ir\\u00e3\", 35, 21], [2020, \"Vanuatu\", 31, 18], [2020, \"Bangladesh\", 30, 4], [2020, \"Barein\", 28, 8], [2020, \"Comores\", 25, 9], [2020, \"Su\\u00e9cia\", 24, 6], [2020, \"\\u00c1frica do Sul\", 21, 4], [2020, \"Montenegro\", 20, 10], [2020, \"Chile\", 13, 11], [2020, \"\\u00cdndia\", 10, 7], [2020, \"Indon\\u00e9sia\", 6, 5], [2020, \"Tuvalu\", 4, 2], [2019, \"Paraguai\", 4009589, 2532097], [2019, \"Estados Unidos\", 616085, 210398], [2019, \"China\", 387734, 132835], [2019, \"Reino Unido\", 164591, 34303], [2019, \"Pa\\u00edses Baixos (Holanda)\", 148032, 44886], [2019, \"Haiti\", 129803, 81873], [2019, \"Jap\\u00e3o\", 99657, 40627], [2019, \"Portugal\", 72341, 18586], [2019, \"Fran\\u00e7a\", 67073, 18291], [2019, \"Cura\\u00e7ao\", 62069, 33959], [2019, \"Hong Kong\", 42263, 9707], [2019, \"Nig\\u00e9ria\", 38554, 28437], [2019, \"Panam\\u00e1\", 29943, 8506], [2019, \"Su\\u00ed\\u00e7a\", 28503, 2222], [2019, \"Alemanha\", 25471, 3666], [2019, \"Lib\\u00e9ria\", 20501, 4592], [2019, \"Singapura\", 19106, 5056], [2019, \"Uruguai\", 18496, 6188], [2019, \"Peru\", 17311, 9756], [2019, \"Tcheca, Rep\\u00fablica\", 16391, 2115], [2019, \"Marshall, Ilhas\", 15910, 7302], [2019, \"B\\u00e9lgica\", 12548, 2498], [2019, \"Luxemburgo\", 11213, 1666], [2019, \"Gana\", 10009, 7673], [2019, \"Malta\", 9128, 3703], [2019, \"Guatemala\", 8719, 1606], [2019, \"Canad\\u00e1\", 6932, 1590], [2019, \"Suriname\", 4740, 3207], [2019, \"Austr\\u00e1lia\", 4683, 1162], [2019, \"Noruega\", 3224, 632], [2019, \"Bahamas\", 3121, 793], [2019, \"Nova Zel\\u00e2ndia\", 2833, 500], [2019, \"Filipinas\", 2486, 733], [2019, \"Emirados \\u00c1rabes Unidos\", 2202, 450], [2019, \"Barein\", 2141, 481], [2019, \"Gr\\u00e9cia\", 2026, 570], [2019, \"Col\\u00f4mbia\", 1999, 898], [2019, \"Chipre\", 1838, 672], [2019, \"It\\u00e1lia\", 1626, 588], [2019, \"Ant\\u00edgua e Barbuda\", 1550, 219], [2019, \"Espanha\", 1353, 3541], [2019, \"Guiana\", 1311, 424], [2019, \"Angola\", 1065, 345], [2019, \"Tail\\u00e2ndia\", 831, 128], [2019, \"Su\\u00e9cia\", 762, 30], [2019, \"Serra Leoa\", 717, 18], [2019, \"Dinamarca\", 598, 264], [2019, \"Barbados\", 394, 35], [2019, \"\\u00cdndia\", 273, 51], [2019, \"Turquia\", 209, 115], [2019, \"Coreia do Sul\", 194, 71], [2019, \"Ilha de Man\", 175, 28], [2019, \"Mal\\u00e1sia\", 110, 48], [2019, \"Cayman, Ilhas\", 106, 20], [2019, \"\\u00c1frica do Sul\", 94, 26], [2019, \"Gibraltar\", 94, 22], [2019, \"Taiwan (Formosa)\", 67, 12], [2019, \"Montenegro\", 46, 9], [2019, \"Vietn\\u00e3\", 32, 20], [2019, \"Belize\", 29, 9], [2019, \"Pol\\u00f4nia\", 10, 5], [2019, \"Benin\", 9, 9], [2019, \"Catar\", 5, 0], [2019, \"M\\u00e9xico\", 4, 4], [2019, \"Equador\", 3, 3], [2018, \"Paraguai\", 5492926, 3234214], [2018, \"Estados Unidos\", 512488, 169577], [2018, \"Reino Unido\", 296747, 67788], [2018, \"Haiti\", 144425, 79500], [2018, \"China\", 126358, 30866], [2018, \"Jap\\u00e3o\", 112342, 36993], [2018, \"Argentina\", 59070, 16071], [2018, \"Bol\\u00edvia\", 57424, 21566], [2018, \"B\\u00e9lgica\", 52812, 7497], [2018, \"Fran\\u00e7a\", 48274, 11138], [2018, \"Alemanha\", 45171, 10878], [2018, \"Cura\\u00e7ao\", 43678, 23933], [2018, \"Chile\", 42787, 11357], [2018, \"Su\\u00e9cia\", 34563, 8062], [2018, \"Pa\\u00edses Baixos (Holanda)\", 32395, 9451], [2018, \"Portugal\", 31228, 6826], [2018, \"Uruguai\", 28832, 7780], [2018, \"Guin\\u00e9 Equatorial\", 26808, 8389], [2018, \"Col\\u00f4mbia\", 26257, 7068], [2018, \"Irlanda\", 25767, 7560], [2018, \"Espanha\", 22607, 6252], [2018, \"Tcheca, Rep\\u00fablica\", 20980, 2712], [2018, \"Canad\\u00e1\", 20359, 5308], [2018, \"Peru\", 19355, 5311], [2018, \"Taiwan (Formosa)\", 18422, 7590], [2018, \"Filipinas\", 16205, 9609], [2018, \"Gana\", 13460, 9000], [2018, \"It\\u00e1lia\", 13245, 3753], [2018, \"Singapura\", 11614, 3298], [2018, \"Luxemburgo\", 11053, 1778], [2018, \"Noruega\", 9847, 1294], [2018, \"M\\u00e9xico\", 9732, 2800], [2018, \"Hong Kong\", 9056, 1746], [2018, \"Austr\\u00e1lia\", 6902, 2055], [2018, \"Nig\\u00e9ria\", 6250, 5175], [2018, \"Cuba\", 5685, 4774], [2018, \"Nova Zel\\u00e2ndia\", 5565, 969], [2018, \"Pol\\u00f4nia\", 4679, 720], [2018, \"Panam\\u00e1\", 3154, 1184], [2018, \"Lib\\u00e9ria\", 3102, 656], [2018, \"Marshall, Ilhas\", 2486, 926], [2018, \"S\\u00e3o Tom\\u00e9 e Pr\\u00edncipe\", 2357, 2184], [2018, \"Emirados \\u00c1rabes Unidos\", 1762, 360], [2018, \"Malta\", 1193, 505], [2018, \"Gr\\u00e9cia\", 731, 232], [2018, \"Angola\", 710, 477], [2018, \"Bahamas\", 635, 140], [2018, \"Chipre\", 480, 281], [2018, \"Venezuela\", 353, 74], [2018, \"Cayman, Ilhas\", 203, 19], [2018, \"Ant\\u00edgua e Barbuda\", 191, 36], [2018, \"Turquia\", 149, 361], [2018, \"Coreia do Sul\", 93, 118], [2018, \"Cabo Verde\", 48, 18], [2018, \"Tail\\u00e2ndia\", 46, 8], [2018, \"Mal\\u00e1sia\", 32, 15], [2017, \"Paraguai\", 4274652, 2393470], [2017, \"Estados Unidos\", 1523700, 132702], [2017, \"China\", 266087, 67594], [2017, \"Reino Unido\", 242884, 60711], [2017, \"Jap\\u00e3o\", 96477, 35421], [2017, \"Alemanha\", 88712, 15512], [2017, \"Catar\", 81606, 13338], [2017, \"Su\\u00ed\\u00e7a\", 74816, 6525], [2017, \"Cuba\", 72236, 62783], [2017, \"Su\\u00e9cia\", 64953, 15445], [2017, \"Angola\", 61680, 10170], [2017, \"Taiwan (Formosa)\", 43954, 14989], [2017, \"Canad\\u00e1\", 30658, 6075], [2017, \"Guin\\u00e9 Equatorial\", 30563, 2639], [2017, \"Bol\\u00edvia\", 23085, 9495], [2017, \"Cura\\u00e7ao\", 23011, 12342], [2017, \"Luxemburgo\", 21947, 2719], [2017, \"Fran\\u00e7a\", 21654, 4253], [2017, \"Tcheca, Rep\\u00fablica\", 16947, 2746], [2017, \"B\\u00e9lgica\", 16405, 2790], [2017, \"Hong Kong\", 9098, 1948], [2017, \"Antilhas Holandesas\", 8550, 5400], [2017, \"Nova Zel\\u00e2ndia\", 8139, 1678], [2017, \"Austr\\u00e1lia\", 7500, 1350], [2017, \"Camar\\u00f5es\", 7476, 1749], [2017, \"Suriname\", 5638, 3690], [2017, \"Let\\u00f4nia\", 3723, 387], [2017, \"Emirados \\u00c1rabes Unidos\", 3302, 675], [2017, \"Dinamarca\", 2829, 581], [2017, \"Venezuela\", 2646, 680], [2017, \"M\\u00e9xico\", 2292, 664], [2017, \"It\\u00e1lia\", 2248, 468], [2017, \"Bulg\\u00e1ria\", 1579, 117], [2017, \"Guin\\u00e9-Bissau\", 90, 48], [2016, \"Paraguai\", 1655415, 985739], [2016, \"Estados Unidos\", 687411, 258073], [2016, \"Reino Unido\", 536680, 117045], [2016, \"China\", 499622, 134106], [2016, \"Pa\\u00edses Baixos (Holanda)\", 190203, 42953], [2016, \"Jap\\u00e3o\", 90954, 34341], [2016, \"Hong Kong\", 86199, 6975], [2016, \"Taiwan (Formosa)\", 80378, 16969], [2016, \"Canad\\u00e1\", 71096, 13711], [2016, \"Cuba\", 69821, 63732], [2016, \"Alemanha\", 68109, 14012], [2016, \"B\\u00e9lgica\", 46534, 7200], [2016, \"Finl\\u00e2ndia\", 41003, 7617], [2016, \"Bol\\u00edvia\", 37235, 18627], [2016, \"Pol\\u00f4nia\", 35402, 11457], [2016, \"Angola\", 35390, 7359], [2016, \"Su\\u00ed\\u00e7a\", 33340, 4230], [2016, \"Fran\\u00e7a\", 30055, 6037], [2016, \"Tcheca, Rep\\u00fablica\", 28474, 3837], [2016, \"Antilhas Holandesas\", 26450, 16641], [2016, \"Luxemburgo\", 21426, 2759], [2016, \"Austr\\u00e1lia\", 13799, 1954], [2016, \"Singapura\", 13199, 5445], [2016, \"Nova Zel\\u00e2ndia\", 9472, 504], [2016, \"Dinamarca\", 8171, 1278], [2016, \"\\u00c1ustria\", 5220, 675], [2016, \"Est\\u00f4nia\", 4800, 900], [2016, \"It\\u00e1lia\", 3465, 585], [2016, \"Emirados \\u00c1rabes Unidos\", 2760, 585], [2016, \"Suriname\", 1375, 900], [2016, \"Su\\u00e9cia\", 1214, 291], [2016, \"Coreia do Sul\", 20, 8], [2015, \"Paraguai\", 741370, 495428], [2015, \"Estados Unidos\", 524109, 195896], [2015, \"Reino Unido\", 308407, 68382], [2015, \"China\", 222866, 47609], [2015, \"Pa\\u00edses Baixos (Holanda)\", 186464, 44987], [2015, \"Canad\\u00e1\", 118394, 24547], [2015, \"Cuba\", 108864, 97965], [2015, \"Jap\\u00e3o\", 87853, 31597], [2015, \"Su\\u00ed\\u00e7a\", 85790, 15872], [2015, \"Austr\\u00e1lia\", 48011, 7437], [2015, \"Alemanha\", 44780, 10680], [2015, \"Pol\\u00f4nia\", 42781, 11654], [2015, \"Portugal\", 42586, 47736], [2015, \"Dinamarca\", 29306, 7080], [2015, \"B\\u00e9lgica\", 26399, 4473], [2015, \"Taiwan (Formosa)\", 23940, 7200], [2015, \"R\\u00fassia\", 18240, 47664], [2015, \"Luxemburgo\", 17358, 2295], [2015, \"Angola\", 17089, 1908], [2015, \"Tcheca, Rep\\u00fablica\", 15304, 2297], [2015, \"Bol\\u00edvia\", 12990, 10674], [2015, \"Antilhas Holandesas\", 10545, 6660], [2015, \"Hong Kong\", 7837, 1229], [2015, \"Su\\u00e9cia\", 6404, 1412], [2015, \"Noruega\", 6021, 1058], [2015, \"Fran\\u00e7a\", 4749, 1596], [2015, \"Emirados \\u00c1rabes Unidos\", 3740, 765], [2015, \"Nova Zel\\u00e2ndia\", 3476, 809], [2015, \"Singapura\", 2774, 1116], [2015, \"Suriname\", 713, 453], [2014, \"Reino Unido\", 1373747, 305807], [2014, \"Paraguai\", 908028, 521847], [2014, \"Pa\\u00edses Baixos (Holanda)\", 773767, 165289], [2014, \"Alemanha\", 761653, 213348], [2014, \"B\\u00e9lgica\", 704093, 151320], [2014, \"Estados Unidos\", 494216, 222267], [2014, \"China\", 455340, 64040], [2014, \"Jap\\u00e3o\", 401774, 106426], [2014, \"Su\\u00ed\\u00e7a\", 231762, 27933], [2014, \"Canad\\u00e1\", 226875, 35082], [2014, \"Fran\\u00e7a\", 167807, 33755], [2014, \"Pol\\u00f4nia\", 107957, 30181], [2014, \"Argentina\", 95130, 20385], [2014, \"Finl\\u00e2ndia\", 94962, 12960], [2014, \"Portugal\", 79141, 71544], [2014, \"Taiwan (Formosa)\", 67907, 12519], [2014, \"Hong Kong\", 63534, 18130], [2014, \"R\\u00fassia\", 61440, 190656], [2014, \"Luxemburgo\", 52400, 8281], [2014, \"Su\\u00e9cia\", 51057, 10404], [2014, \"Noruega\", 50464, 7179], [2014, \"Austr\\u00e1lia\", 43709, 6308], [2014, \"Cuba\", 43200, 38875], [2014, \"Tcheca, Rep\\u00fablica\", 35005, 4500], [2014, \"M\\u00e9xico\", 24336, 1521], [2014, \"Angola\", 23124, 12182], [2014, \"Bol\\u00edvia\", 18303, 12534], [2014, \"Dinamarca\", 16871, 3240], [2014, \"Nova Zel\\u00e2ndia\", 13675, 2800], [2014, \"Guin\\u00e9 Equatorial\", 11983, 5646], [2014, \"Antilhas Holandesas\", 7169, 4455], [2014, \"Singapura\", 3887, 541], [2014, \"Emirados \\u00c1rabes Unidos\", 3381, 640], [2014, \"It\\u00e1lia\", 2492, 604], [2014, \"Trinidad e Tobago\", 1600, 360], [2014, \"Aruba\", 755, 450], [2014, \"Venezuela\", 232, 14], [2014, \"Suriname\", 19, 6], [2013, \"R\\u00fassia\", 5893291, 14795694], [2013, \"Espanha\", 1976758, 3745162], [2013, \"Estados Unidos\", 786556, 245368], [2013, \"Paraguai\", 683052, 479340], [2013, \"Jap\\u00e3o\", 429088, 91988], [2013, \"Reino Unido\", 305005, 59161], [2013, \"Finl\\u00e2ndia\", 283114, 36682], [2013, \"China\", 280989, 39896], [2013, \"Alemanha\", 265978, 61699], [2013, \"Pa\\u00edses Baixos (Holanda)\", 255690, 57792], [2013, \"Canad\\u00e1\", 174643, 25329], [2013, \"Dinamarca\", 101915, 17892], [2013, \"Austr\\u00e1lia\", 101715, 16707], [2013, \"B\\u00e9lgica\", 95893, 22461], [2013, \"Pol\\u00f4nia\", 90960, 19249], [2013, \"Hong Kong\", 61224, 16013], [2013, \"Fran\\u00e7a\", 42256, 6885], [2013, \"Su\\u00ed\\u00e7a\", 29785, 2997], [2013, \"Luxemburgo\", 29474, 5135], [2013, \"Bol\\u00edvia\", 25998, 19147], [2013, \"Tcheca, Rep\\u00fablica\", 23549, 3697], [2013, \"Su\\u00e9cia\", 20183, 3195], [2013, \"Antilhas Holandesas\", 19565, 11281], [2013, \"Noruega\", 19008, 2375], [2013, \"Portugal\", 17627, 23810], [2013, \"Uruguai\", 13343, 1526], [2013, \"It\\u00e1lia\", 11967, 1710], [2013, \"Angola\", 9300, 1573], [2013, \"Singapura\", 5779, 766], [2013, \"Guin\\u00e9 Equatorial\", 5336, 1108], [2013, \"Bahamas\", 5145, 581], [2013, \"Nova Zel\\u00e2ndia\", 4092, 1004], [2013, \"Suriname\", 2960, 1800], [2013, \"Nig\\u00e9ria\", 2245, 1350], [2013, \"Col\\u00f4mbia\", 30, 8], [2013, \"Qu\\u00eania\", 4, 6], [2012, \"R\\u00fassia\", 2103968, 4528176], [2012, \"China\", 642177, 87905], [2012, \"Pa\\u00edses Baixos (Holanda)\", 539641, 134879], [2012, \"Paraguai\", 428279, 354824], [2012, \"Reino Unido\", 334856, 82937], [2012, \"Estados Unidos\", 303986, 146585], [2012, \"Fran\\u00e7a\", 185791, 195604], [2012, \"Canad\\u00e1\", 146035, 14304], [2012, \"Jap\\u00e3o\", 116961, 29281], [2012, \"B\\u00e9lgica\", 90718, 16132], [2012, \"Pol\\u00f4nia\", 89158, 21663], [2012, \"Finl\\u00e2ndia\", 67959, 17100], [2012, \"Alemanha\", 56342, 8189], [2012, \"Austr\\u00e1lia\", 56045, 9345], [2012, \"Su\\u00ed\\u00e7a\", 47240, 4014], [2012, \"Portugal\", 47022, 47172], [2012, \"Noruega\", 31515, 5104], [2012, \"Tcheca, Rep\\u00fablica\", 27789, 7960], [2012, \"Dinamarca\", 23802, 4716], [2012, \"Est\\u00f4nia\", 19384, 3321], [2012, \"Su\\u00e9cia\", 17280, 2705], [2012, \"Bol\\u00edvia\", 16804, 11868], [2012, \"Luxemburgo\", 16547, 2444], [2012, \"Chile\", 15438, 8550], [2012, \"Antilhas Holandesas\", 14081, 9247], [2012, \"Bahamas\", 12087, 1374], [2012, \"Nig\\u00e9ria\", 10196, 6449], [2012, \"Angola\", 8861, 2833], [2012, \"Nova Zel\\u00e2ndia\", 8817, 2364], [2012, \"Hong Kong\", 7653, 1609], [2012, \"Venezuela\", 7492, 1029], [2012, \"It\\u00e1lia\", 5622, 792], [2012, \"Singapura\", 5310, 1212], [2012, \"Uruguai\", 3879, 1135], [2012, \"Emirados \\u00c1rabes Unidos\", 3300, 675], [2012, \"Trinidad e Tobago\", 2720, 531], [2012, \"Guin\\u00e9 Equatorial\", 2530, 819], [2012, \"Panam\\u00e1\", 2262, 39], [2012, \"Suriname\", 1288, 396], [2012, \"Qu\\u00eania\", 458, 94], [2011, \"Estados Unidos\", 1030254, 306787], [2011, \"Pa\\u00edses Baixos (Holanda)\", 395356, 125414], [2011, \"China\", 334867, 54156], [2011, \"Reino Unido\", 285642, 122629], [2011, \"Paraguai\", 276281, 240168], [2011, \"Jap\\u00e3o\", 144662, 100835], [2011, \"Alemanha\", 144150, 36070], [2011, \"Canad\\u00e1\", 128076, 28906], [2011, \"Dinamarca\", 83057, 32797], [2011, \"It\\u00e1lia\", 80298, 11999], [2011, \"Noruega\", 78688, 10268], [2011, \"Angola\", 69001, 13889], [2011, \"Luxemburgo\", 65592, 9547], [2011, \"B\\u00e9lgica\", 62339, 11802], [2011, \"Argentina\", 55460, 13253], [2011, \"Pol\\u00f4nia\", 50684, 11732], [2011, \"Finl\\u00e2ndia\", 50394, 12404], [2011, \"Austr\\u00e1lia\", 40704, 3632], [2011, \"Tcheca, Rep\\u00fablica\", 37271, 6846], [2011, \"Irlanda\", 35690, 5376], [2011, \"Bahamas\", 28810, 4529], [2011, \"Espanha\", 24618, 5206], [2011, \"Bol\\u00edvia\", 20215, 12775], [2011, \"Su\\u00e9cia\", 14476, 1641], [2011, \"Taiwan (Formosa)\", 10600, 4500], [2011, \"Antilhas Holandesas\", 10188, 7335], [2011, \"Nova Zel\\u00e2ndia\", 7992, 2587], [2011, \"Hong Kong\", 7975, 2063], [2011, \"M\\u00e9xico\", 7200, 1350], [2011, \"Emirados \\u00c1rabes Unidos\", 6594, 2120], [2011, \"Est\\u00f4nia\", 5336, 450], [2011, \"Cuba\", 4899, 2880], [2011, \"Uruguai\", 4404, 1238], [2011, \"Suriname\", 3735, 3774], [2011, \"Singapura\", 3317, 911], [2011, \"Guin\\u00e9 Equatorial\", 1979, 956], [2011, \"Aruba\", 1680, 900], [2011, \"Portugal\", 1031, 95], [2011, \"Cabo Verde\", 825, 600], [2011, \"Congo, Rep\\u00fablica Democr\\u00e1tica\", 570, 360], [2011, \"Nig\\u00e9ria\", 210, 54], [2010, \"R\\u00fassia\", 2292162, 8373757], [2010, \"Estados Unidos\", 591544, 304073], [2010, \"Paraguai\", 541781, 610907], [2010, \"Pa\\u00edses Baixos (Holanda)\", 302182, 87368], [2010, \"Reino Unido\", 295690, 123624], [2010, \"Angola\", 196947, 34094], [2010, \"Jap\\u00e3o\", 192762, 230678], [2010, \"B\\u00e9lgica\", 185865, 42562], [2010, \"Alemanha\", 138666, 27715], [2010, \"Pol\\u00f4nia\", 95198, 20464], [2010, \"Dinamarca\", 69161, 7034], [2010, \"M\\u00e9xico\", 60000, 238320], [2010, \"Canad\\u00e1\", 49366, 11991], [2010, \"Irlanda\", 42795, 3969], [2010, \"Est\\u00f4nia\", 40778, 15848], [2010, \"Luxemburgo\", 32549, 7344], [2010, \"Portugal\", 27573, 28077], [2010, \"Su\\u00ed\\u00e7a\", 21600, 2025], [2010, \"Fran\\u00e7a\", 18904, 3614], [2010, \"Austr\\u00e1lia\", 17960, 1823], [2010, \"Antilhas Holandesas\", 12808, 9810], [2010, \"Bahamas\", 12759, 3175], [2010, \"Vietn\\u00e3\", 9977, 8820], [2010, \"Bol\\u00edvia\", 7697, 4761], [2010, \"Tcheca, Rep\\u00fablica\", 6611, 1253], [2010, \"Singapura\", 5504, 1533], [2010, \"It\\u00e1lia\", 4828, 1458], [2010, \"Hungria\", 4103, 540], [2010, \"Haiti\", 3750, 2700], [2010, \"Guiana\", 3654, 783], [2010, \"Suriname\", 3624, 4341], [2010, \"Emirados \\u00c1rabes Unidos\", 3206, 1035], [2010, \"Uruguai\", 2929, 914], [2010, \"China\", 2358, 795], [2010, \"Guin\\u00e9 Equatorial\", 1015, 410], [2010, \"El Salvador\", 60, 36], [2010, \"Honduras\", 40, 20], [2009, \"R\\u00fassia\", 6486720, 24708654], [2009, \"Estados Unidos\", 675420, 387004], [2009, \"China\", 482400, 1553416], [2009, \"Alemanha\", 394417, 225148], [2009, \"Paraguai\", 324086, 381519], [2009, \"Jap\\u00e3o\", 321211, 278194], [2009, \"Portugal\", 168923, 141000], [2009, \"Pa\\u00edses Baixos (Holanda)\", 136991, 171654], [2009, \"Angola\", 84235, 54786], [2009, \"Su\\u00ed\\u00e7a\", 81319, 27653], [2009, \"Canad\\u00e1\", 73445, 15664], [2009, \"Reino Unido\", 68788, 30092], [2009, \"B\\u00e9lgica\", 58764, 125962], [2009, \"Su\\u00e9cia\", 52826, 28334], [2009, \"Tcheca, Rep\\u00fablica\", 43902, 9269], [2009, \"Luxemburgo\", 42124, 7845], [2009, \"Pol\\u00f4nia\", 35797, 6982], [2009, \"Bol\\u00edvia\", 27283, 46325], [2009, \"Hong Kong\", 27188, 50319], [2009, \"Dinamarca\", 21780, 1980], [2009, \"Suriname\", 12918, 3830], [2009, \"Est\\u00f4nia\", 10802, 5438], [2009, \"Antilhas Holandesas\", 10651, 8235], [2009, \"Austr\\u00e1lia\", 9195, 1014], [2009, \"Singapura\", 6110, 2419], [2009, \"Haiti\", 5863, 4500], [2009, \"It\\u00e1lia\", 5251, 1817], [2009, \"Argentina\", 4523, 162], [2009, \"Chile\", 4297, 1475], [2009, \"Espanha\", 4050, 2181], [2009, \"Emirados \\u00c1rabes Unidos\", 4032, 1398], [2009, \"Vietn\\u00e3\", 2143, 743], [2009, \"Guin\\u00e9 Equatorial\", 272, 169], [2009, \"Nig\\u00e9ria\", 115, 41], [2009, \"El Salvador\", 100, 55], [2009, \"Panam\\u00e1\", 30, 24], [2009, \"Honduras\", 30, 14], [2009, \"Nicar\\u00e1gua\", 24, 24], [2009, \"Guatemala\", 20, 20], [2008, \"R\\u00fassia\", 2352768, 6207658], [2008, \"Paraguai\", 1374088, 2191901], [2008, \"Estados Unidos\", 804607, 443895], [2008, \"Pa\\u00edses Baixos (Holanda)\", 783635, 340412], [2008, \"Alemanha\", 429970, 265742], [2008, \"Su\\u00ed\\u00e7a\", 216317, 54384], [2008, \"Jap\\u00e3o\", 178333, 232293], [2008, \"Reino Unido\", 155076, 100097], [2008, \"Austr\\u00e1lia\", 99280, 218726], [2008, \"Su\\u00e9cia\", 84564, 26984], [2008, \"Canad\\u00e1\", 80476, 20949], [2008, \"Angola\", 71083, 25721], [2008, \"Tcheca, Rep\\u00fablica\", 64709, 17135], [2008, \"Pol\\u00f4nia\", 58353, 20290], [2008, \"Portugal\", 48942, 49090], [2008, \"Luxemburgo\", 42341, 13606], [2008, \"Fran\\u00e7a\", 27500, 11078], [2008, \"China\", 25926, 8689], [2008, \"Gana\", 25642, 18168], [2008, \"Antilhas Holandesas\", 22908, 17938], [2008, \"Taiwan (Formosa)\", 18679, 10030], [2008, \"Benin\", 17423, 10350], [2008, \"Eslov\\u00e1quia\", 16063, 585], [2008, \"Dinamarca\", 15905, 518], [2008, \"Coreia do Sul\", 14366, 3520], [2008, \"Hong Kong\", 13460, 2430], [2008, \"B\\u00e9lgica\", 12969, 3523], [2008, \"Emirados \\u00c1rabes Unidos\", 12298, 2437], [2008, \"Nig\\u00e9ria\", 10920, 7560], [2008, \"Est\\u00f4nia\", 9730, 4114], [2008, \"Togo\", 7800, 5160], [2008, \"Espanha\", 6834, 2942], [2008, \"Singapura\", 4699, 1233], [2008, \"Bol\\u00edvia\", 3990, 3979], [2008, \"Panam\\u00e1\", 1882, 1161], [2008, \"Suriname\", 1625, 900], [2008, \"Guin\\u00e9 Equatorial\", 1417, 548], [2008, \"Nam\\u00edbia\", 722, 340], [2008, \"Honduras\", 580, 162], [2008, \"Costa Rica\", 200, 55], [2008, \"Haiti\", 20, 20], [2007, \"Estados Unidos\", 810038, 479269], [2007, \"Paraguai\", 801519, 1285459], [2007, \"Pa\\u00edses Baixos (Holanda)\", 364751, 181046], [2007, \"Jap\\u00e3o\", 316867, 357943], [2007, \"Alemanha\", 238052, 119512], [2007, \"Tcheca, Rep\\u00fablica\", 189620, 85303], [2007, \"R\\u00fassia\", 173160, 266400], [2007, \"Portugal\", 165282, 109074], [2007, \"Reino Unido\", 144244, 84613], [2007, \"Su\\u00ed\\u00e7a\", 70716, 26090], [2007, \"Chile\", 67353, 60930], [2007, \"Est\\u00f4nia\", 54056, 77697], [2007, \"Angola\", 49753, 25931], [2007, \"China\", 30390, 7638], [2007, \"Venezuela\", 27370, 20700], [2007, \"It\\u00e1lia\", 19860, 7209], [2007, \"Canad\\u00e1\", 18838, 4172], [2007, \"Antilhas Holandesas\", 17949, 17025], [2007, \"Singapura\", 17864, 7270], [2007, \"M\\u00e9xico\", 15425, 2453], [2007, \"Qu\\u00eania\", 13860, 10600], [2007, \"Fran\\u00e7a\", 11231, 6349], [2007, \"Taiwan (Formosa)\", 11214, 6377], [2007, \"Dinamarca\", 11176, 3480], [2007, \"Noruega\", 10044, 10044], [2007, \"Cuba\", 5118, 2669], [2007, \"Coreia do Sul\", 4650, 1012], [2007, \"Suriname\", 4603, 2700], [2007, \"B\\u00e9lgica\", 3751, 1077], [2007, \"Equador\", 3585, 2700], [2007, \"Bol\\u00edvia\", 3550, 4985], [2007, \"Su\\u00e9cia\", 2448, 919], [2007, \"Rep\\u00fablica Dominicana\", 2438, 601], [2007, \"Luxemburgo\", 2033, 785], [2007, \"Tail\\u00e2ndia\", 2020, 839], [2007, \"Panam\\u00e1\", 1030, 810], [2007, \"Austr\\u00e1lia\", 281, 60], [2007, \"Togo\", 11, 11], [2006, \"Paraguai\", 873636, 1947106], [2006, \"Estados Unidos\", 591729, 392590], [2006, \"Su\\u00ed\\u00e7a\", 305131, 131073], [2006, \"Jap\\u00e3o\", 240334, 325031], [2006, \"R\\u00fassia\", 164744, 334200], [2006, \"Tcheca, Rep\\u00fablica\", 105576, 24250], [2006, \"Alemanha\", 94278, 38488], [2006, \"B\\u00e9lgica\", 52799, 56571], [2006, \"Reino Unido\", 49826, 38281], [2006, \"Fran\\u00e7a\", 34838, 17010], [2006, \"Antilhas Holandesas\", 24419, 19116], [2006, \"Angola\", 18293, 3766], [2006, \"Qu\\u00eania\", 15069, 10600], [2006, \"Portugal\", 13200, 17732], [2006, \"Benin\", 12075, 10350], [2006, \"Su\\u00e9cia\", 12000, 16120], [2006, \"Dinamarca\", 8417, 2805], [2006, \"Finl\\u00e2ndia\", 7920, 11088], [2006, \"Bol\\u00edvia\", 6961, 5822], [2006, \"It\\u00e1lia\", 5423, 2709], [2006, \"Luxemburgo\", 5354, 1220], [2006, \"Est\\u00f4nia\", 4581, 1974], [2006, \"Chile\", 2893, 1988], [2006, \"Vietn\\u00e3\", 2362, 2013], [2006, \"Suriname\", 2325, 1000], [2006, \"Canad\\u00e1\", 2202, 450], [2006, \"Pa\\u00edses Baixos (Holanda)\", 1898, 451], [2006, \"Uruguai\", 1685, 1008], [2006, \"Gr\\u00e9cia\", 1535, 142], [2006, \"Emirados \\u00c1rabes Unidos\", 1446, 363], [2006, \"Bulg\\u00e1ria\", 712, 82], [2006, \"Chipre\", 96, 134], [2006, \"Panam\\u00e1\", 55, 13], [2006, \"\\u00cdndia\", 33, 14], [2006, \"Togo\", 21, 24], [2005, \"Paraguai\", 715116, 1967985], [2005, \"Estados Unidos\", 588691, 338772], [2005, \"Jap\\u00e3o\", 249962, 561421], [2005, \"Fran\\u00e7a\", 241347, 91382], [2005, \"Bol\\u00edvia\", 189305, 394786], [2005, \"Guiana\", 139134, 151376], [2005, \"Tcheca, Rep\\u00fablica\", 129955, 65388], [2005, \"Alemanha\", 114799, 59757], [2005, \"It\\u00e1lia\", 79973, 55077], [2005, \"R\\u00fassia\", 71988, 177600], [2005, \"Su\\u00ed\\u00e7a\", 48666, 22279], [2005, \"Noruega\", 42270, 22361], [2005, \"Angola\", 34055, 25328], [2005, \"Finl\\u00e2ndia\", 33286, 16830], [2005, \"Qu\\u00eania\", 31314, 7661], [2005, \"Dinamarca\", 29405, 29172], [2005, \"B\\u00e9lgica\", 29137, 6860], [2005, \"Portugal\", 28733, 17741], [2005, \"Reino Unido\", 26445, 6174], [2005, \"Luxemburgo\", 23848, 5855], [2005, \"Pa\\u00edses Baixos (Holanda)\", 22391, 17693], [2005, \"Guin\\u00e9-Bissau\", 11182, 13000], [2005, \"Pol\\u00f4nia\", 10184, 9909], [2005, \"Antilhas Holandesas\", 6206, 4259], [2005, \"Taiwan (Formosa)\", 4840, 925], [2005, \"Nig\\u00e9ria\", 2600, 2025], [2005, \"Chile\", 1377, 435], [2005, \"Argentina\", 1302, 539], [2005, \"Panam\\u00e1\", 1213, 1125], [2005, \"Rep\\u00fablica Dominicana\", 1188, 50], [2005, \"Canad\\u00e1\", 849, 154], [2005, \"Gana\", 537, 125], [2005, \"Col\\u00f4mbia\", 463, 312], [2005, \"Austr\\u00e1lia\", 98, 9], [2005, \"Trinidad e Tobago\", 60, 54], [2004, \"Paraguai\", 760987, 2108658], [2004, \"Estados Unidos\", 293491, 98265], [2004, \"Jap\\u00e3o\", 216282, 426482], [2004, \"Tcheca, Rep\\u00fablica\", 64927, 11855], [2004, \"Angola\", 50382, 37573], [2004, \"Finl\\u00e2ndia\", 32307, 16335], [2004, \"Pa\\u00edses Baixos (Holanda)\", 29556, 17688], [2004, \"Alemanha\", 28140, 13589], [2004, \"Portugal\", 21864, 16080], [2004, \"Su\\u00ed\\u00e7a\", 18199, 5188], [2004, \"Luxemburgo\", 16804, 4308], [2004, \"Su\\u00e9cia\", 12880, 4995], [2004, \"Dinamarca\", 11088, 3780], [2004, \"Bol\\u00edvia\", 10655, 18536], [2004, \"Fran\\u00e7a\", 7788, 1497], [2004, \"Suriname\", 5423, 12026], [2004, \"Canad\\u00e1\", 3138, 675], [2004, \"It\\u00e1lia\", 1217, 420], [2004, \"China\", 1118, 404], [2004, \"Togo\", 1042, 1300], [2004, \"Gana\", 774, 162], [2004, \"Uruguai\", 766, 1296], [2004, \"Col\\u00f4mbia\", 595, 280], [2004, \"Qu\\u00eania\", 431, 212], [2004, \"Panam\\u00e1\", 390, 360], [2004, \"Singapura\", 369, 31], [2003, \"Paraguai\", 397471, 1121672], [2003, \"Jap\\u00e3o\", 87286, 166028], [2003, \"Estados Unidos\", 72289, 25467], [2003, \"Finl\\u00e2ndia\", 34602, 17496], [2003, \"Tcheca, Rep\\u00fablica\", 31791, 7370], [2003, \"Su\\u00ed\\u00e7a\", 29607, 7614], [2003, \"Angola\", 11437, 19937], [2003, \"Uruguai\", 4701, 12250], [2003, \"Gana\", 1655, 270], [2003, \"Taiwan (Formosa)\", 300, 180], [2003, \"Costa Rica\", 21, 31], [2003, \"M\\u00e9xico\", 20, 20], [2003, \"Trinidad e Tobago\", 4, 10], [2002, \"Paraguai\", 841589, 2013803], [2002, \"Jap\\u00e3o\", 109557, 135602], [2002, \"Finl\\u00e2ndia\", 46136, 23328], [2002, \"Estados Unidos\", 19641, 6800], [2002, \"Fran\\u00e7a\", 17240, 9000], [2002, \"Honduras\", 13470, 7918], [2002, \"Uruguai\", 10008, 27350], [2002, \"Bol\\u00edvia\", 8039, 7545], [2002, \"Angola\", 5290, 9812], [2002, \"Alemanha\", 4626, 1080], [2002, \"B\\u00e9lgica\", 3900, 1263], [2002, \"Su\\u00ed\\u00e7a\", 1920, 800], [2002, \"Peru\", 1008, 5050], [2002, \"Bahamas\", 480, 120], [2002, \"Panam\\u00e1\", 22, 435], [2002, \"Costa Rica\", 10, 100], [2002, \"Chile\", 3, 31], [2001, \"Paraguai\", 2106286, 4798797], [2001, \"Jap\\u00e3o\", 231447, 347523], [2001, \"Bol\\u00edvia\", 95641, 295661], [2001, \"Finl\\u00e2ndia\", 67060, 31176], [2001, \"Angola\", 20263, 12911], [2001, \"Alemanha\", 12386, 2233], [2001, \"Fran\\u00e7a\", 9639, 4820], [2001, \"Uruguai\", 8094, 13564], [2001, \"Estados Unidos\", 7972, 3576], [2001, \"Equador\", 4076, 10666], [2001, \"Argentina\", 2393, 1477], [2001, \"Peru\", 1938, 2625], [2001, \"Gana\", 389, 259], [2000, \"Paraguai\", 2394569, 4963850], [2000, \"Jap\\u00e3o\", 398410, 664186], [2000, \"Angola\", 368817, 249717], [2000, \"Bol\\u00edvia\", 109714, 265988], [2000, \"Finl\\u00e2ndia\", 80740, 40824], [2000, \"Uruguai\", 30075, 44476], [2000, \"Alemanha\", 15620, 9900], [2000, \"Canad\\u00e1\", 8538, 4480], [2000, \"Estados Unidos\", 4632, 2151], [2000, \"Fran\\u00e7a\", 1344, 600]];\n",
       "\n",
       "    // Define the dt_args\n",
       "    let dt_args = {\"order\": []};\n",
       "    dt_args[\"data\"] = data;\n",
       "\n",
       "    $(document).ready(function () {\n",
       "        \n",
       "        $('#4cfb51c7-93eb-4a4e-b4e2-817c6c697b15').DataTable(dt_args);\n",
       "    });\n",
       "</script>\n",
       "</div>\n"
      ],
      "text/plain": [
       "<IPython.core.display.HTML object>"
      ]
     },
     "metadata": {},
     "output_type": "display_data"
    }
   ],
   "source": [
    "show(exp_vinho)"
   ]
  },
  {
   "cell_type": "markdown",
   "metadata": {},
   "source": [
    "Os dados monetários desta série são anuais e estão em US$. Como a ideia é realizar a análise dos dados ao longo do tempo, é importante considerar os efeitos da inflação pois, US$ 1,00 em 2000 é diferente de US$ 1,00 em 2022. Ou seja, caso não se faça a correção pela inflação, haverá imprecisão nos valores apresentados. Ademais, ao se relacionar os valores de exportação com dados socioeconômicos, é importante que os dados estejam na mesma data de referência. Ainda que façamos tal ajuste, ainda resta dúvida quanto à data-base precisa, pois tal informação não foi encontrada em qualquer das fontes de dados. Neste sentido, assumimos que os valores da série são nominais, isto é, os valores são relativos ao ano corrente. Então todos eles foram reajustados para o ano de 2022. \n",
    "Para realizarmos o ajuste foi extraída a série de [CPI](https://www.bls.gov/cpi/) (_Consumer Price Index_) anual, que é o índice de inflação dos Estados Unidos. O gráfico abaixo demonstra que entre 2000 e 2022 houve um crescimento acumulado do índice na ordem de aproximadamente 52%. "
   ]
  },
  {
   "cell_type": "code",
   "execution_count": null,
   "metadata": {},
   "outputs": [
    {
     "data": {
      "application/vnd.plotly.v1+json": {
       "config": {
        "plotlyServerURL": "https://plot.ly"
       },
       "data": [
        {
         "hovertemplate": "ano=%{x}<br>cpi=%{y}<extra></extra>",
         "legendgroup": "",
         "line": {
          "color": "#636efa",
          "dash": "solid"
         },
         "marker": {
          "symbol": "circle"
         },
         "mode": "lines",
         "name": "",
         "orientation": "v",
         "showlegend": false,
         "type": "scatter",
         "x": [
          2000,
          2001,
          2002,
          2003,
          2004,
          2005,
          2006,
          2007,
          2008,
          2009,
          2010,
          2011,
          2012,
          2013,
          2014,
          2015,
          2016,
          2017,
          2018,
          2019,
          2020,
          2021,
          2022
         ],
         "xaxis": "x",
         "y": [
          172.2,
          177.1,
          179.9,
          184,
          188.9,
          195.3,
          201.6,
          207.342,
          215.303,
          214.537,
          218.056,
          224.939,
          229.594,
          232.957,
          236.736,
          237.017,
          240.007,
          245.12,
          251.107,
          255.657,
          258.811,
          270.97,
          292.655
         ],
         "yaxis": "y"
        }
       ],
       "layout": {
        "height": 600,
        "legend": {
         "tracegroupgap": 0
        },
        "template": {
         "data": {
          "bar": [
           {
            "error_x": {
             "color": "#2a3f5f"
            },
            "error_y": {
             "color": "#2a3f5f"
            },
            "marker": {
             "line": {
              "color": "white",
              "width": 0.5
             },
             "pattern": {
              "fillmode": "overlay",
              "size": 10,
              "solidity": 0.2
             }
            },
            "type": "bar"
           }
          ],
          "barpolar": [
           {
            "marker": {
             "line": {
              "color": "white",
              "width": 0.5
             },
             "pattern": {
              "fillmode": "overlay",
              "size": 10,
              "solidity": 0.2
             }
            },
            "type": "barpolar"
           }
          ],
          "carpet": [
           {
            "aaxis": {
             "endlinecolor": "#2a3f5f",
             "gridcolor": "#C8D4E3",
             "linecolor": "#C8D4E3",
             "minorgridcolor": "#C8D4E3",
             "startlinecolor": "#2a3f5f"
            },
            "baxis": {
             "endlinecolor": "#2a3f5f",
             "gridcolor": "#C8D4E3",
             "linecolor": "#C8D4E3",
             "minorgridcolor": "#C8D4E3",
             "startlinecolor": "#2a3f5f"
            },
            "type": "carpet"
           }
          ],
          "choropleth": [
           {
            "colorbar": {
             "outlinewidth": 0,
             "ticks": ""
            },
            "type": "choropleth"
           }
          ],
          "contour": [
           {
            "colorbar": {
             "outlinewidth": 0,
             "ticks": ""
            },
            "colorscale": [
             [
              0,
              "#0d0887"
             ],
             [
              0.1111111111111111,
              "#46039f"
             ],
             [
              0.2222222222222222,
              "#7201a8"
             ],
             [
              0.3333333333333333,
              "#9c179e"
             ],
             [
              0.4444444444444444,
              "#bd3786"
             ],
             [
              0.5555555555555556,
              "#d8576b"
             ],
             [
              0.6666666666666666,
              "#ed7953"
             ],
             [
              0.7777777777777778,
              "#fb9f3a"
             ],
             [
              0.8888888888888888,
              "#fdca26"
             ],
             [
              1,
              "#f0f921"
             ]
            ],
            "type": "contour"
           }
          ],
          "contourcarpet": [
           {
            "colorbar": {
             "outlinewidth": 0,
             "ticks": ""
            },
            "type": "contourcarpet"
           }
          ],
          "heatmap": [
           {
            "colorbar": {
             "outlinewidth": 0,
             "ticks": ""
            },
            "colorscale": [
             [
              0,
              "#0d0887"
             ],
             [
              0.1111111111111111,
              "#46039f"
             ],
             [
              0.2222222222222222,
              "#7201a8"
             ],
             [
              0.3333333333333333,
              "#9c179e"
             ],
             [
              0.4444444444444444,
              "#bd3786"
             ],
             [
              0.5555555555555556,
              "#d8576b"
             ],
             [
              0.6666666666666666,
              "#ed7953"
             ],
             [
              0.7777777777777778,
              "#fb9f3a"
             ],
             [
              0.8888888888888888,
              "#fdca26"
             ],
             [
              1,
              "#f0f921"
             ]
            ],
            "type": "heatmap"
           }
          ],
          "heatmapgl": [
           {
            "colorbar": {
             "outlinewidth": 0,
             "ticks": ""
            },
            "colorscale": [
             [
              0,
              "#0d0887"
             ],
             [
              0.1111111111111111,
              "#46039f"
             ],
             [
              0.2222222222222222,
              "#7201a8"
             ],
             [
              0.3333333333333333,
              "#9c179e"
             ],
             [
              0.4444444444444444,
              "#bd3786"
             ],
             [
              0.5555555555555556,
              "#d8576b"
             ],
             [
              0.6666666666666666,
              "#ed7953"
             ],
             [
              0.7777777777777778,
              "#fb9f3a"
             ],
             [
              0.8888888888888888,
              "#fdca26"
             ],
             [
              1,
              "#f0f921"
             ]
            ],
            "type": "heatmapgl"
           }
          ],
          "histogram": [
           {
            "marker": {
             "pattern": {
              "fillmode": "overlay",
              "size": 10,
              "solidity": 0.2
             }
            },
            "type": "histogram"
           }
          ],
          "histogram2d": [
           {
            "colorbar": {
             "outlinewidth": 0,
             "ticks": ""
            },
            "colorscale": [
             [
              0,
              "#0d0887"
             ],
             [
              0.1111111111111111,
              "#46039f"
             ],
             [
              0.2222222222222222,
              "#7201a8"
             ],
             [
              0.3333333333333333,
              "#9c179e"
             ],
             [
              0.4444444444444444,
              "#bd3786"
             ],
             [
              0.5555555555555556,
              "#d8576b"
             ],
             [
              0.6666666666666666,
              "#ed7953"
             ],
             [
              0.7777777777777778,
              "#fb9f3a"
             ],
             [
              0.8888888888888888,
              "#fdca26"
             ],
             [
              1,
              "#f0f921"
             ]
            ],
            "type": "histogram2d"
           }
          ],
          "histogram2dcontour": [
           {
            "colorbar": {
             "outlinewidth": 0,
             "ticks": ""
            },
            "colorscale": [
             [
              0,
              "#0d0887"
             ],
             [
              0.1111111111111111,
              "#46039f"
             ],
             [
              0.2222222222222222,
              "#7201a8"
             ],
             [
              0.3333333333333333,
              "#9c179e"
             ],
             [
              0.4444444444444444,
              "#bd3786"
             ],
             [
              0.5555555555555556,
              "#d8576b"
             ],
             [
              0.6666666666666666,
              "#ed7953"
             ],
             [
              0.7777777777777778,
              "#fb9f3a"
             ],
             [
              0.8888888888888888,
              "#fdca26"
             ],
             [
              1,
              "#f0f921"
             ]
            ],
            "type": "histogram2dcontour"
           }
          ],
          "mesh3d": [
           {
            "colorbar": {
             "outlinewidth": 0,
             "ticks": ""
            },
            "type": "mesh3d"
           }
          ],
          "parcoords": [
           {
            "line": {
             "colorbar": {
              "outlinewidth": 0,
              "ticks": ""
             }
            },
            "type": "parcoords"
           }
          ],
          "pie": [
           {
            "automargin": true,
            "type": "pie"
           }
          ],
          "scatter": [
           {
            "fillpattern": {
             "fillmode": "overlay",
             "size": 10,
             "solidity": 0.2
            },
            "type": "scatter"
           }
          ],
          "scatter3d": [
           {
            "line": {
             "colorbar": {
              "outlinewidth": 0,
              "ticks": ""
             }
            },
            "marker": {
             "colorbar": {
              "outlinewidth": 0,
              "ticks": ""
             }
            },
            "type": "scatter3d"
           }
          ],
          "scattercarpet": [
           {
            "marker": {
             "colorbar": {
              "outlinewidth": 0,
              "ticks": ""
             }
            },
            "type": "scattercarpet"
           }
          ],
          "scattergeo": [
           {
            "marker": {
             "colorbar": {
              "outlinewidth": 0,
              "ticks": ""
             }
            },
            "type": "scattergeo"
           }
          ],
          "scattergl": [
           {
            "marker": {
             "colorbar": {
              "outlinewidth": 0,
              "ticks": ""
             }
            },
            "type": "scattergl"
           }
          ],
          "scattermapbox": [
           {
            "marker": {
             "colorbar": {
              "outlinewidth": 0,
              "ticks": ""
             }
            },
            "type": "scattermapbox"
           }
          ],
          "scatterpolar": [
           {
            "marker": {
             "colorbar": {
              "outlinewidth": 0,
              "ticks": ""
             }
            },
            "type": "scatterpolar"
           }
          ],
          "scatterpolargl": [
           {
            "marker": {
             "colorbar": {
              "outlinewidth": 0,
              "ticks": ""
             }
            },
            "type": "scatterpolargl"
           }
          ],
          "scatterternary": [
           {
            "marker": {
             "colorbar": {
              "outlinewidth": 0,
              "ticks": ""
             }
            },
            "type": "scatterternary"
           }
          ],
          "surface": [
           {
            "colorbar": {
             "outlinewidth": 0,
             "ticks": ""
            },
            "colorscale": [
             [
              0,
              "#0d0887"
             ],
             [
              0.1111111111111111,
              "#46039f"
             ],
             [
              0.2222222222222222,
              "#7201a8"
             ],
             [
              0.3333333333333333,
              "#9c179e"
             ],
             [
              0.4444444444444444,
              "#bd3786"
             ],
             [
              0.5555555555555556,
              "#d8576b"
             ],
             [
              0.6666666666666666,
              "#ed7953"
             ],
             [
              0.7777777777777778,
              "#fb9f3a"
             ],
             [
              0.8888888888888888,
              "#fdca26"
             ],
             [
              1,
              "#f0f921"
             ]
            ],
            "type": "surface"
           }
          ],
          "table": [
           {
            "cells": {
             "fill": {
              "color": "#EBF0F8"
             },
             "line": {
              "color": "white"
             }
            },
            "header": {
             "fill": {
              "color": "#C8D4E3"
             },
             "line": {
              "color": "white"
             }
            },
            "type": "table"
           }
          ]
         },
         "layout": {
          "annotationdefaults": {
           "arrowcolor": "#2a3f5f",
           "arrowhead": 0,
           "arrowwidth": 1
          },
          "autotypenumbers": "strict",
          "coloraxis": {
           "colorbar": {
            "outlinewidth": 0,
            "ticks": ""
           }
          },
          "colorscale": {
           "diverging": [
            [
             0,
             "#8e0152"
            ],
            [
             0.1,
             "#c51b7d"
            ],
            [
             0.2,
             "#de77ae"
            ],
            [
             0.3,
             "#f1b6da"
            ],
            [
             0.4,
             "#fde0ef"
            ],
            [
             0.5,
             "#f7f7f7"
            ],
            [
             0.6,
             "#e6f5d0"
            ],
            [
             0.7,
             "#b8e186"
            ],
            [
             0.8,
             "#7fbc41"
            ],
            [
             0.9,
             "#4d9221"
            ],
            [
             1,
             "#276419"
            ]
           ],
           "sequential": [
            [
             0,
             "#0d0887"
            ],
            [
             0.1111111111111111,
             "#46039f"
            ],
            [
             0.2222222222222222,
             "#7201a8"
            ],
            [
             0.3333333333333333,
             "#9c179e"
            ],
            [
             0.4444444444444444,
             "#bd3786"
            ],
            [
             0.5555555555555556,
             "#d8576b"
            ],
            [
             0.6666666666666666,
             "#ed7953"
            ],
            [
             0.7777777777777778,
             "#fb9f3a"
            ],
            [
             0.8888888888888888,
             "#fdca26"
            ],
            [
             1,
             "#f0f921"
            ]
           ],
           "sequentialminus": [
            [
             0,
             "#0d0887"
            ],
            [
             0.1111111111111111,
             "#46039f"
            ],
            [
             0.2222222222222222,
             "#7201a8"
            ],
            [
             0.3333333333333333,
             "#9c179e"
            ],
            [
             0.4444444444444444,
             "#bd3786"
            ],
            [
             0.5555555555555556,
             "#d8576b"
            ],
            [
             0.6666666666666666,
             "#ed7953"
            ],
            [
             0.7777777777777778,
             "#fb9f3a"
            ],
            [
             0.8888888888888888,
             "#fdca26"
            ],
            [
             1,
             "#f0f921"
            ]
           ]
          },
          "colorway": [
           "#636efa",
           "#EF553B",
           "#00cc96",
           "#ab63fa",
           "#FFA15A",
           "#19d3f3",
           "#FF6692",
           "#B6E880",
           "#FF97FF",
           "#FECB52"
          ],
          "font": {
           "color": "#2a3f5f"
          },
          "geo": {
           "bgcolor": "white",
           "lakecolor": "white",
           "landcolor": "white",
           "showlakes": true,
           "showland": true,
           "subunitcolor": "#C8D4E3"
          },
          "hoverlabel": {
           "align": "left"
          },
          "hovermode": "closest",
          "mapbox": {
           "style": "light"
          },
          "paper_bgcolor": "white",
          "plot_bgcolor": "white",
          "polar": {
           "angularaxis": {
            "gridcolor": "#EBF0F8",
            "linecolor": "#EBF0F8",
            "ticks": ""
           },
           "bgcolor": "white",
           "radialaxis": {
            "gridcolor": "#EBF0F8",
            "linecolor": "#EBF0F8",
            "ticks": ""
           }
          },
          "scene": {
           "xaxis": {
            "backgroundcolor": "white",
            "gridcolor": "#DFE8F3",
            "gridwidth": 2,
            "linecolor": "#EBF0F8",
            "showbackground": true,
            "ticks": "",
            "zerolinecolor": "#EBF0F8"
           },
           "yaxis": {
            "backgroundcolor": "white",
            "gridcolor": "#DFE8F3",
            "gridwidth": 2,
            "linecolor": "#EBF0F8",
            "showbackground": true,
            "ticks": "",
            "zerolinecolor": "#EBF0F8"
           },
           "zaxis": {
            "backgroundcolor": "white",
            "gridcolor": "#DFE8F3",
            "gridwidth": 2,
            "linecolor": "#EBF0F8",
            "showbackground": true,
            "ticks": "",
            "zerolinecolor": "#EBF0F8"
           }
          },
          "shapedefaults": {
           "line": {
            "color": "#2a3f5f"
           }
          },
          "ternary": {
           "aaxis": {
            "gridcolor": "#DFE8F3",
            "linecolor": "#A2B1C6",
            "ticks": ""
           },
           "baxis": {
            "gridcolor": "#DFE8F3",
            "linecolor": "#A2B1C6",
            "ticks": ""
           },
           "bgcolor": "white",
           "caxis": {
            "gridcolor": "#DFE8F3",
            "linecolor": "#A2B1C6",
            "ticks": ""
           }
          },
          "title": {
           "x": 0.05
          },
          "xaxis": {
           "automargin": true,
           "gridcolor": "#EBF0F8",
           "linecolor": "#EBF0F8",
           "ticks": "",
           "title": {
            "standoff": 15
           },
           "zerolinecolor": "#EBF0F8",
           "zerolinewidth": 2
          },
          "yaxis": {
           "automargin": true,
           "gridcolor": "#EBF0F8",
           "linecolor": "#EBF0F8",
           "ticks": "",
           "title": {
            "standoff": 15
           },
           "zerolinecolor": "#EBF0F8",
           "zerolinewidth": 2
          }
         }
        },
        "title": {
         "text": "CPI - índice de inflação dos Estados Unidos (anual)"
        },
        "width": 800,
        "xaxis": {
         "anchor": "y",
         "domain": [
          0,
          1
         ],
         "title": {
          "text": "ano"
         }
        },
        "yaxis": {
         "anchor": "x",
         "domain": [
          0,
          1
         ],
         "title": {
          "text": "cpi"
         }
        }
       }
      }
     },
     "metadata": {},
     "output_type": "display_data"
    }
   ],
   "source": [
    "cpi_us = pl.read_csv(\n",
    "    \"../data/cpi_brazil_us/cpi_series.csv\",\n",
    "    separator=\";\",\n",
    "    dtypes={\"year\": pl.Int64, \"cpi\": pl.Float64},\n",
    ")\n",
    "\n",
    "px.line(\n",
    "    cpi_us,\n",
    "    x=\"year\",\n",
    "    y=\"cpi\",\n",
    "    title=\"CPI - índice de inflação dos Estados Unidos (anual)\",\n",
    "    width=fig_w,\n",
    "    height=fig_h,\n",
    "    labels={\"year\": \"ano\"},\n",
    ")\n",
    "# cpi_us"
   ]
  },
  {
   "cell_type": "code",
   "execution_count": null,
   "metadata": {},
   "outputs": [
    {
     "data": {
      "text/html": [
       "<div><style>\n",
       ".dataframe > thead > tr > th,\n",
       ".dataframe > tbody > tr > td {\n",
       "  text-align: right;\n",
       "  white-space: pre-wrap;\n",
       "}\n",
       "</style>\n",
       "<small>shape: (1, 1)</small><table border=\"1\" class=\"dataframe\"><thead><tr><th>cpi</th></tr><tr><td>f64</td></tr></thead><tbody><tr><td>0.521283</td></tr></tbody></table></div>"
      ],
      "text/plain": [
       "shape: (1, 1)\n",
       "┌──────────┐\n",
       "│ cpi      │\n",
       "│ ---      │\n",
       "│ f64      │\n",
       "╞══════════╡\n",
       "│ 0.521283 │\n",
       "└──────────┘"
      ]
     },
     "execution_count": 80,
     "metadata": {},
     "output_type": "execute_result"
    }
   ],
   "source": [
    "# (cpi_us.filter(pl.col(\"year\") == 2000)['cpi']-cpi_us.filter(pl.col(\"year\") == 2001)['cpi'])/cpi_us.filter(pl.col(\"year\") == 2001)['cpi']\n",
    "cpi_us.select((pl.col(\"cpi\").shift(-1) - pl.col(\"cpi\")) / pl.col(\"cpi\").shift(-1)).sum()"
   ]
  },
  {
   "cell_type": "code",
   "execution_count": null,
   "metadata": {},
   "outputs": [
    {
     "data": {
      "text/html": [
       "<div><style>\n",
       ".dataframe > thead > tr > th,\n",
       ".dataframe > tbody > tr > td {\n",
       "  text-align: right;\n",
       "  white-space: pre-wrap;\n",
       "}\n",
       "</style>\n",
       "<small>shape: (23, 3)</small><table border=\"1\" class=\"dataframe\"><thead><tr><th>year</th><th>cpi</th><th>infl_year</th></tr><tr><td>i64</td><td>f64</td><td>f64</td></tr></thead><tbody><tr><td>2000</td><td>172.2</td><td>1.699506</td></tr><tr><td>2001</td><td>177.1</td><td>1.652484</td></tr><tr><td>2002</td><td>179.9</td><td>1.626765</td></tr><tr><td>2003</td><td>184.0</td><td>1.590516</td></tr><tr><td>2004</td><td>188.9</td><td>1.549259</td></tr><tr><td>2005</td><td>195.3</td><td>1.49849</td></tr><tr><td>2006</td><td>201.6</td><td>1.451662</td></tr><tr><td>2007</td><td>207.342</td><td>1.41146</td></tr><tr><td>2008</td><td>215.303</td><td>1.35927</td></tr><tr><td>2009</td><td>214.537</td><td>1.364124</td></tr><tr><td>2010</td><td>218.056</td><td>1.342109</td></tr><tr><td>2011</td><td>224.939</td><td>1.301042</td></tr><tr><td>2012</td><td>229.594</td><td>1.274663</td></tr><tr><td>2013</td><td>232.957</td><td>1.256262</td></tr><tr><td>2014</td><td>236.736</td><td>1.236208</td></tr><tr><td>2015</td><td>237.017</td><td>1.234743</td></tr><tr><td>2016</td><td>240.007</td><td>1.21936</td></tr><tr><td>2017</td><td>245.12</td><td>1.193925</td></tr><tr><td>2018</td><td>251.107</td><td>1.165459</td></tr><tr><td>2019</td><td>255.657</td><td>1.144717</td></tr><tr><td>2020</td><td>258.811</td><td>1.130767</td></tr><tr><td>2021</td><td>270.97</td><td>1.080027</td></tr><tr><td>2022</td><td>292.655</td><td>1.0</td></tr></tbody></table></div>"
      ],
      "text/plain": [
       "shape: (23, 3)\n",
       "┌──────┬─────────┬───────────┐\n",
       "│ year ┆ cpi     ┆ infl_year │\n",
       "│ ---  ┆ ---     ┆ ---       │\n",
       "│ i64  ┆ f64     ┆ f64       │\n",
       "╞══════╪═════════╪═══════════╡\n",
       "│ 2000 ┆ 172.2   ┆ 1.699506  │\n",
       "│ 2001 ┆ 177.1   ┆ 1.652484  │\n",
       "│ 2002 ┆ 179.9   ┆ 1.626765  │\n",
       "│ 2003 ┆ 184.0   ┆ 1.590516  │\n",
       "│ …    ┆ …       ┆ …         │\n",
       "│ 2019 ┆ 255.657 ┆ 1.144717  │\n",
       "│ 2020 ┆ 258.811 ┆ 1.130767  │\n",
       "│ 2021 ┆ 270.97  ┆ 1.080027  │\n",
       "│ 2022 ┆ 292.655 ┆ 1.0       │\n",
       "└──────┴─────────┴───────────┘"
      ]
     },
     "execution_count": 81,
     "metadata": {},
     "output_type": "execute_result"
    }
   ],
   "source": [
    "infl_year = pl.Series(\n",
    "    \"infl_year\", 1.0 / (cpi_us[\"cpi\"] / cpi_us.filter(pl.col(\"year\") == 2022)[\"cpi\"])\n",
    ")\n",
    "cpi_us.insert_at_idx(2, infl_year)"
   ]
  },
  {
   "cell_type": "code",
   "execution_count": null,
   "metadata": {},
   "outputs": [
    {
     "data": {
      "text/html": [
       "<div><style>\n",
       ".dataframe > thead > tr > th,\n",
       ".dataframe > tbody > tr > td {\n",
       "  text-align: right;\n",
       "  white-space: pre-wrap;\n",
       "}\n",
       "</style>\n",
       "<small>shape: (898, 5)</small><table border=\"1\" class=\"dataframe\"><thead><tr><th>year</th><th>country</th><th>value</th><th>value_corrected</th><th>quantity</th></tr><tr><td>i64</td><td>str</td><td>i64</td><td>f64</td><td>i64</td></tr></thead><tbody><tr><td>2000</td><td>&quot;Paraguai&quot;</td><td>2394569</td><td>4.0696e6</td><td>4963850</td></tr><tr><td>2000</td><td>&quot;Japão&quot;</td><td>398410</td><td>677100.340012</td><td>664186</td></tr><tr><td>2000</td><td>&quot;Angola&quot;</td><td>368817</td><td>626806.847474</td><td>249717</td></tr><tr><td>2000</td><td>&quot;Bolívia&quot;</td><td>109714</td><td>186459.643844</td><td>265988</td></tr><tr><td>2000</td><td>&quot;Finlândia&quot;</td><td>80740</td><td>137218.145761</td><td>40824</td></tr><tr><td>2000</td><td>&quot;Uruguai&quot;</td><td>30075</td><td>51112.654617</td><td>44476</td></tr><tr><td>2000</td><td>&quot;Alemanha&quot;</td><td>15620</td><td>26546.289779</td><td>9900</td></tr><tr><td>2000</td><td>&quot;Canadá&quot;</td><td>8538</td><td>14510.38554</td><td>4480</td></tr><tr><td>2000</td><td>&quot;Estados Unidos…</td><td>4632</td><td>7872.113589</td><td>2151</td></tr><tr><td>2000</td><td>&quot;França&quot;</td><td>1344</td><td>2284.136585</td><td>600</td></tr><tr><td>2001</td><td>&quot;Paraguai&quot;</td><td>2106286</td><td>3.4806e6</td><td>4798797</td></tr><tr><td>2001</td><td>&quot;Japão&quot;</td><td>231447</td><td>382462.573602</td><td>347523</td></tr><tr><td>&hellip;</td><td>&hellip;</td><td>&hellip;</td><td>&hellip;</td><td>&hellip;</td></tr><tr><td>2022</td><td>&quot;Equador&quot;</td><td>210</td><td>210.0</td><td>135</td></tr><tr><td>2022</td><td>&quot;Nova Zelândia&quot;</td><td>156</td><td>156.0</td><td>63</td></tr><tr><td>2022</td><td>&quot;Irã&quot;</td><td>90</td><td>90.0</td><td>47</td></tr><tr><td>2022</td><td>&quot;Bangladesh&quot;</td><td>84</td><td>84.0</td><td>7</td></tr><tr><td>2022</td><td>&quot;Cocos (Keeling…</td><td>60</td><td>60.0</td><td>26</td></tr><tr><td>2022</td><td>&quot;São Vicente e …</td><td>51</td><td>51.0</td><td>20</td></tr><tr><td>2022</td><td>&quot;México&quot;</td><td>33</td><td>33.0</td><td>6</td></tr><tr><td>2022</td><td>&quot;Bulgária&quot;</td><td>31</td><td>31.0</td><td>5</td></tr><tr><td>2022</td><td>&quot;Guiana Frances…</td><td>18</td><td>18.0</td><td>22</td></tr><tr><td>2022</td><td>&quot;Suécia&quot;</td><td>18</td><td>18.0</td><td>5</td></tr><tr><td>2022</td><td>&quot;Cuba&quot;</td><td>6</td><td>6.0</td><td>16</td></tr><tr><td>2022</td><td>&quot;Dinamarca&quot;</td><td>6</td><td>6.0</td><td>2</td></tr></tbody></table></div>"
      ],
      "text/plain": [
       "shape: (898, 5)\n",
       "┌──────┬─────────────────┬─────────┬─────────────────┬──────────┐\n",
       "│ year ┆ country         ┆ value   ┆ value_corrected ┆ quantity │\n",
       "│ ---  ┆ ---             ┆ ---     ┆ ---             ┆ ---      │\n",
       "│ i64  ┆ str             ┆ i64     ┆ f64             ┆ i64      │\n",
       "╞══════╪═════════════════╪═════════╪═════════════════╪══════════╡\n",
       "│ 2000 ┆ Paraguai        ┆ 2394569 ┆ 4.0696e6        ┆ 4963850  │\n",
       "│ 2000 ┆ Japão           ┆ 398410  ┆ 677100.340012   ┆ 664186   │\n",
       "│ 2000 ┆ Angola          ┆ 368817  ┆ 626806.847474   ┆ 249717   │\n",
       "│ 2000 ┆ Bolívia         ┆ 109714  ┆ 186459.643844   ┆ 265988   │\n",
       "│ …    ┆ …               ┆ …       ┆ …               ┆ …        │\n",
       "│ 2022 ┆ Guiana Francesa ┆ 18      ┆ 18.0            ┆ 22       │\n",
       "│ 2022 ┆ Suécia          ┆ 18      ┆ 18.0            ┆ 5        │\n",
       "│ 2022 ┆ Cuba            ┆ 6       ┆ 6.0             ┆ 16       │\n",
       "│ 2022 ┆ Dinamarca       ┆ 6       ┆ 6.0             ┆ 2        │\n",
       "└──────┴─────────────────┴─────────┴─────────────────┴──────────┘"
      ]
     },
     "execution_count": 82,
     "metadata": {},
     "output_type": "execute_result"
    }
   ],
   "source": [
    "exp_vinho_corrected = exp_vinho.join(cpi_us, on=\"year\").sort(\"year\")\n",
    "(\n",
    "    exp_vinho_corrected.insert_at_idx(\n",
    "        3,\n",
    "        pl.Series(\n",
    "            \"value_corrected\",\n",
    "            exp_vinho_corrected[\"value\"] * exp_vinho_corrected[\"infl_year\"],\n",
    "        ),\n",
    "    )\n",
    ").drop([\"cpi\", \"infl_year\"])"
   ]
  },
  {
   "cell_type": "markdown",
   "metadata": {},
   "source": [
    "## Total acumulado entre 2000 e 2022 (valor em US$ de 2022 e quantidade em 1KG=1L)"
   ]
  },
  {
   "cell_type": "code",
   "execution_count": null,
   "metadata": {},
   "outputs": [
    {
     "data": {
      "text/html": [
       "<style>.itables table td {\n",
       "    text-overflow: ellipsis;\n",
       "    overflow: hidden;\n",
       "}\n",
       "\n",
       ".itables table th {\n",
       "    text-overflow: ellipsis;\n",
       "    overflow: hidden;\n",
       "}\n",
       "\n",
       ".itables thead input {\n",
       "    width: 100%;\n",
       "    padding: 3px;\n",
       "    box-sizing: border-box;\n",
       "}\n",
       "\n",
       ".itables tfoot input {\n",
       "    width: 100%;\n",
       "    padding: 3px;\n",
       "    box-sizing: border-box;\n",
       "}\n",
       "</style>\n",
       "<div class=\"itables\">\n",
       "<table id=\"76722320-e357-4802-b6f7-7cdb0bf61d6c\" class=\"display nowrap\"style=\"table-layout:auto;width:auto;margin:auto;caption-side:bottom\"><thead>\n",
       "    <tr style=\"text-align: right;\">\n",
       "      \n",
       "      <th>country</th>\n",
       "      <th>value_corrected</th>\n",
       "      <th>quantity</th>\n",
       "    </tr>\n",
       "  </thead><tbody><tr><td>Loading... (need <a href=https://mwouts.github.io/itables/troubleshooting.html>help</a>?)</td></tr></tbody></table>\n",
       "<link rel=\"stylesheet\" type=\"text/css\" href=\"https://cdn.datatables.net/1.13.1/css/jquery.dataTables.min.css\">\n",
       "<script type=\"module\">\n",
       "    // Import jquery and DataTable\n",
       "    import 'https://code.jquery.com/jquery-3.6.0.min.js';\n",
       "    import dt from 'https://cdn.datatables.net/1.12.1/js/jquery.dataTables.mjs';\n",
       "    dt($);\n",
       "\n",
       "    // Define the table data\n",
       "    const data = [[\"Paraguai\", 58453133.93054382, 49527001], [\"R\\u00fassia\", 26364598.89183446, 59879899], [\"Estados Unidos\", 15608478.671063, 5001324], [\"Reino Unido\", 6120231.516882269, 1368710], [\"Jap\\u00e3o\", 6058768.002744148, 4346148], [\"China\", 5804781.432093316, 2519500], [\"Pa\\u00edses Baixos (Holanda)\", 5452029.496043985, 1453038], [\"Alemanha\", 4002243.325301607, 1153808], [\"Espanha\", 2558208.6786129447, 3765312], [\"Haiti\", 2501443.7191637247, 1791603], [\"B\\u00e9lgica\", 1884969.1041175483, 468469], [\"Su\\u00ed\\u00e7a\", 1840724.138479383, 345937], [\"Angola\", 1674845.1787546286, 554380], [\"Canad\\u00e1\", 1502011.952186848, 217414], [\"Fran\\u00e7a\", 1363179.2825328587, 448276], [\"Uruguai\", 1337221.540066273, 892616], [\"Tcheca, Rep\\u00fablica\", 1219240.1225224768, 260858], [\"Finl\\u00e2ndia\", 1164794.0988413643, 243840], [\"Portugal\", 1109057.721772514, 610886], [\"Bol\\u00edvia\", 1060944.6520653893, 1213354]];\n",
       "\n",
       "    // Define the dt_args\n",
       "    let dt_args = {\"order\": []};\n",
       "    dt_args[\"data\"] = data;\n",
       "\n",
       "    $(document).ready(function () {\n",
       "        \n",
       "        $('#76722320-e357-4802-b6f7-7cdb0bf61d6c').DataTable(dt_args);\n",
       "    });\n",
       "</script>\n",
       "</div>\n"
      ],
      "text/plain": [
       "<IPython.core.display.HTML object>"
      ]
     },
     "metadata": {},
     "output_type": "display_data"
    }
   ],
   "source": [
    "exp_vinho_top20 = (\n",
    "    exp_vinho_corrected.group_by(by=\"country\")\n",
    "    .sum()\n",
    "    .select(pl.col([\"country\", \"value_corrected\", \"quantity\"]))\n",
    "    .sort(\"value_corrected\", descending=True)\n",
    "    .limit(20)\n",
    ")\n",
    "show(exp_vinho_top20)"
   ]
  },
  {
   "cell_type": "code",
   "execution_count": null,
   "metadata": {},
   "outputs": [
    {
     "data": {
      "application/vnd.plotly.v1+json": {
       "config": {
        "plotlyServerURL": "https://plot.ly"
       },
       "data": [
        {
         "branchvalues": "total",
         "customdata": [
          [
           4002243.325301607
          ],
          [
           1674845.1787546286
          ],
          [
           1060944.6520653893
          ],
          [
           1884969.1041175483
          ],
          [
           1502011.9521868483
          ],
          [
           5804781.432093316
          ],
          [
           2558208.6786129447
          ],
          [
           15608478.671063
          ],
          [
           1164794.0988413643
          ],
          [
           1363179.2825328587
          ],
          [
           2501443.7191637247
          ],
          [
           6058768.002744148
          ],
          [
           58453133.93054382
          ],
          [
           5452029.496043985
          ],
          [
           1109057.721772514
          ],
          [
           6120231.51688227
          ],
          [
           26364598.89183446
          ],
          [
           1840724.138479383
          ],
          [
           1219240.1225224768
          ],
          [
           1337221.540066273
          ]
         ],
         "domain": {
          "x": [
           0,
           1
          ],
          "y": [
           0,
           1
          ]
         },
         "hovertemplate": "labels=%{label}<br>value_corrected_sum=%{value}<br>parent=%{parent}<br>id=%{id}<br>Valor em US$=%{color}<extra></extra>",
         "ids": [
          "Alemanha",
          "Angola",
          "Bolívia",
          "Bélgica",
          "Canadá",
          "China",
          "Espanha",
          "Estados Unidos",
          "Finlândia",
          "França",
          "Haiti",
          "Japão",
          "Paraguai",
          "Países Baixos (Holanda)",
          "Portugal",
          "Reino Unido",
          "Rússia",
          "Suíça",
          "Tcheca, República",
          "Uruguai"
         ],
         "labels": [
          "Alemanha",
          "Angola",
          "Bolívia",
          "Bélgica",
          "Canadá",
          "China",
          "Espanha",
          "Estados Unidos",
          "Finlândia",
          "França",
          "Haiti",
          "Japão",
          "Paraguai",
          "Países Baixos (Holanda)",
          "Portugal",
          "Reino Unido",
          "Rússia",
          "Suíça",
          "Tcheca, República",
          "Uruguai"
         ],
         "marker": {
          "coloraxis": "coloraxis",
          "colors": [
           4002243.325301607,
           1674845.1787546286,
           1060944.6520653893,
           1884969.1041175483,
           1502011.9521868483,
           5804781.432093316,
           2558208.6786129447,
           15608478.671063,
           1164794.0988413643,
           1363179.2825328587,
           2501443.7191637247,
           6058768.002744148,
           58453133.93054382,
           5452029.496043985,
           1109057.721772514,
           6120231.51688227,
           26364598.89183446,
           1840724.138479383,
           1219240.1225224768,
           1337221.540066273
          ]
         },
         "name": "",
         "parents": [
          "",
          "",
          "",
          "",
          "",
          "",
          "",
          "",
          "",
          "",
          "",
          "",
          "",
          "",
          "",
          "",
          "",
          "",
          "",
          ""
         ],
         "type": "treemap",
         "values": [
          4002243.325301607,
          1674845.1787546286,
          1060944.6520653893,
          1884969.1041175483,
          1502011.952186848,
          5804781.432093316,
          2558208.6786129447,
          15608478.671063,
          1164794.0988413643,
          1363179.2825328587,
          2501443.7191637247,
          6058768.002744148,
          58453133.93054382,
          5452029.496043985,
          1109057.721772514,
          6120231.516882269,
          26364598.89183446,
          1840724.138479383,
          1219240.1225224768,
          1337221.540066273
         ]
        }
       ],
       "layout": {
        "coloraxis": {
         "colorbar": {
          "title": {
           "text": "Valor em US$"
          }
         },
         "colorscale": [
          [
           0,
           "rgb(103,0,31)"
          ],
          [
           0.1,
           "rgb(178,24,43)"
          ],
          [
           0.2,
           "rgb(214,96,77)"
          ],
          [
           0.3,
           "rgb(244,165,130)"
          ],
          [
           0.4,
           "rgb(253,219,199)"
          ],
          [
           0.5,
           "rgb(247,247,247)"
          ],
          [
           0.6,
           "rgb(209,229,240)"
          ],
          [
           0.7,
           "rgb(146,197,222)"
          ],
          [
           0.8,
           "rgb(67,147,195)"
          ],
          [
           0.9,
           "rgb(33,102,172)"
          ],
          [
           1,
           "rgb(5,48,97)"
          ]
         ]
        },
        "height": 600,
        "legend": {
         "tracegroupgap": 0
        },
        "template": {
         "data": {
          "bar": [
           {
            "error_x": {
             "color": "#2a3f5f"
            },
            "error_y": {
             "color": "#2a3f5f"
            },
            "marker": {
             "line": {
              "color": "white",
              "width": 0.5
             },
             "pattern": {
              "fillmode": "overlay",
              "size": 10,
              "solidity": 0.2
             }
            },
            "type": "bar"
           }
          ],
          "barpolar": [
           {
            "marker": {
             "line": {
              "color": "white",
              "width": 0.5
             },
             "pattern": {
              "fillmode": "overlay",
              "size": 10,
              "solidity": 0.2
             }
            },
            "type": "barpolar"
           }
          ],
          "carpet": [
           {
            "aaxis": {
             "endlinecolor": "#2a3f5f",
             "gridcolor": "#C8D4E3",
             "linecolor": "#C8D4E3",
             "minorgridcolor": "#C8D4E3",
             "startlinecolor": "#2a3f5f"
            },
            "baxis": {
             "endlinecolor": "#2a3f5f",
             "gridcolor": "#C8D4E3",
             "linecolor": "#C8D4E3",
             "minorgridcolor": "#C8D4E3",
             "startlinecolor": "#2a3f5f"
            },
            "type": "carpet"
           }
          ],
          "choropleth": [
           {
            "colorbar": {
             "outlinewidth": 0,
             "ticks": ""
            },
            "type": "choropleth"
           }
          ],
          "contour": [
           {
            "colorbar": {
             "outlinewidth": 0,
             "ticks": ""
            },
            "colorscale": [
             [
              0,
              "#0d0887"
             ],
             [
              0.1111111111111111,
              "#46039f"
             ],
             [
              0.2222222222222222,
              "#7201a8"
             ],
             [
              0.3333333333333333,
              "#9c179e"
             ],
             [
              0.4444444444444444,
              "#bd3786"
             ],
             [
              0.5555555555555556,
              "#d8576b"
             ],
             [
              0.6666666666666666,
              "#ed7953"
             ],
             [
              0.7777777777777778,
              "#fb9f3a"
             ],
             [
              0.8888888888888888,
              "#fdca26"
             ],
             [
              1,
              "#f0f921"
             ]
            ],
            "type": "contour"
           }
          ],
          "contourcarpet": [
           {
            "colorbar": {
             "outlinewidth": 0,
             "ticks": ""
            },
            "type": "contourcarpet"
           }
          ],
          "heatmap": [
           {
            "colorbar": {
             "outlinewidth": 0,
             "ticks": ""
            },
            "colorscale": [
             [
              0,
              "#0d0887"
             ],
             [
              0.1111111111111111,
              "#46039f"
             ],
             [
              0.2222222222222222,
              "#7201a8"
             ],
             [
              0.3333333333333333,
              "#9c179e"
             ],
             [
              0.4444444444444444,
              "#bd3786"
             ],
             [
              0.5555555555555556,
              "#d8576b"
             ],
             [
              0.6666666666666666,
              "#ed7953"
             ],
             [
              0.7777777777777778,
              "#fb9f3a"
             ],
             [
              0.8888888888888888,
              "#fdca26"
             ],
             [
              1,
              "#f0f921"
             ]
            ],
            "type": "heatmap"
           }
          ],
          "heatmapgl": [
           {
            "colorbar": {
             "outlinewidth": 0,
             "ticks": ""
            },
            "colorscale": [
             [
              0,
              "#0d0887"
             ],
             [
              0.1111111111111111,
              "#46039f"
             ],
             [
              0.2222222222222222,
              "#7201a8"
             ],
             [
              0.3333333333333333,
              "#9c179e"
             ],
             [
              0.4444444444444444,
              "#bd3786"
             ],
             [
              0.5555555555555556,
              "#d8576b"
             ],
             [
              0.6666666666666666,
              "#ed7953"
             ],
             [
              0.7777777777777778,
              "#fb9f3a"
             ],
             [
              0.8888888888888888,
              "#fdca26"
             ],
             [
              1,
              "#f0f921"
             ]
            ],
            "type": "heatmapgl"
           }
          ],
          "histogram": [
           {
            "marker": {
             "pattern": {
              "fillmode": "overlay",
              "size": 10,
              "solidity": 0.2
             }
            },
            "type": "histogram"
           }
          ],
          "histogram2d": [
           {
            "colorbar": {
             "outlinewidth": 0,
             "ticks": ""
            },
            "colorscale": [
             [
              0,
              "#0d0887"
             ],
             [
              0.1111111111111111,
              "#46039f"
             ],
             [
              0.2222222222222222,
              "#7201a8"
             ],
             [
              0.3333333333333333,
              "#9c179e"
             ],
             [
              0.4444444444444444,
              "#bd3786"
             ],
             [
              0.5555555555555556,
              "#d8576b"
             ],
             [
              0.6666666666666666,
              "#ed7953"
             ],
             [
              0.7777777777777778,
              "#fb9f3a"
             ],
             [
              0.8888888888888888,
              "#fdca26"
             ],
             [
              1,
              "#f0f921"
             ]
            ],
            "type": "histogram2d"
           }
          ],
          "histogram2dcontour": [
           {
            "colorbar": {
             "outlinewidth": 0,
             "ticks": ""
            },
            "colorscale": [
             [
              0,
              "#0d0887"
             ],
             [
              0.1111111111111111,
              "#46039f"
             ],
             [
              0.2222222222222222,
              "#7201a8"
             ],
             [
              0.3333333333333333,
              "#9c179e"
             ],
             [
              0.4444444444444444,
              "#bd3786"
             ],
             [
              0.5555555555555556,
              "#d8576b"
             ],
             [
              0.6666666666666666,
              "#ed7953"
             ],
             [
              0.7777777777777778,
              "#fb9f3a"
             ],
             [
              0.8888888888888888,
              "#fdca26"
             ],
             [
              1,
              "#f0f921"
             ]
            ],
            "type": "histogram2dcontour"
           }
          ],
          "mesh3d": [
           {
            "colorbar": {
             "outlinewidth": 0,
             "ticks": ""
            },
            "type": "mesh3d"
           }
          ],
          "parcoords": [
           {
            "line": {
             "colorbar": {
              "outlinewidth": 0,
              "ticks": ""
             }
            },
            "type": "parcoords"
           }
          ],
          "pie": [
           {
            "automargin": true,
            "type": "pie"
           }
          ],
          "scatter": [
           {
            "fillpattern": {
             "fillmode": "overlay",
             "size": 10,
             "solidity": 0.2
            },
            "type": "scatter"
           }
          ],
          "scatter3d": [
           {
            "line": {
             "colorbar": {
              "outlinewidth": 0,
              "ticks": ""
             }
            },
            "marker": {
             "colorbar": {
              "outlinewidth": 0,
              "ticks": ""
             }
            },
            "type": "scatter3d"
           }
          ],
          "scattercarpet": [
           {
            "marker": {
             "colorbar": {
              "outlinewidth": 0,
              "ticks": ""
             }
            },
            "type": "scattercarpet"
           }
          ],
          "scattergeo": [
           {
            "marker": {
             "colorbar": {
              "outlinewidth": 0,
              "ticks": ""
             }
            },
            "type": "scattergeo"
           }
          ],
          "scattergl": [
           {
            "marker": {
             "colorbar": {
              "outlinewidth": 0,
              "ticks": ""
             }
            },
            "type": "scattergl"
           }
          ],
          "scattermapbox": [
           {
            "marker": {
             "colorbar": {
              "outlinewidth": 0,
              "ticks": ""
             }
            },
            "type": "scattermapbox"
           }
          ],
          "scatterpolar": [
           {
            "marker": {
             "colorbar": {
              "outlinewidth": 0,
              "ticks": ""
             }
            },
            "type": "scatterpolar"
           }
          ],
          "scatterpolargl": [
           {
            "marker": {
             "colorbar": {
              "outlinewidth": 0,
              "ticks": ""
             }
            },
            "type": "scatterpolargl"
           }
          ],
          "scatterternary": [
           {
            "marker": {
             "colorbar": {
              "outlinewidth": 0,
              "ticks": ""
             }
            },
            "type": "scatterternary"
           }
          ],
          "surface": [
           {
            "colorbar": {
             "outlinewidth": 0,
             "ticks": ""
            },
            "colorscale": [
             [
              0,
              "#0d0887"
             ],
             [
              0.1111111111111111,
              "#46039f"
             ],
             [
              0.2222222222222222,
              "#7201a8"
             ],
             [
              0.3333333333333333,
              "#9c179e"
             ],
             [
              0.4444444444444444,
              "#bd3786"
             ],
             [
              0.5555555555555556,
              "#d8576b"
             ],
             [
              0.6666666666666666,
              "#ed7953"
             ],
             [
              0.7777777777777778,
              "#fb9f3a"
             ],
             [
              0.8888888888888888,
              "#fdca26"
             ],
             [
              1,
              "#f0f921"
             ]
            ],
            "type": "surface"
           }
          ],
          "table": [
           {
            "cells": {
             "fill": {
              "color": "#EBF0F8"
             },
             "line": {
              "color": "white"
             }
            },
            "header": {
             "fill": {
              "color": "#C8D4E3"
             },
             "line": {
              "color": "white"
             }
            },
            "type": "table"
           }
          ]
         },
         "layout": {
          "annotationdefaults": {
           "arrowcolor": "#2a3f5f",
           "arrowhead": 0,
           "arrowwidth": 1
          },
          "autotypenumbers": "strict",
          "coloraxis": {
           "colorbar": {
            "outlinewidth": 0,
            "ticks": ""
           }
          },
          "colorscale": {
           "diverging": [
            [
             0,
             "#8e0152"
            ],
            [
             0.1,
             "#c51b7d"
            ],
            [
             0.2,
             "#de77ae"
            ],
            [
             0.3,
             "#f1b6da"
            ],
            [
             0.4,
             "#fde0ef"
            ],
            [
             0.5,
             "#f7f7f7"
            ],
            [
             0.6,
             "#e6f5d0"
            ],
            [
             0.7,
             "#b8e186"
            ],
            [
             0.8,
             "#7fbc41"
            ],
            [
             0.9,
             "#4d9221"
            ],
            [
             1,
             "#276419"
            ]
           ],
           "sequential": [
            [
             0,
             "#0d0887"
            ],
            [
             0.1111111111111111,
             "#46039f"
            ],
            [
             0.2222222222222222,
             "#7201a8"
            ],
            [
             0.3333333333333333,
             "#9c179e"
            ],
            [
             0.4444444444444444,
             "#bd3786"
            ],
            [
             0.5555555555555556,
             "#d8576b"
            ],
            [
             0.6666666666666666,
             "#ed7953"
            ],
            [
             0.7777777777777778,
             "#fb9f3a"
            ],
            [
             0.8888888888888888,
             "#fdca26"
            ],
            [
             1,
             "#f0f921"
            ]
           ],
           "sequentialminus": [
            [
             0,
             "#0d0887"
            ],
            [
             0.1111111111111111,
             "#46039f"
            ],
            [
             0.2222222222222222,
             "#7201a8"
            ],
            [
             0.3333333333333333,
             "#9c179e"
            ],
            [
             0.4444444444444444,
             "#bd3786"
            ],
            [
             0.5555555555555556,
             "#d8576b"
            ],
            [
             0.6666666666666666,
             "#ed7953"
            ],
            [
             0.7777777777777778,
             "#fb9f3a"
            ],
            [
             0.8888888888888888,
             "#fdca26"
            ],
            [
             1,
             "#f0f921"
            ]
           ]
          },
          "colorway": [
           "#636efa",
           "#EF553B",
           "#00cc96",
           "#ab63fa",
           "#FFA15A",
           "#19d3f3",
           "#FF6692",
           "#B6E880",
           "#FF97FF",
           "#FECB52"
          ],
          "font": {
           "color": "#2a3f5f"
          },
          "geo": {
           "bgcolor": "white",
           "lakecolor": "white",
           "landcolor": "white",
           "showlakes": true,
           "showland": true,
           "subunitcolor": "#C8D4E3"
          },
          "hoverlabel": {
           "align": "left"
          },
          "hovermode": "closest",
          "mapbox": {
           "style": "light"
          },
          "paper_bgcolor": "white",
          "plot_bgcolor": "white",
          "polar": {
           "angularaxis": {
            "gridcolor": "#EBF0F8",
            "linecolor": "#EBF0F8",
            "ticks": ""
           },
           "bgcolor": "white",
           "radialaxis": {
            "gridcolor": "#EBF0F8",
            "linecolor": "#EBF0F8",
            "ticks": ""
           }
          },
          "scene": {
           "xaxis": {
            "backgroundcolor": "white",
            "gridcolor": "#DFE8F3",
            "gridwidth": 2,
            "linecolor": "#EBF0F8",
            "showbackground": true,
            "ticks": "",
            "zerolinecolor": "#EBF0F8"
           },
           "yaxis": {
            "backgroundcolor": "white",
            "gridcolor": "#DFE8F3",
            "gridwidth": 2,
            "linecolor": "#EBF0F8",
            "showbackground": true,
            "ticks": "",
            "zerolinecolor": "#EBF0F8"
           },
           "zaxis": {
            "backgroundcolor": "white",
            "gridcolor": "#DFE8F3",
            "gridwidth": 2,
            "linecolor": "#EBF0F8",
            "showbackground": true,
            "ticks": "",
            "zerolinecolor": "#EBF0F8"
           }
          },
          "shapedefaults": {
           "line": {
            "color": "#2a3f5f"
           }
          },
          "ternary": {
           "aaxis": {
            "gridcolor": "#DFE8F3",
            "linecolor": "#A2B1C6",
            "ticks": ""
           },
           "baxis": {
            "gridcolor": "#DFE8F3",
            "linecolor": "#A2B1C6",
            "ticks": ""
           },
           "bgcolor": "white",
           "caxis": {
            "gridcolor": "#DFE8F3",
            "linecolor": "#A2B1C6",
            "ticks": ""
           }
          },
          "title": {
           "x": 0.05
          },
          "xaxis": {
           "automargin": true,
           "gridcolor": "#EBF0F8",
           "linecolor": "#EBF0F8",
           "ticks": "",
           "title": {
            "standoff": 15
           },
           "zerolinecolor": "#EBF0F8",
           "zerolinewidth": 2
          },
          "yaxis": {
           "automargin": true,
           "gridcolor": "#EBF0F8",
           "linecolor": "#EBF0F8",
           "ticks": "",
           "title": {
            "standoff": 15
           },
           "zerolinecolor": "#EBF0F8",
           "zerolinewidth": 2
          }
         }
        },
        "title": {
         "text": "Top 20 - valor em US$ de 2022"
        },
        "width": 800
       }
      }
     },
     "metadata": {},
     "output_type": "display_data"
    }
   ],
   "source": [
    "px.treemap(\n",
    "    exp_vinho_top20,\n",
    "    path=[\"country\"],\n",
    "    values=\"value_corrected\",\n",
    "    color=\"value_corrected\",\n",
    "    color_continuous_scale=\"RdBu\",\n",
    "    width=fig_w,\n",
    "    height=fig_h,\n",
    "    title=\"Top 20 - valor em US$ de 2022\",\n",
    "    labels={\"value_corrected\": \"Valor em US$\"},\n",
    ")"
   ]
  },
  {
   "cell_type": "code",
   "execution_count": null,
   "metadata": {},
   "outputs": [
    {
     "data": {
      "application/vnd.plotly.v1+json": {
       "config": {
        "plotlyServerURL": "https://plot.ly"
       },
       "data": [
        {
         "branchvalues": "total",
         "customdata": [
          [
           1153808
          ],
          [
           554380
          ],
          [
           1213354
          ],
          [
           468469
          ],
          [
           217414
          ],
          [
           2519500
          ],
          [
           3765312
          ],
          [
           5001324
          ],
          [
           243840
          ],
          [
           448276
          ],
          [
           1791603
          ],
          [
           4346148
          ],
          [
           49527001
          ],
          [
           1453038
          ],
          [
           610886
          ],
          [
           1368710
          ],
          [
           59879899
          ],
          [
           345937
          ],
          [
           260858
          ],
          [
           892616
          ]
         ],
         "domain": {
          "x": [
           0,
           1
          ],
          "y": [
           0,
           1
          ]
         },
         "hovertemplate": "labels=%{label}<br>quantity_sum=%{value}<br>parent=%{parent}<br>id=%{id}<br>quantidade=%{color}<extra></extra>",
         "ids": [
          "Alemanha",
          "Angola",
          "Bolívia",
          "Bélgica",
          "Canadá",
          "China",
          "Espanha",
          "Estados Unidos",
          "Finlândia",
          "França",
          "Haiti",
          "Japão",
          "Paraguai",
          "Países Baixos (Holanda)",
          "Portugal",
          "Reino Unido",
          "Rússia",
          "Suíça",
          "Tcheca, República",
          "Uruguai"
         ],
         "labels": [
          "Alemanha",
          "Angola",
          "Bolívia",
          "Bélgica",
          "Canadá",
          "China",
          "Espanha",
          "Estados Unidos",
          "Finlândia",
          "França",
          "Haiti",
          "Japão",
          "Paraguai",
          "Países Baixos (Holanda)",
          "Portugal",
          "Reino Unido",
          "Rússia",
          "Suíça",
          "Tcheca, República",
          "Uruguai"
         ],
         "marker": {
          "coloraxis": "coloraxis",
          "colors": [
           1153808,
           554380,
           1213354,
           468469,
           217414,
           2519500,
           3765312,
           5001324,
           243840,
           448276,
           1791603,
           4346148,
           49527001,
           1453038,
           610886,
           1368710,
           59879899,
           345937,
           260858,
           892616
          ]
         },
         "name": "",
         "parents": [
          "",
          "",
          "",
          "",
          "",
          "",
          "",
          "",
          "",
          "",
          "",
          "",
          "",
          "",
          "",
          "",
          "",
          "",
          "",
          ""
         ],
         "type": "treemap",
         "values": [
          1153808,
          554380,
          1213354,
          468469,
          217414,
          2519500,
          3765312,
          5001324,
          243840,
          448276,
          1791603,
          4346148,
          49527001,
          1453038,
          610886,
          1368710,
          59879899,
          345937,
          260858,
          892616
         ]
        }
       ],
       "layout": {
        "coloraxis": {
         "colorbar": {
          "title": {
           "text": "quantidade"
          }
         },
         "colorscale": [
          [
           0,
           "rgb(103,0,31)"
          ],
          [
           0.1,
           "rgb(178,24,43)"
          ],
          [
           0.2,
           "rgb(214,96,77)"
          ],
          [
           0.3,
           "rgb(244,165,130)"
          ],
          [
           0.4,
           "rgb(253,219,199)"
          ],
          [
           0.5,
           "rgb(247,247,247)"
          ],
          [
           0.6,
           "rgb(209,229,240)"
          ],
          [
           0.7,
           "rgb(146,197,222)"
          ],
          [
           0.8,
           "rgb(67,147,195)"
          ],
          [
           0.9,
           "rgb(33,102,172)"
          ],
          [
           1,
           "rgb(5,48,97)"
          ]
         ]
        },
        "height": 600,
        "legend": {
         "tracegroupgap": 0
        },
        "template": {
         "data": {
          "bar": [
           {
            "error_x": {
             "color": "#2a3f5f"
            },
            "error_y": {
             "color": "#2a3f5f"
            },
            "marker": {
             "line": {
              "color": "white",
              "width": 0.5
             },
             "pattern": {
              "fillmode": "overlay",
              "size": 10,
              "solidity": 0.2
             }
            },
            "type": "bar"
           }
          ],
          "barpolar": [
           {
            "marker": {
             "line": {
              "color": "white",
              "width": 0.5
             },
             "pattern": {
              "fillmode": "overlay",
              "size": 10,
              "solidity": 0.2
             }
            },
            "type": "barpolar"
           }
          ],
          "carpet": [
           {
            "aaxis": {
             "endlinecolor": "#2a3f5f",
             "gridcolor": "#C8D4E3",
             "linecolor": "#C8D4E3",
             "minorgridcolor": "#C8D4E3",
             "startlinecolor": "#2a3f5f"
            },
            "baxis": {
             "endlinecolor": "#2a3f5f",
             "gridcolor": "#C8D4E3",
             "linecolor": "#C8D4E3",
             "minorgridcolor": "#C8D4E3",
             "startlinecolor": "#2a3f5f"
            },
            "type": "carpet"
           }
          ],
          "choropleth": [
           {
            "colorbar": {
             "outlinewidth": 0,
             "ticks": ""
            },
            "type": "choropleth"
           }
          ],
          "contour": [
           {
            "colorbar": {
             "outlinewidth": 0,
             "ticks": ""
            },
            "colorscale": [
             [
              0,
              "#0d0887"
             ],
             [
              0.1111111111111111,
              "#46039f"
             ],
             [
              0.2222222222222222,
              "#7201a8"
             ],
             [
              0.3333333333333333,
              "#9c179e"
             ],
             [
              0.4444444444444444,
              "#bd3786"
             ],
             [
              0.5555555555555556,
              "#d8576b"
             ],
             [
              0.6666666666666666,
              "#ed7953"
             ],
             [
              0.7777777777777778,
              "#fb9f3a"
             ],
             [
              0.8888888888888888,
              "#fdca26"
             ],
             [
              1,
              "#f0f921"
             ]
            ],
            "type": "contour"
           }
          ],
          "contourcarpet": [
           {
            "colorbar": {
             "outlinewidth": 0,
             "ticks": ""
            },
            "type": "contourcarpet"
           }
          ],
          "heatmap": [
           {
            "colorbar": {
             "outlinewidth": 0,
             "ticks": ""
            },
            "colorscale": [
             [
              0,
              "#0d0887"
             ],
             [
              0.1111111111111111,
              "#46039f"
             ],
             [
              0.2222222222222222,
              "#7201a8"
             ],
             [
              0.3333333333333333,
              "#9c179e"
             ],
             [
              0.4444444444444444,
              "#bd3786"
             ],
             [
              0.5555555555555556,
              "#d8576b"
             ],
             [
              0.6666666666666666,
              "#ed7953"
             ],
             [
              0.7777777777777778,
              "#fb9f3a"
             ],
             [
              0.8888888888888888,
              "#fdca26"
             ],
             [
              1,
              "#f0f921"
             ]
            ],
            "type": "heatmap"
           }
          ],
          "heatmapgl": [
           {
            "colorbar": {
             "outlinewidth": 0,
             "ticks": ""
            },
            "colorscale": [
             [
              0,
              "#0d0887"
             ],
             [
              0.1111111111111111,
              "#46039f"
             ],
             [
              0.2222222222222222,
              "#7201a8"
             ],
             [
              0.3333333333333333,
              "#9c179e"
             ],
             [
              0.4444444444444444,
              "#bd3786"
             ],
             [
              0.5555555555555556,
              "#d8576b"
             ],
             [
              0.6666666666666666,
              "#ed7953"
             ],
             [
              0.7777777777777778,
              "#fb9f3a"
             ],
             [
              0.8888888888888888,
              "#fdca26"
             ],
             [
              1,
              "#f0f921"
             ]
            ],
            "type": "heatmapgl"
           }
          ],
          "histogram": [
           {
            "marker": {
             "pattern": {
              "fillmode": "overlay",
              "size": 10,
              "solidity": 0.2
             }
            },
            "type": "histogram"
           }
          ],
          "histogram2d": [
           {
            "colorbar": {
             "outlinewidth": 0,
             "ticks": ""
            },
            "colorscale": [
             [
              0,
              "#0d0887"
             ],
             [
              0.1111111111111111,
              "#46039f"
             ],
             [
              0.2222222222222222,
              "#7201a8"
             ],
             [
              0.3333333333333333,
              "#9c179e"
             ],
             [
              0.4444444444444444,
              "#bd3786"
             ],
             [
              0.5555555555555556,
              "#d8576b"
             ],
             [
              0.6666666666666666,
              "#ed7953"
             ],
             [
              0.7777777777777778,
              "#fb9f3a"
             ],
             [
              0.8888888888888888,
              "#fdca26"
             ],
             [
              1,
              "#f0f921"
             ]
            ],
            "type": "histogram2d"
           }
          ],
          "histogram2dcontour": [
           {
            "colorbar": {
             "outlinewidth": 0,
             "ticks": ""
            },
            "colorscale": [
             [
              0,
              "#0d0887"
             ],
             [
              0.1111111111111111,
              "#46039f"
             ],
             [
              0.2222222222222222,
              "#7201a8"
             ],
             [
              0.3333333333333333,
              "#9c179e"
             ],
             [
              0.4444444444444444,
              "#bd3786"
             ],
             [
              0.5555555555555556,
              "#d8576b"
             ],
             [
              0.6666666666666666,
              "#ed7953"
             ],
             [
              0.7777777777777778,
              "#fb9f3a"
             ],
             [
              0.8888888888888888,
              "#fdca26"
             ],
             [
              1,
              "#f0f921"
             ]
            ],
            "type": "histogram2dcontour"
           }
          ],
          "mesh3d": [
           {
            "colorbar": {
             "outlinewidth": 0,
             "ticks": ""
            },
            "type": "mesh3d"
           }
          ],
          "parcoords": [
           {
            "line": {
             "colorbar": {
              "outlinewidth": 0,
              "ticks": ""
             }
            },
            "type": "parcoords"
           }
          ],
          "pie": [
           {
            "automargin": true,
            "type": "pie"
           }
          ],
          "scatter": [
           {
            "fillpattern": {
             "fillmode": "overlay",
             "size": 10,
             "solidity": 0.2
            },
            "type": "scatter"
           }
          ],
          "scatter3d": [
           {
            "line": {
             "colorbar": {
              "outlinewidth": 0,
              "ticks": ""
             }
            },
            "marker": {
             "colorbar": {
              "outlinewidth": 0,
              "ticks": ""
             }
            },
            "type": "scatter3d"
           }
          ],
          "scattercarpet": [
           {
            "marker": {
             "colorbar": {
              "outlinewidth": 0,
              "ticks": ""
             }
            },
            "type": "scattercarpet"
           }
          ],
          "scattergeo": [
           {
            "marker": {
             "colorbar": {
              "outlinewidth": 0,
              "ticks": ""
             }
            },
            "type": "scattergeo"
           }
          ],
          "scattergl": [
           {
            "marker": {
             "colorbar": {
              "outlinewidth": 0,
              "ticks": ""
             }
            },
            "type": "scattergl"
           }
          ],
          "scattermapbox": [
           {
            "marker": {
             "colorbar": {
              "outlinewidth": 0,
              "ticks": ""
             }
            },
            "type": "scattermapbox"
           }
          ],
          "scatterpolar": [
           {
            "marker": {
             "colorbar": {
              "outlinewidth": 0,
              "ticks": ""
             }
            },
            "type": "scatterpolar"
           }
          ],
          "scatterpolargl": [
           {
            "marker": {
             "colorbar": {
              "outlinewidth": 0,
              "ticks": ""
             }
            },
            "type": "scatterpolargl"
           }
          ],
          "scatterternary": [
           {
            "marker": {
             "colorbar": {
              "outlinewidth": 0,
              "ticks": ""
             }
            },
            "type": "scatterternary"
           }
          ],
          "surface": [
           {
            "colorbar": {
             "outlinewidth": 0,
             "ticks": ""
            },
            "colorscale": [
             [
              0,
              "#0d0887"
             ],
             [
              0.1111111111111111,
              "#46039f"
             ],
             [
              0.2222222222222222,
              "#7201a8"
             ],
             [
              0.3333333333333333,
              "#9c179e"
             ],
             [
              0.4444444444444444,
              "#bd3786"
             ],
             [
              0.5555555555555556,
              "#d8576b"
             ],
             [
              0.6666666666666666,
              "#ed7953"
             ],
             [
              0.7777777777777778,
              "#fb9f3a"
             ],
             [
              0.8888888888888888,
              "#fdca26"
             ],
             [
              1,
              "#f0f921"
             ]
            ],
            "type": "surface"
           }
          ],
          "table": [
           {
            "cells": {
             "fill": {
              "color": "#EBF0F8"
             },
             "line": {
              "color": "white"
             }
            },
            "header": {
             "fill": {
              "color": "#C8D4E3"
             },
             "line": {
              "color": "white"
             }
            },
            "type": "table"
           }
          ]
         },
         "layout": {
          "annotationdefaults": {
           "arrowcolor": "#2a3f5f",
           "arrowhead": 0,
           "arrowwidth": 1
          },
          "autotypenumbers": "strict",
          "coloraxis": {
           "colorbar": {
            "outlinewidth": 0,
            "ticks": ""
           }
          },
          "colorscale": {
           "diverging": [
            [
             0,
             "#8e0152"
            ],
            [
             0.1,
             "#c51b7d"
            ],
            [
             0.2,
             "#de77ae"
            ],
            [
             0.3,
             "#f1b6da"
            ],
            [
             0.4,
             "#fde0ef"
            ],
            [
             0.5,
             "#f7f7f7"
            ],
            [
             0.6,
             "#e6f5d0"
            ],
            [
             0.7,
             "#b8e186"
            ],
            [
             0.8,
             "#7fbc41"
            ],
            [
             0.9,
             "#4d9221"
            ],
            [
             1,
             "#276419"
            ]
           ],
           "sequential": [
            [
             0,
             "#0d0887"
            ],
            [
             0.1111111111111111,
             "#46039f"
            ],
            [
             0.2222222222222222,
             "#7201a8"
            ],
            [
             0.3333333333333333,
             "#9c179e"
            ],
            [
             0.4444444444444444,
             "#bd3786"
            ],
            [
             0.5555555555555556,
             "#d8576b"
            ],
            [
             0.6666666666666666,
             "#ed7953"
            ],
            [
             0.7777777777777778,
             "#fb9f3a"
            ],
            [
             0.8888888888888888,
             "#fdca26"
            ],
            [
             1,
             "#f0f921"
            ]
           ],
           "sequentialminus": [
            [
             0,
             "#0d0887"
            ],
            [
             0.1111111111111111,
             "#46039f"
            ],
            [
             0.2222222222222222,
             "#7201a8"
            ],
            [
             0.3333333333333333,
             "#9c179e"
            ],
            [
             0.4444444444444444,
             "#bd3786"
            ],
            [
             0.5555555555555556,
             "#d8576b"
            ],
            [
             0.6666666666666666,
             "#ed7953"
            ],
            [
             0.7777777777777778,
             "#fb9f3a"
            ],
            [
             0.8888888888888888,
             "#fdca26"
            ],
            [
             1,
             "#f0f921"
            ]
           ]
          },
          "colorway": [
           "#636efa",
           "#EF553B",
           "#00cc96",
           "#ab63fa",
           "#FFA15A",
           "#19d3f3",
           "#FF6692",
           "#B6E880",
           "#FF97FF",
           "#FECB52"
          ],
          "font": {
           "color": "#2a3f5f"
          },
          "geo": {
           "bgcolor": "white",
           "lakecolor": "white",
           "landcolor": "white",
           "showlakes": true,
           "showland": true,
           "subunitcolor": "#C8D4E3"
          },
          "hoverlabel": {
           "align": "left"
          },
          "hovermode": "closest",
          "mapbox": {
           "style": "light"
          },
          "paper_bgcolor": "white",
          "plot_bgcolor": "white",
          "polar": {
           "angularaxis": {
            "gridcolor": "#EBF0F8",
            "linecolor": "#EBF0F8",
            "ticks": ""
           },
           "bgcolor": "white",
           "radialaxis": {
            "gridcolor": "#EBF0F8",
            "linecolor": "#EBF0F8",
            "ticks": ""
           }
          },
          "scene": {
           "xaxis": {
            "backgroundcolor": "white",
            "gridcolor": "#DFE8F3",
            "gridwidth": 2,
            "linecolor": "#EBF0F8",
            "showbackground": true,
            "ticks": "",
            "zerolinecolor": "#EBF0F8"
           },
           "yaxis": {
            "backgroundcolor": "white",
            "gridcolor": "#DFE8F3",
            "gridwidth": 2,
            "linecolor": "#EBF0F8",
            "showbackground": true,
            "ticks": "",
            "zerolinecolor": "#EBF0F8"
           },
           "zaxis": {
            "backgroundcolor": "white",
            "gridcolor": "#DFE8F3",
            "gridwidth": 2,
            "linecolor": "#EBF0F8",
            "showbackground": true,
            "ticks": "",
            "zerolinecolor": "#EBF0F8"
           }
          },
          "shapedefaults": {
           "line": {
            "color": "#2a3f5f"
           }
          },
          "ternary": {
           "aaxis": {
            "gridcolor": "#DFE8F3",
            "linecolor": "#A2B1C6",
            "ticks": ""
           },
           "baxis": {
            "gridcolor": "#DFE8F3",
            "linecolor": "#A2B1C6",
            "ticks": ""
           },
           "bgcolor": "white",
           "caxis": {
            "gridcolor": "#DFE8F3",
            "linecolor": "#A2B1C6",
            "ticks": ""
           }
          },
          "title": {
           "x": 0.05
          },
          "xaxis": {
           "automargin": true,
           "gridcolor": "#EBF0F8",
           "linecolor": "#EBF0F8",
           "ticks": "",
           "title": {
            "standoff": 15
           },
           "zerolinecolor": "#EBF0F8",
           "zerolinewidth": 2
          },
          "yaxis": {
           "automargin": true,
           "gridcolor": "#EBF0F8",
           "linecolor": "#EBF0F8",
           "ticks": "",
           "title": {
            "standoff": 15
           },
           "zerolinecolor": "#EBF0F8",
           "zerolinewidth": 2
          }
         }
        },
        "title": {
         "text": "Top 20 - quantidade (1Kg=1L)"
        },
        "width": 800
       }
      }
     },
     "metadata": {},
     "output_type": "display_data"
    }
   ],
   "source": [
    "px.treemap(\n",
    "    exp_vinho_top20,\n",
    "    path=[\"country\"],\n",
    "    values=\"quantity\",\n",
    "    color=\"quantity\",\n",
    "    color_continuous_scale=\"RdBu\",\n",
    "    width=fig_w,\n",
    "    height=fig_h,\n",
    "    title=\"Top 20 - quantidade (1Kg=1L)\",\n",
    "    labels={\"quantity\": \"quantidade\"},\n",
    ")"
   ]
  },
  {
   "cell_type": "markdown",
   "metadata": {},
   "source": [
    "## Evolução anual dos 5 maiores compradores "
   ]
  },
  {
   "cell_type": "markdown",
   "metadata": {},
   "source": [
    "### Top 5 - valor em US$ de 2022"
   ]
  },
  {
   "cell_type": "code",
   "execution_count": null,
   "metadata": {},
   "outputs": [
    {
     "data": {
      "application/vnd.plotly.v1+json": {
       "config": {
        "plotlyServerURL": "https://plot.ly"
       },
       "data": [
        {
         "hovertemplate": "country=Paraguai<br>Ano=%{x}<br>log do Valor em US$=%{y}<extra></extra>",
         "legendgroup": "Paraguai",
         "line": {
          "color": "#636efa",
          "dash": "solid"
         },
         "marker": {
          "symbol": "circle"
         },
         "mode": "lines",
         "name": "Paraguai",
         "orientation": "v",
         "showlegend": true,
         "type": "scatter",
         "x": [
          2000,
          2001,
          2002,
          2003,
          2004,
          2005,
          2006,
          2007,
          2008,
          2009,
          2010,
          2011,
          2012,
          2013,
          2014,
          2015,
          2016,
          2017,
          2018,
          2019,
          2020,
          2021,
          2022
         ],
         "xaxis": "x",
         "y": [
          4069585.3118176535,
          3480604.908695652,
          1369067.4196498054,
          632184.1060054346,
          1178965.8575172047,
          1071593.8196620583,
          1268223.9264880952,
          1131312.2423098069,
          1867757.1777448524,
          442093.3840316588,
          727129.354638258,
          359453.0786346521,
          545911.4382126711,
          858092.1932373785,
          1122511.7191301703,
          915401.1625748362,
          2018547.2791418582,
          5103615.702757832,
          6401781.943673414,
          4589846.039009296,
          4375215.48726677,
          7767947.378344464,
          7156293
         ],
         "yaxis": "y"
        },
        {
         "hovertemplate": "country=Japão<br>Ano=%{x}<br>log do Valor em US$=%{y}<extra></extra>",
         "legendgroup": "Japão",
         "line": {
          "color": "#EF553B",
          "dash": "solid"
         },
         "marker": {
          "symbol": "circle"
         },
         "mode": "lines",
         "name": "Japão",
         "orientation": "v",
         "showlegend": true,
         "type": "scatter",
         "x": [
          2000,
          2001,
          2002,
          2003,
          2004,
          2005,
          2006,
          2007,
          2008,
          2009,
          2010,
          2011,
          2012,
          2013,
          2014,
          2015,
          2016,
          2017,
          2018,
          2019,
          2020,
          2021,
          2022
         ],
         "xaxis": "x",
         "y": [
          677100.3400116144,
          382462.5736024845,
          178223.47879377432,
          138829.80614130432,
          335076.8062996294,
          374565.43323092675,
          348883.66453373013,
          447245.18855321157,
          242402.77244162877,
          438171.5284776052,
          258707.6856862457,
          188211.2822142892,
          149085.87095046038,
          539046.8998141288,
          496676.33976243576,
          108475.8465215575,
          110905.69387559529,
          115186.34315845298,
          130930.0338501117,
          114079.09556554287,
          104793.85391270077,
          97499.46534671732,
          82208
         ],
         "yaxis": "y"
        },
        {
         "hovertemplate": "country=Estados Unidos<br>Ano=%{x}<br>log do Valor em US$=%{y}<extra></extra>",
         "legendgroup": "Estados Unidos",
         "line": {
          "color": "#00cc96",
          "dash": "solid"
         },
         "marker": {
          "symbol": "circle"
         },
         "mode": "lines",
         "name": "Estados Unidos",
         "orientation": "v",
         "showlegend": true,
         "type": "scatter",
         "x": [
          2000,
          2001,
          2002,
          2003,
          2004,
          2005,
          2006,
          2007,
          2008,
          2009,
          2010,
          2011,
          2012,
          2013,
          2014,
          2015,
          2016,
          2017,
          2018,
          2019,
          2020,
          2021,
          2022
         ],
         "xaxis": "x",
         "y": [
          7872.113588850174,
          13173.606211180124,
          31951.288799332964,
          114976.83312499999,
          454693.5341715193,
          882147.284203789,
          858990.3298363095,
          1143336.4725429483,
          1093678.497675369,
          921356.4098500491,
          793916.7430384854,
          1340403.328769133,
          387479.7374060298,
          988120.323407324,
          610953.9042646661,
          647139.7384786744,
          838201.6616390354,
          1819184.1689784592,
          597283.9293209667,
          705243.1800224518,
          690638.7068169436,
          219843.87891648518,
          447893
         ],
         "yaxis": "y"
        },
        {
         "hovertemplate": "country=Rússia<br>Ano=%{x}<br>log do Valor em US$=%{y}<extra></extra>",
         "legendgroup": "Rússia",
         "line": {
          "color": "#ab63fa",
          "dash": "solid"
         },
         "marker": {
          "symbol": "circle"
         },
         "mode": "lines",
         "name": "Rússia",
         "orientation": "v",
         "showlegend": true,
         "type": "scatter",
         "x": [
          2005,
          2006,
          2007,
          2008,
          2009,
          2010,
          2012,
          2013,
          2014,
          2015,
          2020,
          2021,
          2022
         ],
         "xaxis": "x",
         "y": [
          107873.26236559139,
          239152.55615079365,
          244408.46427641285,
          3198047.9558575586,
          8848688.298988052,
          3076332.0895091165,
          2681850.3751840205,
          7403516.861931601,
          75952.63584752636,
          22521.70603796352,
          9668.059896990468,
          337968.6257888326,
          118618
         ],
         "yaxis": "y"
        },
        {
         "hovertemplate": "country=Reino Unido<br>Ano=%{x}<br>log do Valor em US$=%{y}<extra></extra>",
         "legendgroup": "Reino Unido",
         "line": {
          "color": "#FFA15A",
          "dash": "solid"
         },
         "marker": {
          "symbol": "circle"
         },
         "mode": "lines",
         "name": "Reino Unido",
         "orientation": "v",
         "showlegend": true,
         "type": "scatter",
         "x": [
          2005,
          2006,
          2007,
          2008,
          2009,
          2010,
          2011,
          2012,
          2013,
          2014,
          2015,
          2016,
          2017,
          2018,
          2019,
          2020,
          2021,
          2022
         ],
         "xaxis": "x",
         "y": [
          39627.554915514585,
          72330.49618055555,
          203594.67845395528,
          210790.2202012977,
          93835.33907903997,
          396848.3185511978,
          371632.12919947185,
          426828.58733242156,
          383166.15630781645,
          1698237.39644583,
          380803.2781825775,
          654406.2689838213,
          289985.3827513054,
          345846.564552163,
          188410.1710690495,
          93546.11218224882,
          132188.862494003,
          138154
         ],
         "yaxis": "y"
        }
       ],
       "layout": {
        "height": 600,
        "legend": {
         "title": {
          "text": "country"
         },
         "tracegroupgap": 0
        },
        "template": {
         "data": {
          "bar": [
           {
            "error_x": {
             "color": "#2a3f5f"
            },
            "error_y": {
             "color": "#2a3f5f"
            },
            "marker": {
             "line": {
              "color": "white",
              "width": 0.5
             },
             "pattern": {
              "fillmode": "overlay",
              "size": 10,
              "solidity": 0.2
             }
            },
            "type": "bar"
           }
          ],
          "barpolar": [
           {
            "marker": {
             "line": {
              "color": "white",
              "width": 0.5
             },
             "pattern": {
              "fillmode": "overlay",
              "size": 10,
              "solidity": 0.2
             }
            },
            "type": "barpolar"
           }
          ],
          "carpet": [
           {
            "aaxis": {
             "endlinecolor": "#2a3f5f",
             "gridcolor": "#C8D4E3",
             "linecolor": "#C8D4E3",
             "minorgridcolor": "#C8D4E3",
             "startlinecolor": "#2a3f5f"
            },
            "baxis": {
             "endlinecolor": "#2a3f5f",
             "gridcolor": "#C8D4E3",
             "linecolor": "#C8D4E3",
             "minorgridcolor": "#C8D4E3",
             "startlinecolor": "#2a3f5f"
            },
            "type": "carpet"
           }
          ],
          "choropleth": [
           {
            "colorbar": {
             "outlinewidth": 0,
             "ticks": ""
            },
            "type": "choropleth"
           }
          ],
          "contour": [
           {
            "colorbar": {
             "outlinewidth": 0,
             "ticks": ""
            },
            "colorscale": [
             [
              0,
              "#0d0887"
             ],
             [
              0.1111111111111111,
              "#46039f"
             ],
             [
              0.2222222222222222,
              "#7201a8"
             ],
             [
              0.3333333333333333,
              "#9c179e"
             ],
             [
              0.4444444444444444,
              "#bd3786"
             ],
             [
              0.5555555555555556,
              "#d8576b"
             ],
             [
              0.6666666666666666,
              "#ed7953"
             ],
             [
              0.7777777777777778,
              "#fb9f3a"
             ],
             [
              0.8888888888888888,
              "#fdca26"
             ],
             [
              1,
              "#f0f921"
             ]
            ],
            "type": "contour"
           }
          ],
          "contourcarpet": [
           {
            "colorbar": {
             "outlinewidth": 0,
             "ticks": ""
            },
            "type": "contourcarpet"
           }
          ],
          "heatmap": [
           {
            "colorbar": {
             "outlinewidth": 0,
             "ticks": ""
            },
            "colorscale": [
             [
              0,
              "#0d0887"
             ],
             [
              0.1111111111111111,
              "#46039f"
             ],
             [
              0.2222222222222222,
              "#7201a8"
             ],
             [
              0.3333333333333333,
              "#9c179e"
             ],
             [
              0.4444444444444444,
              "#bd3786"
             ],
             [
              0.5555555555555556,
              "#d8576b"
             ],
             [
              0.6666666666666666,
              "#ed7953"
             ],
             [
              0.7777777777777778,
              "#fb9f3a"
             ],
             [
              0.8888888888888888,
              "#fdca26"
             ],
             [
              1,
              "#f0f921"
             ]
            ],
            "type": "heatmap"
           }
          ],
          "heatmapgl": [
           {
            "colorbar": {
             "outlinewidth": 0,
             "ticks": ""
            },
            "colorscale": [
             [
              0,
              "#0d0887"
             ],
             [
              0.1111111111111111,
              "#46039f"
             ],
             [
              0.2222222222222222,
              "#7201a8"
             ],
             [
              0.3333333333333333,
              "#9c179e"
             ],
             [
              0.4444444444444444,
              "#bd3786"
             ],
             [
              0.5555555555555556,
              "#d8576b"
             ],
             [
              0.6666666666666666,
              "#ed7953"
             ],
             [
              0.7777777777777778,
              "#fb9f3a"
             ],
             [
              0.8888888888888888,
              "#fdca26"
             ],
             [
              1,
              "#f0f921"
             ]
            ],
            "type": "heatmapgl"
           }
          ],
          "histogram": [
           {
            "marker": {
             "pattern": {
              "fillmode": "overlay",
              "size": 10,
              "solidity": 0.2
             }
            },
            "type": "histogram"
           }
          ],
          "histogram2d": [
           {
            "colorbar": {
             "outlinewidth": 0,
             "ticks": ""
            },
            "colorscale": [
             [
              0,
              "#0d0887"
             ],
             [
              0.1111111111111111,
              "#46039f"
             ],
             [
              0.2222222222222222,
              "#7201a8"
             ],
             [
              0.3333333333333333,
              "#9c179e"
             ],
             [
              0.4444444444444444,
              "#bd3786"
             ],
             [
              0.5555555555555556,
              "#d8576b"
             ],
             [
              0.6666666666666666,
              "#ed7953"
             ],
             [
              0.7777777777777778,
              "#fb9f3a"
             ],
             [
              0.8888888888888888,
              "#fdca26"
             ],
             [
              1,
              "#f0f921"
             ]
            ],
            "type": "histogram2d"
           }
          ],
          "histogram2dcontour": [
           {
            "colorbar": {
             "outlinewidth": 0,
             "ticks": ""
            },
            "colorscale": [
             [
              0,
              "#0d0887"
             ],
             [
              0.1111111111111111,
              "#46039f"
             ],
             [
              0.2222222222222222,
              "#7201a8"
             ],
             [
              0.3333333333333333,
              "#9c179e"
             ],
             [
              0.4444444444444444,
              "#bd3786"
             ],
             [
              0.5555555555555556,
              "#d8576b"
             ],
             [
              0.6666666666666666,
              "#ed7953"
             ],
             [
              0.7777777777777778,
              "#fb9f3a"
             ],
             [
              0.8888888888888888,
              "#fdca26"
             ],
             [
              1,
              "#f0f921"
             ]
            ],
            "type": "histogram2dcontour"
           }
          ],
          "mesh3d": [
           {
            "colorbar": {
             "outlinewidth": 0,
             "ticks": ""
            },
            "type": "mesh3d"
           }
          ],
          "parcoords": [
           {
            "line": {
             "colorbar": {
              "outlinewidth": 0,
              "ticks": ""
             }
            },
            "type": "parcoords"
           }
          ],
          "pie": [
           {
            "automargin": true,
            "type": "pie"
           }
          ],
          "scatter": [
           {
            "fillpattern": {
             "fillmode": "overlay",
             "size": 10,
             "solidity": 0.2
            },
            "type": "scatter"
           }
          ],
          "scatter3d": [
           {
            "line": {
             "colorbar": {
              "outlinewidth": 0,
              "ticks": ""
             }
            },
            "marker": {
             "colorbar": {
              "outlinewidth": 0,
              "ticks": ""
             }
            },
            "type": "scatter3d"
           }
          ],
          "scattercarpet": [
           {
            "marker": {
             "colorbar": {
              "outlinewidth": 0,
              "ticks": ""
             }
            },
            "type": "scattercarpet"
           }
          ],
          "scattergeo": [
           {
            "marker": {
             "colorbar": {
              "outlinewidth": 0,
              "ticks": ""
             }
            },
            "type": "scattergeo"
           }
          ],
          "scattergl": [
           {
            "marker": {
             "colorbar": {
              "outlinewidth": 0,
              "ticks": ""
             }
            },
            "type": "scattergl"
           }
          ],
          "scattermapbox": [
           {
            "marker": {
             "colorbar": {
              "outlinewidth": 0,
              "ticks": ""
             }
            },
            "type": "scattermapbox"
           }
          ],
          "scatterpolar": [
           {
            "marker": {
             "colorbar": {
              "outlinewidth": 0,
              "ticks": ""
             }
            },
            "type": "scatterpolar"
           }
          ],
          "scatterpolargl": [
           {
            "marker": {
             "colorbar": {
              "outlinewidth": 0,
              "ticks": ""
             }
            },
            "type": "scatterpolargl"
           }
          ],
          "scatterternary": [
           {
            "marker": {
             "colorbar": {
              "outlinewidth": 0,
              "ticks": ""
             }
            },
            "type": "scatterternary"
           }
          ],
          "surface": [
           {
            "colorbar": {
             "outlinewidth": 0,
             "ticks": ""
            },
            "colorscale": [
             [
              0,
              "#0d0887"
             ],
             [
              0.1111111111111111,
              "#46039f"
             ],
             [
              0.2222222222222222,
              "#7201a8"
             ],
             [
              0.3333333333333333,
              "#9c179e"
             ],
             [
              0.4444444444444444,
              "#bd3786"
             ],
             [
              0.5555555555555556,
              "#d8576b"
             ],
             [
              0.6666666666666666,
              "#ed7953"
             ],
             [
              0.7777777777777778,
              "#fb9f3a"
             ],
             [
              0.8888888888888888,
              "#fdca26"
             ],
             [
              1,
              "#f0f921"
             ]
            ],
            "type": "surface"
           }
          ],
          "table": [
           {
            "cells": {
             "fill": {
              "color": "#EBF0F8"
             },
             "line": {
              "color": "white"
             }
            },
            "header": {
             "fill": {
              "color": "#C8D4E3"
             },
             "line": {
              "color": "white"
             }
            },
            "type": "table"
           }
          ]
         },
         "layout": {
          "annotationdefaults": {
           "arrowcolor": "#2a3f5f",
           "arrowhead": 0,
           "arrowwidth": 1
          },
          "autotypenumbers": "strict",
          "coloraxis": {
           "colorbar": {
            "outlinewidth": 0,
            "ticks": ""
           }
          },
          "colorscale": {
           "diverging": [
            [
             0,
             "#8e0152"
            ],
            [
             0.1,
             "#c51b7d"
            ],
            [
             0.2,
             "#de77ae"
            ],
            [
             0.3,
             "#f1b6da"
            ],
            [
             0.4,
             "#fde0ef"
            ],
            [
             0.5,
             "#f7f7f7"
            ],
            [
             0.6,
             "#e6f5d0"
            ],
            [
             0.7,
             "#b8e186"
            ],
            [
             0.8,
             "#7fbc41"
            ],
            [
             0.9,
             "#4d9221"
            ],
            [
             1,
             "#276419"
            ]
           ],
           "sequential": [
            [
             0,
             "#0d0887"
            ],
            [
             0.1111111111111111,
             "#46039f"
            ],
            [
             0.2222222222222222,
             "#7201a8"
            ],
            [
             0.3333333333333333,
             "#9c179e"
            ],
            [
             0.4444444444444444,
             "#bd3786"
            ],
            [
             0.5555555555555556,
             "#d8576b"
            ],
            [
             0.6666666666666666,
             "#ed7953"
            ],
            [
             0.7777777777777778,
             "#fb9f3a"
            ],
            [
             0.8888888888888888,
             "#fdca26"
            ],
            [
             1,
             "#f0f921"
            ]
           ],
           "sequentialminus": [
            [
             0,
             "#0d0887"
            ],
            [
             0.1111111111111111,
             "#46039f"
            ],
            [
             0.2222222222222222,
             "#7201a8"
            ],
            [
             0.3333333333333333,
             "#9c179e"
            ],
            [
             0.4444444444444444,
             "#bd3786"
            ],
            [
             0.5555555555555556,
             "#d8576b"
            ],
            [
             0.6666666666666666,
             "#ed7953"
            ],
            [
             0.7777777777777778,
             "#fb9f3a"
            ],
            [
             0.8888888888888888,
             "#fdca26"
            ],
            [
             1,
             "#f0f921"
            ]
           ]
          },
          "colorway": [
           "#636efa",
           "#EF553B",
           "#00cc96",
           "#ab63fa",
           "#FFA15A",
           "#19d3f3",
           "#FF6692",
           "#B6E880",
           "#FF97FF",
           "#FECB52"
          ],
          "font": {
           "color": "#2a3f5f"
          },
          "geo": {
           "bgcolor": "white",
           "lakecolor": "white",
           "landcolor": "white",
           "showlakes": true,
           "showland": true,
           "subunitcolor": "#C8D4E3"
          },
          "hoverlabel": {
           "align": "left"
          },
          "hovermode": "closest",
          "mapbox": {
           "style": "light"
          },
          "paper_bgcolor": "white",
          "plot_bgcolor": "white",
          "polar": {
           "angularaxis": {
            "gridcolor": "#EBF0F8",
            "linecolor": "#EBF0F8",
            "ticks": ""
           },
           "bgcolor": "white",
           "radialaxis": {
            "gridcolor": "#EBF0F8",
            "linecolor": "#EBF0F8",
            "ticks": ""
           }
          },
          "scene": {
           "xaxis": {
            "backgroundcolor": "white",
            "gridcolor": "#DFE8F3",
            "gridwidth": 2,
            "linecolor": "#EBF0F8",
            "showbackground": true,
            "ticks": "",
            "zerolinecolor": "#EBF0F8"
           },
           "yaxis": {
            "backgroundcolor": "white",
            "gridcolor": "#DFE8F3",
            "gridwidth": 2,
            "linecolor": "#EBF0F8",
            "showbackground": true,
            "ticks": "",
            "zerolinecolor": "#EBF0F8"
           },
           "zaxis": {
            "backgroundcolor": "white",
            "gridcolor": "#DFE8F3",
            "gridwidth": 2,
            "linecolor": "#EBF0F8",
            "showbackground": true,
            "ticks": "",
            "zerolinecolor": "#EBF0F8"
           }
          },
          "shapedefaults": {
           "line": {
            "color": "#2a3f5f"
           }
          },
          "ternary": {
           "aaxis": {
            "gridcolor": "#DFE8F3",
            "linecolor": "#A2B1C6",
            "ticks": ""
           },
           "baxis": {
            "gridcolor": "#DFE8F3",
            "linecolor": "#A2B1C6",
            "ticks": ""
           },
           "bgcolor": "white",
           "caxis": {
            "gridcolor": "#DFE8F3",
            "linecolor": "#A2B1C6",
            "ticks": ""
           }
          },
          "title": {
           "x": 0.05
          },
          "xaxis": {
           "automargin": true,
           "gridcolor": "#EBF0F8",
           "linecolor": "#EBF0F8",
           "ticks": "",
           "title": {
            "standoff": 15
           },
           "zerolinecolor": "#EBF0F8",
           "zerolinewidth": 2
          },
          "yaxis": {
           "automargin": true,
           "gridcolor": "#EBF0F8",
           "linecolor": "#EBF0F8",
           "ticks": "",
           "title": {
            "standoff": 15
           },
           "zerolinecolor": "#EBF0F8",
           "zerolinewidth": 2
          }
         }
        },
        "title": {
         "text": "Evolução do valor exportado de vinhos em US$ de 2022 para os 5 maiores compradores"
        },
        "width": 1000,
        "xaxis": {
         "anchor": "y",
         "domain": [
          0,
          1
         ],
         "title": {
          "text": "Ano"
         }
        },
        "yaxis": {
         "anchor": "x",
         "domain": [
          0,
          1
         ],
         "title": {
          "text": "log do Valor em US$"
         },
         "type": "log"
        }
       }
      }
     },
     "metadata": {},
     "output_type": "display_data"
    }
   ],
   "source": [
    "px.line(\n",
    "    exp_vinho_corrected.filter(\n",
    "        pl.col(\"country\").is_in(exp_vinho_top20[\"country\"].limit(5))\n",
    "    ),\n",
    "    x=\"year\",\n",
    "    y=\"value_corrected\",\n",
    "    color=\"country\",\n",
    "    log_y=True,\n",
    "    width=fig_w + 200,\n",
    "    height=fig_h,\n",
    "    title=\"Evolução do valor exportado de vinhos em US$ de 2022 para os 5 maiores compradores\",\n",
    "    labels={\"value_corrected\": \"log do Valor em US$\", \"year\": \"Ano\", \"county\": \"país\"},\n",
    ")"
   ]
  },
  {
   "cell_type": "markdown",
   "metadata": {},
   "source": [
    "### Top 5 - quantidade (1kg=1L)"
   ]
  },
  {
   "cell_type": "code",
   "execution_count": null,
   "metadata": {},
   "outputs": [
    {
     "data": {
      "application/vnd.plotly.v1+json": {
       "config": {
        "plotlyServerURL": "https://plot.ly"
       },
       "data": [
        {
         "hovertemplate": "country=Paraguai<br>Ano=%{x}<br>quantity=%{y}<extra></extra>",
         "legendgroup": "Paraguai",
         "line": {
          "color": "#636efa",
          "dash": "solid"
         },
         "marker": {
          "symbol": "circle"
         },
         "mode": "lines",
         "name": "Paraguai",
         "orientation": "v",
         "showlegend": true,
         "type": "scatter",
         "x": [
          2000,
          2001,
          2002,
          2003,
          2004,
          2005,
          2006,
          2007,
          2008,
          2009,
          2010,
          2011,
          2012,
          2013,
          2014,
          2015,
          2016,
          2017,
          2018,
          2019,
          2020,
          2021,
          2022
         ],
         "xaxis": "x",
         "y": [
          4963850,
          4798797,
          2013803,
          1121672,
          2108658,
          1967985,
          1947106,
          1285459,
          2191901,
          381519,
          610907,
          240168,
          354824,
          479340,
          521847,
          495428,
          985739,
          2393470,
          3234214,
          2532097,
          3299020,
          6522527,
          5076670
         ],
         "yaxis": "y"
        },
        {
         "hovertemplate": "country=Japão<br>Ano=%{x}<br>quantity=%{y}<extra></extra>",
         "legendgroup": "Japão",
         "line": {
          "color": "#EF553B",
          "dash": "solid"
         },
         "marker": {
          "symbol": "circle"
         },
         "mode": "lines",
         "name": "Japão",
         "orientation": "v",
         "showlegend": true,
         "type": "scatter",
         "x": [
          2000,
          2001,
          2002,
          2003,
          2004,
          2005,
          2006,
          2007,
          2008,
          2009,
          2010,
          2011,
          2012,
          2013,
          2014,
          2015,
          2016,
          2017,
          2018,
          2019,
          2020,
          2021,
          2022
         ],
         "xaxis": "x",
         "y": [
          664186,
          347523,
          135602,
          166028,
          426482,
          561421,
          325031,
          357943,
          232293,
          278194,
          230678,
          100835,
          29281,
          91988,
          106426,
          31597,
          34341,
          35421,
          36993,
          40627,
          36443,
          39491,
          37324
         ],
         "yaxis": "y"
        },
        {
         "hovertemplate": "country=Estados Unidos<br>Ano=%{x}<br>quantity=%{y}<extra></extra>",
         "legendgroup": "Estados Unidos",
         "line": {
          "color": "#00cc96",
          "dash": "solid"
         },
         "marker": {
          "symbol": "circle"
         },
         "mode": "lines",
         "name": "Estados Unidos",
         "orientation": "v",
         "showlegend": true,
         "type": "scatter",
         "x": [
          2000,
          2001,
          2002,
          2003,
          2004,
          2005,
          2006,
          2007,
          2008,
          2009,
          2010,
          2011,
          2012,
          2013,
          2014,
          2015,
          2016,
          2017,
          2018,
          2019,
          2020,
          2021,
          2022
         ],
         "xaxis": "x",
         "y": [
          2151,
          3576,
          6800,
          25467,
          98265,
          338772,
          392590,
          479269,
          443895,
          387004,
          304073,
          306787,
          146585,
          245368,
          222267,
          195896,
          258073,
          132702,
          169577,
          210398,
          300351,
          111085,
          220373
         ],
         "yaxis": "y"
        },
        {
         "hovertemplate": "country=Rússia<br>Ano=%{x}<br>quantity=%{y}<extra></extra>",
         "legendgroup": "Rússia",
         "line": {
          "color": "#ab63fa",
          "dash": "solid"
         },
         "marker": {
          "symbol": "circle"
         },
         "mode": "lines",
         "name": "Rússia",
         "orientation": "v",
         "showlegend": true,
         "type": "scatter",
         "x": [
          2005,
          2006,
          2007,
          2008,
          2009,
          2010,
          2012,
          2013,
          2014,
          2015,
          2020,
          2021,
          2022
         ],
         "xaxis": "x",
         "y": [
          177600,
          334200,
          266400,
          6207658,
          24708654,
          8373757,
          4528176,
          14795694,
          190656,
          47664,
          1463,
          181931,
          66046
         ],
         "yaxis": "y"
        },
        {
         "hovertemplate": "country=Reino Unido<br>Ano=%{x}<br>quantity=%{y}<extra></extra>",
         "legendgroup": "Reino Unido",
         "line": {
          "color": "#FFA15A",
          "dash": "solid"
         },
         "marker": {
          "symbol": "circle"
         },
         "mode": "lines",
         "name": "Reino Unido",
         "orientation": "v",
         "showlegend": true,
         "type": "scatter",
         "x": [
          2005,
          2006,
          2007,
          2008,
          2009,
          2010,
          2011,
          2012,
          2013,
          2014,
          2015,
          2016,
          2017,
          2018,
          2019,
          2020,
          2021,
          2022
         ],
         "xaxis": "x",
         "y": [
          6174,
          38281,
          84613,
          100097,
          30092,
          123624,
          122629,
          82937,
          59161,
          305807,
          68382,
          117045,
          60711,
          67788,
          34303,
          22915,
          25316,
          18835
         ],
         "yaxis": "y"
        }
       ],
       "layout": {
        "height": 600,
        "legend": {
         "title": {
          "text": "country"
         },
         "tracegroupgap": 0
        },
        "template": {
         "data": {
          "bar": [
           {
            "error_x": {
             "color": "#2a3f5f"
            },
            "error_y": {
             "color": "#2a3f5f"
            },
            "marker": {
             "line": {
              "color": "white",
              "width": 0.5
             },
             "pattern": {
              "fillmode": "overlay",
              "size": 10,
              "solidity": 0.2
             }
            },
            "type": "bar"
           }
          ],
          "barpolar": [
           {
            "marker": {
             "line": {
              "color": "white",
              "width": 0.5
             },
             "pattern": {
              "fillmode": "overlay",
              "size": 10,
              "solidity": 0.2
             }
            },
            "type": "barpolar"
           }
          ],
          "carpet": [
           {
            "aaxis": {
             "endlinecolor": "#2a3f5f",
             "gridcolor": "#C8D4E3",
             "linecolor": "#C8D4E3",
             "minorgridcolor": "#C8D4E3",
             "startlinecolor": "#2a3f5f"
            },
            "baxis": {
             "endlinecolor": "#2a3f5f",
             "gridcolor": "#C8D4E3",
             "linecolor": "#C8D4E3",
             "minorgridcolor": "#C8D4E3",
             "startlinecolor": "#2a3f5f"
            },
            "type": "carpet"
           }
          ],
          "choropleth": [
           {
            "colorbar": {
             "outlinewidth": 0,
             "ticks": ""
            },
            "type": "choropleth"
           }
          ],
          "contour": [
           {
            "colorbar": {
             "outlinewidth": 0,
             "ticks": ""
            },
            "colorscale": [
             [
              0,
              "#0d0887"
             ],
             [
              0.1111111111111111,
              "#46039f"
             ],
             [
              0.2222222222222222,
              "#7201a8"
             ],
             [
              0.3333333333333333,
              "#9c179e"
             ],
             [
              0.4444444444444444,
              "#bd3786"
             ],
             [
              0.5555555555555556,
              "#d8576b"
             ],
             [
              0.6666666666666666,
              "#ed7953"
             ],
             [
              0.7777777777777778,
              "#fb9f3a"
             ],
             [
              0.8888888888888888,
              "#fdca26"
             ],
             [
              1,
              "#f0f921"
             ]
            ],
            "type": "contour"
           }
          ],
          "contourcarpet": [
           {
            "colorbar": {
             "outlinewidth": 0,
             "ticks": ""
            },
            "type": "contourcarpet"
           }
          ],
          "heatmap": [
           {
            "colorbar": {
             "outlinewidth": 0,
             "ticks": ""
            },
            "colorscale": [
             [
              0,
              "#0d0887"
             ],
             [
              0.1111111111111111,
              "#46039f"
             ],
             [
              0.2222222222222222,
              "#7201a8"
             ],
             [
              0.3333333333333333,
              "#9c179e"
             ],
             [
              0.4444444444444444,
              "#bd3786"
             ],
             [
              0.5555555555555556,
              "#d8576b"
             ],
             [
              0.6666666666666666,
              "#ed7953"
             ],
             [
              0.7777777777777778,
              "#fb9f3a"
             ],
             [
              0.8888888888888888,
              "#fdca26"
             ],
             [
              1,
              "#f0f921"
             ]
            ],
            "type": "heatmap"
           }
          ],
          "heatmapgl": [
           {
            "colorbar": {
             "outlinewidth": 0,
             "ticks": ""
            },
            "colorscale": [
             [
              0,
              "#0d0887"
             ],
             [
              0.1111111111111111,
              "#46039f"
             ],
             [
              0.2222222222222222,
              "#7201a8"
             ],
             [
              0.3333333333333333,
              "#9c179e"
             ],
             [
              0.4444444444444444,
              "#bd3786"
             ],
             [
              0.5555555555555556,
              "#d8576b"
             ],
             [
              0.6666666666666666,
              "#ed7953"
             ],
             [
              0.7777777777777778,
              "#fb9f3a"
             ],
             [
              0.8888888888888888,
              "#fdca26"
             ],
             [
              1,
              "#f0f921"
             ]
            ],
            "type": "heatmapgl"
           }
          ],
          "histogram": [
           {
            "marker": {
             "pattern": {
              "fillmode": "overlay",
              "size": 10,
              "solidity": 0.2
             }
            },
            "type": "histogram"
           }
          ],
          "histogram2d": [
           {
            "colorbar": {
             "outlinewidth": 0,
             "ticks": ""
            },
            "colorscale": [
             [
              0,
              "#0d0887"
             ],
             [
              0.1111111111111111,
              "#46039f"
             ],
             [
              0.2222222222222222,
              "#7201a8"
             ],
             [
              0.3333333333333333,
              "#9c179e"
             ],
             [
              0.4444444444444444,
              "#bd3786"
             ],
             [
              0.5555555555555556,
              "#d8576b"
             ],
             [
              0.6666666666666666,
              "#ed7953"
             ],
             [
              0.7777777777777778,
              "#fb9f3a"
             ],
             [
              0.8888888888888888,
              "#fdca26"
             ],
             [
              1,
              "#f0f921"
             ]
            ],
            "type": "histogram2d"
           }
          ],
          "histogram2dcontour": [
           {
            "colorbar": {
             "outlinewidth": 0,
             "ticks": ""
            },
            "colorscale": [
             [
              0,
              "#0d0887"
             ],
             [
              0.1111111111111111,
              "#46039f"
             ],
             [
              0.2222222222222222,
              "#7201a8"
             ],
             [
              0.3333333333333333,
              "#9c179e"
             ],
             [
              0.4444444444444444,
              "#bd3786"
             ],
             [
              0.5555555555555556,
              "#d8576b"
             ],
             [
              0.6666666666666666,
              "#ed7953"
             ],
             [
              0.7777777777777778,
              "#fb9f3a"
             ],
             [
              0.8888888888888888,
              "#fdca26"
             ],
             [
              1,
              "#f0f921"
             ]
            ],
            "type": "histogram2dcontour"
           }
          ],
          "mesh3d": [
           {
            "colorbar": {
             "outlinewidth": 0,
             "ticks": ""
            },
            "type": "mesh3d"
           }
          ],
          "parcoords": [
           {
            "line": {
             "colorbar": {
              "outlinewidth": 0,
              "ticks": ""
             }
            },
            "type": "parcoords"
           }
          ],
          "pie": [
           {
            "automargin": true,
            "type": "pie"
           }
          ],
          "scatter": [
           {
            "fillpattern": {
             "fillmode": "overlay",
             "size": 10,
             "solidity": 0.2
            },
            "type": "scatter"
           }
          ],
          "scatter3d": [
           {
            "line": {
             "colorbar": {
              "outlinewidth": 0,
              "ticks": ""
             }
            },
            "marker": {
             "colorbar": {
              "outlinewidth": 0,
              "ticks": ""
             }
            },
            "type": "scatter3d"
           }
          ],
          "scattercarpet": [
           {
            "marker": {
             "colorbar": {
              "outlinewidth": 0,
              "ticks": ""
             }
            },
            "type": "scattercarpet"
           }
          ],
          "scattergeo": [
           {
            "marker": {
             "colorbar": {
              "outlinewidth": 0,
              "ticks": ""
             }
            },
            "type": "scattergeo"
           }
          ],
          "scattergl": [
           {
            "marker": {
             "colorbar": {
              "outlinewidth": 0,
              "ticks": ""
             }
            },
            "type": "scattergl"
           }
          ],
          "scattermapbox": [
           {
            "marker": {
             "colorbar": {
              "outlinewidth": 0,
              "ticks": ""
             }
            },
            "type": "scattermapbox"
           }
          ],
          "scatterpolar": [
           {
            "marker": {
             "colorbar": {
              "outlinewidth": 0,
              "ticks": ""
             }
            },
            "type": "scatterpolar"
           }
          ],
          "scatterpolargl": [
           {
            "marker": {
             "colorbar": {
              "outlinewidth": 0,
              "ticks": ""
             }
            },
            "type": "scatterpolargl"
           }
          ],
          "scatterternary": [
           {
            "marker": {
             "colorbar": {
              "outlinewidth": 0,
              "ticks": ""
             }
            },
            "type": "scatterternary"
           }
          ],
          "surface": [
           {
            "colorbar": {
             "outlinewidth": 0,
             "ticks": ""
            },
            "colorscale": [
             [
              0,
              "#0d0887"
             ],
             [
              0.1111111111111111,
              "#46039f"
             ],
             [
              0.2222222222222222,
              "#7201a8"
             ],
             [
              0.3333333333333333,
              "#9c179e"
             ],
             [
              0.4444444444444444,
              "#bd3786"
             ],
             [
              0.5555555555555556,
              "#d8576b"
             ],
             [
              0.6666666666666666,
              "#ed7953"
             ],
             [
              0.7777777777777778,
              "#fb9f3a"
             ],
             [
              0.8888888888888888,
              "#fdca26"
             ],
             [
              1,
              "#f0f921"
             ]
            ],
            "type": "surface"
           }
          ],
          "table": [
           {
            "cells": {
             "fill": {
              "color": "#EBF0F8"
             },
             "line": {
              "color": "white"
             }
            },
            "header": {
             "fill": {
              "color": "#C8D4E3"
             },
             "line": {
              "color": "white"
             }
            },
            "type": "table"
           }
          ]
         },
         "layout": {
          "annotationdefaults": {
           "arrowcolor": "#2a3f5f",
           "arrowhead": 0,
           "arrowwidth": 1
          },
          "autotypenumbers": "strict",
          "coloraxis": {
           "colorbar": {
            "outlinewidth": 0,
            "ticks": ""
           }
          },
          "colorscale": {
           "diverging": [
            [
             0,
             "#8e0152"
            ],
            [
             0.1,
             "#c51b7d"
            ],
            [
             0.2,
             "#de77ae"
            ],
            [
             0.3,
             "#f1b6da"
            ],
            [
             0.4,
             "#fde0ef"
            ],
            [
             0.5,
             "#f7f7f7"
            ],
            [
             0.6,
             "#e6f5d0"
            ],
            [
             0.7,
             "#b8e186"
            ],
            [
             0.8,
             "#7fbc41"
            ],
            [
             0.9,
             "#4d9221"
            ],
            [
             1,
             "#276419"
            ]
           ],
           "sequential": [
            [
             0,
             "#0d0887"
            ],
            [
             0.1111111111111111,
             "#46039f"
            ],
            [
             0.2222222222222222,
             "#7201a8"
            ],
            [
             0.3333333333333333,
             "#9c179e"
            ],
            [
             0.4444444444444444,
             "#bd3786"
            ],
            [
             0.5555555555555556,
             "#d8576b"
            ],
            [
             0.6666666666666666,
             "#ed7953"
            ],
            [
             0.7777777777777778,
             "#fb9f3a"
            ],
            [
             0.8888888888888888,
             "#fdca26"
            ],
            [
             1,
             "#f0f921"
            ]
           ],
           "sequentialminus": [
            [
             0,
             "#0d0887"
            ],
            [
             0.1111111111111111,
             "#46039f"
            ],
            [
             0.2222222222222222,
             "#7201a8"
            ],
            [
             0.3333333333333333,
             "#9c179e"
            ],
            [
             0.4444444444444444,
             "#bd3786"
            ],
            [
             0.5555555555555556,
             "#d8576b"
            ],
            [
             0.6666666666666666,
             "#ed7953"
            ],
            [
             0.7777777777777778,
             "#fb9f3a"
            ],
            [
             0.8888888888888888,
             "#fdca26"
            ],
            [
             1,
             "#f0f921"
            ]
           ]
          },
          "colorway": [
           "#636efa",
           "#EF553B",
           "#00cc96",
           "#ab63fa",
           "#FFA15A",
           "#19d3f3",
           "#FF6692",
           "#B6E880",
           "#FF97FF",
           "#FECB52"
          ],
          "font": {
           "color": "#2a3f5f"
          },
          "geo": {
           "bgcolor": "white",
           "lakecolor": "white",
           "landcolor": "white",
           "showlakes": true,
           "showland": true,
           "subunitcolor": "#C8D4E3"
          },
          "hoverlabel": {
           "align": "left"
          },
          "hovermode": "closest",
          "mapbox": {
           "style": "light"
          },
          "paper_bgcolor": "white",
          "plot_bgcolor": "white",
          "polar": {
           "angularaxis": {
            "gridcolor": "#EBF0F8",
            "linecolor": "#EBF0F8",
            "ticks": ""
           },
           "bgcolor": "white",
           "radialaxis": {
            "gridcolor": "#EBF0F8",
            "linecolor": "#EBF0F8",
            "ticks": ""
           }
          },
          "scene": {
           "xaxis": {
            "backgroundcolor": "white",
            "gridcolor": "#DFE8F3",
            "gridwidth": 2,
            "linecolor": "#EBF0F8",
            "showbackground": true,
            "ticks": "",
            "zerolinecolor": "#EBF0F8"
           },
           "yaxis": {
            "backgroundcolor": "white",
            "gridcolor": "#DFE8F3",
            "gridwidth": 2,
            "linecolor": "#EBF0F8",
            "showbackground": true,
            "ticks": "",
            "zerolinecolor": "#EBF0F8"
           },
           "zaxis": {
            "backgroundcolor": "white",
            "gridcolor": "#DFE8F3",
            "gridwidth": 2,
            "linecolor": "#EBF0F8",
            "showbackground": true,
            "ticks": "",
            "zerolinecolor": "#EBF0F8"
           }
          },
          "shapedefaults": {
           "line": {
            "color": "#2a3f5f"
           }
          },
          "ternary": {
           "aaxis": {
            "gridcolor": "#DFE8F3",
            "linecolor": "#A2B1C6",
            "ticks": ""
           },
           "baxis": {
            "gridcolor": "#DFE8F3",
            "linecolor": "#A2B1C6",
            "ticks": ""
           },
           "bgcolor": "white",
           "caxis": {
            "gridcolor": "#DFE8F3",
            "linecolor": "#A2B1C6",
            "ticks": ""
           }
          },
          "title": {
           "x": 0.05
          },
          "xaxis": {
           "automargin": true,
           "gridcolor": "#EBF0F8",
           "linecolor": "#EBF0F8",
           "ticks": "",
           "title": {
            "standoff": 15
           },
           "zerolinecolor": "#EBF0F8",
           "zerolinewidth": 2
          },
          "yaxis": {
           "automargin": true,
           "gridcolor": "#EBF0F8",
           "linecolor": "#EBF0F8",
           "ticks": "",
           "title": {
            "standoff": 15
           },
           "zerolinecolor": "#EBF0F8",
           "zerolinewidth": 2
          }
         }
        },
        "title": {
         "text": "Evolução da quantidade exportada de vinhos os 5 maiores compradores"
        },
        "width": 1000,
        "xaxis": {
         "anchor": "y",
         "domain": [
          0,
          1
         ],
         "title": {
          "text": "Ano"
         }
        },
        "yaxis": {
         "anchor": "x",
         "domain": [
          0,
          1
         ],
         "title": {
          "text": "quantity"
         },
         "type": "log"
        }
       }
      }
     },
     "metadata": {},
     "output_type": "display_data"
    }
   ],
   "source": [
    "px.line(\n",
    "    exp_vinho_corrected.filter(\n",
    "        pl.col(\"country\").is_in(exp_vinho_top20[\"country\"].limit(5))\n",
    "    ),\n",
    "    x=\"year\",\n",
    "    y=\"quantity\",\n",
    "    color=\"country\",\n",
    "    log_y=True,\n",
    "    width=fig_w + 200,\n",
    "    height=fig_h,\n",
    "    title=\"Evolução da quantidade exportada de vinhos os 5 maiores compradores\",\n",
    "    labels={\"value_corrected\": \"log da quantidade\", \"year\": \"Ano\", \"county\": \"país\"},\n",
    ")"
   ]
  },
  {
   "cell_type": "markdown",
   "metadata": {},
   "source": [
    "# Série Mensal - Extraída do Comexstat"
   ]
  },
  {
   "cell_type": "code",
   "execution_count": null,
   "metadata": {},
   "outputs": [
    {
     "data": {
      "text/html": [
       "<style>.itables table td {\n",
       "    text-overflow: ellipsis;\n",
       "    overflow: hidden;\n",
       "}\n",
       "\n",
       ".itables table th {\n",
       "    text-overflow: ellipsis;\n",
       "    overflow: hidden;\n",
       "}\n",
       "\n",
       ".itables thead input {\n",
       "    width: 100%;\n",
       "    padding: 3px;\n",
       "    box-sizing: border-box;\n",
       "}\n",
       "\n",
       ".itables tfoot input {\n",
       "    width: 100%;\n",
       "    padding: 3px;\n",
       "    box-sizing: border-box;\n",
       "}\n",
       "</style>\n",
       "<div class=\"itables\">\n",
       "<table id=\"b00b1beb-526c-4856-8819-d17f61b36d7f\" class=\"display nowrap\"style=\"table-layout:auto;width:auto;margin:auto;caption-side:bottom\"><thead>\n",
       "    <tr style=\"text-align: right;\">\n",
       "      \n",
       "      <th>year</th>\n",
       "      <th>month</th>\n",
       "      <th>country</th>\n",
       "      <th>value</th>\n",
       "      <th>quantity</th>\n",
       "      <th>date</th>\n",
       "    </tr>\n",
       "  </thead><tbody><tr><td>Loading... (need <a href=https://mwouts.github.io/itables/troubleshooting.html>help</a>?)</td></tr></tbody></table>\n",
       "<link rel=\"stylesheet\" type=\"text/css\" href=\"https://cdn.datatables.net/1.13.1/css/jquery.dataTables.min.css\">\n",
       "<script type=\"module\">\n",
       "    // Import jquery and DataTable\n",
       "    import 'https://code.jquery.com/jquery-3.6.0.min.js';\n",
       "    import dt from 'https://cdn.datatables.net/1.12.1/js/jquery.dataTables.mjs';\n",
       "    dt($);\n",
       "\n",
       "    // Define the table data\n",
       "    const data = [[2022, 7, \"Paraguai\", 1120408, 813355, \"2022-07-01\"], [2022, 5, \"Paraguai\", 1007287, 717491, \"2022-05-01\"], [2022, 8, \"Paraguai\", 825225, 558186, \"2022-08-01\"], [2022, 6, \"Paraguai\", 770775, 526776, \"2022-06-01\"], [2022, 4, \"Paraguai\", 696924, 511310, \"2022-04-01\"], [2022, 12, \"Paraguai\", 538950, 381911, \"2022-12-01\"], [2022, 11, \"Paraguai\", 504968, 352520, \"2022-11-01\"], [2022, 10, \"Paraguai\", 493628, 348130, \"2022-10-01\"], [2022, 9, \"Paraguai\", 438856, 297727, \"2022-09-01\"], [2022, 10, \"Uruguai\", 389331, 294157, \"2022-10-01\"], [2022, 2, \"Paraguai\", 315290, 229263, \"2022-02-01\"], [2022, 1, \"Paraguai\", 311727, 247811, \"2022-01-01\"], [2022, 4, \"Haiti\", 170026, 127908, \"2022-04-01\"], [2022, 8, \"Uruguai\", 159399, 111447, \"2022-08-01\"], [2022, 9, \"Haiti\", 138320, 95760, \"2022-09-01\"], [2022, 3, \"Paraguai\", 132255, 92190, \"2022-03-01\"], [2022, 9, \"Uruguai\", 127547, 116424, \"2022-09-01\"], [2022, 5, \"Estados Unidos\", 123102, 63570, \"2022-05-01\"], [2022, 12, \"Uruguai\", 116540, 17576, \"2022-12-01\"], [2022, 2, \"Haiti\", 115176, 88853, \"2022-02-01\"], [2022, 5, \"R\\u00fassia\", 111845, 65025, \"2022-05-01\"], [2022, 9, \"Estados Unidos\", 93160, 43541, \"2022-09-01\"], [2022, 5, \"Uruguai\", 90340, 10416, \"2022-05-01\"], [2022, 12, \"China\", 83231, 19306, \"2022-12-01\"], [2022, 9, \"Emirados \\u00c1rabes Unidos\", 79293, 3420, \"2022-09-01\"], [2022, 3, \"Haiti\", 77370, 59289, \"2022-03-01\"], [2022, 7, \"Haiti\", 74100, 51300, \"2022-07-01\"], [2022, 1, \"Haiti\", 70433, 55599, \"2022-01-01\"], [2022, 5, \"China\", 66423, 5980, \"2022-05-01\"], [2022, 8, \"China\", 65388, 28621, \"2022-08-01\"], [2022, 6, \"Haiti\", 58486, 50402, \"2022-06-01\"], [2022, 6, \"Uruguai\", 54426, 49680, \"2022-06-01\"], [2022, 2, \"Estados Unidos\", 49282, 28354, \"2022-02-01\"], [2022, 4, \"Nig\\u00e9ria\", 49256, 31500, \"2022-04-01\"], [2022, 2, \"China\", 46829, 5840, \"2022-02-01\"], [2022, 10, \"Estados Unidos\", 46454, 24298, \"2022-10-01\"], [2022, 3, \"Estados Unidos\", 42528, 29160, \"2022-03-01\"], [2022, 8, \"Jap\\u00e3o\", 40135, 14233, \"2022-08-01\"], [2022, 1, \"Uruguai\", 38011, 34209, \"2022-01-01\"], [2022, 8, \"Haiti\", 37103, 24392, \"2022-08-01\"], [2022, 11, \"Noruega\", 36466, 1700, \"2022-11-01\"], [2022, 10, \"China\", 35620, 9708, \"2022-10-01\"], [2022, 1, \"China\", 31053, 7332, \"2022-01-01\"], [2022, 9, \"China\", 26534, 12570, \"2022-09-01\"], [2022, 3, \"China\", 25824, 6848, \"2022-03-01\"], [2022, 7, \"Reino Unido\", 25663, 2555, \"2022-07-01\"], [2022, 11, \"Venezuela\", 25625, 17550, \"2022-11-01\"], [2022, 12, \"Togo\", 25519, 17280, \"2022-12-01\"], [2022, 6, \"Reino Unido\", 24534, 3109, \"2022-06-01\"], [2022, 5, \"Gana\", 23589, 17100, \"2022-05-01\"], [2022, 12, \"Estados Unidos\", 23152, 6505, \"2022-12-01\"], [2022, 7, \"Jap\\u00e3o\", 22710, 11380, \"2022-07-01\"], [2022, 7, \"Uruguai\", 21773, 3208, \"2022-07-01\"], [2022, 11, \"Reino Unido\", 20664, 2545, \"2022-11-01\"], [2022, 1, \"Cura\\u00e7ao\", 20642, 15165, \"2022-01-01\"], [2022, 4, \"Su\\u00ed\\u00e7a\", 20340, 1485, \"2022-04-01\"], [2022, 6, \"Estados Unidos\", 19897, 4570, \"2022-06-01\"], [2022, 7, \"China\", 19468, 8241, \"2022-07-01\"], [2022, 7, \"Estados Unidos\", 18928, 3662, \"2022-07-01\"], [2022, 11, \"Gana\", 18768, 12629, \"2022-11-01\"], [2022, 4, \"Jap\\u00e3o\", 18702, 11439, \"2022-04-01\"], [2022, 3, \"Reino Unido\", 17966, 3347, \"2022-03-01\"], [2022, 11, \"Estados Unidos\", 17316, 9108, \"2022-11-01\"], [2022, 11, \"Alemanha\", 17167, 2614, \"2022-11-01\"], [2022, 12, \"Reino Unido\", 16459, 1833, \"2022-12-01\"], [2022, 6, \"Cura\\u00e7ao\", 15742, 11565, \"2022-06-01\"], [2022, 4, \"Alemanha\", 15501, 1845, \"2022-04-01\"], [2022, 6, \"Serra Leoa\", 15182, 8101, \"2022-06-01\"], [2022, 5, \"Panam\\u00e1\", 15148, 1555, \"2022-05-01\"], [2022, 9, \"Reino Unido\", 14763, 2382, \"2022-09-01\"], [2022, 7, \"Fran\\u00e7a\", 14340, 3121, \"2022-07-01\"], [2022, 5, \"Bol\\u00edvia\", 13910, 9870, \"2022-05-01\"], [2022, 1, \"Reino Unido\", 13851, 1535, \"2022-01-01\"], [2022, 8, \"Pa\\u00edses Baixos (Holanda)\", 13618, 1476, \"2022-08-01\"], [2022, 6, \"Bol\\u00edvia\", 13535, 9210, \"2022-06-01\"], [2022, 8, \"Estados Unidos\", 13340, 7380, \"2022-08-01\"], [2022, 8, \"Bol\\u00edvia\", 13005, 8715, \"2022-08-01\"], [2022, 10, \"Cura\\u00e7ao\", 11370, 3753, \"2022-10-01\"], [2022, 12, \"Cura\\u00e7ao\", 10780, 7920, \"2022-12-01\"], [2022, 11, \"Tcheca, Rep\\u00fablica\", 9997, 1305, \"2022-11-01\"], [2022, 1, \"Fran\\u00e7a\", 8374, 2439, \"2022-01-01\"], [2022, 8, \"Austr\\u00e1lia\", 8234, 903, \"2022-08-01\"], [2022, 8, \"Hong Kong\", 8139, 1562, \"2022-08-01\"], [2022, 6, \"Pa\\u00edses Baixos (Holanda)\", 7995, 347, \"2022-06-01\"], [2022, 7, \"Granada\", 7914, 5610, \"2022-07-01\"], [2022, 4, \"Chile\", 7800, 1820, \"2022-04-01\"], [2022, 1, \"Bol\\u00edvia\", 7391, 3835, \"2022-01-01\"], [2022, 5, \"Cura\\u00e7ao\", 7190, 1370, \"2022-05-01\"], [2022, 7, \"Alemanha\", 7119, 1630, \"2022-07-01\"], [2022, 6, \"Col\\u00f4mbia\", 7000, 4500, \"2022-06-01\"], [2022, 8, \"Venezuela\", 6726, 5670, \"2022-08-01\"], [2022, 4, \"R\\u00fassia\", 6600, 990, \"2022-04-01\"], [2022, 8, \"B\\u00e9lgica\", 6069, 810, \"2022-08-01\"], [2022, 5, \"Portugal\", 5729, 1200, \"2022-05-01\"], [2022, 10, \"Guatemala\", 5350, 1283, \"2022-10-01\"], [2022, 5, \"Lib\\u00e9ria\", 5291, 1139, \"2022-05-01\"], [2022, 8, \"Lib\\u00e9ria\", 4867, 1033, \"2022-08-01\"], [2022, 1, \"Canad\\u00e1\", 4839, 1080, \"2022-01-01\"], [2022, 9, \"Lib\\u00e9ria\", 4789, 1423, \"2022-09-01\"], [2022, 1, \"Angola\", 4761, 4068, \"2022-01-01\"], [2022, 9, \"Alemanha\", 4681, 1341, \"2022-09-01\"], [2022, 11, \"Hong Kong\", 4662, 1102, \"2022-11-01\"], [2022, 8, \"Panam\\u00e1\", 4398, 1233, \"2022-08-01\"], [2022, 3, \"Panam\\u00e1\", 4290, 1126, \"2022-03-01\"], [2022, 8, \"Malta\", 4160, 686, \"2022-08-01\"], [2022, 7, \"Austr\\u00e1lia\", 4009, 478, \"2022-07-01\"], [2022, 7, \"Hong Kong\", 3984, 624, \"2022-07-01\"], [2022, 3, \"Marshall, Ilhas\", 3952, 1141, \"2022-03-01\"], [2022, 4, \"Pa\\u00edses Baixos (Holanda)\", 3946, 849, \"2022-04-01\"], [2022, 11, \"Col\\u00f4mbia\", 3920, 2520, \"2022-11-01\"], [2022, 6, \"Panam\\u00e1\", 3819, 736, \"2022-06-01\"], [2022, 1, \"Lib\\u00e9ria\", 3738, 969, \"2022-01-01\"], [2022, 9, \"Panam\\u00e1\", 3632, 1105, \"2022-09-01\"], [2022, 2, \"Hong Kong\", 3569, 1278, \"2022-02-01\"], [2022, 5, \"Hong Kong\", 3318, 622, \"2022-05-01\"], [2022, 9, \"Gana\", 3278, 2250, \"2022-09-01\"], [2022, 2, \"Panam\\u00e1\", 3272, 1058, \"2022-02-01\"], [2022, 12, \"Argentina\", 3232, 480, \"2022-12-01\"], [2022, 3, \"Col\\u00f4mbia\", 3148, 1197, \"2022-03-01\"], [2022, 1, \"Panam\\u00e1\", 3066, 954, \"2022-01-01\"], [2022, 6, \"China\", 2994, 520, \"2022-06-01\"], [2022, 2, \"Pa\\u00edses Baixos (Holanda)\", 2883, 1275, \"2022-02-01\"], [2022, 4, \"Singapura\", 2856, 683, \"2022-04-01\"], [2022, 9, \"Hong Kong\", 2851, 602, \"2022-09-01\"], [2022, 10, \"Marshall, Ilhas\", 2850, 606, \"2022-10-01\"], [2022, 5, \"Emirados \\u00c1rabes Unidos\", 2835, 675, \"2022-05-01\"], [2022, 11, \"Marshall, Ilhas\", 2805, 643, \"2022-11-01\"], [2022, 3, \"Hong Kong\", 2789, 1307, \"2022-03-01\"], [2022, 11, \"Lib\\u00e9ria\", 2722, 834, \"2022-11-01\"], [2022, 7, \"Panam\\u00e1\", 2697, 940, \"2022-07-01\"], [2022, 11, \"Singapura\", 2692, 311, \"2022-11-01\"], [2022, 5, \"Pa\\u00edses Baixos (Holanda)\", 2652, 400, \"2022-05-01\"], [2022, 4, \"Panam\\u00e1\", 2642, 942, \"2022-04-01\"], [2022, 7, \"Marshall, Ilhas\", 2445, 425, \"2022-07-01\"], [2022, 10, \"Lib\\u00e9ria\", 2417, 659, \"2022-10-01\"], [2022, 4, \"Malta\", 2417, 364, \"2022-04-01\"], [2022, 9, \"Marshall, Ilhas\", 2373, 835, \"2022-09-01\"], [2022, 11, \"Panam\\u00e1\", 2349, 830, \"2022-11-01\"], [2022, 6, \"Lib\\u00e9ria\", 2335, 574, \"2022-06-01\"], [2022, 12, \"It\\u00e1lia\", 2273, 410, \"2022-12-01\"], [2022, 8, \"Dominica\", 2223, 1485, \"2022-08-01\"], [2022, 3, \"Pa\\u00edses Baixos (Holanda)\", 2222, 1024, \"2022-03-01\"], [2022, 8, \"Emirados \\u00c1rabes Unidos\", 2200, 450, \"2022-08-01\"], [2022, 1, \"Marshall, Ilhas\", 2196, 879, \"2022-01-01\"], [2022, 10, \"Panam\\u00e1\", 2153, 611, \"2022-10-01\"], [2022, 5, \"Marshall, Ilhas\", 2134, 437, \"2022-05-01\"], [2022, 3, \"Gana\", 2127, 3600, \"2022-03-01\"], [2022, 9, \"Fran\\u00e7a\", 2124, 89, \"2022-09-01\"], [2022, 3, \"Lib\\u00e9ria\", 2122, 675, \"2022-03-01\"], [2022, 8, \"Qu\\u00eania\", 2080, 1440, \"2022-08-01\"], [2022, 6, \"Hong Kong\", 2028, 397, \"2022-06-01\"], [2022, 1, \"Hong Kong\", 2021, 593, \"2022-01-01\"], [2022, 8, \"Marshall, Ilhas\", 2007, 490, \"2022-08-01\"], [2022, 7, \"Mo\\u00e7ambique\", 1927, 383, \"2022-07-01\"], [2022, 12, \"Panam\\u00e1\", 1926, 400, \"2022-12-01\"], [2022, 1, \"Pa\\u00edses Baixos (Holanda)\", 1919, 825, \"2022-01-01\"], [2022, 7, \"It\\u00e1lia\", 1908, 360, \"2022-07-01\"], [2022, 8, \"Barein\", 1903, 793, \"2022-08-01\"], [2022, 5, \"Reino Unido\", 1885, 640, \"2022-05-01\"], [2022, 2, \"Lib\\u00e9ria\", 1877, 500, \"2022-02-01\"], [2022, 7, \"Suriname\", 1875, 1125, \"2022-07-01\"], [2022, 7, \"Lib\\u00e9ria\", 1874, 671, \"2022-07-01\"], [2022, 12, \"Hong Kong\", 1853, 334, \"2022-12-01\"], [2022, 6, \"Marshall, Ilhas\", 1836, 354, \"2022-06-01\"], [2022, 10, \"Singapura\", 1797, 263, \"2022-10-01\"], [2022, 5, \"Malta\", 1757, 342, \"2022-05-01\"], [2022, 1, \"Malta\", 1700, 369, \"2022-01-01\"], [2022, 3, \"Bahamas\", 1660, 373, \"2022-03-01\"], [2022, 2, \"Marshall, Ilhas\", 1603, 453, \"2022-02-01\"], [2022, 11, \"Pa\\u00edses Baixos (Holanda)\", 1564, 743, \"2022-11-01\"], [2022, 6, \"Gana\", 1542, 370, \"2022-06-01\"], [2022, 4, \"Hong Kong\", 1536, 486, \"2022-04-01\"], [2022, 4, \"Marshall, Ilhas\", 1525, 582, \"2022-04-01\"], [2022, 5, \"Suriname\", 1485, 100, \"2022-05-01\"], [2022, 10, \"Hong Kong\", 1468, 464, \"2022-10-01\"], [2022, 12, \"Marshall, Ilhas\", 1452, 395, \"2022-12-01\"], [2022, 1, \"Singapura\", 1417, 287, \"2022-01-01\"], [2022, 3, \"Singapura\", 1407, 241, \"2022-03-01\"], [2022, 12, \"Lib\\u00e9ria\", 1394, 357, \"2022-12-01\"], [2022, 4, \"Lib\\u00e9ria\", 1389, 311, \"2022-04-01\"], [2022, 10, \"Guiana\", 1369, 360, \"2022-10-01\"], [2022, 2, \"Reino Unido\", 1351, 598, \"2022-02-01\"], [2022, 3, \"Noruega\", 1262, 219, \"2022-03-01\"], [2022, 12, \"Malta\", 1259, 203, \"2022-12-01\"], [2022, 6, \"Singapura\", 1236, 212, \"2022-06-01\"], [2022, 4, \"Cura\\u00e7ao\", 1226, 900, \"2022-04-01\"], [2022, 10, \"Bol\\u00edvia\", 1170, 900, \"2022-10-01\"], [2022, 1, \"It\\u00e1lia\", 1140, 225, \"2022-01-01\"], [2022, 12, \"Chipre\", 1126, 335, \"2022-12-01\"], [2022, 11, \"China\", 1114, 391, \"2022-11-01\"], [2022, 10, \"Emirados \\u00c1rabes Unidos\", 1101, 225, \"2022-10-01\"], [2022, 9, \"Singapura\", 1047, 254, \"2022-09-01\"], [2022, 7, \"Nig\\u00e9ria\", 1027, 734, \"2022-07-01\"], [2022, 11, \"Malta\", 1020, 195, \"2022-11-01\"], [2022, 5, \"Bahamas\", 985, 172, \"2022-05-01\"], [2022, 6, \"Guiana\", 972, 396, \"2022-06-01\"], [2022, 8, \"Singapura\", 888, 1489, \"2022-08-01\"], [2022, 10, \"Canad\\u00e1\", 840, 93, \"2022-10-01\"], [2022, 1, \"Portugal\", 822, 287, \"2022-01-01\"], [2022, 5, \"Alemanha\", 779, 173, \"2022-05-01\"], [2022, 2, \"Guiana\", 769, 360, \"2022-02-01\"], [2022, 4, \"Estados Unidos\", 734, 225, \"2022-04-01\"], [2022, 5, \"Singapura\", 697, 175, \"2022-05-01\"], [2022, 8, \"Reino Unido\", 696, 227, \"2022-08-01\"], [2022, 5, \"Om\\u00e3\", 670, 194, \"2022-05-01\"], [2022, 2, \"Tail\\u00e2ndia\", 659, 242, \"2022-02-01\"], [2022, 1, \"Bahamas\", 659, 101, \"2022-01-01\"], [2022, 9, \"Malta\", 624, 140, \"2022-09-01\"], [2022, 7, \"Malta\", 619, 110, \"2022-07-01\"], [2022, 9, \"Bahamas\", 605, 143, \"2022-09-01\"], [2022, 11, \"Chipre\", 604, 187, \"2022-11-01\"], [2022, 12, \"Ilha de Man\", 604, 148, \"2022-12-01\"], [2022, 4, \"Gr\\u00e9cia\", 580, 271, \"2022-04-01\"], [2022, 3, \"Chipre\", 578, 506, \"2022-03-01\"], [2022, 2, \"Malta\", 572, 154, \"2022-02-01\"], [2022, 9, \"Guiana\", 571, 168, \"2022-09-01\"], [2022, 5, \"Chipre\", 567, 114, \"2022-05-01\"], [2022, 1, \"Ant\\u00edgua e Barbuda\", 555, 210, \"2022-01-01\"], [2022, 12, \"Singapura\", 552, 137, \"2022-12-01\"], [2022, 8, \"Guiana\", 552, 114, \"2022-08-01\"], [2022, 5, \"Gr\\u00e9cia\", 551, 302, \"2022-05-01\"], [2022, 6, \"Noruega\", 545, 135, \"2022-06-01\"], [2022, 3, \"Guiana\", 539, 240, \"2022-03-01\"], [2022, 10, \"Malta\", 508, 103, \"2022-10-01\"], [2022, 5, \"Ant\\u00edgua e Barbuda\", 500, 32, \"2022-05-01\"], [2022, 6, \"Malta\", 496, 120, \"2022-06-01\"], [2022, 4, \"It\\u00e1lia\", 484, 62, \"2022-04-01\"], [2022, 7, \"Cro\\u00e1cia\", 484, 34, \"2022-07-01\"], [2022, 9, \"\\u00cdndia\", 484, 32, \"2022-09-01\"], [2022, 5, \"Cayman, Ilhas\", 469, 54, \"2022-05-01\"], [2022, 9, \"Chipre\", 461, 108, \"2022-09-01\"], [2022, 3, \"Malta\", 455, 341, \"2022-03-01\"], [2022, 2, \"Singapura\", 446, 167, \"2022-02-01\"], [2022, 3, \"Luxemburgo\", 423, 28, \"2022-03-01\"], [2022, 8, \"\\u00cdndia\", 418, 176, \"2022-08-01\"], [2022, 7, \"Singapura\", 399, 103, \"2022-07-01\"], [2022, 12, \"Noruega\", 380, 96, \"2022-12-01\"], [2022, 12, \"Guiana\", 379, 78, \"2022-12-01\"], [2022, 4, \"Luxemburgo\", 379, 8, \"2022-04-01\"], [2022, 10, \"Filipinas\", 374, 174, \"2022-10-01\"], [2022, 10, \"Bahamas\", 372, 102, \"2022-10-01\"], [2022, 1, \"Gr\\u00e9cia\", 372, 66, \"2022-01-01\"], [2022, 5, \"Noruega\", 367, 84, \"2022-05-01\"], [2022, 4, \"Barein\", 366, 100, \"2022-04-01\"], [2022, 2, \"Noruega\", 365, 212, \"2022-02-01\"], [2022, 11, \"Guiana\", 360, 222, \"2022-11-01\"], [2022, 4, \"Bahamas\", 360, 61, \"2022-04-01\"], [2022, 10, \"Noruega\", 340, 147, \"2022-10-01\"], [2022, 12, \"Barbados\", 329, 60, \"2022-12-01\"], [2022, 10, \"Pa\\u00edses Baixos (Holanda)\", 313, 69, \"2022-10-01\"], [2022, 6, \"Bahamas\", 310, 53, \"2022-06-01\"], [2022, 2, \"Bahamas\", 300, 30, \"2022-02-01\"], [2022, 5, \"Tail\\u00e2ndia\", 296, 36, \"2022-05-01\"], [2022, 10, \"Ant\\u00edgua e Barbuda\", 290, 70, \"2022-10-01\"], [2022, 8, \"Chipre\", 283, 67, \"2022-08-01\"], [2022, 8, \"Bahamas\", 281, 85, \"2022-08-01\"], [2022, 10, \"Barein\", 280, 51, \"2022-10-01\"], [2022, 5, \"Turquia\", 276, 255, \"2022-05-01\"], [2022, 1, \"Brasil\", 270, 248, \"2022-01-01\"], [2022, 5, \"Barbados\", 269, 24, \"2022-05-01\"], [2022, 6, \"Filipinas\", 266, 108, \"2022-06-01\"], [2022, 4, \"Brasil\", 264, 2018, \"2022-04-01\"], [2022, 2, \"Brasil\", 264, 163, \"2022-02-01\"], [2022, 2, \"Chipre\", 254, 49, \"2022-02-01\"], [2022, 11, \"Su\\u00ed\\u00e7a\", 243, 45, \"2022-11-01\"], [2022, 8, \"It\\u00e1lia\", 241, 49, \"2022-08-01\"], [2022, 1, \"Guiana\", 236, 90, \"2022-01-01\"], [2022, 12, \"Jap\\u00e3o\", 236, 69, \"2022-12-01\"], [2022, 4, \"Chipre\", 235, 70, \"2022-04-01\"], [2022, 7, \"Portugal\", 232, 58, \"2022-07-01\"], [2022, 8, \"Gr\\u00e9cia\", 224, 93, \"2022-08-01\"], [2022, 6, \"Portugal\", 217, 111, \"2022-06-01\"], [2022, 2, \"Barbados\", 216, 44, \"2022-02-01\"], [2022, 12, \"Tail\\u00e2ndia\", 216, 26, \"2022-12-01\"], [2022, 11, \"\\u00c1ustria\", 212, 6, \"2022-11-01\"], [2022, 8, \"Equador\", 210, 135, \"2022-08-01\"], [2022, 3, \"Portugal\", 202, 84, \"2022-03-01\"], [2022, 7, \"Su\\u00ed\\u00e7a\", 202, 45, \"2022-07-01\"], [2022, 4, \"Turquia\", 193, 90, \"2022-04-01\"], [2022, 4, \"Reino Unido\", 193, 49, \"2022-04-01\"], [2022, 12, \"Cayman, Ilhas\", 193, 23, \"2022-12-01\"], [2022, 7, \"Chile\", 186, 274, \"2022-07-01\"], [2022, 1, \"Tail\\u00e2ndia\", 182, 39, \"2022-01-01\"], [2022, 8, \"R\\u00fassia\", 173, 31, \"2022-08-01\"], [2022, 3, \"Ant\\u00edgua e Barbuda\", 173, 26, \"2022-03-01\"], [2022, 4, \"China\", 169, 38, \"2022-04-01\"], [2022, 12, \"Barein\", 167, 18, \"2022-12-01\"], [2022, 11, \"Taiwan (Formosa)\", 159, 15, \"2022-11-01\"], [2022, 9, \"Cayman, Ilhas\", 158, 52, \"2022-09-01\"], [2022, 1, \"Nova Zel\\u00e2ndia\", 156, 63, \"2022-01-01\"], [2022, 3, \"Brasil\", 154, 75, \"2022-03-01\"], [2022, 6, \"Tail\\u00e2ndia\", 154, 35, \"2022-06-01\"], [2022, 7, \"Chipre\", 148, 48, \"2022-07-01\"], [2022, 12, \"Portugal\", 148, 13, \"2022-12-01\"], [2022, 4, \"Noruega\", 147, 24, \"2022-04-01\"], [2022, 2, \"Jap\\u00e3o\", 141, 38, \"2022-02-01\"], [2022, 5, \"Fran\\u00e7a\", 141, 18, \"2022-05-01\"], [2022, 10, \"Jap\\u00e3o\", 140, 70, \"2022-10-01\"], [2022, 10, \"Portugal\", 138, 44, \"2022-10-01\"], [2022, 1, \"Noruega\", 136, 21, \"2022-01-01\"], [2022, 7, \"Noruega\", 135, 40, \"2022-07-01\"], [2022, 12, \"Gr\\u00e9cia\", 132, 39, \"2022-12-01\"], [2022, 9, \"Ant\\u00edgua e Barbuda\", 131, 29, \"2022-09-01\"], [2022, 8, \"Noruega\", 131, 28, \"2022-08-01\"], [2022, 7, \"Ant\\u00edgua e Barbuda\", 129, 27, \"2022-07-01\"], [2022, 10, \"Reino Unido\", 129, 15, \"2022-10-01\"], [2022, 9, \"Gr\\u00e9cia\", 128, 33, \"2022-09-01\"], [2022, 12, \"Pa\\u00edses Baixos (Holanda)\", 128, 26, \"2022-12-01\"], [2022, 8, \"Alemanha\", 120, 27, \"2022-08-01\"], [2022, 5, \"Vietn\\u00e3\", 119, 65, \"2022-05-01\"], [2022, 12, \"Taiwan (Formosa)\", 118, 10, \"2022-12-01\"], [2022, 9, \"Barbados\", 116, 22, \"2022-09-01\"], [2022, 6, \"Coreia do Sul\", 111, 52, \"2022-06-01\"], [2022, 3, \"Tail\\u00e2ndia\", 110, 36, \"2022-03-01\"], [2022, 12, \"Bahamas\", 107, 12, \"2022-12-01\"], [2022, 3, \"Gr\\u00e9cia\", 106, 18, \"2022-03-01\"], [2022, 1, \"Chipre\", 103, 18, \"2022-01-01\"], [2022, 7, \"\\u00cdndia\", 102, 35, \"2022-07-01\"], [2022, 10, \"Chipre\", 99, 19, \"2022-10-01\"], [2022, 8, \"Portugal\", 96, 112, \"2022-08-01\"], [2022, 7, \"Gr\\u00e9cia\", 96, 44, \"2022-07-01\"], [2022, 7, \"Vietn\\u00e3\", 93, 53, \"2022-07-01\"], [2022, 5, \"Coreia do Sul\", 92, 9, \"2022-05-01\"], [2022, 11, \"Togo\", 89, 37, \"2022-11-01\"], [2022, 6, \"Barbados\", 87, 44, \"2022-06-01\"], [2022, 7, \"Bahamas\", 87, 21, \"2022-07-01\"], [2022, 6, \"Gr\\u00e9cia\", 87, 10, \"2022-06-01\"], [2022, 10, \"Gr\\u00e9cia\", 82, 20, \"2022-10-01\"], [2022, 2, \"Su\\u00ed\\u00e7a\", 78, 9, \"2022-02-01\"], [2022, 5, \"Guiana\", 76, 36, \"2022-05-01\"], [2022, 7, \"B\\u00e9lgica\", 76, 18, \"2022-07-01\"], [2022, 5, \"Jap\\u00e3o\", 75, 48, \"2022-05-01\"], [2022, 11, \"Bahamas\", 73, 62, \"2022-11-01\"], [2022, 12, \"Canad\\u00e1\", 72, 6, \"2022-12-01\"], [2022, 6, \"Jap\\u00e3o\", 69, 47, \"2022-06-01\"], [2022, 9, \"It\\u00e1lia\", 65, 14, \"2022-09-01\"], [2022, 9, \"Cocos (Keeling), Ilhas\", 60, 26, \"2022-09-01\"], [2022, 8, \"Bangladesh\", 58, 1, \"2022-08-01\"], [2022, 8, \"Filipinas\", 57, 11, \"2022-08-01\"], [2022, 5, \"Austr\\u00e1lia\", 56, 43, \"2022-05-01\"], [2022, 10, \"Ir\\u00e3\", 53, 23, \"2022-10-01\"], [2022, 1, \"Barbados\", 53, 7, \"2022-01-01\"], [2022, 10, \"Tail\\u00e2ndia\", 48, 10, \"2022-10-01\"], [2022, 11, \"Tail\\u00e2ndia\", 48, 8, \"2022-11-01\"], [2022, 11, \"Gr\\u00e9cia\", 45, 20, \"2022-11-01\"], [2022, 9, \"Vietn\\u00e3\", 45, 7, \"2022-09-01\"], [2022, 1, \"Barein\", 44, 12, \"2022-01-01\"], [2022, 9, \"Noruega\", 42, 5, \"2022-09-01\"], [2022, 10, \"Cayman, Ilhas\", 40, 15, \"2022-10-01\"], [2022, 7, \"Cayman, Ilhas\", 40, 11, \"2022-07-01\"], [2022, 10, \"It\\u00e1lia\", 40, 9, \"2022-10-01\"], [2022, 8, \"Barbados\", 39, 10, \"2022-08-01\"], [2022, 9, \"Ir\\u00e3\", 37, 24, \"2022-09-01\"], [2022, 12, \"Ant\\u00edgua e Barbuda\", 37, 7, \"2022-12-01\"], [2022, 6, \"Emirados \\u00c1rabes Unidos\", 36, 11, \"2022-06-01\"], [2022, 4, \"Barbados\", 36, 9, \"2022-04-01\"], [2022, 11, \"Cayman, Ilhas\", 36, 0, \"2022-11-01\"], [2022, 3, \"Turquia\", 34, 73, \"2022-03-01\"], [2022, 4, \"M\\u00e9xico\", 33, 6, \"2022-04-01\"], [2022, 3, \"Canad\\u00e1\", 33, 4, \"2022-03-01\"], [2022, 3, \"Filipinas\", 31, 60, \"2022-03-01\"], [2022, 9, \"Bulg\\u00e1ria\", 31, 5, \"2022-09-01\"], [2022, 10, \"S\\u00e3o Vicente e Granadinas\", 30, 10, \"2022-10-01\"], [2022, 11, \"Coreia do Sul\", 30, 9, \"2022-11-01\"], [2022, 9, \"Portugal\", 29, 9, \"2022-09-01\"], [2022, 3, \"Barein\", 29, 5, \"2022-03-01\"], [2022, 5, \"Filipinas\", 27, 9, \"2022-05-01\"], [2022, 4, \"Filipinas\", 24, 9, \"2022-04-01\"], [2022, 2, \"Gr\\u00e9cia\", 23, 4, \"2022-02-01\"], [2022, 2, \"Ant\\u00edgua e Barbuda\", 22, 9, \"2022-02-01\"], [2022, 4, \"S\\u00e3o Vicente e Granadinas\", 21, 10, \"2022-04-01\"], [2022, 2, \"Bangladesh\", 21, 5, \"2022-02-01\"], [2022, 4, \"Ilha de Man\", 20, 9, \"2022-04-01\"], [2022, 2, \"Vietn\\u00e3\", 20, 5, \"2022-02-01\"], [2022, 11, \"Ant\\u00edgua e Barbuda\", 19, 6, \"2022-11-01\"], [2022, 2, \"Guiana Francesa\", 18, 22, \"2022-02-01\"], [2022, 12, \"Coreia do Sul\", 18, 6, \"2022-12-01\"], [2022, 12, \"Su\\u00e9cia\", 18, 5, \"2022-12-01\"], [2022, 6, \"Ilha de Man\", 17, 8, \"2022-06-01\"], [2022, 4, \"\\u00cdndia\", 17, 4, \"2022-04-01\"], [2022, 10, \"Fran\\u00e7a\", 15, 15, \"2022-10-01\"], [2022, 3, \"Fran\\u00e7a\", 14, 12, \"2022-03-01\"], [2022, 6, \"Cayman, Ilhas\", 12, 1, \"2022-06-01\"], [2022, 12, \"Filipinas\", 11, 4, \"2022-12-01\"], [2022, 3, \"Cayman, Ilhas\", 10, 4, \"2022-03-01\"], [2022, 6, \"Ant\\u00edgua e Barbuda\", 10, 3, \"2022-06-01\"], [2022, 4, \"Cuba\", 6, 16, \"2022-04-01\"], [2022, 7, \"Dinamarca\", 6, 2, \"2022-07-01\"], [2022, 1, \"Coreia do Sul\", 6, 1, \"2022-01-01\"], [2022, 5, \"Bangladesh\", 5, 1, \"2022-05-01\"], [2021, 7, \"Paraguai\", 975978, 908553, \"2021-07-01\"], [2021, 5, \"Paraguai\", 943452, 771090, \"2021-05-01\"], [2021, 9, \"Paraguai\", 830549, 807598, \"2021-09-01\"], [2021, 6, \"Paraguai\", 811746, 706938, \"2021-06-01\"], [2021, 4, \"Paraguai\", 705067, 580174, \"2021-04-01\"], [2021, 3, \"Paraguai\", 668120, 560693, \"2021-03-01\"], [2021, 8, \"Paraguai\", 630847, 644231, \"2021-08-01\"], [2021, 10, \"Paraguai\", 551410, 610414, \"2021-10-01\"], [2021, 2, \"Paraguai\", 414471, 357300, \"2021-02-01\"], [2021, 12, \"Paraguai\", 248480, 200666, \"2021-12-01\"], [2021, 11, \"Paraguai\", 245031, 249503, \"2021-11-01\"], [2021, 10, \"Haiti\", 222300, 171000, \"2021-10-01\"], [2021, 1, \"Paraguai\", 167211, 125367, \"2021-01-01\"], [2021, 7, \"Haiti\", 133380, 102600, \"2021-07-01\"], [2021, 11, \"Haiti\", 133348, 108416, \"2021-11-01\"], [2021, 6, \"R\\u00fassia\", 111845, 65025, \"2021-06-01\"], [2021, 7, \"R\\u00fassia\", 111845, 65025, \"2021-07-01\"], [2021, 2, \"Haiti\", 104063, 93285, \"2021-02-01\"], [2021, 5, \"Haiti\", 90166, 71885, \"2021-05-01\"], [2021, 12, \"Uruguai\", 74540, 68040, \"2021-12-01\"], [2021, 11, \"R\\u00fassia\", 66867, 38876, \"2021-11-01\"], [2021, 5, \"China\", 63986, 11537, \"2021-05-01\"], [2021, 10, \"Reino Unido\", 61752, 14875, \"2021-10-01\"], [2021, 10, \"China\", 58358, 10840, \"2021-10-01\"], [2021, 4, \"China\", 45500, 10537, \"2021-04-01\"], [2021, 11, \"Nig\\u00e9ria\", 45054, 23094, \"2021-11-01\"], [2021, 5, \"Nig\\u00e9ria\", 44756, 30060, \"2021-05-01\"], [2021, 12, \"Estados Unidos\", 44430, 23634, \"2021-12-01\"], [2021, 2, \"China\", 43217, 20496, \"2021-02-01\"], [2021, 9, \"Uruguai\", 39756, 36288, \"2021-09-01\"], [2021, 6, \"Estados Unidos\", 38209, 18091, \"2021-06-01\"], [2021, 11, \"China\", 36461, 5506, \"2021-11-01\"], [2021, 12, \"Haiti\", 36384, 34110, \"2021-12-01\"], [2021, 10, \"Uruguai\", 35546, 32446, \"2021-10-01\"], [2021, 9, \"Cura\\u00e7ao\", 33533, 18029, \"2021-09-01\"], [2021, 12, \"Portugal\", 30989, 2818, \"2021-12-01\"], [2021, 11, \"Guatemala\", 29100, 17347, \"2021-11-01\"], [2021, 5, \"Estados Unidos\", 28296, 18288, \"2021-05-01\"], [2021, 3, \"Jap\\u00e3o\", 27952, 9139, \"2021-03-01\"], [2021, 4, \"Haiti\", 27614, 22843, \"2021-04-01\"], [2021, 12, \"Jap\\u00e3o\", 27563, 8985, \"2021-12-01\"], [2021, 7, \"Reino Unido\", 26502, 4488, \"2021-07-01\"], [2021, 8, \"Estados Unidos\", 25704, 18963, \"2021-08-01\"], [2021, 8, \"Haiti\", 24444, 17460, \"2021-08-01\"], [2021, 3, \"Venezuela\", 23214, 17595, \"2021-03-01\"], [2021, 3, \"Haiti\", 22560, 16875, \"2021-03-01\"], [2021, 1, \"R\\u00fassia\", 22369, 13005, \"2021-01-01\"], [2021, 5, \"Panam\\u00e1\", 20852, 18401, \"2021-05-01\"], [2021, 9, \"Haiti\", 19210, 15300, \"2021-09-01\"], [2021, 6, \"Jap\\u00e3o\", 18262, 11347, \"2021-06-01\"], [2021, 6, \"Reino Unido\", 18037, 2027, \"2021-06-01\"], [2021, 11, \"Estados Unidos\", 17864, 14287, \"2021-11-01\"], [2021, 1, \"Haiti\", 17712, 16605, \"2021-01-01\"], [2021, 8, \"Gana\", 17274, 10598, \"2021-08-01\"], [2021, 4, \"Peru\", 17107, 9720, \"2021-04-01\"], [2021, 6, \"Fran\\u00e7a\", 15485, 5544, \"2021-06-01\"], [2021, 6, \"Cura\\u00e7ao\", 15314, 11250, \"2021-06-01\"], [2021, 11, \"Jap\\u00e3o\", 15242, 9480, \"2021-11-01\"], [2021, 4, \"Nig\\u00e9ria\", 13824, 10368, \"2021-04-01\"], [2021, 10, \"Col\\u00f4mbia\", 13757, 9306, \"2021-10-01\"], [2021, 5, \"Serra Leoa\", 12955, 6525, \"2021-05-01\"], [2021, 3, \"Estados Unidos\", 12870, 7992, \"2021-03-01\"], [2021, 9, \"Venezuela\", 12730, 8820, \"2021-09-01\"], [2021, 7, \"Hong Kong\", 12663, 4939, \"2021-07-01\"], [2021, 7, \"Estados Unidos\", 12619, 2615, \"2021-07-01\"], [2021, 10, \"Estados Unidos\", 12323, 1914, \"2021-10-01\"], [2021, 7, \"Nova Caled\\u00f4nia\", 11924, 7227, \"2021-07-01\"], [2021, 12, \"China\", 11814, 1607, \"2021-12-01\"], [2021, 10, \"Nova Zel\\u00e2ndia\", 10008, 540, \"2021-10-01\"], [2021, 10, \"Nig\\u00e9ria\", 9538, 4725, \"2021-10-01\"], [2021, 6, \"Filipinas\", 9241, 2340, \"2021-06-01\"], [2021, 4, \"Estados Unidos\", 8669, 891, \"2021-04-01\"], [2021, 4, \"Col\\u00f4mbia\", 8110, 2854, \"2021-04-01\"], [2021, 6, \"Taiwan (Formosa)\", 8029, 1312, \"2021-06-01\"], [2021, 10, \"Emirados \\u00c1rabes Unidos\", 7440, 180, \"2021-10-01\"], [2021, 9, \"Su\\u00ed\\u00e7a\", 6797, 505, \"2021-09-01\"], [2021, 8, \"Bol\\u00edvia\", 6680, 4770, \"2021-08-01\"], [2021, 8, \"Reino Unido\", 6235, 1275, \"2021-08-01\"], [2021, 4, \"Canad\\u00e1\", 5996, 1080, \"2021-04-01\"], [2021, 11, \"Hong Kong\", 5994, 1030, \"2021-11-01\"], [2021, 9, \"Tcheca, Rep\\u00fablica\", 5988, 456, \"2021-09-01\"], [2021, 5, \"Alemanha\", 5205, 2046, \"2021-05-01\"], [2021, 1, \"Cura\\u00e7ao\", 5127, 1502, \"2021-01-01\"], [2021, 9, \"Malta\", 4544, 612, \"2021-09-01\"], [2021, 4, \"Cura\\u00e7ao\", 4407, 1398, \"2021-04-01\"], [2021, 10, \"Fran\\u00e7a\", 4387, 900, \"2021-10-01\"], [2021, 7, \"Panam\\u00e1\", 4208, 1723, \"2021-07-01\"], [2021, 10, \"Pa\\u00edses Baixos (Holanda)\", 4011, 1982, \"2021-10-01\"], [2021, 5, \"Austr\\u00e1lia\", 3997, 699, \"2021-05-01\"], [2021, 4, \"Noruega\", 3740, 888, \"2021-04-01\"], [2021, 7, \"Singapura\", 3709, 862, \"2021-07-01\"], [2021, 11, \"Marshall, Ilhas\", 3609, 908, \"2021-11-01\"], [2021, 9, \"B\\u00e9lgica\", 3557, 450, \"2021-09-01\"], [2021, 11, \"Panam\\u00e1\", 3493, 1053, \"2021-11-01\"], [2021, 3, \"Hong Kong\", 3426, 1011, \"2021-03-01\"], [2021, 3, \"Portugal\", 3413, 1278, \"2021-03-01\"], [2021, 8, \"It\\u00e1lia\", 3318, 630, \"2021-08-01\"], [2021, 1, \"Malta\", 3302, 675, \"2021-01-01\"], [2021, 6, \"Hong Kong\", 3166, 883, \"2021-06-01\"], [2021, 8, \"Panam\\u00e1\", 3121, 1267, \"2021-08-01\"], [2021, 7, \"Marshall, Ilhas\", 3080, 966, \"2021-07-01\"], [2021, 12, \"Pa\\u00edses Baixos (Holanda)\", 2899, 1222, \"2021-12-01\"], [2021, 10, \"Panam\\u00e1\", 2692, 1662, \"2021-10-01\"], [2021, 3, \"Reino Unido\", 2658, 727, \"2021-03-01\"], [2021, 9, \"Portugal\", 2576, 344, \"2021-09-01\"], [2021, 9, \"Estados Unidos\", 2570, 4410, \"2021-09-01\"], [2021, 9, \"Panam\\u00e1\", 2522, 1099, \"2021-09-01\"], [2021, 6, \"Marshall, Ilhas\", 2517, 1020, \"2021-06-01\"], [2021, 4, \"Panam\\u00e1\", 2492, 887, \"2021-04-01\"], [2021, 7, \"Lib\\u00e9ria\", 2437, 1058, \"2021-07-01\"], [2021, 8, \"Emirados \\u00c1rabes Unidos\", 2422, 495, \"2021-08-01\"], [2021, 5, \"Hong Kong\", 2380, 941, \"2021-05-01\"], [2021, 4, \"Hong Kong\", 2367, 754, \"2021-04-01\"], [2021, 11, \"Lib\\u00e9ria\", 2348, 769, \"2021-11-01\"], [2021, 12, \"Marshall, Ilhas\", 2282, 696, \"2021-12-01\"], [2021, 9, \"Reino Unido\", 2272, 805, \"2021-09-01\"], [2021, 5, \"Portugal\", 2269, 746, \"2021-05-01\"], [2021, 6, \"Panam\\u00e1\", 2262, 756, \"2021-06-01\"], [2021, 2, \"Lib\\u00e9ria\", 2262, 594, \"2021-02-01\"], [2021, 9, \"Hong Kong\", 2252, 842, \"2021-09-01\"], [2021, 1, \"Lib\\u00e9ria\", 2124, 684, \"2021-01-01\"], [2021, 3, \"Lib\\u00e9ria\", 2107, 921, \"2021-03-01\"], [2021, 5, \"Lib\\u00e9ria\", 2096, 696, \"2021-05-01\"], [2021, 8, \"Hong Kong\", 2084, 512, \"2021-08-01\"], [2021, 12, \"Panam\\u00e1\", 2057, 787, \"2021-12-01\"], [2021, 12, \"Fran\\u00e7a\", 2027, 344, \"2021-12-01\"], [2021, 2, \"Panam\\u00e1\", 2024, 896, \"2021-02-01\"], [2021, 11, \"Togo\", 2012, 1890, \"2021-11-01\"], [2021, 9, \"Lib\\u00e9ria\", 1870, 708, \"2021-09-01\"], [2021, 6, \"Lib\\u00e9ria\", 1785, 464, \"2021-06-01\"], [2021, 11, \"Reino Unido\", 1782, 485, \"2021-11-01\"], [2021, 10, \"Gana\", 1772, 1890, \"2021-10-01\"], [2021, 5, \"Marshall, Ilhas\", 1770, 1655, \"2021-05-01\"], [2021, 3, \"Marshall, Ilhas\", 1722, 484, \"2021-03-01\"], [2021, 8, \"Lib\\u00e9ria\", 1696, 526, \"2021-08-01\"], [2021, 4, \"Singapura\", 1690, 384, \"2021-04-01\"], [2021, 4, \"Bol\\u00edvia\", 1680, 1080, \"2021-04-01\"], [2021, 4, \"Lib\\u00e9ria\", 1638, 468, \"2021-04-01\"], [2021, 2, \"Portugal\", 1635, 642, \"2021-02-01\"], [2021, 10, \"Lib\\u00e9ria\", 1612, 344, \"2021-10-01\"], [2021, 9, \"Singapura\", 1551, 348, \"2021-09-01\"], [2021, 1, \"Panam\\u00e1\", 1524, 495, \"2021-01-01\"], [2021, 2, \"Marshall, Ilhas\", 1499, 429, \"2021-02-01\"], [2021, 12, \"Suriname\", 1472, 900, \"2021-12-01\"], [2021, 2, \"Hong Kong\", 1463, 362, \"2021-02-01\"], [2021, 10, \"Marshall, Ilhas\", 1455, 1131, \"2021-10-01\"], [2021, 6, \"China\", 1435, 402, \"2021-06-01\"], [2021, 8, \"Marshall, Ilhas\", 1432, 369, \"2021-08-01\"], [2021, 1, \"Marshall, Ilhas\", 1430, 488, \"2021-01-01\"], [2021, 8, \"Singapura\", 1363, 465, \"2021-08-01\"], [2021, 4, \"Reino Unido\", 1362, 256, \"2021-04-01\"], [2021, 1, \"Hong Kong\", 1355, 384, \"2021-01-01\"], [2021, 10, \"Bahamas\", 1343, 24, \"2021-10-01\"], [2021, 10, \"Guiana\", 1321, 500, \"2021-10-01\"], [2021, 11, \"Tail\\u00e2ndia\", 1224, 1061, \"2021-11-01\"], [2021, 3, \"Panam\\u00e1\", 1197, 494, \"2021-03-01\"], [2021, 12, \"Singapura\", 1187, 518, \"2021-12-01\"], [2021, 7, \"Malta\", 1167, 284, \"2021-07-01\"], [2021, 11, \"Guiana\", 1144, 480, \"2021-11-01\"], [2021, 12, \"Hong Kong\", 1142, 428, \"2021-12-01\"], [2021, 12, \"Noruega\", 1138, 209, \"2021-12-01\"], [2021, 10, \"Hong Kong\", 1098, 421, \"2021-10-01\"], [2021, 6, \"Guiana\", 1088, 316, \"2021-06-01\"], [2021, 12, \"Lib\\u00e9ria\", 1085, 322, \"2021-12-01\"], [2021, 6, \"Singapura\", 1063, 370, \"2021-06-01\"], [2021, 10, \"Malta\", 1052, 246, \"2021-10-01\"], [2021, 3, \"China\", 1028, 251, \"2021-03-01\"], [2021, 3, \"Singapura\", 1014, 376, \"2021-03-01\"], [2021, 9, \"China\", 985, 296, \"2021-09-01\"], [2021, 11, \"Singapura\", 944, 300, \"2021-11-01\"], [2021, 8, \"Malta\", 889, 153, \"2021-08-01\"], [2021, 4, \"Marshall, Ilhas\", 884, 182, \"2021-04-01\"], [2021, 9, \"Marshall, Ilhas\", 881, 316, \"2021-09-01\"], [2021, 12, \"Reino Unido\", 847, 213, \"2021-12-01\"], [2021, 12, \"Bahamas\", 844, 138, \"2021-12-01\"], [2021, 11, \"Malta\", 837, 206, \"2021-11-01\"], [2021, 3, \"Malta\", 830, 217, \"2021-03-01\"], [2021, 12, \"Turquia\", 823, 225, \"2021-12-01\"], [2021, 8, \"Guiana\", 787, 198, \"2021-08-01\"], [2021, 10, \"Portugal\", 785, 290, \"2021-10-01\"], [2021, 2, \"Fran\\u00e7a\", 771, 84, \"2021-02-01\"], [2021, 7, \"Barein\", 768, 80, \"2021-07-01\"], [2021, 10, \"Singapura\", 766, 282, \"2021-10-01\"], [2021, 2, \"Jap\\u00e3o\", 752, 325, \"2021-02-01\"], [2021, 9, \"Chipre\", 740, 208, \"2021-09-01\"], [2021, 3, \"Chipre\", 721, 475, \"2021-03-01\"], [2021, 1, \"Gr\\u00e9cia\", 714, 267, \"2021-01-01\"], [2021, 5, \"Malta\", 699, 278, \"2021-05-01\"], [2021, 11, \"Noruega\", 690, 56, \"2021-11-01\"], [2021, 11, \"Gr\\u00e9cia\", 684, 210, \"2021-11-01\"], [2021, 10, \"Noruega\", 680, 63, \"2021-10-01\"], [2021, 1, \"Chipre\", 674, 167, \"2021-01-01\"], [2021, 3, \"Emirados \\u00c1rabes Unidos\", 660, 135, \"2021-03-01\"], [2021, 2, \"Guiana\", 654, 282, \"2021-02-01\"], [2021, 7, \"Pa\\u00edses Baixos (Holanda)\", 644, 253, \"2021-07-01\"], [2021, 1, \"Fran\\u00e7a\", 635, 92, \"2021-01-01\"], [2021, 11, \"Dominica\", 634, 460, \"2021-11-01\"], [2021, 6, \"Malta\", 627, 223, \"2021-06-01\"], [2021, 8, \"Bahamas\", 600, 249, \"2021-08-01\"], [2021, 7, \"China\", 586, 170, \"2021-07-01\"], [2021, 3, \"Hungria\", 583, 87, \"2021-03-01\"], [2021, 9, \"Noruega\", 581, 155, \"2021-09-01\"], [2021, 9, \"Pa\\u00edses Baixos (Holanda)\", 565, 217, \"2021-09-01\"], [2021, 9, \"Guiana\", 549, 173, \"2021-09-01\"], [2021, 2, \"Malta\", 530, 169, \"2021-02-01\"], [2021, 8, \"China\", 521, 167, \"2021-08-01\"], [2021, 1, \"Guiana\", 517, 255, \"2021-01-01\"], [2021, 4, \"Malta\", 515, 140, \"2021-04-01\"], [2021, 1, \"Reino Unido\", 506, 52, \"2021-01-01\"], [2021, 9, \"Bahamas\", 479, 122, \"2021-09-01\"], [2021, 3, \"Nova Zel\\u00e2ndia\", 469, 117, \"2021-03-01\"], [2021, 12, \"Malta\", 462, 238, \"2021-12-01\"], [2021, 12, \"Gr\\u00e9cia\", 446, 78, \"2021-12-01\"], [2021, 1, \"Alemanha\", 427, 227, \"2021-01-01\"], [2021, 6, \"Dinamarca\", 425, 59, \"2021-06-01\"], [2021, 5, \"Chipre\", 417, 230, \"2021-05-01\"], [2021, 12, \"Chipre\", 417, 142, \"2021-12-01\"], [2021, 5, \"Ant\\u00edgua e Barbuda\", 416, 88, \"2021-05-01\"], [2021, 5, \"Singapura\", 415, 402, \"2021-05-01\"], [2021, 9, \"Tail\\u00e2ndia\", 393, 77, \"2021-09-01\"], [2021, 2, \"Chipre\", 387, 256, \"2021-02-01\"], [2021, 7, \"Cura\\u00e7ao\", 382, 39, \"2021-07-01\"], [2021, 8, \"Alemanha\", 364, 50, \"2021-08-01\"], [2021, 3, \"Fran\\u00e7a\", 363, 62, \"2021-03-01\"], [2007, 4, \"Estados Unidos\", 81402, 58692, \"2007-04-01\"], [2007, 2, \"Estados Unidos\", 78294, 53518, \"2007-02-01\"], [2007, 11, \"Estados Unidos\", 78123, 35949, \"2007-11-01\"], [2007, 7, \"Su\\u00ed\\u00e7a\", 70716, 26090, \"2007-07-01\"], [2007, 7, \"Chile\", 67353, 60930, \"2007-07-01\"], [2007, 12, \"Portugal\", 66282, 59574, \"2007-12-01\"], [2007, 12, \"Jap\\u00e3o\", 53247, 52238, \"2007-12-01\"], [2007, 4, \"Alemanha\", 53213, 24200, \"2007-04-01\"], [2007, 7, \"R\\u00fassia\", 53040, 81600, \"2007-07-01\"], [2007, 11, \"Reino Unido\", 52569, 34580, \"2007-11-01\"], [2007, 2, \"Tcheca, Rep\\u00fablica\", 51132, 32078, \"2007-02-01\"], [2007, 6, \"Tcheca, Rep\\u00fablica\", 50481, 11976, \"2007-06-01\"], [2007, 8, \"Jap\\u00e3o\", 49559, 43875, \"2007-08-01\"], [2007, 12, \"Est\\u00f4nia\", 49140, 75600, \"2007-12-01\"], [2007, 3, \"Paraguai\", 48498, 93411, \"2007-03-01\"], [2007, 9, \"Estados Unidos\", 47600, 32600, \"2007-09-01\"], [2007, 3, \"Estados Unidos\", 44757, 31350, \"2007-03-01\"], [2007, 10, \"Reino Unido\", 44695, 17414, \"2007-10-01\"], [2007, 9, \"Jap\\u00e3o\", 42426, 32458, \"2007-09-01\"], [2007, 9, \"Alemanha\", 41598, 30078, \"2007-09-01\"], [2007, 4, \"Paraguai\", 40920, 63687, \"2007-04-01\"], [2007, 8, \"Portugal\", 39600, 19800, \"2007-08-01\"], [2007, 9, \"Portugal\", 39600, 19800, \"2007-09-01\"], [2007, 1, \"Jap\\u00e3o\", 39246, 64197, \"2007-01-01\"], [2007, 1, \"Estados Unidos\", 38199, 26061, \"2007-01-01\"], [2007, 9, \"Reino Unido\", 37352, 29948, \"2007-09-01\"], [2007, 9, \"Paraguai\", 34052, 36880, \"2007-09-01\"], [2007, 10, \"Paraguai\", 33420, 39432, \"2007-10-01\"], [2007, 5, \"Angola\", 33264, 17741, \"2007-05-01\"], [2007, 2, \"Jap\\u00e3o\", 32550, 42000, \"2007-02-01\"], [2007, 10, \"Tcheca, Rep\\u00fablica\", 32417, 8669, \"2007-10-01\"], [2007, 8, \"Paraguai\", 31454, 41490, \"2007-08-01\"], [2007, 12, \"China\", 30240, 7560, \"2007-12-01\"], [2007, 4, \"Jap\\u00e3o\", 29789, 35700, \"2007-04-01\"], [2007, 9, \"Pa\\u00edses Baixos (Holanda)\", 29260, 25256, \"2007-09-01\"], [2007, 7, \"Venezuela\", 27370, 20700, \"2007-07-01\"], [2007, 10, \"Alemanha\", 27249, 10438, \"2007-10-01\"], [2007, 7, \"Estados Unidos\", 26964, 16278, \"2007-07-01\"], [2007, 6, \"R\\u00fassia\", 26520, 40800, \"2007-06-01\"], [2007, 2, \"Paraguai\", 23827, 42032, \"2007-02-01\"], [2007, 3, \"Jap\\u00e3o\", 23730, 42000, \"2007-03-01\"], [2007, 10, \"Jap\\u00e3o\", 21306, 22000, \"2007-10-01\"], [2007, 12, \"Tcheca, Rep\\u00fablica\", 20251, 4930, \"2007-12-01\"], [2007, 6, \"Jap\\u00e3o\", 20079, 22000, \"2007-06-01\"], [2007, 3, \"Tcheca, Rep\\u00fablica\", 19920, 24000, \"2007-03-01\"], [2007, 7, \"Portugal\", 19800, 9900, \"2007-07-01\"], [2007, 11, \"It\\u00e1lia\", 19800, 7200, \"2007-11-01\"], [2007, 1, \"Paraguai\", 19418, 36702, \"2007-01-01\"], [2007, 2, \"Alemanha\", 17458, 7345, \"2007-02-01\"], [2007, 11, \"M\\u00e9xico\", 15425, 2453, \"2007-11-01\"], [2007, 8, \"Tcheca, Rep\\u00fablica\", 15419, 3650, \"2007-08-01\"], [2007, 12, \"Estados Unidos\", 14421, 8595, \"2007-12-01\"], [2007, 6, \"Qu\\u00eania\", 13860, 10600, \"2007-06-01\"], [2007, 4, \"Pa\\u00edses Baixos (Holanda)\", 13135, 3713, \"2007-04-01\"], [2007, 7, \"Fran\\u00e7a\", 11220, 6338, \"2007-07-01\"], [2007, 8, \"Taiwan (Formosa)\", 11214, 6377, \"2007-08-01\"], [2007, 12, \"Angola\", 11108, 2744, \"2007-12-01\"], [2007, 11, \"Singapura\", 10540, 5071, \"2007-11-01\"], [2007, 12, \"Pa\\u00edses Baixos (Holanda)\", 10360, 8064, \"2007-12-01\"], [2007, 3, \"Noruega\", 10044, 10044, \"2007-03-01\"], [2007, 8, \"Reino Unido\", 9628, 2671, \"2007-08-01\"], [2007, 12, \"Canad\\u00e1\", 7000, 1800, \"2007-12-01\"], [2007, 10, \"Dinamarca\", 6997, 2325, \"2007-10-01\"], [2007, 5, \"Alemanha\", 6700, 1272, \"2007-05-01\"], [2007, 2, \"Canad\\u00e1\", 5919, 1186, \"2007-02-01\"], [2007, 1, \"Canad\\u00e1\", 5919, 1186, \"2007-01-01\"], [2007, 9, \"Antilhas Holandesas\", 5550, 5214, \"2007-09-01\"], [2007, 5, \"Estados Unidos\", 5481, 1941, \"2007-05-01\"], [2007, 7, \"Antilhas Holandesas\", 5319, 5187, \"2007-07-01\"], [2007, 7, \"Alemanha\", 5266, 1817, \"2007-07-01\"], [2007, 5, \"Jap\\u00e3o\", 4935, 1475, \"2007-05-01\"], [2007, 4, \"Est\\u00f4nia\", 4916, 2097, \"2007-04-01\"], [2007, 3, \"Cuba\", 4788, 2352, \"2007-03-01\"], [2007, 12, \"Coreia do Sul\", 4650, 1012, \"2007-12-01\"], [2007, 3, \"Dinamarca\", 4179, 1155, \"2007-03-01\"], [2007, 11, \"Angola\", 3920, 2513, \"2007-11-01\"], [2007, 7, \"Singapura\", 3810, 893, \"2007-07-01\"], [2007, 2, \"B\\u00e9lgica\", 3751, 1077, \"2007-02-01\"], [2007, 10, \"Equador\", 3585, 2700, \"2007-10-01\"], [2007, 10, \"Antilhas Holandesas\", 3554, 2664, \"2007-10-01\"], [2007, 1, \"Bol\\u00edvia\", 3550, 4985, \"2007-01-01\"], [2007, 10, \"Singapura\", 3514, 1306, \"2007-10-01\"], [2007, 8, \"Suriname\", 3003, 1700, \"2007-08-01\"], [2007, 9, \"Su\\u00e9cia\", 2448, 919, \"2007-09-01\"], [2007, 8, \"Rep\\u00fablica Dominicana\", 2430, 581, \"2007-08-01\"], [2007, 2, \"Antilhas Holandesas\", 2338, 2640, \"2007-02-01\"], [2007, 9, \"Luxemburgo\", 2033, 785, \"2007-09-01\"], [2007, 10, \"Tail\\u00e2ndia\", 2020, 839, \"2007-10-01\"], [2007, 3, \"Suriname\", 1600, 1000, \"2007-03-01\"], [2007, 1, \"Angola\", 1399, 2925, \"2007-01-01\"], [2007, 3, \"Antilhas Holandesas\", 1188, 1320, \"2007-03-01\"], [2007, 3, \"Panam\\u00e1\", 770, 630, \"2007-03-01\"], [2007, 8, \"Cuba\", 330, 317, \"2007-08-01\"], [2007, 10, \"Austr\\u00e1lia\", 281, 60, \"2007-10-01\"], [2007, 11, \"Panam\\u00e1\", 260, 180, \"2007-11-01\"], [2007, 9, \"China\", 150, 78, \"2007-09-01\"], [2007, 6, \"Angola\", 62, 8, \"2007-06-01\"], [2007, 1, \"It\\u00e1lia\", 60, 9, \"2007-01-01\"], [2007, 5, \"Togo\", 11, 11, \"2007-05-01\"], [2007, 3, \"Fran\\u00e7a\", 11, 11, \"2007-03-01\"], [2007, 3, \"Rep\\u00fablica Dominicana\", 8, 20, \"2007-03-01\"], [2006, 9, \"Paraguai\", 163054, 329450, \"2006-09-01\"], [2006, 3, \"Paraguai\", 123583, 341456, \"2006-03-01\"], [2006, 3, \"Estados Unidos\", 123140, 75261, \"2006-03-01\"], [2006, 5, \"Su\\u00ed\\u00e7a\", 92316, 35965, \"2006-05-01\"], [2006, 12, \"Paraguai\", 90561, 159732, \"2006-12-01\"], [2006, 10, \"Paraguai\", 85222, 186472, \"2006-10-01\"], [2006, 8, \"Su\\u00ed\\u00e7a\", 83580, 35580, \"2006-08-01\"], [2006, 10, \"Su\\u00ed\\u00e7a\", 77070, 35380, \"2006-10-01\"], [2006, 10, \"R\\u00fassia\", 74880, 115200, \"2006-10-01\"], [2006, 4, \"Paraguai\", 72143, 169926, \"2006-04-01\"], [2006, 11, \"Jap\\u00e3o\", 66152, 106141, \"2006-11-01\"], [2006, 11, \"Estados Unidos\", 65473, 40685, \"2006-11-01\"], [2006, 9, \"Jap\\u00e3o\", 64956, 113075, \"2006-09-01\"], [2006, 8, \"Paraguai\", 61989, 123205, \"2006-08-01\"], [2006, 5, \"Estados Unidos\", 59319, 34696, \"2006-05-01\"], [2006, 3, \"R\\u00fassia\", 59120, 181200, \"2006-03-01\"], [2006, 4, \"Estados Unidos\", 58133, 29012, \"2006-04-01\"], [2006, 11, \"Paraguai\", 57885, 122037, \"2006-11-01\"], [2006, 6, \"Estados Unidos\", 56914, 38517, \"2006-06-01\"], [2006, 10, \"Estados Unidos\", 54466, 39455, \"2006-10-01\"], [2006, 6, \"Paraguai\", 53959, 118234, \"2006-06-01\"], [2006, 12, \"Su\\u00ed\\u00e7a\", 51425, 23908, \"2006-12-01\"], [2006, 3, \"Alemanha\", 50702, 22680, \"2006-03-01\"], [2006, 1, \"Paraguai\", 50698, 127889, \"2006-01-01\"], [2006, 8, \"Estados Unidos\", 47545, 34394, \"2006-08-01\"], [2006, 7, \"Paraguai\", 45799, 107398, \"2006-07-01\"], [2006, 2, \"Paraguai\", 44716, 124279, \"2006-02-01\"], [2006, 12, \"Estados Unidos\", 41664, 27559, \"2006-12-01\"], [2006, 5, \"B\\u00e9lgica\", 39599, 38839, \"2006-05-01\"], [2006, 8, \"Reino Unido\", 34270, 13870, \"2006-08-01\"], [2006, 7, \"Estados Unidos\", 34169, 33790, \"2006-07-01\"], [2006, 4, \"R\\u00fassia\", 30744, 37800, \"2006-04-01\"], [2006, 11, \"Tcheca, Rep\\u00fablica\", 27680, 6113, \"2006-11-01\"], [2006, 5, \"Paraguai\", 24027, 37028, \"2006-05-01\"], [2006, 5, \"Tcheca, Rep\\u00fablica\", 22075, 4544, \"2006-05-01\"], [2006, 2, \"Estados Unidos\", 21873, 16287, \"2006-02-01\"], [2006, 5, \"Jap\\u00e3o\", 21178, 15415, \"2006-05-01\"], [2006, 12, \"Jap\\u00e3o\", 20575, 22750, \"2006-12-01\"], [2006, 10, \"Tcheca, Rep\\u00fablica\", 20166, 4717, \"2006-10-01\"], [2006, 10, \"Jap\\u00e3o\", 19833, 21640, \"2006-10-01\"], [2006, 9, \"Fran\\u00e7a\", 19180, 9450, \"2006-09-01\"], [2006, 8, \"Tcheca, Rep\\u00fablica\", 18920, 6322, \"2006-08-01\"], [2006, 9, \"Estados Unidos\", 18918, 16308, \"2006-09-01\"], [2006, 9, \"Alemanha\", 17120, 10264, \"2006-09-01\"], [2006, 3, \"Tcheca, Rep\\u00fablica\", 16735, 2554, \"2006-03-01\"], [2006, 6, \"Jap\\u00e3o\", 15702, 15300, \"2006-06-01\"], [2006, 2, \"Fran\\u00e7a\", 15658, 7560, \"2006-02-01\"], [2006, 8, \"Jap\\u00e3o\", 15445, 21960, \"2006-08-01\"], [2006, 4, \"Qu\\u00eania\", 15069, 10600, \"2006-04-01\"], [2006, 2, \"Reino Unido\", 14904, 24193, \"2006-02-01\"], [2006, 10, \"Angola\", 13932, 3226, \"2006-10-01\"], [2006, 4, \"Portugal\", 13200, 17732, \"2006-04-01\"], [2006, 4, \"B\\u00e9lgica\", 13200, 17732, \"2006-04-01\"], [2006, 11, \"Alemanha\", 12521, 2502, \"2006-11-01\"], [2006, 3, \"Benin\", 12075, 10350, \"2006-03-01\"], [2006, 4, \"Su\\u00e9cia\", 12000, 16120, \"2006-04-01\"], [2006, 2, \"Jap\\u00e3o\", 10860, 7875, \"2006-02-01\"], [2006, 1, \"Estados Unidos\", 10115, 6626, \"2006-01-01\"], [2006, 8, \"Finl\\u00e2ndia\", 7920, 11088, \"2006-08-01\"], [2006, 9, \"Antilhas Holandesas\", 7788, 4635, \"2006-09-01\"], [2006, 12, \"Antilhas Holandesas\", 7130, 5427, \"2006-12-01\"], [2006, 7, \"Bol\\u00edvia\", 6961, 5822, \"2006-07-01\"], [2006, 5, \"Alemanha\", 6802, 2296, \"2006-05-01\"], [2006, 6, \"Dinamarca\", 6349, 2247, \"2006-06-01\"], [2006, 12, \"Alemanha\", 6070, 546, \"2006-12-01\"], [2006, 4, \"Jap\\u00e3o\", 5633, 875, \"2006-04-01\"], [2006, 9, \"It\\u00e1lia\", 5423, 2709, \"2006-09-01\"], [2006, 5, \"Luxemburgo\", 5354, 1220, \"2006-05-01\"], [2006, 11, \"Angola\", 4361, 540, \"2006-11-01\"], [2006, 8, \"Antilhas Holandesas\", 3742, 3654, \"2006-08-01\"], [2006, 10, \"Est\\u00f4nia\", 3013, 1304, \"2006-10-01\"], [2006, 9, \"Chile\", 2893, 1988, \"2006-09-01\"], [2006, 6, \"Antilhas Holandesas\", 2825, 2208, \"2006-06-01\"], [2006, 8, \"Suriname\", 2325, 1000, \"2006-08-01\"], [2006, 10, \"Vietn\\u00e3\", 2250, 1956, \"2006-10-01\"], [2006, 6, \"Canad\\u00e1\", 2202, 450, \"2006-06-01\"], [2006, 1, \"Dinamarca\", 2068, 558, \"2006-01-01\"], [2006, 1, \"Pa\\u00edses Baixos (Holanda)\", 1898, 451, \"2006-01-01\"], [2006, 8, \"Uruguai\", 1685, 1008, \"2006-08-01\"], [2006, 4, \"Est\\u00f4nia\", 1568, 670, \"2006-04-01\"], [2006, 3, \"Gr\\u00e9cia\", 1535, 142, \"2006-03-01\"], [2006, 3, \"Antilhas Holandesas\", 1467, 1596, \"2006-03-01\"], [2006, 1, \"Antilhas Holandesas\", 1467, 1596, \"2006-01-01\"], [2006, 5, \"Emirados \\u00c1rabes Unidos\", 1446, 363, \"2006-05-01\"], [2006, 7, \"Alemanha\", 1063, 200, \"2006-07-01\"], [2006, 4, \"Su\\u00ed\\u00e7a\", 740, 240, \"2006-04-01\"], [2006, 9, \"Bulg\\u00e1ria\", 712, 82, \"2006-09-01\"], [2006, 11, \"Reino Unido\", 400, 105, \"2006-11-01\"], [2006, 3, \"Reino Unido\", 252, 113, \"2006-03-01\"], [2006, 1, \"Vietn\\u00e3\", 112, 57, \"2006-01-01\"], [2006, 9, \"Chipre\", 96, 134, \"2006-09-01\"], [2006, 12, \"Panam\\u00e1\", 55, 13, \"2006-12-01\"], [2006, 10, \"\\u00cdndia\", 33, 14, \"2006-10-01\"], [2006, 9, \"Togo\", 21, 24, \"2006-09-01\"], [2005, 12, \"Paraguai\", 153243, 372465, \"2005-12-01\"], [2005, 8, \"Estados Unidos\", 122737, 63454, \"2005-08-01\"], [2005, 8, \"Paraguai\", 122076, 346136, \"2005-08-01\"], [2005, 11, \"Paraguai\", 86495, 243272, \"2005-11-01\"], [2005, 6, \"Estados Unidos\", 82547, 53528, \"2005-06-01\"], [2005, 7, \"Jap\\u00e3o\", 78841, 183810, \"2005-07-01\"], [2005, 3, \"Fran\\u00e7a\", 69445, 26686, \"2005-03-01\"], [2005, 11, \"Estados Unidos\", 68789, 50435, \"2005-11-01\"], [2005, 5, \"Paraguai\", 67294, 185901, \"2005-05-01\"], [2005, 7, \"Paraguai\", 66812, 191190, \"2005-07-01\"], [2005, 5, \"Fran\\u00e7a\", 59246, 25709, \"2005-05-01\"], [2005, 4, \"Estados Unidos\", 53274, 26792, \"2005-04-01\"], [2005, 9, \"Estados Unidos\", 52808, 21112, \"2005-09-01\"], [2005, 4, \"Fran\\u00e7a\", 49735, 20131, \"2005-04-01\"], [2005, 10, \"Estados Unidos\", 49615, 23099, \"2005-10-01\"], [2005, 2, \"Estados Unidos\", 49154, 29133, \"2005-02-01\"], [2005, 6, \"Paraguai\", 47392, 139000, \"2005-06-01\"], [2005, 11, \"Jap\\u00e3o\", 47203, 96331, \"2005-11-01\"], [2005, 4, \"Paraguai\", 46044, 151780, \"2005-04-01\"], [2005, 7, \"Bol\\u00edvia\", 45467, 100184, \"2005-07-01\"], [2005, 4, \"Alemanha\", 45101, 21269, \"2005-04-01\"], [2005, 12, \"Bol\\u00edvia\", 42944, 95887, \"2005-12-01\"], [2005, 9, \"R\\u00fassia\", 40000, 96000, \"2005-09-01\"], [2005, 9, \"Paraguai\", 39008, 102465, \"2005-09-01\"], [2005, 5, \"Estados Unidos\", 36677, 18837, \"2005-05-01\"], [2005, 7, \"Alemanha\", 35315, 19425, \"2005-07-01\"], [2005, 11, \"Bol\\u00edvia\", 33108, 71147, \"2005-11-01\"], [2005, 3, \"Paraguai\", 32839, 115880, \"2005-03-01\"], [2005, 2, \"Qu\\u00eania\", 31314, 7661, \"2005-02-01\"], [2005, 10, \"Paraguai\", 30673, 53986, \"2005-10-01\"], [2005, 12, \"Estados Unidos\", 30177, 24306, \"2005-12-01\"], [2005, 11, \"Tcheca, Rep\\u00fablica\", 29975, 5983, \"2005-11-01\"], [2005, 3, \"Jap\\u00e3o\", 29876, 64058, \"2005-03-01\"], [2005, 12, \"B\\u00e9lgica\", 28743, 6750, \"2005-12-01\"], [2005, 11, \"Portugal\", 28733, 17741, \"2005-11-01\"], [2005, 7, \"Fran\\u00e7a\", 28664, 4380, \"2005-07-01\"], [2005, 4, \"It\\u00e1lia\", 28456, 18555, \"2005-04-01\"], [2005, 8, \"Tcheca, Rep\\u00fablica\", 27801, 5694, \"2005-08-01\"], [2005, 11, \"It\\u00e1lia\", 27205, 18776, \"2005-11-01\"], [2005, 7, \"Su\\u00ed\\u00e7a\", 27084, 16020, \"2005-07-01\"], [2005, 4, \"Luxemburgo\", 23842, 5850, \"2005-04-01\"], [2005, 6, \"Fran\\u00e7a\", 23828, 10806, \"2005-06-01\"], [2005, 8, \"It\\u00e1lia\", 23736, 17622, \"2005-08-01\"], [2005, 7, \"Estados Unidos\", 22946, 13343, \"2005-07-01\"], [2005, 12, \"Guiana\", 22413, 23828, \"2005-12-01\"], [2005, 1, \"Pa\\u00edses Baixos (Holanda)\", 22385, 17688, \"2005-01-01\"], [2005, 1, \"Alemanha\", 21960, 16080, \"2005-01-01\"], [2005, 8, \"Su\\u00ed\\u00e7a\", 21448, 6197, \"2005-08-01\"], [2005, 8, \"Jap\\u00e3o\", 21246, 49864, \"2005-08-01\"], [2005, 10, \"Reino Unido\", 20871, 5625, \"2005-10-01\"], [2005, 1, \"Estados Unidos\", 19967, 14733, \"2005-01-01\"], [2005, 4, \"Noruega\", 19320, 13608, \"2005-04-01\"], [2005, 9, \"Bol\\u00edvia\", 19151, 31172, \"2005-09-01\"], [2005, 12, \"Tcheca, Rep\\u00fablica\", 18720, 24000, \"2005-12-01\"], [2005, 4, \"Dinamarca\", 17500, 25000, \"2005-04-01\"], [2005, 6, \"Guiana\", 17466, 14485, \"2005-06-01\"], [2005, 2, \"Paraguai\", 16980, 48510, \"2005-02-01\"], [2005, 5, \"Tcheca, Rep\\u00fablica\", 16750, 19900, \"2005-05-01\"], [2005, 3, \"Guiana\", 16734, 20165, \"2005-03-01\"], [2005, 7, \"Guiana\", 16636, 18700, \"2005-07-01\"], [2005, 10, \"Jap\\u00e3o\", 16508, 33675, \"2005-10-01\"], [2005, 12, \"Jap\\u00e3o\", 16316, 47988, \"2005-12-01\"], [2005, 10, \"R\\u00fassia\", 15994, 40800, \"2005-10-01\"], [2005, 7, \"R\\u00fassia\", 15994, 40800, \"2005-07-01\"], [2005, 10, \"Tcheca, Rep\\u00fablica\", 15721, 4334, \"2005-10-01\"], [2005, 9, \"Jap\\u00e3o\", 15389, 48085, \"2005-09-01\"], [2005, 9, \"Guiana\", 13854, 19748, \"2005-09-01\"], [2005, 4, \"Jap\\u00e3o\", 13334, 25765, \"2005-04-01\"], [2005, 4, \"Guiana\", 13218, 17925, \"2005-04-01\"], [2005, 11, \"Guiana\", 13101, 9720, \"2005-11-01\"], [2005, 4, \"Tcheca, Rep\\u00fablica\", 12200, 3274, \"2005-04-01\"], [2005, 10, \"Bol\\u00edvia\", 12154, 14755, \"2005-10-01\"], [2005, 9, \"Angola\", 12117, 4129, \"2005-09-01\"], [2005, 12, \"Noruega\", 12096, 4298, \"2005-12-01\"], [2005, 5, \"Dinamarca\", 11905, 4172, \"2005-05-01\"], [2005, 10, \"Finl\\u00e2ndia\", 11748, 5940, \"2005-10-01\"], [2005, 5, \"Jap\\u00e3o\", 11219, 11835, \"2005-05-01\"], [2005, 11, \"Guin\\u00e9-Bissau\", 11182, 13000, \"2005-11-01\"], [2005, 2, \"Noruega\", 10854, 4455, \"2005-02-01\"], [2005, 4, \"Finl\\u00e2ndia\", 10769, 5445, \"2005-04-01\"], [2005, 6, \"Finl\\u00e2ndia\", 10769, 5445, \"2005-06-01\"], [2005, 8, \"Bol\\u00edvia\", 10314, 21956, \"2005-08-01\"], [2005, 5, \"Angola\", 10193, 10870, \"2005-05-01\"], [2005, 5, \"Pol\\u00f4nia\", 10184, 9909, \"2005-05-01\"], [2005, 5, \"Guiana\", 10039, 8816, \"2005-05-01\"], [2005, 12, \"Fran\\u00e7a\", 9660, 3496, \"2005-12-01\"], [2005, 6, \"Angola\", 9177, 9598, \"2005-06-01\"], [2005, 3, \"Tcheca, Rep\\u00fablica\", 7989, 2022, \"2005-03-01\"], [2005, 10, \"Guiana\", 6265, 7950, \"2005-10-01\"], [2005, 1, \"Paraguai\", 6260, 17400, \"2005-01-01\"], [2005, 11, \"Alemanha\", 5945, 1515, \"2005-11-01\"], [2005, 5, \"Alemanha\", 5824, 1296, \"2005-05-01\"], [2005, 2, \"Bol\\u00edvia\", 5606, 10510, \"2005-02-01\"], [2005, 3, \"Bol\\u00edvia\", 5534, 14406, \"2005-03-01\"], [2005, 1, \"Bol\\u00edvia\", 4971, 10148, \"2005-01-01\"], [2005, 1, \"Guiana\", 4963, 4380, \"2005-01-01\"], [2005, 7, \"Taiwan (Formosa)\", 4840, 925, \"2005-07-01\"], [2005, 5, \"Bol\\u00edvia\", 3857, 8567, \"2005-05-01\"], [2005, 12, \"Antilhas Holandesas\", 3439, 1471, \"2005-12-01\"], [2005, 2, \"Guiana\", 3318, 4159, \"2005-02-01\"], [2005, 4, \"Bol\\u00edvia\", 3149, 8425, \"2005-04-01\"], [2005, 6, \"Bol\\u00edvia\", 3050, 7629, \"2005-06-01\"], [2005, 2, \"Reino Unido\", 2856, 252, \"2005-02-01\"], [2005, 12, \"Reino Unido\", 2718, 297, \"2005-12-01\"], [2005, 9, \"Nig\\u00e9ria\", 2600, 2025, \"2005-09-01\"], [2005, 10, \"Angola\", 1942, 332, \"2005-10-01\"], [2005, 7, \"Chile\", 1377, 435, \"2005-07-01\"], [2005, 2, \"Panam\\u00e1\", 1213, 1125, \"2005-02-01\"], [2005, 11, \"Rep\\u00fablica Dominicana\", 1188, 50, \"2005-11-01\"], [2005, 8, \"Guiana\", 1127, 1500, \"2005-08-01\"], [2005, 4, \"Antilhas Holandesas\", 1123, 1122, \"2005-04-01\"], [2005, 10, \"Argentina\", 958, 441, \"2005-10-01\"], [2005, 10, \"Antilhas Holandesas\", 937, 926, \"2005-10-01\"], [2005, 11, \"Canad\\u00e1\", 801, 117, \"2005-11-01\"], [2005, 6, \"Tcheca, Rep\\u00fablica\", 799, 181, \"2005-06-01\"], [2005, 11, \"Fran\\u00e7a\", 769, 174, \"2005-11-01\"], [2005, 9, \"Antilhas Holandesas\", 707, 740, \"2005-09-01\"], [2005, 6, \"Alemanha\", 654, 172, \"2005-06-01\"], [2005, 2, \"It\\u00e1lia\", 576, 124, \"2005-02-01\"], [2005, 4, \"Gana\", 525, 95, \"2005-04-01\"], [2005, 7, \"Col\\u00f4mbia\", 463, 312, \"2005-07-01\"], [2005, 1, \"B\\u00e9lgica\", 388, 105, \"2005-01-01\"], [2005, 5, \"Argentina\", 336, 93, \"2005-05-01\"], [2005, 3, \"Angola\", 320, 246, \"2005-03-01\"], [2005, 1, \"Angola\", 306, 153, \"2005-01-01\"], [2005, 5, \"Su\\u00ed\\u00e7a\", 134, 62, \"2005-05-01\"], [2005, 6, \"Austr\\u00e1lia\", 98, 9, \"2005-06-01\"], [2005, 9, \"Canad\\u00e1\", 48, 37, \"2005-09-01\"], [2005, 4, \"Trinidad e Tobago\", 30, 35, \"2005-04-01\"], [2005, 11, \"Trinidad e Tobago\", 30, 19, \"2005-11-01\"], [2005, 1, \"Jap\\u00e3o\", 30, 10, \"2005-01-01\"], [2005, 2, \"Gana\", 12, 30, \"2005-02-01\"], [2005, 7, \"Argentina\", 8, 5, \"2005-07-01\"], [2005, 11, \"Pa\\u00edses Baixos (Holanda)\", 6, 5, \"2005-11-01\"], [2005, 11, \"B\\u00e9lgica\", 6, 5, \"2005-11-01\"], [2005, 11, \"Luxemburgo\", 6, 5, \"2005-11-01\"], [2004, 5, \"Paraguai\", 146134, 400005, \"2004-05-01\"], [2004, 11, \"Paraguai\", 105433, 268649, \"2004-11-01\"], [2004, 6, \"Paraguai\", 91707, 265709, \"2004-06-01\"], [2004, 12, \"Paraguai\", 89171, 220016, \"2004-12-01\"], [2004, 2, \"Paraguai\", 79995, 258039, \"2004-02-01\"], [2004, 11, \"Estados Unidos\", 72906, 26072, \"2004-11-01\"], [2004, 8, \"Jap\\u00e3o\", 64576, 95828, \"2004-08-01\"], [2004, 10, \"Tcheca, Rep\\u00fablica\", 53674, 8483, \"2004-10-01\"], [2004, 8, \"Estados Unidos\", 51110, 24192, \"2004-08-01\"], [2004, 3, \"Paraguai\", 47378, 139083, \"2004-03-01\"], [2004, 7, \"Paraguai\", 45547, 126288, \"2004-07-01\"], [2004, 10, \"Paraguai\", 44547, 131644, \"2004-10-01\"], [2004, 8, \"Paraguai\", 42949, 106122, \"2004-08-01\"], [2004, 12, \"Estados Unidos\", 42319, 9970, \"2004-12-01\"], [2004, 2, \"Estados Unidos\", 36739, 9131, \"2004-02-01\"], [2004, 5, \"Estados Unidos\", 34713, 9194, \"2004-05-01\"], [2004, 3, \"Jap\\u00e3o\", 34077, 94659, \"2004-03-01\"], [2004, 4, \"Angola\", 32195, 14702, \"2004-04-01\"], [2004, 4, \"Paraguai\", 29944, 81207, \"2004-04-01\"], [2004, 9, \"Estados Unidos\", 29737, 12046, \"2004-09-01\"], [2004, 10, \"Pa\\u00edses Baixos (Holanda)\", 29556, 17688, \"2004-10-01\"], [2004, 9, \"Paraguai\", 27645, 82580, \"2004-09-01\"], [2004, 4, \"Jap\\u00e3o\", 23622, 49172, \"2004-04-01\"], [2004, 9, \"Portugal\", 21864, 16080, \"2004-09-01\"], [2004, 12, \"Jap\\u00e3o\", 20761, 32395, \"2004-12-01\"], [2004, 10, \"Angola\", 16387, 18165, \"2004-10-01\"], [2004, 1, \"Estados Unidos\", 15960, 6300, \"2004-01-01\"], [2004, 7, \"Alemanha\", 15813, 6389, \"2004-07-01\"], [2004, 11, \"Jap\\u00e3o\", 14803, 42295, \"2004-11-01\"], [2004, 10, \"Su\\u00e9cia\", 12880, 4995, \"2004-10-01\"], [2004, 6, \"Su\\u00ed\\u00e7a\", 12500, 3375, \"2004-06-01\"], [2004, 9, \"Jap\\u00e3o\", 12457, 8778, \"2004-09-01\"], [2004, 10, \"Jap\\u00e3o\", 12116, 25760, \"2004-10-01\"], [2004, 2, \"Jap\\u00e3o\", 11569, 25855, \"2004-02-01\"], [2004, 5, \"Jap\\u00e3o\", 11496, 25890, \"2004-05-01\"], [2004, 11, \"Luxemburgo\", 11280, 2894, \"2004-11-01\"], [2004, 7, \"Dinamarca\", 11088, 3780, \"2004-07-01\"], [2004, 6, \"Jap\\u00e3o\", 10805, 25850, \"2004-06-01\"], [2004, 7, \"Finl\\u00e2ndia\", 10769, 5445, \"2004-07-01\"], [2004, 4, \"Finl\\u00e2ndia\", 10769, 5445, \"2004-04-01\"], [2004, 10, \"Finl\\u00e2ndia\", 10769, 5445, \"2004-10-01\"], [2004, 1, \"Paraguai\", 10537, 29316, \"2004-01-01\"], [2004, 7, \"Bol\\u00edvia\", 9767, 16910, \"2004-07-01\"], [2004, 12, \"Alemanha\", 7268, 5670, \"2004-12-01\"], [2004, 6, \"Tcheca, Rep\\u00fablica\", 6563, 2077, \"2004-06-01\"], [2004, 12, \"Fran\\u00e7a\", 6156, 945, \"2004-12-01\"], [2004, 7, \"Estados Unidos\", 5564, 756, \"2004-07-01\"], [2004, 7, \"Luxemburgo\", 5524, 1414, \"2004-07-01\"], [2004, 4, \"Alemanha\", 4567, 1449, \"2004-04-01\"], [2004, 2, \"Su\\u00ed\\u00e7a\", 4038, 1333, \"2004-02-01\"], [2004, 10, \"Suriname\", 3345, 10726, \"2004-10-01\"], [2004, 10, \"Canad\\u00e1\", 3138, 675, \"2004-10-01\"], [2004, 2, \"Tcheca, Rep\\u00fablica\", 2877, 779, \"2004-02-01\"], [2004, 4, \"Estados Unidos\", 2451, 333, \"2004-04-01\"], [2004, 11, \"Suriname\", 2078, 1300, \"2004-11-01\"], [2004, 3, \"Estados Unidos\", 1987, 270, \"2004-03-01\"], [2004, 4, \"Tcheca, Rep\\u00fablica\", 1813, 516, \"2004-04-01\"], [2004, 5, \"Su\\u00ed\\u00e7a\", 1661, 480, \"2004-05-01\"], [2004, 5, \"Angola\", 1517, 4156, \"2004-05-01\"], [2004, 8, \"Fran\\u00e7a\", 1232, 504, \"2004-08-01\"], [2004, 11, \"It\\u00e1lia\", 1217, 420, \"2004-11-01\"], [2004, 9, \"China\", 1118, 404, \"2004-09-01\"], [2004, 12, \"Togo\", 1042, 1300, \"2004-12-01\"], [2004, 7, \"Gana\", 774, 162, \"2004-07-01\"], [2004, 3, \"Col\\u00f4mbia\", 595, 280, \"2004-03-01\"], [2004, 3, \"Alemanha\", 492, 81, \"2004-03-01\"], [2004, 10, \"Qu\\u00eania\", 431, 212, \"2004-10-01\"], [2004, 4, \"Fran\\u00e7a\", 398, 38, \"2004-04-01\"], [2004, 1, \"Panam\\u00e1\", 390, 360, \"2004-01-01\"], [2004, 11, \"Singapura\", 369, 31, \"2004-11-01\"], [2004, 3, \"Bol\\u00edvia\", 358, 598, \"2004-03-01\"], [2004, 3, \"Uruguai\", 341, 576, \"2004-03-01\"], [2004, 12, \"Angola\", 283, 550, \"2004-12-01\"], [2004, 6, \"Bol\\u00edvia\", 270, 553, \"2004-06-01\"], [2004, 1, \"Bol\\u00edvia\", 260, 475, \"2004-01-01\"], [2004, 12, \"Uruguai\", 167, 270, \"2004-12-01\"], [2004, 7, \"Uruguai\", 156, 270, \"2004-07-01\"], [2004, 6, \"Uruguai\", 102, 180, \"2004-06-01\"], [2004, 10, \"Estados Unidos\", 5, 1, \"2004-10-01\"], [2004, 9, \"Fran\\u00e7a\", 2, 10, \"2004-09-01\"], [2003, 11, \"Paraguai\", 88912, 251423, \"2003-11-01\"], [2003, 10, \"Paraguai\", 76442, 204786, \"2003-10-01\"], [2003, 12, \"Paraguai\", 61181, 196121, \"2003-12-01\"], [2003, 6, \"Paraguai\", 51239, 130675, \"2003-06-01\"], [2003, 12, \"Estados Unidos\", 39468, 14434, \"2003-12-01\"], [2003, 5, \"Paraguai\", 27562, 80676, \"2003-05-01\"], [2003, 8, \"Jap\\u00e3o\", 26210, 40409, \"2003-08-01\"], [2003, 7, \"Paraguai\", 25819, 61568, \"2003-07-01\"], [2003, 10, \"Su\\u00ed\\u00e7a\", 24508, 5844, \"2003-10-01\"], [2003, 4, \"Paraguai\", 18526, 54546, \"2003-04-01\"], [2003, 12, \"Jap\\u00e3o\", 18110, 20540, \"2003-12-01\"], [2003, 11, \"Estados Unidos\", 17014, 5415, \"2003-11-01\"], [2003, 9, \"Estados Unidos\", 15753, 5572, \"2003-09-01\"], [2003, 2, \"Jap\\u00e3o\", 14262, 31555, \"2003-02-01\"], [2003, 9, \"Paraguai\", 14043, 44043, \"2003-09-01\"], [2003, 12, \"Tcheca, Rep\\u00fablica\", 13907, 2250, \"2003-12-01\"], [2003, 2, \"Paraguai\", 12961, 36366, \"2003-02-01\"], [2003, 3, \"Finl\\u00e2ndia\", 11534, 5832, \"2003-03-01\"], [2003, 7, \"Finl\\u00e2ndia\", 11534, 5832, \"2003-07-01\"], [2003, 10, \"Finl\\u00e2ndia\", 11534, 5832, \"2003-10-01\"], [2003, 11, \"Angola\", 11157, 19436, \"2003-11-01\"], [2003, 4, \"Jap\\u00e3o\", 11030, 25834, \"2003-04-01\"], [2003, 9, \"Jap\\u00e3o\", 10935, 23920, \"2003-09-01\"], [2003, 8, \"Paraguai\", 10586, 30632, \"2003-08-01\"], [2003, 8, \"Tcheca, Rep\\u00fablica\", 10406, 2431, \"2003-08-01\"], [2003, 11, \"Tcheca, Rep\\u00fablica\", 7478, 2689, \"2003-11-01\"], [2003, 3, \"Jap\\u00e3o\", 6739, 23770, \"2003-03-01\"], [2003, 3, \"Paraguai\", 5684, 19682, \"2003-03-01\"], [2003, 1, \"Uruguai\", 4701, 12250, \"2003-01-01\"], [2003, 1, \"Paraguai\", 4516, 11154, \"2003-01-01\"], [2003, 2, \"Su\\u00ed\\u00e7a\", 3575, 1400, \"2003-02-01\"], [2003, 9, \"Gana\", 1655, 270, \"2003-09-01\"], [2003, 8, \"Su\\u00ed\\u00e7a\", 1524, 370, \"2003-08-01\"], [2003, 12, \"Taiwan (Formosa)\", 300, 180, \"2003-12-01\"], [2003, 12, \"Angola\", 153, 320, \"2003-12-01\"], [2003, 5, \"Angola\", 71, 97, \"2003-05-01\"], [2003, 4, \"Angola\", 56, 84, \"2003-04-01\"], [2003, 1, \"Estados Unidos\", 54, 46, \"2003-01-01\"], [2003, 12, \"Costa Rica\", 21, 31, \"2003-12-01\"], [2003, 11, \"M\\u00e9xico\", 20, 20, \"2003-11-01\"], [2003, 11, \"Trinidad e Tobago\", 4, 10, \"2003-11-01\"], [2002, 1, \"Paraguai\", 193451, 418113, \"2002-01-01\"], [2002, 2, \"Paraguai\", 105133, 217397, \"2002-02-01\"], [2002, 3, \"Paraguai\", 83739, 171367, \"2002-03-01\"], [2002, 7, \"Paraguai\", 79232, 205798, \"2002-07-01\"], [2002, 9, \"Paraguai\", 73284, 200681, \"2002-09-01\"], [2002, 5, \"Paraguai\", 68671, 138963, \"2002-05-01\"], [2002, 11, \"Paraguai\", 68405, 213961, \"2002-11-01\"], [2002, 10, \"Paraguai\", 51089, 165952, \"2002-10-01\"], [2002, 4, \"Paraguai\", 49605, 97981, \"2002-04-01\"], [2002, 6, \"Paraguai\", 33497, 83707, \"2002-06-01\"], [2002, 8, \"Jap\\u00e3o\", 27300, 21000, \"2002-08-01\"], [2002, 2, \"Jap\\u00e3o\", 27065, 38180, \"2002-02-01\"], [2002, 12, \"Paraguai\", 22647, 64313, \"2002-12-01\"], [2002, 9, \"Jap\\u00e3o\", 19140, 16110, \"2002-09-01\"], [2002, 8, \"Fran\\u00e7a\", 17240, 9000, \"2002-08-01\"], [2002, 10, \"Estados Unidos\", 13990, 3500, \"2002-10-01\"], [2002, 1, \"Honduras\", 13470, 7918, \"2002-01-01\"], [2002, 8, \"Paraguai\", 12836, 35570, \"2002-08-01\"], [2002, 3, \"Finl\\u00e2ndia\", 11534, 5832, \"2002-03-01\"], [2002, 7, \"Finl\\u00e2ndia\", 11534, 5832, \"2002-07-01\"], [2002, 4, \"Finl\\u00e2ndia\", 11534, 5832, \"2002-04-01\"], [2002, 6, \"Finl\\u00e2ndia\", 11534, 5832, \"2002-06-01\"], [2002, 4, \"Jap\\u00e3o\", 10161, 23940, \"2002-04-01\"], [2002, 5, \"Jap\\u00e3o\", 9833, 9592, \"2002-05-01\"], [2002, 3, \"Jap\\u00e3o\", 9564, 2925, \"2002-03-01\"], [2002, 12, \"Jap\\u00e3o\", 6494, 23855, \"2002-12-01\"], [2002, 9, \"Estados Unidos\", 5649, 3200, \"2002-09-01\"], [2002, 1, \"Alemanha\", 4626, 1080, \"2002-01-01\"], [2002, 2, \"Bol\\u00edvia\", 4507, 1447, \"2002-02-01\"], [2002, 9, \"Uruguai\", 3620, 12580, \"2002-09-01\"], [2002, 10, \"Angola\", 3264, 8135, \"2002-10-01\"], [2002, 6, \"Uruguai\", 2420, 5890, \"2002-06-01\"], [2002, 11, \"B\\u00e9lgica\", 2100, 858, \"2002-11-01\"], [2002, 8, \"Uruguai\", 2016, 3970, \"2002-08-01\"], [2002, 4, \"Su\\u00ed\\u00e7a\", 1920, 800, \"2002-04-01\"], [2002, 7, \"Bol\\u00edvia\", 1808, 2760, \"2002-07-01\"], [2002, 1, \"B\\u00e9lgica\", 1800, 405, \"2002-01-01\"], [2002, 11, \"Angola\", 1734, 1583, \"2002-11-01\"], [2002, 10, \"Bol\\u00edvia\", 1332, 738, \"2002-10-01\"], [2002, 5, \"Peru\", 1008, 5050, \"2002-05-01\"], [2002, 3, \"Uruguai\", 601, 816, \"2002-03-01\"], [2002, 2, \"Uruguai\", 488, 696, \"2002-02-01\"], [2002, 11, \"Bahamas\", 480, 120, \"2002-11-01\"], [2002, 5, \"Bol\\u00edvia\", 392, 2600, \"2002-05-01\"], [2002, 7, \"Uruguai\", 367, 1500, \"2002-07-01\"], [2002, 4, \"Uruguai\", 294, 1550, \"2002-04-01\"], [2002, 4, \"Angola\", 292, 94, \"2002-04-01\"], [2002, 5, \"Uruguai\", 153, 264, \"2002-05-01\"], [2002, 1, \"Uruguai\", 49, 84, \"2002-01-01\"], [2002, 10, \"Panam\\u00e1\", 18, 364, \"2002-10-01\"], [2002, 12, \"Costa Rica\", 10, 100, \"2002-12-01\"], [2002, 11, \"Panam\\u00e1\", 4, 71, \"2002-11-01\"], [2002, 12, \"Chile\", 3, 31, \"2002-12-01\"], [2002, 12, \"Estados Unidos\", 2, 100, \"2002-12-01\"], [2001, 11, \"Paraguai\", 263113, 648296, \"2001-11-01\"], [2001, 3, \"Paraguai\", 239915, 531573, \"2001-03-01\"], [2001, 7, \"Paraguai\", 206725, 502416, \"2001-07-01\"], [2001, 10, \"Paraguai\", 201099, 484812, \"2001-10-01\"], [2001, 12, \"Paraguai\", 174041, 395658, \"2001-12-01\"], [2001, 1, \"Paraguai\", 168438, 341536, \"2001-01-01\"], [2001, 6, \"Paraguai\", 163293, 363583, \"2001-06-01\"], [2001, 5, \"Paraguai\", 156102, 362356, \"2001-05-01\"], [2001, 8, \"Paraguai\", 152332, 342824, \"2001-08-01\"], [2001, 4, \"Paraguai\", 136111, 297398, \"2001-04-01\"], [2001, 9, \"Paraguai\", 133285, 314262, \"2001-09-01\"], [2001, 2, \"Paraguai\", 111832, 214083, \"2001-02-01\"], [2001, 9, \"Bol\\u00edvia\", 50058, 160612, \"2001-09-01\"], [2001, 5, \"Jap\\u00e3o\", 39235, 83910, \"2001-05-01\"], [2001, 8, \"Jap\\u00e3o\", 36732, 44790, \"2001-08-01\"], [2001, 4, \"Jap\\u00e3o\", 35867, 40253, \"2001-04-01\"], [2001, 9, \"Jap\\u00e3o\", 29400, 60000, \"2001-09-01\"], [2001, 1, \"Jap\\u00e3o\", 28350, 21000, \"2001-01-01\"], [2001, 10, \"Jap\\u00e3o\", 23584, 39685, \"2001-10-01\"], [2001, 3, \"Jap\\u00e3o\", 23579, 36885, \"2001-03-01\"], [2001, 11, \"Finl\\u00e2ndia\", 20924, 7848, \"2001-11-01\"], [2001, 6, \"Bol\\u00edvia\", 19928, 60136, \"2001-06-01\"], [2001, 2, \"Bol\\u00edvia\", 15336, 47710, \"2001-02-01\"], [2001, 12, \"Angola\", 14712, 2958, \"2001-12-01\"], [2001, 11, \"Jap\\u00e3o\", 14700, 21000, \"2001-11-01\"], [2001, 8, \"Finl\\u00e2ndia\", 11534, 5832, \"2001-08-01\"], [2001, 2, \"Finl\\u00e2ndia\", 11534, 5832, \"2001-02-01\"], [2001, 4, \"Finl\\u00e2ndia\", 11534, 5832, \"2001-04-01\"], [2001, 6, \"Finl\\u00e2ndia\", 11534, 5832, \"2001-06-01\"], [2001, 5, \"Alemanha\", 11157, 1673, \"2001-05-01\"], [2001, 7, \"Fran\\u00e7a\", 9639, 4820, \"2001-07-01\"], [2001, 12, \"Bol\\u00edvia\", 9447, 25223, \"2001-12-01\"], [2001, 5, \"Estados Unidos\", 6079, 2894, \"2001-05-01\"], [2001, 11, \"Angola\", 4797, 8473, \"2001-11-01\"], [2001, 12, \"Equador\", 3876, 8496, \"2001-12-01\"], [2001, 1, \"Uruguai\", 3394, 4619, \"2001-01-01\"], [2001, 10, \"Argentina\", 2393, 1477, \"2001-10-01\"], [2001, 12, \"Peru\", 1938, 2625, \"2001-12-01\"], [2001, 12, \"Uruguai\", 1932, 4893, \"2001-12-01\"], [2001, 6, \"Estados Unidos\", 1893, 682, \"2001-06-01\"], [2001, 11, \"Alemanha\", 1229, 560, \"2001-11-01\"], [2001, 4, \"Bol\\u00edvia\", 872, 1980, \"2001-04-01\"], [2001, 2, \"Uruguai\", 841, 1098, \"2001-02-01\"], [2001, 3, \"Uruguai\", 794, 1130, \"2001-03-01\"], [2001, 10, \"Angola\", 426, 1114, \"2001-10-01\"], [2001, 8, \"Uruguai\", 389, 624, \"2001-08-01\"], [2001, 11, \"Gana\", 389, 259, \"2001-11-01\"], [2001, 10, \"Uruguai\", 358, 600, \"2001-10-01\"], [2001, 9, \"Angola\", 328, 366, \"2001-09-01\"], [2001, 5, \"Uruguai\", 259, 420, \"2001-05-01\"], [2001, 10, \"Equador\", 200, 2170, \"2001-10-01\"], [2001, 4, \"Uruguai\", 127, 180, \"2001-04-01\"], [2000, 12, \"Paraguai\", 308050, 685287, \"2000-12-01\"], [2000, 11, \"Paraguai\", 257125, 526327, \"2000-11-01\"], [2000, 8, \"Paraguai\", 236922, 426640, \"2000-08-01\"], [2000, 11, \"Angola\", 235217, 69213, \"2000-11-01\"], [2000, 5, \"Paraguai\", 196436, 405252, \"2000-05-01\"], [2000, 1, \"Paraguai\", 193841, 390179, \"2000-01-01\"], [2000, 9, \"Paraguai\", 185400, 387972, \"2000-09-01\"], [2000, 3, \"Paraguai\", 183621, 415646, \"2000-03-01\"], [2000, 6, \"Paraguai\", 182029, 386651, \"2000-06-01\"], [2000, 7, \"Paraguai\", 172798, 357062, \"2000-07-01\"], [2000, 10, \"Paraguai\", 169025, 343556, \"2000-10-01\"], [2000, 4, \"Paraguai\", 168641, 365776, \"2000-04-01\"], [2000, 2, \"Paraguai\", 140681, 273502, \"2000-02-01\"], [2000, 10, \"Angola\", 133491, 180478, \"2000-10-01\"], [2000, 9, \"Jap\\u00e3o\", 107495, 176310, \"2000-09-01\"], [2000, 7, \"Jap\\u00e3o\", 99615, 174430, \"2000-07-01\"], [2000, 12, \"Jap\\u00e3o\", 45778, 92620, \"2000-12-01\"], [2000, 2, \"Jap\\u00e3o\", 36759, 68572, \"2000-02-01\"], [2000, 8, \"Jap\\u00e3o\", 36586, 38740, \"2000-08-01\"], [2000, 11, \"Jap\\u00e3o\", 35123, 54720, \"2000-11-01\"], [2000, 7, \"Bol\\u00edvia\", 28495, 68400, \"2000-07-01\"], [2000, 1, \"Bol\\u00edvia\", 26812, 58474, \"2000-01-01\"], [2000, 9, \"Bol\\u00edvia\", 25793, 67314, \"2000-09-01\"], [2000, 4, \"Jap\\u00e3o\", 23969, 36680, \"2000-04-01\"], [2000, 4, \"Finl\\u00e2ndia\", 23069, 11664, \"2000-04-01\"], [2000, 5, \"Finl\\u00e2ndia\", 23069, 11664, \"2000-05-01\"], [2000, 3, \"Bol\\u00edvia\", 17729, 43737, \"2000-03-01\"], [2000, 7, \"Alemanha\", 15620, 9900, \"2000-07-01\"], [2000, 5, \"Jap\\u00e3o\", 13085, 22114, \"2000-05-01\"], [2000, 7, \"Finl\\u00e2ndia\", 11534, 5832, \"2000-07-01\"], [2000, 1, \"Finl\\u00e2ndia\", 11534, 5832, \"2000-01-01\"], [2000, 3, \"Finl\\u00e2ndia\", 11534, 5832, \"2000-03-01\"], [2000, 4, \"Bol\\u00edvia\", 9659, 25872, \"2000-04-01\"], [2000, 12, \"Canad\\u00e1\", 8538, 4480, \"2000-12-01\"], [2000, 8, \"Uruguai\", 7346, 10174, \"2000-08-01\"], [2000, 5, \"Uruguai\", 4586, 6752, \"2000-05-01\"], [2000, 3, \"Uruguai\", 4033, 6704, \"2000-03-01\"], [2000, 7, \"Uruguai\", 2762, 3897, \"2000-07-01\"], [2000, 2, \"Estados Unidos\", 2700, 1118, \"2000-02-01\"], [2000, 6, \"Uruguai\", 2002, 2916, \"2000-06-01\"], [2000, 9, \"Uruguai\", 1947, 2520, \"2000-09-01\"], [2000, 4, \"Uruguai\", 1778, 2860, \"2000-04-01\"], [2000, 10, \"Uruguai\", 1722, 2292, \"2000-10-01\"], [2000, 12, \"Uruguai\", 1682, 2487, \"2000-12-01\"], [2000, 2, \"Fran\\u00e7a\", 1344, 600, \"2000-02-01\"], [2000, 1, \"Uruguai\", 1214, 2328, \"2000-01-01\"], [2000, 8, \"Estados Unidos\", 967, 390, \"2000-08-01\"], [2000, 10, \"Bol\\u00edvia\", 938, 1520, \"2000-10-01\"], [2000, 11, \"Uruguai\", 789, 1086, \"2000-11-01\"], [2000, 3, \"Estados Unidos\", 720, 410, \"2000-03-01\"], [2000, 6, \"Estados Unidos\", 245, 233, \"2000-06-01\"], [2000, 5, \"Bol\\u00edvia\", 219, 575, \"2000-05-01\"], [2000, 2, \"Uruguai\", 214, 460, \"2000-02-01\"], [2000, 12, \"Angola\", 109, 26, \"2000-12-01\"], [2000, 2, \"Bol\\u00edvia\", 69, 96, \"2000-02-01\"]];\n",
       "\n",
       "    // Define the dt_args\n",
       "    let dt_args = {\"order\": [], \"fnInfoCallback\": function (oSettings, iStart, iEnd, iMax, iTotal, sPre) { return sPre + ' (<a href=\"https://mwouts.github.io/itables/downsampling.html\">downsampled</a> from 3,640x6 to 1,227x6 as maxBytes=65536)'; }};\n",
       "    dt_args[\"data\"] = data;\n",
       "\n",
       "    $(document).ready(function () {\n",
       "        \n",
       "        $('#b00b1beb-526c-4856-8819-d17f61b36d7f').DataTable(dt_args);\n",
       "    });\n",
       "</script>\n",
       "</div>\n"
      ],
      "text/plain": [
       "<IPython.core.display.HTML object>"
      ]
     },
     "metadata": {},
     "output_type": "display_data"
    }
   ],
   "source": [
    "from datetime import date\n",
    "\n",
    "exp_vinho_monthly = (\n",
    "    (\n",
    "        pl.read_csv(\n",
    "            \"../data/EXP_VINHO_2000_2022_20231118_mensal.csv\", separator=\";\"\n",
    "        ).rename(\n",
    "            {\n",
    "                \"Ano\": \"year\",\n",
    "                \"Mês\": \"month\",\n",
    "                \"Países\": \"country\",\n",
    "                \"Valor FOB (US$)\": \"value\",\n",
    "                \"Quilograma Líquido\": \"quantity\",\n",
    "            }\n",
    "        )\n",
    "    )\n",
    "    .drop([\"Código CUCI Item\", \"Descrição CUCI Item\"])\n",
    "    .with_columns(pl.date(pl.col(\"year\"), pl.col(\"month\"), 1).alias(\"date\"))\n",
    ")\n",
    "\n",
    "\n",
    "show(exp_vinho_monthly)"
   ]
  },
  {
   "cell_type": "markdown",
   "metadata": {},
   "source": [
    "Ajuste pelo CPI mensal:"
   ]
  },
  {
   "cell_type": "code",
   "execution_count": null,
   "metadata": {},
   "outputs": [
    {
     "data": {
      "text/html": [
       "<style>.itables table td {\n",
       "    text-overflow: ellipsis;\n",
       "    overflow: hidden;\n",
       "}\n",
       "\n",
       ".itables table th {\n",
       "    text-overflow: ellipsis;\n",
       "    overflow: hidden;\n",
       "}\n",
       "\n",
       ".itables thead input {\n",
       "    width: 100%;\n",
       "    padding: 3px;\n",
       "    box-sizing: border-box;\n",
       "}\n",
       "\n",
       ".itables tfoot input {\n",
       "    width: 100%;\n",
       "    padding: 3px;\n",
       "    box-sizing: border-box;\n",
       "}\n",
       "</style>\n",
       "<div class=\"itables\">\n",
       "<table id=\"a6fdd332-2e8d-4367-aa57-42c949b8c3bc\" class=\"display nowrap\"style=\"table-layout:auto;width:auto;margin:auto;caption-side:bottom\"><thead>\n",
       "    <tr style=\"text-align: right;\">\n",
       "      \n",
       "      <th>year</th>\n",
       "      <th>month</th>\n",
       "      <th>country</th>\n",
       "      <th>value</th>\n",
       "      <th>value_corrected</th>\n",
       "      <th>quantity</th>\n",
       "      <th>date</th>\n",
       "    </tr>\n",
       "  </thead><tbody><tr><td>Loading... (need <a href=https://mwouts.github.io/itables/troubleshooting.html>help</a>?)</td></tr></tbody></table>\n",
       "<link rel=\"stylesheet\" type=\"text/css\" href=\"https://cdn.datatables.net/1.13.1/css/jquery.dataTables.min.css\">\n",
       "<script type=\"module\">\n",
       "    // Import jquery and DataTable\n",
       "    import 'https://code.jquery.com/jquery-3.6.0.min.js';\n",
       "    import dt from 'https://cdn.datatables.net/1.12.1/js/jquery.dataTables.mjs';\n",
       "    dt($);\n",
       "\n",
       "    // Define the table data\n",
       "    const data = [[2000, 1, \"Paraguai\", 193841, 342330.3047253396, 390179, \"2000-01-01\"], [2000, 1, \"Bol\\u00edvia\", 26812, 47350.97389249852, 58474, \"2000-01-01\"], [2000, 1, \"Finl\\u00e2ndia\", 11534, 20369.46639102185, 5832, \"2000-01-01\"], [2000, 1, \"Uruguai\", 1214, 2143.968458357944, 2328, \"2000-01-01\"], [2000, 2, \"Paraguai\", 140681, 247424.7775882353, 273502, \"2000-02-01\"], [2000, 2, \"Jap\\u00e3o\", 36759, 64650.43182352941, 68572, \"2000-02-01\"], [2000, 2, \"Estados Unidos\", 2700, 4748.664705882353, 1118, \"2000-02-01\"], [2000, 2, \"Fran\\u00e7a\", 1344, 2363.7797647058824, 600, \"2000-02-01\"], [2000, 2, \"Uruguai\", 214, 376.3756470588235, 460, \"2000-02-01\"], [2000, 2, \"Bol\\u00edvia\", 69, 121.35476470588236, 96, \"2000-02-01\"], [2000, 3, \"Paraguai\", 183621, 321057.56017543864, 415646, \"2000-03-01\"], [2000, 3, \"Bol\\u00edvia\", 17729, 30998.793625731, 43737, \"2000-03-01\"], [2000, 3, \"Finl\\u00e2ndia\", 11534, 20166.96292397661, 5832, \"2000-03-01\"], [2000, 3, \"Uruguai\", 4033, 7051.617953216375, 6704, \"2000-03-01\"], [2000, 3, \"Estados Unidos\", 720, 1258.905263157895, 410, \"2000-03-01\"], [2000, 4, \"Paraguai\", 168641, 295037.87355178467, 365776, \"2000-04-01\"], [2000, 4, \"Jap\\u00e3o\", 23969, 41933.828613224105, 36680, \"2000-04-01\"], [2000, 4, \"Finl\\u00e2ndia\", 23069, 40359.276243417204, 11664, \"2000-04-01\"], [2000, 4, \"Bol\\u00edvia\", 9659, 16898.445933294322, 25872, \"2000-04-01\"], [2000, 4, \"Uruguai\", 1778, 3110.615681685196, 2860, \"2000-04-01\"], [2000, 5, \"Paraguai\", 196436, 343063.0820093459, 405252, \"2000-05-01\"], [2000, 5, \"Finl\\u00e2ndia\", 23069, 40288.55321261683, 11664, \"2000-05-01\"], [2000, 5, \"Jap\\u00e3o\", 13085, 22852.127044392528, 22114, \"2000-05-01\"], [2000, 5, \"Uruguai\", 4586, 8009.159696261684, 6752, \"2000-05-01\"], [2000, 5, \"Bol\\u00edvia\", 219, 382.46968457943933, 575, \"2000-05-01\"], [2000, 6, \"Paraguai\", 182029, 316056.043612079, 386651, \"2000-06-01\"], [2000, 6, \"Uruguai\", 2002, 3476.0626016260167, 2916, \"2000-06-01\"], [2000, 6, \"Estados Unidos\", 245, 425.39227642276427, 233, \"2000-06-01\"], [2000, 7, \"Paraguai\", 172798, 299159.6642733063, 357062, \"2000-07-01\"], [2000, 7, \"Jap\\u00e3o\", 99615, 172460.27127967577, 174430, \"2000-07-01\"], [2000, 7, \"Bol\\u00edvia\", 28495, 49332.48436595252, 68400, \"2000-07-01\"], [2000, 7, \"Alemanha\", 15620, 27042.407643312104, 9900, \"2000-07-01\"], [2000, 7, \"Finl\\u00e2ndia\", 11534, 19968.446207295892, 5832, \"2000-07-01\"], [2000, 7, \"Uruguai\", 2762, 4781.762478286046, 3897, \"2000-07-01\"], [2000, 8, \"Paraguai\", 236922, 410175.4995946729, 426640, \"2000-08-01\"], [2000, 8, \"Jap\\u00e3o\", 36586, 63340.174522293004, 38740, \"2000-08-01\"], [2000, 8, \"Uruguai\", 7346, 12717.895425593517, 10174, \"2000-08-01\"], [2000, 8, \"Estados Unidos\", 967, 1674.1362478286046, 390, \"2000-08-01\"], [2000, 9, \"Paraguai\", 185400, 319313.0529953917, 387972, \"2000-09-01\"], [2000, 9, \"Jap\\u00e3o\", 107495, 185137.84591013825, 176310, \"2000-09-01\"], [2000, 9, \"Bol\\u00edvia\", 25793, 44423.09372119816, 67314, \"2000-09-01\"], [2000, 9, \"Uruguai\", 1947, 3353.3037442396317, 2520, \"2000-09-01\"], [2000, 10, \"Paraguai\", 169025, 290608.30793559516, 343556, \"2000-10-01\"], [2000, 10, \"Angola\", 133491, 229513.93956296722, 180478, \"2000-10-01\"], [2000, 10, \"Uruguai\", 1722, 2960.6715353651525, 2292, \"2000-10-01\"], [2000, 10, \"Bol\\u00edvia\", 938, 1612.7235192639448, 1520, \"2000-10-01\"], [2000, 11, \"Paraguai\", 257125, 441319.19489092997, 526327, \"2000-11-01\"], [2000, 11, \"Angola\", 235217, 403717.1689437429, 69213, \"2000-11-01\"], [2000, 11, \"Jap\\u00e3o\", 35123, 60283.73002296212, 54720, \"2000-11-01\"], [2000, 11, \"Uruguai\", 789, 1354.2084385763492, 1086, \"2000-11-01\"], [2000, 12, \"Paraguai\", 308050, 527513.571019473, 685287, \"2000-12-01\"], [2000, 12, \"Jap\\u00e3o\", 45778, 78391.54765177549, 92620, \"2000-12-01\"], [2000, 12, \"Canad\\u00e1\", 8538, 14620.713745704466, 4480, \"2000-12-01\"], [2000, 12, \"Uruguai\", 1682, 2880.3045819014887, 2487, \"2000-12-01\"], [2000, 12, \"Angola\", 109, 186.65469644902635, 26, \"2000-12-01\"], [2001, 1, \"Paraguai\", 168438, 286795.43063781323, 341536, \"2001-01-01\"], [2001, 1, \"Jap\\u00e3o\", 28350, 48270.8798405467, 21000, \"2001-01-01\"], [2001, 1, \"Uruguai\", 3394, 5778.884168564921, 4619, \"2001-01-01\"], [2001, 2, \"Paraguai\", 111832, 189980.96409090908, 214083, \"2001-02-01\"], [2001, 2, \"Bol\\u00edvia\", 15336, 26052.901363636363, 47710, \"2001-02-01\"], [2001, 2, \"Finl\\u00e2ndia\", 11534, 19594.03784090909, 5832, \"2001-02-01\"], [2001, 2, \"Uruguai\", 841, 1428.696534090909, 1098, \"2001-02-01\"], [2001, 3, \"Paraguai\", 239915, 407337.7958546281, 531573, \"2001-03-01\"], [2001, 3, \"Jap\\u00e3o\", 23579, 40033.41970471323, 36885, \"2001-03-01\"], [2001, 3, \"Uruguai\", 794, 1348.0866553094834, 1130, \"2001-03-01\"], [2001, 4, \"Paraguai\", 136111, 230701.97216553285, 297398, \"2001-04-01\"], [2001, 4, \"Jap\\u00e3o\", 35867, 60792.9383786848, 40253, \"2001-04-01\"], [2001, 4, \"Finl\\u00e2ndia\", 11534, 19549.606916099772, 5832, \"2001-04-01\"], [2001, 4, \"Bol\\u00edvia\", 872, 1478.000453514739, 1980, \"2001-04-01\"], [2001, 4, \"Uruguai\", 127, 215.25924036281177, 180, \"2001-04-01\"], [2001, 5, \"Paraguai\", 156102, 263242.7353637902, 362356, \"2001-05-01\"], [2001, 5, \"Jap\\u00e3o\", 39235, 66163.97433728144, 83910, \"2001-05-01\"], [2001, 5, \"Alemanha\", 11157, 18814.616074450085, 1673, \"2001-05-01\"], [2001, 5, \"Estados Unidos\", 6079, 10251.326621545402, 2894, \"2001-05-01\"], [2001, 5, \"Uruguai\", 259, 436.76486181613086, 420, \"2001-05-01\"], [2001, 6, \"Paraguai\", 163293, 274749.43202025886, 363583, \"2001-06-01\"], [2001, 6, \"Bol\\u00edvia\", 19928, 33529.95340461452, 60136, \"2001-06-01\"], [2001, 6, \"Finl\\u00e2ndia\", 11534, 19406.58784468205, 5832, \"2001-06-01\"], [2001, 6, \"Estados Unidos\", 1893, 3185.0763646595387, 682, \"2001-06-01\"], [2001, 7, \"Paraguai\", 206725, 348414.3616121759, 502416, \"2001-07-01\"], [2001, 7, \"Fran\\u00e7a\", 9639, 16245.57277339346, 4820, \"2001-07-01\"], [2001, 8, \"Paraguai\", 152332, 256740.38714768883, 342824, \"2001-08-01\"], [2001, 8, \"Jap\\u00e3o\", 36732, 61908.121082299884, 44790, \"2001-08-01\"], [2001, 8, \"Finl\\u00e2ndia\", 11534, 19439.406200676436, 5832, \"2001-08-01\"], [2001, 8, \"Uruguai\", 389, 655.6206877113867, 624, \"2001-08-01\"], [2001, 9, \"Paraguai\", 133285, 223755.6549691185, 314262, \"2001-09-01\"], [2001, 9, \"Bol\\u00edvia\", 50058, 84036.16743402585, 160612, \"2001-09-01\"], [2001, 9, \"Jap\\u00e3o\", 29400, 49356.01347557553, 60000, \"2001-09-01\"], [2001, 9, \"Angola\", 328, 550.6385176866929, 366, \"2001-09-01\"], [2001, 10, \"Paraguai\", 201099, 338550.6194256757, 484812, \"2001-10-01\"], [2001, 10, \"Jap\\u00e3o\", 23584, 39703.71711711712, 39685, \"2001-10-01\"], [2001, 10, \"Argentina\", 2393, 4028.62088963964, 1477, \"2001-10-01\"], [2001, 10, \"Angola\", 426, 717.1719594594596, 1114, \"2001-10-01\"], [2001, 10, \"Uruguai\", 358, 602.6938063063064, 600, \"2001-10-01\"], [2001, 10, \"Equador\", 200, 336.7004504504505, 2170, \"2001-10-01\"], [2001, 11, \"Paraguai\", 263113, 443200.87814084504, 648296, \"2001-11-01\"], [2001, 11, \"Finl\\u00e2ndia\", 20924, 35245.44653521127, 7848, \"2001-11-01\"], [2001, 11, \"Jap\\u00e3o\", 14700, 24761.425352112674, 21000, \"2001-11-01\"], [2001, 11, \"Angola\", 4797, 8080.310028169014, 8473, \"2001-11-01\"], [2001, 11, \"Alemanha\", 1229, 2070.1899154929574, 560, \"2001-11-01\"], [2001, 11, \"Gana\", 389, 655.251323943662, 259, \"2001-11-01\"], [2001, 12, \"Paraguai\", 174041, 293328.74064261554, 395658, \"2001-12-01\"], [2001, 12, \"Angola\", 14712, 24795.608117249154, 2958, \"2001-12-01\"], [2001, 12, \"Bol\\u00edvia\", 9447, 15921.975930101466, 25223, \"2001-12-01\"], [2001, 12, \"Equador\", 3876, 6532.611273957159, 8496, \"2001-12-01\"], [2001, 12, \"Peru\", 1938, 3266.3056369785795, 2625, \"2001-12-01\"], [2001, 12, \"Uruguai\", 1932, 3256.1932356257043, 4893, \"2001-12-01\"], [2002, 1, \"Paraguai\", 193451, 325491.9217220034, 418113, \"2002-01-01\"], [2002, 1, \"Honduras\", 13470, 22664.014068655037, 7918, \"2002-01-01\"], [2002, 1, \"Alemanha\", 4626, 7783.498818232977, 1080, \"2002-01-01\"], [2002, 1, \"B\\u00e9lgica\", 1800, 3028.598761958357, 405, \"2002-01-01\"], [2002, 1, \"Uruguai\", 49, 82.44518851997749, 84, \"2002-01-01\"], [2002, 2, \"Paraguai\", 105133, 176593.90825842696, 217397, \"2002-02-01\"], [2002, 2, \"Jap\\u00e3o\", 27065, 45461.597471910114, 38180, \"2002-02-01\"], [2002, 2, \"Bol\\u00edvia\", 4507, 7570.493988764045, 1447, \"2002-02-01\"], [2002, 2, \"Uruguai\", 488, 819.7029213483146, 696, \"2002-02-01\"], [2002, 3, \"Paraguai\", 83739, 140263.99781512606, 171367, \"2002-03-01\"], [2002, 3, \"Finl\\u00e2ndia\", 11534, 19319.61154061625, 5832, \"2002-03-01\"], [2002, 3, \"Jap\\u00e3o\", 9564, 16019.833949579834, 2925, \"2002-03-01\"], [2002, 3, \"Uruguai\", 601, 1006.6834173669469, 816, \"2002-03-01\"], [2002, 4, \"Paraguai\", 49605, 82718.34327941996, 97981, \"2002-04-01\"], [2002, 4, \"Finl\\u00e2ndia\", 11534, 19233.411377579476, 5832, \"2002-04-01\"], [2002, 4, \"Jap\\u00e3o\", 10161, 16943.878360290015, 23940, \"2002-04-01\"], [2002, 4, \"Su\\u00ed\\u00e7a\", 1920, 3201.6776352481875, 800, \"2002-04-01\"], [2002, 4, \"Uruguai\", 294, 490.25688789737865, 1550, \"2002-04-01\"], [2002, 4, \"Angola\", 292, 486.9218070273285, 94, \"2002-04-01\"], [2002, 5, \"Paraguai\", 68671, 114384.07961002785, 138963, \"2002-05-01\"], [2002, 5, \"Jap\\u00e3o\", 9833, 16378.655543175486, 9592, \"2002-05-01\"], [2002, 5, \"Peru\", 1008, 1679.0079108635096, 5050, \"2002-05-01\"], [2002, 5, \"Bol\\u00edvia\", 392, 652.9475208913649, 2600, \"2002-05-01\"], [2002, 5, \"Uruguai\", 153, 254.84941504178272, 264, \"2002-05-01\"], [2002, 6, \"Paraguai\", 33497, 55764.29860801782, 83707, \"2002-06-01\"], [2002, 6, \"Finl\\u00e2ndia\", 11534, 19201.28429844098, 5832, \"2002-06-01\"], [2002, 6, \"Uruguai\", 2420, 4028.707126948775, 5890, \"2002-06-01\"], [2002, 7, \"Paraguai\", 79232, 131608.75377777778, 205798, \"2002-07-01\"], [2002, 7, \"Finl\\u00e2ndia\", 11534, 19158.614777777777, 5832, \"2002-07-01\"], [2002, 7, \"Bol\\u00edvia\", 1808, 3003.1884444444445, 2760, \"2002-07-01\"], [2002, 7, \"Uruguai\", 367, 609.6073888888889, 1500, \"2002-07-01\"], [2002, 8, \"Jap\\u00e3o\", 27300, 45221.202216066486, 21000, \"2002-08-01\"], [2002, 8, \"Fran\\u00e7a\", 17240, 28557.272022160665, 9000, \"2002-08-01\"], [2002, 8, \"Paraguai\", 12836, 21262.24731301939, 35570, \"2002-08-01\"], [2002, 8, \"Uruguai\", 2016, 3339.4118559556787, 3970, \"2002-08-01\"], [2002, 9, \"Paraguai\", 73284, 121190.17234513273, 200681, \"2002-09-01\"], [2002, 9, \"Jap\\u00e3o\", 19140, 31651.92809734513, 16110, \"2002-09-01\"], [2002, 9, \"Estados Unidos\", 5649, 9341.783794247787, 3200, \"2002-09-01\"], [2002, 9, \"Uruguai\", 3620, 5986.414823008849, 12580, \"2002-09-01\"], [2002, 10, \"Paraguai\", 51089, 84299.66948123623, 165952, \"2002-10-01\"], [2002, 10, \"Estados Unidos\", 13990, 23084.272075055193, 3500, \"2002-10-01\"], [2002, 10, \"Angola\", 3264, 5385.7801324503325, 8135, \"2002-10-01\"], [2002, 10, \"Bol\\u00edvia\", 1332, 2197.8735099337755, 738, \"2002-10-01\"], [2002, 10, \"Panam\\u00e1\", 18, 29.70099337748345, 364, \"2002-10-01\"], [2002, 11, \"Paraguai\", 68405, 112685.45977961432, 213961, \"2002-11-01\"], [2002, 11, \"B\\u00e9lgica\", 2100, 3459.388429752066, 858, \"2002-11-01\"], [2002, 11, \"Angola\", 1734, 2856.4664462809915, 1583, \"2002-11-01\"], [2002, 11, \"Bahamas\", 480, 790.7173553719008, 120, \"2002-11-01\"], [2002, 11, \"Panam\\u00e1\", 4, 6.58931129476584, 71, \"2002-11-01\"], [2002, 12, \"Paraguai\", 22647, 37245.47046204621, 64313, \"2002-12-01\"], [2002, 12, \"Jap\\u00e3o\", 6494, 10680.093839383939, 23855, \"2002-12-01\"], [2002, 12, \"Costa Rica\", 10, 16.446094609460946, 100, \"2002-12-01\"], [2002, 12, \"Chile\", 3, 4.933828382838284, 31, \"2002-12-01\"], [2002, 12, \"Estados Unidos\", 2, 3.2892189218921892, 100, \"2002-12-01\"], [2003, 1, \"Uruguai\", 4701, 7697.436966046002, 12250, \"2003-01-01\"], [2003, 1, \"Paraguai\", 4516, 7394.517196056955, 11154, \"2003-01-01\"], [2003, 1, \"Estados Unidos\", 54, 88.4198247535597, 46, \"2003-01-01\"], [2003, 2, \"Jap\\u00e3o\", 14262, 23225.465032679742, 31555, \"2003-02-01\"], [2003, 2, \"Paraguai\", 12961, 21106.80495642702, 36366, \"2003-02-01\"], [2003, 2, \"Su\\u00ed\\u00e7a\", 3575, 5821.8368736383445, 1400, \"2003-02-01\"], [2003, 3, \"Finl\\u00e2ndia\", 11534, 18752.314627514956, 5832, \"2003-03-01\"], [2003, 3, \"Jap\\u00e3o\", 6739, 10956.463349646547, 23770, \"2003-03-01\"], [2003, 3, \"Paraguai\", 5684, 9241.213485589995, 19682, \"2003-03-01\"], [2003, 4, \"Paraguai\", 18526, 30235.200545851534, 54546, \"2003-04-01\"], [2003, 4, \"Jap\\u00e3o\", 11030, 18001.41757641922, 25834, \"2003-04-01\"], [2003, 4, \"Angola\", 56, 91.39432314410482, 84, \"2003-04-01\"], [2003, 5, \"Paraguai\", 27562, 45056.10924002187, 80676, \"2003-05-01\"], [2003, 5, \"Angola\", 71, 116.06500820120284, 97, \"2003-05-01\"], [2003, 6, \"Paraguai\", 51239, 83669.84494811579, 130675, \"2003-06-01\"], [2003, 7, \"Paraguai\", 25819, 42022.98753402287, 61568, \"2003-07-01\"], [2003, 7, \"Finl\\u00e2ndia\", 11534, 18772.730865541645, 5832, \"2003-07-01\"], [2003, 8, \"Jap\\u00e3o\", 26210, 42474.40596205962, 40409, \"2003-08-01\"], [2003, 8, \"Paraguai\", 10586, 17155.057669376696, 30632, \"2003-08-01\"], [2003, 8, \"Tcheca, Rep\\u00fablica\", 10406, 16863.360108401084, 2431, \"2003-08-01\"], [2003, 8, \"Su\\u00ed\\u00e7a\", 1524, 2469.706016260163, 370, \"2003-08-01\"], [2003, 9, \"Estados Unidos\", 15753, 25445.648136142627, 5572, \"2003-09-01\"], [2003, 9, \"Paraguai\", 14043, 22683.503889789303, 44043, \"2003-09-01\"], [2003, 9, \"Jap\\u00e3o\", 10935, 17663.18557536467, 23920, \"2003-09-01\"], [2003, 9, \"Gana\", 1655, 2673.303349540789, 270, \"2003-09-01\"], [2003, 10, \"Paraguai\", 76442, 123609.48393726339, 204786, \"2003-10-01\"], [2003, 10, \"Su\\u00ed\\u00e7a\", 24508, 39630.32406706328, 5844, \"2003-10-01\"], [2003, 10, \"Finl\\u00e2ndia\", 11534, 18650.89594375338, 5832, \"2003-10-01\"], [2003, 11, \"Paraguai\", 88912, 143696.21016216217, 251423, \"2003-11-01\"], [2003, 11, \"Estados Unidos\", 17014, 27497.38302702703, 5415, \"2003-11-01\"], [2003, 11, \"Angola\", 11157, 18031.521243243245, 19436, \"2003-11-01\"], [2003, 11, \"Tcheca, Rep\\u00fablica\", 7478, 12085.660648648649, 2689, \"2003-11-01\"], [2003, 11, \"M\\u00e9xico\", 20, 32.32324324324325, 20, \"2003-11-01\"], [2003, 11, \"Trinidad e Tobago\", 4, 6.464648648648649, 10, \"2003-11-01\"], [2003, 12, \"Paraguai\", 61181, 98611.89859838274, 196121, \"2003-12-01\"], [2003, 12, \"Estados Unidos\", 39468, 63614.756442048514, 14434, \"2003-12-01\"], [2003, 12, \"Jap\\u00e3o\", 18110, 29189.80539083558, 20540, \"2003-12-01\"], [2003, 12, \"Tcheca, Rep\\u00fablica\", 13907, 22415.385067385443, 2250, \"2003-12-01\"], [2003, 12, \"Taiwan (Formosa)\", 300, 483.54177897574124, 180, \"2003-12-01\"], [2003, 12, \"Angola\", 153, 246.60630727762802, 320, \"2003-12-01\"], [2003, 12, \"Costa Rica\", 21, 33.84792452830189, 31, \"2003-12-01\"], [2004, 1, \"Estados Unidos\", 15960, 25613.95813204509, 6300, \"2004-01-01\"], [2004, 1, \"Paraguai\", 10537, 16910.668974771874, 29316, \"2004-01-01\"], [2004, 1, \"Panam\\u00e1\", 390, 625.9049919484702, 360, \"2004-01-01\"], [2004, 1, \"Bol\\u00edvia\", 260, 417.2699946323135, 475, \"2004-01-01\"], [2004, 2, \"Paraguai\", 79995, 128107.68639528657, 258039, \"2004-02-01\"], [2004, 2, \"Estados Unidos\", 36739, 58835.530851633644, 9131, \"2004-02-01\"], [2004, 2, \"Jap\\u00e3o\", 11569, 18527.130744509912, 25855, \"2004-02-01\"], [2004, 2, \"Su\\u00ed\\u00e7a\", 4038, 6466.6396357793255, 1333, \"2004-02-01\"], [2004, 2, \"Tcheca, Rep\\u00fablica\", 2877, 4607.360632029995, 779, \"2004-02-01\"], [2004, 3, \"Paraguai\", 47378, 75711.10753607698, 139083, \"2004-03-01\"], [2004, 3, \"Jap\\u00e3o\", 34077, 54455.810956707646, 94659, \"2004-03-01\"], [2004, 3, \"Estados Unidos\", 1987, 3175.2706039551044, 270, \"2004-03-01\"], [2004, 3, \"Col\\u00f4mbia\", 595, 950.8233564938537, 280, \"2004-03-01\"], [2004, 3, \"Alemanha\", 492, 786.2270443613041, 81, \"2004-03-01\"], [2004, 3, \"Bol\\u00edvia\", 358, 572.092036344201, 598, \"2004-03-01\"], [2004, 3, \"Uruguai\", 341, 544.9256547300909, 576, \"2004-03-01\"], [2004, 4, \"Angola\", 32195, 51365.97145144077, 14702, \"2004-04-01\"], [2004, 4, \"Paraguai\", 29944, 47774.58143009605, 81207, \"2004-04-01\"], [2004, 4, \"Jap\\u00e3o\", 23622, 37688.05645677695, 49172, \"2004-04-01\"], [2004, 4, \"Finl\\u00e2ndia\", 10769, 17181.55448239061, 5445, \"2004-04-01\"], [2004, 4, \"Alemanha\", 4567, 7286.485218783351, 1449, \"2004-04-01\"], [2004, 4, \"Estados Unidos\", 2451, 3910.482870864461, 333, \"2004-04-01\"], [2004, 4, \"Tcheca, Rep\\u00fablica\", 1813, 2892.576680896478, 516, \"2004-04-01\"], [2004, 4, \"Fran\\u00e7a\", 398, 634.9947705442903, 38, \"2004-04-01\"], [2004, 5, \"Paraguai\", 146134, 232160.49234856537, 400005, \"2004-05-01\"], [2004, 5, \"Estados Unidos\", 34713, 55147.92704569607, 9194, \"2004-05-01\"], [2004, 5, \"Jap\\u00e3o\", 11496, 18263.491179596178, 25890, \"2004-05-01\"], [2004, 5, \"Su\\u00ed\\u00e7a\", 1661, 2638.801222104145, 480, \"2004-05-01\"], [2004, 5, \"Angola\", 1517, 2410.030977683316, 4156, \"2004-05-01\"], [2004, 6, \"Paraguai\", 91707, 145153.39295923768, 265709, \"2004-06-01\"], [2004, 6, \"Su\\u00ed\\u00e7a\", 12500, 19784.939121228163, 3375, \"2004-06-01\"], [2004, 6, \"Jap\\u00e3o\", 10805, 17102.101376389623, 25850, \"2004-06-01\"], [2004, 6, \"Tcheca, Rep\\u00fablica\", 6563, 10387.884436209635, 2077, \"2004-06-01\"], [2004, 6, \"Bol\\u00edvia\", 270, 427.3546850185283, 553, \"2004-06-01\"], [2004, 6, \"Uruguai\", 102, 161.44510322922181, 180, \"2004-06-01\"], [2004, 7, \"Paraguai\", 45547, 72015.32273929138, 126288, \"2004-07-01\"], [2004, 7, \"Alemanha\", 15813, 25002.267953463775, 6389, \"2004-07-01\"], [2004, 7, \"Dinamarca\", 11088, 17531.470756213643, 3780, \"2004-07-01\"], [2004, 7, \"Finl\\u00e2ndia\", 10769, 17027.093125330513, 5445, \"2004-07-01\"], [2004, 7, \"Bol\\u00edvia\", 9767, 15442.8097831835, 16910, \"2004-07-01\"], [2004, 7, \"Estados Unidos\", 5564, 8797.357800105765, 756, \"2004-07-01\"], [2004, 7, \"Luxemburgo\", 5524, 8734.11295610788, 1414, \"2004-07-01\"], [2004, 7, \"Gana\", 774, 1223.7877313590693, 162, \"2004-07-01\"], [2004, 7, \"Uruguai\", 156, 246.65489159175038, 270, \"2004-07-01\"], [2004, 8, \"Jap\\u00e3o\", 64576, 102048.51078224104, 95828, \"2004-08-01\"], [2004, 8, \"Estados Unidos\", 51110, 80768.38742071883, 24192, \"2004-08-01\"], [2004, 8, \"Paraguai\", 42949, 67871.67817124737, 106122, \"2004-08-01\"], [2004, 8, \"Fran\\u00e7a\", 1232, 1946.9116279069772, 504, \"2004-08-01\"], [2004, 9, \"Estados Unidos\", 29737, 46844.39214963119, 12046, \"2004-09-01\"], [2004, 9, \"Paraguai\", 27645, 43548.88593256059, 82580, \"2004-09-01\"], [2004, 9, \"Portugal\", 21864, 34442.13572181243, 16080, \"2004-09-01\"], [2004, 9, \"Jap\\u00e3o\", 12457, 19623.38477344573, 8778, \"2004-09-01\"], [2004, 9, \"China\", 1118, 1761.1739726027397, 404, \"2004-09-01\"], [2004, 9, \"Fran\\u00e7a\", 2, 3.1505795574288724, 10, \"2004-09-01\"], [2004, 10, \"Tcheca, Rep\\u00fablica\", 53674, 84108.95838574423, 8483, \"2004-10-01\"], [2004, 10, \"Paraguai\", 44547, 69806.64323899371, 131644, \"2004-10-01\"], [2004, 10, \"Pa\\u00edses Baixos (Holanda)\", 29556, 46315.24339622641, 17688, \"2004-10-01\"], [2004, 10, \"Angola\", 16387, 25678.978668763102, 18165, \"2004-10-01\"], [2004, 10, \"Su\\u00e9cia\", 12880, 20183.392033542976, 4995, \"2004-10-01\"], [2004, 10, \"Jap\\u00e3o\", 12116, 18986.178406708594, 25760, \"2004-10-01\"], [2004, 10, \"Finl\\u00e2ndia\", 10769, 16875.384224318655, 5445, \"2004-10-01\"], [2004, 10, \"Suriname\", 3345, 5241.727201257861, 10726, \"2004-10-01\"], [2004, 10, \"Canad\\u00e1\", 3138, 4917.351257861635, 675, \"2004-10-01\"], [2004, 10, \"Qu\\u00eania\", 431, 675.3914570230608, 212, \"2004-10-01\"], [2004, 10, \"Estados Unidos\", 5, 7.835167714884696, 1, \"2004-10-01\"], [2004, 11, \"Paraguai\", 105433, 164441.38064684405, 268649, \"2004-11-01\"], [2004, 11, \"Estados Unidos\", 72906, 113709.78059467919, 26072, \"2004-11-01\"], [2004, 11, \"Jap\\u00e3o\", 14803, 23087.89238393323, 42295, \"2004-11-01\"], [2004, 11, \"Luxemburgo\", 11280, 17593.151799687013, 2894, \"2004-11-01\"], [2004, 11, \"Suriname\", 2078, 3241.0079290558165, 1300, \"2004-11-01\"], [2004, 11, \"It\\u00e1lia\", 1217, 1898.126395409494, 420, \"2004-11-01\"], [2004, 11, \"Singapura\", 369, 575.5206572769953, 31, \"2004-11-01\"], [2004, 12, \"Paraguai\", 89171, 139077.9201356286, 220016, \"2004-12-01\"], [2004, 12, \"Estados Unidos\", 42319, 66003.95310380803, 9970, \"2004-12-01\"], [2004, 12, \"Jap\\u00e3o\", 20761, 32380.445435576425, 32395, \"2004-12-01\"], [2004, 12, \"Alemanha\", 7268, 11335.729368805425, 5670, \"2004-12-01\"], [2004, 12, \"Fran\\u00e7a\", 6156, 9601.369014084508, 945, \"2004-12-01\"], [2004, 12, \"Togo\", 1042, 1625.1829942618676, 1300, \"2004-12-01\"], [2004, 12, \"Angola\", 283, 441.38847157016176, 550, \"2004-12-01\"], [2004, 12, \"Uruguai\", 167, 260.465988523735, 270, \"2004-12-01\"], [2005, 1, \"Pa\\u00edses Baixos (Holanda)\", 22385, 34931.58220250522, 17688, \"2005-01-01\"], [2005, 1, \"Alemanha\", 21960, 34268.37369519833, 16080, \"2005-01-01\"], [2005, 1, \"Estados Unidos\", 19967, 31158.315918580378, 14733, \"2005-01-01\"], [2005, 1, \"Paraguai\", 6260, 9768.671189979124, 17400, \"2005-01-01\"], [2005, 1, \"Bol\\u00edvia\", 4971, 7757.198799582464, 10148, \"2005-01-01\"], [2005, 1, \"Guiana\", 4963, 7744.71487473904, 4380, \"2005-01-01\"], [2005, 1, \"B\\u00e9lgica\", 388, 605.4703549060544, 105, \"2005-01-01\"], [2005, 1, \"Angola\", 306, 477.51012526096036, 153, \"2005-01-01\"], [2005, 1, \"Jap\\u00e3o\", 30, 46.81471816283925, 10, \"2005-01-01\"], [2005, 2, \"Estados Unidos\", 49154, 76385.4181912682, 29133, \"2005-02-01\"], [2005, 2, \"Qu\\u00eania\", 31314, 48662.0211018711, 7661, \"2005-02-01\"], [2005, 2, \"Paraguai\", 16980, 26386.955301455302, 48510, \"2005-02-01\"], [2005, 2, \"Noruega\", 10854, 16867.138565488567, 4455, \"2005-02-01\"], [2005, 2, \"Bol\\u00edvia\", 5606, 8711.735654885655, 10510, \"2005-02-01\"], [2005, 2, \"Guiana\", 3318, 5156.178898128898, 4159, \"2005-02-01\"], [2005, 2, \"Reino Unido\", 2856, 4438.229937629938, 252, \"2005-02-01\"], [2005, 2, \"Panam\\u00e1\", 1213, 1885.0045218295218, 1125, \"2005-02-01\"], [2005, 2, \"It\\u00e1lia\", 576, 895.1051975051975, 124, \"2005-02-01\"], [2005, 2, \"Gana\", 12, 18.648024948024947, 30, \"2005-02-01\"], [2005, 3, \"Fran\\u00e7a\", 69445, 107526.46582081824, 26686, \"2005-03-01\"], [2005, 3, \"Paraguai\", 32839, 50846.880424650444, 115880, \"2005-03-01\"], [2005, 3, \"Jap\\u00e3o\", 29876, 46259.06390471259, 64058, \"2005-03-01\"], [2005, 3, \"Guiana\", 16734, 25910.402175038842, 20165, \"2005-03-01\"], [2005, 3, \"Tcheca, Rep\\u00fablica\", 7989, 12369.917711030555, 2022, \"2005-03-01\"], [2005, 3, \"Bol\\u00edvia\", 5534, 8568.672501294666, 14406, \"2005-03-01\"], [2005, 3, \"Angola\", 320, 495.47799067840504, 246, \"2005-03-01\"], [2005, 4, \"Estados Unidos\", 53274, 82232.28322147652, 26792, \"2005-04-01\"], [2005, 4, \"Fran\\u00e7a\", 49735, 76769.5800206505, 20131, \"2005-04-01\"], [2005, 4, \"Paraguai\", 46044, 71072.25379452763, 151780, \"2005-04-01\"], [2005, 4, \"Alemanha\", 45101, 69616.66489416624, 21269, \"2005-04-01\"], [2005, 4, \"It\\u00e1lia\", 28456, 43923.90005162623, 18555, \"2005-04-01\"], [2005, 4, \"Luxemburgo\", 23842, 36801.85637583893, 5850, \"2005-04-01\"], [2005, 4, \"Noruega\", 19320, 29821.82137325762, 13608, \"2005-04-01\"], [2005, 4, \"Dinamarca\", 17500, 27012.519359834798, 25000, \"2005-04-01\"], [2005, 4, \"Jap\\u00e3o\", 13334, 20581.99617965927, 25765, \"2005-04-01\"], [2005, 4, \"Guiana\", 13218, 20402.941765616935, 17925, \"2005-04-01\"], [2005, 4, \"Tcheca, Rep\\u00fablica\", 12200, 18831.584925141975, 3274, \"2005-04-01\"], [2005, 4, \"Finl\\u00e2ndia\", 10769, 16622.732627774913, 5445, \"2005-04-01\"], [2005, 4, \"Bol\\u00edvia\", 3149, 4860.709912235416, 8425, \"2005-04-01\"], [2005, 4, \"Antilhas Holandesas\", 1123, 1733.4319566339702, 1122, \"2005-04-01\"], [2005, 4, \"Gana\", 525, 810.3755807950439, 95, \"2005-04-01\"], [2005, 4, \"Trinidad e Tobago\", 30, 46.307176045431085, 35, \"2005-04-01\"], [2005, 5, \"Paraguai\", 67294, 103926.8236570248, 185901, \"2005-05-01\"], [2005, 5, \"Fran\\u00e7a\", 59246, 91497.73522727274, 25709, \"2005-05-01\"], [2005, 5, \"Estados Unidos\", 36677, 56642.85242768595, 18837, \"2005-05-01\"], [2005, 5, \"Tcheca, Rep\\u00fablica\", 16750, 25868.19473140496, 19900, \"2005-05-01\"], [2005, 5, \"Dinamarca\", 11905, 18385.722882231406, 4172, \"2005-05-01\"], [2005, 5, \"Jap\\u00e3o\", 11219, 17326.285175619836, 11835, \"2005-05-01\"], [2005, 5, \"Angola\", 10193, 15741.761725206614, 10870, \"2005-05-01\"], [2005, 5, \"Pol\\u00f4nia\", 10184, 15727.862396694216, 9909, \"2005-05-01\"], [2005, 5, \"Guiana\", 10039, 15503.92877066116, 8816, \"2005-05-01\"], [2005, 5, \"Alemanha\", 5824, 8994.409917355373, 1296, \"2005-05-01\"], [2005, 5, \"Bol\\u00edvia\", 3857, 5956.634452479339, 8567, \"2005-05-01\"], [2005, 5, \"Argentina\", 336, 518.9082644628099, 93, \"2005-05-01\"], [2005, 5, \"Su\\u00ed\\u00e7a\", 134, 206.9455578512397, 62, \"2005-05-01\"], [2005, 6, \"Estados Unidos\", 82547, 127417.28203407332, 53528, \"2005-06-01\"], [2005, 6, \"Paraguai\", 47392, 73152.98957150233, 139000, \"2005-06-01\"], [2005, 6, \"Fran\\u00e7a\", 23828, 36780.24636035106, 10806, \"2005-06-01\"], [2005, 6, \"Guiana\", 17466, 26960.037893649976, 14485, \"2005-06-01\"], [2005, 6, \"Finl\\u00e2ndia\", 10769, 16622.732627774913, 5445, \"2005-06-01\"], [2005, 6, \"Angola\", 9177, 14165.365152297369, 9598, \"2005-06-01\"], [2005, 6, \"Bol\\u00edvia\", 3050, 4707.896231285494, 7629, \"2005-06-01\"], [2005, 6, \"Tcheca, Rep\\u00fablica\", 799, 1233.3144553433144, 181, \"2005-06-01\"], [2005, 6, \"Alemanha\", 654, 1009.4964377903976, 172, \"2005-06-01\"], [2005, 6, \"Austr\\u00e1lia\", 98, 151.27010841507487, 9, \"2005-06-01\"], [2005, 7, \"Jap\\u00e3o\", 78841, 120947.51457157517, 183810, \"2005-07-01\"], [2005, 7, \"Paraguai\", 66812, 102494.2015392509, 191190, \"2005-07-01\"], [2005, 7, \"Bol\\u00edvia\", 45467, 69749.50400205233, 100184, \"2005-07-01\"], [2005, 7, \"Alemanha\", 35315, 54175.63801949718, 19425, \"2005-07-01\"], [2005, 7, \"Fran\\u00e7a\", 28664, 43972.54674191893, 4380, \"2005-07-01\"], [2005, 7, \"Su\\u00ed\\u00e7a\", 27084, 41548.718111852235, 16020, \"2005-07-01\"], [2005, 7, \"Estados Unidos\", 22946, 35200.74161108261, 13343, \"2005-07-01\"], [2005, 7, \"Guiana\", 16636, 25520.767778347872, 18700, \"2005-07-01\"], [2005, 7, \"R\\u00fassia\", 15994, 24535.895638789123, 40800, \"2005-07-01\"], [2005, 7, \"Taiwan (Formosa)\", 4840, 7424.89276552078, 925, \"2005-07-01\"], [2005, 7, \"Chile\", 1377, 2112.412673165726, 435, \"2005-07-01\"], [2005, 7, \"Col\\u00f4mbia\", 463, 710.2738327347357, 312, \"2005-07-01\"], [2005, 7, \"Argentina\", 8, 12.272550025654182, 5, \"2005-07-01\"], [2005, 8, \"Estados Unidos\", 122737, 187134.80688424275, 63454, \"2005-08-01\"], [2005, 8, \"Paraguai\", 122076, 186126.99255481898, 346136, \"2005-08-01\"], [2005, 8, \"Tcheca, Rep\\u00fablica\", 27801, 42387.66440591535, 5694, \"2005-08-01\"], [2005, 8, \"It\\u00e1lia\", 23736, 36189.834982151966, 17622, \"2005-08-01\"], [2005, 8, \"Su\\u00ed\\u00e7a\", 21448, 32701.364201937788, 6197, \"2005-08-01\"], [2005, 8, \"Jap\\u00e3o\", 21246, 32393.37858235594, 49864, \"2005-08-01\"], [2005, 8, \"Bol\\u00edvia\", 10314, 15725.56277409485, 21956, \"2005-08-01\"], [2005, 8, \"Guiana\", 1127, 1718.3158082610912, 1500, \"2005-08-01\"], [2005, 9, \"Estados Unidos\", 52808, 79421.85070422535, 21112, \"2005-09-01\"], [2005, 9, \"R\\u00fassia\", 40000, 60158.953722334, 96000, \"2005-09-01\"], [2005, 9, \"Paraguai\", 39008, 58667.01167002012, 102465, \"2005-09-01\"], [2005, 9, \"Bol\\u00edvia\", 19151, 28802.603068410463, 31172, \"2005-09-01\"], [2005, 9, \"Jap\\u00e3o\", 15389, 23144.65347082495, 48085, \"2005-09-01\"], [2005, 9, \"Guiana\", 13854, 20836.05362173038, 19748, \"2005-09-01\"], [2005, 9, \"Angola\", 12117, 18223.65105633803, 4129, \"2005-09-01\"], [2005, 9, \"Nig\\u00e9ria\", 2600, 3910.3319919517103, 2025, \"2005-09-01\"], [2005, 9, \"Antilhas Holandesas\", 707, 1063.3095070422535, 740, \"2005-09-01\"], [2005, 9, \"Canad\\u00e1\", 48, 72.1907444668008, 37, \"2005-09-01\"], [2005, 10, \"Estados Unidos\", 49615, 74507.2267704671, 23099, \"2005-10-01\"], [2005, 10, \"Paraguai\", 30673, 46061.87980914114, 53986, \"2005-10-01\"], [2005, 10, \"Reino Unido\", 20871, 31342.14108488197, 5625, \"2005-10-01\"], [2005, 10, \"Jap\\u00e3o\", 16508, 24790.190457056757, 33675, \"2005-10-01\"], [2005, 10, \"R\\u00fassia\", 15994, 24018.312707182322, 40800, \"2005-10-01\"], [2005, 10, \"Tcheca, Rep\\u00fablica\", 15721, 23608.346509291812, 4334, \"2005-10-01\"], [2005, 10, \"Bol\\u00edvia\", 12154, 18251.755198392766, 14755, \"2005-10-01\"], [2005, 10, \"Finl\\u00e2ndia\", 11748, 17642.061878453038, 5940, \"2005-10-01\"], [2005, 10, \"Guiana\", 6265, 9408.198643897538, 7950, \"2005-10-01\"], [2005, 10, \"Angola\", 1942, 2916.31632345555, 332, \"2005-10-01\"], [2005, 10, \"Argentina\", 958, 1438.635961828227, 441, \"2005-10-01\"], [2005, 10, \"Antilhas Holandesas\", 937, 1407.1001004520342, 926, \"2005-10-01\"], [2005, 11, \"Paraguai\", 86495, 130545.88616860172, 243272, \"2005-11-01\"], [2005, 11, \"Estados Unidos\", 68789, 103822.42862190813, 50435, \"2005-11-01\"], [2005, 11, \"Jap\\u00e3o\", 47203, 71242.93271075215, 96331, \"2005-11-01\"], [2005, 11, \"Bol\\u00edvia\", 33108, 49969.51499242807, 71147, \"2005-11-01\"], [2005, 11, \"Tcheca, Rep\\u00fablica\", 29975, 45240.91494194851, 5983, \"2005-11-01\"], [2005, 11, \"Portugal\", 28733, 43366.37895002524, 17741, \"2005-11-01\"], [2005, 11, \"It\\u00e1lia\", 27205, 41060.18652195861, 18776, \"2005-11-01\"], [2005, 11, \"Guiana\", 13101, 19773.18520949016, 9720, \"2005-11-01\"], [2005, 11, \"Guin\\u00e9-Bissau\", 11182, 16876.861080262493, 13000, \"2005-11-01\"], [2005, 11, \"Alemanha\", 5945, 8972.718576476527, 1515, \"2005-11-01\"], [2005, 11, \"Rep\\u00fablica Dominicana\", 1188, 1793.034427057042, 50, \"2005-11-01\"], [2005, 11, \"Canad\\u00e1\", 801, 1208.9398788490662, 117, \"2005-11-01\"], [2005, 11, \"Fran\\u00e7a\", 769, 1160.6426552246342, 174, \"2005-11-01\"], [2005, 11, \"Trinidad e Tobago\", 30, 45.2786471479051, 19, \"2005-11-01\"], [2005, 11, \"Pa\\u00edses Baixos (Holanda)\", 6, 9.055729429581021, 5, \"2005-11-01\"], [2005, 11, \"B\\u00e9lgica\", 6, 9.055729429581021, 5, \"2005-11-01\"], [2005, 11, \"Luxemburgo\", 6, 9.055729429581021, 5, \"2005-11-01\"], [2005, 12, \"Paraguai\", 153243, 231287.85749621404, 372465, \"2005-12-01\"], [2005, 12, \"Bol\\u00edvia\", 42944, 64814.87410398789, 95887, \"2005-12-01\"], [2005, 12, \"Estados Unidos\", 30177, 45545.79116607774, 24306, \"2005-12-01\"], [2005, 12, \"B\\u00e9lgica\", 28743, 43381.47183240788, 6750, \"2005-12-01\"], [2005, 12, \"Guiana\", 22413, 33827.6772841999, 23828, \"2005-12-01\"], [2005, 12, \"Tcheca, Rep\\u00fablica\", 18720, 28253.875820292782, 24000, \"2005-12-01\"], [2005, 12, \"Jap\\u00e3o\", 16316, 24625.54689550732, 47988, \"2005-12-01\"], [2005, 12, \"Noruega\", 12096, 18256.350530035335, 4298, \"2005-12-01\"], [2005, 12, \"Fran\\u00e7a\", 9660, 14579.724381625441, 3496, \"2005-12-01\"], [2005, 12, \"Antilhas Holandesas\", 3439, 5190.442251388188, 1471, \"2005-12-01\"], [2005, 12, \"Reino Unido\", 2718, 4102.245431600202, 297, \"2005-12-01\"], [2006, 1, \"Paraguai\", 50698, 76057.17521324636, 127889, \"2006-01-01\"], [2006, 1, \"Estados Unidos\", 10115, 15174.53010536879, 6626, \"2006-01-01\"], [2006, 1, \"Dinamarca\", 2068, 3102.415052684395, 558, \"2006-01-01\"], [2006, 1, \"Pa\\u00edses Baixos (Holanda)\", 1898, 2847.3809332664323, 451, \"2006-01-01\"], [2006, 1, \"Antilhas Holandesas\", 1467, 2200.7944305067736, 1596, \"2006-01-01\"], [2006, 1, \"Vietn\\u00e3\", 112, 168.02247867536377, 57, \"2006-01-01\"], [2006, 2, \"Paraguai\", 44716, 67049.33219658978, 124279, \"2006-02-01\"], [2006, 2, \"Estados Unidos\", 21873, 32797.433650952866, 16287, \"2006-02-01\"], [2006, 2, \"Fran\\u00e7a\", 15658, 23478.362186559683, 7560, \"2006-02-01\"], [2006, 2, \"Reino Unido\", 14904, 22347.778134403212, 24193, \"2006-02-01\"], [2006, 2, \"Jap\\u00e3o\", 10860, 16284.009027081245, 7875, \"2006-02-01\"], [2006, 3, \"Paraguai\", 123583, 185027.9477716575, 341456, \"2006-03-01\"], [2006, 3, \"Estados Unidos\", 123140, 184364.69003505257, 75261, \"2006-03-01\"], [2006, 3, \"R\\u00fassia\", 59120, 88514.21532298447, 181200, \"2006-03-01\"], [2006, 3, \"Alemanha\", 50702, 75910.82113169755, 22680, \"2006-03-01\"], [2006, 3, \"Tcheca, Rep\\u00fablica\", 16735, 25055.571607411115, 2554, \"2006-03-01\"], [2006, 3, \"Benin\", 12075, 18078.63920881322, 10350, \"2006-03-01\"], [2006, 3, \"Gr\\u00e9cia\", 1535, 2298.1955433149724, 142, \"2006-03-01\"], [2006, 3, \"Antilhas Holandesas\", 1467, 2196.386229344016, 1596, \"2006-03-01\"], [2006, 3, \"Reino Unido\", 252, 377.293340010015, 113, \"2006-03-01\"], [2006, 4, \"Paraguai\", 72143, 107474.01878425512, 169926, \"2006-04-01\"], [2006, 4, \"Estados Unidos\", 58133, 86602.81848530145, 29012, \"2006-04-01\"], [2006, 4, \"R\\u00fassia\", 30744, 45800.44125560539, 37800, \"2006-04-01\"], [2006, 4, \"Qu\\u00eania\", 15069, 22448.830642750378, 10600, \"2006-04-01\"], [2006, 4, \"Portugal\", 13200, 19664.514200298956, 17732, \"2006-04-01\"], [2006, 4, \"B\\u00e9lgica\", 13200, 19664.514200298956, 17732, \"2006-04-01\"], [2006, 4, \"Su\\u00e9cia\", 12000, 17876.83109118087, 16120, \"2006-04-01\"], [2006, 4, \"Jap\\u00e3o\", 5633, 8391.682461385153, 875, \"2006-04-01\"], [2006, 4, \"Est\\u00f4nia\", 1568, 2335.9059292476336, 670, \"2006-04-01\"], [2006, 4, \"Su\\u00ed\\u00e7a\", 740, 1102.4045839561536, 240, \"2006-04-01\"], [2006, 5, \"Su\\u00ed\\u00e7a\", 92316, 137116.54664679582, 35965, \"2006-05-01\"], [2006, 5, \"Estados Unidos\", 59319, 88106.24843517138, 34696, \"2006-05-01\"], [2006, 5, \"B\\u00e9lgica\", 39599, 58816.219622454046, 38839, \"2006-05-01\"], [2006, 5, \"Paraguai\", 24027, 35687.19687034277, 37028, \"2006-05-01\"], [2006, 5, \"Tcheca, Rep\\u00fablica\", 22075, 32787.8999006458, 4544, \"2006-05-01\"], [2006, 5, \"Jap\\u00e3o\", 21178, 31455.589766517634, 15415, \"2006-05-01\"], [2006, 5, \"Alemanha\", 6802, 10102.980526577247, 2296, \"2006-05-01\"], [2006, 5, \"Luxemburgo\", 5354, 7952.272528564332, 1220, \"2006-05-01\"], [2006, 5, \"Emirados \\u00c1rabes Unidos\", 1446, 2147.7374068554395, 363, \"2006-05-01\"], [2006, 6, \"Estados Unidos\", 56914, 84324.66233894946, 38517, \"2006-06-01\"], [2006, 6, \"Paraguai\", 53959, 79946.48865213082, 118234, \"2006-06-01\"], [2006, 6, \"Jap\\u00e3o\", 15702, 23264.325966303273, 15300, \"2006-06-01\"], [2006, 6, \"Dinamarca\", 6349, 9406.776560951437, 2247, \"2006-06-01\"], [2006, 6, \"Antilhas Holandesas\", 2825, 4185.56367690783, 2208, \"2006-06-01\"], [2006, 6, \"Canad\\u00e1\", 2202, 3262.5172447968284, 450, \"2006-06-01\"], [2006, 7, \"Paraguai\", 45799, 67488.62991621488, 107398, \"2006-07-01\"], [2006, 7, \"Estados Unidos\", 34169, 50350.85909314934, 33790, \"2006-07-01\"], [2006, 7, \"Bol\\u00edvia\", 6961, 10257.611582060128, 5822, \"2006-07-01\"], [2006, 7, \"Alemanha\", 1063, 1566.4187777230163, 200, \"2006-07-01\"], [2006, 8, \"Su\\u00ed\\u00e7a\", 83580, 122618.17566241413, 35580, \"2006-08-01\"], [2006, 8, \"Paraguai\", 61989, 90942.54715407261, 123205, \"2006-08-01\"], [2006, 8, \"Estados Unidos\", 47545, 69752.107703631, 34394, \"2006-08-01\"], [2006, 8, \"Reino Unido\", 34270, 50276.679587831204, 13870, \"2006-08-01\"], [2006, 8, \"Tcheca, Rep\\u00fablica\", 18920, 27757.06967615309, 6322, \"2006-08-01\"], [2006, 8, \"Jap\\u00e3o\", 15445, 22658.982090284593, 21960, \"2006-08-01\"], [2006, 8, \"Finl\\u00e2ndia\", 7920, 11619.23846908734, 11088, \"2006-08-01\"], [2006, 8, \"Antilhas Holandesas\", 3742, 5489.796761530913, 3654, \"2006-08-01\"], [2006, 8, \"Suriname\", 2325, 3410.9506869479883, 1000, \"2006-08-01\"], [2006, 8, \"Uruguai\", 1685, 2472.022325809617, 1008, \"2006-08-01\"], [2006, 9, \"Paraguai\", 163054, 240392.08806706112, 329450, \"2006-09-01\"], [2006, 9, \"Jap\\u00e3o\", 64956, 95765.25857988164, 113075, \"2006-09-01\"], [2006, 9, \"Fran\\u00e7a\", 19180, 28277.25936883629, 9450, \"2006-09-01\"], [2006, 9, \"Estados Unidos\", 18918, 27890.990236686386, 16308, \"2006-09-01\"], [2006, 9, \"Alemanha\", 17120, 25240.181459566073, 10264, \"2006-09-01\"], [2006, 9, \"Antilhas Holandesas\", 7788, 11481.923668639052, 4635, \"2006-09-01\"], [2006, 9, \"It\\u00e1lia\", 5423, 7995.18131163708, 2709, \"2006-09-01\"], [2006, 9, \"Chile\", 2893, 4265.177859960552, 1988, \"2006-09-01\"], [2006, 9, \"Bulg\\u00e1ria\", 712, 1049.7084812623273, 82, \"2006-09-01\"], [2006, 9, \"Chipre\", 96, 141.53372781065087, 134, \"2006-09-01\"], [2006, 9, \"Togo\", 21, 30.96050295857988, 24, \"2006-09-01\"], [2006, 10, \"Paraguai\", 85222, 126203.69380881623, 186472, \"2006-10-01\"], [2006, 10, \"Su\\u00ed\\u00e7a\", 77070, 114131.54680534916, 35380, \"2006-10-01\"], [2006, 10, \"R\\u00fassia\", 74880, 110888.41604754828, 115200, \"2006-10-01\"], [2006, 10, \"Estados Unidos\", 54466, 80657.69856364536, 39455, \"2006-10-01\"], [2006, 10, \"Tcheca, Rep\\u00fablica\", 20166, 29863.458841010397, 4717, \"2006-10-01\"], [2006, 10, \"Jap\\u00e3o\", 19833, 29370.325260029713, 21640, \"2006-10-01\"], [2006, 10, \"Angola\", 13932, 20631.642793462106, 3226, \"2006-10-01\"], [2006, 10, \"Est\\u00f4nia\", 3013, 4461.896334819217, 1304, \"2006-10-01\"], [2006, 10, \"Vietn\\u00e3\", 2250, 3331.9836552748884, 1956, \"2006-10-01\"], [2006, 10, \"\\u00cdndia\", 33, 48.86909361069836, 14, \"2006-10-01\"], [2006, 11, \"Jap\\u00e3o\", 66152, 97914.78455445546, 106141, \"2006-11-01\"], [2006, 11, \"Estados Unidos\", 65473, 96909.7637128713, 40685, \"2006-11-01\"], [2006, 11, \"Paraguai\", 57885, 85678.39678217823, 122037, \"2006-11-01\"], [2006, 11, \"Tcheca, Rep\\u00fablica\", 27680, 40970.510891089114, 6113, \"2006-11-01\"], [2006, 11, \"Alemanha\", 12521, 18532.939554455446, 2502, \"2006-11-01\"], [2006, 11, \"Angola\", 4361, 6454.927673267327, 540, \"2006-11-01\"], [2006, 11, \"Reino Unido\", 400, 592.059405940594, 105, \"2006-11-01\"], [2006, 12, \"Paraguai\", 90561, 133317.74194977843, 159732, \"2006-12-01\"], [2006, 12, \"Su\\u00ed\\u00e7a\", 51425, 75704.38577055637, 23908, \"2006-12-01\"], [2006, 12, \"Estados Unidos\", 41664, 61334.905760709014, 27559, \"2006-12-01\"], [2006, 12, \"Jap\\u00e3o\", 20575, 30289.11496799606, 22750, \"2006-12-01\"], [2006, 12, \"Antilhas Holandesas\", 7130, 10496.300837026096, 5427, \"2006-12-01\"], [2006, 12, \"Alemanha\", 6070, 8935.84096504185, 546, \"2006-12-01\"], [2006, 12, \"Panam\\u00e1\", 55, 80.96725750861644, 13, \"2006-12-01\"], [2007, 1, \"Jap\\u00e3o\", 39246, 57679.584048132834, 64197, \"2007-01-01\"], [2007, 1, \"Estados Unidos\", 38199, 56140.815141788364, 26061, \"2007-01-01\"], [2007, 1, \"Paraguai\", 19418, 28538.504893406804, 36702, \"2007-01-01\"], [2007, 1, \"Canad\\u00e1\", 5919, 8699.11476280126, 1186, \"2007-01-01\"], [2007, 1, \"Bol\\u00edvia\", 3550, 5217.411287032349, 4985, \"2007-01-01\"], [2007, 1, \"Angola\", 1399, 2056.1009550868325, 2925, \"2007-01-01\"], [2007, 1, \"It\\u00e1lia\", 60, 88.18159921744815, 9, \"2007-01-01\"], [2007, 2, \"Estados Unidos\", 78294, 114623.61824645246, 53518, \"2007-02-01\"], [2007, 2, \"Tcheca, Rep\\u00fablica\", 51132, 74858.03315934309, 32078, \"2007-02-01\"], [2007, 2, \"Jap\\u00e3o\", 32550, 47653.699822745395, 42000, \"2007-02-01\"], [2007, 2, \"Paraguai\", 23827, 34883.09387639184, 42032, \"2007-02-01\"], [2007, 2, \"Alemanha\", 17458, 25558.78007697355, 7345, \"2007-02-01\"], [2007, 2, \"Canad\\u00e1\", 5919, 8665.50688942642, 1186, \"2007-02-01\"], [2007, 2, \"B\\u00e9lgica\", 3751, 5491.521598621136, 1077, \"2007-02-01\"], [2007, 2, \"Antilhas Holandesas\", 2338, 3422.867901246658, 2640, \"2007-02-01\"], [2007, 3, \"Paraguai\", 48498, 70634.5086902303, 93411, \"2007-03-01\"], [2007, 3, \"Estados Unidos\", 44757, 65185.96035813101, 31350, \"2007-03-01\"], [2007, 3, \"Jap\\u00e3o\", 23730, 34561.3611121936, 42000, \"2007-03-01\"], [2007, 3, \"Tcheca, Rep\\u00fablica\", 19920, 29012.31830404115, 24000, \"2007-03-01\"], [2007, 3, \"Noruega\", 10044, 14628.500253302675, 10044, \"2007-03-01\"], [2007, 3, \"Cuba\", 4788, 6973.44277307977, 2352, \"2007-03-01\"], [2007, 3, \"Dinamarca\", 4179, 6086.469788784536, 1155, \"2007-03-01\"], [2021, 8, \"Barbados\", 32, 35.06314362150475, 10, \"2021-08-01\"], [2021, 8, \"Tail\\u00e2ndia\", 32, 35.06314362150475, 6, \"2021-08-01\"], [2021, 8, \"Bangladesh\", 20, 21.91446476344047, 2, \"2021-08-01\"], [2021, 8, \"Cayman, Ilhas\", 19, 20.818741525268447, 12, \"2021-08-01\"], [2021, 8, \"Dinamarca\", 4, 4.382892952688094, 0, \"2021-08-01\"], [2021, 9, \"Paraguai\", 830549, 906206.1012378297, 807598, \"2021-09-01\"], [2021, 9, \"Uruguai\", 39756, 43377.48857780956, 36288, \"2021-09-01\"], [2021, 9, \"Cura\\u00e7ao\", 33533, 36587.61757922548, 18029, \"2021-09-01\"], [2021, 9, \"Haiti\", 19210, 20959.894244383784, 15300, \"2021-09-01\"], [2021, 9, \"Venezuela\", 12730, 13889.612375377697, 8820, \"2021-09-01\"], [2021, 9, \"Su\\u00ed\\u00e7a\", 6797, 7416.158312289254, 505, \"2021-09-01\"], [2021, 9, \"Tcheca, Rep\\u00fablica\", 5988, 6533.464171544513, 456, \"2021-09-01\"], [2021, 9, \"Malta\", 4544, 4957.926051352416, 612, \"2021-09-01\"], [2021, 9, \"B\\u00e9lgica\", 3557, 3881.0173777862115, 450, \"2021-09-01\"], [2021, 9, \"Portugal\", 2576, 2810.655261506123, 344, \"2021-09-01\"], [2021, 9, \"Estados Unidos\", 2570, 2804.1087042200065, 4410, \"2021-09-01\"], [2021, 9, \"Panam\\u00e1\", 2522, 2751.7362459310725, 1099, \"2021-09-01\"], [2021, 9, \"Reino Unido\", 2272, 2478.963025676208, 805, \"2021-09-01\"], [2021, 9, \"Hong Kong\", 2252, 2457.141168055819, 842, \"2021-09-01\"], [2021, 9, \"Lib\\u00e9ria\", 1870, 2040.343687506386, 708, \"2021-09-01\"], [2021, 9, \"Singapura\", 1551, 1692.285058461179, 348, \"2021-09-01\"], [2021, 9, \"China\", 985, 1074.726487804166, 296, \"2021-09-01\"], [2021, 9, \"Marshall, Ilhas\", 881, 961.2528281781423, 316, \"2021-09-01\"], [2021, 9, \"Chipre\", 740, 807.4087319543987, 208, \"2021-09-01\"], [2021, 9, \"Noruega\", 581, 633.9249638723049, 155, \"2021-09-01\"], [2021, 9, \"Pa\\u00edses Baixos (Holanda)\", 565, 616.4674777759936, 217, \"2021-09-01\"], [2021, 9, \"Guiana\", 549, 599.0099916796823, 173, \"2021-09-01\"], [2021, 9, \"Bahamas\", 479, 522.6334900083202, 122, \"2021-09-01\"], [2021, 9, \"Tail\\u00e2ndia\", 393, 428.7995022406469, 77, \"2021-09-01\"], [2021, 9, \"Gr\\u00e9cia\", 326, 355.69627921234326, 63, \"2021-09-01\"], [2021, 9, \"Ant\\u00edgua e Barbuda\", 247, 269.4999416118061, 107, \"2021-09-01\"], [2021, 9, \"Ilha de Man\", 237, 258.5890128016115, 18, \"2021-09-01\"], [2021, 9, \"Ir\\u00e3\", 151, 164.75502503393813, 67, \"2021-09-01\"], [2021, 9, \"Filipinas\", 128, 139.6598887704906, 62, \"2021-09-01\"], [2021, 9, \"Alemanha\", 123, 134.2044243653933, 43, \"2021-09-01\"], [2021, 9, \"Cayman, Ilhas\", 107, 116.74693826908198, 28, \"2021-09-01\"], [2021, 9, \"Montenegro\", 46, 50.19027252689506, 10, \"2021-09-01\"], [2021, 9, \"Jap\\u00e3o\", 43, 46.91699388383668, 19, \"2021-09-01\"], [2021, 9, \"It\\u00e1lia\", 40, 43.64371524077831, 11, \"2021-09-01\"], [2021, 10, \"Paraguai\", 551410, 596213.2340283956, 610414, \"2021-10-01\"], [2021, 10, \"Haiti\", 222300, 240362.3472996724, 171000, \"2021-10-01\"], [2021, 10, \"Reino Unido\", 61752, 66769.48119860265, 14875, \"2021-10-01\"], [2021, 10, \"China\", 58358, 63099.711487693574, 10840, \"2021-10-01\"], [2021, 10, \"Uruguai\", 35546, 38434.188021206275, 32446, \"2021-10-01\"], [2021, 10, \"Col\\u00f4mbia\", 13757, 14874.785478189802, 9306, \"2021-10-01\"], [2021, 10, \"Estados Unidos\", 12323, 13324.269931506356, 1914, \"2021-10-01\"], [2021, 10, \"Nova Zel\\u00e2ndia\", 10008, 10821.17126304598, 540, \"2021-10-01\"], [2021, 10, \"Nig\\u00e9ria\", 9538, 10312.98276448167, 4725, \"2021-10-01\"], [2021, 10, \"Emirados \\u00c1rabes Unidos\", 7440, 8044.51580706056, 180, \"2021-10-01\"], [2021, 10, \"Fran\\u00e7a\", 4387, 4743.453070641758, 900, \"2021-10-01\"], [2021, 10, \"Pa\\u00edses Baixos (Holanda)\", 4011, 4336.90227179031, 1982, \"2021-10-01\"], [2021, 10, \"Panam\\u00e1\", 2692, 2910.7307194364284, 1662, \"2021-10-01\"], [2021, 10, \"Gana\", 1772, 1915.9787647999076, 1890, \"2021-10-01\"], [2021, 10, \"Lib\\u00e9ria\", 1612, 1742.9784248631215, 344, \"2021-10-01\"], [2021, 10, \"Marshall, Ilhas\", 1455, 1573.22184130015, 1131, \"2021-10-01\"], [2021, 10, \"Bahamas\", 1343, 1452.1216033443995, 24, \"2021-10-01\"], [2021, 10, \"Guiana\", 1321, 1428.3340566030915, 500, \"2021-10-01\"], [2021, 10, \"Hong Kong\", 1098, 1187.2148328161957, 421, \"2021-10-01\"], [2021, 10, \"Malta\", 1052, 1137.4772350843696, 246, \"2021-10-01\"], [2021, 10, \"Portugal\", 785, 848.7829178148576, 290, \"2021-10-01\"], [2021, 10, \"Singapura\", 766, 828.2391274473641, 282, \"2021-10-01\"], [2021, 10, \"Noruega\", 680, 735.2514447313415, 63, \"2021-10-01\"], [2021, 10, \"Tail\\u00e2ndia\", 292, 315.7256203846349, 81, \"2021-10-01\"], [2021, 10, \"Ant\\u00edgua e Barbuda\", 254, 274.6380396496482, 63, \"2021-10-01\"], [2021, 10, \"Gr\\u00e9cia\", 242, 261.6630141543892, 87, \"2021-10-01\"], [2021, 10, \"Jap\\u00e3o\", 166, 179.48785268441574, 45, \"2021-10-01\"], [2021, 10, \"Canad\\u00e1\", 161, 174.08159206139115, 92, \"2021-10-01\"], [2021, 10, \"Filipinas\", 132, 142.72528044784866, 18, \"2021-10-01\"], [2021, 10, \"Chipre\", 84, 90.82517846681279, 13, \"2021-10-01\"], [2021, 10, \"Su\\u00ed\\u00e7a\", 53, 57.306362604060446, 12, \"2021-10-01\"], [2021, 10, \"Dinamarca\", 25, 27.031303115122853, 9, \"2021-10-01\"], [2021, 10, \"Brasil\", 15, 16.21878186907371, 5, \"2021-10-01\"], [2021, 10, \"Chile\", 5, 5.40626062302457, 19, \"2021-10-01\"], [2021, 11, \"Paraguai\", 245031, 262859.4446936074, 249503, \"2021-11-01\"], [2021, 11, \"Haiti\", 133348, 143050.39456641467, 108416, \"2021-11-01\"], [2021, 11, \"R\\u00fassia\", 66867, 71732.23995464836, 38876, \"2021-11-01\"], [2021, 11, \"Nig\\u00e9ria\", 45054, 48332.127041989734, 23094, \"2021-11-01\"], [2021, 11, \"China\", 36461, 39113.900743063605, 5506, \"2021-11-01\"], [2021, 11, \"Guatemala\", 29100, 31217.31470950196, 17347, \"2021-11-01\"], [2021, 11, \"Estados Unidos\", 17864, 19163.783847784984, 14287, \"2021-11-01\"], [2021, 11, \"Jap\\u00e3o\", 15242, 16351.007244062848, 9480, \"2021-11-01\"], [2021, 11, \"Hong Kong\", 5994, 6430.123174184012, 1030, \"2021-11-01\"], [2021, 11, \"Marshall, Ilhas\", 3609, 3871.5906799516347, 908, \"2021-11-01\"], [2021, 11, \"Panam\\u00e1\", 3493, 3747.150525095888, 1053, \"2021-11-01\"], [2021, 11, \"Lib\\u00e9ria\", 2348, 2518.8403758732165, 769, \"2021-11-01\"], [2021, 11, \"Togo\", 2012, 2158.3930307738124, 1890, \"2021-11-01\"], [2021, 11, \"Reino Unido\", 1782, 1911.6582409736252, 485, \"2021-11-01\"], [2021, 11, \"Tail\\u00e2ndia\", 1224, 1313.0581857192576, 1061, \"2021-11-01\"], [2021, 11, \"Guiana\", 1144, 1227.2373892670187, 480, \"2021-11-01\"], [2021, 11, \"Singapura\", 944, 1012.685398136421, 300, \"2021-11-01\"], [2021, 11, \"Malta\", 837, 897.9000828815513, 206, \"2021-11-01\"], [2021, 11, \"Noruega\", 690, 740.204369400562, 56, \"2021-11-01\"], [2021, 11, \"Gr\\u00e9cia\", 684, 733.767809666644, 210, \"2021-11-01\"], [2021, 11, \"Dominica\", 634, 680.1298118839946, 460, \"2021-11-01\"], [2021, 11, \"Barbados\", 325, 348.6469855872212, 97, \"2021-11-01\"], [2021, 11, \"Ant\\u00edgua e Barbuda\", 311, 333.6283462080794, 69, \"2021-11-01\"], [2021, 11, \"Chipre\", 275, 295.0089878045718, 91, \"2021-11-01\"], [2021, 11, \"Cura\\u00e7ao\", 230, 246.73478980018731, 45, \"2021-11-01\"], [2021, 11, \"Portugal\", 154, 165.2050331705602, 37, \"2021-11-01\"], [2021, 11, \"Cabo Verde\", 124, 133.02223450097054, 16, \"2021-11-01\"], [2021, 11, \"Bahamas\", 89, 95.47563605311596, 33, \"2021-11-01\"], [2021, 11, \"Su\\u00e9cia\", 74, 79.38423671832113, 23, \"2021-11-01\"], [2021, 11, \"Cayman, Ilhas\", 73, 78.31147676266815, 9, \"2021-11-01\"], [2021, 11, \"It\\u00e1lia\", 62, 66.51111725048527, 14, \"2021-11-01\"], [2021, 11, \"Afeganist\\u00e3o\", 46, 49.346957960037464, 11, \"2021-11-01\"], [2021, 11, \"Filipinas\", 32, 34.328318580895626, 9, \"2021-11-01\"], [2021, 11, \"Pa\\u00edses Baixos (Holanda)\", 30, 32.18279866958965, 10, \"2021-11-01\"], [2021, 11, \"Argentina\", 13, 13.945879423488847, 6, \"2021-11-01\"], [2021, 11, \"Chile\", 1, 1.0727599556529883, 7, \"2021-11-01\"], [2021, 12, \"Paraguai\", 248480, 264494.38813473034, 200666, \"2021-12-01\"], [2021, 12, \"Uruguai\", 74540, 79344.05864279943, 68040, \"2021-12-01\"], [2021, 12, \"Estados Unidos\", 44430, 47293.48706063293, 23634, \"2021-12-01\"], [2021, 12, \"Haiti\", 36384, 38728.92714863985, 34110, \"2021-12-01\"], [2021, 12, \"Portugal\", 30989, 32986.222609091914, 2818, \"2021-12-01\"], [2021, 12, \"Jap\\u00e3o\", 27563, 29339.418947833117, 8985, \"2021-12-01\"], [2021, 12, \"China\", 11814, 12575.405269734805, 1607, \"2021-12-01\"], [2021, 12, \"Pa\\u00edses Baixos (Holanda)\", 2899, 3085.8388248655156, 1222, \"2021-12-01\"], [2021, 12, \"Marshall, Ilhas\", 2282, 2429.073542029357, 696, \"2021-12-01\"], [2021, 12, \"Panam\\u00e1\", 2057, 2189.5724259221683, 787, \"2021-12-01\"], [2021, 12, \"Fran\\u00e7a\", 2027, 2157.638943774543, 344, \"2021-12-01\"], [2021, 12, \"Suriname\", 1472, 1566.8695240434768, 900, \"2021-12-01\"], [2021, 12, \"Singapura\", 1187, 1263.5014436410372, 518, \"2021-12-01\"], [2021, 12, \"Hong Kong\", 1142, 1215.6012204195995, 428, \"2021-12-01\"], [2021, 12, \"Noruega\", 1138, 1211.3434227999162, 209, \"2021-12-01\"], [2021, 12, \"Lib\\u00e9ria\", 1085, 1154.9276043391117, 322, \"2021-12-01\"], [2021, 12, \"Reino Unido\", 847, 901.5886459679516, 213, \"2021-12-01\"], [2021, 12, \"Bahamas\", 844, 898.3952977531891, 138, \"2021-12-01\"], [2021, 12, \"Turquia\", 823, 876.0418602498514, 225, \"2021-12-01\"], [2021, 12, \"Malta\", 462, 491.77562507342816, 238, \"2021-12-01\"], [2021, 12, \"Gr\\u00e9cia\", 446, 474.7444345946947, 78, \"2021-12-01\"], [2021, 12, \"Chipre\", 417, 443.8754018519904, 142, \"2021-12-01\"], [2021, 12, \"Filipinas\", 333, 354.4616518386398, 75, \"2021-12-01\"], [2021, 12, \"Barbados\", 323, 343.81715778943135, 62, \"2021-12-01\"], [2021, 12, \"Ant\\u00edgua e Barbuda\", 175, 186.27864586114703, 123, \"2021-12-01\"], [2021, 12, \"Gana\", 150, 159.66741073812602, 90, \"2021-12-01\"], [2021, 12, \"Ilha de Man\", 111, 118.15388394621326, 32, \"2021-12-01\"], [2021, 12, \"It\\u00e1lia\", 87, 92.60709822811309, 17, \"2021-12-01\"], [2021, 12, \"Su\\u00ed\\u00e7a\", 53, 56.41581846080453, 26, \"2021-12-01\"], [2021, 12, \"Guiana Francesa\", 32, 34.062380957466885, 90, \"2021-12-01\"], [2021, 12, \"Brasil\", 31, 32.99793155254604, 26, \"2021-12-01\"], [2021, 12, \"Montenegro\", 19, 20.224538693495962, 4, \"2021-12-01\"], [2021, 12, \"Cayman, Ilhas\", 10, 10.6444940492084, 2, \"2021-12-01\"], [2021, 12, \"\\u00cdndia\", 9, 9.580044644287561, 2, \"2021-12-01\"], [2022, 1, \"Paraguai\", 311727, 329807.4505925357, 247811, \"2022-01-01\"], [2022, 1, \"Haiti\", 70433, 74518.17830211714, 55599, \"2022-01-01\"], [2022, 1, \"Uruguai\", 38011, 40215.67270230964, 34209, \"2022-01-01\"], [2022, 1, \"China\", 31053, 32854.102349972934, 7332, \"2022-01-01\"], [2022, 1, \"Cura\\u00e7ao\", 20642, 21839.25484520469, 15165, \"2022-01-01\"], [2022, 1, \"Reino Unido\", 13851, 14654.370645331372, 1535, \"2022-01-01\"], [2022, 1, \"Fran\\u00e7a\", 8374, 8859.699645080133, 2439, \"2022-01-01\"], [2022, 1, \"Bol\\u00edvia\", 7391, 7819.684747645958, 3835, \"2022-01-01\"], [2022, 1, \"Canad\\u00e1\", 4839, 5119.666417786334, 1080, \"2022-01-01\"], [2022, 1, \"Angola\", 4761, 5037.142346575891, 4068, \"2022-01-01\"], [2022, 1, \"Lib\\u00e9ria\", 3738, 3954.807412623541, 969, \"2022-01-01\"], [2022, 1, \"Panam\\u00e1\", 3066, 3243.8307991181855, 954, \"2022-01-01\"], [2022, 1, \"Marshall, Ilhas\", 2196, 2323.3700048478586, 879, \"2022-01-01\"], [2022, 1, \"Hong Kong\", 2021, 2138.219845080839, 593, \"2022-01-01\"], [2022, 1, \"Pa\\u00edses Baixos (Holanda)\", 1919, 2030.3037519594905, 825, \"2022-01-01\"], [2022, 1, \"Malta\", 1700, 1798.601552022477, 369, \"2022-01-01\"], [2022, 1, \"Singapura\", 1417, 1499.1872936563825, 287, \"2022-01-01\"], [2022, 1, \"It\\u00e1lia\", 1140, 1206.1210407680142, 225, \"2022-01-01\"], [2022, 1, \"Portugal\", 822, 869.6767504485155, 287, \"2022-01-01\"], [2022, 1, \"Bahamas\", 659, 697.2226016369485, 101, \"2022-01-01\"], [2022, 1, \"Ant\\u00edgua e Barbuda\", 555, 587.1905066896911, 210, \"2022-01-01\"], [2022, 1, \"Gr\\u00e9cia\", 372, 393.57633961903616, 66, \"2022-01-01\"], [2022, 1, \"Brasil\", 270, 285.6602464976876, 248, \"2022-01-01\"], [2022, 1, \"Guiana\", 236, 249.68821545723802, 90, \"2022-01-01\"], [2022, 1, \"Tail\\u00e2ndia\", 182, 192.5561661577005, 39, \"2022-01-01\"], [2022, 1, \"Nova Zel\\u00e2ndia\", 156, 165.04814242088614, 63, \"2022-01-01\"], [2022, 1, \"Noruega\", 136, 143.88812416179817, 21, \"2022-01-01\"], [2022, 1, \"Chipre\", 103, 108.97409403430304, 18, \"2022-01-01\"], [2022, 1, \"Barbados\", 53, 56.074048386583115, 7, \"2022-01-01\"], [2022, 1, \"Barein\", 44, 46.552040169993525, 12, \"2022-01-01\"], [2022, 1, \"Coreia do Sul\", 6, 6.348005477726391, 1, \"2022-01-01\"], [2022, 2, \"Paraguai\", 315290, 331220.11559678154, 229263, \"2022-02-01\"], [2022, 2, \"Haiti\", 115176, 120995.29967323705, 88853, \"2022-02-01\"], [2022, 2, \"Estados Unidos\", 49282, 51771.98685921085, 28354, \"2022-02-01\"], [2022, 2, \"China\", 46829, 49195.04834686061, 5840, \"2022-02-01\"], [2022, 2, \"Hong Kong\", 3569, 3749.324725062366, 1278, \"2022-02-01\"], [2022, 2, \"Panam\\u00e1\", 3272, 3437.3187168405884, 1058, \"2022-02-01\"], [2022, 2, \"Pa\\u00edses Baixos (Holanda)\", 2883, 3028.664382839675, 1275, \"2022-02-01\"], [2022, 2, \"Lib\\u00e9ria\", 1877, 1971.8359509504232, 500, \"2022-02-01\"], [2022, 2, \"Marshall, Ilhas\", 1603, 1683.99202417343, 453, \"2022-02-01\"], [2022, 2, \"Reino Unido\", 1351, 1419.2596535610132, 598, \"2022-02-01\"], [2022, 2, \"Guiana\", 769, 807.853940479955, 360, \"2022-02-01\"], [2022, 2, \"Tail\\u00e2ndia\", 659, 692.2961596570746, 242, \"2022-02-01\"], [2022, 2, \"Malta\", 572, 600.9004602789782, 154, \"2022-02-01\"], [2022, 2, \"Singapura\", 446, 468.5342749727697, 167, \"2022-02-01\"], [2022, 2, \"Noruega\", 365, 383.4417272759214, 212, \"2022-02-01\"], [2022, 2, \"Bahamas\", 300, 315.15758406240116, 30, \"2022-02-01\"], [2022, 2, \"Brasil\", 264, 277.33867397491304, 163, \"2022-02-01\"], [2022, 2, \"Chipre\", 254, 266.83342117283297, 49, \"2022-02-01\"], [2022, 2, \"Barbados\", 216, 226.91346052492884, 44, \"2022-02-01\"], [2022, 2, \"Jap\\u00e3o\", 141, 148.12406450932855, 38, \"2022-02-01\"], [2022, 2, \"Su\\u00ed\\u00e7a\", 78, 81.9409718562243, 9, \"2022-02-01\"], [2022, 2, \"Gr\\u00e9cia\", 23, 24.16208144478409, 4, \"2022-02-01\"], [2022, 2, \"Ant\\u00edgua e Barbuda\", 22, 23.111556164576086, 9, \"2022-02-01\"], [2022, 2, \"Bangladesh\", 21, 22.06103088436808, 5, \"2022-02-01\"], [2022, 2, \"Vietn\\u00e3\", 20, 21.010505604160077, 5, \"2022-02-01\"], [2022, 2, \"Guiana Francesa\", 18, 18.909455043744067, 22, \"2022-02-01\"], [2022, 3, \"Paraguai\", 132255, 137553.9963892136, 92190, \"2022-03-01\"], [2022, 3, \"Haiti\", 77370, 80469.94594256137, 59289, \"2022-03-01\"], [2022, 3, \"Estados Unidos\", 42528, 44231.94857238271, 29160, \"2022-03-01\"], [2022, 3, \"China\", 25824, 26858.67757555519, 6848, \"2022-03-01\"], [2022, 3, \"Reino Unido\", 17966, 18685.83493348918, 3347, \"2022-03-01\"], [2022, 3, \"Panam\\u00e1\", 4290, 4461.885331440976, 1126, \"2022-03-01\"], [2022, 3, \"Marshall, Ilhas\", 3952, 4110.34285078199, 1141, \"2022-03-01\"], [2022, 3, \"Col\\u00f4mbia\", 3148, 3274.1293760783665, 1197, \"2022-03-01\"], [2022, 3, \"Hong Kong\", 2789, 2900.745498692047, 1307, \"2022-03-01\"], [2022, 3, \"Pa\\u00edses Baixos (Holanda)\", 2222, 2311.027787054044, 1024, \"2022-03-01\"], [2022, 3, \"Gana\", 2127, 2212.221468525631, 3600, \"2022-03-01\"], [2022, 3, \"Lib\\u00e9ria\", 2122, 2207.021135971504, 675, \"2022-03-01\"], [2022, 3, \"Bahamas\", 1660, 1726.510407970168, 373, \"2022-03-01\"], [2022, 3, \"Singapura\", 1407, 1463.373580731341, 241, \"2022-03-01\"], [2022, 3, \"Noruega\", 1262, 1312.5639366616579, 219, \"2022-03-01\"], [2022, 3, \"Chipre\", 578, 601.1584432570826, 506, \"2022-03-01\"], [2022, 3, \"Guiana\", 539, 560.5958493348919, 240, \"2022-03-01\"], [2022, 3, \"Malta\", 455, 473.23026242555807, 341, \"2022-03-01\"], [2022, 3, \"Luxemburgo\", 423, 439.9481340791452, 28, \"2022-03-01\"], [2022, 3, \"Portugal\", 202, 210.09343518673128, 84, \"2022-03-01\"], [2022, 3, \"Ant\\u00edgua e Barbuda\", 173, 179.93150637279462, 26, \"2022-03-01\"], [2022, 3, \"Brasil\", 154, 160.17024266711195, 75, \"2022-03-01\"], [2022, 3, \"Tail\\u00e2ndia\", 110, 114.40731619079426, 36, \"2022-03-01\"], [2022, 3, \"Gr\\u00e9cia\", 106, 110.24705014749264, 18, \"2022-03-01\"], [2022, 3, \"Turquia\", 34, 35.36226136806368, 73, \"2022-03-01\"], [2022, 3, \"Canad\\u00e1\", 33, 34.32219485723828, 4, \"2022-03-01\"], [2022, 3, \"Filipinas\", 31, 32.24206183558747, 60, \"2022-03-01\"], [2022, 3, \"Barein\", 29, 30.16192881393667, 5, \"2022-03-01\"], [2022, 3, \"Fran\\u00e7a\", 14, 14.560931151555632, 12, \"2022-03-01\"], [2022, 3, \"Cayman, Ilhas\", 10, 10.400665108254024, 4, \"2022-03-01\"], [2022, 4, \"Paraguai\", 696924, 721986.7113866069, 511310, \"2022-04-01\"], [2022, 4, \"Haiti\", 170026, 176140.45805599928, 127908, \"2022-04-01\"], [2022, 4, \"Nig\\u00e9ria\", 49256, 51027.33935989966, 31500, \"2022-04-01\"], [2022, 4, \"Su\\u00ed\\u00e7a\", 20340, 21071.465051574614, 1485, \"2022-04-01\"], [2022, 4, \"Jap\\u00e3o\", 18702, 19374.559458925683, 11439, \"2022-04-01\"], [2022, 4, \"Alemanha\", 15501, 16058.44541614838, 1845, \"2022-04-01\"], [2022, 4, \"Chile\", 7800, 8080.502822137757, 1820, \"2022-04-01\"], [2022, 4, \"R\\u00fassia\", 6600, 6837.348541808871, 990, \"2022-04-01\"], [2022, 4, \"Pa\\u00edses Baixos (Holanda)\", 3946, 4087.9056584814857, 849, \"2022-04-01\"], [2022, 4, \"Singapura\", 2856, 2958.707187182748, 683, \"2022-04-01\"], [2022, 4, \"Panam\\u00e1\", 2642, 2737.011340524097, 942, \"2022-04-01\"], [2022, 4, \"Malta\", 2417, 2503.9199129624308, 364, \"2022-04-01\"], [2022, 4, \"Hong Kong\", 1536, 1591.2374788209736, 486, \"2022-04-01\"], [2022, 4, \"Marshall, Ilhas\", 1525, 1579.841897917959, 582, \"2022-04-01\"], [2022, 4, \"Lib\\u00e9ria\", 1389, 1438.9510794806852, 311, \"2022-04-01\"], [2022, 4, \"Cura\\u00e7ao\", 1226, 1270.0892897360116, 900, \"2022-04-01\"], [2022, 4, \"Estados Unidos\", 734, 760.3960348011684, 225, \"2022-04-01\"], [2022, 4, \"Gr\\u00e9cia\", 580, 600.8579021589615, 271, \"2022-04-01\"], [2022, 4, \"It\\u00e1lia\", 484, 501.40555973265054, 62, \"2022-04-01\"], [2022, 4, \"Luxemburgo\", 379, 392.6295602038731, 8, \"2022-04-01\"], [2022, 4, \"Barein\", 366, 379.16205550031015, 100, \"2022-04-01\"], [2022, 4, \"Bahamas\", 360, 372.9462840986657, 61, \"2022-04-01\"], [2022, 4, \"Brasil\", 264, 273.4939416723549, 2018, \"2022-04-01\"], [2022, 4, \"Chipre\", 235, 243.4510465644068, 70, \"2022-04-01\"], [2022, 4, \"Turquia\", 193, 199.9406467528958, 90, \"2022-04-01\"], [2022, 4, \"Reino Unido\", 193, 199.9406467528958, 49, \"2022-04-01\"], [2022, 4, \"China\", 169, 175.07756114631806, 38, \"2022-04-01\"], [2022, 4, \"Noruega\", 147, 152.2863993402885, 24, \"2022-04-01\"], [2022, 4, \"Barbados\", 36, 37.29462840986657, 9, \"2022-04-01\"], [2022, 4, \"M\\u00e9xico\", 33, 34.18674270904436, 6, \"2022-04-01\"], [2022, 4, \"Filipinas\", 24, 24.863085606577712, 9, \"2022-04-01\"], [2022, 4, \"S\\u00e3o Vicente e Granadinas\", 21, 21.7551999057555, 10, \"2022-04-01\"], [2022, 4, \"Ilha de Man\", 20, 20.71923800548143, 9, \"2022-04-01\"], [2022, 4, \"\\u00cdndia\", 17, 17.611352304659214, 4, \"2022-04-01\"], [2022, 4, \"Cuba\", 6, 6.215771401644428, 16, \"2022-04-01\"], [2022, 5, \"Paraguai\", 1007287, 1033991.8567436178, 717491, \"2022-05-01\"], [2022, 5, \"Estados Unidos\", 123102, 126365.63913646541, 63570, \"2022-05-01\"], [2022, 5, \"R\\u00fassia\", 111845, 114810.1973096942, 65025, \"2022-05-01\"], [2022, 5, \"Uruguai\", 90340, 92735.06392737963, 10416, \"2022-05-01\"], [2022, 5, \"China\", 66423, 68183.98440611397, 5980, \"2022-05-01\"], [2022, 5, \"Gana\", 23589, 24214.38369474162, 17100, \"2022-05-01\"], [2022, 5, \"Panam\\u00e1\", 15148, 15549.598720079106, 1555, \"2022-05-01\"], [2022, 5, \"Bol\\u00edvia\", 13910, 14278.777277284154, 9870, \"2022-05-01\"], [2022, 5, \"Cura\\u00e7ao\", 7190, 7380.618880206547, 1370, \"2022-05-01\"], [2022, 5, \"Portugal\", 5729, 5880.885335841906, 1200, \"2022-05-01\"], [2022, 5, \"Lib\\u00e9ria\", 5291, 5431.273226032384, 1139, \"2022-05-01\"], [2022, 5, \"Hong Kong\", 3318, 3405.9657085570684, 622, \"2022-05-01\"], [2022, 5, \"Emirados \\u00c1rabes Unidos\", 2835, 2910.1605737671157, 675, \"2022-05-01\"], [2022, 5, \"Pa\\u00edses Baixos (Holanda)\", 2652, 2722.3089388466988, 400, \"2022-05-01\"], [2022, 5, \"Marshall, Ilhas\", 2134, 2190.575895738633, 437, \"2022-05-01\"], [2022, 5, \"Reino Unido\", 1885, 1934.9744908469181, 640, \"2022-05-01\"], [2022, 5, \"Malta\", 1757, 1803.5809975692493, 342, \"2022-05-01\"], [2022, 5, \"Suriname\", 1485, 1524.3698243542035, 100, \"2022-05-01\"], [2022, 5, \"Bahamas\", 985, 1011.11399123831, 172, \"2022-05-01\"], [2022, 5, \"Alemanha\", 779, 799.6525879945619, 173, \"2022-05-01\"], [2022, 5, \"Singapura\", 697, 715.4786313635555, 175, \"2022-05-01\"], [2022, 5, \"Om\\u00e3\", 670, 687.7628163752971, 194, \"2022-05-01\"], [2022, 5, \"Chipre\", 567, 582.0321147534231, 114, \"2022-05-01\"], [2022, 5, \"Gr\\u00e9cia\", 551, 565.6079280937146, 302, \"2022-05-01\"], [2022, 5, \"Ant\\u00edgua e Barbuda\", 500, 513.2558331158934, 32, \"2022-05-01\"], [2022, 5, \"Cayman, Ilhas\", 469, 481.43397146270803, 54, \"2022-05-01\"], [2022, 5, \"Noruega\", 367, 376.72978150706575, 84, \"2022-05-01\"], [2022, 5, \"Tail\\u00e2ndia\", 296, 303.8474532046089, 36, \"2022-05-01\"], [2022, 5, \"Turquia\", 276, 283.31721987997315, 255, \"2022-05-01\"], [2022, 5, \"Barbados\", 269, 276.13163821635067, 24, \"2022-05-01\"], [2022, 5, \"Fran\\u00e7a\", 141, 144.73814493868193, 18, \"2022-05-01\"], [2022, 5, \"Vietn\\u00e3\", 119, 122.15488828158263, 65, \"2022-05-01\"], [2022, 5, \"Coreia do Sul\", 92, 94.43907329332438, 9, \"2022-05-01\"], [2022, 5, \"Guiana\", 76, 78.0148866336158, 36, \"2022-05-01\"], [2022, 5, \"Jap\\u00e3o\", 75, 76.988374967384, 48, \"2022-05-01\"], [2022, 5, \"Austr\\u00e1lia\", 56, 57.48465330898006, 43, \"2022-05-01\"], [2022, 5, \"Filipinas\", 27, 27.715814988258245, 9, \"2022-05-01\"], [2022, 5, \"Bangladesh\", 5, 5.1325583311589345, 1, \"2022-05-01\"], [2022, 6, \"Paraguai\", 770775, 781921.0161572704, 526776, \"2022-06-01\"], [2022, 6, \"Haiti\", 58486, 59331.75382047176, 50402, \"2022-06-01\"], [2022, 6, \"Uruguai\", 54426, 55213.04300914742, 49680, \"2022-06-01\"], [2022, 6, \"Reino Unido\", 24534, 24888.781045574226, 3109, \"2022-06-01\"], [2022, 6, \"Estados Unidos\", 19897, 20184.726357862164, 4570, \"2022-06-01\"], [2022, 6, \"Cura\\u00e7ao\", 15742, 15969.641771396, 11565, \"2022-06-01\"], [2022, 6, \"Serra Leoa\", 15182, 15401.543728454712, 8101, \"2022-06-01\"], [2022, 6, \"Bol\\u00edvia\", 13535, 13730.726805732744, 9210, \"2022-06-01\"], [2022, 6, \"Pa\\u00edses Baixos (Holanda)\", 7995, 8110.614023777856, 347, \"2022-06-01\"], [2022, 6, \"Col\\u00f4mbia\", 7000, 7101.225536766103, 4500, \"2022-06-01\"], [2022, 6, \"Panam\\u00e1\", 3819, 3874.2257607013926, 736, \"2022-06-01\"], [2022, 6, \"China\", 2994, 3037.2956081539587, 520, \"2022-06-01\"], [2022, 6, \"Lib\\u00e9ria\", 2335, 2368.7659469069786, 574, \"2022-06-01\"], [2022, 6, \"Hong Kong\", 2028, 2057.3264840802367, 397, \"2022-06-01\"], [2022, 6, \"Marshall, Ilhas\", 1836, 1862.5500122146523, 354, \"2022-06-01\"], [2022, 6, \"Gana\", 1542, 1564.2985396704757, 370, \"2022-06-01\"], [2022, 6, \"Singapura\", 1236, 1253.8735376347004, 212, \"2022-06-01\"], [2022, 6, \"Guiana\", 972, 986.0558888195218, 396, \"2022-06-01\"], [2022, 6, \"Noruega\", 545, 552.8811310767894, 135, \"2022-06-01\"], [2022, 6, \"Malta\", 496, 503.1725523194267, 120, \"2022-06-01\"], [2022, 6, \"Bahamas\", 310, 314.4828451996417, 53, \"2022-06-01\"], [2022, 6, \"Filipinas\", 266, 269.8465703971119, 108, \"2022-06-01\"], [2022, 6, \"Portugal\", 217, 220.1379916397492, 111, \"2022-06-01\"], [2022, 6, \"Tail\\u00e2ndia\", 154, 156.22696180885427, 35, \"2022-06-01\"], [2022, 6, \"Coreia do Sul\", 111, 112.60514779729107, 52, \"2022-06-01\"], [2022, 6, \"Barbados\", 87, 88.258088814093, 44, \"2022-06-01\"], [2022, 6, \"Gr\\u00e9cia\", 87, 88.258088814093, 10, \"2022-06-01\"], [2022, 6, \"Jap\\u00e3o\", 69, 69.99779457669445, 47, \"2022-06-01\"], [2022, 6, \"Emirados \\u00c1rabes Unidos\", 36, 36.5205884747971, 11, \"2022-06-01\"], [2022, 6, \"Ilha de Man\", 17, 17.245833446431966, 8, \"2022-06-01\"], [2022, 6, \"Cayman, Ilhas\", 12, 12.173529491599034, 1, \"2022-06-01\"], [2022, 6, \"Ant\\u00edgua e Barbuda\", 10, 10.144607909665861, 3, \"2022-06-01\"], [2022, 7, \"Paraguai\", 1120408, 1136995.763878518, 813355, \"2022-07-01\"], [2022, 7, \"Haiti\", 74100, 75197.05866380657, 51300, \"2022-07-01\"], [2022, 7, \"Reino Unido\", 25663, 26042.94354236529, 2555, \"2022-07-01\"], [2022, 7, \"Jap\\u00e3o\", 22710, 23046.22405202493, 11380, \"2022-07-01\"], [2022, 7, \"Uruguai\", 21773, 22095.351663792986, 3208, \"2022-07-01\"], [2022, 7, \"China\", 19468, 19756.225884844618, 8241, \"2022-07-01\"], [2022, 7, \"Estados Unidos\", 18928, 19208.231125351293, 3662, \"2022-07-01\"], [2022, 7, \"Fran\\u00e7a\", 14340, 14552.305279878356, 3121, \"2022-07-01\"], [2022, 7, \"Granada\", 7914, 8031.167641907762, 5610, \"2022-07-01\"], [2022, 7, \"Alemanha\", 7119, 7224.397579320364, 1630, \"2022-07-01\"], [2022, 7, \"Austr\\u00e1lia\", 4009, 4068.353686682868, 478, \"2022-07-01\"], [2022, 7, \"Hong Kong\", 3984, 4042.983558928547, 624, \"2022-07-01\"], [2022, 7, \"Panam\\u00e1\", 2697, 2736.9293821361175, 940, \"2022-07-01\"], [2022, 7, \"Marshall, Ilhas\", 2445, 2481.1984943725647, 425, \"2022-07-01\"], [2022, 7, \"Mo\\u00e7ambique\", 1927, 1955.52944730304, 383, \"2022-07-01\"], [2022, 7, \"It\\u00e1lia\", 1908, 1936.2481502097562, 360, \"2022-07-01\"], [2022, 7, \"Suriname\", 1875, 1902.7595815740528, 1125, \"2022-07-01\"], [2022, 7, \"Lib\\u00e9ria\", 1874, 1901.74477646388, 671, \"2022-07-01\"], [2022, 7, \"Nig\\u00e9ria\", 1027, 1042.2048481474944, 734, \"2022-07-01\"], [2022, 7, \"Malta\", 619, 628.1643631969806, 110, \"2022-07-01\"], [2022, 7, \"Cro\\u00e1cia\", 484, 491.16567332364883, 34, \"2022-07-01\"], [2022, 7, \"Singapura\", 399, 404.90723895895843, 103, \"2022-07-01\"], [2022, 7, \"Portugal\", 232, 235.43478556009615, 58, \"2022-07-01\"], [2022, 7, \"Su\\u00ed\\u00e7a\", 202, 204.99063225491128, 45, \"2022-07-01\"], [2022, 7, \"Chile\", 186, 188.75375049214603, 274, \"2022-07-01\"], [2022, 7, \"Chipre\", 148, 150.19115630557857, 48, \"2022-07-01\"], [2022, 7, \"Noruega\", 135, 136.9986898733318, 40, \"2022-07-01\"], [2022, 7, \"Ant\\u00edgua e Barbuda\", 129, 130.90985921229483, 27, \"2022-07-01\"], [2022, 7, \"\\u00cdndia\", 102, 103.51012123762847, 35, \"2022-07-01\"], [2022, 7, \"Gr\\u00e9cia\", 96, 97.4212905765915, 44, \"2022-07-01\"], [2022, 7, \"Vietn\\u00e3\", 93, 94.37687524607301, 53, \"2022-07-01\"], [2022, 7, \"Bahamas\", 87, 88.28804458503605, 21, \"2022-07-01\"], [2022, 7, \"B\\u00e9lgica\", 76, 77.12518837313493, 18, \"2022-07-01\"], [2022, 7, \"Cayman, Ilhas\", 40, 40.592204406913126, 11, \"2022-07-01\"], [2022, 7, \"Dinamarca\", 6, 6.088830661036969, 2, \"2022-07-01\"], [2022, 8, \"Paraguai\", 825225, 835480.2341527834, 558186, \"2022-08-01\"], [2022, 8, \"Uruguai\", 159399, 161379.8828728159, 111447, \"2022-08-01\"], [2022, 8, \"China\", 65388, 66200.5895977245, 28621, \"2022-08-01\"], [2022, 8, \"Jap\\u00e3o\", 40135, 40633.76557632399, 14233, \"2022-08-01\"], [2022, 8, \"Haiti\", 37103, 37564.086313151834, 24392, \"2022-08-01\"], [2022, 8, \"Pa\\u00edses Baixos (Holanda)\", 13618, 13787.233577136665, 1476, \"2022-08-01\"], [2022, 8, \"Estados Unidos\", 13340, 13505.778816199378, 7380, \"2022-08-01\"], [2022, 8, \"Bol\\u00edvia\", 13005, 13166.615704997968, 8715, \"2022-08-01\"], [2022, 8, \"Austr\\u00e1lia\", 8234, 8336.32554517134, 903, \"2022-08-01\"], [2022, 8, \"Hong Kong\", 8139, 8240.144961397806, 1562, \"2022-08-01\"], [2022, 8, \"Venezuela\", 6726, 6809.585331166192, 5670, \"2022-08-01\"], [2022, 8, \"B\\u00e9lgica\", 6069, 6144.420662332385, 810, \"2022-08-01\"], [2022, 8, \"Lib\\u00e9ria\", 4867, 4927.483170797778, 1033, \"2022-08-01\"], [2022, 8, \"Panam\\u00e1\", 4398, 4452.654815115807, 1233, \"2022-08-01\"], [2022, 8, \"Malta\", 4160, 4211.697142083164, 686, \"2022-08-01\"], [2022, 8, \"Dominica\", 2223, 2250.625660300691, 1485, \"2022-08-01\"], [2022, 8, \"Emirados \\u00c1rabes Unidos\", 2200, 2227.3398347555194, 450, \"2022-08-01\"], [2022, 8, \"Qu\\u00eania\", 2080, 2105.848571041582, 1440, \"2022-08-01\"], [2022, 8, \"Marshall, Ilhas\", 2007, 2031.9413856156034, 490, \"2022-08-01\"], [2022, 8, \"Barein\", 1903, 1926.6489570635242, 793, \"2022-08-01\"], [2022, 8, \"Singapura\", 888, 899.0353514831369, 1489, \"2022-08-01\"], [2022, 8, \"Reino Unido\", 696, 704.649329540837, 227, \"2022-08-01\"], [2022, 8, \"Guiana\", 552, 558.8598130841121, 114, \"2022-08-01\"], [2022, 8, \"\\u00cdndia\", 418, 423.1945686035487, 176, \"2022-08-01\"], [2022, 8, \"Chipre\", 283, 286.5168969253691, 67, \"2022-08-01\"], [2022, 8, \"Bahamas\", 281, 284.4920425301368, 85, \"2022-08-01\"], [2022, 8, \"It\\u00e1lia\", 241, 243.994954625491, 49, \"2022-08-01\"], [2022, 8, \"Gr\\u00e9cia\", 224, 226.78369226601652, 93, \"2022-08-01\"], [2022, 8, \"Equador\", 210, 212.6097114993905, 135, \"2022-08-01\"], [2022, 8, \"R\\u00fassia\", 173, 175.1499051875931, 31, \"2022-08-01\"], [2022, 8, \"Noruega\", 131, 132.62796288771503, 28, \"2022-08-01\"], [2022, 8, \"Alemanha\", 120, 121.49126371393743, 27, \"2022-08-01\"], [2022, 8, \"Portugal\", 96, 97.19301097114993, 112, \"2022-08-01\"], [2022, 8, \"Bangladesh\", 58, 58.72077746173642, 1, \"2022-08-01\"], [2022, 8, \"Filipinas\", 57, 57.70835026412028, 11, \"2022-08-01\"], [2022, 8, \"Barbados\", 39, 39.48466070702966, 10, \"2022-08-01\"], [2022, 9, \"Paraguai\", 438856, 442483.30047649716, 297727, \"2022-09-01\"], [2022, 9, \"Haiti\", 138320, 139463.2638539956, 95760, \"2022-09-01\"], [2022, 9, \"Uruguai\", 127547, 128601.221188444, 116424, \"2022-09-01\"], [2022, 9, \"Estados Unidos\", 93160, 93930.0004383909, 43541, \"2022-09-01\"], [2022, 9, \"Emirados \\u00c1rabes Unidos\", 79293, 79948.38476557888, 3420, \"2022-09-01\"], [2022, 9, \"China\", 26534, 26753.31292005436, 12570, \"2022-09-01\"], [2022, 9, \"Reino Unido\", 14763, 14885.021430570683, 2382, \"2022-09-01\"], [2022, 9, \"Lib\\u00e9ria\", 4789, 4828.582783377566, 1423, \"2022-09-01\"], [2022, 9, \"Alemanha\", 4681, 4719.690125076297, 1341, \"2022-09-01\"], [2022, 9, \"Panam\\u00e1\", 3632, 3662.0197680574897, 1105, \"2022-09-01\"], [2022, 9, \"Gana\", 3278, 3305.0938325144416, 2250, \"2022-09-01\"], [2022, 9, \"Hong Kong\", 2851, 2874.5645260825727, 602, \"2022-09-01\"], [2022, 9, \"Marshall, Ilhas\", 2373, 2392.6136865639933, 835, \"2022-09-01\"], [2022, 9, \"Fran\\u00e7a\", 2124, 2141.5556132582897, 89, \"2022-09-01\"], [2022, 9, \"Singapura\", 1047, 1055.6538263095242, 254, \"2022-09-01\"], [2022, 9, \"Malta\", 624, 629.1575812962207, 140, \"2022-09-01\"], [2022, 9, \"Bahamas\", 605, 610.0005395580345, 143, \"2022-09-01\"], [2022, 9, \"Guiana\", 571, 575.7195175002277, 168, \"2022-09-01\"], [2022, 9, \"\\u00cdndia\", 484, 488.0004316464276, 32, \"2022-09-01\"], [2022, 9, \"Chipre\", 461, 464.8103284896759, 108, \"2022-09-01\"], [2022, 9, \"Cayman, Ilhas\", 158, 159.30592603333793, 52, \"2022-09-01\"], [2022, 9, \"Ant\\u00edgua e Barbuda\", 131, 132.08276145802068, 29, \"2022-09-01\"], [2022, 9, \"Gr\\u00e9cia\", 128, 129.05796539409656, 33, \"2022-09-01\"], [2022, 9, \"Barbados\", 116, 116.9587811384, 22, \"2022-09-01\"], [2022, 9, \"It\\u00e1lia\", 65, 65.53724805168966, 14, \"2022-09-01\"], [2022, 9, \"Cocos (Keeling), Ilhas\", 60, 60.49592127848276, 26, \"2022-09-01\"], [2022, 9, \"Vietn\\u00e3\", 45, 45.37194095886207, 7, \"2022-09-01\"], [2022, 9, \"Noruega\", 42, 42.347144894937934, 5, \"2022-09-01\"], [2022, 9, \"Ir\\u00e3\", 37, 37.305818121731036, 24, \"2022-09-01\"], [2022, 9, \"Bulg\\u00e1ria\", 31, 31.256225993882758, 5, \"2022-09-01\"], [2022, 9, \"Portugal\", 29, 29.2396952846, 9, \"2022-09-01\"], [2022, 10, \"Paraguai\", 493628, 495289.51169010723, 348130, \"2022-10-01\"], [2022, 10, \"Uruguai\", 389331, 390641.45647293335, 294157, \"2022-10-01\"], [2022, 10, \"Estados Unidos\", 46454, 46610.360384849, 24298, \"2022-10-01\"], [2022, 10, \"China\", 35620, 35739.89402222244, 9708, \"2022-10-01\"], [2022, 10, \"Cura\\u00e7ao\", 11370, 11408.270495021594, 3753, \"2022-10-01\"], [2022, 10, \"Guatemala\", 5350, 5368.007664763899, 1283, \"2022-10-01\"], [2022, 10, \"Marshall, Ilhas\", 2850, 2859.5928681452547, 606, \"2022-10-01\"], [2022, 10, \"Lib\\u00e9ria\", 2417, 2425.1354253709055, 659, \"2022-10-01\"], [2022, 10, \"Panam\\u00e1\", 2153, 2160.2468228479765, 611, \"2022-10-01\"], [2022, 10, \"Singapura\", 1797, 1803.0485558094815, 263, \"2022-10-01\"], [2022, 10, \"Hong Kong\", 1468, 1472.9411685744678, 464, \"2022-10-01\"], [2022, 10, \"Guiana\", 1369, 1373.6079426283695, 360, \"2022-10-01\"], [2022, 10, \"Bol\\u00edvia\", 1170, 1173.9381248175255, 900, \"2022-10-01\"], [2022, 10, \"Emirados \\u00c1rabes Unidos\", 1101, 1104.705876430851, 225, \"2022-10-01\"], [2022, 10, \"Canad\\u00e1\", 840, 842.8273716638645, 93, \"2022-10-01\"], [2022, 10, \"Malta\", 508, 509.7098866729085, 103, \"2022-10-01\"], [2022, 10, \"Filipinas\", 374, 375.2588535741492, 174, \"2022-10-01\"], [2022, 10, \"Bahamas\", 372, 373.2521217368543, 102, \"2022-10-01\"], [2022, 10, \"Noruega\", 340, 341.1444123401356, 147, \"2022-10-01\"], [2022, 10, \"Pa\\u00edses Baixos (Holanda)\", 313, 314.05353253665425, 69, \"2022-10-01\"], [2022, 10, \"Ant\\u00edgua e Barbuda\", 290, 290.97611640776273, 70, \"2022-10-01\"], [2022, 10, \"Barein\", 280, 280.9424572212882, 51, \"2022-10-01\"], [2022, 10, \"Jap\\u00e3o\", 140, 140.4712286106441, 70, \"2022-10-01\"], [2022, 10, \"Portugal\", 138, 138.46449677334917, 44, \"2022-10-01\"], [2022, 10, \"Reino Unido\", 129, 129.43420350552205, 15, \"2022-10-01\"], [2022, 10, \"Chipre\", 99, 99.33322594609831, 19, \"2022-10-01\"], [2022, 10, \"Gr\\u00e9cia\", 82, 82.27600532909153, 20, \"2022-10-01\"], [2022, 10, \"Ir\\u00e3\", 53, 53.17839368831526, 23, \"2022-10-01\"], [2022, 10, \"Tail\\u00e2ndia\", 48, 48.16156409507797, 10, \"2022-10-01\"], [2022, 10, \"Cayman, Ilhas\", 40, 40.134636745898305, 15, \"2022-10-01\"], [2022, 10, \"It\\u00e1lia\", 40, 40.134636745898305, 9, \"2022-10-01\"], [2022, 10, \"S\\u00e3o Vicente e Granadinas\", 30, 30.100977559423733, 10, \"2022-10-01\"], [2022, 10, \"Fran\\u00e7a\", 15, 15.050488779711866, 15, \"2022-10-01\"], [2022, 11, \"Paraguai\", 504968, 505630.92291308043, 352520, \"2022-11-01\"], [2022, 11, \"Noruega\", 36466, 36513.87263143088, 1700, \"2022-11-01\"], [2022, 11, \"Venezuela\", 25625, 25658.640546822146, 17550, \"2022-11-01\"], [2022, 11, \"Reino Unido\", 20664, 20691.12773695738, 2545, \"2022-11-01\"], [2022, 11, \"Gana\", 18768, 18792.638664692997, 12629, \"2022-11-01\"], [2022, 11, \"Estados Unidos\", 17316, 17338.732476439895, 9108, \"2022-11-01\"], [2022, 11, \"Alemanha\", 17167, 17189.53686896764, 2614, \"2022-11-01\"], [2022, 11, \"Tcheca, Rep\\u00fablica\", 9997, 10010.124079866575, 1305, \"2022-11-01\"], [2022, 11, \"Hong Kong\", 4662, 4668.120282118433, 1102, \"2022-11-01\"], [2022, 11, \"Col\\u00f4mbia\", 3920, 3925.1461831626466, 2520, \"2022-11-01\"], [2022, 11, \"Marshall, Ilhas\", 2805, 2808.682409125312, 643, \"2022-11-01\"], [2022, 11, \"Lib\\u00e9ria\", 2722, 2725.573446573654, 834, \"2022-11-01\"], [2022, 11, \"Singapura\", 2692, 2695.534062518838, 311, \"2022-11-01\"], [2022, 11, \"Panam\\u00e1\", 2349, 2352.0837714921063, 830, \"2022-11-01\"], [2022, 11, \"Pa\\u00edses Baixos (Holanda)\", 1564, 1566.0532220577497, 743, \"2022-11-01\"], [2022, 11, \"China\", 1114, 1115.4624612355071, 391, \"2022-11-01\"], [2022, 11, \"Malta\", 1020, 1021.3390578637499, 195, \"2022-11-01\"], [2022, 11, \"Chipre\", 604, 604.7929323036323, 187, \"2022-11-01\"], [2022, 11, \"Guiana\", 360, 360.47260865779407, 222, \"2022-11-01\"], [2022, 11, \"Su\\u00ed\\u00e7a\", 243, 243.319010844011, 45, \"2022-11-01\"], [2022, 11, \"\\u00c1ustria\", 212, 212.27831398736762, 6, \"2022-11-01\"], [2022, 11, \"Taiwan (Formosa)\", 159, 159.2087354905257, 15, \"2022-11-01\"], [2022, 11, \"Togo\", 89, 89.1168393626213, 37, \"2022-11-01\"], [2022, 11, \"Bahamas\", 73, 73.09583453338601, 62, \"2022-11-01\"], [2022, 11, \"Tail\\u00e2ndia\", 48, 48.06301448770587, 8, \"2022-11-01\"], [2022, 11, \"Gr\\u00e9cia\", 45, 45.05907608222426, 20, \"2022-11-01\"], [2022, 11, \"Cayman, Ilhas\", 36, 36.04726086577941, 0, \"2022-11-01\"], [2022, 11, \"Coreia do Sul\", 30, 30.03938405481617, 9, \"2022-11-01\"], [2022, 11, \"Ant\\u00edgua e Barbuda\", 19, 19.024943234716908, 6, \"2022-11-01\"], [2022, 12, \"Paraguai\", 538950, 538950.0, 381911, \"2022-12-01\"], [2022, 12, \"Uruguai\", 116540, 116540.0, 17576, \"2022-12-01\"], [2022, 12, \"China\", 83231, 83231.0, 19306, \"2022-12-01\"], [2022, 12, \"Togo\", 25519, 25519.0, 17280, \"2022-12-01\"], [2022, 12, \"Estados Unidos\", 23152, 23152.0, 6505, \"2022-12-01\"], [2022, 12, \"Reino Unido\", 16459, 16459.0, 1833, \"2022-12-01\"], [2022, 12, \"Cura\\u00e7ao\", 10780, 10780.0, 7920, \"2022-12-01\"], [2022, 12, \"Argentina\", 3232, 3232.0, 480, \"2022-12-01\"], [2022, 12, \"It\\u00e1lia\", 2273, 2273.0, 410, \"2022-12-01\"], [2022, 12, \"Panam\\u00e1\", 1926, 1926.0, 400, \"2022-12-01\"], [2022, 12, \"Hong Kong\", 1853, 1853.0, 334, \"2022-12-01\"], [2022, 12, \"Marshall, Ilhas\", 1452, 1452.0, 395, \"2022-12-01\"], [2022, 12, \"Lib\\u00e9ria\", 1394, 1394.0, 357, \"2022-12-01\"], [2022, 12, \"Malta\", 1259, 1259.0, 203, \"2022-12-01\"], [2022, 12, \"Chipre\", 1126, 1126.0, 335, \"2022-12-01\"], [2022, 12, \"Ilha de Man\", 604, 604.0, 148, \"2022-12-01\"], [2022, 12, \"Singapura\", 552, 552.0, 137, \"2022-12-01\"], [2022, 12, \"Noruega\", 380, 380.0, 96, \"2022-12-01\"], [2022, 12, \"Guiana\", 379, 379.0, 78, \"2022-12-01\"], [2022, 12, \"Barbados\", 329, 329.0, 60, \"2022-12-01\"], [2022, 12, \"Jap\\u00e3o\", 236, 236.0, 69, \"2022-12-01\"], [2022, 12, \"Tail\\u00e2ndia\", 216, 216.0, 26, \"2022-12-01\"], [2022, 12, \"Cayman, Ilhas\", 193, 193.0, 23, \"2022-12-01\"], [2022, 12, \"Barein\", 167, 167.0, 18, \"2022-12-01\"], [2022, 12, \"Portugal\", 148, 148.0, 13, \"2022-12-01\"], [2022, 12, \"Gr\\u00e9cia\", 132, 132.0, 39, \"2022-12-01\"], [2022, 12, \"Pa\\u00edses Baixos (Holanda)\", 128, 128.0, 26, \"2022-12-01\"], [2022, 12, \"Taiwan (Formosa)\", 118, 118.0, 10, \"2022-12-01\"], [2022, 12, \"Bahamas\", 107, 107.0, 12, \"2022-12-01\"], [2022, 12, \"Canad\\u00e1\", 72, 72.0, 6, \"2022-12-01\"], [2022, 12, \"Ant\\u00edgua e Barbuda\", 37, 37.0, 7, \"2022-12-01\"], [2022, 12, \"Coreia do Sul\", 18, 18.0, 6, \"2022-12-01\"], [2022, 12, \"Su\\u00e9cia\", 18, 18.0, 5, \"2022-12-01\"], [2022, 12, \"Filipinas\", 11, 11.0, 4, \"2022-12-01\"]];\n",
       "\n",
       "    // Define the dt_args\n",
       "    let dt_args = {\"order\": [], \"fnInfoCallback\": function (oSettings, iStart, iEnd, iMax, iTotal, sPre) { return sPre + ' (<a href=\"https://mwouts.github.io/itables/downsampling.html\">downsampled</a> from 3,640x7 to 1,067x7 as maxBytes=65536)'; }};\n",
       "    dt_args[\"data\"] = data;\n",
       "\n",
       "    $(document).ready(function () {\n",
       "        \n",
       "        $('#a6fdd332-2e8d-4367-aa57-42c949b8c3bc').DataTable(dt_args);\n",
       "    });\n",
       "</script>\n",
       "</div>\n"
      ],
      "text/plain": [
       "<IPython.core.display.HTML object>"
      ]
     },
     "metadata": {},
     "output_type": "display_data"
    }
   ],
   "source": [
    "cpi_us_monthly = pl.read_csv(\n",
    "    \"../data/cpi_brazil_us/CPIAUCSL_monthly.csv\",\n",
    "    separator=\",\",\n",
    "    dtypes={\"DATE\": pl.Date, \"CPIAUCSL\": pl.Float64},\n",
    ").rename({\"DATE\": \"date\", \"CPIAUCSL\": \"cpi\"})\n",
    "\n",
    "infl_month = pl.Series(\n",
    "    \"infl_month\",\n",
    "    1.0\n",
    "    / (\n",
    "        cpi_us_monthly[\"cpi\"]\n",
    "        / cpi_us_monthly.filter(pl.col(\"date\") == date(2022, 12, 1))[\"cpi\"]\n",
    "    ),\n",
    ")\n",
    "\n",
    "cpi_us_monthly.insert_at_idx(2, infl_month)\n",
    "\n",
    "exp_vinho_monthly_corrected = exp_vinho_monthly.join(cpi_us_monthly, on=\"date\").sort(\n",
    "    \"date\"\n",
    ")\n",
    "\n",
    "(\n",
    "    exp_vinho_monthly_corrected.insert_at_idx(\n",
    "        4,\n",
    "        pl.Series(\n",
    "            \"value_corrected\",\n",
    "            exp_vinho_monthly_corrected[\"value\"]\n",
    "            * exp_vinho_monthly_corrected[\"infl_month\"],\n",
    "        ),\n",
    "    )\n",
    ")\n",
    "\n",
    "exp_vinho_monthly_corrected = exp_vinho_monthly_corrected.drop([\"cpi\", \"infl_month\"])\n",
    "show(exp_vinho_monthly_corrected)"
   ]
  },
  {
   "cell_type": "markdown",
   "metadata": {},
   "source": [
    "## Evolução mensal dos 5 maiores compradores"
   ]
  },
  {
   "cell_type": "markdown",
   "metadata": {},
   "source": [
    "### Top 5 - valor em US$ de 2022"
   ]
  },
  {
   "cell_type": "code",
   "execution_count": null,
   "metadata": {},
   "outputs": [
    {
     "data": {
      "application/vnd.plotly.v1+json": {
       "config": {
        "plotlyServerURL": "https://plot.ly"
       },
       "data": [
        {
         "hovertemplate": "country=Paraguai<br>Mês-Ano=%{x}<br>log do valor=%{y}<extra></extra>",
         "legendgroup": "Paraguai",
         "line": {
          "color": "#636efa",
          "dash": "solid"
         },
         "marker": {
          "symbol": "circle"
         },
         "mode": "lines",
         "name": "Paraguai",
         "orientation": "v",
         "showlegend": true,
         "type": "scatter",
         "x": [
          "2000-01-01T00:00:00",
          "2000-02-01T00:00:00",
          "2000-03-01T00:00:00",
          "2000-04-01T00:00:00",
          "2000-05-01T00:00:00",
          "2000-06-01T00:00:00",
          "2000-07-01T00:00:00",
          "2000-08-01T00:00:00",
          "2000-09-01T00:00:00",
          "2000-10-01T00:00:00",
          "2000-11-01T00:00:00",
          "2000-12-01T00:00:00",
          "2001-01-01T00:00:00",
          "2001-02-01T00:00:00",
          "2001-03-01T00:00:00",
          "2001-04-01T00:00:00",
          "2001-05-01T00:00:00",
          "2001-06-01T00:00:00",
          "2001-07-01T00:00:00",
          "2001-08-01T00:00:00",
          "2001-09-01T00:00:00",
          "2001-10-01T00:00:00",
          "2001-11-01T00:00:00",
          "2001-12-01T00:00:00",
          "2002-01-01T00:00:00",
          "2002-02-01T00:00:00",
          "2002-03-01T00:00:00",
          "2002-04-01T00:00:00",
          "2002-05-01T00:00:00",
          "2002-06-01T00:00:00",
          "2002-07-01T00:00:00",
          "2002-08-01T00:00:00",
          "2002-09-01T00:00:00",
          "2002-10-01T00:00:00",
          "2002-11-01T00:00:00",
          "2002-12-01T00:00:00",
          "2003-01-01T00:00:00",
          "2003-02-01T00:00:00",
          "2003-03-01T00:00:00",
          "2003-04-01T00:00:00",
          "2003-05-01T00:00:00",
          "2003-06-01T00:00:00",
          "2003-07-01T00:00:00",
          "2003-08-01T00:00:00",
          "2003-09-01T00:00:00",
          "2003-10-01T00:00:00",
          "2003-11-01T00:00:00",
          "2003-12-01T00:00:00",
          "2004-01-01T00:00:00",
          "2004-02-01T00:00:00",
          "2004-03-01T00:00:00",
          "2004-04-01T00:00:00",
          "2004-05-01T00:00:00",
          "2004-06-01T00:00:00",
          "2004-07-01T00:00:00",
          "2004-08-01T00:00:00",
          "2004-09-01T00:00:00",
          "2004-10-01T00:00:00",
          "2004-11-01T00:00:00",
          "2004-12-01T00:00:00",
          "2005-01-01T00:00:00",
          "2005-02-01T00:00:00",
          "2005-03-01T00:00:00",
          "2005-04-01T00:00:00",
          "2005-05-01T00:00:00",
          "2005-06-01T00:00:00",
          "2005-07-01T00:00:00",
          "2005-08-01T00:00:00",
          "2005-09-01T00:00:00",
          "2005-10-01T00:00:00",
          "2005-11-01T00:00:00",
          "2005-12-01T00:00:00",
          "2006-01-01T00:00:00",
          "2006-02-01T00:00:00",
          "2006-03-01T00:00:00",
          "2006-04-01T00:00:00",
          "2006-05-01T00:00:00",
          "2006-06-01T00:00:00",
          "2006-07-01T00:00:00",
          "2006-08-01T00:00:00",
          "2006-09-01T00:00:00",
          "2006-10-01T00:00:00",
          "2006-11-01T00:00:00",
          "2006-12-01T00:00:00",
          "2007-01-01T00:00:00",
          "2007-02-01T00:00:00",
          "2007-03-01T00:00:00",
          "2007-04-01T00:00:00",
          "2007-05-01T00:00:00",
          "2007-06-01T00:00:00",
          "2007-07-01T00:00:00",
          "2007-08-01T00:00:00",
          "2007-09-01T00:00:00",
          "2007-10-01T00:00:00",
          "2007-11-01T00:00:00",
          "2007-12-01T00:00:00",
          "2008-01-01T00:00:00",
          "2008-02-01T00:00:00",
          "2008-03-01T00:00:00",
          "2008-04-01T00:00:00",
          "2008-05-01T00:00:00",
          "2008-06-01T00:00:00",
          "2008-07-01T00:00:00",
          "2008-08-01T00:00:00",
          "2008-09-01T00:00:00",
          "2008-10-01T00:00:00",
          "2008-11-01T00:00:00",
          "2008-12-01T00:00:00",
          "2009-01-01T00:00:00",
          "2009-02-01T00:00:00",
          "2009-03-01T00:00:00",
          "2009-04-01T00:00:00",
          "2009-05-01T00:00:00",
          "2009-06-01T00:00:00",
          "2009-07-01T00:00:00",
          "2009-08-01T00:00:00",
          "2009-09-01T00:00:00",
          "2009-10-01T00:00:00",
          "2009-11-01T00:00:00",
          "2009-12-01T00:00:00",
          "2010-01-01T00:00:00",
          "2010-02-01T00:00:00",
          "2010-03-01T00:00:00",
          "2010-04-01T00:00:00",
          "2010-05-01T00:00:00",
          "2010-06-01T00:00:00",
          "2010-07-01T00:00:00",
          "2010-08-01T00:00:00",
          "2010-09-01T00:00:00",
          "2010-10-01T00:00:00",
          "2010-11-01T00:00:00",
          "2010-12-01T00:00:00",
          "2011-03-01T00:00:00",
          "2011-04-01T00:00:00",
          "2011-05-01T00:00:00",
          "2011-06-01T00:00:00",
          "2011-07-01T00:00:00",
          "2011-08-01T00:00:00",
          "2011-09-01T00:00:00",
          "2011-10-01T00:00:00",
          "2011-11-01T00:00:00",
          "2011-12-01T00:00:00",
          "2012-01-01T00:00:00",
          "2012-02-01T00:00:00",
          "2012-03-01T00:00:00",
          "2012-04-01T00:00:00",
          "2012-05-01T00:00:00",
          "2012-06-01T00:00:00",
          "2012-07-01T00:00:00",
          "2012-08-01T00:00:00",
          "2012-09-01T00:00:00",
          "2012-10-01T00:00:00",
          "2012-11-01T00:00:00",
          "2012-12-01T00:00:00",
          "2013-01-01T00:00:00",
          "2013-02-01T00:00:00",
          "2013-03-01T00:00:00",
          "2013-04-01T00:00:00",
          "2013-05-01T00:00:00",
          "2013-06-01T00:00:00",
          "2013-07-01T00:00:00",
          "2013-08-01T00:00:00",
          "2013-09-01T00:00:00",
          "2013-10-01T00:00:00",
          "2013-11-01T00:00:00",
          "2013-12-01T00:00:00",
          "2014-01-01T00:00:00",
          "2014-02-01T00:00:00",
          "2014-03-01T00:00:00",
          "2014-04-01T00:00:00",
          "2014-05-01T00:00:00",
          "2014-06-01T00:00:00",
          "2014-07-01T00:00:00",
          "2014-08-01T00:00:00",
          "2014-09-01T00:00:00",
          "2014-10-01T00:00:00",
          "2014-11-01T00:00:00",
          "2014-12-01T00:00:00",
          "2015-01-01T00:00:00",
          "2015-02-01T00:00:00",
          "2015-03-01T00:00:00",
          "2015-04-01T00:00:00",
          "2015-05-01T00:00:00",
          "2015-06-01T00:00:00",
          "2015-07-01T00:00:00",
          "2015-08-01T00:00:00",
          "2015-09-01T00:00:00",
          "2015-10-01T00:00:00",
          "2015-11-01T00:00:00",
          "2015-12-01T00:00:00",
          "2016-01-01T00:00:00",
          "2016-02-01T00:00:00",
          "2016-03-01T00:00:00",
          "2016-04-01T00:00:00",
          "2016-05-01T00:00:00",
          "2016-06-01T00:00:00",
          "2016-07-01T00:00:00",
          "2016-08-01T00:00:00",
          "2016-09-01T00:00:00",
          "2016-10-01T00:00:00",
          "2016-11-01T00:00:00",
          "2016-12-01T00:00:00",
          "2017-01-01T00:00:00",
          "2017-02-01T00:00:00",
          "2017-03-01T00:00:00",
          "2017-04-01T00:00:00",
          "2017-05-01T00:00:00",
          "2017-06-01T00:00:00",
          "2017-07-01T00:00:00",
          "2017-08-01T00:00:00",
          "2017-09-01T00:00:00",
          "2017-10-01T00:00:00",
          "2017-11-01T00:00:00",
          "2017-12-01T00:00:00",
          "2018-01-01T00:00:00",
          "2018-02-01T00:00:00",
          "2018-03-01T00:00:00",
          "2018-04-01T00:00:00",
          "2018-05-01T00:00:00",
          "2018-06-01T00:00:00",
          "2018-07-01T00:00:00",
          "2018-08-01T00:00:00",
          "2018-09-01T00:00:00",
          "2018-10-01T00:00:00",
          "2018-11-01T00:00:00",
          "2018-12-01T00:00:00",
          "2019-01-01T00:00:00",
          "2019-02-01T00:00:00",
          "2019-03-01T00:00:00",
          "2019-04-01T00:00:00",
          "2019-05-01T00:00:00",
          "2019-06-01T00:00:00",
          "2019-07-01T00:00:00",
          "2019-08-01T00:00:00",
          "2019-09-01T00:00:00",
          "2019-10-01T00:00:00",
          "2019-11-01T00:00:00",
          "2019-12-01T00:00:00",
          "2020-01-01T00:00:00",
          "2020-02-01T00:00:00",
          "2020-03-01T00:00:00",
          "2020-04-01T00:00:00",
          "2020-05-01T00:00:00",
          "2020-06-01T00:00:00",
          "2020-07-01T00:00:00",
          "2020-08-01T00:00:00",
          "2020-09-01T00:00:00",
          "2020-10-01T00:00:00",
          "2020-11-01T00:00:00",
          "2020-12-01T00:00:00",
          "2021-01-01T00:00:00",
          "2021-02-01T00:00:00",
          "2021-03-01T00:00:00",
          "2021-04-01T00:00:00",
          "2021-05-01T00:00:00",
          "2021-06-01T00:00:00",
          "2021-07-01T00:00:00",
          "2021-08-01T00:00:00",
          "2021-09-01T00:00:00",
          "2021-10-01T00:00:00",
          "2021-11-01T00:00:00",
          "2021-12-01T00:00:00",
          "2022-01-01T00:00:00",
          "2022-02-01T00:00:00",
          "2022-03-01T00:00:00",
          "2022-04-01T00:00:00",
          "2022-05-01T00:00:00",
          "2022-06-01T00:00:00",
          "2022-07-01T00:00:00",
          "2022-08-01T00:00:00",
          "2022-09-01T00:00:00",
          "2022-10-01T00:00:00",
          "2022-11-01T00:00:00",
          "2022-12-01T00:00:00"
         ],
         "xaxis": "x",
         "y": [
          342330.3047253396,
          247424.7775882353,
          321057.56017543864,
          295037.87355178467,
          343063.0820093459,
          316056.043612079,
          299159.6642733063,
          410175.4995946729,
          319313.0529953917,
          290608.30793559516,
          441319.19489092997,
          527513.571019473,
          286795.43063781323,
          189980.96409090908,
          407337.7958546281,
          230701.97216553285,
          263242.7353637902,
          274749.43202025886,
          348414.3616121759,
          256740.38714768883,
          223755.6549691185,
          338550.6194256757,
          443200.87814084504,
          293328.74064261554,
          325491.9217220034,
          176593.90825842696,
          140263.99781512606,
          82718.34327941996,
          114384.07961002785,
          55764.29860801782,
          131608.75377777778,
          21262.24731301939,
          121190.17234513273,
          84299.66948123623,
          112685.45977961432,
          37245.47046204621,
          7394.517196056955,
          21106.80495642702,
          9241.213485589995,
          30235.200545851534,
          45056.10924002187,
          83669.84494811579,
          42022.98753402287,
          17155.057669376696,
          22683.503889789303,
          123609.48393726339,
          143696.21016216217,
          98611.89859838274,
          16910.668974771874,
          128107.68639528657,
          75711.10753607698,
          47774.58143009605,
          232160.49234856537,
          145153.39295923768,
          72015.32273929138,
          67871.67817124737,
          43548.88593256059,
          69806.64323899371,
          164441.38064684405,
          139077.9201356286,
          9768.671189979124,
          26386.955301455302,
          50846.880424650444,
          71072.25379452763,
          103926.8236570248,
          73152.98957150233,
          102494.2015392509,
          186126.99255481898,
          58667.01167002012,
          46061.87980914114,
          130545.88616860172,
          231287.85749621404,
          76057.17521324636,
          67049.33219658978,
          185027.9477716575,
          107474.01878425512,
          35687.19687034277,
          79946.48865213082,
          67488.62991621488,
          90942.54715407261,
          240392.08806706112,
          126203.69380881623,
          85678.39678217823,
          133317.74194977843,
          28538.504893406804,
          34883.09387639184,
          70634.5086902303,
          59419.2963711244,
          139922.49000024184,
          129568.97005317658,
          197141.8821018964,
          45286.11411538665,
          48819.72639261174,
          47766.36454897462,
          199974.75203240465,
          149135.12885147438,
          28676.682816933273,
          162669.21744159257,
          54912.699955024174,
          91592.60738891849,
          138641.73302107726,
          150038.77317060833,
          104862.73998246703,
          308605.4221500755,
          265909.1334402427,
          257933.73128413098,
          238915.10675430327,
          98499.3262471736,
          1427.7053597127397,
          20016.53745798171,
          12977.17485117297,
          7558.068675984561,
          16358.537850550649,
          80090.73346058941,
          75622.63954993807,
          37976.566409060324,
          64383.80332714108,
          27849.79529719319,
          30911.443006159254,
          74640.54442895461,
          17099.047395718386,
          59884.41607871835,
          4334.504193638919,
          5648.275000804957,
          17626.49868838879,
          60445.26402055258,
          202923.80744927734,
          229713.68648559356,
          8972.09712518612,
          25351.39260848723,
          41891.82262398106,
          68944.59437026017,
          63088.62458864988,
          4125.417036676738,
          58055.445539709784,
          91375.71488305471,
          56804.05412719892,
          19494.00095530415,
          21310.906543334644,
          30814.10059536935,
          11453.195550449225,
          10505.697750667845,
          9908.943434485302,
          8175.02187632758,
          49717.327398200236,
          54782.71922054915,
          88064.34855036662,
          33722.791698027344,
          72048.49363489218,
          64798.63564401221,
          29683.50821375236,
          44523.61469188993,
          62100.97639341144,
          39997.9183551667,
          8496.886467914659,
          34629.325568716005,
          12055.778493383044,
          117039.71850369073,
          87630.30945306673,
          96970.28596011961,
          96278.88806354659,
          99273.1429477075,
          78460.1665639023,
          80296.56676752158,
          79066.95399401966,
          86078.45657999566,
          42501.18807588997,
          6518.077708482808,
          82620.3915637128,
          121138.3144019487,
          43766.084468043795,
          79277.45100766764,
          258703.4334183867,
          85769.81306325276,
          108014.46068461367,
          97646.81202880849,
          88590.65764210935,
          131197.5996816958,
          22829.244931777615,
          1590.602102472147,
          26232.70569888463,
          9242.25931538976,
          187893.60644047917,
          141348.34433658593,
          144635.22236319183,
          90928.09022278425,
          86048.15825817481,
          102389.54575090542,
          98790.29464281963,
          21317.53517187428,
          18294.033250298755,
          40019.27785923754,
          95701.16326444891,
          144670.9663921805,
          42209.3397813464,
          290670.8237380423,
          272098.4458207171,
          481758.6610821261,
          229238.559724019,
          88385.6002084876,
          143295.94774941535,
          211261.03013967365,
          108314.50241771954,
          104574.08248157833,
          267705.9652223115,
          195267.37130056962,
          471410.05004016333,
          688754.7271699643,
          726715.2569776821,
          532126.9107564554,
          432345.59417290566,
          620558.2754454113,
          372588.85916597926,
          687297.5389116441,
          159158.80988833032,
          178889.07117008444,
          380876.00500046083,
          467859.3015541888,
          533554.4218316374,
          776183.1284210694,
          1024614.4765021058,
          1201470.2085725754,
          706145.752036228,
          176452.02886395648,
          569366.9479480906,
          360199.8712648408,
          17947.587033768865,
          177531.28764971066,
          510404.37734557566,
          547993.8852557297,
          423418.27991695725,
          845999.9498743921,
          990618.881045036,
          230261.498365611,
          454384.6997594644,
          125749.58436348368,
          224170.3048451725,
          142366.39101989052,
          113236.38688681541,
          159088.12635005865,
          202054.8946242891,
          89821.22307608204,
          270032.60325636656,
          562499.471722195,
          895138.6315520484,
          584204.452779566,
          777913.9617119629,
          341273.57230123784,
          180570.4119809979,
          292087.9048218749,
          190346.15225585384,
          470048.64355669526,
          754060.5585208785,
          790520.0522368471,
          1050806.5498949501,
          897046.2506883895,
          1073753.9270102,
          691233.7176311065,
          906206.1012378297,
          596213.2340283956,
          262859.4446936074,
          264494.38813473034,
          329807.4505925357,
          331220.11559678154,
          137553.9963892136,
          721986.7113866069,
          1033991.8567436178,
          781921.0161572704,
          1136995.763878518,
          835480.2341527834,
          442483.30047649716,
          495289.51169010723,
          505630.92291308043,
          538950
         ],
         "yaxis": "y"
        },
        {
         "hovertemplate": "country=Japão<br>Mês-Ano=%{x}<br>log do valor=%{y}<extra></extra>",
         "legendgroup": "Japão",
         "line": {
          "color": "#EF553B",
          "dash": "solid"
         },
         "marker": {
          "symbol": "circle"
         },
         "mode": "lines",
         "name": "Japão",
         "orientation": "v",
         "showlegend": true,
         "type": "scatter",
         "x": [
          "2000-02-01T00:00:00",
          "2000-04-01T00:00:00",
          "2000-05-01T00:00:00",
          "2000-07-01T00:00:00",
          "2000-08-01T00:00:00",
          "2000-09-01T00:00:00",
          "2000-11-01T00:00:00",
          "2000-12-01T00:00:00",
          "2001-01-01T00:00:00",
          "2001-03-01T00:00:00",
          "2001-04-01T00:00:00",
          "2001-05-01T00:00:00",
          "2001-08-01T00:00:00",
          "2001-09-01T00:00:00",
          "2001-10-01T00:00:00",
          "2001-11-01T00:00:00",
          "2002-02-01T00:00:00",
          "2002-03-01T00:00:00",
          "2002-04-01T00:00:00",
          "2002-05-01T00:00:00",
          "2002-08-01T00:00:00",
          "2002-09-01T00:00:00",
          "2002-12-01T00:00:00",
          "2003-02-01T00:00:00",
          "2003-03-01T00:00:00",
          "2003-04-01T00:00:00",
          "2003-08-01T00:00:00",
          "2003-09-01T00:00:00",
          "2003-12-01T00:00:00",
          "2004-02-01T00:00:00",
          "2004-03-01T00:00:00",
          "2004-04-01T00:00:00",
          "2004-05-01T00:00:00",
          "2004-06-01T00:00:00",
          "2004-08-01T00:00:00",
          "2004-09-01T00:00:00",
          "2004-10-01T00:00:00",
          "2004-11-01T00:00:00",
          "2004-12-01T00:00:00",
          "2005-01-01T00:00:00",
          "2005-03-01T00:00:00",
          "2005-04-01T00:00:00",
          "2005-05-01T00:00:00",
          "2005-07-01T00:00:00",
          "2005-08-01T00:00:00",
          "2005-09-01T00:00:00",
          "2005-10-01T00:00:00",
          "2005-11-01T00:00:00",
          "2005-12-01T00:00:00",
          "2006-02-01T00:00:00",
          "2006-04-01T00:00:00",
          "2006-05-01T00:00:00",
          "2006-06-01T00:00:00",
          "2006-08-01T00:00:00",
          "2006-09-01T00:00:00",
          "2006-10-01T00:00:00",
          "2006-11-01T00:00:00",
          "2006-12-01T00:00:00",
          "2007-01-01T00:00:00",
          "2007-02-01T00:00:00",
          "2007-03-01T00:00:00",
          "2007-04-01T00:00:00",
          "2007-05-01T00:00:00",
          "2007-06-01T00:00:00",
          "2007-08-01T00:00:00",
          "2007-09-01T00:00:00",
          "2007-10-01T00:00:00",
          "2007-12-01T00:00:00",
          "2008-02-01T00:00:00",
          "2008-04-01T00:00:00",
          "2008-06-01T00:00:00",
          "2008-08-01T00:00:00",
          "2008-11-01T00:00:00",
          "2008-12-01T00:00:00",
          "2009-01-01T00:00:00",
          "2009-02-01T00:00:00",
          "2009-04-01T00:00:00",
          "2009-06-01T00:00:00",
          "2009-07-01T00:00:00",
          "2009-09-01T00:00:00",
          "2009-10-01T00:00:00",
          "2009-11-01T00:00:00",
          "2009-12-01T00:00:00",
          "2010-01-01T00:00:00",
          "2010-02-01T00:00:00",
          "2010-04-01T00:00:00",
          "2010-05-01T00:00:00",
          "2010-06-01T00:00:00",
          "2010-07-01T00:00:00",
          "2010-08-01T00:00:00",
          "2010-10-01T00:00:00",
          "2011-02-01T00:00:00",
          "2011-07-01T00:00:00",
          "2011-10-01T00:00:00",
          "2011-11-01T00:00:00",
          "2012-02-01T00:00:00",
          "2012-03-01T00:00:00",
          "2012-05-01T00:00:00",
          "2012-06-01T00:00:00",
          "2012-08-01T00:00:00",
          "2012-12-01T00:00:00",
          "2013-02-01T00:00:00",
          "2013-05-01T00:00:00",
          "2013-07-01T00:00:00",
          "2013-08-01T00:00:00",
          "2013-09-01T00:00:00",
          "2013-10-01T00:00:00",
          "2013-11-01T00:00:00",
          "2013-12-01T00:00:00",
          "2014-02-01T00:00:00",
          "2014-03-01T00:00:00",
          "2014-06-01T00:00:00",
          "2014-07-01T00:00:00",
          "2014-08-01T00:00:00",
          "2014-10-01T00:00:00",
          "2014-12-01T00:00:00",
          "2015-01-01T00:00:00",
          "2015-02-01T00:00:00",
          "2015-03-01T00:00:00",
          "2015-04-01T00:00:00",
          "2015-07-01T00:00:00",
          "2015-08-01T00:00:00",
          "2015-09-01T00:00:00",
          "2016-03-01T00:00:00",
          "2016-04-01T00:00:00",
          "2016-05-01T00:00:00",
          "2016-07-01T00:00:00",
          "2016-08-01T00:00:00",
          "2017-01-01T00:00:00",
          "2017-02-01T00:00:00",
          "2017-04-01T00:00:00",
          "2017-07-01T00:00:00",
          "2017-10-01T00:00:00",
          "2017-11-01T00:00:00",
          "2017-12-01T00:00:00",
          "2018-01-01T00:00:00",
          "2018-02-01T00:00:00",
          "2018-04-01T00:00:00",
          "2018-06-01T00:00:00",
          "2018-08-01T00:00:00",
          "2018-10-01T00:00:00",
          "2018-11-01T00:00:00",
          "2018-12-01T00:00:00",
          "2019-01-01T00:00:00",
          "2019-02-01T00:00:00",
          "2019-03-01T00:00:00",
          "2019-05-01T00:00:00",
          "2019-06-01T00:00:00",
          "2019-07-01T00:00:00",
          "2019-08-01T00:00:00",
          "2019-09-01T00:00:00",
          "2019-10-01T00:00:00",
          "2019-11-01T00:00:00",
          "2019-12-01T00:00:00",
          "2020-01-01T00:00:00",
          "2020-02-01T00:00:00",
          "2020-03-01T00:00:00",
          "2020-04-01T00:00:00",
          "2020-05-01T00:00:00",
          "2020-06-01T00:00:00",
          "2020-07-01T00:00:00",
          "2020-08-01T00:00:00",
          "2020-09-01T00:00:00",
          "2020-10-01T00:00:00",
          "2020-11-01T00:00:00",
          "2020-12-01T00:00:00",
          "2021-01-01T00:00:00",
          "2021-02-01T00:00:00",
          "2021-03-01T00:00:00",
          "2021-04-01T00:00:00",
          "2021-05-01T00:00:00",
          "2021-06-01T00:00:00",
          "2021-07-01T00:00:00",
          "2021-09-01T00:00:00",
          "2021-10-01T00:00:00",
          "2021-11-01T00:00:00",
          "2021-12-01T00:00:00",
          "2022-02-01T00:00:00",
          "2022-04-01T00:00:00",
          "2022-05-01T00:00:00",
          "2022-06-01T00:00:00",
          "2022-07-01T00:00:00",
          "2022-08-01T00:00:00",
          "2022-10-01T00:00:00",
          "2022-12-01T00:00:00"
         ],
         "xaxis": "x",
         "y": [
          64650.43182352941,
          41933.828613224105,
          22852.127044392528,
          172460.27127967577,
          63340.174522293004,
          185137.84591013825,
          60283.73002296212,
          78391.54765177549,
          48270.8798405467,
          40033.41970471323,
          60792.9383786848,
          66163.97433728144,
          61908.121082299884,
          49356.01347557553,
          39703.71711711712,
          24761.425352112674,
          45461.597471910114,
          16019.833949579834,
          16943.878360290015,
          16378.655543175486,
          45221.202216066486,
          31651.92809734513,
          10680.093839383939,
          23225.465032679742,
          10956.463349646547,
          18001.41757641922,
          42474.40596205962,
          17663.18557536467,
          29189.80539083558,
          18527.130744509912,
          54455.810956707646,
          37688.05645677695,
          18263.491179596178,
          17102.101376389623,
          102048.51078224104,
          19623.38477344573,
          18986.178406708594,
          23087.89238393323,
          32380.445435576425,
          46.81471816283925,
          46259.06390471259,
          20581.99617965927,
          17326.285175619836,
          120947.51457157517,
          32393.37858235594,
          23144.65347082495,
          24790.190457056757,
          71242.93271075215,
          24625.54689550732,
          16284.009027081245,
          8391.682461385153,
          31455.589766517634,
          23264.325966303273,
          22658.982090284593,
          95765.25857988164,
          29370.325260029713,
          97914.78455445546,
          30289.11496799606,
          57679.584048132834,
          47653.699822745395,
          34561.3611121936,
          43256.144173983994,
          7136.541558849847,
          28969.282115869013,
          71352.91312534008,
          60825.37624612198,
          30452.12935608777,
          75292.96285085956,
          15182.366576236442,
          25274.299342812537,
          102699.57206513292,
          23146.466230737577,
          56368.95628961357,
          24943.41308810869,
          24103.108765506084,
          256726.14945581908,
          19643.669285267668,
          165.6492853484799,
          1512.1743058595607,
          12119.66265328151,
          26352.836002198525,
          56774.43448079029,
          51207.98883812521,
          12028.997002133452,
          59439.95121524663,
          12033.700086935323,
          28814.715771549545,
          37855.72217183321,
          5298.156935732175,
          49873.512616841734,
          59267.00216860319,
          18938.00056782846,
          25011.45300472504,
          64943.133318632856,
          82259.79336969393,
          2180.267727708701,
          18960.717547977118,
          29069.79765033033,
          3225.089487318619,
          59483.818491810125,
          39234.99413980564,
          19419.069147451886,
          3020.934525837348,
          88334.92018033491,
          168715.93208142006,
          15385.802332751002,
          64742.41777899507,
          59942.32238359676,
          129320.85932540614,
          130332.35927436987,
          83438.71625400377,
          63500.60557009835,
          19564.8114510438,
          170436.63934978523,
          4553.543528618961,
          35848.122936525404,
          10934.44921553843,
          243.92620101809285,
          48735.2585008645,
          3170.6189516641125,
          19916.42135157163,
          24386.916309923417,
          3570.2853918769847,
          11504.735341061825,
          3532.9540737765283,
          36943.625108011875,
          43408.78384513184,
          18035.48151073604,
          15343.58290438309,
          14784.937009745663,
          23187.694241849684,
          32372.639338691388,
          16378.463341253559,
          8105.777001342587,
          7615.765944997074,
          9227.085216930067,
          42639.76587891588,
          24051.63995092456,
          9485.998454294115,
          7338.6283641218615,
          39385.17727438166,
          369.3075845031949,
          1415.8930160978293,
          25255.579460109686,
          8522.77650579105,
          30071.66477840458,
          712.0761486936426,
          7429.079907038357,
          23276.281166278823,
          1096.4332829543189,
          269.2543009851429,
          691.5576262225746,
          18696.515517662712,
          905.2385389921739,
          18202.31202492308,
          20.75935012034809,
          6.949915544467,
          764.719124377177,
          26393.63707067707,
          28264.820106931897,
          581.1295580730839,
          32187.89384413152,
          449.5848155398052,
          138.9924544539468,
          394.3536556843409,
          68.46184669986833,
          47.8110793832096,
          852.837906523339,
          31547.47759650302,
          141.2710091123861,
          66.82734574063863,
          20181.015527112384,
          73.71222825686993,
          46.91699388383668,
          179.48785268441574,
          16351.007244062848,
          29339.418947833117,
          148.12406450932855,
          19374.559458925683,
          76.988374967384,
          69.99779457669445,
          23046.22405202493,
          40633.76557632399,
          140.4712286106441,
          236
         ],
         "yaxis": "y"
        },
        {
         "hovertemplate": "country=Estados Unidos<br>Mês-Ano=%{x}<br>log do valor=%{y}<extra></extra>",
         "legendgroup": "Estados Unidos",
         "line": {
          "color": "#00cc96",
          "dash": "solid"
         },
         "marker": {
          "symbol": "circle"
         },
         "mode": "lines",
         "name": "Estados Unidos",
         "orientation": "v",
         "showlegend": true,
         "type": "scatter",
         "x": [
          "2000-02-01T00:00:00",
          "2000-03-01T00:00:00",
          "2000-06-01T00:00:00",
          "2000-08-01T00:00:00",
          "2001-05-01T00:00:00",
          "2001-06-01T00:00:00",
          "2002-09-01T00:00:00",
          "2002-10-01T00:00:00",
          "2002-12-01T00:00:00",
          "2003-01-01T00:00:00",
          "2003-09-01T00:00:00",
          "2003-11-01T00:00:00",
          "2003-12-01T00:00:00",
          "2004-01-01T00:00:00",
          "2004-02-01T00:00:00",
          "2004-03-01T00:00:00",
          "2004-04-01T00:00:00",
          "2004-05-01T00:00:00",
          "2004-07-01T00:00:00",
          "2004-08-01T00:00:00",
          "2004-09-01T00:00:00",
          "2004-10-01T00:00:00",
          "2004-11-01T00:00:00",
          "2004-12-01T00:00:00",
          "2005-01-01T00:00:00",
          "2005-02-01T00:00:00",
          "2005-04-01T00:00:00",
          "2005-05-01T00:00:00",
          "2005-06-01T00:00:00",
          "2005-07-01T00:00:00",
          "2005-08-01T00:00:00",
          "2005-09-01T00:00:00",
          "2005-10-01T00:00:00",
          "2005-11-01T00:00:00",
          "2005-12-01T00:00:00",
          "2006-01-01T00:00:00",
          "2006-02-01T00:00:00",
          "2006-03-01T00:00:00",
          "2006-04-01T00:00:00",
          "2006-05-01T00:00:00",
          "2006-06-01T00:00:00",
          "2006-07-01T00:00:00",
          "2006-08-01T00:00:00",
          "2006-09-01T00:00:00",
          "2006-10-01T00:00:00",
          "2006-11-01T00:00:00",
          "2006-12-01T00:00:00",
          "2007-01-01T00:00:00",
          "2007-02-01T00:00:00",
          "2007-03-01T00:00:00",
          "2007-04-01T00:00:00",
          "2007-05-01T00:00:00",
          "2007-06-01T00:00:00",
          "2007-07-01T00:00:00",
          "2007-09-01T00:00:00",
          "2007-10-01T00:00:00",
          "2007-11-01T00:00:00",
          "2007-12-01T00:00:00",
          "2008-01-01T00:00:00",
          "2008-02-01T00:00:00",
          "2008-03-01T00:00:00",
          "2008-04-01T00:00:00",
          "2008-05-01T00:00:00",
          "2008-06-01T00:00:00",
          "2008-07-01T00:00:00",
          "2008-08-01T00:00:00",
          "2008-09-01T00:00:00",
          "2008-10-01T00:00:00",
          "2008-11-01T00:00:00",
          "2008-12-01T00:00:00",
          "2009-01-01T00:00:00",
          "2009-02-01T00:00:00",
          "2009-03-01T00:00:00",
          "2009-04-01T00:00:00",
          "2009-05-01T00:00:00",
          "2009-06-01T00:00:00",
          "2009-07-01T00:00:00",
          "2009-08-01T00:00:00",
          "2009-10-01T00:00:00",
          "2009-11-01T00:00:00",
          "2009-12-01T00:00:00",
          "2010-01-01T00:00:00",
          "2010-02-01T00:00:00",
          "2010-03-01T00:00:00",
          "2010-04-01T00:00:00",
          "2010-05-01T00:00:00",
          "2010-06-01T00:00:00",
          "2010-07-01T00:00:00",
          "2010-08-01T00:00:00",
          "2010-09-01T00:00:00",
          "2010-10-01T00:00:00",
          "2010-11-01T00:00:00",
          "2010-12-01T00:00:00",
          "2011-03-01T00:00:00",
          "2011-04-01T00:00:00",
          "2011-05-01T00:00:00",
          "2011-06-01T00:00:00",
          "2011-07-01T00:00:00",
          "2011-08-01T00:00:00",
          "2011-10-01T00:00:00",
          "2011-11-01T00:00:00",
          "2011-12-01T00:00:00",
          "2012-02-01T00:00:00",
          "2012-04-01T00:00:00",
          "2012-05-01T00:00:00",
          "2012-06-01T00:00:00",
          "2012-07-01T00:00:00",
          "2012-09-01T00:00:00",
          "2012-12-01T00:00:00",
          "2013-02-01T00:00:00",
          "2013-03-01T00:00:00",
          "2013-04-01T00:00:00",
          "2013-05-01T00:00:00",
          "2013-06-01T00:00:00",
          "2013-07-01T00:00:00",
          "2013-08-01T00:00:00",
          "2013-09-01T00:00:00",
          "2013-10-01T00:00:00",
          "2013-11-01T00:00:00",
          "2013-12-01T00:00:00",
          "2014-02-01T00:00:00",
          "2014-03-01T00:00:00",
          "2014-04-01T00:00:00",
          "2014-05-01T00:00:00",
          "2014-06-01T00:00:00",
          "2014-07-01T00:00:00",
          "2014-09-01T00:00:00",
          "2014-10-01T00:00:00",
          "2014-12-01T00:00:00",
          "2015-01-01T00:00:00",
          "2015-03-01T00:00:00",
          "2015-04-01T00:00:00",
          "2015-05-01T00:00:00",
          "2015-06-01T00:00:00",
          "2015-07-01T00:00:00",
          "2015-08-01T00:00:00",
          "2015-09-01T00:00:00",
          "2015-10-01T00:00:00",
          "2015-12-01T00:00:00",
          "2016-01-01T00:00:00",
          "2016-02-01T00:00:00",
          "2016-03-01T00:00:00",
          "2016-04-01T00:00:00",
          "2016-05-01T00:00:00",
          "2016-06-01T00:00:00",
          "2016-07-01T00:00:00",
          "2016-08-01T00:00:00",
          "2016-09-01T00:00:00",
          "2016-10-01T00:00:00",
          "2016-11-01T00:00:00",
          "2016-12-01T00:00:00",
          "2017-02-01T00:00:00",
          "2017-03-01T00:00:00",
          "2017-04-01T00:00:00",
          "2017-05-01T00:00:00",
          "2017-06-01T00:00:00",
          "2017-07-01T00:00:00",
          "2017-08-01T00:00:00",
          "2017-09-01T00:00:00",
          "2017-10-01T00:00:00",
          "2017-11-01T00:00:00",
          "2017-12-01T00:00:00",
          "2018-01-01T00:00:00",
          "2018-03-01T00:00:00",
          "2018-04-01T00:00:00",
          "2018-06-01T00:00:00",
          "2018-07-01T00:00:00",
          "2018-08-01T00:00:00",
          "2018-09-01T00:00:00",
          "2018-10-01T00:00:00",
          "2018-11-01T00:00:00",
          "2018-12-01T00:00:00",
          "2019-01-01T00:00:00",
          "2019-02-01T00:00:00",
          "2019-03-01T00:00:00",
          "2019-04-01T00:00:00",
          "2019-05-01T00:00:00",
          "2019-06-01T00:00:00",
          "2019-07-01T00:00:00",
          "2019-08-01T00:00:00",
          "2019-09-01T00:00:00",
          "2019-10-01T00:00:00",
          "2019-11-01T00:00:00",
          "2019-12-01T00:00:00",
          "2020-01-01T00:00:00",
          "2020-02-01T00:00:00",
          "2020-03-01T00:00:00",
          "2020-04-01T00:00:00",
          "2020-05-01T00:00:00",
          "2020-06-01T00:00:00",
          "2020-07-01T00:00:00",
          "2020-08-01T00:00:00",
          "2020-09-01T00:00:00",
          "2020-10-01T00:00:00",
          "2020-11-01T00:00:00",
          "2020-12-01T00:00:00",
          "2021-03-01T00:00:00",
          "2021-04-01T00:00:00",
          "2021-05-01T00:00:00",
          "2021-06-01T00:00:00",
          "2021-07-01T00:00:00",
          "2021-08-01T00:00:00",
          "2021-09-01T00:00:00",
          "2021-10-01T00:00:00",
          "2021-11-01T00:00:00",
          "2021-12-01T00:00:00",
          "2022-02-01T00:00:00",
          "2022-03-01T00:00:00",
          "2022-04-01T00:00:00",
          "2022-05-01T00:00:00",
          "2022-06-01T00:00:00",
          "2022-07-01T00:00:00",
          "2022-08-01T00:00:00",
          "2022-09-01T00:00:00",
          "2022-10-01T00:00:00",
          "2022-11-01T00:00:00",
          "2022-12-01T00:00:00"
         ],
         "xaxis": "x",
         "y": [
          4748.664705882353,
          1258.905263157895,
          425.39227642276427,
          1674.1362478286046,
          10251.326621545402,
          3185.0763646595387,
          9341.783794247787,
          23084.272075055193,
          3.2892189218921892,
          88.4198247535597,
          25445.648136142627,
          27497.38302702703,
          63614.756442048514,
          25613.95813204509,
          58835.530851633644,
          3175.2706039551044,
          3910.482870864461,
          55147.92704569607,
          8797.357800105765,
          80768.38742071883,
          46844.39214963119,
          7.835167714884696,
          113709.78059467919,
          66003.95310380803,
          31158.315918580378,
          76385.4181912682,
          82232.28322147652,
          56642.85242768595,
          127417.28203407332,
          35200.74161108261,
          187134.80688424275,
          79421.85070422535,
          74507.2267704671,
          103822.42862190813,
          45545.79116607774,
          15174.53010536879,
          32797.433650952866,
          184364.69003505257,
          86602.81848530145,
          88106.24843517138,
          84324.66233894946,
          50350.85909314934,
          69752.107703631,
          27890.990236686386,
          80657.69856364536,
          96909.7637128713,
          61334.905760709014,
          56140.815141788364,
          114623.61824645246,
          65185.96035813101,
          118202.57974590099,
          7926.116369616213,
          210865.9026028547,
          38833.57350327307,
          68243.24492800185,
          355379.17954969173,
          110788.56242351803,
          20391.75572844002,
          2984.6296907255364,
          295552.880900102,
          13088.72680933998,
          25237.963606958892,
          113260.48181294375,
          108798.63093951615,
          105500.26568835153,
          81589.58448031462,
          31627.42302754515,
          185193.43736030784,
          110945.26025906275,
          43247.884180550434,
          2274.1709880009253,
          33264.84262241132,
          82613.23259370809,
          35396.556704229726,
          95158.82875947087,
          123138.66748917548,
          72936.65038234775,
          66999.18410731279,
          182319.69922728385,
          63958.98109872303,
          179981.12074240728,
          88437.18595968514,
          127730.67023807882,
          74304.21406651851,
          65064.49727004688,
          67422.38947949745,
          2996.7966242938505,
          38942.00307897337,
          64846.130789315495,
          84955.48638185774,
          41036.986645969824,
          73831.83546609592,
          81331.539923437,
          119662.4880966258,
          36611.074866238574,
          80499.04691155929,
          260774.03307740894,
          35697.8632622729,
          84775.49865992057,
          572752.7599558986,
          53095.07718922916,
          120028.64947650545,
          40992.96169124377,
          34854.14019992408,
          80376.28451377928,
          24716.091482732667,
          15220.904807734372,
          122563.70369889404,
          76619.57378438809,
          37522.483203612996,
          153919.05623337152,
          241082.18816464406,
          31765.58425653211,
          5076.9581191249545,
          75140.33357664234,
          177481.12792132137,
          64756.586253553935,
          126806.7478784092,
          78968.6104228962,
          17364.728377336305,
          76126.32413064058,
          39218.78082261427,
          39191.32415379671,
          89006.1823922201,
          38034.321905653145,
          74366.67795097223,
          123442.57987089278,
          86313.32426399359,
          58115.570619507984,
          80363.42547508594,
          69431.01849340611,
          77417.52821498421,
          91730.249577006,
          24966.470796147387,
          954.6216086777521,
          122651.80685031068,
          73630.21217020776,
          72693.40815116117,
          47534.38116427841,
          80411.4665561409,
          100812.24828934507,
          51764.40192372311,
          84295.48353082949,
          43441.20998342775,
          152713.64000799262,
          77403.34450918571,
          42666.157018437305,
          28752.757612697784,
          41730.292337667175,
          17245.669473527636,
          135539.12663773456,
          39791.64963156644,
          20491.110204516754,
          56367.71991826137,
          35658.874403698304,
          16582.86710107592,
          43965.33718468902,
          28624.30213350844,
          1461876.5023231278,
          22489.775976579924,
          56560.28376279905,
          67805.8958455237,
          35359.68034107667,
          98903.41025014325,
          34887.96181067591,
          114844.42478228653,
          15496.149896104518,
          93683.05019013523,
          28326.641393913924,
          75888.94505720571,
          54244.41883021766,
          58116.671400934465,
          60347.430416511685,
          17983.87281799449,
          32853.35552041291,
          110506.72087018193,
          34035.60025852952,
          82138.20413937977,
          145824.93677767567,
          26870.205226139286,
          8355.042551781404,
          110206.39085848453,
          36721.529113315206,
          54404.48935874038,
          120018.68146249378,
          44651.05551441092,
          9450.72682121771,
          32755.66374584134,
          15144.177466506168,
          54068.946440662134,
          83434.9238417519,
          112834.548342206,
          73566.33375508117,
          68827.68500802963,
          18986.29431815132,
          70735.92104108229,
          14525.473549906763,
          9719.669666629168,
          31515.776251285184,
          42224.094966347446,
          13883.203110051369,
          28164.47011397369,
          2804.1087042200065,
          13324.269931506356,
          19163.783847784984,
          47293.48706063293,
          51771.98685921085,
          44231.94857238271,
          760.3960348011684,
          126365.63913646541,
          20184.726357862164,
          19208.231125351293,
          13505.778816199378,
          93930.0004383909,
          46610.360384849,
          17338.732476439895,
          23152
         ],
         "yaxis": "y"
        },
        {
         "hovertemplate": "country=Reino Unido<br>Mês-Ano=%{x}<br>log do valor=%{y}<extra></extra>",
         "legendgroup": "Reino Unido",
         "line": {
          "color": "#ab63fa",
          "dash": "solid"
         },
         "marker": {
          "symbol": "circle"
         },
         "mode": "lines",
         "name": "Reino Unido",
         "orientation": "v",
         "showlegend": true,
         "type": "scatter",
         "x": [
          "2005-02-01T00:00:00",
          "2005-10-01T00:00:00",
          "2005-12-01T00:00:00",
          "2006-02-01T00:00:00",
          "2006-03-01T00:00:00",
          "2006-08-01T00:00:00",
          "2006-11-01T00:00:00",
          "2007-08-01T00:00:00",
          "2007-09-01T00:00:00",
          "2007-10-01T00:00:00",
          "2007-11-01T00:00:00",
          "2008-02-01T00:00:00",
          "2008-04-01T00:00:00",
          "2008-05-01T00:00:00",
          "2008-07-01T00:00:00",
          "2008-10-01T00:00:00",
          "2008-11-01T00:00:00",
          "2009-06-01T00:00:00",
          "2009-10-01T00:00:00",
          "2009-12-01T00:00:00",
          "2010-04-01T00:00:00",
          "2010-05-01T00:00:00",
          "2010-06-01T00:00:00",
          "2010-07-01T00:00:00",
          "2010-08-01T00:00:00",
          "2010-10-01T00:00:00",
          "2010-11-01T00:00:00",
          "2010-12-01T00:00:00",
          "2011-01-01T00:00:00",
          "2011-02-01T00:00:00",
          "2011-03-01T00:00:00",
          "2011-04-01T00:00:00",
          "2011-05-01T00:00:00",
          "2011-07-01T00:00:00",
          "2011-08-01T00:00:00",
          "2011-09-01T00:00:00",
          "2012-02-01T00:00:00",
          "2012-03-01T00:00:00",
          "2012-04-01T00:00:00",
          "2012-05-01T00:00:00",
          "2012-06-01T00:00:00",
          "2012-08-01T00:00:00",
          "2012-09-01T00:00:00",
          "2012-11-01T00:00:00",
          "2013-01-01T00:00:00",
          "2013-02-01T00:00:00",
          "2013-05-01T00:00:00",
          "2013-06-01T00:00:00",
          "2013-07-01T00:00:00",
          "2013-09-01T00:00:00",
          "2013-10-01T00:00:00",
          "2013-12-01T00:00:00",
          "2014-01-01T00:00:00",
          "2014-02-01T00:00:00",
          "2014-03-01T00:00:00",
          "2014-04-01T00:00:00",
          "2014-05-01T00:00:00",
          "2014-06-01T00:00:00",
          "2014-07-01T00:00:00",
          "2014-09-01T00:00:00",
          "2014-10-01T00:00:00",
          "2014-11-01T00:00:00",
          "2014-12-01T00:00:00",
          "2015-01-01T00:00:00",
          "2015-02-01T00:00:00",
          "2015-03-01T00:00:00",
          "2015-05-01T00:00:00",
          "2015-06-01T00:00:00",
          "2015-07-01T00:00:00",
          "2015-08-01T00:00:00",
          "2015-09-01T00:00:00",
          "2015-10-01T00:00:00",
          "2015-11-01T00:00:00",
          "2015-12-01T00:00:00",
          "2016-01-01T00:00:00",
          "2016-03-01T00:00:00",
          "2016-05-01T00:00:00",
          "2016-06-01T00:00:00",
          "2016-07-01T00:00:00",
          "2016-08-01T00:00:00",
          "2016-09-01T00:00:00",
          "2016-10-01T00:00:00",
          "2016-11-01T00:00:00",
          "2016-12-01T00:00:00",
          "2017-02-01T00:00:00",
          "2017-03-01T00:00:00",
          "2017-05-01T00:00:00",
          "2017-06-01T00:00:00",
          "2017-07-01T00:00:00",
          "2017-08-01T00:00:00",
          "2017-09-01T00:00:00",
          "2017-11-01T00:00:00",
          "2018-01-01T00:00:00",
          "2018-02-01T00:00:00",
          "2018-03-01T00:00:00",
          "2018-04-01T00:00:00",
          "2018-05-01T00:00:00",
          "2018-07-01T00:00:00",
          "2018-08-01T00:00:00",
          "2018-09-01T00:00:00",
          "2018-10-01T00:00:00",
          "2018-11-01T00:00:00",
          "2018-12-01T00:00:00",
          "2019-01-01T00:00:00",
          "2019-02-01T00:00:00",
          "2019-03-01T00:00:00",
          "2019-04-01T00:00:00",
          "2019-05-01T00:00:00",
          "2019-06-01T00:00:00",
          "2019-07-01T00:00:00",
          "2019-08-01T00:00:00",
          "2019-09-01T00:00:00",
          "2019-10-01T00:00:00",
          "2019-11-01T00:00:00",
          "2019-12-01T00:00:00",
          "2020-01-01T00:00:00",
          "2020-02-01T00:00:00",
          "2020-03-01T00:00:00",
          "2020-04-01T00:00:00",
          "2020-05-01T00:00:00",
          "2020-06-01T00:00:00",
          "2020-07-01T00:00:00",
          "2020-08-01T00:00:00",
          "2020-09-01T00:00:00",
          "2020-10-01T00:00:00",
          "2020-12-01T00:00:00",
          "2021-01-01T00:00:00",
          "2021-02-01T00:00:00",
          "2021-03-01T00:00:00",
          "2021-04-01T00:00:00",
          "2021-05-01T00:00:00",
          "2021-06-01T00:00:00",
          "2021-07-01T00:00:00",
          "2021-08-01T00:00:00",
          "2021-09-01T00:00:00",
          "2021-10-01T00:00:00",
          "2021-11-01T00:00:00",
          "2021-12-01T00:00:00",
          "2022-01-01T00:00:00",
          "2022-02-01T00:00:00",
          "2022-03-01T00:00:00",
          "2022-04-01T00:00:00",
          "2022-05-01T00:00:00",
          "2022-06-01T00:00:00",
          "2022-07-01T00:00:00",
          "2022-08-01T00:00:00",
          "2022-09-01T00:00:00",
          "2022-10-01T00:00:00",
          "2022-11-01T00:00:00",
          "2022-12-01T00:00:00"
         ],
         "xaxis": "x",
         "y": [
          4438.229937629938,
          31342.14108488197,
          4102.245431600202,
          22347.778134403212,
          377.293340010015,
          50276.679587831204,
          592.059405940594,
          13861.979611589708,
          53550.87572585556,
          63881.43816626034,
          74549.67087851105,
          4774.01082341657,
          51097.8273083359,
          51066.76066874837,
          40599.60276874749,
          43860.225719486625,
          23548.550196337845,
          43703.57111597374,
          23200.107154898873,
          28327.06262336264,
          29499.75621311574,
          86116.66045377146,
          28163.280724128566,
          24733.4343879966,
          56917.352229916076,
          54452.53082840642,
          68290.19285941984,
          56502.04724409449,
          27086.409327853806,
          26999.619735193646,
          90939.89845144052,
          71428.95422882464,
          53299.3970356663,
          26580.721045276074,
          58233.40212112903,
          26439.721708583962,
          40226.92167880558,
          40142.88374044501,
          51105.14235100595,
          35548.6354951402,
          164677.12511596156,
          47617.48462495324,
          42084.96344393222,
          15578.577680335917,
          32986.09023692264,
          7985.063729677981,
          23769.068708412935,
          78193.12998773904,
          5432.91404036067,
          123023.68739937656,
          61538.43710547826,
          58058.21522756999,
          128737.45329128556,
          184200.7491073968,
          325543.74947040185,
          424288.18846524693,
          162332.0418457019,
          132164.79444086144,
          165407.69652797078,
          96475.47648824939,
          35841.52541801794,
          59946.117907191656,
          21868.797724463708,
          11800.54420290781,
          43125.39007062063,
          30089.562158863613,
          31059.50523415513,
          30611.44708550558,
          31311.58876463027,
          47365.75983161999,
          85034.73098720833,
          16903.103902276926,
          18917.931912426422,
          42521.89324573837,
          26827.72608688334,
          51079.97001008064,
          66711.94951514671,
          106252.45947498565,
          146748.56227171066,
          76273.55530150284,
          91142.75802733275,
          62453.20425579442,
          27672.1343987836,
          12618.263496498885,
          51638.22438792489,
          31888.409131910845,
          29624.031737184643,
          52900.5950942608,
          8307.079998198516,
          26596.345994624426,
          34141.16744780571,
          61202.00182785785,
          75403.78845048802,
          23437.133158871315,
          24891.77376120396,
          17809.6126716941,
          4495.722710453284,
          45802.90572977621,
          80037.02697655198,
          1246.0781895615073,
          34446.80099061605,
          14256.21970434769,
          31822.69825570585,
          2870.194208564487,
          1958.0786903624637,
          8503.857955484222,
          26383.090070569062,
          7487.340162168515,
          41520.82293785444,
          164.88096681463523,
          31517.49432747921,
          11584.92856056855,
          46330.87411173827,
          12838.560063304152,
          1069.4069585795157,
          23147.06184830739,
          19784.813961920634,
          2336.3299421983234,
          16307.781266107493,
          835.5005315240671,
          727.1553703314578,
          18.522057627827376,
          12692.129015346305,
          17218.753485188194,
          2288.2063576220003,
          227.06512488789664,
          576.0096706643824,
          328.8869586326706,
          2999.89966555184,
          1527.0723365957926,
          168.18215344727392,
          19932.371978015883,
          29157.0369143816,
          6831.834390002567,
          2478.963025676208,
          66769.48119860265,
          1911.6582409736252,
          901.5886459679516,
          14654.370645331372,
          1419.2596535610132,
          18685.83493348918,
          199.9406467528958,
          1934.9744908469181,
          24888.781045574226,
          26042.94354236529,
          704.649329540837,
          14885.021430570683,
          129.43420350552205,
          20691.12773695738,
          16459
         ],
         "yaxis": "y"
        },
        {
         "hovertemplate": "country=Rússia<br>Mês-Ano=%{x}<br>log do valor=%{y}<extra></extra>",
         "legendgroup": "Rússia",
         "line": {
          "color": "#FFA15A",
          "dash": "solid"
         },
         "marker": {
          "symbol": "circle"
         },
         "mode": "lines",
         "name": "Rússia",
         "orientation": "v",
         "showlegend": true,
         "type": "scatter",
         "x": [
          "2005-07-01T00:00:00",
          "2005-09-01T00:00:00",
          "2005-10-01T00:00:00",
          "2006-03-01T00:00:00",
          "2006-04-01T00:00:00",
          "2006-10-01T00:00:00",
          "2007-06-01T00:00:00",
          "2007-07-01T00:00:00",
          "2007-11-01T00:00:00",
          "2008-02-01T00:00:00",
          "2008-03-01T00:00:00",
          "2008-04-01T00:00:00",
          "2008-05-01T00:00:00",
          "2008-06-01T00:00:00",
          "2008-07-01T00:00:00",
          "2008-08-01T00:00:00",
          "2008-09-01T00:00:00",
          "2008-10-01T00:00:00",
          "2008-11-01T00:00:00",
          "2008-12-01T00:00:00",
          "2009-01-01T00:00:00",
          "2009-02-01T00:00:00",
          "2009-03-01T00:00:00",
          "2009-04-01T00:00:00",
          "2009-05-01T00:00:00",
          "2009-06-01T00:00:00",
          "2009-07-01T00:00:00",
          "2009-08-01T00:00:00",
          "2009-09-01T00:00:00",
          "2009-10-01T00:00:00",
          "2009-11-01T00:00:00",
          "2009-12-01T00:00:00",
          "2010-01-01T00:00:00",
          "2010-02-01T00:00:00",
          "2010-03-01T00:00:00",
          "2010-04-01T00:00:00",
          "2010-05-01T00:00:00",
          "2010-06-01T00:00:00",
          "2010-07-01T00:00:00",
          "2010-10-01T00:00:00",
          "2010-11-01T00:00:00",
          "2012-03-01T00:00:00",
          "2012-08-01T00:00:00",
          "2012-09-01T00:00:00",
          "2012-10-01T00:00:00",
          "2012-11-01T00:00:00",
          "2012-12-01T00:00:00",
          "2013-01-01T00:00:00",
          "2013-02-01T00:00:00",
          "2013-03-01T00:00:00",
          "2013-04-01T00:00:00",
          "2013-05-01T00:00:00",
          "2013-06-01T00:00:00",
          "2013-07-01T00:00:00",
          "2013-08-01T00:00:00",
          "2013-09-01T00:00:00",
          "2013-10-01T00:00:00",
          "2013-12-01T00:00:00",
          "2014-05-01T00:00:00",
          "2014-06-01T00:00:00",
          "2014-12-01T00:00:00",
          "2015-03-01T00:00:00",
          "2020-01-01T00:00:00",
          "2021-01-01T00:00:00",
          "2021-06-01T00:00:00",
          "2021-07-01T00:00:00",
          "2021-11-01T00:00:00",
          "2022-04-01T00:00:00",
          "2022-05-01T00:00:00",
          "2022-08-01T00:00:00"
         ],
         "xaxis": "x",
         "y": [
          24535.895638789123,
          60158.953722334,
          24018.312707182322,
          88514.21532298447,
          45800.44125560539,
          110888.41604754828,
          38262.13266162888,
          76388.2487247294,
          132736.9589345172,
          16447.56379092281,
          128556.39893557213,
          144278.02684839815,
          125037.63800602207,
          295741.10998192796,
          40954.54213390803,
          167343.6188211624,
          989543.698058727,
          757275.0708541672,
          288646.4802747323,
          295280.1693961154,
          496028.85817687673,
          411575.9949225453,
          601089.5691663333,
          296868.90540597716,
          1059410.0703213753,
          1152397.0219749522,
          791823.7584177045,
          755437.3807700343,
          1382057.0737650618,
          1400292.1818492534,
          153848.39481849063,
          529151.5107178843,
          326638.82145221805,
          138706.06265619176,
          344794.6082639761,
          426189.6481189313,
          229213.28270974275,
          461550.7304361438,
          988769.9121343719,
          73251.76510603329,
          160745.7599162075,
          266573.8373388926,
          281827.0548630381,
          200349.12018700087,
          23853.319403552094,
          1420118.7824379783,
          532236.6221061236,
          470477.6626280328,
          814425.1577894452,
          186403.75427282357,
          791534.0297760541,
          1731392.6014584315,
          550469.859364581,
          1692184.5497209104,
          893184.2140703175,
          207671.2048264995,
          190396.2956147371,
          48914.72782348255,
          18172.768637250017,
          36297.58336810957,
          23083.73093137836,
          23110.729904736076,
          9868.72338700649,
          25463.953207690847,
          123597.94554976917,
          123049.91297596444,
          71732.23995464836,
          6837.348541808871,
          114810.1973096942,
          175.1499051875931
         ],
         "yaxis": "y"
        }
       ],
       "layout": {
        "height": 600,
        "legend": {
         "title": {
          "text": "country"
         },
         "tracegroupgap": 0
        },
        "template": {
         "data": {
          "bar": [
           {
            "error_x": {
             "color": "#2a3f5f"
            },
            "error_y": {
             "color": "#2a3f5f"
            },
            "marker": {
             "line": {
              "color": "white",
              "width": 0.5
             },
             "pattern": {
              "fillmode": "overlay",
              "size": 10,
              "solidity": 0.2
             }
            },
            "type": "bar"
           }
          ],
          "barpolar": [
           {
            "marker": {
             "line": {
              "color": "white",
              "width": 0.5
             },
             "pattern": {
              "fillmode": "overlay",
              "size": 10,
              "solidity": 0.2
             }
            },
            "type": "barpolar"
           }
          ],
          "carpet": [
           {
            "aaxis": {
             "endlinecolor": "#2a3f5f",
             "gridcolor": "#C8D4E3",
             "linecolor": "#C8D4E3",
             "minorgridcolor": "#C8D4E3",
             "startlinecolor": "#2a3f5f"
            },
            "baxis": {
             "endlinecolor": "#2a3f5f",
             "gridcolor": "#C8D4E3",
             "linecolor": "#C8D4E3",
             "minorgridcolor": "#C8D4E3",
             "startlinecolor": "#2a3f5f"
            },
            "type": "carpet"
           }
          ],
          "choropleth": [
           {
            "colorbar": {
             "outlinewidth": 0,
             "ticks": ""
            },
            "type": "choropleth"
           }
          ],
          "contour": [
           {
            "colorbar": {
             "outlinewidth": 0,
             "ticks": ""
            },
            "colorscale": [
             [
              0,
              "#0d0887"
             ],
             [
              0.1111111111111111,
              "#46039f"
             ],
             [
              0.2222222222222222,
              "#7201a8"
             ],
             [
              0.3333333333333333,
              "#9c179e"
             ],
             [
              0.4444444444444444,
              "#bd3786"
             ],
             [
              0.5555555555555556,
              "#d8576b"
             ],
             [
              0.6666666666666666,
              "#ed7953"
             ],
             [
              0.7777777777777778,
              "#fb9f3a"
             ],
             [
              0.8888888888888888,
              "#fdca26"
             ],
             [
              1,
              "#f0f921"
             ]
            ],
            "type": "contour"
           }
          ],
          "contourcarpet": [
           {
            "colorbar": {
             "outlinewidth": 0,
             "ticks": ""
            },
            "type": "contourcarpet"
           }
          ],
          "heatmap": [
           {
            "colorbar": {
             "outlinewidth": 0,
             "ticks": ""
            },
            "colorscale": [
             [
              0,
              "#0d0887"
             ],
             [
              0.1111111111111111,
              "#46039f"
             ],
             [
              0.2222222222222222,
              "#7201a8"
             ],
             [
              0.3333333333333333,
              "#9c179e"
             ],
             [
              0.4444444444444444,
              "#bd3786"
             ],
             [
              0.5555555555555556,
              "#d8576b"
             ],
             [
              0.6666666666666666,
              "#ed7953"
             ],
             [
              0.7777777777777778,
              "#fb9f3a"
             ],
             [
              0.8888888888888888,
              "#fdca26"
             ],
             [
              1,
              "#f0f921"
             ]
            ],
            "type": "heatmap"
           }
          ],
          "heatmapgl": [
           {
            "colorbar": {
             "outlinewidth": 0,
             "ticks": ""
            },
            "colorscale": [
             [
              0,
              "#0d0887"
             ],
             [
              0.1111111111111111,
              "#46039f"
             ],
             [
              0.2222222222222222,
              "#7201a8"
             ],
             [
              0.3333333333333333,
              "#9c179e"
             ],
             [
              0.4444444444444444,
              "#bd3786"
             ],
             [
              0.5555555555555556,
              "#d8576b"
             ],
             [
              0.6666666666666666,
              "#ed7953"
             ],
             [
              0.7777777777777778,
              "#fb9f3a"
             ],
             [
              0.8888888888888888,
              "#fdca26"
             ],
             [
              1,
              "#f0f921"
             ]
            ],
            "type": "heatmapgl"
           }
          ],
          "histogram": [
           {
            "marker": {
             "pattern": {
              "fillmode": "overlay",
              "size": 10,
              "solidity": 0.2
             }
            },
            "type": "histogram"
           }
          ],
          "histogram2d": [
           {
            "colorbar": {
             "outlinewidth": 0,
             "ticks": ""
            },
            "colorscale": [
             [
              0,
              "#0d0887"
             ],
             [
              0.1111111111111111,
              "#46039f"
             ],
             [
              0.2222222222222222,
              "#7201a8"
             ],
             [
              0.3333333333333333,
              "#9c179e"
             ],
             [
              0.4444444444444444,
              "#bd3786"
             ],
             [
              0.5555555555555556,
              "#d8576b"
             ],
             [
              0.6666666666666666,
              "#ed7953"
             ],
             [
              0.7777777777777778,
              "#fb9f3a"
             ],
             [
              0.8888888888888888,
              "#fdca26"
             ],
             [
              1,
              "#f0f921"
             ]
            ],
            "type": "histogram2d"
           }
          ],
          "histogram2dcontour": [
           {
            "colorbar": {
             "outlinewidth": 0,
             "ticks": ""
            },
            "colorscale": [
             [
              0,
              "#0d0887"
             ],
             [
              0.1111111111111111,
              "#46039f"
             ],
             [
              0.2222222222222222,
              "#7201a8"
             ],
             [
              0.3333333333333333,
              "#9c179e"
             ],
             [
              0.4444444444444444,
              "#bd3786"
             ],
             [
              0.5555555555555556,
              "#d8576b"
             ],
             [
              0.6666666666666666,
              "#ed7953"
             ],
             [
              0.7777777777777778,
              "#fb9f3a"
             ],
             [
              0.8888888888888888,
              "#fdca26"
             ],
             [
              1,
              "#f0f921"
             ]
            ],
            "type": "histogram2dcontour"
           }
          ],
          "mesh3d": [
           {
            "colorbar": {
             "outlinewidth": 0,
             "ticks": ""
            },
            "type": "mesh3d"
           }
          ],
          "parcoords": [
           {
            "line": {
             "colorbar": {
              "outlinewidth": 0,
              "ticks": ""
             }
            },
            "type": "parcoords"
           }
          ],
          "pie": [
           {
            "automargin": true,
            "type": "pie"
           }
          ],
          "scatter": [
           {
            "fillpattern": {
             "fillmode": "overlay",
             "size": 10,
             "solidity": 0.2
            },
            "type": "scatter"
           }
          ],
          "scatter3d": [
           {
            "line": {
             "colorbar": {
              "outlinewidth": 0,
              "ticks": ""
             }
            },
            "marker": {
             "colorbar": {
              "outlinewidth": 0,
              "ticks": ""
             }
            },
            "type": "scatter3d"
           }
          ],
          "scattercarpet": [
           {
            "marker": {
             "colorbar": {
              "outlinewidth": 0,
              "ticks": ""
             }
            },
            "type": "scattercarpet"
           }
          ],
          "scattergeo": [
           {
            "marker": {
             "colorbar": {
              "outlinewidth": 0,
              "ticks": ""
             }
            },
            "type": "scattergeo"
           }
          ],
          "scattergl": [
           {
            "marker": {
             "colorbar": {
              "outlinewidth": 0,
              "ticks": ""
             }
            },
            "type": "scattergl"
           }
          ],
          "scattermapbox": [
           {
            "marker": {
             "colorbar": {
              "outlinewidth": 0,
              "ticks": ""
             }
            },
            "type": "scattermapbox"
           }
          ],
          "scatterpolar": [
           {
            "marker": {
             "colorbar": {
              "outlinewidth": 0,
              "ticks": ""
             }
            },
            "type": "scatterpolar"
           }
          ],
          "scatterpolargl": [
           {
            "marker": {
             "colorbar": {
              "outlinewidth": 0,
              "ticks": ""
             }
            },
            "type": "scatterpolargl"
           }
          ],
          "scatterternary": [
           {
            "marker": {
             "colorbar": {
              "outlinewidth": 0,
              "ticks": ""
             }
            },
            "type": "scatterternary"
           }
          ],
          "surface": [
           {
            "colorbar": {
             "outlinewidth": 0,
             "ticks": ""
            },
            "colorscale": [
             [
              0,
              "#0d0887"
             ],
             [
              0.1111111111111111,
              "#46039f"
             ],
             [
              0.2222222222222222,
              "#7201a8"
             ],
             [
              0.3333333333333333,
              "#9c179e"
             ],
             [
              0.4444444444444444,
              "#bd3786"
             ],
             [
              0.5555555555555556,
              "#d8576b"
             ],
             [
              0.6666666666666666,
              "#ed7953"
             ],
             [
              0.7777777777777778,
              "#fb9f3a"
             ],
             [
              0.8888888888888888,
              "#fdca26"
             ],
             [
              1,
              "#f0f921"
             ]
            ],
            "type": "surface"
           }
          ],
          "table": [
           {
            "cells": {
             "fill": {
              "color": "#EBF0F8"
             },
             "line": {
              "color": "white"
             }
            },
            "header": {
             "fill": {
              "color": "#C8D4E3"
             },
             "line": {
              "color": "white"
             }
            },
            "type": "table"
           }
          ]
         },
         "layout": {
          "annotationdefaults": {
           "arrowcolor": "#2a3f5f",
           "arrowhead": 0,
           "arrowwidth": 1
          },
          "autotypenumbers": "strict",
          "coloraxis": {
           "colorbar": {
            "outlinewidth": 0,
            "ticks": ""
           }
          },
          "colorscale": {
           "diverging": [
            [
             0,
             "#8e0152"
            ],
            [
             0.1,
             "#c51b7d"
            ],
            [
             0.2,
             "#de77ae"
            ],
            [
             0.3,
             "#f1b6da"
            ],
            [
             0.4,
             "#fde0ef"
            ],
            [
             0.5,
             "#f7f7f7"
            ],
            [
             0.6,
             "#e6f5d0"
            ],
            [
             0.7,
             "#b8e186"
            ],
            [
             0.8,
             "#7fbc41"
            ],
            [
             0.9,
             "#4d9221"
            ],
            [
             1,
             "#276419"
            ]
           ],
           "sequential": [
            [
             0,
             "#0d0887"
            ],
            [
             0.1111111111111111,
             "#46039f"
            ],
            [
             0.2222222222222222,
             "#7201a8"
            ],
            [
             0.3333333333333333,
             "#9c179e"
            ],
            [
             0.4444444444444444,
             "#bd3786"
            ],
            [
             0.5555555555555556,
             "#d8576b"
            ],
            [
             0.6666666666666666,
             "#ed7953"
            ],
            [
             0.7777777777777778,
             "#fb9f3a"
            ],
            [
             0.8888888888888888,
             "#fdca26"
            ],
            [
             1,
             "#f0f921"
            ]
           ],
           "sequentialminus": [
            [
             0,
             "#0d0887"
            ],
            [
             0.1111111111111111,
             "#46039f"
            ],
            [
             0.2222222222222222,
             "#7201a8"
            ],
            [
             0.3333333333333333,
             "#9c179e"
            ],
            [
             0.4444444444444444,
             "#bd3786"
            ],
            [
             0.5555555555555556,
             "#d8576b"
            ],
            [
             0.6666666666666666,
             "#ed7953"
            ],
            [
             0.7777777777777778,
             "#fb9f3a"
            ],
            [
             0.8888888888888888,
             "#fdca26"
            ],
            [
             1,
             "#f0f921"
            ]
           ]
          },
          "colorway": [
           "#636efa",
           "#EF553B",
           "#00cc96",
           "#ab63fa",
           "#FFA15A",
           "#19d3f3",
           "#FF6692",
           "#B6E880",
           "#FF97FF",
           "#FECB52"
          ],
          "font": {
           "color": "#2a3f5f"
          },
          "geo": {
           "bgcolor": "white",
           "lakecolor": "white",
           "landcolor": "white",
           "showlakes": true,
           "showland": true,
           "subunitcolor": "#C8D4E3"
          },
          "hoverlabel": {
           "align": "left"
          },
          "hovermode": "closest",
          "mapbox": {
           "style": "light"
          },
          "paper_bgcolor": "white",
          "plot_bgcolor": "white",
          "polar": {
           "angularaxis": {
            "gridcolor": "#EBF0F8",
            "linecolor": "#EBF0F8",
            "ticks": ""
           },
           "bgcolor": "white",
           "radialaxis": {
            "gridcolor": "#EBF0F8",
            "linecolor": "#EBF0F8",
            "ticks": ""
           }
          },
          "scene": {
           "xaxis": {
            "backgroundcolor": "white",
            "gridcolor": "#DFE8F3",
            "gridwidth": 2,
            "linecolor": "#EBF0F8",
            "showbackground": true,
            "ticks": "",
            "zerolinecolor": "#EBF0F8"
           },
           "yaxis": {
            "backgroundcolor": "white",
            "gridcolor": "#DFE8F3",
            "gridwidth": 2,
            "linecolor": "#EBF0F8",
            "showbackground": true,
            "ticks": "",
            "zerolinecolor": "#EBF0F8"
           },
           "zaxis": {
            "backgroundcolor": "white",
            "gridcolor": "#DFE8F3",
            "gridwidth": 2,
            "linecolor": "#EBF0F8",
            "showbackground": true,
            "ticks": "",
            "zerolinecolor": "#EBF0F8"
           }
          },
          "shapedefaults": {
           "line": {
            "color": "#2a3f5f"
           }
          },
          "ternary": {
           "aaxis": {
            "gridcolor": "#DFE8F3",
            "linecolor": "#A2B1C6",
            "ticks": ""
           },
           "baxis": {
            "gridcolor": "#DFE8F3",
            "linecolor": "#A2B1C6",
            "ticks": ""
           },
           "bgcolor": "white",
           "caxis": {
            "gridcolor": "#DFE8F3",
            "linecolor": "#A2B1C6",
            "ticks": ""
           }
          },
          "title": {
           "x": 0.05
          },
          "xaxis": {
           "automargin": true,
           "gridcolor": "#EBF0F8",
           "linecolor": "#EBF0F8",
           "ticks": "",
           "title": {
            "standoff": 15
           },
           "zerolinecolor": "#EBF0F8",
           "zerolinewidth": 2
          },
          "yaxis": {
           "automargin": true,
           "gridcolor": "#EBF0F8",
           "linecolor": "#EBF0F8",
           "ticks": "",
           "title": {
            "standoff": 15
           },
           "zerolinecolor": "#EBF0F8",
           "zerolinewidth": 2
          }
         }
        },
        "title": {
         "text": "Evolução do valor exportado de vinhos em US$ de 2022 para os 5 maiores compradores (mensal)"
        },
        "width": 1000,
        "xaxis": {
         "anchor": "y",
         "domain": [
          0,
          1
         ],
         "dtick": "M6",
         "tickformat": "%b-%Y",
         "ticklabelmode": "period",
         "title": {
          "text": "Mês-Ano"
         }
        },
        "yaxis": {
         "anchor": "x",
         "domain": [
          0,
          1
         ],
         "title": {
          "text": "log do valor"
         },
         "type": "log"
        }
       }
      }
     },
     "metadata": {},
     "output_type": "display_data"
    }
   ],
   "source": [
    "px.line(\n",
    "    exp_vinho_monthly_corrected.filter(\n",
    "        pl.col(\"country\").is_in(exp_vinho_top20[\"country\"].limit(5))\n",
    "    )\n",
    "    .sort(\"date\")\n",
    "    .to_pandas(),\n",
    "    x=\"date\",\n",
    "    y=\"value_corrected\",\n",
    "    color=\"country\",\n",
    "    log_y=True,\n",
    "    width=fig_w + 200,\n",
    "    height=fig_h,\n",
    "    title=\"Evolução do valor exportado de vinhos em US$ de 2022 para os 5 maiores compradores (mensal)\",\n",
    "    labels={\"value_corrected\": \"log do valor\", \"date\": \"Mês-Ano\", \"county\": \"país\"},\n",
    "    template=\"plotly_white\",\n",
    ").update_xaxes(dtick=\"M6\", tickformat=\"%b-%Y\", ticklabelmode=\"period\")"
   ]
  },
  {
   "cell_type": "markdown",
   "metadata": {},
   "source": [
    "### Top 5 - quantidade (1kg=1L)"
   ]
  },
  {
   "cell_type": "code",
   "execution_count": null,
   "metadata": {},
   "outputs": [
    {
     "data": {
      "application/vnd.plotly.v1+json": {
       "config": {
        "plotlyServerURL": "https://plot.ly"
       },
       "data": [
        {
         "hovertemplate": "country=Paraguai<br>Mês-Ano=%{x}<br>quantity=%{y}<extra></extra>",
         "legendgroup": "Paraguai",
         "line": {
          "color": "#636efa",
          "dash": "solid"
         },
         "marker": {
          "symbol": "circle"
         },
         "mode": "lines",
         "name": "Paraguai",
         "orientation": "v",
         "showlegend": true,
         "type": "scatter",
         "x": [
          "2000-01-01T00:00:00",
          "2000-02-01T00:00:00",
          "2000-03-01T00:00:00",
          "2000-04-01T00:00:00",
          "2000-05-01T00:00:00",
          "2000-06-01T00:00:00",
          "2000-07-01T00:00:00",
          "2000-08-01T00:00:00",
          "2000-09-01T00:00:00",
          "2000-10-01T00:00:00",
          "2000-11-01T00:00:00",
          "2000-12-01T00:00:00",
          "2001-01-01T00:00:00",
          "2001-02-01T00:00:00",
          "2001-03-01T00:00:00",
          "2001-04-01T00:00:00",
          "2001-05-01T00:00:00",
          "2001-06-01T00:00:00",
          "2001-07-01T00:00:00",
          "2001-08-01T00:00:00",
          "2001-09-01T00:00:00",
          "2001-10-01T00:00:00",
          "2001-11-01T00:00:00",
          "2001-12-01T00:00:00",
          "2002-01-01T00:00:00",
          "2002-02-01T00:00:00",
          "2002-03-01T00:00:00",
          "2002-04-01T00:00:00",
          "2002-05-01T00:00:00",
          "2002-06-01T00:00:00",
          "2002-07-01T00:00:00",
          "2002-08-01T00:00:00",
          "2002-09-01T00:00:00",
          "2002-10-01T00:00:00",
          "2002-11-01T00:00:00",
          "2002-12-01T00:00:00",
          "2003-01-01T00:00:00",
          "2003-02-01T00:00:00",
          "2003-03-01T00:00:00",
          "2003-04-01T00:00:00",
          "2003-05-01T00:00:00",
          "2003-06-01T00:00:00",
          "2003-07-01T00:00:00",
          "2003-08-01T00:00:00",
          "2003-09-01T00:00:00",
          "2003-10-01T00:00:00",
          "2003-11-01T00:00:00",
          "2003-12-01T00:00:00",
          "2004-01-01T00:00:00",
          "2004-02-01T00:00:00",
          "2004-03-01T00:00:00",
          "2004-04-01T00:00:00",
          "2004-05-01T00:00:00",
          "2004-06-01T00:00:00",
          "2004-07-01T00:00:00",
          "2004-08-01T00:00:00",
          "2004-09-01T00:00:00",
          "2004-10-01T00:00:00",
          "2004-11-01T00:00:00",
          "2004-12-01T00:00:00",
          "2005-01-01T00:00:00",
          "2005-02-01T00:00:00",
          "2005-03-01T00:00:00",
          "2005-04-01T00:00:00",
          "2005-05-01T00:00:00",
          "2005-06-01T00:00:00",
          "2005-07-01T00:00:00",
          "2005-08-01T00:00:00",
          "2005-09-01T00:00:00",
          "2005-10-01T00:00:00",
          "2005-11-01T00:00:00",
          "2005-12-01T00:00:00",
          "2006-01-01T00:00:00",
          "2006-02-01T00:00:00",
          "2006-03-01T00:00:00",
          "2006-04-01T00:00:00",
          "2006-05-01T00:00:00",
          "2006-06-01T00:00:00",
          "2006-07-01T00:00:00",
          "2006-08-01T00:00:00",
          "2006-09-01T00:00:00",
          "2006-10-01T00:00:00",
          "2006-11-01T00:00:00",
          "2006-12-01T00:00:00",
          "2007-01-01T00:00:00",
          "2007-02-01T00:00:00",
          "2007-03-01T00:00:00",
          "2007-04-01T00:00:00",
          "2007-05-01T00:00:00",
          "2007-06-01T00:00:00",
          "2007-07-01T00:00:00",
          "2007-08-01T00:00:00",
          "2007-09-01T00:00:00",
          "2007-10-01T00:00:00",
          "2007-11-01T00:00:00",
          "2007-12-01T00:00:00",
          "2008-01-01T00:00:00",
          "2008-02-01T00:00:00",
          "2008-03-01T00:00:00",
          "2008-04-01T00:00:00",
          "2008-05-01T00:00:00",
          "2008-06-01T00:00:00",
          "2008-07-01T00:00:00",
          "2008-08-01T00:00:00",
          "2008-09-01T00:00:00",
          "2008-10-01T00:00:00",
          "2008-11-01T00:00:00",
          "2008-12-01T00:00:00",
          "2009-01-01T00:00:00",
          "2009-02-01T00:00:00",
          "2009-03-01T00:00:00",
          "2009-04-01T00:00:00",
          "2009-05-01T00:00:00",
          "2009-06-01T00:00:00",
          "2009-07-01T00:00:00",
          "2009-08-01T00:00:00",
          "2009-09-01T00:00:00",
          "2009-10-01T00:00:00",
          "2009-11-01T00:00:00",
          "2009-12-01T00:00:00",
          "2010-01-01T00:00:00",
          "2010-02-01T00:00:00",
          "2010-03-01T00:00:00",
          "2010-04-01T00:00:00",
          "2010-05-01T00:00:00",
          "2010-06-01T00:00:00",
          "2010-07-01T00:00:00",
          "2010-08-01T00:00:00",
          "2010-09-01T00:00:00",
          "2010-10-01T00:00:00",
          "2010-11-01T00:00:00",
          "2010-12-01T00:00:00",
          "2011-03-01T00:00:00",
          "2011-04-01T00:00:00",
          "2011-05-01T00:00:00",
          "2011-06-01T00:00:00",
          "2011-07-01T00:00:00",
          "2011-08-01T00:00:00",
          "2011-09-01T00:00:00",
          "2011-10-01T00:00:00",
          "2011-11-01T00:00:00",
          "2011-12-01T00:00:00",
          "2012-01-01T00:00:00",
          "2012-02-01T00:00:00",
          "2012-03-01T00:00:00",
          "2012-04-01T00:00:00",
          "2012-05-01T00:00:00",
          "2012-06-01T00:00:00",
          "2012-07-01T00:00:00",
          "2012-08-01T00:00:00",
          "2012-09-01T00:00:00",
          "2012-10-01T00:00:00",
          "2012-11-01T00:00:00",
          "2012-12-01T00:00:00",
          "2013-01-01T00:00:00",
          "2013-02-01T00:00:00",
          "2013-03-01T00:00:00",
          "2013-04-01T00:00:00",
          "2013-05-01T00:00:00",
          "2013-06-01T00:00:00",
          "2013-07-01T00:00:00",
          "2013-08-01T00:00:00",
          "2013-09-01T00:00:00",
          "2013-10-01T00:00:00",
          "2013-11-01T00:00:00",
          "2013-12-01T00:00:00",
          "2014-01-01T00:00:00",
          "2014-02-01T00:00:00",
          "2014-03-01T00:00:00",
          "2014-04-01T00:00:00",
          "2014-05-01T00:00:00",
          "2014-06-01T00:00:00",
          "2014-07-01T00:00:00",
          "2014-08-01T00:00:00",
          "2014-09-01T00:00:00",
          "2014-10-01T00:00:00",
          "2014-11-01T00:00:00",
          "2014-12-01T00:00:00",
          "2015-01-01T00:00:00",
          "2015-02-01T00:00:00",
          "2015-03-01T00:00:00",
          "2015-04-01T00:00:00",
          "2015-05-01T00:00:00",
          "2015-06-01T00:00:00",
          "2015-07-01T00:00:00",
          "2015-08-01T00:00:00",
          "2015-09-01T00:00:00",
          "2015-10-01T00:00:00",
          "2015-11-01T00:00:00",
          "2015-12-01T00:00:00",
          "2016-01-01T00:00:00",
          "2016-02-01T00:00:00",
          "2016-03-01T00:00:00",
          "2016-04-01T00:00:00",
          "2016-05-01T00:00:00",
          "2016-06-01T00:00:00",
          "2016-07-01T00:00:00",
          "2016-08-01T00:00:00",
          "2016-09-01T00:00:00",
          "2016-10-01T00:00:00",
          "2016-11-01T00:00:00",
          "2016-12-01T00:00:00",
          "2017-01-01T00:00:00",
          "2017-02-01T00:00:00",
          "2017-03-01T00:00:00",
          "2017-04-01T00:00:00",
          "2017-05-01T00:00:00",
          "2017-06-01T00:00:00",
          "2017-07-01T00:00:00",
          "2017-08-01T00:00:00",
          "2017-09-01T00:00:00",
          "2017-10-01T00:00:00",
          "2017-11-01T00:00:00",
          "2017-12-01T00:00:00",
          "2018-01-01T00:00:00",
          "2018-02-01T00:00:00",
          "2018-03-01T00:00:00",
          "2018-04-01T00:00:00",
          "2018-05-01T00:00:00",
          "2018-06-01T00:00:00",
          "2018-07-01T00:00:00",
          "2018-08-01T00:00:00",
          "2018-09-01T00:00:00",
          "2018-10-01T00:00:00",
          "2018-11-01T00:00:00",
          "2018-12-01T00:00:00",
          "2019-01-01T00:00:00",
          "2019-02-01T00:00:00",
          "2019-03-01T00:00:00",
          "2019-04-01T00:00:00",
          "2019-05-01T00:00:00",
          "2019-06-01T00:00:00",
          "2019-07-01T00:00:00",
          "2019-08-01T00:00:00",
          "2019-09-01T00:00:00",
          "2019-10-01T00:00:00",
          "2019-11-01T00:00:00",
          "2019-12-01T00:00:00",
          "2020-01-01T00:00:00",
          "2020-02-01T00:00:00",
          "2020-03-01T00:00:00",
          "2020-04-01T00:00:00",
          "2020-05-01T00:00:00",
          "2020-06-01T00:00:00",
          "2020-07-01T00:00:00",
          "2020-08-01T00:00:00",
          "2020-09-01T00:00:00",
          "2020-10-01T00:00:00",
          "2020-11-01T00:00:00",
          "2020-12-01T00:00:00",
          "2021-01-01T00:00:00",
          "2021-02-01T00:00:00",
          "2021-03-01T00:00:00",
          "2021-04-01T00:00:00",
          "2021-05-01T00:00:00",
          "2021-06-01T00:00:00",
          "2021-07-01T00:00:00",
          "2021-08-01T00:00:00",
          "2021-09-01T00:00:00",
          "2021-10-01T00:00:00",
          "2021-11-01T00:00:00",
          "2021-12-01T00:00:00",
          "2022-01-01T00:00:00",
          "2022-02-01T00:00:00",
          "2022-03-01T00:00:00",
          "2022-04-01T00:00:00",
          "2022-05-01T00:00:00",
          "2022-06-01T00:00:00",
          "2022-07-01T00:00:00",
          "2022-08-01T00:00:00",
          "2022-09-01T00:00:00",
          "2022-10-01T00:00:00",
          "2022-11-01T00:00:00",
          "2022-12-01T00:00:00"
         ],
         "xaxis": "x",
         "y": [
          390179,
          273502,
          415646,
          365776,
          405252,
          386651,
          357062,
          426640,
          387972,
          343556,
          526327,
          685287,
          341536,
          214083,
          531573,
          297398,
          362356,
          363583,
          502416,
          342824,
          314262,
          484812,
          648296,
          395658,
          418113,
          217397,
          171367,
          97981,
          138963,
          83707,
          205798,
          35570,
          200681,
          165952,
          213961,
          64313,
          11154,
          36366,
          19682,
          54546,
          80676,
          130675,
          61568,
          30632,
          44043,
          204786,
          251423,
          196121,
          29316,
          258039,
          139083,
          81207,
          400005,
          265709,
          126288,
          106122,
          82580,
          131644,
          268649,
          220016,
          17400,
          48510,
          115880,
          151780,
          185901,
          139000,
          191190,
          346136,
          102465,
          53986,
          243272,
          372465,
          127889,
          124279,
          341456,
          169926,
          37028,
          118234,
          107398,
          123205,
          329450,
          186472,
          122037,
          159732,
          36702,
          42032,
          93411,
          63687,
          191113,
          161407,
          223860,
          41490,
          36880,
          39432,
          204603,
          150842,
          29411,
          137880,
          46251,
          82020,
          127865,
          97920,
          81282,
          380558,
          376850,
          375265,
          333503,
          123096,
          976,
          15244,
          14893,
          2137,
          13641,
          70526,
          60172,
          29438,
          50061,
          1940,
          31427,
          91064,
          28920,
          40644,
          2304,
          9600,
          19461,
          43576,
          187931,
          203694,
          2545,
          11475,
          27347,
          33410,
          43540,
          4480,
          42447,
          59605,
          36590,
          6877,
          10950,
          15169,
          6818,
          13692,
          6022,
          7133,
          25233,
          32539,
          61490,
          23221,
          57674,
          42363,
          16874,
          25669,
          33430,
          23176,
          7566,
          18237,
          5765,
          72415,
          41305,
          50578,
          51586,
          49703,
          47633,
          44073,
          49375,
          41104,
          35031,
          2742,
          40168,
          59617,
          14888,
          24954,
          103993,
          38610,
          38082,
          47790,
          47890,
          68082,
          12270,
          1125,
          13067,
          6705,
          87079,
          59706,
          78507,
          44699,
          52750,
          69723,
          55962,
          13835,
          9975,
          26638,
          50424,
          76719,
          19428,
          145609,
          127806,
          220507,
          100616,
          41231,
          63050,
          103736,
          52005,
          48916,
          122631,
          90011,
          219180,
          316200,
          324425,
          248546,
          199378,
          289732,
          170827,
          311619,
          75945,
          71363,
          179744,
          219497,
          249320,
          378193,
          501044,
          599711,
          379081,
          89545,
          297759,
          193012,
          768,
          83331,
          256350,
          284649,
          216362,
          437955,
          507179,
          127407,
          286050,
          88962,
          146009,
          97075,
          76260,
          101430,
          128273,
          59037,
          187860,
          402892,
          694095,
          493823,
          577150,
          240340,
          124815,
          213045,
          125367,
          357300,
          560693,
          580174,
          771090,
          706938,
          908553,
          644231,
          807598,
          610414,
          249503,
          200666,
          247811,
          229263,
          92190,
          511310,
          717491,
          526776,
          813355,
          558186,
          297727,
          348130,
          352520,
          381911
         ],
         "yaxis": "y"
        },
        {
         "hovertemplate": "country=Japão<br>Mês-Ano=%{x}<br>quantity=%{y}<extra></extra>",
         "legendgroup": "Japão",
         "line": {
          "color": "#EF553B",
          "dash": "solid"
         },
         "marker": {
          "symbol": "circle"
         },
         "mode": "lines",
         "name": "Japão",
         "orientation": "v",
         "showlegend": true,
         "type": "scatter",
         "x": [
          "2000-02-01T00:00:00",
          "2000-04-01T00:00:00",
          "2000-05-01T00:00:00",
          "2000-07-01T00:00:00",
          "2000-08-01T00:00:00",
          "2000-09-01T00:00:00",
          "2000-11-01T00:00:00",
          "2000-12-01T00:00:00",
          "2001-01-01T00:00:00",
          "2001-03-01T00:00:00",
          "2001-04-01T00:00:00",
          "2001-05-01T00:00:00",
          "2001-08-01T00:00:00",
          "2001-09-01T00:00:00",
          "2001-10-01T00:00:00",
          "2001-11-01T00:00:00",
          "2002-02-01T00:00:00",
          "2002-03-01T00:00:00",
          "2002-04-01T00:00:00",
          "2002-05-01T00:00:00",
          "2002-08-01T00:00:00",
          "2002-09-01T00:00:00",
          "2002-12-01T00:00:00",
          "2003-02-01T00:00:00",
          "2003-03-01T00:00:00",
          "2003-04-01T00:00:00",
          "2003-08-01T00:00:00",
          "2003-09-01T00:00:00",
          "2003-12-01T00:00:00",
          "2004-02-01T00:00:00",
          "2004-03-01T00:00:00",
          "2004-04-01T00:00:00",
          "2004-05-01T00:00:00",
          "2004-06-01T00:00:00",
          "2004-08-01T00:00:00",
          "2004-09-01T00:00:00",
          "2004-10-01T00:00:00",
          "2004-11-01T00:00:00",
          "2004-12-01T00:00:00",
          "2005-01-01T00:00:00",
          "2005-03-01T00:00:00",
          "2005-04-01T00:00:00",
          "2005-05-01T00:00:00",
          "2005-07-01T00:00:00",
          "2005-08-01T00:00:00",
          "2005-09-01T00:00:00",
          "2005-10-01T00:00:00",
          "2005-11-01T00:00:00",
          "2005-12-01T00:00:00",
          "2006-02-01T00:00:00",
          "2006-04-01T00:00:00",
          "2006-05-01T00:00:00",
          "2006-06-01T00:00:00",
          "2006-08-01T00:00:00",
          "2006-09-01T00:00:00",
          "2006-10-01T00:00:00",
          "2006-11-01T00:00:00",
          "2006-12-01T00:00:00",
          "2007-01-01T00:00:00",
          "2007-02-01T00:00:00",
          "2007-03-01T00:00:00",
          "2007-04-01T00:00:00",
          "2007-05-01T00:00:00",
          "2007-06-01T00:00:00",
          "2007-08-01T00:00:00",
          "2007-09-01T00:00:00",
          "2007-10-01T00:00:00",
          "2007-12-01T00:00:00",
          "2008-02-01T00:00:00",
          "2008-04-01T00:00:00",
          "2008-06-01T00:00:00",
          "2008-08-01T00:00:00",
          "2008-11-01T00:00:00",
          "2008-12-01T00:00:00",
          "2009-01-01T00:00:00",
          "2009-02-01T00:00:00",
          "2009-04-01T00:00:00",
          "2009-06-01T00:00:00",
          "2009-07-01T00:00:00",
          "2009-09-01T00:00:00",
          "2009-10-01T00:00:00",
          "2009-11-01T00:00:00",
          "2009-12-01T00:00:00",
          "2010-01-01T00:00:00",
          "2010-02-01T00:00:00",
          "2010-04-01T00:00:00",
          "2010-05-01T00:00:00",
          "2010-06-01T00:00:00",
          "2010-07-01T00:00:00",
          "2010-08-01T00:00:00",
          "2010-10-01T00:00:00",
          "2011-02-01T00:00:00",
          "2011-07-01T00:00:00",
          "2011-10-01T00:00:00",
          "2011-11-01T00:00:00",
          "2012-02-01T00:00:00",
          "2012-03-01T00:00:00",
          "2012-05-01T00:00:00",
          "2012-06-01T00:00:00",
          "2012-08-01T00:00:00",
          "2012-12-01T00:00:00",
          "2013-02-01T00:00:00",
          "2013-05-01T00:00:00",
          "2013-07-01T00:00:00",
          "2013-08-01T00:00:00",
          "2013-09-01T00:00:00",
          "2013-10-01T00:00:00",
          "2013-11-01T00:00:00",
          "2013-12-01T00:00:00",
          "2014-02-01T00:00:00",
          "2014-03-01T00:00:00",
          "2014-06-01T00:00:00",
          "2014-07-01T00:00:00",
          "2014-08-01T00:00:00",
          "2014-10-01T00:00:00",
          "2014-12-01T00:00:00",
          "2015-01-01T00:00:00",
          "2015-02-01T00:00:00",
          "2015-03-01T00:00:00",
          "2015-04-01T00:00:00",
          "2015-07-01T00:00:00",
          "2015-08-01T00:00:00",
          "2015-09-01T00:00:00",
          "2016-03-01T00:00:00",
          "2016-04-01T00:00:00",
          "2016-05-01T00:00:00",
          "2016-07-01T00:00:00",
          "2016-08-01T00:00:00",
          "2017-01-01T00:00:00",
          "2017-02-01T00:00:00",
          "2017-04-01T00:00:00",
          "2017-07-01T00:00:00",
          "2017-10-01T00:00:00",
          "2017-11-01T00:00:00",
          "2017-12-01T00:00:00",
          "2018-01-01T00:00:00",
          "2018-02-01T00:00:00",
          "2018-04-01T00:00:00",
          "2018-06-01T00:00:00",
          "2018-08-01T00:00:00",
          "2018-10-01T00:00:00",
          "2018-11-01T00:00:00",
          "2018-12-01T00:00:00",
          "2019-01-01T00:00:00",
          "2019-02-01T00:00:00",
          "2019-03-01T00:00:00",
          "2019-05-01T00:00:00",
          "2019-06-01T00:00:00",
          "2019-07-01T00:00:00",
          "2019-08-01T00:00:00",
          "2019-09-01T00:00:00",
          "2019-10-01T00:00:00",
          "2019-11-01T00:00:00",
          "2019-12-01T00:00:00",
          "2020-01-01T00:00:00",
          "2020-02-01T00:00:00",
          "2020-03-01T00:00:00",
          "2020-04-01T00:00:00",
          "2020-05-01T00:00:00",
          "2020-06-01T00:00:00",
          "2020-07-01T00:00:00",
          "2020-08-01T00:00:00",
          "2020-09-01T00:00:00",
          "2020-10-01T00:00:00",
          "2020-11-01T00:00:00",
          "2020-12-01T00:00:00",
          "2021-01-01T00:00:00",
          "2021-02-01T00:00:00",
          "2021-03-01T00:00:00",
          "2021-04-01T00:00:00",
          "2021-05-01T00:00:00",
          "2021-06-01T00:00:00",
          "2021-07-01T00:00:00",
          "2021-09-01T00:00:00",
          "2021-10-01T00:00:00",
          "2021-11-01T00:00:00",
          "2021-12-01T00:00:00",
          "2022-02-01T00:00:00",
          "2022-04-01T00:00:00",
          "2022-05-01T00:00:00",
          "2022-06-01T00:00:00",
          "2022-07-01T00:00:00",
          "2022-08-01T00:00:00",
          "2022-10-01T00:00:00",
          "2022-12-01T00:00:00"
         ],
         "xaxis": "x",
         "y": [
          68572,
          36680,
          22114,
          174430,
          38740,
          176310,
          54720,
          92620,
          21000,
          36885,
          40253,
          83910,
          44790,
          60000,
          39685,
          21000,
          38180,
          2925,
          23940,
          9592,
          21000,
          16110,
          23855,
          31555,
          23770,
          25834,
          40409,
          23920,
          20540,
          25855,
          94659,
          49172,
          25890,
          25850,
          95828,
          8778,
          25760,
          42295,
          32395,
          10,
          64058,
          25765,
          11835,
          183810,
          49864,
          48085,
          33675,
          96331,
          47988,
          7875,
          875,
          15415,
          15300,
          21960,
          113075,
          21640,
          106141,
          22750,
          64197,
          42000,
          42000,
          35700,
          1475,
          22000,
          43875,
          32458,
          22000,
          52238,
          23737,
          29885,
          83345,
          11560,
          73085,
          10681,
          22000,
          89738,
          9936,
          49,
          450,
          24900,
          25346,
          74600,
          31175,
          24900,
          44000,
          24900,
          10084,
          49800,
          974,
          32020,
          44000,
          8650,
          9375,
          33210,
          49600,
          379,
          2239,
          9075,
          225,
          12063,
          5300,
          7065,
          360,
          19828,
          19800,
          2477,
          9000,
          12580,
          20878,
          28980,
          10611,
          13680,
          7795,
          35685,
          322,
          9353,
          1827,
          18,
          14496,
          195,
          3779,
          11060,
          222,
          4625,
          225,
          9900,
          11626,
          7965,
          4779,
          3200,
          8685,
          8154,
          7550,
          1793,
          1260,
          900,
          11070,
          8710,
          1476,
          2106,
          11933,
          119,
          679,
          7411,
          1696,
          10101,
          339,
          2160,
          9499,
          506,
          158,
          300,
          8175,
          282,
          4770,
          8,
          12,
          276,
          10243,
          7766,
          168,
          12859,
          156,
          60,
          106,
          19,
          46,
          325,
          9139,
          20,
          24,
          11347,
          61,
          19,
          45,
          9480,
          8985,
          38,
          11439,
          48,
          47,
          11380,
          14233,
          70,
          69
         ],
         "yaxis": "y"
        },
        {
         "hovertemplate": "country=Estados Unidos<br>Mês-Ano=%{x}<br>quantity=%{y}<extra></extra>",
         "legendgroup": "Estados Unidos",
         "line": {
          "color": "#00cc96",
          "dash": "solid"
         },
         "marker": {
          "symbol": "circle"
         },
         "mode": "lines",
         "name": "Estados Unidos",
         "orientation": "v",
         "showlegend": true,
         "type": "scatter",
         "x": [
          "2000-02-01T00:00:00",
          "2000-03-01T00:00:00",
          "2000-06-01T00:00:00",
          "2000-08-01T00:00:00",
          "2001-05-01T00:00:00",
          "2001-06-01T00:00:00",
          "2002-09-01T00:00:00",
          "2002-10-01T00:00:00",
          "2002-12-01T00:00:00",
          "2003-01-01T00:00:00",
          "2003-09-01T00:00:00",
          "2003-11-01T00:00:00",
          "2003-12-01T00:00:00",
          "2004-01-01T00:00:00",
          "2004-02-01T00:00:00",
          "2004-03-01T00:00:00",
          "2004-04-01T00:00:00",
          "2004-05-01T00:00:00",
          "2004-07-01T00:00:00",
          "2004-08-01T00:00:00",
          "2004-09-01T00:00:00",
          "2004-10-01T00:00:00",
          "2004-11-01T00:00:00",
          "2004-12-01T00:00:00",
          "2005-01-01T00:00:00",
          "2005-02-01T00:00:00",
          "2005-04-01T00:00:00",
          "2005-05-01T00:00:00",
          "2005-06-01T00:00:00",
          "2005-07-01T00:00:00",
          "2005-08-01T00:00:00",
          "2005-09-01T00:00:00",
          "2005-10-01T00:00:00",
          "2005-11-01T00:00:00",
          "2005-12-01T00:00:00",
          "2006-01-01T00:00:00",
          "2006-02-01T00:00:00",
          "2006-03-01T00:00:00",
          "2006-04-01T00:00:00",
          "2006-05-01T00:00:00",
          "2006-06-01T00:00:00",
          "2006-07-01T00:00:00",
          "2006-08-01T00:00:00",
          "2006-09-01T00:00:00",
          "2006-10-01T00:00:00",
          "2006-11-01T00:00:00",
          "2006-12-01T00:00:00",
          "2007-01-01T00:00:00",
          "2007-02-01T00:00:00",
          "2007-03-01T00:00:00",
          "2007-04-01T00:00:00",
          "2007-05-01T00:00:00",
          "2007-06-01T00:00:00",
          "2007-07-01T00:00:00",
          "2007-09-01T00:00:00",
          "2007-10-01T00:00:00",
          "2007-11-01T00:00:00",
          "2007-12-01T00:00:00",
          "2008-01-01T00:00:00",
          "2008-02-01T00:00:00",
          "2008-03-01T00:00:00",
          "2008-04-01T00:00:00",
          "2008-05-01T00:00:00",
          "2008-06-01T00:00:00",
          "2008-07-01T00:00:00",
          "2008-08-01T00:00:00",
          "2008-09-01T00:00:00",
          "2008-10-01T00:00:00",
          "2008-11-01T00:00:00",
          "2008-12-01T00:00:00",
          "2009-01-01T00:00:00",
          "2009-02-01T00:00:00",
          "2009-03-01T00:00:00",
          "2009-04-01T00:00:00",
          "2009-05-01T00:00:00",
          "2009-06-01T00:00:00",
          "2009-07-01T00:00:00",
          "2009-08-01T00:00:00",
          "2009-10-01T00:00:00",
          "2009-11-01T00:00:00",
          "2009-12-01T00:00:00",
          "2010-01-01T00:00:00",
          "2010-02-01T00:00:00",
          "2010-03-01T00:00:00",
          "2010-04-01T00:00:00",
          "2010-05-01T00:00:00",
          "2010-06-01T00:00:00",
          "2010-07-01T00:00:00",
          "2010-08-01T00:00:00",
          "2010-09-01T00:00:00",
          "2010-10-01T00:00:00",
          "2010-11-01T00:00:00",
          "2010-12-01T00:00:00",
          "2011-03-01T00:00:00",
          "2011-04-01T00:00:00",
          "2011-05-01T00:00:00",
          "2011-06-01T00:00:00",
          "2011-07-01T00:00:00",
          "2011-08-01T00:00:00",
          "2011-10-01T00:00:00",
          "2011-11-01T00:00:00",
          "2011-12-01T00:00:00",
          "2012-02-01T00:00:00",
          "2012-04-01T00:00:00",
          "2012-05-01T00:00:00",
          "2012-06-01T00:00:00",
          "2012-07-01T00:00:00",
          "2012-09-01T00:00:00",
          "2012-12-01T00:00:00",
          "2013-02-01T00:00:00",
          "2013-03-01T00:00:00",
          "2013-04-01T00:00:00",
          "2013-05-01T00:00:00",
          "2013-06-01T00:00:00",
          "2013-07-01T00:00:00",
          "2013-08-01T00:00:00",
          "2013-09-01T00:00:00",
          "2013-10-01T00:00:00",
          "2013-11-01T00:00:00",
          "2013-12-01T00:00:00",
          "2014-02-01T00:00:00",
          "2014-03-01T00:00:00",
          "2014-04-01T00:00:00",
          "2014-05-01T00:00:00",
          "2014-06-01T00:00:00",
          "2014-07-01T00:00:00",
          "2014-09-01T00:00:00",
          "2014-10-01T00:00:00",
          "2014-12-01T00:00:00",
          "2015-01-01T00:00:00",
          "2015-03-01T00:00:00",
          "2015-04-01T00:00:00",
          "2015-05-01T00:00:00",
          "2015-06-01T00:00:00",
          "2015-07-01T00:00:00",
          "2015-08-01T00:00:00",
          "2015-09-01T00:00:00",
          "2015-10-01T00:00:00",
          "2015-12-01T00:00:00",
          "2016-01-01T00:00:00",
          "2016-02-01T00:00:00",
          "2016-03-01T00:00:00",
          "2016-04-01T00:00:00",
          "2016-05-01T00:00:00",
          "2016-06-01T00:00:00",
          "2016-07-01T00:00:00",
          "2016-08-01T00:00:00",
          "2016-09-01T00:00:00",
          "2016-10-01T00:00:00",
          "2016-11-01T00:00:00",
          "2016-12-01T00:00:00",
          "2017-02-01T00:00:00",
          "2017-03-01T00:00:00",
          "2017-04-01T00:00:00",
          "2017-05-01T00:00:00",
          "2017-06-01T00:00:00",
          "2017-07-01T00:00:00",
          "2017-08-01T00:00:00",
          "2017-09-01T00:00:00",
          "2017-10-01T00:00:00",
          "2017-11-01T00:00:00",
          "2017-12-01T00:00:00",
          "2018-01-01T00:00:00",
          "2018-03-01T00:00:00",
          "2018-04-01T00:00:00",
          "2018-06-01T00:00:00",
          "2018-07-01T00:00:00",
          "2018-08-01T00:00:00",
          "2018-09-01T00:00:00",
          "2018-10-01T00:00:00",
          "2018-11-01T00:00:00",
          "2018-12-01T00:00:00",
          "2019-01-01T00:00:00",
          "2019-02-01T00:00:00",
          "2019-03-01T00:00:00",
          "2019-04-01T00:00:00",
          "2019-05-01T00:00:00",
          "2019-06-01T00:00:00",
          "2019-07-01T00:00:00",
          "2019-08-01T00:00:00",
          "2019-09-01T00:00:00",
          "2019-10-01T00:00:00",
          "2019-11-01T00:00:00",
          "2019-12-01T00:00:00",
          "2020-01-01T00:00:00",
          "2020-02-01T00:00:00",
          "2020-03-01T00:00:00",
          "2020-04-01T00:00:00",
          "2020-05-01T00:00:00",
          "2020-06-01T00:00:00",
          "2020-07-01T00:00:00",
          "2020-08-01T00:00:00",
          "2020-09-01T00:00:00",
          "2020-10-01T00:00:00",
          "2020-11-01T00:00:00",
          "2020-12-01T00:00:00",
          "2021-03-01T00:00:00",
          "2021-04-01T00:00:00",
          "2021-05-01T00:00:00",
          "2021-06-01T00:00:00",
          "2021-07-01T00:00:00",
          "2021-08-01T00:00:00",
          "2021-09-01T00:00:00",
          "2021-10-01T00:00:00",
          "2021-11-01T00:00:00",
          "2021-12-01T00:00:00",
          "2022-02-01T00:00:00",
          "2022-03-01T00:00:00",
          "2022-04-01T00:00:00",
          "2022-05-01T00:00:00",
          "2022-06-01T00:00:00",
          "2022-07-01T00:00:00",
          "2022-08-01T00:00:00",
          "2022-09-01T00:00:00",
          "2022-10-01T00:00:00",
          "2022-11-01T00:00:00",
          "2022-12-01T00:00:00"
         ],
         "xaxis": "x",
         "y": [
          1118,
          410,
          233,
          390,
          2894,
          682,
          3200,
          3500,
          100,
          46,
          5572,
          5415,
          14434,
          6300,
          9131,
          270,
          333,
          9194,
          756,
          24192,
          12046,
          1,
          26072,
          9970,
          14733,
          29133,
          26792,
          18837,
          53528,
          13343,
          63454,
          21112,
          23099,
          50435,
          24306,
          6626,
          16287,
          75261,
          29012,
          34696,
          38517,
          33790,
          34394,
          16308,
          39455,
          40685,
          27559,
          26061,
          53518,
          31350,
          58692,
          1941,
          87698,
          16278,
          32600,
          126587,
          35949,
          8595,
          868,
          94981,
          15071,
          10361,
          45970,
          40468,
          60784,
          24561,
          15540,
          72909,
          44287,
          18095,
          531,
          15477,
          34873,
          25093,
          35986,
          24590,
          30887,
          34871,
          75633,
          41682,
          67381,
          32822,
          38002,
          30882,
          36583,
          27248,
          189,
          15120,
          21852,
          33553,
          15120,
          20871,
          31831,
          47390,
          16576,
          20652,
          52554,
          16758,
          7650,
          96330,
          17010,
          31867,
          15708,
          13860,
          32580,
          9450,
          1213,
          49282,
          24492,
          16092,
          22452,
          57182,
          5490,
          464,
          11330,
          43012,
          8772,
          39834,
          32316,
          8424,
          31824,
          16470,
          14796,
          22680,
          15264,
          36312,
          35757,
          37495,
          11669,
          14580,
          28350,
          23617,
          29758,
          11850,
          108,
          35352,
          21879,
          24732,
          5670,
          14384,
          24156,
          24588,
          30326,
          6431,
          39453,
          13304,
          15840,
          4544,
          20565,
          7884,
          56598,
          10026,
          4135,
          17118,
          16740,
          2057,
          10270,
          6930,
          27463,
          7992,
          19620,
          10351,
          13266,
          34070,
          12318,
          17073,
          5517,
          26698,
          9173,
          19119,
          11639,
          20704,
          19480,
          3483,
          10327,
          45599,
          10831,
          26603,
          39111,
          6583,
          2506,
          22132,
          13181,
          10562,
          46907,
          9807,
          1720,
          12474,
          8136,
          16683,
          38286,
          51075,
          35496,
          32952,
          4226,
          42589,
          7992,
          891,
          18288,
          18091,
          2615,
          18963,
          4410,
          1914,
          14287,
          23634,
          28354,
          29160,
          225,
          63570,
          4570,
          3662,
          7380,
          43541,
          24298,
          9108,
          6505
         ],
         "yaxis": "y"
        },
        {
         "hovertemplate": "country=Reino Unido<br>Mês-Ano=%{x}<br>quantity=%{y}<extra></extra>",
         "legendgroup": "Reino Unido",
         "line": {
          "color": "#ab63fa",
          "dash": "solid"
         },
         "marker": {
          "symbol": "circle"
         },
         "mode": "lines",
         "name": "Reino Unido",
         "orientation": "v",
         "showlegend": true,
         "type": "scatter",
         "x": [
          "2005-02-01T00:00:00",
          "2005-10-01T00:00:00",
          "2005-12-01T00:00:00",
          "2006-02-01T00:00:00",
          "2006-03-01T00:00:00",
          "2006-08-01T00:00:00",
          "2006-11-01T00:00:00",
          "2007-08-01T00:00:00",
          "2007-09-01T00:00:00",
          "2007-10-01T00:00:00",
          "2007-11-01T00:00:00",
          "2008-02-01T00:00:00",
          "2008-04-01T00:00:00",
          "2008-05-01T00:00:00",
          "2008-07-01T00:00:00",
          "2008-10-01T00:00:00",
          "2008-11-01T00:00:00",
          "2009-06-01T00:00:00",
          "2009-10-01T00:00:00",
          "2009-12-01T00:00:00",
          "2010-04-01T00:00:00",
          "2010-05-01T00:00:00",
          "2010-06-01T00:00:00",
          "2010-07-01T00:00:00",
          "2010-08-01T00:00:00",
          "2010-10-01T00:00:00",
          "2010-11-01T00:00:00",
          "2010-12-01T00:00:00",
          "2011-01-01T00:00:00",
          "2011-02-01T00:00:00",
          "2011-03-01T00:00:00",
          "2011-04-01T00:00:00",
          "2011-05-01T00:00:00",
          "2011-07-01T00:00:00",
          "2011-08-01T00:00:00",
          "2011-09-01T00:00:00",
          "2012-02-01T00:00:00",
          "2012-03-01T00:00:00",
          "2012-04-01T00:00:00",
          "2012-05-01T00:00:00",
          "2012-06-01T00:00:00",
          "2012-08-01T00:00:00",
          "2012-09-01T00:00:00",
          "2012-11-01T00:00:00",
          "2013-01-01T00:00:00",
          "2013-02-01T00:00:00",
          "2013-05-01T00:00:00",
          "2013-06-01T00:00:00",
          "2013-07-01T00:00:00",
          "2013-09-01T00:00:00",
          "2013-10-01T00:00:00",
          "2013-12-01T00:00:00",
          "2014-01-01T00:00:00",
          "2014-02-01T00:00:00",
          "2014-03-01T00:00:00",
          "2014-04-01T00:00:00",
          "2014-05-01T00:00:00",
          "2014-06-01T00:00:00",
          "2014-07-01T00:00:00",
          "2014-09-01T00:00:00",
          "2014-10-01T00:00:00",
          "2014-11-01T00:00:00",
          "2014-12-01T00:00:00",
          "2015-01-01T00:00:00",
          "2015-02-01T00:00:00",
          "2015-03-01T00:00:00",
          "2015-05-01T00:00:00",
          "2015-06-01T00:00:00",
          "2015-07-01T00:00:00",
          "2015-08-01T00:00:00",
          "2015-09-01T00:00:00",
          "2015-10-01T00:00:00",
          "2015-11-01T00:00:00",
          "2015-12-01T00:00:00",
          "2016-01-01T00:00:00",
          "2016-03-01T00:00:00",
          "2016-05-01T00:00:00",
          "2016-06-01T00:00:00",
          "2016-07-01T00:00:00",
          "2016-08-01T00:00:00",
          "2016-09-01T00:00:00",
          "2016-10-01T00:00:00",
          "2016-11-01T00:00:00",
          "2016-12-01T00:00:00",
          "2017-02-01T00:00:00",
          "2017-03-01T00:00:00",
          "2017-05-01T00:00:00",
          "2017-06-01T00:00:00",
          "2017-07-01T00:00:00",
          "2017-08-01T00:00:00",
          "2017-09-01T00:00:00",
          "2017-11-01T00:00:00",
          "2018-01-01T00:00:00",
          "2018-02-01T00:00:00",
          "2018-03-01T00:00:00",
          "2018-04-01T00:00:00",
          "2018-05-01T00:00:00",
          "2018-07-01T00:00:00",
          "2018-08-01T00:00:00",
          "2018-09-01T00:00:00",
          "2018-10-01T00:00:00",
          "2018-11-01T00:00:00",
          "2018-12-01T00:00:00",
          "2019-01-01T00:00:00",
          "2019-02-01T00:00:00",
          "2019-03-01T00:00:00",
          "2019-04-01T00:00:00",
          "2019-05-01T00:00:00",
          "2019-06-01T00:00:00",
          "2019-07-01T00:00:00",
          "2019-08-01T00:00:00",
          "2019-09-01T00:00:00",
          "2019-10-01T00:00:00",
          "2019-11-01T00:00:00",
          "2019-12-01T00:00:00",
          "2020-01-01T00:00:00",
          "2020-02-01T00:00:00",
          "2020-03-01T00:00:00",
          "2020-04-01T00:00:00",
          "2020-05-01T00:00:00",
          "2020-06-01T00:00:00",
          "2020-07-01T00:00:00",
          "2020-08-01T00:00:00",
          "2020-09-01T00:00:00",
          "2020-10-01T00:00:00",
          "2020-12-01T00:00:00",
          "2021-01-01T00:00:00",
          "2021-02-01T00:00:00",
          "2021-03-01T00:00:00",
          "2021-04-01T00:00:00",
          "2021-05-01T00:00:00",
          "2021-06-01T00:00:00",
          "2021-07-01T00:00:00",
          "2021-08-01T00:00:00",
          "2021-09-01T00:00:00",
          "2021-10-01T00:00:00",
          "2021-11-01T00:00:00",
          "2021-12-01T00:00:00",
          "2022-01-01T00:00:00",
          "2022-02-01T00:00:00",
          "2022-03-01T00:00:00",
          "2022-04-01T00:00:00",
          "2022-05-01T00:00:00",
          "2022-06-01T00:00:00",
          "2022-07-01T00:00:00",
          "2022-08-01T00:00:00",
          "2022-09-01T00:00:00",
          "2022-10-01T00:00:00",
          "2022-11-01T00:00:00",
          "2022-12-01T00:00:00"
         ],
         "xaxis": "x",
         "y": [
          252,
          5625,
          297,
          24193,
          113,
          13870,
          105,
          2671,
          29948,
          17414,
          34580,
          2031,
          30030,
          14666,
          24920,
          24360,
          4090,
          12605,
          10178,
          7309,
          8351,
          26957,
          9686,
          9178,
          17097,
          18455,
          22301,
          11599,
          9504,
          9504,
          28942,
          17340,
          19193,
          10784,
          17766,
          9596,
          8324,
          4027,
          10719,
          7181,
          35694,
          7110,
          7965,
          1917,
          5940,
          2216,
          1534,
          10589,
          360,
          16911,
          10458,
          11153,
          14886,
          27062,
          69017,
          86695,
          23481,
          23313,
          27235,
          16190,
          5706,
          7902,
          4320,
          1392,
          6324,
          4734,
          5472,
          4380,
          5004,
          9180,
          13473,
          2736,
          3105,
          12582,
          5175,
          9828,
          11679,
          15309,
          31262,
          10152,
          15723,
          12051,
          4470,
          1396,
          10395,
          6426,
          5895,
          10800,
          802,
          5400,
          7695,
          13298,
          15601,
          4545,
          4995,
          3762,
          675,
          9113,
          13964,
          328,
          6583,
          2020,
          6202,
          493,
          258,
          1217,
          4906,
          1263,
          7319,
          42,
          5763,
          3419,
          6313,
          2619,
          691,
          6263,
          3864,
          227,
          3663,
          189,
          265,
          9,
          1428,
          6557,
          393,
          57,
          52,
          81,
          727,
          256,
          32,
          2027,
          4488,
          1275,
          805,
          14875,
          485,
          213,
          1535,
          598,
          3347,
          49,
          640,
          3109,
          2555,
          227,
          2382,
          15,
          2545,
          1833
         ],
         "yaxis": "y"
        },
        {
         "hovertemplate": "country=Rússia<br>Mês-Ano=%{x}<br>quantity=%{y}<extra></extra>",
         "legendgroup": "Rússia",
         "line": {
          "color": "#FFA15A",
          "dash": "solid"
         },
         "marker": {
          "symbol": "circle"
         },
         "mode": "lines",
         "name": "Rússia",
         "orientation": "v",
         "showlegend": true,
         "type": "scatter",
         "x": [
          "2005-07-01T00:00:00",
          "2005-09-01T00:00:00",
          "2005-10-01T00:00:00",
          "2006-03-01T00:00:00",
          "2006-04-01T00:00:00",
          "2006-10-01T00:00:00",
          "2007-06-01T00:00:00",
          "2007-07-01T00:00:00",
          "2007-11-01T00:00:00",
          "2008-02-01T00:00:00",
          "2008-03-01T00:00:00",
          "2008-04-01T00:00:00",
          "2008-05-01T00:00:00",
          "2008-06-01T00:00:00",
          "2008-07-01T00:00:00",
          "2008-08-01T00:00:00",
          "2008-09-01T00:00:00",
          "2008-10-01T00:00:00",
          "2008-11-01T00:00:00",
          "2008-12-01T00:00:00",
          "2009-01-01T00:00:00",
          "2009-02-01T00:00:00",
          "2009-03-01T00:00:00",
          "2009-04-01T00:00:00",
          "2009-05-01T00:00:00",
          "2009-06-01T00:00:00",
          "2009-07-01T00:00:00",
          "2009-08-01T00:00:00",
          "2009-09-01T00:00:00",
          "2009-10-01T00:00:00",
          "2009-11-01T00:00:00",
          "2009-12-01T00:00:00",
          "2010-01-01T00:00:00",
          "2010-02-01T00:00:00",
          "2010-03-01T00:00:00",
          "2010-04-01T00:00:00",
          "2010-05-01T00:00:00",
          "2010-06-01T00:00:00",
          "2010-07-01T00:00:00",
          "2010-10-01T00:00:00",
          "2010-11-01T00:00:00",
          "2012-03-01T00:00:00",
          "2012-08-01T00:00:00",
          "2012-09-01T00:00:00",
          "2012-10-01T00:00:00",
          "2012-11-01T00:00:00",
          "2012-12-01T00:00:00",
          "2013-01-01T00:00:00",
          "2013-02-01T00:00:00",
          "2013-03-01T00:00:00",
          "2013-04-01T00:00:00",
          "2013-05-01T00:00:00",
          "2013-06-01T00:00:00",
          "2013-07-01T00:00:00",
          "2013-08-01T00:00:00",
          "2013-09-01T00:00:00",
          "2013-10-01T00:00:00",
          "2013-12-01T00:00:00",
          "2014-05-01T00:00:00",
          "2014-06-01T00:00:00",
          "2014-12-01T00:00:00",
          "2015-03-01T00:00:00",
          "2020-01-01T00:00:00",
          "2021-01-01T00:00:00",
          "2021-06-01T00:00:00",
          "2021-07-01T00:00:00",
          "2021-11-01T00:00:00",
          "2022-04-01T00:00:00",
          "2022-05-01T00:00:00",
          "2022-08-01T00:00:00"
         ],
         "xaxis": "x",
         "y": [
          40800,
          96000,
          40800,
          181200,
          37800,
          115200,
          40800,
          81600,
          144000,
          18000,
          115200,
          126420,
          105480,
          258120,
          36000,
          298442,
          2078042,
          1576543,
          799332,
          796079,
          1335077,
          1097112,
          1669282,
          787745,
          2909376,
          3241424,
          2216576,
          1911670,
          3812236,
          3957192,
          412344,
          1358620,
          825396,
          334320,
          858724,
          1073255,
          713023,
          1331761,
          2858350,
          118415,
          260513,
          238320,
          500472,
          356980,
          47794,
          2550418,
          834192,
          738445,
          1477814,
          333715,
          1524848,
          3361152,
          1143936,
          3522940,
          1954330,
          404645,
          238320,
          95549,
          47664,
          95328,
          47664,
          47664,
          1463,
          13005,
          65025,
          65025,
          38876,
          990,
          65025,
          31
         ],
         "yaxis": "y"
        }
       ],
       "layout": {
        "height": 600,
        "legend": {
         "title": {
          "text": "country"
         },
         "tracegroupgap": 0
        },
        "template": {
         "data": {
          "bar": [
           {
            "error_x": {
             "color": "#2a3f5f"
            },
            "error_y": {
             "color": "#2a3f5f"
            },
            "marker": {
             "line": {
              "color": "white",
              "width": 0.5
             },
             "pattern": {
              "fillmode": "overlay",
              "size": 10,
              "solidity": 0.2
             }
            },
            "type": "bar"
           }
          ],
          "barpolar": [
           {
            "marker": {
             "line": {
              "color": "white",
              "width": 0.5
             },
             "pattern": {
              "fillmode": "overlay",
              "size": 10,
              "solidity": 0.2
             }
            },
            "type": "barpolar"
           }
          ],
          "carpet": [
           {
            "aaxis": {
             "endlinecolor": "#2a3f5f",
             "gridcolor": "#C8D4E3",
             "linecolor": "#C8D4E3",
             "minorgridcolor": "#C8D4E3",
             "startlinecolor": "#2a3f5f"
            },
            "baxis": {
             "endlinecolor": "#2a3f5f",
             "gridcolor": "#C8D4E3",
             "linecolor": "#C8D4E3",
             "minorgridcolor": "#C8D4E3",
             "startlinecolor": "#2a3f5f"
            },
            "type": "carpet"
           }
          ],
          "choropleth": [
           {
            "colorbar": {
             "outlinewidth": 0,
             "ticks": ""
            },
            "type": "choropleth"
           }
          ],
          "contour": [
           {
            "colorbar": {
             "outlinewidth": 0,
             "ticks": ""
            },
            "colorscale": [
             [
              0,
              "#0d0887"
             ],
             [
              0.1111111111111111,
              "#46039f"
             ],
             [
              0.2222222222222222,
              "#7201a8"
             ],
             [
              0.3333333333333333,
              "#9c179e"
             ],
             [
              0.4444444444444444,
              "#bd3786"
             ],
             [
              0.5555555555555556,
              "#d8576b"
             ],
             [
              0.6666666666666666,
              "#ed7953"
             ],
             [
              0.7777777777777778,
              "#fb9f3a"
             ],
             [
              0.8888888888888888,
              "#fdca26"
             ],
             [
              1,
              "#f0f921"
             ]
            ],
            "type": "contour"
           }
          ],
          "contourcarpet": [
           {
            "colorbar": {
             "outlinewidth": 0,
             "ticks": ""
            },
            "type": "contourcarpet"
           }
          ],
          "heatmap": [
           {
            "colorbar": {
             "outlinewidth": 0,
             "ticks": ""
            },
            "colorscale": [
             [
              0,
              "#0d0887"
             ],
             [
              0.1111111111111111,
              "#46039f"
             ],
             [
              0.2222222222222222,
              "#7201a8"
             ],
             [
              0.3333333333333333,
              "#9c179e"
             ],
             [
              0.4444444444444444,
              "#bd3786"
             ],
             [
              0.5555555555555556,
              "#d8576b"
             ],
             [
              0.6666666666666666,
              "#ed7953"
             ],
             [
              0.7777777777777778,
              "#fb9f3a"
             ],
             [
              0.8888888888888888,
              "#fdca26"
             ],
             [
              1,
              "#f0f921"
             ]
            ],
            "type": "heatmap"
           }
          ],
          "heatmapgl": [
           {
            "colorbar": {
             "outlinewidth": 0,
             "ticks": ""
            },
            "colorscale": [
             [
              0,
              "#0d0887"
             ],
             [
              0.1111111111111111,
              "#46039f"
             ],
             [
              0.2222222222222222,
              "#7201a8"
             ],
             [
              0.3333333333333333,
              "#9c179e"
             ],
             [
              0.4444444444444444,
              "#bd3786"
             ],
             [
              0.5555555555555556,
              "#d8576b"
             ],
             [
              0.6666666666666666,
              "#ed7953"
             ],
             [
              0.7777777777777778,
              "#fb9f3a"
             ],
             [
              0.8888888888888888,
              "#fdca26"
             ],
             [
              1,
              "#f0f921"
             ]
            ],
            "type": "heatmapgl"
           }
          ],
          "histogram": [
           {
            "marker": {
             "pattern": {
              "fillmode": "overlay",
              "size": 10,
              "solidity": 0.2
             }
            },
            "type": "histogram"
           }
          ],
          "histogram2d": [
           {
            "colorbar": {
             "outlinewidth": 0,
             "ticks": ""
            },
            "colorscale": [
             [
              0,
              "#0d0887"
             ],
             [
              0.1111111111111111,
              "#46039f"
             ],
             [
              0.2222222222222222,
              "#7201a8"
             ],
             [
              0.3333333333333333,
              "#9c179e"
             ],
             [
              0.4444444444444444,
              "#bd3786"
             ],
             [
              0.5555555555555556,
              "#d8576b"
             ],
             [
              0.6666666666666666,
              "#ed7953"
             ],
             [
              0.7777777777777778,
              "#fb9f3a"
             ],
             [
              0.8888888888888888,
              "#fdca26"
             ],
             [
              1,
              "#f0f921"
             ]
            ],
            "type": "histogram2d"
           }
          ],
          "histogram2dcontour": [
           {
            "colorbar": {
             "outlinewidth": 0,
             "ticks": ""
            },
            "colorscale": [
             [
              0,
              "#0d0887"
             ],
             [
              0.1111111111111111,
              "#46039f"
             ],
             [
              0.2222222222222222,
              "#7201a8"
             ],
             [
              0.3333333333333333,
              "#9c179e"
             ],
             [
              0.4444444444444444,
              "#bd3786"
             ],
             [
              0.5555555555555556,
              "#d8576b"
             ],
             [
              0.6666666666666666,
              "#ed7953"
             ],
             [
              0.7777777777777778,
              "#fb9f3a"
             ],
             [
              0.8888888888888888,
              "#fdca26"
             ],
             [
              1,
              "#f0f921"
             ]
            ],
            "type": "histogram2dcontour"
           }
          ],
          "mesh3d": [
           {
            "colorbar": {
             "outlinewidth": 0,
             "ticks": ""
            },
            "type": "mesh3d"
           }
          ],
          "parcoords": [
           {
            "line": {
             "colorbar": {
              "outlinewidth": 0,
              "ticks": ""
             }
            },
            "type": "parcoords"
           }
          ],
          "pie": [
           {
            "automargin": true,
            "type": "pie"
           }
          ],
          "scatter": [
           {
            "fillpattern": {
             "fillmode": "overlay",
             "size": 10,
             "solidity": 0.2
            },
            "type": "scatter"
           }
          ],
          "scatter3d": [
           {
            "line": {
             "colorbar": {
              "outlinewidth": 0,
              "ticks": ""
             }
            },
            "marker": {
             "colorbar": {
              "outlinewidth": 0,
              "ticks": ""
             }
            },
            "type": "scatter3d"
           }
          ],
          "scattercarpet": [
           {
            "marker": {
             "colorbar": {
              "outlinewidth": 0,
              "ticks": ""
             }
            },
            "type": "scattercarpet"
           }
          ],
          "scattergeo": [
           {
            "marker": {
             "colorbar": {
              "outlinewidth": 0,
              "ticks": ""
             }
            },
            "type": "scattergeo"
           }
          ],
          "scattergl": [
           {
            "marker": {
             "colorbar": {
              "outlinewidth": 0,
              "ticks": ""
             }
            },
            "type": "scattergl"
           }
          ],
          "scattermapbox": [
           {
            "marker": {
             "colorbar": {
              "outlinewidth": 0,
              "ticks": ""
             }
            },
            "type": "scattermapbox"
           }
          ],
          "scatterpolar": [
           {
            "marker": {
             "colorbar": {
              "outlinewidth": 0,
              "ticks": ""
             }
            },
            "type": "scatterpolar"
           }
          ],
          "scatterpolargl": [
           {
            "marker": {
             "colorbar": {
              "outlinewidth": 0,
              "ticks": ""
             }
            },
            "type": "scatterpolargl"
           }
          ],
          "scatterternary": [
           {
            "marker": {
             "colorbar": {
              "outlinewidth": 0,
              "ticks": ""
             }
            },
            "type": "scatterternary"
           }
          ],
          "surface": [
           {
            "colorbar": {
             "outlinewidth": 0,
             "ticks": ""
            },
            "colorscale": [
             [
              0,
              "#0d0887"
             ],
             [
              0.1111111111111111,
              "#46039f"
             ],
             [
              0.2222222222222222,
              "#7201a8"
             ],
             [
              0.3333333333333333,
              "#9c179e"
             ],
             [
              0.4444444444444444,
              "#bd3786"
             ],
             [
              0.5555555555555556,
              "#d8576b"
             ],
             [
              0.6666666666666666,
              "#ed7953"
             ],
             [
              0.7777777777777778,
              "#fb9f3a"
             ],
             [
              0.8888888888888888,
              "#fdca26"
             ],
             [
              1,
              "#f0f921"
             ]
            ],
            "type": "surface"
           }
          ],
          "table": [
           {
            "cells": {
             "fill": {
              "color": "#EBF0F8"
             },
             "line": {
              "color": "white"
             }
            },
            "header": {
             "fill": {
              "color": "#C8D4E3"
             },
             "line": {
              "color": "white"
             }
            },
            "type": "table"
           }
          ]
         },
         "layout": {
          "annotationdefaults": {
           "arrowcolor": "#2a3f5f",
           "arrowhead": 0,
           "arrowwidth": 1
          },
          "autotypenumbers": "strict",
          "coloraxis": {
           "colorbar": {
            "outlinewidth": 0,
            "ticks": ""
           }
          },
          "colorscale": {
           "diverging": [
            [
             0,
             "#8e0152"
            ],
            [
             0.1,
             "#c51b7d"
            ],
            [
             0.2,
             "#de77ae"
            ],
            [
             0.3,
             "#f1b6da"
            ],
            [
             0.4,
             "#fde0ef"
            ],
            [
             0.5,
             "#f7f7f7"
            ],
            [
             0.6,
             "#e6f5d0"
            ],
            [
             0.7,
             "#b8e186"
            ],
            [
             0.8,
             "#7fbc41"
            ],
            [
             0.9,
             "#4d9221"
            ],
            [
             1,
             "#276419"
            ]
           ],
           "sequential": [
            [
             0,
             "#0d0887"
            ],
            [
             0.1111111111111111,
             "#46039f"
            ],
            [
             0.2222222222222222,
             "#7201a8"
            ],
            [
             0.3333333333333333,
             "#9c179e"
            ],
            [
             0.4444444444444444,
             "#bd3786"
            ],
            [
             0.5555555555555556,
             "#d8576b"
            ],
            [
             0.6666666666666666,
             "#ed7953"
            ],
            [
             0.7777777777777778,
             "#fb9f3a"
            ],
            [
             0.8888888888888888,
             "#fdca26"
            ],
            [
             1,
             "#f0f921"
            ]
           ],
           "sequentialminus": [
            [
             0,
             "#0d0887"
            ],
            [
             0.1111111111111111,
             "#46039f"
            ],
            [
             0.2222222222222222,
             "#7201a8"
            ],
            [
             0.3333333333333333,
             "#9c179e"
            ],
            [
             0.4444444444444444,
             "#bd3786"
            ],
            [
             0.5555555555555556,
             "#d8576b"
            ],
            [
             0.6666666666666666,
             "#ed7953"
            ],
            [
             0.7777777777777778,
             "#fb9f3a"
            ],
            [
             0.8888888888888888,
             "#fdca26"
            ],
            [
             1,
             "#f0f921"
            ]
           ]
          },
          "colorway": [
           "#636efa",
           "#EF553B",
           "#00cc96",
           "#ab63fa",
           "#FFA15A",
           "#19d3f3",
           "#FF6692",
           "#B6E880",
           "#FF97FF",
           "#FECB52"
          ],
          "font": {
           "color": "#2a3f5f"
          },
          "geo": {
           "bgcolor": "white",
           "lakecolor": "white",
           "landcolor": "white",
           "showlakes": true,
           "showland": true,
           "subunitcolor": "#C8D4E3"
          },
          "hoverlabel": {
           "align": "left"
          },
          "hovermode": "closest",
          "mapbox": {
           "style": "light"
          },
          "paper_bgcolor": "white",
          "plot_bgcolor": "white",
          "polar": {
           "angularaxis": {
            "gridcolor": "#EBF0F8",
            "linecolor": "#EBF0F8",
            "ticks": ""
           },
           "bgcolor": "white",
           "radialaxis": {
            "gridcolor": "#EBF0F8",
            "linecolor": "#EBF0F8",
            "ticks": ""
           }
          },
          "scene": {
           "xaxis": {
            "backgroundcolor": "white",
            "gridcolor": "#DFE8F3",
            "gridwidth": 2,
            "linecolor": "#EBF0F8",
            "showbackground": true,
            "ticks": "",
            "zerolinecolor": "#EBF0F8"
           },
           "yaxis": {
            "backgroundcolor": "white",
            "gridcolor": "#DFE8F3",
            "gridwidth": 2,
            "linecolor": "#EBF0F8",
            "showbackground": true,
            "ticks": "",
            "zerolinecolor": "#EBF0F8"
           },
           "zaxis": {
            "backgroundcolor": "white",
            "gridcolor": "#DFE8F3",
            "gridwidth": 2,
            "linecolor": "#EBF0F8",
            "showbackground": true,
            "ticks": "",
            "zerolinecolor": "#EBF0F8"
           }
          },
          "shapedefaults": {
           "line": {
            "color": "#2a3f5f"
           }
          },
          "ternary": {
           "aaxis": {
            "gridcolor": "#DFE8F3",
            "linecolor": "#A2B1C6",
            "ticks": ""
           },
           "baxis": {
            "gridcolor": "#DFE8F3",
            "linecolor": "#A2B1C6",
            "ticks": ""
           },
           "bgcolor": "white",
           "caxis": {
            "gridcolor": "#DFE8F3",
            "linecolor": "#A2B1C6",
            "ticks": ""
           }
          },
          "title": {
           "x": 0.05
          },
          "xaxis": {
           "automargin": true,
           "gridcolor": "#EBF0F8",
           "linecolor": "#EBF0F8",
           "ticks": "",
           "title": {
            "standoff": 15
           },
           "zerolinecolor": "#EBF0F8",
           "zerolinewidth": 2
          },
          "yaxis": {
           "automargin": true,
           "gridcolor": "#EBF0F8",
           "linecolor": "#EBF0F8",
           "ticks": "",
           "title": {
            "standoff": 15
           },
           "zerolinecolor": "#EBF0F8",
           "zerolinewidth": 2
          }
         }
        },
        "title": {
         "text": "Evolução da quantidade de vinhos vendidos para os 5 maiores compradores (mensal)"
        },
        "width": 1000,
        "xaxis": {
         "anchor": "y",
         "domain": [
          0,
          1
         ],
         "dtick": "M6",
         "tickformat": "%b-%Y",
         "ticklabelmode": "period",
         "title": {
          "text": "Mês-Ano"
         }
        },
        "yaxis": {
         "anchor": "x",
         "domain": [
          0,
          1
         ],
         "title": {
          "text": "quantity"
         },
         "type": "log"
        }
       }
      }
     },
     "metadata": {},
     "output_type": "display_data"
    }
   ],
   "source": [
    "px.line(\n",
    "    exp_vinho_monthly_corrected.filter(\n",
    "        pl.col(\"country\").is_in(exp_vinho_top20[\"country\"].limit(5))\n",
    "    )\n",
    "    .sort(\"date\")\n",
    "    .to_pandas(),\n",
    "    x=\"date\",\n",
    "    y=\"quantity\",\n",
    "    color=\"country\",\n",
    "    log_y=True,\n",
    "    width=fig_w + 200,\n",
    "    height=fig_h,\n",
    "    title=\"Evolução da quantidade de vinhos vendidos para os 5 maiores compradores (mensal)\",\n",
    "    labels={\"value_corrected\": \"log do valor\", \"date\": \"Mês-Ano\", \"county\": \"país\"},\n",
    "    template=\"plotly_white\",\n",
    ").update_xaxes(dtick=\"M6\", tickformat=\"%b-%Y\", ticklabelmode=\"period\")"
   ]
  },
  {
   "cell_type": "markdown",
   "metadata": {},
   "source": [
    "## Análise de séries temporais e previsões"
   ]
  },
  {
   "cell_type": "code",
   "execution_count": null,
   "metadata": {},
   "outputs": [],
   "source": [
    "from prophet import Prophet\n",
    "from prophet.plot import plot_plotly, plot_components_plotly"
   ]
  },
  {
   "cell_type": "code",
   "execution_count": null,
   "metadata": {},
   "outputs": [
    {
     "data": {
      "text/html": [
       "<div><style>\n",
       ".dataframe > thead > tr > th,\n",
       ".dataframe > tbody > tr > td {\n",
       "  text-align: right;\n",
       "  white-space: pre-wrap;\n",
       "}\n",
       "</style>\n",
       "<small>shape: (5, 7)</small><table border=\"1\" class=\"dataframe\"><thead><tr><th>year</th><th>month</th><th>country</th><th>value</th><th>value_corrected</th><th>quantity</th><th>date</th></tr><tr><td>i64</td><td>i64</td><td>str</td><td>i64</td><td>f64</td><td>i64</td><td>date</td></tr></thead><tbody><tr><td>2000</td><td>1</td><td>&quot;Paraguai&quot;</td><td>193841</td><td>342330.304725</td><td>390179</td><td>2000-01-01</td></tr><tr><td>2000</td><td>2</td><td>&quot;Paraguai&quot;</td><td>140681</td><td>247424.777588</td><td>273502</td><td>2000-02-01</td></tr><tr><td>2000</td><td>2</td><td>&quot;Japão&quot;</td><td>36759</td><td>64650.431824</td><td>68572</td><td>2000-02-01</td></tr><tr><td>2000</td><td>2</td><td>&quot;Estados Unidos…</td><td>2700</td><td>4748.664706</td><td>1118</td><td>2000-02-01</td></tr><tr><td>2000</td><td>3</td><td>&quot;Paraguai&quot;</td><td>183621</td><td>321057.560175</td><td>415646</td><td>2000-03-01</td></tr></tbody></table></div>"
      ],
      "text/plain": [
       "shape: (5, 7)\n",
       "┌──────┬───────┬────────────────┬────────┬─────────────────┬──────────┬────────────┐\n",
       "│ year ┆ month ┆ country        ┆ value  ┆ value_corrected ┆ quantity ┆ date       │\n",
       "│ ---  ┆ ---   ┆ ---            ┆ ---    ┆ ---             ┆ ---      ┆ ---        │\n",
       "│ i64  ┆ i64   ┆ str            ┆ i64    ┆ f64             ┆ i64      ┆ date       │\n",
       "╞══════╪═══════╪════════════════╪════════╪═════════════════╪══════════╪════════════╡\n",
       "│ 2000 ┆ 1     ┆ Paraguai       ┆ 193841 ┆ 342330.304725   ┆ 390179   ┆ 2000-01-01 │\n",
       "│ 2000 ┆ 2     ┆ Paraguai       ┆ 140681 ┆ 247424.777588   ┆ 273502   ┆ 2000-02-01 │\n",
       "│ 2000 ┆ 2     ┆ Japão          ┆ 36759  ┆ 64650.431824    ┆ 68572    ┆ 2000-02-01 │\n",
       "│ 2000 ┆ 2     ┆ Estados Unidos ┆ 2700   ┆ 4748.664706     ┆ 1118     ┆ 2000-02-01 │\n",
       "│ 2000 ┆ 3     ┆ Paraguai       ┆ 183621 ┆ 321057.560175   ┆ 415646   ┆ 2000-03-01 │\n",
       "└──────┴───────┴────────────────┴────────┴─────────────────┴──────────┴────────────┘"
      ]
     },
     "execution_count": 93,
     "metadata": {},
     "output_type": "execute_result"
    }
   ],
   "source": [
    "exp_vinho_monthly_top5 = exp_vinho_monthly_corrected.filter(\n",
    "    pl.col(\"country\").is_in(exp_vinho_top20[\"country\"].limit(5))\n",
    ")\n",
    "exp_vinho_monthly_top5.head()"
   ]
  },
  {
   "cell_type": "code",
   "execution_count": null,
   "metadata": {},
   "outputs": [
    {
     "data": {
      "text/html": [
       "<div>\n",
       "<style scoped>\n",
       "    .dataframe tbody tr th:only-of-type {\n",
       "        vertical-align: middle;\n",
       "    }\n",
       "\n",
       "    .dataframe tbody tr th {\n",
       "        vertical-align: top;\n",
       "    }\n",
       "\n",
       "    .dataframe thead th {\n",
       "        text-align: right;\n",
       "    }\n",
       "</style>\n",
       "<table border=\"1\" class=\"dataframe\">\n",
       "  <thead>\n",
       "    <tr style=\"text-align: right;\">\n",
       "      <th></th>\n",
       "      <th>ds</th>\n",
       "      <th>y</th>\n",
       "    </tr>\n",
       "  </thead>\n",
       "  <tbody>\n",
       "    <tr>\n",
       "      <th>0</th>\n",
       "      <td>2000-01-01</td>\n",
       "      <td>390179</td>\n",
       "    </tr>\n",
       "    <tr>\n",
       "      <th>1</th>\n",
       "      <td>2000-02-01</td>\n",
       "      <td>273502</td>\n",
       "    </tr>\n",
       "    <tr>\n",
       "      <th>2</th>\n",
       "      <td>2000-03-01</td>\n",
       "      <td>415646</td>\n",
       "    </tr>\n",
       "    <tr>\n",
       "      <th>3</th>\n",
       "      <td>2000-04-01</td>\n",
       "      <td>365776</td>\n",
       "    </tr>\n",
       "    <tr>\n",
       "      <th>4</th>\n",
       "      <td>2000-05-01</td>\n",
       "      <td>405252</td>\n",
       "    </tr>\n",
       "  </tbody>\n",
       "</table>\n",
       "</div>"
      ],
      "text/plain": [
       "          ds       y\n",
       "0 2000-01-01  390179\n",
       "1 2000-02-01  273502\n",
       "2 2000-03-01  415646\n",
       "3 2000-04-01  365776\n",
       "4 2000-05-01  405252"
      ]
     },
     "execution_count": 105,
     "metadata": {},
     "output_type": "execute_result"
    }
   ],
   "source": [
    "qty_series = (\n",
    "    exp_vinho_monthly_top5.filter(pl.col(\"country\") == \"Paraguai\")\n",
    "    .select(pl.col(\"date\"), pl.col(\"quantity\"))\n",
    "    .to_pandas()\n",
    ")\n",
    "qty_series.columns = [\"ds\", \"y\"]\n",
    "qty_series.head()"
   ]
  },
  {
   "cell_type": "code",
   "execution_count": null,
   "metadata": {},
   "outputs": [
    {
     "name": "stderr",
     "output_type": "stream",
     "text": [
      "DEBUG:cmdstanpy:cmd: where.exe tbb.dll\n",
      "cwd: None\n",
      "DEBUG:cmdstanpy:TBB already found in load path\n",
      "INFO:prophet:Disabling weekly seasonality. Run prophet with weekly_seasonality=True to override this.\n",
      "INFO:prophet:Disabling daily seasonality. Run prophet with daily_seasonality=True to override this.\n",
      "DEBUG:cmdstanpy:input tempfile: C:\\Users\\carlo\\AppData\\Local\\Temp\\tmp0vkq6gdn\\nxb0ss7b.json\n",
      "DEBUG:cmdstanpy:input tempfile: C:\\Users\\carlo\\AppData\\Local\\Temp\\tmp0vkq6gdn\\uv1_8k62.json\n",
      "DEBUG:cmdstanpy:idx 0\n",
      "DEBUG:cmdstanpy:running CmdStan, num_threads: None\n",
      "DEBUG:cmdstanpy:CmdStan args: ['C:\\\\projects\\\\alura_postech\\\\tech_challenge_fase01\\\\wineData\\\\.venv\\\\Lib\\\\site-packages\\\\prophet\\\\stan_model\\\\prophet_model.bin', 'random', 'seed=17727', 'data', 'file=C:\\\\Users\\\\carlo\\\\AppData\\\\Local\\\\Temp\\\\tmp0vkq6gdn\\\\nxb0ss7b.json', 'init=C:\\\\Users\\\\carlo\\\\AppData\\\\Local\\\\Temp\\\\tmp0vkq6gdn\\\\uv1_8k62.json', 'output', 'file=C:\\\\Users\\\\carlo\\\\AppData\\\\Local\\\\Temp\\\\tmp0vkq6gdn\\\\prophet_modelotl2w5of\\\\prophet_model-20231201214036.csv', 'method=optimize', 'algorithm=lbfgs', 'iter=10000']\n",
      "21:40:36 - cmdstanpy - INFO - Chain [1] start processing\n",
      "INFO:cmdstanpy:Chain [1] start processing\n",
      "21:40:36 - cmdstanpy - INFO - Chain [1] done processing\n",
      "INFO:cmdstanpy:Chain [1] done processing\n"
     ]
    },
    {
     "data": {
      "text/plain": [
       "<prophet.forecaster.Prophet at 0x260b881dbd0>"
      ]
     },
     "execution_count": 95,
     "metadata": {},
     "output_type": "execute_result"
    }
   ],
   "source": [
    "m = Prophet(interval_width=0.95)\n",
    "m.fit(qty_series)"
   ]
  },
  {
   "cell_type": "code",
   "execution_count": null,
   "metadata": {},
   "outputs": [
    {
     "data": {
      "text/html": [
       "<div>\n",
       "<style scoped>\n",
       "    .dataframe tbody tr th:only-of-type {\n",
       "        vertical-align: middle;\n",
       "    }\n",
       "\n",
       "    .dataframe tbody tr th {\n",
       "        vertical-align: top;\n",
       "    }\n",
       "\n",
       "    .dataframe thead th {\n",
       "        text-align: right;\n",
       "    }\n",
       "</style>\n",
       "<table border=\"1\" class=\"dataframe\">\n",
       "  <thead>\n",
       "    <tr style=\"text-align: right;\">\n",
       "      <th></th>\n",
       "      <th>ds</th>\n",
       "    </tr>\n",
       "  </thead>\n",
       "  <tbody>\n",
       "    <tr>\n",
       "      <th>305</th>\n",
       "      <td>2025-07-31</td>\n",
       "    </tr>\n",
       "    <tr>\n",
       "      <th>306</th>\n",
       "      <td>2025-08-31</td>\n",
       "    </tr>\n",
       "    <tr>\n",
       "      <th>307</th>\n",
       "      <td>2025-09-30</td>\n",
       "    </tr>\n",
       "    <tr>\n",
       "      <th>308</th>\n",
       "      <td>2025-10-31</td>\n",
       "    </tr>\n",
       "    <tr>\n",
       "      <th>309</th>\n",
       "      <td>2025-11-30</td>\n",
       "    </tr>\n",
       "  </tbody>\n",
       "</table>\n",
       "</div>"
      ],
      "text/plain": [
       "            ds\n",
       "305 2025-07-31\n",
       "306 2025-08-31\n",
       "307 2025-09-30\n",
       "308 2025-10-31\n",
       "309 2025-11-30"
      ]
     },
     "execution_count": 96,
     "metadata": {},
     "output_type": "execute_result"
    }
   ],
   "source": [
    "future = m.make_future_dataframe(periods=36, freq=\"M\")\n",
    "future.tail()"
   ]
  },
  {
   "cell_type": "code",
   "execution_count": null,
   "metadata": {},
   "outputs": [
    {
     "data": {
      "text/html": [
       "<div>\n",
       "<style scoped>\n",
       "    .dataframe tbody tr th:only-of-type {\n",
       "        vertical-align: middle;\n",
       "    }\n",
       "\n",
       "    .dataframe tbody tr th {\n",
       "        vertical-align: top;\n",
       "    }\n",
       "\n",
       "    .dataframe thead th {\n",
       "        text-align: right;\n",
       "    }\n",
       "</style>\n",
       "<table border=\"1\" class=\"dataframe\">\n",
       "  <thead>\n",
       "    <tr style=\"text-align: right;\">\n",
       "      <th></th>\n",
       "      <th>ds</th>\n",
       "      <th>yhat</th>\n",
       "      <th>yhat_lower</th>\n",
       "      <th>yhat_upper</th>\n",
       "    </tr>\n",
       "  </thead>\n",
       "  <tbody>\n",
       "    <tr>\n",
       "      <th>305</th>\n",
       "      <td>2025-07-31</td>\n",
       "      <td>654393.346353</td>\n",
       "      <td>417010.750975</td>\n",
       "      <td>913574.278439</td>\n",
       "    </tr>\n",
       "    <tr>\n",
       "      <th>306</th>\n",
       "      <td>2025-08-31</td>\n",
       "      <td>661603.479453</td>\n",
       "      <td>389204.328500</td>\n",
       "      <td>936470.862766</td>\n",
       "    </tr>\n",
       "    <tr>\n",
       "      <th>307</th>\n",
       "      <td>2025-09-30</td>\n",
       "      <td>669584.853874</td>\n",
       "      <td>415899.653391</td>\n",
       "      <td>956335.223222</td>\n",
       "    </tr>\n",
       "    <tr>\n",
       "      <th>308</th>\n",
       "      <td>2025-10-31</td>\n",
       "      <td>676190.898402</td>\n",
       "      <td>388334.909723</td>\n",
       "      <td>925292.207978</td>\n",
       "    </tr>\n",
       "    <tr>\n",
       "      <th>309</th>\n",
       "      <td>2025-11-30</td>\n",
       "      <td>678264.041020</td>\n",
       "      <td>412736.845228</td>\n",
       "      <td>949196.504852</td>\n",
       "    </tr>\n",
       "  </tbody>\n",
       "</table>\n",
       "</div>"
      ],
      "text/plain": [
       "            ds           yhat     yhat_lower     yhat_upper\n",
       "305 2025-07-31  654393.346353  417010.750975  913574.278439\n",
       "306 2025-08-31  661603.479453  389204.328500  936470.862766\n",
       "307 2025-09-30  669584.853874  415899.653391  956335.223222\n",
       "308 2025-10-31  676190.898402  388334.909723  925292.207978\n",
       "309 2025-11-30  678264.041020  412736.845228  949196.504852"
      ]
     },
     "execution_count": 97,
     "metadata": {},
     "output_type": "execute_result"
    }
   ],
   "source": [
    "forecast = m.predict(future)\n",
    "forecast[[\"ds\", \"yhat\", \"yhat_lower\", \"yhat_upper\"]].tail()"
   ]
  },
  {
   "cell_type": "code",
   "execution_count": null,
   "metadata": {},
   "outputs": [
    {
     "data": {
      "application/vnd.plotly.v1+json": {
       "config": {
        "plotlyServerURL": "https://plot.ly"
       },
       "data": [
        {
         "marker": {
          "color": "black",
          "size": 4
         },
         "mode": "markers",
         "name": "Actual",
         "type": "scatter",
         "x": [
          "2000-01-01T00:00:00",
          "2000-02-01T00:00:00",
          "2000-03-01T00:00:00",
          "2000-04-01T00:00:00",
          "2000-05-01T00:00:00",
          "2000-06-01T00:00:00",
          "2000-07-01T00:00:00",
          "2000-08-01T00:00:00",
          "2000-09-01T00:00:00",
          "2000-10-01T00:00:00",
          "2000-11-01T00:00:00",
          "2000-12-01T00:00:00",
          "2001-01-01T00:00:00",
          "2001-02-01T00:00:00",
          "2001-03-01T00:00:00",
          "2001-04-01T00:00:00",
          "2001-05-01T00:00:00",
          "2001-06-01T00:00:00",
          "2001-07-01T00:00:00",
          "2001-08-01T00:00:00",
          "2001-09-01T00:00:00",
          "2001-10-01T00:00:00",
          "2001-11-01T00:00:00",
          "2001-12-01T00:00:00",
          "2002-01-01T00:00:00",
          "2002-02-01T00:00:00",
          "2002-03-01T00:00:00",
          "2002-04-01T00:00:00",
          "2002-05-01T00:00:00",
          "2002-06-01T00:00:00",
          "2002-07-01T00:00:00",
          "2002-08-01T00:00:00",
          "2002-09-01T00:00:00",
          "2002-10-01T00:00:00",
          "2002-11-01T00:00:00",
          "2002-12-01T00:00:00",
          "2003-01-01T00:00:00",
          "2003-02-01T00:00:00",
          "2003-03-01T00:00:00",
          "2003-04-01T00:00:00",
          "2003-05-01T00:00:00",
          "2003-06-01T00:00:00",
          "2003-07-01T00:00:00",
          "2003-08-01T00:00:00",
          "2003-09-01T00:00:00",
          "2003-10-01T00:00:00",
          "2003-11-01T00:00:00",
          "2003-12-01T00:00:00",
          "2004-01-01T00:00:00",
          "2004-02-01T00:00:00",
          "2004-03-01T00:00:00",
          "2004-04-01T00:00:00",
          "2004-05-01T00:00:00",
          "2004-06-01T00:00:00",
          "2004-07-01T00:00:00",
          "2004-08-01T00:00:00",
          "2004-09-01T00:00:00",
          "2004-10-01T00:00:00",
          "2004-11-01T00:00:00",
          "2004-12-01T00:00:00",
          "2005-01-01T00:00:00",
          "2005-02-01T00:00:00",
          "2005-03-01T00:00:00",
          "2005-04-01T00:00:00",
          "2005-05-01T00:00:00",
          "2005-06-01T00:00:00",
          "2005-07-01T00:00:00",
          "2005-08-01T00:00:00",
          "2005-09-01T00:00:00",
          "2005-10-01T00:00:00",
          "2005-11-01T00:00:00",
          "2005-12-01T00:00:00",
          "2006-01-01T00:00:00",
          "2006-02-01T00:00:00",
          "2006-03-01T00:00:00",
          "2006-04-01T00:00:00",
          "2006-05-01T00:00:00",
          "2006-06-01T00:00:00",
          "2006-07-01T00:00:00",
          "2006-08-01T00:00:00",
          "2006-09-01T00:00:00",
          "2006-10-01T00:00:00",
          "2006-11-01T00:00:00",
          "2006-12-01T00:00:00",
          "2007-01-01T00:00:00",
          "2007-02-01T00:00:00",
          "2007-03-01T00:00:00",
          "2007-04-01T00:00:00",
          "2007-05-01T00:00:00",
          "2007-06-01T00:00:00",
          "2007-07-01T00:00:00",
          "2007-08-01T00:00:00",
          "2007-09-01T00:00:00",
          "2007-10-01T00:00:00",
          "2007-11-01T00:00:00",
          "2007-12-01T00:00:00",
          "2008-01-01T00:00:00",
          "2008-02-01T00:00:00",
          "2008-03-01T00:00:00",
          "2008-04-01T00:00:00",
          "2008-05-01T00:00:00",
          "2008-06-01T00:00:00",
          "2008-07-01T00:00:00",
          "2008-08-01T00:00:00",
          "2008-09-01T00:00:00",
          "2008-10-01T00:00:00",
          "2008-11-01T00:00:00",
          "2008-12-01T00:00:00",
          "2009-01-01T00:00:00",
          "2009-02-01T00:00:00",
          "2009-03-01T00:00:00",
          "2009-04-01T00:00:00",
          "2009-05-01T00:00:00",
          "2009-06-01T00:00:00",
          "2009-07-01T00:00:00",
          "2009-08-01T00:00:00",
          "2009-09-01T00:00:00",
          "2009-10-01T00:00:00",
          "2009-11-01T00:00:00",
          "2009-12-01T00:00:00",
          "2010-01-01T00:00:00",
          "2010-02-01T00:00:00",
          "2010-03-01T00:00:00",
          "2010-04-01T00:00:00",
          "2010-05-01T00:00:00",
          "2010-06-01T00:00:00",
          "2010-07-01T00:00:00",
          "2010-08-01T00:00:00",
          "2010-09-01T00:00:00",
          "2010-10-01T00:00:00",
          "2010-11-01T00:00:00",
          "2010-12-01T00:00:00",
          "2011-03-01T00:00:00",
          "2011-04-01T00:00:00",
          "2011-05-01T00:00:00",
          "2011-06-01T00:00:00",
          "2011-07-01T00:00:00",
          "2011-08-01T00:00:00",
          "2011-09-01T00:00:00",
          "2011-10-01T00:00:00",
          "2011-11-01T00:00:00",
          "2011-12-01T00:00:00",
          "2012-01-01T00:00:00",
          "2012-02-01T00:00:00",
          "2012-03-01T00:00:00",
          "2012-04-01T00:00:00",
          "2012-05-01T00:00:00",
          "2012-06-01T00:00:00",
          "2012-07-01T00:00:00",
          "2012-08-01T00:00:00",
          "2012-09-01T00:00:00",
          "2012-10-01T00:00:00",
          "2012-11-01T00:00:00",
          "2012-12-01T00:00:00",
          "2013-01-01T00:00:00",
          "2013-02-01T00:00:00",
          "2013-03-01T00:00:00",
          "2013-04-01T00:00:00",
          "2013-05-01T00:00:00",
          "2013-06-01T00:00:00",
          "2013-07-01T00:00:00",
          "2013-08-01T00:00:00",
          "2013-09-01T00:00:00",
          "2013-10-01T00:00:00",
          "2013-11-01T00:00:00",
          "2013-12-01T00:00:00",
          "2014-01-01T00:00:00",
          "2014-02-01T00:00:00",
          "2014-03-01T00:00:00",
          "2014-04-01T00:00:00",
          "2014-05-01T00:00:00",
          "2014-06-01T00:00:00",
          "2014-07-01T00:00:00",
          "2014-08-01T00:00:00",
          "2014-09-01T00:00:00",
          "2014-10-01T00:00:00",
          "2014-11-01T00:00:00",
          "2014-12-01T00:00:00",
          "2015-01-01T00:00:00",
          "2015-02-01T00:00:00",
          "2015-03-01T00:00:00",
          "2015-04-01T00:00:00",
          "2015-05-01T00:00:00",
          "2015-06-01T00:00:00",
          "2015-07-01T00:00:00",
          "2015-08-01T00:00:00",
          "2015-09-01T00:00:00",
          "2015-10-01T00:00:00",
          "2015-11-01T00:00:00",
          "2015-12-01T00:00:00",
          "2016-01-01T00:00:00",
          "2016-02-01T00:00:00",
          "2016-03-01T00:00:00",
          "2016-04-01T00:00:00",
          "2016-05-01T00:00:00",
          "2016-06-01T00:00:00",
          "2016-07-01T00:00:00",
          "2016-08-01T00:00:00",
          "2016-09-01T00:00:00",
          "2016-10-01T00:00:00",
          "2016-11-01T00:00:00",
          "2016-12-01T00:00:00",
          "2017-01-01T00:00:00",
          "2017-02-01T00:00:00",
          "2017-03-01T00:00:00",
          "2017-04-01T00:00:00",
          "2017-05-01T00:00:00",
          "2017-06-01T00:00:00",
          "2017-07-01T00:00:00",
          "2017-08-01T00:00:00",
          "2017-09-01T00:00:00",
          "2017-10-01T00:00:00",
          "2017-11-01T00:00:00",
          "2017-12-01T00:00:00",
          "2018-01-01T00:00:00",
          "2018-02-01T00:00:00",
          "2018-03-01T00:00:00",
          "2018-04-01T00:00:00",
          "2018-05-01T00:00:00",
          "2018-06-01T00:00:00",
          "2018-07-01T00:00:00",
          "2018-08-01T00:00:00",
          "2018-09-01T00:00:00",
          "2018-10-01T00:00:00",
          "2018-11-01T00:00:00",
          "2018-12-01T00:00:00",
          "2019-01-01T00:00:00",
          "2019-02-01T00:00:00",
          "2019-03-01T00:00:00",
          "2019-04-01T00:00:00",
          "2019-05-01T00:00:00",
          "2019-06-01T00:00:00",
          "2019-07-01T00:00:00",
          "2019-08-01T00:00:00",
          "2019-09-01T00:00:00",
          "2019-10-01T00:00:00",
          "2019-11-01T00:00:00",
          "2019-12-01T00:00:00",
          "2020-01-01T00:00:00",
          "2020-02-01T00:00:00",
          "2020-03-01T00:00:00",
          "2020-04-01T00:00:00",
          "2020-05-01T00:00:00",
          "2020-06-01T00:00:00",
          "2020-07-01T00:00:00",
          "2020-08-01T00:00:00",
          "2020-09-01T00:00:00",
          "2020-10-01T00:00:00",
          "2020-11-01T00:00:00",
          "2020-12-01T00:00:00",
          "2021-01-01T00:00:00",
          "2021-02-01T00:00:00",
          "2021-03-01T00:00:00",
          "2021-04-01T00:00:00",
          "2021-05-01T00:00:00",
          "2021-06-01T00:00:00",
          "2021-07-01T00:00:00",
          "2021-08-01T00:00:00",
          "2021-09-01T00:00:00",
          "2021-10-01T00:00:00",
          "2021-11-01T00:00:00",
          "2021-12-01T00:00:00",
          "2022-01-01T00:00:00",
          "2022-02-01T00:00:00",
          "2022-03-01T00:00:00",
          "2022-04-01T00:00:00",
          "2022-05-01T00:00:00",
          "2022-06-01T00:00:00",
          "2022-07-01T00:00:00",
          "2022-08-01T00:00:00",
          "2022-09-01T00:00:00",
          "2022-10-01T00:00:00",
          "2022-11-01T00:00:00",
          "2022-12-01T00:00:00"
         ],
         "y": [
          390179,
          273502,
          415646,
          365776,
          405252,
          386651,
          357062,
          426640,
          387972,
          343556,
          526327,
          685287,
          341536,
          214083,
          531573,
          297398,
          362356,
          363583,
          502416,
          342824,
          314262,
          484812,
          648296,
          395658,
          418113,
          217397,
          171367,
          97981,
          138963,
          83707,
          205798,
          35570,
          200681,
          165952,
          213961,
          64313,
          11154,
          36366,
          19682,
          54546,
          80676,
          130675,
          61568,
          30632,
          44043,
          204786,
          251423,
          196121,
          29316,
          258039,
          139083,
          81207,
          400005,
          265709,
          126288,
          106122,
          82580,
          131644,
          268649,
          220016,
          17400,
          48510,
          115880,
          151780,
          185901,
          139000,
          191190,
          346136,
          102465,
          53986,
          243272,
          372465,
          127889,
          124279,
          341456,
          169926,
          37028,
          118234,
          107398,
          123205,
          329450,
          186472,
          122037,
          159732,
          36702,
          42032,
          93411,
          63687,
          191113,
          161407,
          223860,
          41490,
          36880,
          39432,
          204603,
          150842,
          29411,
          137880,
          46251,
          82020,
          127865,
          97920,
          81282,
          380558,
          376850,
          375265,
          333503,
          123096,
          976,
          15244,
          14893,
          2137,
          13641,
          70526,
          60172,
          29438,
          50061,
          1940,
          31427,
          91064,
          28920,
          40644,
          2304,
          9600,
          19461,
          43576,
          187931,
          203694,
          2545,
          11475,
          27347,
          33410,
          43540,
          4480,
          42447,
          59605,
          36590,
          6877,
          10950,
          15169,
          6818,
          13692,
          6022,
          7133,
          25233,
          32539,
          61490,
          23221,
          57674,
          42363,
          16874,
          25669,
          33430,
          23176,
          7566,
          18237,
          5765,
          72415,
          41305,
          50578,
          51586,
          49703,
          47633,
          44073,
          49375,
          41104,
          35031,
          2742,
          40168,
          59617,
          14888,
          24954,
          103993,
          38610,
          38082,
          47790,
          47890,
          68082,
          12270,
          1125,
          13067,
          6705,
          87079,
          59706,
          78507,
          44699,
          52750,
          69723,
          55962,
          13835,
          9975,
          26638,
          50424,
          76719,
          19428,
          145609,
          127806,
          220507,
          100616,
          41231,
          63050,
          103736,
          52005,
          48916,
          122631,
          90011,
          219180,
          316200,
          324425,
          248546,
          199378,
          289732,
          170827,
          311619,
          75945,
          71363,
          179744,
          219497,
          249320,
          378193,
          501044,
          599711,
          379081,
          89545,
          297759,
          193012,
          768,
          83331,
          256350,
          284649,
          216362,
          437955,
          507179,
          127407,
          286050,
          88962,
          146009,
          97075,
          76260,
          101430,
          128273,
          59037,
          187860,
          402892,
          694095,
          493823,
          577150,
          240340,
          124815,
          213045,
          125367,
          357300,
          560693,
          580174,
          771090,
          706938,
          908553,
          644231,
          807598,
          610414,
          249503,
          200666,
          247811,
          229263,
          92190,
          511310,
          717491,
          526776,
          813355,
          558186,
          297727,
          348130,
          352520,
          381911
         ]
        },
        {
         "hoverinfo": "skip",
         "line": {
          "width": 0
         },
         "mode": "lines",
         "type": "scatter",
         "x": [
          "2000-01-01T00:00:00",
          "2000-02-01T00:00:00",
          "2000-03-01T00:00:00",
          "2000-04-01T00:00:00",
          "2000-05-01T00:00:00",
          "2000-06-01T00:00:00",
          "2000-07-01T00:00:00",
          "2000-08-01T00:00:00",
          "2000-09-01T00:00:00",
          "2000-10-01T00:00:00",
          "2000-11-01T00:00:00",
          "2000-12-01T00:00:00",
          "2001-01-01T00:00:00",
          "2001-02-01T00:00:00",
          "2001-03-01T00:00:00",
          "2001-04-01T00:00:00",
          "2001-05-01T00:00:00",
          "2001-06-01T00:00:00",
          "2001-07-01T00:00:00",
          "2001-08-01T00:00:00",
          "2001-09-01T00:00:00",
          "2001-10-01T00:00:00",
          "2001-11-01T00:00:00",
          "2001-12-01T00:00:00",
          "2002-01-01T00:00:00",
          "2002-02-01T00:00:00",
          "2002-03-01T00:00:00",
          "2002-04-01T00:00:00",
          "2002-05-01T00:00:00",
          "2002-06-01T00:00:00",
          "2002-07-01T00:00:00",
          "2002-08-01T00:00:00",
          "2002-09-01T00:00:00",
          "2002-10-01T00:00:00",
          "2002-11-01T00:00:00",
          "2002-12-01T00:00:00",
          "2003-01-01T00:00:00",
          "2003-02-01T00:00:00",
          "2003-03-01T00:00:00",
          "2003-04-01T00:00:00",
          "2003-05-01T00:00:00",
          "2003-06-01T00:00:00",
          "2003-07-01T00:00:00",
          "2003-08-01T00:00:00",
          "2003-09-01T00:00:00",
          "2003-10-01T00:00:00",
          "2003-11-01T00:00:00",
          "2003-12-01T00:00:00",
          "2004-01-01T00:00:00",
          "2004-02-01T00:00:00",
          "2004-03-01T00:00:00",
          "2004-04-01T00:00:00",
          "2004-05-01T00:00:00",
          "2004-06-01T00:00:00",
          "2004-07-01T00:00:00",
          "2004-08-01T00:00:00",
          "2004-09-01T00:00:00",
          "2004-10-01T00:00:00",
          "2004-11-01T00:00:00",
          "2004-12-01T00:00:00",
          "2005-01-01T00:00:00",
          "2005-02-01T00:00:00",
          "2005-03-01T00:00:00",
          "2005-04-01T00:00:00",
          "2005-05-01T00:00:00",
          "2005-06-01T00:00:00",
          "2005-07-01T00:00:00",
          "2005-08-01T00:00:00",
          "2005-09-01T00:00:00",
          "2005-10-01T00:00:00",
          "2005-11-01T00:00:00",
          "2005-12-01T00:00:00",
          "2006-01-01T00:00:00",
          "2006-02-01T00:00:00",
          "2006-03-01T00:00:00",
          "2006-04-01T00:00:00",
          "2006-05-01T00:00:00",
          "2006-06-01T00:00:00",
          "2006-07-01T00:00:00",
          "2006-08-01T00:00:00",
          "2006-09-01T00:00:00",
          "2006-10-01T00:00:00",
          "2006-11-01T00:00:00",
          "2006-12-01T00:00:00",
          "2007-01-01T00:00:00",
          "2007-02-01T00:00:00",
          "2007-03-01T00:00:00",
          "2007-04-01T00:00:00",
          "2007-05-01T00:00:00",
          "2007-06-01T00:00:00",
          "2007-07-01T00:00:00",
          "2007-08-01T00:00:00",
          "2007-09-01T00:00:00",
          "2007-10-01T00:00:00",
          "2007-11-01T00:00:00",
          "2007-12-01T00:00:00",
          "2008-01-01T00:00:00",
          "2008-02-01T00:00:00",
          "2008-03-01T00:00:00",
          "2008-04-01T00:00:00",
          "2008-05-01T00:00:00",
          "2008-06-01T00:00:00",
          "2008-07-01T00:00:00",
          "2008-08-01T00:00:00",
          "2008-09-01T00:00:00",
          "2008-10-01T00:00:00",
          "2008-11-01T00:00:00",
          "2008-12-01T00:00:00",
          "2009-01-01T00:00:00",
          "2009-02-01T00:00:00",
          "2009-03-01T00:00:00",
          "2009-04-01T00:00:00",
          "2009-05-01T00:00:00",
          "2009-06-01T00:00:00",
          "2009-07-01T00:00:00",
          "2009-08-01T00:00:00",
          "2009-09-01T00:00:00",
          "2009-10-01T00:00:00",
          "2009-11-01T00:00:00",
          "2009-12-01T00:00:00",
          "2010-01-01T00:00:00",
          "2010-02-01T00:00:00",
          "2010-03-01T00:00:00",
          "2010-04-01T00:00:00",
          "2010-05-01T00:00:00",
          "2010-06-01T00:00:00",
          "2010-07-01T00:00:00",
          "2010-08-01T00:00:00",
          "2010-09-01T00:00:00",
          "2010-10-01T00:00:00",
          "2010-11-01T00:00:00",
          "2010-12-01T00:00:00",
          "2011-03-01T00:00:00",
          "2011-04-01T00:00:00",
          "2011-05-01T00:00:00",
          "2011-06-01T00:00:00",
          "2011-07-01T00:00:00",
          "2011-08-01T00:00:00",
          "2011-09-01T00:00:00",
          "2011-10-01T00:00:00",
          "2011-11-01T00:00:00",
          "2011-12-01T00:00:00",
          "2012-01-01T00:00:00",
          "2012-02-01T00:00:00",
          "2012-03-01T00:00:00",
          "2012-04-01T00:00:00",
          "2012-05-01T00:00:00",
          "2012-06-01T00:00:00",
          "2012-07-01T00:00:00",
          "2012-08-01T00:00:00",
          "2012-09-01T00:00:00",
          "2012-10-01T00:00:00",
          "2012-11-01T00:00:00",
          "2012-12-01T00:00:00",
          "2013-01-01T00:00:00",
          "2013-02-01T00:00:00",
          "2013-03-01T00:00:00",
          "2013-04-01T00:00:00",
          "2013-05-01T00:00:00",
          "2013-06-01T00:00:00",
          "2013-07-01T00:00:00",
          "2013-08-01T00:00:00",
          "2013-09-01T00:00:00",
          "2013-10-01T00:00:00",
          "2013-11-01T00:00:00",
          "2013-12-01T00:00:00",
          "2014-01-01T00:00:00",
          "2014-02-01T00:00:00",
          "2014-03-01T00:00:00",
          "2014-04-01T00:00:00",
          "2014-05-01T00:00:00",
          "2014-06-01T00:00:00",
          "2014-07-01T00:00:00",
          "2014-08-01T00:00:00",
          "2014-09-01T00:00:00",
          "2014-10-01T00:00:00",
          "2014-11-01T00:00:00",
          "2014-12-01T00:00:00",
          "2015-01-01T00:00:00",
          "2015-02-01T00:00:00",
          "2015-03-01T00:00:00",
          "2015-04-01T00:00:00",
          "2015-05-01T00:00:00",
          "2015-06-01T00:00:00",
          "2015-07-01T00:00:00",
          "2015-08-01T00:00:00",
          "2015-09-01T00:00:00",
          "2015-10-01T00:00:00",
          "2015-11-01T00:00:00",
          "2015-12-01T00:00:00",
          "2016-01-01T00:00:00",
          "2016-02-01T00:00:00",
          "2016-03-01T00:00:00",
          "2016-04-01T00:00:00",
          "2016-05-01T00:00:00",
          "2016-06-01T00:00:00",
          "2016-07-01T00:00:00",
          "2016-08-01T00:00:00",
          "2016-09-01T00:00:00",
          "2016-10-01T00:00:00",
          "2016-11-01T00:00:00",
          "2016-12-01T00:00:00",
          "2017-01-01T00:00:00",
          "2017-02-01T00:00:00",
          "2017-03-01T00:00:00",
          "2017-04-01T00:00:00",
          "2017-05-01T00:00:00",
          "2017-06-01T00:00:00",
          "2017-07-01T00:00:00",
          "2017-08-01T00:00:00",
          "2017-09-01T00:00:00",
          "2017-10-01T00:00:00",
          "2017-11-01T00:00:00",
          "2017-12-01T00:00:00",
          "2018-01-01T00:00:00",
          "2018-02-01T00:00:00",
          "2018-03-01T00:00:00",
          "2018-04-01T00:00:00",
          "2018-05-01T00:00:00",
          "2018-06-01T00:00:00",
          "2018-07-01T00:00:00",
          "2018-08-01T00:00:00",
          "2018-09-01T00:00:00",
          "2018-10-01T00:00:00",
          "2018-11-01T00:00:00",
          "2018-12-01T00:00:00",
          "2019-01-01T00:00:00",
          "2019-02-01T00:00:00",
          "2019-03-01T00:00:00",
          "2019-04-01T00:00:00",
          "2019-05-01T00:00:00",
          "2019-06-01T00:00:00",
          "2019-07-01T00:00:00",
          "2019-08-01T00:00:00",
          "2019-09-01T00:00:00",
          "2019-10-01T00:00:00",
          "2019-11-01T00:00:00",
          "2019-12-01T00:00:00",
          "2020-01-01T00:00:00",
          "2020-02-01T00:00:00",
          "2020-03-01T00:00:00",
          "2020-04-01T00:00:00",
          "2020-05-01T00:00:00",
          "2020-06-01T00:00:00",
          "2020-07-01T00:00:00",
          "2020-08-01T00:00:00",
          "2020-09-01T00:00:00",
          "2020-10-01T00:00:00",
          "2020-11-01T00:00:00",
          "2020-12-01T00:00:00",
          "2021-01-01T00:00:00",
          "2021-02-01T00:00:00",
          "2021-03-01T00:00:00",
          "2021-04-01T00:00:00",
          "2021-05-01T00:00:00",
          "2021-06-01T00:00:00",
          "2021-07-01T00:00:00",
          "2021-08-01T00:00:00",
          "2021-09-01T00:00:00",
          "2021-10-01T00:00:00",
          "2021-11-01T00:00:00",
          "2021-12-01T00:00:00",
          "2022-01-01T00:00:00",
          "2022-02-01T00:00:00",
          "2022-03-01T00:00:00",
          "2022-04-01T00:00:00",
          "2022-05-01T00:00:00",
          "2022-06-01T00:00:00",
          "2022-07-01T00:00:00",
          "2022-08-01T00:00:00",
          "2022-09-01T00:00:00",
          "2022-10-01T00:00:00",
          "2022-11-01T00:00:00",
          "2022-12-01T00:00:00",
          "2022-12-31T00:00:00",
          "2023-01-31T00:00:00",
          "2023-02-28T00:00:00",
          "2023-03-31T00:00:00",
          "2023-04-30T00:00:00",
          "2023-05-31T00:00:00",
          "2023-06-30T00:00:00",
          "2023-07-31T00:00:00",
          "2023-08-31T00:00:00",
          "2023-09-30T00:00:00",
          "2023-10-31T00:00:00",
          "2023-11-30T00:00:00",
          "2023-12-31T00:00:00",
          "2024-01-31T00:00:00",
          "2024-02-29T00:00:00",
          "2024-03-31T00:00:00",
          "2024-04-30T00:00:00",
          "2024-05-31T00:00:00",
          "2024-06-30T00:00:00",
          "2024-07-31T00:00:00",
          "2024-08-31T00:00:00",
          "2024-09-30T00:00:00",
          "2024-10-31T00:00:00",
          "2024-11-30T00:00:00",
          "2024-12-31T00:00:00",
          "2025-01-31T00:00:00",
          "2025-02-28T00:00:00",
          "2025-03-31T00:00:00",
          "2025-04-30T00:00:00",
          "2025-05-31T00:00:00",
          "2025-06-30T00:00:00",
          "2025-07-31T00:00:00",
          "2025-08-31T00:00:00",
          "2025-09-30T00:00:00",
          "2025-10-31T00:00:00",
          "2025-11-30T00:00:00"
         ],
         "y": [
          32419.60480046073,
          135559.26964626246,
          122443.4963440498,
          115155.58315221232,
          103727.2580783707,
          113846.3594931845,
          121654.01786119155,
          101335.44506635804,
          114311.77152308529,
          116816.87566923749,
          112369.27883406323,
          102669.68008568606,
          3798.6391739849914,
          112825.45222930533,
          97600.48224610399,
          84833.5608181745,
          69741.0654973663,
          83719.51171984781,
          80954.96628994521,
          74518.46636857357,
          85684.16897881849,
          90904.0329706525,
          123475.12838331345,
          76574.01519685026,
          -11743.445607531057,
          76222.81285404832,
          88636.03856313454,
          74216.24385846904,
          45426.08761058829,
          66886.92353336344,
          87076.59681696598,
          58383.898639802894,
          57542.131591600446,
          77242.97845832013,
          66818.48509182384,
          57943.101906777,
          -27908.82469129247,
          66455.1677960151,
          75944.63831727854,
          57206.68200639114,
          51585.887851215804,
          55759.86262433192,
          29405.66541336386,
          42410.24909369759,
          62214.14641965946,
          32740.687438233752,
          36714.917407319525,
          36032.46460930008,
          -41369.55441714788,
          46712.85209657772,
          41376.79554430618,
          33825.94889761307,
          31527.603641897284,
          35385.07870133513,
          29191.78293245199,
          10823.17266181807,
          16971.695142610057,
          11000.450008598593,
          21535.513648301145,
          43065.67114649323,
          -102566.19915390339,
          24981.480853057346,
          16675.03796578986,
          -897.4322548716251,
          17074.349596693457,
          -4597.856857613533,
          -10655.251488666254,
          251.42549710048388,
          4647.704606844955,
          -15412.585660755884,
          21377.123452001382,
          6244.265270255765,
          -82794.6368401371,
          -5526.495609215779,
          -11829.451025731902,
          -7100.179885500082,
          -37321.47247243887,
          -36195.66509328236,
          -14350.812289617174,
          -16138.361012689507,
          -29593.17617302003,
          -10064.99575160238,
          -19352.28317664661,
          -3872.461472906821,
          -124557.1839224722,
          -1458.400308293788,
          -25538.03209614726,
          -22984.655927032418,
          -42200.61923667266,
          -40678.884524811925,
          -38653.31863879399,
          -43994.99661280631,
          -35676.11096916843,
          -50684.522460585205,
          -48877.80840347504,
          -39146.74704335655,
          -126957.33105454153,
          -31627.19988625315,
          -54331.01297232797,
          -48840.89401340072,
          -66263.16178398172,
          -67289.51444864337,
          -80692.80385548205,
          -66493.01081877202,
          -74723.66564900905,
          -66626.32516571812,
          -66801.28622413766,
          -54739.73035855721,
          -163530.1999128954,
          -75987.54755558836,
          -49331.74374996823,
          -62540.04179845984,
          -79445.29530041988,
          -82892.0643149394,
          -100506.11815371059,
          -91962.88579851126,
          -94435.37522417627,
          -142250.805243478,
          -83182.19435060995,
          -88011.42318714473,
          -200259.28687541824,
          -77888.60355023023,
          -94873.5003418186,
          -124754.84876737307,
          -89140.94450047352,
          -86242.71719190387,
          -103589.71187941691,
          -102733.50251032191,
          -95499.24858675717,
          -122639.27270169638,
          -117848.8840398713,
          -103311.07834432127,
          -115723.36589532839,
          -101006.45696854658,
          -111996.60458344115,
          -116499.60527277408,
          -122836.01875392087,
          -117845.00070895923,
          -119149.26385422079,
          -97778.65673666874,
          -108948.22595054827,
          -104847.8425618835,
          -219320.37631139468,
          -86813.7379180609,
          -152491.0332940969,
          -113210.61932192162,
          -122336.29784537086,
          -118445.07928570999,
          -144787.09775863064,
          -122471.2517291855,
          -117933.68933886303,
          -118199.51283907193,
          -116148.8727392176,
          -103786.60427296725,
          -236665.43867406424,
          -112883.15305697973,
          -121018.97486983844,
          -135063.72886315023,
          -132659.1787562817,
          -124776.67357386454,
          -122382.98103820819,
          -102707.72397421829,
          -127008.47749537473,
          -127525.1640200631,
          -113770.23197259374,
          -102292.95489921264,
          -210170.14823407392,
          -83760.86664030059,
          -96961.29931896899,
          -110268.39751581447,
          -107850.33461252198,
          -130082.94004882344,
          -106046.1611441257,
          -109084.77758147853,
          -86901.49519712442,
          -89183.31094372064,
          -74350.02056332023,
          -103131.23867192588,
          -158450.5468640157,
          -96831.64587085685,
          -71155.56259127961,
          -64159.15742246245,
          -90583.86292419117,
          -88074.9181685214,
          -93731.45959985019,
          -71725.56237132297,
          -53568.37760817421,
          -93287.10680374247,
          -32037.28248526375,
          -42422.71585015003,
          -139307.68902434414,
          -55779.71708287147,
          -33997.93430058052,
          -55787.523717673765,
          -37787.20803880208,
          -37529.824363097025,
          -11863.39910675431,
          -15519.047372173543,
          -23016.905726093806,
          -28771.138389462976,
          -14604.167097587495,
          680.6038504399387,
          -117354.30763473142,
          531.5300117216949,
          -12333.87651272715,
          4405.619987970831,
          12704.84796151885,
          6887.984334669337,
          6184.307942201455,
          12066.206486831892,
          25950.55272750452,
          24044.366978424856,
          65958.99016459553,
          38481.05653766359,
          -71949.29872528311,
          52245.238010955036,
          62334.54959513311,
          39751.138439455935,
          45636.66520536698,
          31294.53976254678,
          55244.02180055666,
          56683.20551783389,
          71677.11662929557,
          88838.06086729982,
          65818.18974378536,
          92151.65895836182,
          -30558.46563643537,
          115808.34490880478,
          113802.22329759583,
          77761.70499506425,
          78375.14275409676,
          100620.53896469125,
          112358.4442644194,
          121329.07934224371,
          108304.69885194016,
          131170.32359483538,
          132232.83622407026,
          139590.57144759982,
          51369.51774168527,
          154088.4461591527,
          115451.81450943531,
          155202.7314135512,
          125414.51829886602,
          147326.15399053838,
          158273.75731532683,
          168192.15017521294,
          183699.74222402272,
          177265.35830693558,
          193743.0477230045,
          209395.6353045106,
          91814.64420662531,
          177269.04004909217,
          194891.81436927215,
          176992.2209590127,
          184543.5189468158,
          188182.62224811656,
          193950.57420903273,
          191113.1388704512,
          200973.643474894,
          219612.6684455458,
          235930.65206940722,
          231472.43254973218,
          132139.66428483094,
          227502.52628461047,
          242092.44469347916,
          244651.93779846822,
          255207.0091495915,
          251050.92890620313,
          243192.43660350787,
          240413.11703061956,
          237441.5013389382,
          244128.54109002172,
          285488.61630345555,
          256754.34937429932,
          175996.48267431947,
          305840.83711618854,
          279467.6590105109,
          291118.1103330323,
          275163.5262426614,
          274173.8230324301,
          287164.2815793819,
          305337.95064279926,
          288543.22841474187,
          318711.84657023055,
          317575.19820866716,
          311446.02206022665,
          231920.9155213707,
          333221.24878516677,
          345499.83364087483,
          332810.93803246133,
          326730.3791893514,
          336061.09593059757,
          334415.20780663454,
          356242.21350044827,
          330403.3476232073,
          358979.84777668765,
          354873.9481760078,
          364184.59670537076,
          283388.9092449529,
          385985.4045716407,
          379381.5681254921,
          381169.7019075714,
          366257.6924618323,
          401665.344585981,
          399270.72079215583,
          417010.75097533606,
          389204.3285000626,
          415899.6533911192,
          388334.9097234934,
          412736.8452282615
         ]
        },
        {
         "fill": "tonexty",
         "fillcolor": "rgba(0, 114, 178, 0.2)",
         "line": {
          "color": "#0072B2",
          "width": 2
         },
         "mode": "lines",
         "name": "Predicted",
         "type": "scatter",
         "x": [
          "2000-01-01T00:00:00",
          "2000-02-01T00:00:00",
          "2000-03-01T00:00:00",
          "2000-04-01T00:00:00",
          "2000-05-01T00:00:00",
          "2000-06-01T00:00:00",
          "2000-07-01T00:00:00",
          "2000-08-01T00:00:00",
          "2000-09-01T00:00:00",
          "2000-10-01T00:00:00",
          "2000-11-01T00:00:00",
          "2000-12-01T00:00:00",
          "2001-01-01T00:00:00",
          "2001-02-01T00:00:00",
          "2001-03-01T00:00:00",
          "2001-04-01T00:00:00",
          "2001-05-01T00:00:00",
          "2001-06-01T00:00:00",
          "2001-07-01T00:00:00",
          "2001-08-01T00:00:00",
          "2001-09-01T00:00:00",
          "2001-10-01T00:00:00",
          "2001-11-01T00:00:00",
          "2001-12-01T00:00:00",
          "2002-01-01T00:00:00",
          "2002-02-01T00:00:00",
          "2002-03-01T00:00:00",
          "2002-04-01T00:00:00",
          "2002-05-01T00:00:00",
          "2002-06-01T00:00:00",
          "2002-07-01T00:00:00",
          "2002-08-01T00:00:00",
          "2002-09-01T00:00:00",
          "2002-10-01T00:00:00",
          "2002-11-01T00:00:00",
          "2002-12-01T00:00:00",
          "2003-01-01T00:00:00",
          "2003-02-01T00:00:00",
          "2003-03-01T00:00:00",
          "2003-04-01T00:00:00",
          "2003-05-01T00:00:00",
          "2003-06-01T00:00:00",
          "2003-07-01T00:00:00",
          "2003-08-01T00:00:00",
          "2003-09-01T00:00:00",
          "2003-10-01T00:00:00",
          "2003-11-01T00:00:00",
          "2003-12-01T00:00:00",
          "2004-01-01T00:00:00",
          "2004-02-01T00:00:00",
          "2004-03-01T00:00:00",
          "2004-04-01T00:00:00",
          "2004-05-01T00:00:00",
          "2004-06-01T00:00:00",
          "2004-07-01T00:00:00",
          "2004-08-01T00:00:00",
          "2004-09-01T00:00:00",
          "2004-10-01T00:00:00",
          "2004-11-01T00:00:00",
          "2004-12-01T00:00:00",
          "2005-01-01T00:00:00",
          "2005-02-01T00:00:00",
          "2005-03-01T00:00:00",
          "2005-04-01T00:00:00",
          "2005-05-01T00:00:00",
          "2005-06-01T00:00:00",
          "2005-07-01T00:00:00",
          "2005-08-01T00:00:00",
          "2005-09-01T00:00:00",
          "2005-10-01T00:00:00",
          "2005-11-01T00:00:00",
          "2005-12-01T00:00:00",
          "2006-01-01T00:00:00",
          "2006-02-01T00:00:00",
          "2006-03-01T00:00:00",
          "2006-04-01T00:00:00",
          "2006-05-01T00:00:00",
          "2006-06-01T00:00:00",
          "2006-07-01T00:00:00",
          "2006-08-01T00:00:00",
          "2006-09-01T00:00:00",
          "2006-10-01T00:00:00",
          "2006-11-01T00:00:00",
          "2006-12-01T00:00:00",
          "2007-01-01T00:00:00",
          "2007-02-01T00:00:00",
          "2007-03-01T00:00:00",
          "2007-04-01T00:00:00",
          "2007-05-01T00:00:00",
          "2007-06-01T00:00:00",
          "2007-07-01T00:00:00",
          "2007-08-01T00:00:00",
          "2007-09-01T00:00:00",
          "2007-10-01T00:00:00",
          "2007-11-01T00:00:00",
          "2007-12-01T00:00:00",
          "2008-01-01T00:00:00",
          "2008-02-01T00:00:00",
          "2008-03-01T00:00:00",
          "2008-04-01T00:00:00",
          "2008-05-01T00:00:00",
          "2008-06-01T00:00:00",
          "2008-07-01T00:00:00",
          "2008-08-01T00:00:00",
          "2008-09-01T00:00:00",
          "2008-10-01T00:00:00",
          "2008-11-01T00:00:00",
          "2008-12-01T00:00:00",
          "2009-01-01T00:00:00",
          "2009-02-01T00:00:00",
          "2009-03-01T00:00:00",
          "2009-04-01T00:00:00",
          "2009-05-01T00:00:00",
          "2009-06-01T00:00:00",
          "2009-07-01T00:00:00",
          "2009-08-01T00:00:00",
          "2009-09-01T00:00:00",
          "2009-10-01T00:00:00",
          "2009-11-01T00:00:00",
          "2009-12-01T00:00:00",
          "2010-01-01T00:00:00",
          "2010-02-01T00:00:00",
          "2010-03-01T00:00:00",
          "2010-04-01T00:00:00",
          "2010-05-01T00:00:00",
          "2010-06-01T00:00:00",
          "2010-07-01T00:00:00",
          "2010-08-01T00:00:00",
          "2010-09-01T00:00:00",
          "2010-10-01T00:00:00",
          "2010-11-01T00:00:00",
          "2010-12-01T00:00:00",
          "2011-03-01T00:00:00",
          "2011-04-01T00:00:00",
          "2011-05-01T00:00:00",
          "2011-06-01T00:00:00",
          "2011-07-01T00:00:00",
          "2011-08-01T00:00:00",
          "2011-09-01T00:00:00",
          "2011-10-01T00:00:00",
          "2011-11-01T00:00:00",
          "2011-12-01T00:00:00",
          "2012-01-01T00:00:00",
          "2012-02-01T00:00:00",
          "2012-03-01T00:00:00",
          "2012-04-01T00:00:00",
          "2012-05-01T00:00:00",
          "2012-06-01T00:00:00",
          "2012-07-01T00:00:00",
          "2012-08-01T00:00:00",
          "2012-09-01T00:00:00",
          "2012-10-01T00:00:00",
          "2012-11-01T00:00:00",
          "2012-12-01T00:00:00",
          "2013-01-01T00:00:00",
          "2013-02-01T00:00:00",
          "2013-03-01T00:00:00",
          "2013-04-01T00:00:00",
          "2013-05-01T00:00:00",
          "2013-06-01T00:00:00",
          "2013-07-01T00:00:00",
          "2013-08-01T00:00:00",
          "2013-09-01T00:00:00",
          "2013-10-01T00:00:00",
          "2013-11-01T00:00:00",
          "2013-12-01T00:00:00",
          "2014-01-01T00:00:00",
          "2014-02-01T00:00:00",
          "2014-03-01T00:00:00",
          "2014-04-01T00:00:00",
          "2014-05-01T00:00:00",
          "2014-06-01T00:00:00",
          "2014-07-01T00:00:00",
          "2014-08-01T00:00:00",
          "2014-09-01T00:00:00",
          "2014-10-01T00:00:00",
          "2014-11-01T00:00:00",
          "2014-12-01T00:00:00",
          "2015-01-01T00:00:00",
          "2015-02-01T00:00:00",
          "2015-03-01T00:00:00",
          "2015-04-01T00:00:00",
          "2015-05-01T00:00:00",
          "2015-06-01T00:00:00",
          "2015-07-01T00:00:00",
          "2015-08-01T00:00:00",
          "2015-09-01T00:00:00",
          "2015-10-01T00:00:00",
          "2015-11-01T00:00:00",
          "2015-12-01T00:00:00",
          "2016-01-01T00:00:00",
          "2016-02-01T00:00:00",
          "2016-03-01T00:00:00",
          "2016-04-01T00:00:00",
          "2016-05-01T00:00:00",
          "2016-06-01T00:00:00",
          "2016-07-01T00:00:00",
          "2016-08-01T00:00:00",
          "2016-09-01T00:00:00",
          "2016-10-01T00:00:00",
          "2016-11-01T00:00:00",
          "2016-12-01T00:00:00",
          "2017-01-01T00:00:00",
          "2017-02-01T00:00:00",
          "2017-03-01T00:00:00",
          "2017-04-01T00:00:00",
          "2017-05-01T00:00:00",
          "2017-06-01T00:00:00",
          "2017-07-01T00:00:00",
          "2017-08-01T00:00:00",
          "2017-09-01T00:00:00",
          "2017-10-01T00:00:00",
          "2017-11-01T00:00:00",
          "2017-12-01T00:00:00",
          "2018-01-01T00:00:00",
          "2018-02-01T00:00:00",
          "2018-03-01T00:00:00",
          "2018-04-01T00:00:00",
          "2018-05-01T00:00:00",
          "2018-06-01T00:00:00",
          "2018-07-01T00:00:00",
          "2018-08-01T00:00:00",
          "2018-09-01T00:00:00",
          "2018-10-01T00:00:00",
          "2018-11-01T00:00:00",
          "2018-12-01T00:00:00",
          "2019-01-01T00:00:00",
          "2019-02-01T00:00:00",
          "2019-03-01T00:00:00",
          "2019-04-01T00:00:00",
          "2019-05-01T00:00:00",
          "2019-06-01T00:00:00",
          "2019-07-01T00:00:00",
          "2019-08-01T00:00:00",
          "2019-09-01T00:00:00",
          "2019-10-01T00:00:00",
          "2019-11-01T00:00:00",
          "2019-12-01T00:00:00",
          "2020-01-01T00:00:00",
          "2020-02-01T00:00:00",
          "2020-03-01T00:00:00",
          "2020-04-01T00:00:00",
          "2020-05-01T00:00:00",
          "2020-06-01T00:00:00",
          "2020-07-01T00:00:00",
          "2020-08-01T00:00:00",
          "2020-09-01T00:00:00",
          "2020-10-01T00:00:00",
          "2020-11-01T00:00:00",
          "2020-12-01T00:00:00",
          "2021-01-01T00:00:00",
          "2021-02-01T00:00:00",
          "2021-03-01T00:00:00",
          "2021-04-01T00:00:00",
          "2021-05-01T00:00:00",
          "2021-06-01T00:00:00",
          "2021-07-01T00:00:00",
          "2021-08-01T00:00:00",
          "2021-09-01T00:00:00",
          "2021-10-01T00:00:00",
          "2021-11-01T00:00:00",
          "2021-12-01T00:00:00",
          "2022-01-01T00:00:00",
          "2022-02-01T00:00:00",
          "2022-03-01T00:00:00",
          "2022-04-01T00:00:00",
          "2022-05-01T00:00:00",
          "2022-06-01T00:00:00",
          "2022-07-01T00:00:00",
          "2022-08-01T00:00:00",
          "2022-09-01T00:00:00",
          "2022-10-01T00:00:00",
          "2022-11-01T00:00:00",
          "2022-12-01T00:00:00",
          "2022-12-31T00:00:00",
          "2023-01-31T00:00:00",
          "2023-02-28T00:00:00",
          "2023-03-31T00:00:00",
          "2023-04-30T00:00:00",
          "2023-05-31T00:00:00",
          "2023-06-30T00:00:00",
          "2023-07-31T00:00:00",
          "2023-08-31T00:00:00",
          "2023-09-30T00:00:00",
          "2023-10-31T00:00:00",
          "2023-11-30T00:00:00",
          "2023-12-31T00:00:00",
          "2024-01-31T00:00:00",
          "2024-02-29T00:00:00",
          "2024-03-31T00:00:00",
          "2024-04-30T00:00:00",
          "2024-05-31T00:00:00",
          "2024-06-30T00:00:00",
          "2024-07-31T00:00:00",
          "2024-08-31T00:00:00",
          "2024-09-30T00:00:00",
          "2024-10-31T00:00:00",
          "2024-11-30T00:00:00",
          "2024-12-31T00:00:00",
          "2025-01-31T00:00:00",
          "2025-02-28T00:00:00",
          "2025-03-31T00:00:00",
          "2025-04-30T00:00:00",
          "2025-05-31T00:00:00",
          "2025-06-30T00:00:00",
          "2025-07-31T00:00:00",
          "2025-08-31T00:00:00",
          "2025-09-30T00:00:00",
          "2025-10-31T00:00:00",
          "2025-11-30T00:00:00"
         ],
         "y": [
          293359.0732257187,
          396490.5392589609,
          390233.757046192,
          383110.5611804596,
          376420.69032718916,
          372293.80533953896,
          370108.6618973833,
          369912.72075057024,
          371052.32996046357,
          373847.8670759151,
          375701.144137338,
          375075.2543446825,
          270914.0861906911,
          372587.48291472497,
          368194.15697836893,
          360942.4392553964,
          354270.23264283914,
          350253.9706439785,
          348240.71489943383,
          348157.6534421759,
          349350.4507828279,
          352064.79703207465,
          353705.3252016712,
          352462.7447786346,
          249074.44070895534,
          351310.5648058848,
          346136.4245273924,
          338767.00286436436,
          332122.87006835383,
          328222.0504777711,
          326381.24498453405,
          326407.24516871036,
          327646.65671018994,
          330270.58684346685,
          331692.3882477039,
          329842.07549251197,
          227297.3656509206,
          330019.93175687676,
          324060.67608866305,
          316584.71760112076,
          309979.0529279723,
          306198.26317360916,
          304530.11222363694,
          304661.12972006673,
          305940.4978082592,
          308465.0122261982,
          309662.6256565879,
          307214.6790239023,
          205582.67626219837,
          308714.14226388343,
          302457.36002158513,
          295334.1641242978,
          288644.2932404821,
          284517.4083013338,
          282332.2649061194,
          282136.32380781695,
          283275.9330662093,
          286071.4702286005,
          287924.7473990647,
          287298.85771193326,
          183137.68966697884,
          284811.0865000523,
          280417.76099549845,
          273166.043750593,
          266493.8376006771,
          262477.57607988146,
          260464.32079473895,
          260381.259812198,
          261574.057627561,
          264288.40433620877,
          265928.93298052566,
          264686.3530988145,
          161298.0495885003,
          263534.1742447997,
          258360.03447154438,
          250990.61336118905,
          244346.48110003027,
          240445.6620621334,
          238604.85710374702,
          238630.92537704564,
          239870.40500765247,
          242494.4010336359,
          243916.27052700016,
          242066.02366450077,
          139521.3818779916,
          242244.0160390203,
          236284.82183991146,
          228808.93140744424,
          222203.34373004962,
          218422.63353795614,
          216754.55958373134,
          216885.65664242877,
          218165.10429289873,
          220689.69572121478,
          221887.38872899002,
          219439.51910667165,
          117807.59592236171,
          220939.14151493163,
          214682.4337286216,
          207559.317422215,
          200869.52356184108,
          196742.71813351734,
          194557.65168425633,
          194361.79009676893,
          195501.47886598375,
          198297.09297432975,
          200239.83242674673,
          199700.51914151048,
          95628.81337851188,
          197391.6724935384,
          193079.15129743612,
          185916.89596545856,
          179331.26586031527,
          175404.46625245543,
          173517.7118919743,
          173565.3685315901,
          174888.8839691072,
          177729.73160241783,
          179500.97786888204,
          178384.8988299187,
          75127.31285710601,
          177494.1550509045,
          172438.0827308736,
          165422.4888167255,
          159120.7699712429,
          155573.77812953462,
          154075.38658682894,
          154455.21451988304,
          156048.45381023904,
          159014.7978940426,
          160790.42704716095,
          159282.52824248746,
          155760.39776753902,
          149062.63191106037,
          143210.05688087735,
          140207.45975757684,
          139292.39845057033,
          140201.60857806023,
          142259.16929732292,
          145536.7733728569,
          147512.57944942435,
          146425.5704830308,
          46199.86997649401,
          150737.63823334518,
          145796.4290684588,
          140079.53542634108,
          134750.60220882,
          132030.01944477585,
          131205.81363836717,
          133136.44188345302,
          136402.6204852375,
          141256.12797994202,
          145235.97449379662,
          146668.05513897215,
          44633.45643741144,
          148433.42261387274,
          145960.86908616454,
          140835.72081561523,
          136976.6908280993,
          135867.378008444,
          136667.29888569645,
          139491.1866042936,
          143590.93312080138,
          149118.4559918405,
          153665.93333729682,
          155236.52953605982,
          54755.17464223255,
          160694.0292976547,
          158864.29081392332,
          155197.59970269192,
          152136.75453745708,
          151938.66549867767,
          153681.14763621558,
          157409.87837219148,
          162352.0204654696,
          169301.1157162629,
          175192.25440860068,
          177667.10677092592,
          79591.73418338779,
          186783.63754340017,
          184861.20262077657,
          181854.5813872877,
          179574.08179870967,
          180262.629298398,
          183570.80890407908,
          188844.03464134605,
          195265.6109703845,
          202766.45595860446,
          209106.27764495296,
          211634.66158254116,
          115144.86707680038,
          223418.54133443997,
          221972.21197674854,
          220487.76200996092,
          219254.7420266321,
          220766.60293791952,
          224038.31036570508,
          229481.11511783904,
          236259.47022666634,
          244511.85821205794,
          252003.88123295677,
          256834.84236882054,
          158544.7634234903,
          266089.24935617915,
          266998.84270506643,
          265618.2141907532,
          264627.7068123851,
          266482.53402217955,
          270150.9775085832,
          275939.00525663444,
          283002.8917852342,
          291398.9372486216,
          298910.55460617365,
          303349.6733972772,
          205832.45851554346,
          313939.67180041794,
          314068.45078846044,
          312570.11830668995,
          311607.6847183484,
          313577.95443186903,
          317418.84826518066,
          323315.9377534543,
          330426.43859903316,
          338732.068058858,
          346024.95876719203,
          349856.3453385391,
          253182.72476700472,
          361776.3801430067,
          361120.0438154897,
          359515.17459799245,
          358591.2092184445,
          360681.5087341345,
          364695.05707775726,
          370697.1638442363,
          377847.6212024805,
          386053.8349286491,
          393122.5376441973,
          396356.29031973315,
          300595.37684320344,
          409597.9321300532,
          408833.4592190392,
          407581.352606912,
          406573.1810313252,
          408317.38529727765,
          411813.9411328064,
          417489.08923959715,
          424499.78770309564,
          432977.0240962312,
          440701.39047178475,
          445757.2000153914,
          347467.12117554154,
          455011.60721371404,
          455921.20065786823,
          454540.5722490356,
          453550.06497273373,
          455404.89228801435,
          459073.3358764884,
          464861.36373001983,
          471925.2503814579,
          480321.2959637172,
          487832.91344410565,
          492272.03235408594,
          394754.81759519794,
          502862.0310029134,
          502990.8101019064,
          501492.477742975,
          500530.04427351383,
          502500.31398702896,
          506341.20782033954,
          512238.29730860965,
          519348.7981541889,
          527654.4276140189,
          534947.3183223543,
          538778.7048937017,
          443204.6599275409,
          552957.3179865779,
          549149.8380200834,
          547236.7429931978,
          546569.5282003265,
          549180.8368124273,
          553879.8726813501,
          560257.3893164136,
          567499.9171138799,
          575223.594935666,
          581351.4945760735,
          582317.0931015217,
          490863.4927522265,
          600703.9584501468,
          597076.1324978302,
          595376.2222897471,
          594501.0823432172,
          596715.7569644629,
          600901.8051676899,
          607004.6671822,
          614188.3537637002,
          622286.3955986369,
          629125.9729503491,
          631773.2909585342,
          536992.5129972018,
          646325.2501658006,
          644092.1857063035,
          642309.0378244547,
          641493.0219803724,
          643836.165232838,
          648194.1997769845,
          654393.3463525012,
          661603.4794525903,
          669584.8538741218,
          676190.8984020761,
          678264.0410200544
         ]
        },
        {
         "fill": "tonexty",
         "fillcolor": "rgba(0, 114, 178, 0.2)",
         "hoverinfo": "skip",
         "line": {
          "width": 0
         },
         "mode": "lines",
         "type": "scatter",
         "x": [
          "2000-01-01T00:00:00",
          "2000-02-01T00:00:00",
          "2000-03-01T00:00:00",
          "2000-04-01T00:00:00",
          "2000-05-01T00:00:00",
          "2000-06-01T00:00:00",
          "2000-07-01T00:00:00",
          "2000-08-01T00:00:00",
          "2000-09-01T00:00:00",
          "2000-10-01T00:00:00",
          "2000-11-01T00:00:00",
          "2000-12-01T00:00:00",
          "2001-01-01T00:00:00",
          "2001-02-01T00:00:00",
          "2001-03-01T00:00:00",
          "2001-04-01T00:00:00",
          "2001-05-01T00:00:00",
          "2001-06-01T00:00:00",
          "2001-07-01T00:00:00",
          "2001-08-01T00:00:00",
          "2001-09-01T00:00:00",
          "2001-10-01T00:00:00",
          "2001-11-01T00:00:00",
          "2001-12-01T00:00:00",
          "2002-01-01T00:00:00",
          "2002-02-01T00:00:00",
          "2002-03-01T00:00:00",
          "2002-04-01T00:00:00",
          "2002-05-01T00:00:00",
          "2002-06-01T00:00:00",
          "2002-07-01T00:00:00",
          "2002-08-01T00:00:00",
          "2002-09-01T00:00:00",
          "2002-10-01T00:00:00",
          "2002-11-01T00:00:00",
          "2002-12-01T00:00:00",
          "2003-01-01T00:00:00",
          "2003-02-01T00:00:00",
          "2003-03-01T00:00:00",
          "2003-04-01T00:00:00",
          "2003-05-01T00:00:00",
          "2003-06-01T00:00:00",
          "2003-07-01T00:00:00",
          "2003-08-01T00:00:00",
          "2003-09-01T00:00:00",
          "2003-10-01T00:00:00",
          "2003-11-01T00:00:00",
          "2003-12-01T00:00:00",
          "2004-01-01T00:00:00",
          "2004-02-01T00:00:00",
          "2004-03-01T00:00:00",
          "2004-04-01T00:00:00",
          "2004-05-01T00:00:00",
          "2004-06-01T00:00:00",
          "2004-07-01T00:00:00",
          "2004-08-01T00:00:00",
          "2004-09-01T00:00:00",
          "2004-10-01T00:00:00",
          "2004-11-01T00:00:00",
          "2004-12-01T00:00:00",
          "2005-01-01T00:00:00",
          "2005-02-01T00:00:00",
          "2005-03-01T00:00:00",
          "2005-04-01T00:00:00",
          "2005-05-01T00:00:00",
          "2005-06-01T00:00:00",
          "2005-07-01T00:00:00",
          "2005-08-01T00:00:00",
          "2005-09-01T00:00:00",
          "2005-10-01T00:00:00",
          "2005-11-01T00:00:00",
          "2005-12-01T00:00:00",
          "2006-01-01T00:00:00",
          "2006-02-01T00:00:00",
          "2006-03-01T00:00:00",
          "2006-04-01T00:00:00",
          "2006-05-01T00:00:00",
          "2006-06-01T00:00:00",
          "2006-07-01T00:00:00",
          "2006-08-01T00:00:00",
          "2006-09-01T00:00:00",
          "2006-10-01T00:00:00",
          "2006-11-01T00:00:00",
          "2006-12-01T00:00:00",
          "2007-01-01T00:00:00",
          "2007-02-01T00:00:00",
          "2007-03-01T00:00:00",
          "2007-04-01T00:00:00",
          "2007-05-01T00:00:00",
          "2007-06-01T00:00:00",
          "2007-07-01T00:00:00",
          "2007-08-01T00:00:00",
          "2007-09-01T00:00:00",
          "2007-10-01T00:00:00",
          "2007-11-01T00:00:00",
          "2007-12-01T00:00:00",
          "2008-01-01T00:00:00",
          "2008-02-01T00:00:00",
          "2008-03-01T00:00:00",
          "2008-04-01T00:00:00",
          "2008-05-01T00:00:00",
          "2008-06-01T00:00:00",
          "2008-07-01T00:00:00",
          "2008-08-01T00:00:00",
          "2008-09-01T00:00:00",
          "2008-10-01T00:00:00",
          "2008-11-01T00:00:00",
          "2008-12-01T00:00:00",
          "2009-01-01T00:00:00",
          "2009-02-01T00:00:00",
          "2009-03-01T00:00:00",
          "2009-04-01T00:00:00",
          "2009-05-01T00:00:00",
          "2009-06-01T00:00:00",
          "2009-07-01T00:00:00",
          "2009-08-01T00:00:00",
          "2009-09-01T00:00:00",
          "2009-10-01T00:00:00",
          "2009-11-01T00:00:00",
          "2009-12-01T00:00:00",
          "2010-01-01T00:00:00",
          "2010-02-01T00:00:00",
          "2010-03-01T00:00:00",
          "2010-04-01T00:00:00",
          "2010-05-01T00:00:00",
          "2010-06-01T00:00:00",
          "2010-07-01T00:00:00",
          "2010-08-01T00:00:00",
          "2010-09-01T00:00:00",
          "2010-10-01T00:00:00",
          "2010-11-01T00:00:00",
          "2010-12-01T00:00:00",
          "2011-03-01T00:00:00",
          "2011-04-01T00:00:00",
          "2011-05-01T00:00:00",
          "2011-06-01T00:00:00",
          "2011-07-01T00:00:00",
          "2011-08-01T00:00:00",
          "2011-09-01T00:00:00",
          "2011-10-01T00:00:00",
          "2011-11-01T00:00:00",
          "2011-12-01T00:00:00",
          "2012-01-01T00:00:00",
          "2012-02-01T00:00:00",
          "2012-03-01T00:00:00",
          "2012-04-01T00:00:00",
          "2012-05-01T00:00:00",
          "2012-06-01T00:00:00",
          "2012-07-01T00:00:00",
          "2012-08-01T00:00:00",
          "2012-09-01T00:00:00",
          "2012-10-01T00:00:00",
          "2012-11-01T00:00:00",
          "2012-12-01T00:00:00",
          "2013-01-01T00:00:00",
          "2013-02-01T00:00:00",
          "2013-03-01T00:00:00",
          "2013-04-01T00:00:00",
          "2013-05-01T00:00:00",
          "2013-06-01T00:00:00",
          "2013-07-01T00:00:00",
          "2013-08-01T00:00:00",
          "2013-09-01T00:00:00",
          "2013-10-01T00:00:00",
          "2013-11-01T00:00:00",
          "2013-12-01T00:00:00",
          "2014-01-01T00:00:00",
          "2014-02-01T00:00:00",
          "2014-03-01T00:00:00",
          "2014-04-01T00:00:00",
          "2014-05-01T00:00:00",
          "2014-06-01T00:00:00",
          "2014-07-01T00:00:00",
          "2014-08-01T00:00:00",
          "2014-09-01T00:00:00",
          "2014-10-01T00:00:00",
          "2014-11-01T00:00:00",
          "2014-12-01T00:00:00",
          "2015-01-01T00:00:00",
          "2015-02-01T00:00:00",
          "2015-03-01T00:00:00",
          "2015-04-01T00:00:00",
          "2015-05-01T00:00:00",
          "2015-06-01T00:00:00",
          "2015-07-01T00:00:00",
          "2015-08-01T00:00:00",
          "2015-09-01T00:00:00",
          "2015-10-01T00:00:00",
          "2015-11-01T00:00:00",
          "2015-12-01T00:00:00",
          "2016-01-01T00:00:00",
          "2016-02-01T00:00:00",
          "2016-03-01T00:00:00",
          "2016-04-01T00:00:00",
          "2016-05-01T00:00:00",
          "2016-06-01T00:00:00",
          "2016-07-01T00:00:00",
          "2016-08-01T00:00:00",
          "2016-09-01T00:00:00",
          "2016-10-01T00:00:00",
          "2016-11-01T00:00:00",
          "2016-12-01T00:00:00",
          "2017-01-01T00:00:00",
          "2017-02-01T00:00:00",
          "2017-03-01T00:00:00",
          "2017-04-01T00:00:00",
          "2017-05-01T00:00:00",
          "2017-06-01T00:00:00",
          "2017-07-01T00:00:00",
          "2017-08-01T00:00:00",
          "2017-09-01T00:00:00",
          "2017-10-01T00:00:00",
          "2017-11-01T00:00:00",
          "2017-12-01T00:00:00",
          "2018-01-01T00:00:00",
          "2018-02-01T00:00:00",
          "2018-03-01T00:00:00",
          "2018-04-01T00:00:00",
          "2018-05-01T00:00:00",
          "2018-06-01T00:00:00",
          "2018-07-01T00:00:00",
          "2018-08-01T00:00:00",
          "2018-09-01T00:00:00",
          "2018-10-01T00:00:00",
          "2018-11-01T00:00:00",
          "2018-12-01T00:00:00",
          "2019-01-01T00:00:00",
          "2019-02-01T00:00:00",
          "2019-03-01T00:00:00",
          "2019-04-01T00:00:00",
          "2019-05-01T00:00:00",
          "2019-06-01T00:00:00",
          "2019-07-01T00:00:00",
          "2019-08-01T00:00:00",
          "2019-09-01T00:00:00",
          "2019-10-01T00:00:00",
          "2019-11-01T00:00:00",
          "2019-12-01T00:00:00",
          "2020-01-01T00:00:00",
          "2020-02-01T00:00:00",
          "2020-03-01T00:00:00",
          "2020-04-01T00:00:00",
          "2020-05-01T00:00:00",
          "2020-06-01T00:00:00",
          "2020-07-01T00:00:00",
          "2020-08-01T00:00:00",
          "2020-09-01T00:00:00",
          "2020-10-01T00:00:00",
          "2020-11-01T00:00:00",
          "2020-12-01T00:00:00",
          "2021-01-01T00:00:00",
          "2021-02-01T00:00:00",
          "2021-03-01T00:00:00",
          "2021-04-01T00:00:00",
          "2021-05-01T00:00:00",
          "2021-06-01T00:00:00",
          "2021-07-01T00:00:00",
          "2021-08-01T00:00:00",
          "2021-09-01T00:00:00",
          "2021-10-01T00:00:00",
          "2021-11-01T00:00:00",
          "2021-12-01T00:00:00",
          "2022-01-01T00:00:00",
          "2022-02-01T00:00:00",
          "2022-03-01T00:00:00",
          "2022-04-01T00:00:00",
          "2022-05-01T00:00:00",
          "2022-06-01T00:00:00",
          "2022-07-01T00:00:00",
          "2022-08-01T00:00:00",
          "2022-09-01T00:00:00",
          "2022-10-01T00:00:00",
          "2022-11-01T00:00:00",
          "2022-12-01T00:00:00",
          "2022-12-31T00:00:00",
          "2023-01-31T00:00:00",
          "2023-02-28T00:00:00",
          "2023-03-31T00:00:00",
          "2023-04-30T00:00:00",
          "2023-05-31T00:00:00",
          "2023-06-30T00:00:00",
          "2023-07-31T00:00:00",
          "2023-08-31T00:00:00",
          "2023-09-30T00:00:00",
          "2023-10-31T00:00:00",
          "2023-11-30T00:00:00",
          "2023-12-31T00:00:00",
          "2024-01-31T00:00:00",
          "2024-02-29T00:00:00",
          "2024-03-31T00:00:00",
          "2024-04-30T00:00:00",
          "2024-05-31T00:00:00",
          "2024-06-30T00:00:00",
          "2024-07-31T00:00:00",
          "2024-08-31T00:00:00",
          "2024-09-30T00:00:00",
          "2024-10-31T00:00:00",
          "2024-11-30T00:00:00",
          "2024-12-31T00:00:00",
          "2025-01-31T00:00:00",
          "2025-02-28T00:00:00",
          "2025-03-31T00:00:00",
          "2025-04-30T00:00:00",
          "2025-05-31T00:00:00",
          "2025-06-30T00:00:00",
          "2025-07-31T00:00:00",
          "2025-08-31T00:00:00",
          "2025-09-30T00:00:00",
          "2025-10-31T00:00:00",
          "2025-11-30T00:00:00"
         ],
         "y": [
          553460.6523952285,
          667009.7607082113,
          633503.6604848402,
          648019.5833000728,
          635125.7973016328,
          649442.5558820077,
          627517.7645424211,
          631870.7173936684,
          623428.7887697667,
          635925.2137741698,
          645480.0052870966,
          641421.1458113652,
          535509.1129162193,
          654046.6821031467,
          618673.9423750874,
          633825.1043916659,
          615217.9895598755,
          610703.1901510868,
          604851.4959493725,
          588760.3593198973,
          613922.0308236262,
          613289.3871024755,
          631899.6807772346,
          621549.0610018051,
          482081.4479744753,
          614016.2936577246,
          599367.53357742,
          593864.4711572658,
          616861.0194917967,
          599115.233386011,
          595423.2694191346,
          585040.9178997535,
          587929.1317010105,
          573671.5444494098,
          584056.9753064662,
          584274.1262477611,
          496360.1741298106,
          585173.8163916116,
          584498.8202229455,
          594545.7837618547,
          597027.2835647329,
          577558.6555015607,
          562130.5540069356,
          551440.7702977216,
          586401.3521169943,
          570782.6036570364,
          591069.4548599462,
          571660.4789591489,
          467205.3773652594,
          571828.2301026229,
          577582.8792558225,
          540321.837968022,
          541331.325637566,
          555441.1973563303,
          540897.3859285775,
          542116.0917797948,
          558350.091922186,
          547006.5274021637,
          547449.4667507901,
          562346.5864561347,
          468953.3733363931,
          547529.9400160114,
          535766.6052513857,
          541109.4775459066,
          522368.2491930791,
          526519.5640486284,
          519654.59353678627,
          531204.9569970776,
          515384.2448736754,
          513826.6918437124,
          543759.700085472,
          509623.9693542843,
          417164.6518730264,
          518262.65871804376,
          516844.3957464503,
          509265.95537092077,
          517973.35696818755,
          507572.2606143067,
          493090.31910396105,
          512921.3396540106,
          516339.43905551994,
          502497.3873006084,
          510133.347428113,
          511088.70356957824,
          405801.45981813676,
          507446.93235103815,
          508141.79427863314,
          470914.20600140915,
          479272.37297645,
          481991.1786737444,
          486968.0490852892,
          474966.0116515697,
          473690.9772209113,
          482331.5064755879,
          486117.5216719912,
          455655.46204307507,
          383894.3196430386,
          481189.04199032934,
          471408.324179215,
          486506.6218648456,
          464474.63613106625,
          455286.5754598088,
          459416.5226573493,
          477546.3657784873,
          450464.66824118275,
          458633.67163039924,
          445117.37273614085,
          451602.69281183445,
          362376.6952095635,
          458368.3571085009,
          458259.37241002417,
          463068.371500049,
          428437.85327017284,
          445280.2891711143,
          447230.3253189132,
          425972.2898538096,
          440927.3220328006,
          445316.7669582833,
          445677.0689934817,
          450081.48440238327,
          327693.8474546315,
          437919.784280755,
          426788.8653528838,
          431468.246535336,
          421999.25250149134,
          415621.6706565918,
          414268.08997613774,
          426830.80899346527,
          425805.6225170449,
          403971.9319905227,
          423443.9476124385,
          434592.36647118983,
          414176.6024710102,
          412070.42630873295,
          400806.3267366565,
          425716.95435625175,
          410317.13383856136,
          418019.7877806036,
          394833.79994381074,
          394824.57570865366,
          416281.15902693884,
          397126.9818476589,
          305336.01312417845,
          419821.6834517899,
          433038.464905241,
          407649.37083545944,
          390393.62483329745,
          422195.04294349713,
          391264.47463032795,
          410033.6185352257,
          388603.84889390826,
          397335.9474750547,
          391867.9252639645,
          426111.5579098069,
          329333.4962431049,
          402442.2247814033,
          416681.41602155316,
          395806.60035402863,
          387615.8748401309,
          389440.40588648943,
          397047.2216228691,
          379933.726419557,
          386054.57704480615,
          407998.04388435784,
          402366.6272811665,
          429529.4492073619,
          347999.97305692174,
          418290.9561720012,
          433915.61895771767,
          418236.77649680374,
          421285.4942789974,
          402148.7451204601,
          412246.7238855729,
          419007.9686722157,
          428999.2302220166,
          435110.01687990665,
          437185.81937763584,
          445845.51545203157,
          350197.81284718117,
          448462.8020553852,
          454476.48020031047,
          433597.6446861592,
          436137.25152646884,
          433542.9339044156,
          441924.3931576685,
          451556.82136908686,
          446640.6081867017,
          478709.1642112435,
          466958.4419989059,
          470740.09935337264,
          376180.6437493228,
          497922.97601257224,
          477358.19376833516,
          483533.1726024501,
          488720.3510607596,
          502162.9699870339,
          498675.59367604775,
          497568.27175379556,
          496784.9296032054,
          500270.1652493489,
          515929.1984992557,
          534656.431549101,
          436514.46383636846,
          513964.43959396693,
          516104.61177224544,
          520811.21774279897,
          537790.8393128614,
          544755.6138221965,
          547367.181915047,
          541293.0450926052,
          542033.2606137415,
          555185.95343555,
          564142.2219326557,
          549127.9728883681,
          458369.98402137356,
          563146.1446150977,
          571642.9414272346,
          615819.9985588465,
          576986.7418785474,
          582032.6747601177,
          581034.6558568111,
          590036.304853301,
          588840.2093474792,
          593410.9156798722,
          617626.660522919,
          627415.2610996336,
          513147.66515273874,
          615553.64099019,
          612138.0222822451,
          621299.7309403494,
          607852.6196549189,
          622939.6289657592,
          615312.5532041235,
          629145.9012475761,
          632244.3977548034,
          647911.1904290497,
          643126.1772030891,
          643564.8412662105,
          570057.5356281113,
          661530.6093391456,
          680717.2706721283,
          659409.4017704469,
          679532.7854995986,
          653931.1460087639,
          664922.8745800728,
          691951.2969685715,
          720692.4384851425,
          697506.1721461621,
          721003.7106074532,
          706848.6916525686,
          610763.8200877641,
          722333.3964783925,
          717925.8358603221,
          694598.2517792641,
          713174.5872000009,
          727187.7334005398,
          731170.8992058173,
          742680.6138146294,
          725145.5364027104,
          736667.4580068431,
          744504.706532168,
          743279.3412049051,
          652916.6869408543,
          762751.5878547502,
          774904.2882000158,
          758555.0952101501,
          758748.7603720888,
          767976.6498077166,
          773088.8729019803,
          775064.7699753509,
          772024.9688873902,
          780168.1453887922,
          823569.0923146144,
          793374.3920340287,
          706547.5416092833,
          819190.7212896186,
          815089.418938721,
          802395.2123799695,
          810127.3477323474,
          808833.0281316952,
          803861.6631734471,
          814644.5188518557,
          822717.5026770686,
          850222.0958889523,
          871001.5093799843,
          842191.1191234967,
          753016.2071917308,
          874057.6665717831,
          858320.4738357385,
          854642.6006973642,
          867984.6576287416,
          867600.797081033,
          856208.3991979158,
          887749.5761926215,
          896248.1190686054,
          870123.1134749798,
          889660.176121865,
          888345.928045964,
          793739.7921600196,
          908750.8644453734,
          898443.5409396467,
          907094.9592700589,
          897321.9375755244,
          927863.647295753,
          910189.4087524619,
          913574.2784390553,
          936470.8627656932,
          956335.2232217933,
          925292.2079775253,
          949196.5048522624
         ]
        }
       ],
       "layout": {
        "height": 600,
        "showlegend": false,
        "template": {
         "data": {
          "bar": [
           {
            "error_x": {
             "color": "#2a3f5f"
            },
            "error_y": {
             "color": "#2a3f5f"
            },
            "marker": {
             "line": {
              "color": "white",
              "width": 0.5
             },
             "pattern": {
              "fillmode": "overlay",
              "size": 10,
              "solidity": 0.2
             }
            },
            "type": "bar"
           }
          ],
          "barpolar": [
           {
            "marker": {
             "line": {
              "color": "white",
              "width": 0.5
             },
             "pattern": {
              "fillmode": "overlay",
              "size": 10,
              "solidity": 0.2
             }
            },
            "type": "barpolar"
           }
          ],
          "carpet": [
           {
            "aaxis": {
             "endlinecolor": "#2a3f5f",
             "gridcolor": "#C8D4E3",
             "linecolor": "#C8D4E3",
             "minorgridcolor": "#C8D4E3",
             "startlinecolor": "#2a3f5f"
            },
            "baxis": {
             "endlinecolor": "#2a3f5f",
             "gridcolor": "#C8D4E3",
             "linecolor": "#C8D4E3",
             "minorgridcolor": "#C8D4E3",
             "startlinecolor": "#2a3f5f"
            },
            "type": "carpet"
           }
          ],
          "choropleth": [
           {
            "colorbar": {
             "outlinewidth": 0,
             "ticks": ""
            },
            "type": "choropleth"
           }
          ],
          "contour": [
           {
            "colorbar": {
             "outlinewidth": 0,
             "ticks": ""
            },
            "colorscale": [
             [
              0,
              "#0d0887"
             ],
             [
              0.1111111111111111,
              "#46039f"
             ],
             [
              0.2222222222222222,
              "#7201a8"
             ],
             [
              0.3333333333333333,
              "#9c179e"
             ],
             [
              0.4444444444444444,
              "#bd3786"
             ],
             [
              0.5555555555555556,
              "#d8576b"
             ],
             [
              0.6666666666666666,
              "#ed7953"
             ],
             [
              0.7777777777777778,
              "#fb9f3a"
             ],
             [
              0.8888888888888888,
              "#fdca26"
             ],
             [
              1,
              "#f0f921"
             ]
            ],
            "type": "contour"
           }
          ],
          "contourcarpet": [
           {
            "colorbar": {
             "outlinewidth": 0,
             "ticks": ""
            },
            "type": "contourcarpet"
           }
          ],
          "heatmap": [
           {
            "colorbar": {
             "outlinewidth": 0,
             "ticks": ""
            },
            "colorscale": [
             [
              0,
              "#0d0887"
             ],
             [
              0.1111111111111111,
              "#46039f"
             ],
             [
              0.2222222222222222,
              "#7201a8"
             ],
             [
              0.3333333333333333,
              "#9c179e"
             ],
             [
              0.4444444444444444,
              "#bd3786"
             ],
             [
              0.5555555555555556,
              "#d8576b"
             ],
             [
              0.6666666666666666,
              "#ed7953"
             ],
             [
              0.7777777777777778,
              "#fb9f3a"
             ],
             [
              0.8888888888888888,
              "#fdca26"
             ],
             [
              1,
              "#f0f921"
             ]
            ],
            "type": "heatmap"
           }
          ],
          "heatmapgl": [
           {
            "colorbar": {
             "outlinewidth": 0,
             "ticks": ""
            },
            "colorscale": [
             [
              0,
              "#0d0887"
             ],
             [
              0.1111111111111111,
              "#46039f"
             ],
             [
              0.2222222222222222,
              "#7201a8"
             ],
             [
              0.3333333333333333,
              "#9c179e"
             ],
             [
              0.4444444444444444,
              "#bd3786"
             ],
             [
              0.5555555555555556,
              "#d8576b"
             ],
             [
              0.6666666666666666,
              "#ed7953"
             ],
             [
              0.7777777777777778,
              "#fb9f3a"
             ],
             [
              0.8888888888888888,
              "#fdca26"
             ],
             [
              1,
              "#f0f921"
             ]
            ],
            "type": "heatmapgl"
           }
          ],
          "histogram": [
           {
            "marker": {
             "pattern": {
              "fillmode": "overlay",
              "size": 10,
              "solidity": 0.2
             }
            },
            "type": "histogram"
           }
          ],
          "histogram2d": [
           {
            "colorbar": {
             "outlinewidth": 0,
             "ticks": ""
            },
            "colorscale": [
             [
              0,
              "#0d0887"
             ],
             [
              0.1111111111111111,
              "#46039f"
             ],
             [
              0.2222222222222222,
              "#7201a8"
             ],
             [
              0.3333333333333333,
              "#9c179e"
             ],
             [
              0.4444444444444444,
              "#bd3786"
             ],
             [
              0.5555555555555556,
              "#d8576b"
             ],
             [
              0.6666666666666666,
              "#ed7953"
             ],
             [
              0.7777777777777778,
              "#fb9f3a"
             ],
             [
              0.8888888888888888,
              "#fdca26"
             ],
             [
              1,
              "#f0f921"
             ]
            ],
            "type": "histogram2d"
           }
          ],
          "histogram2dcontour": [
           {
            "colorbar": {
             "outlinewidth": 0,
             "ticks": ""
            },
            "colorscale": [
             [
              0,
              "#0d0887"
             ],
             [
              0.1111111111111111,
              "#46039f"
             ],
             [
              0.2222222222222222,
              "#7201a8"
             ],
             [
              0.3333333333333333,
              "#9c179e"
             ],
             [
              0.4444444444444444,
              "#bd3786"
             ],
             [
              0.5555555555555556,
              "#d8576b"
             ],
             [
              0.6666666666666666,
              "#ed7953"
             ],
             [
              0.7777777777777778,
              "#fb9f3a"
             ],
             [
              0.8888888888888888,
              "#fdca26"
             ],
             [
              1,
              "#f0f921"
             ]
            ],
            "type": "histogram2dcontour"
           }
          ],
          "mesh3d": [
           {
            "colorbar": {
             "outlinewidth": 0,
             "ticks": ""
            },
            "type": "mesh3d"
           }
          ],
          "parcoords": [
           {
            "line": {
             "colorbar": {
              "outlinewidth": 0,
              "ticks": ""
             }
            },
            "type": "parcoords"
           }
          ],
          "pie": [
           {
            "automargin": true,
            "type": "pie"
           }
          ],
          "scatter": [
           {
            "fillpattern": {
             "fillmode": "overlay",
             "size": 10,
             "solidity": 0.2
            },
            "type": "scatter"
           }
          ],
          "scatter3d": [
           {
            "line": {
             "colorbar": {
              "outlinewidth": 0,
              "ticks": ""
             }
            },
            "marker": {
             "colorbar": {
              "outlinewidth": 0,
              "ticks": ""
             }
            },
            "type": "scatter3d"
           }
          ],
          "scattercarpet": [
           {
            "marker": {
             "colorbar": {
              "outlinewidth": 0,
              "ticks": ""
             }
            },
            "type": "scattercarpet"
           }
          ],
          "scattergeo": [
           {
            "marker": {
             "colorbar": {
              "outlinewidth": 0,
              "ticks": ""
             }
            },
            "type": "scattergeo"
           }
          ],
          "scattergl": [
           {
            "marker": {
             "colorbar": {
              "outlinewidth": 0,
              "ticks": ""
             }
            },
            "type": "scattergl"
           }
          ],
          "scattermapbox": [
           {
            "marker": {
             "colorbar": {
              "outlinewidth": 0,
              "ticks": ""
             }
            },
            "type": "scattermapbox"
           }
          ],
          "scatterpolar": [
           {
            "marker": {
             "colorbar": {
              "outlinewidth": 0,
              "ticks": ""
             }
            },
            "type": "scatterpolar"
           }
          ],
          "scatterpolargl": [
           {
            "marker": {
             "colorbar": {
              "outlinewidth": 0,
              "ticks": ""
             }
            },
            "type": "scatterpolargl"
           }
          ],
          "scatterternary": [
           {
            "marker": {
             "colorbar": {
              "outlinewidth": 0,
              "ticks": ""
             }
            },
            "type": "scatterternary"
           }
          ],
          "surface": [
           {
            "colorbar": {
             "outlinewidth": 0,
             "ticks": ""
            },
            "colorscale": [
             [
              0,
              "#0d0887"
             ],
             [
              0.1111111111111111,
              "#46039f"
             ],
             [
              0.2222222222222222,
              "#7201a8"
             ],
             [
              0.3333333333333333,
              "#9c179e"
             ],
             [
              0.4444444444444444,
              "#bd3786"
             ],
             [
              0.5555555555555556,
              "#d8576b"
             ],
             [
              0.6666666666666666,
              "#ed7953"
             ],
             [
              0.7777777777777778,
              "#fb9f3a"
             ],
             [
              0.8888888888888888,
              "#fdca26"
             ],
             [
              1,
              "#f0f921"
             ]
            ],
            "type": "surface"
           }
          ],
          "table": [
           {
            "cells": {
             "fill": {
              "color": "#EBF0F8"
             },
             "line": {
              "color": "white"
             }
            },
            "header": {
             "fill": {
              "color": "#C8D4E3"
             },
             "line": {
              "color": "white"
             }
            },
            "type": "table"
           }
          ]
         },
         "layout": {
          "annotationdefaults": {
           "arrowcolor": "#2a3f5f",
           "arrowhead": 0,
           "arrowwidth": 1
          },
          "autotypenumbers": "strict",
          "coloraxis": {
           "colorbar": {
            "outlinewidth": 0,
            "ticks": ""
           }
          },
          "colorscale": {
           "diverging": [
            [
             0,
             "#8e0152"
            ],
            [
             0.1,
             "#c51b7d"
            ],
            [
             0.2,
             "#de77ae"
            ],
            [
             0.3,
             "#f1b6da"
            ],
            [
             0.4,
             "#fde0ef"
            ],
            [
             0.5,
             "#f7f7f7"
            ],
            [
             0.6,
             "#e6f5d0"
            ],
            [
             0.7,
             "#b8e186"
            ],
            [
             0.8,
             "#7fbc41"
            ],
            [
             0.9,
             "#4d9221"
            ],
            [
             1,
             "#276419"
            ]
           ],
           "sequential": [
            [
             0,
             "#0d0887"
            ],
            [
             0.1111111111111111,
             "#46039f"
            ],
            [
             0.2222222222222222,
             "#7201a8"
            ],
            [
             0.3333333333333333,
             "#9c179e"
            ],
            [
             0.4444444444444444,
             "#bd3786"
            ],
            [
             0.5555555555555556,
             "#d8576b"
            ],
            [
             0.6666666666666666,
             "#ed7953"
            ],
            [
             0.7777777777777778,
             "#fb9f3a"
            ],
            [
             0.8888888888888888,
             "#fdca26"
            ],
            [
             1,
             "#f0f921"
            ]
           ],
           "sequentialminus": [
            [
             0,
             "#0d0887"
            ],
            [
             0.1111111111111111,
             "#46039f"
            ],
            [
             0.2222222222222222,
             "#7201a8"
            ],
            [
             0.3333333333333333,
             "#9c179e"
            ],
            [
             0.4444444444444444,
             "#bd3786"
            ],
            [
             0.5555555555555556,
             "#d8576b"
            ],
            [
             0.6666666666666666,
             "#ed7953"
            ],
            [
             0.7777777777777778,
             "#fb9f3a"
            ],
            [
             0.8888888888888888,
             "#fdca26"
            ],
            [
             1,
             "#f0f921"
            ]
           ]
          },
          "colorway": [
           "#636efa",
           "#EF553B",
           "#00cc96",
           "#ab63fa",
           "#FFA15A",
           "#19d3f3",
           "#FF6692",
           "#B6E880",
           "#FF97FF",
           "#FECB52"
          ],
          "font": {
           "color": "#2a3f5f"
          },
          "geo": {
           "bgcolor": "white",
           "lakecolor": "white",
           "landcolor": "white",
           "showlakes": true,
           "showland": true,
           "subunitcolor": "#C8D4E3"
          },
          "hoverlabel": {
           "align": "left"
          },
          "hovermode": "closest",
          "mapbox": {
           "style": "light"
          },
          "paper_bgcolor": "white",
          "plot_bgcolor": "white",
          "polar": {
           "angularaxis": {
            "gridcolor": "#EBF0F8",
            "linecolor": "#EBF0F8",
            "ticks": ""
           },
           "bgcolor": "white",
           "radialaxis": {
            "gridcolor": "#EBF0F8",
            "linecolor": "#EBF0F8",
            "ticks": ""
           }
          },
          "scene": {
           "xaxis": {
            "backgroundcolor": "white",
            "gridcolor": "#DFE8F3",
            "gridwidth": 2,
            "linecolor": "#EBF0F8",
            "showbackground": true,
            "ticks": "",
            "zerolinecolor": "#EBF0F8"
           },
           "yaxis": {
            "backgroundcolor": "white",
            "gridcolor": "#DFE8F3",
            "gridwidth": 2,
            "linecolor": "#EBF0F8",
            "showbackground": true,
            "ticks": "",
            "zerolinecolor": "#EBF0F8"
           },
           "zaxis": {
            "backgroundcolor": "white",
            "gridcolor": "#DFE8F3",
            "gridwidth": 2,
            "linecolor": "#EBF0F8",
            "showbackground": true,
            "ticks": "",
            "zerolinecolor": "#EBF0F8"
           }
          },
          "shapedefaults": {
           "line": {
            "color": "#2a3f5f"
           }
          },
          "ternary": {
           "aaxis": {
            "gridcolor": "#DFE8F3",
            "linecolor": "#A2B1C6",
            "ticks": ""
           },
           "baxis": {
            "gridcolor": "#DFE8F3",
            "linecolor": "#A2B1C6",
            "ticks": ""
           },
           "bgcolor": "white",
           "caxis": {
            "gridcolor": "#DFE8F3",
            "linecolor": "#A2B1C6",
            "ticks": ""
           }
          },
          "title": {
           "x": 0.05
          },
          "xaxis": {
           "automargin": true,
           "gridcolor": "#EBF0F8",
           "linecolor": "#EBF0F8",
           "ticks": "",
           "title": {
            "standoff": 15
           },
           "zerolinecolor": "#EBF0F8",
           "zerolinewidth": 2
          },
          "yaxis": {
           "automargin": true,
           "gridcolor": "#EBF0F8",
           "linecolor": "#EBF0F8",
           "ticks": "",
           "title": {
            "standoff": 15
           },
           "zerolinecolor": "#EBF0F8",
           "zerolinewidth": 2
          }
         }
        },
        "width": 900,
        "xaxis": {
         "rangeselector": {
          "buttons": [
           {
            "count": 7,
            "label": "1w",
            "step": "day",
            "stepmode": "backward"
           },
           {
            "count": 1,
            "label": "1m",
            "step": "month",
            "stepmode": "backward"
           },
           {
            "count": 6,
            "label": "6m",
            "step": "month",
            "stepmode": "backward"
           },
           {
            "count": 1,
            "label": "1y",
            "step": "year",
            "stepmode": "backward"
           },
           {
            "step": "all"
           }
          ]
         },
         "rangeslider": {
          "visible": true
         },
         "title": {
          "text": "ds"
         },
         "type": "date"
        },
        "yaxis": {
         "title": {
          "text": "y"
         }
        }
       }
      }
     },
     "metadata": {},
     "output_type": "display_data"
    }
   ],
   "source": [
    "# fig1 = m.plot(forecast)\n",
    "plot_plotly(m, forecast)"
   ]
  },
  {
   "cell_type": "code",
   "execution_count": null,
   "metadata": {},
   "outputs": [
    {
     "data": {
      "application/vnd.plotly.v1+json": {
       "config": {
        "plotlyServerURL": "https://plot.ly"
       },
       "data": [
        {
         "line": {
          "color": "#0072B2",
          "width": 2
         },
         "mode": "lines",
         "name": "trend",
         "type": "scatter",
         "x": [
          "2000-01-01T00:00:00",
          "2000-02-01T00:00:00",
          "2000-03-01T00:00:00",
          "2000-04-01T00:00:00",
          "2000-05-01T00:00:00",
          "2000-06-01T00:00:00",
          "2000-07-01T00:00:00",
          "2000-08-01T00:00:00",
          "2000-09-01T00:00:00",
          "2000-10-01T00:00:00",
          "2000-11-01T00:00:00",
          "2000-12-01T00:00:00",
          "2001-01-01T00:00:00",
          "2001-02-01T00:00:00",
          "2001-03-01T00:00:00",
          "2001-04-01T00:00:00",
          "2001-05-01T00:00:00",
          "2001-06-01T00:00:00",
          "2001-07-01T00:00:00",
          "2001-08-01T00:00:00",
          "2001-09-01T00:00:00",
          "2001-10-01T00:00:00",
          "2001-11-01T00:00:00",
          "2001-12-01T00:00:00",
          "2002-01-01T00:00:00",
          "2002-02-01T00:00:00",
          "2002-03-01T00:00:00",
          "2002-04-01T00:00:00",
          "2002-05-01T00:00:00",
          "2002-06-01T00:00:00",
          "2002-07-01T00:00:00",
          "2002-08-01T00:00:00",
          "2002-09-01T00:00:00",
          "2002-10-01T00:00:00",
          "2002-11-01T00:00:00",
          "2002-12-01T00:00:00",
          "2003-01-01T00:00:00",
          "2003-02-01T00:00:00",
          "2003-03-01T00:00:00",
          "2003-04-01T00:00:00",
          "2003-05-01T00:00:00",
          "2003-06-01T00:00:00",
          "2003-07-01T00:00:00",
          "2003-08-01T00:00:00",
          "2003-09-01T00:00:00",
          "2003-10-01T00:00:00",
          "2003-11-01T00:00:00",
          "2003-12-01T00:00:00",
          "2004-01-01T00:00:00",
          "2004-02-01T00:00:00",
          "2004-03-01T00:00:00",
          "2004-04-01T00:00:00",
          "2004-05-01T00:00:00",
          "2004-06-01T00:00:00",
          "2004-07-01T00:00:00",
          "2004-08-01T00:00:00",
          "2004-09-01T00:00:00",
          "2004-10-01T00:00:00",
          "2004-11-01T00:00:00",
          "2004-12-01T00:00:00",
          "2005-01-01T00:00:00",
          "2005-02-01T00:00:00",
          "2005-03-01T00:00:00",
          "2005-04-01T00:00:00",
          "2005-05-01T00:00:00",
          "2005-06-01T00:00:00",
          "2005-07-01T00:00:00",
          "2005-08-01T00:00:00",
          "2005-09-01T00:00:00",
          "2005-10-01T00:00:00",
          "2005-11-01T00:00:00",
          "2005-12-01T00:00:00",
          "2006-01-01T00:00:00",
          "2006-02-01T00:00:00",
          "2006-03-01T00:00:00",
          "2006-04-01T00:00:00",
          "2006-05-01T00:00:00",
          "2006-06-01T00:00:00",
          "2006-07-01T00:00:00",
          "2006-08-01T00:00:00",
          "2006-09-01T00:00:00",
          "2006-10-01T00:00:00",
          "2006-11-01T00:00:00",
          "2006-12-01T00:00:00",
          "2007-01-01T00:00:00",
          "2007-02-01T00:00:00",
          "2007-03-01T00:00:00",
          "2007-04-01T00:00:00",
          "2007-05-01T00:00:00",
          "2007-06-01T00:00:00",
          "2007-07-01T00:00:00",
          "2007-08-01T00:00:00",
          "2007-09-01T00:00:00",
          "2007-10-01T00:00:00",
          "2007-11-01T00:00:00",
          "2007-12-01T00:00:00",
          "2008-01-01T00:00:00",
          "2008-02-01T00:00:00",
          "2008-03-01T00:00:00",
          "2008-04-01T00:00:00",
          "2008-05-01T00:00:00",
          "2008-06-01T00:00:00",
          "2008-07-01T00:00:00",
          "2008-08-01T00:00:00",
          "2008-09-01T00:00:00",
          "2008-10-01T00:00:00",
          "2008-11-01T00:00:00",
          "2008-12-01T00:00:00",
          "2009-01-01T00:00:00",
          "2009-02-01T00:00:00",
          "2009-03-01T00:00:00",
          "2009-04-01T00:00:00",
          "2009-05-01T00:00:00",
          "2009-06-01T00:00:00",
          "2009-07-01T00:00:00",
          "2009-08-01T00:00:00",
          "2009-09-01T00:00:00",
          "2009-10-01T00:00:00",
          "2009-11-01T00:00:00",
          "2009-12-01T00:00:00",
          "2010-01-01T00:00:00",
          "2010-02-01T00:00:00",
          "2010-03-01T00:00:00",
          "2010-04-01T00:00:00",
          "2010-05-01T00:00:00",
          "2010-06-01T00:00:00",
          "2010-07-01T00:00:00",
          "2010-08-01T00:00:00",
          "2010-09-01T00:00:00",
          "2010-10-01T00:00:00",
          "2010-11-01T00:00:00",
          "2010-12-01T00:00:00",
          "2011-03-01T00:00:00",
          "2011-04-01T00:00:00",
          "2011-05-01T00:00:00",
          "2011-06-01T00:00:00",
          "2011-07-01T00:00:00",
          "2011-08-01T00:00:00",
          "2011-09-01T00:00:00",
          "2011-10-01T00:00:00",
          "2011-11-01T00:00:00",
          "2011-12-01T00:00:00",
          "2012-01-01T00:00:00",
          "2012-02-01T00:00:00",
          "2012-03-01T00:00:00",
          "2012-04-01T00:00:00",
          "2012-05-01T00:00:00",
          "2012-06-01T00:00:00",
          "2012-07-01T00:00:00",
          "2012-08-01T00:00:00",
          "2012-09-01T00:00:00",
          "2012-10-01T00:00:00",
          "2012-11-01T00:00:00",
          "2012-12-01T00:00:00",
          "2013-01-01T00:00:00",
          "2013-02-01T00:00:00",
          "2013-03-01T00:00:00",
          "2013-04-01T00:00:00",
          "2013-05-01T00:00:00",
          "2013-06-01T00:00:00",
          "2013-07-01T00:00:00",
          "2013-08-01T00:00:00",
          "2013-09-01T00:00:00",
          "2013-10-01T00:00:00",
          "2013-11-01T00:00:00",
          "2013-12-01T00:00:00",
          "2014-01-01T00:00:00",
          "2014-02-01T00:00:00",
          "2014-03-01T00:00:00",
          "2014-04-01T00:00:00",
          "2014-05-01T00:00:00",
          "2014-06-01T00:00:00",
          "2014-07-01T00:00:00",
          "2014-08-01T00:00:00",
          "2014-09-01T00:00:00",
          "2014-10-01T00:00:00",
          "2014-11-01T00:00:00",
          "2014-12-01T00:00:00",
          "2015-01-01T00:00:00",
          "2015-02-01T00:00:00",
          "2015-03-01T00:00:00",
          "2015-04-01T00:00:00",
          "2015-05-01T00:00:00",
          "2015-06-01T00:00:00",
          "2015-07-01T00:00:00",
          "2015-08-01T00:00:00",
          "2015-09-01T00:00:00",
          "2015-10-01T00:00:00",
          "2015-11-01T00:00:00",
          "2015-12-01T00:00:00",
          "2016-01-01T00:00:00",
          "2016-02-01T00:00:00",
          "2016-03-01T00:00:00",
          "2016-04-01T00:00:00",
          "2016-05-01T00:00:00",
          "2016-06-01T00:00:00",
          "2016-07-01T00:00:00",
          "2016-08-01T00:00:00",
          "2016-09-01T00:00:00",
          "2016-10-01T00:00:00",
          "2016-11-01T00:00:00",
          "2016-12-01T00:00:00",
          "2017-01-01T00:00:00",
          "2017-02-01T00:00:00",
          "2017-03-01T00:00:00",
          "2017-04-01T00:00:00",
          "2017-05-01T00:00:00",
          "2017-06-01T00:00:00",
          "2017-07-01T00:00:00",
          "2017-08-01T00:00:00",
          "2017-09-01T00:00:00",
          "2017-10-01T00:00:00",
          "2017-11-01T00:00:00",
          "2017-12-01T00:00:00",
          "2018-01-01T00:00:00",
          "2018-02-01T00:00:00",
          "2018-03-01T00:00:00",
          "2018-04-01T00:00:00",
          "2018-05-01T00:00:00",
          "2018-06-01T00:00:00",
          "2018-07-01T00:00:00",
          "2018-08-01T00:00:00",
          "2018-09-01T00:00:00",
          "2018-10-01T00:00:00",
          "2018-11-01T00:00:00",
          "2018-12-01T00:00:00",
          "2019-01-01T00:00:00",
          "2019-02-01T00:00:00",
          "2019-03-01T00:00:00",
          "2019-04-01T00:00:00",
          "2019-05-01T00:00:00",
          "2019-06-01T00:00:00",
          "2019-07-01T00:00:00",
          "2019-08-01T00:00:00",
          "2019-09-01T00:00:00",
          "2019-10-01T00:00:00",
          "2019-11-01T00:00:00",
          "2019-12-01T00:00:00",
          "2020-01-01T00:00:00",
          "2020-02-01T00:00:00",
          "2020-03-01T00:00:00",
          "2020-04-01T00:00:00",
          "2020-05-01T00:00:00",
          "2020-06-01T00:00:00",
          "2020-07-01T00:00:00",
          "2020-08-01T00:00:00",
          "2020-09-01T00:00:00",
          "2020-10-01T00:00:00",
          "2020-11-01T00:00:00",
          "2020-12-01T00:00:00",
          "2021-01-01T00:00:00",
          "2021-02-01T00:00:00",
          "2021-03-01T00:00:00",
          "2021-04-01T00:00:00",
          "2021-05-01T00:00:00",
          "2021-06-01T00:00:00",
          "2021-07-01T00:00:00",
          "2021-08-01T00:00:00",
          "2021-09-01T00:00:00",
          "2021-10-01T00:00:00",
          "2021-11-01T00:00:00",
          "2021-12-01T00:00:00",
          "2022-01-01T00:00:00",
          "2022-02-01T00:00:00",
          "2022-03-01T00:00:00",
          "2022-04-01T00:00:00",
          "2022-05-01T00:00:00",
          "2022-06-01T00:00:00",
          "2022-07-01T00:00:00",
          "2022-08-01T00:00:00",
          "2022-09-01T00:00:00",
          "2022-10-01T00:00:00",
          "2022-11-01T00:00:00",
          "2022-12-01T00:00:00",
          "2022-12-31T00:00:00",
          "2023-01-31T00:00:00",
          "2023-02-28T00:00:00",
          "2023-03-31T00:00:00",
          "2023-04-30T00:00:00",
          "2023-05-31T00:00:00",
          "2023-06-30T00:00:00",
          "2023-07-31T00:00:00",
          "2023-08-31T00:00:00",
          "2023-09-30T00:00:00",
          "2023-10-31T00:00:00",
          "2023-11-30T00:00:00",
          "2023-12-31T00:00:00",
          "2024-01-31T00:00:00",
          "2024-02-29T00:00:00",
          "2024-03-31T00:00:00",
          "2024-04-30T00:00:00",
          "2024-05-31T00:00:00",
          "2024-06-30T00:00:00",
          "2024-07-31T00:00:00",
          "2024-08-31T00:00:00",
          "2024-09-30T00:00:00",
          "2024-10-31T00:00:00",
          "2024-11-30T00:00:00",
          "2024-12-31T00:00:00",
          "2025-01-31T00:00:00",
          "2025-02-28T00:00:00",
          "2025-03-31T00:00:00",
          "2025-04-30T00:00:00",
          "2025-05-31T00:00:00",
          "2025-06-30T00:00:00",
          "2025-07-31T00:00:00",
          "2025-08-31T00:00:00",
          "2025-09-30T00:00:00",
          "2025-10-31T00:00:00",
          "2025-11-30T00:00:00"
         ],
         "xaxis": "x",
         "y": [
          380875.411683,
          379012.9419682111,
          377270.63158986025,
          375408.16187507135,
          373605.7718285014,
          371743.30211371253,
          369940.91206714266,
          368078.44235235377,
          366215.9726375649,
          364413.582590995,
          362551.1128156736,
          360748.72271052387,
          358886.25293520244,
          357023.783159881,
          355341.55239507457,
          353479.0826197532,
          351676.69251460343,
          349814.22273928206,
          348011.83263737446,
          346149.3628654034,
          344286.89309343224,
          342484.5029915247,
          340622.0332195536,
          338819.64311764605,
          336957.1733456749,
          335094.70357370377,
          333412.4728119234,
          331550.0030466408,
          329747.61295120604,
          327885.1431859234,
          326082.75309048867,
          324220.2833252061,
          322357.8135599235,
          320555.4234644887,
          318692.9536992061,
          316890.5636037713,
          315028.0938725369,
          313165.62414130254,
          311483.39341631666,
          309620.92368508223,
          307818.5336225973,
          305956.0638913629,
          304153.673828878,
          302291.20409764355,
          300428.7343664092,
          298626.3442892959,
          296763.8745429455,
          294961.4844658321,
          293099.01471948164,
          291236.5449731312,
          289494.234565255,
          287631.7648189046,
          285829.3747417913,
          283966.9050755082,
          282164.51507587946,
          280302.04540959647,
          278439.5757433134,
          276637.1857436847,
          274774.7160774017,
          272972.326077773,
          271109.85641148995,
          269247.3867452069,
          267565.1564122017,
          265702.68711494596,
          263900.29747244046,
          262037.82817518472,
          260235.4385326792,
          258372.96923542352,
          256510.49993816778,
          254708.11029566225,
          252845.6409984065,
          251043.25143782317,
          249180.78222522032,
          247318.31301261758,
          245636.08275607307,
          243773.61354347027,
          241971.22398288688,
          240108.75477028408,
          238306.36520970074,
          236443.96353354392,
          234581.56185738713,
          232779.23765465472,
          230916.8359784979,
          229114.51177576548,
          227252.11009960866,
          225389.7084234519,
          223707.53916756835,
          221845.1374914115,
          220042.8244246732,
          218180.43425571028,
          216378.121188972,
          214515.73102000906,
          212653.34085104617,
          210851.02778430787,
          208988.63761534495,
          207186.32454860667,
          205323.93437964382,
          203461.54422417955,
          201719.30827229365,
          199856.91811682945,
          198054.6050631544,
          196192.21490769013,
          194389.90185401507,
          192527.51169855084,
          190665.1215430866,
          188862.80848941152,
          187089.80110508506,
          185373.98750734978,
          183600.98012302336,
          181827.97273869687,
          180226.54671414394,
          178453.53932981752,
          176737.72573208224,
          174964.71834775578,
          173288.8296299151,
          171557.0779548131,
          169825.32627971112,
          168149.43756187044,
          166417.68588676842,
          164741.7971689278,
          163010.04549382578,
          161278.29381872376,
          159714.13101540576,
          158205.4889990015,
          156745.51285409418,
          155236.87083768993,
          153776.89469278263,
          152268.25267637838,
          150759.61065997416,
          149299.63451506683,
          147790.9924986626,
          146331.01635375532,
          143183.1150951946,
          142098.83799502373,
          141049.5375755035,
          139965.2604753326,
          138915.96005581235,
          137831.68295564147,
          136747.40585547057,
          135698.10543595036,
          134613.82833577946,
          134172.37592495815,
          133716.20843377613,
          133260.04094259415,
          132833.30361213355,
          132377.1361209515,
          131935.68371013022,
          131479.5162189482,
          131038.0638081269,
          131302.1634852338,
          131566.26316234065,
          131821.84349502472,
          132085.9431721316,
          132341.5235048157,
          132605.62318192256,
          132869.72285902943,
          133108.26450286788,
          133372.36417997483,
          134383.15069986315,
          135427.63010374783,
          136438.4166236362,
          137482.89602752085,
          138527.37543140555,
          139538.16195129388,
          140582.64135517855,
          141593.4278750669,
          142637.90727895158,
          144478.16806546954,
          146140.3390984535,
          147980.5998849715,
          149761.4974203115,
          151601.7582068295,
          153382.65574216947,
          155222.91652868743,
          157063.17731520557,
          159585.95233728745,
          162192.8198601055,
          164715.59488218738,
          167322.46240500535,
          169929.32992782333,
          172283.9199484332,
          174890.7874712511,
          177413.56249333307,
          180020.43001615108,
          183194.37050931907,
          186474.10901892584,
          189753.84752853285,
          192927.78802170075,
          196207.52653130764,
          199381.46702447563,
          202661.2055340824,
          205940.9440436894,
          209009.08652041803,
          212785.36270456944,
          216439.8235279417,
          220216.09971209295,
          223870.5605354653,
          227646.83671961655,
          231423.11290376788,
          235077.57372714014,
          238853.84991129147,
          242508.31073466362,
          246516.93016800177,
          250525.54960133968,
          254146.23812177402,
          258154.85755511196,
          262034.1666841488,
          266042.7861174868,
          269922.0952465235,
          273930.71467986173,
          277939.3340958386,
          281818.6432080741,
          285827.26262405096,
          289706.5717362867,
          293715.1911522633,
          297723.8105682402,
          301344.4990729934,
          305353.11848897015,
          309232.4276012059,
          313241.0471400216,
          317120.35637113376,
          321128.9759099496,
          325137.5954487655,
          329016.90467987757,
          333025.5242186934,
          336904.8334498055,
          340913.4529886213,
          344922.0725274372,
          348542.7611431418,
          352551.3806819577,
          356430.6899130697,
          360439.30945188564,
          364318.6186829976,
          368327.2382218135,
          372335.85776062944,
          376215.16699174163,
          380223.7865305573,
          384103.0957616695,
          388111.71530048526,
          392120.3348393011,
          395870.33376270963,
          399878.9533015253,
          403758.2625326376,
          407766.88207145326,
          411646.19130256545,
          415654.81084138114,
          419663.43038019707,
          423542.73961130925,
          427551.359150125,
          431430.6683812372,
          435439.2879200529,
          439447.9074588688,
          443068.5960745734,
          447077.21561338933,
          450956.5248445015,
          454965.1443833172,
          458844.4536144294,
          462853.0731532453,
          466861.692692061,
          470741.0019231732,
          474749.62146198895,
          478628.93069310114,
          482637.55023191683,
          486646.16977073275,
          490266.85838643735,
          494275.4779252533,
          498154.78715636546,
          502163.4066951814,
          506042.71592629334,
          510051.33546510927,
          514059.95500392496,
          517939.26423503715,
          521947.8837738529,
          525827.1930049651,
          529706.5022360771,
          533715.121774893,
          537335.8103905978,
          541344.4299294135,
          545223.7391605257,
          549232.3586993414,
          553111.6679304537,
          557120.2874692695,
          561128.9070080852,
          565008.2162391974,
          569016.8357780131,
          572896.1450091254,
          576904.764547941,
          580913.384086757,
          584663.3830101652,
          588672.0025489813,
          592551.3117800934,
          596559.9313189093,
          600439.2405500213,
          604447.8600888372,
          608456.479627653,
          612335.788858765,
          616344.408397581,
          620223.717628693,
          624232.3371675089,
          628240.9567063248,
          631861.6453220292,
          635870.264860845,
          639749.5740919573,
          643758.1936307732,
          647637.5028618852,
          651646.1224007012,
          655654.741939517,
          659534.051170629,
          663542.6707094449,
          667421.9799405569
         ],
         "yaxis": "y"
        },
        {
         "line": {
          "color": "rgba(0, 114, 178, 0.2)",
          "width": 0
         },
         "mode": "lines",
         "name": "trend_upper",
         "type": "scatter",
         "x": [
          "2000-01-01T00:00:00",
          "2000-02-01T00:00:00",
          "2000-03-01T00:00:00",
          "2000-04-01T00:00:00",
          "2000-05-01T00:00:00",
          "2000-06-01T00:00:00",
          "2000-07-01T00:00:00",
          "2000-08-01T00:00:00",
          "2000-09-01T00:00:00",
          "2000-10-01T00:00:00",
          "2000-11-01T00:00:00",
          "2000-12-01T00:00:00",
          "2001-01-01T00:00:00",
          "2001-02-01T00:00:00",
          "2001-03-01T00:00:00",
          "2001-04-01T00:00:00",
          "2001-05-01T00:00:00",
          "2001-06-01T00:00:00",
          "2001-07-01T00:00:00",
          "2001-08-01T00:00:00",
          "2001-09-01T00:00:00",
          "2001-10-01T00:00:00",
          "2001-11-01T00:00:00",
          "2001-12-01T00:00:00",
          "2002-01-01T00:00:00",
          "2002-02-01T00:00:00",
          "2002-03-01T00:00:00",
          "2002-04-01T00:00:00",
          "2002-05-01T00:00:00",
          "2002-06-01T00:00:00",
          "2002-07-01T00:00:00",
          "2002-08-01T00:00:00",
          "2002-09-01T00:00:00",
          "2002-10-01T00:00:00",
          "2002-11-01T00:00:00",
          "2002-12-01T00:00:00",
          "2003-01-01T00:00:00",
          "2003-02-01T00:00:00",
          "2003-03-01T00:00:00",
          "2003-04-01T00:00:00",
          "2003-05-01T00:00:00",
          "2003-06-01T00:00:00",
          "2003-07-01T00:00:00",
          "2003-08-01T00:00:00",
          "2003-09-01T00:00:00",
          "2003-10-01T00:00:00",
          "2003-11-01T00:00:00",
          "2003-12-01T00:00:00",
          "2004-01-01T00:00:00",
          "2004-02-01T00:00:00",
          "2004-03-01T00:00:00",
          "2004-04-01T00:00:00",
          "2004-05-01T00:00:00",
          "2004-06-01T00:00:00",
          "2004-07-01T00:00:00",
          "2004-08-01T00:00:00",
          "2004-09-01T00:00:00",
          "2004-10-01T00:00:00",
          "2004-11-01T00:00:00",
          "2004-12-01T00:00:00",
          "2005-01-01T00:00:00",
          "2005-02-01T00:00:00",
          "2005-03-01T00:00:00",
          "2005-04-01T00:00:00",
          "2005-05-01T00:00:00",
          "2005-06-01T00:00:00",
          "2005-07-01T00:00:00",
          "2005-08-01T00:00:00",
          "2005-09-01T00:00:00",
          "2005-10-01T00:00:00",
          "2005-11-01T00:00:00",
          "2005-12-01T00:00:00",
          "2006-01-01T00:00:00",
          "2006-02-01T00:00:00",
          "2006-03-01T00:00:00",
          "2006-04-01T00:00:00",
          "2006-05-01T00:00:00",
          "2006-06-01T00:00:00",
          "2006-07-01T00:00:00",
          "2006-08-01T00:00:00",
          "2006-09-01T00:00:00",
          "2006-10-01T00:00:00",
          "2006-11-01T00:00:00",
          "2006-12-01T00:00:00",
          "2007-01-01T00:00:00",
          "2007-02-01T00:00:00",
          "2007-03-01T00:00:00",
          "2007-04-01T00:00:00",
          "2007-05-01T00:00:00",
          "2007-06-01T00:00:00",
          "2007-07-01T00:00:00",
          "2007-08-01T00:00:00",
          "2007-09-01T00:00:00",
          "2007-10-01T00:00:00",
          "2007-11-01T00:00:00",
          "2007-12-01T00:00:00",
          "2008-01-01T00:00:00",
          "2008-02-01T00:00:00",
          "2008-03-01T00:00:00",
          "2008-04-01T00:00:00",
          "2008-05-01T00:00:00",
          "2008-06-01T00:00:00",
          "2008-07-01T00:00:00",
          "2008-08-01T00:00:00",
          "2008-09-01T00:00:00",
          "2008-10-01T00:00:00",
          "2008-11-01T00:00:00",
          "2008-12-01T00:00:00",
          "2009-01-01T00:00:00",
          "2009-02-01T00:00:00",
          "2009-03-01T00:00:00",
          "2009-04-01T00:00:00",
          "2009-05-01T00:00:00",
          "2009-06-01T00:00:00",
          "2009-07-01T00:00:00",
          "2009-08-01T00:00:00",
          "2009-09-01T00:00:00",
          "2009-10-01T00:00:00",
          "2009-11-01T00:00:00",
          "2009-12-01T00:00:00",
          "2010-01-01T00:00:00",
          "2010-02-01T00:00:00",
          "2010-03-01T00:00:00",
          "2010-04-01T00:00:00",
          "2010-05-01T00:00:00",
          "2010-06-01T00:00:00",
          "2010-07-01T00:00:00",
          "2010-08-01T00:00:00",
          "2010-09-01T00:00:00",
          "2010-10-01T00:00:00",
          "2010-11-01T00:00:00",
          "2010-12-01T00:00:00",
          "2011-03-01T00:00:00",
          "2011-04-01T00:00:00",
          "2011-05-01T00:00:00",
          "2011-06-01T00:00:00",
          "2011-07-01T00:00:00",
          "2011-08-01T00:00:00",
          "2011-09-01T00:00:00",
          "2011-10-01T00:00:00",
          "2011-11-01T00:00:00",
          "2011-12-01T00:00:00",
          "2012-01-01T00:00:00",
          "2012-02-01T00:00:00",
          "2012-03-01T00:00:00",
          "2012-04-01T00:00:00",
          "2012-05-01T00:00:00",
          "2012-06-01T00:00:00",
          "2012-07-01T00:00:00",
          "2012-08-01T00:00:00",
          "2012-09-01T00:00:00",
          "2012-10-01T00:00:00",
          "2012-11-01T00:00:00",
          "2012-12-01T00:00:00",
          "2013-01-01T00:00:00",
          "2013-02-01T00:00:00",
          "2013-03-01T00:00:00",
          "2013-04-01T00:00:00",
          "2013-05-01T00:00:00",
          "2013-06-01T00:00:00",
          "2013-07-01T00:00:00",
          "2013-08-01T00:00:00",
          "2013-09-01T00:00:00",
          "2013-10-01T00:00:00",
          "2013-11-01T00:00:00",
          "2013-12-01T00:00:00",
          "2014-01-01T00:00:00",
          "2014-02-01T00:00:00",
          "2014-03-01T00:00:00",
          "2014-04-01T00:00:00",
          "2014-05-01T00:00:00",
          "2014-06-01T00:00:00",
          "2014-07-01T00:00:00",
          "2014-08-01T00:00:00",
          "2014-09-01T00:00:00",
          "2014-10-01T00:00:00",
          "2014-11-01T00:00:00",
          "2014-12-01T00:00:00",
          "2015-01-01T00:00:00",
          "2015-02-01T00:00:00",
          "2015-03-01T00:00:00",
          "2015-04-01T00:00:00",
          "2015-05-01T00:00:00",
          "2015-06-01T00:00:00",
          "2015-07-01T00:00:00",
          "2015-08-01T00:00:00",
          "2015-09-01T00:00:00",
          "2015-10-01T00:00:00",
          "2015-11-01T00:00:00",
          "2015-12-01T00:00:00",
          "2016-01-01T00:00:00",
          "2016-02-01T00:00:00",
          "2016-03-01T00:00:00",
          "2016-04-01T00:00:00",
          "2016-05-01T00:00:00",
          "2016-06-01T00:00:00",
          "2016-07-01T00:00:00",
          "2016-08-01T00:00:00",
          "2016-09-01T00:00:00",
          "2016-10-01T00:00:00",
          "2016-11-01T00:00:00",
          "2016-12-01T00:00:00",
          "2017-01-01T00:00:00",
          "2017-02-01T00:00:00",
          "2017-03-01T00:00:00",
          "2017-04-01T00:00:00",
          "2017-05-01T00:00:00",
          "2017-06-01T00:00:00",
          "2017-07-01T00:00:00",
          "2017-08-01T00:00:00",
          "2017-09-01T00:00:00",
          "2017-10-01T00:00:00",
          "2017-11-01T00:00:00",
          "2017-12-01T00:00:00",
          "2018-01-01T00:00:00",
          "2018-02-01T00:00:00",
          "2018-03-01T00:00:00",
          "2018-04-01T00:00:00",
          "2018-05-01T00:00:00",
          "2018-06-01T00:00:00",
          "2018-07-01T00:00:00",
          "2018-08-01T00:00:00",
          "2018-09-01T00:00:00",
          "2018-10-01T00:00:00",
          "2018-11-01T00:00:00",
          "2018-12-01T00:00:00",
          "2019-01-01T00:00:00",
          "2019-02-01T00:00:00",
          "2019-03-01T00:00:00",
          "2019-04-01T00:00:00",
          "2019-05-01T00:00:00",
          "2019-06-01T00:00:00",
          "2019-07-01T00:00:00",
          "2019-08-01T00:00:00",
          "2019-09-01T00:00:00",
          "2019-10-01T00:00:00",
          "2019-11-01T00:00:00",
          "2019-12-01T00:00:00",
          "2020-01-01T00:00:00",
          "2020-02-01T00:00:00",
          "2020-03-01T00:00:00",
          "2020-04-01T00:00:00",
          "2020-05-01T00:00:00",
          "2020-06-01T00:00:00",
          "2020-07-01T00:00:00",
          "2020-08-01T00:00:00",
          "2020-09-01T00:00:00",
          "2020-10-01T00:00:00",
          "2020-11-01T00:00:00",
          "2020-12-01T00:00:00",
          "2021-01-01T00:00:00",
          "2021-02-01T00:00:00",
          "2021-03-01T00:00:00",
          "2021-04-01T00:00:00",
          "2021-05-01T00:00:00",
          "2021-06-01T00:00:00",
          "2021-07-01T00:00:00",
          "2021-08-01T00:00:00",
          "2021-09-01T00:00:00",
          "2021-10-01T00:00:00",
          "2021-11-01T00:00:00",
          "2021-12-01T00:00:00",
          "2022-01-01T00:00:00",
          "2022-02-01T00:00:00",
          "2022-03-01T00:00:00",
          "2022-04-01T00:00:00",
          "2022-05-01T00:00:00",
          "2022-06-01T00:00:00",
          "2022-07-01T00:00:00",
          "2022-08-01T00:00:00",
          "2022-09-01T00:00:00",
          "2022-10-01T00:00:00",
          "2022-11-01T00:00:00",
          "2022-12-01T00:00:00",
          "2022-12-31T00:00:00",
          "2023-01-31T00:00:00",
          "2023-02-28T00:00:00",
          "2023-03-31T00:00:00",
          "2023-04-30T00:00:00",
          "2023-05-31T00:00:00",
          "2023-06-30T00:00:00",
          "2023-07-31T00:00:00",
          "2023-08-31T00:00:00",
          "2023-09-30T00:00:00",
          "2023-10-31T00:00:00",
          "2023-11-30T00:00:00",
          "2023-12-31T00:00:00",
          "2024-01-31T00:00:00",
          "2024-02-29T00:00:00",
          "2024-03-31T00:00:00",
          "2024-04-30T00:00:00",
          "2024-05-31T00:00:00",
          "2024-06-30T00:00:00",
          "2024-07-31T00:00:00",
          "2024-08-31T00:00:00",
          "2024-09-30T00:00:00",
          "2024-10-31T00:00:00",
          "2024-11-30T00:00:00",
          "2024-12-31T00:00:00",
          "2025-01-31T00:00:00",
          "2025-02-28T00:00:00",
          "2025-03-31T00:00:00",
          "2025-04-30T00:00:00",
          "2025-05-31T00:00:00",
          "2025-06-30T00:00:00",
          "2025-07-31T00:00:00",
          "2025-08-31T00:00:00",
          "2025-09-30T00:00:00",
          "2025-10-31T00:00:00",
          "2025-11-30T00:00:00"
         ],
         "xaxis": "x",
         "y": [
          380875.411683,
          379012.9419682111,
          377270.63158986025,
          375408.16187507135,
          373605.7718285014,
          371743.30211371253,
          369940.91206714266,
          368078.44235235377,
          366215.9726375649,
          364413.582590995,
          362551.1128156736,
          360748.72271052387,
          358886.25293520244,
          357023.783159881,
          355341.55239507457,
          353479.0826197532,
          351676.69251460343,
          349814.22273928206,
          348011.83263737446,
          346149.3628654034,
          344286.89309343224,
          342484.5029915247,
          340622.0332195536,
          338819.64311764605,
          336957.1733456749,
          335094.70357370377,
          333412.4728119234,
          331550.0030466408,
          329747.61295120604,
          327885.1431859234,
          326082.75309048867,
          324220.2833252061,
          322357.8135599235,
          320555.4234644887,
          318692.9536992061,
          316890.5636037713,
          315028.0938725369,
          313165.62414130254,
          311483.39341631666,
          309620.92368508223,
          307818.5336225973,
          305956.0638913629,
          304153.673828878,
          302291.20409764355,
          300428.7343664092,
          298626.3442892959,
          296763.8745429455,
          294961.4844658321,
          293099.01471948164,
          291236.5449731312,
          289494.234565255,
          287631.7648189046,
          285829.3747417913,
          283966.9050755082,
          282164.51507587946,
          280302.04540959647,
          278439.5757433134,
          276637.1857436847,
          274774.7160774017,
          272972.326077773,
          271109.85641148995,
          269247.3867452069,
          267565.1564122017,
          265702.68711494596,
          263900.29747244046,
          262037.82817518472,
          260235.4385326792,
          258372.96923542352,
          256510.49993816778,
          254708.11029566225,
          252845.6409984065,
          251043.25143782317,
          249180.78222522032,
          247318.31301261758,
          245636.08275607307,
          243773.61354347027,
          241971.22398288688,
          240108.75477028408,
          238306.36520970074,
          236443.96353354392,
          234581.56185738713,
          232779.23765465472,
          230916.8359784979,
          229114.51177576548,
          227252.11009960866,
          225389.7084234519,
          223707.53916756835,
          221845.1374914115,
          220042.8244246732,
          218180.43425571028,
          216378.121188972,
          214515.73102000906,
          212653.34085104617,
          210851.02778430787,
          208988.63761534495,
          207186.32454860667,
          205323.93437964382,
          203461.54422417955,
          201719.30827229365,
          199856.91811682945,
          198054.6050631544,
          196192.21490769013,
          194389.90185401507,
          192527.51169855084,
          190665.1215430866,
          188862.80848941152,
          187089.80110508506,
          185373.98750734978,
          183600.98012302336,
          181827.97273869687,
          180226.54671414394,
          178453.53932981752,
          176737.72573208224,
          174964.71834775578,
          173288.8296299151,
          171557.0779548131,
          169825.32627971112,
          168149.43756187044,
          166417.68588676842,
          164741.7971689278,
          163010.04549382578,
          161278.29381872376,
          159714.13101540576,
          158205.4889990015,
          156745.51285409418,
          155236.87083768993,
          153776.89469278263,
          152268.25267637838,
          150759.61065997416,
          149299.63451506683,
          147790.9924986626,
          146331.01635375532,
          143183.1150951946,
          142098.83799502373,
          141049.5375755035,
          139965.2604753326,
          138915.96005581235,
          137831.68295564147,
          136747.40585547057,
          135698.10543595036,
          134613.82833577946,
          134172.37592495815,
          133716.20843377613,
          133260.04094259415,
          132833.30361213355,
          132377.1361209515,
          131935.68371013022,
          131479.5162189482,
          131038.0638081269,
          131302.1634852338,
          131566.26316234065,
          131821.84349502472,
          132085.9431721316,
          132341.5235048157,
          132605.62318192256,
          132869.72285902943,
          133108.26450286788,
          133372.36417997483,
          134383.15069986315,
          135427.63010374783,
          136438.4166236362,
          137482.89602752085,
          138527.37543140555,
          139538.16195129388,
          140582.64135517855,
          141593.4278750669,
          142637.90727895158,
          144478.16806546954,
          146140.3390984535,
          147980.5998849715,
          149761.4974203115,
          151601.7582068295,
          153382.65574216947,
          155222.91652868743,
          157063.17731520557,
          159585.95233728745,
          162192.8198601055,
          164715.59488218738,
          167322.46240500535,
          169929.32992782333,
          172283.9199484332,
          174890.7874712511,
          177413.56249333307,
          180020.43001615108,
          183194.37050931907,
          186474.10901892584,
          189753.84752853285,
          192927.78802170075,
          196207.52653130764,
          199381.46702447563,
          202661.2055340824,
          205940.9440436894,
          209009.08652041803,
          212785.36270456944,
          216439.8235279417,
          220216.09971209295,
          223870.5605354653,
          227646.83671961655,
          231423.11290376788,
          235077.57372714014,
          238853.84991129147,
          242508.31073466362,
          246516.93016800177,
          250525.54960133968,
          254146.23812177402,
          258154.85755511196,
          262034.1666841488,
          266042.7861174868,
          269922.0952465235,
          273930.71467986173,
          277939.3340958386,
          281818.6432080741,
          285827.26262405096,
          289706.5717362867,
          293715.1911522633,
          297723.8105682402,
          301344.4990729934,
          305353.11848897015,
          309232.4276012059,
          313241.0471400216,
          317120.35637113376,
          321128.9759099496,
          325137.5954487655,
          329016.90467987757,
          333025.5242186934,
          336904.8334498055,
          340913.4529886213,
          344922.0725274372,
          348542.7611431418,
          352551.3806819577,
          356430.6899130697,
          360439.30945188564,
          364318.6186829976,
          368327.2382218135,
          372335.85776062944,
          376215.16699174163,
          380223.7865305573,
          384103.0957616695,
          388111.71530048526,
          392120.3348393011,
          395870.33376270963,
          399878.9533015253,
          403758.2625326376,
          407766.88207145326,
          411646.19130256545,
          415654.81084138114,
          419663.43038019707,
          423542.73961130925,
          427551.359150125,
          431430.6683812372,
          435439.2879200529,
          439447.9074588688,
          443068.5960745734,
          447077.21561338933,
          450956.5248445015,
          454965.1443833172,
          458844.4536144294,
          462853.0731532453,
          466861.692692061,
          470741.0019231732,
          474749.62146198895,
          478628.93069310114,
          482637.55023191683,
          486646.16977073275,
          490266.85838643735,
          494275.4779252533,
          498154.78715636546,
          502163.4066951814,
          506042.71592629334,
          510051.33546510927,
          514059.95500392496,
          517939.26423503715,
          521947.8837738529,
          525827.1930049651,
          529779.5463345981,
          533958.0262382961,
          537909.9849841808,
          542414.7232570809,
          546608.848540331,
          551161.656153088,
          555469.6981516994,
          559922.8753944762,
          564448.1772041293,
          569044.8962554168,
          573501.7140444258,
          578038.8954777634,
          583007.2384951512,
          588043.0234701869,
          592685.0004166545,
          598052.272103912,
          602855.5726691154,
          607615.7029272489,
          612285.2283098665,
          617015.9975763437,
          621767.6041902492,
          626401.3816044866,
          631089.8778569245,
          635695.4347546976,
          640436.911927624,
          645313.3418806847,
          650120.95109084,
          655572.2503942733,
          660693.4830902976,
          666222.9035066603,
          671303.9582887766,
          676021.7659450497,
          681649.6156736772,
          686384.1605064941,
          691203.1891513015,
          696160.6781657387
         ],
         "yaxis": "y"
        },
        {
         "fill": "tonexty",
         "fillcolor": "rgba(0, 114, 178, 0.2)",
         "line": {
          "color": "rgba(0, 114, 178, 0.2)",
          "width": 0
         },
         "mode": "lines",
         "name": "trend_lower",
         "type": "scatter",
         "x": [
          "2000-01-01T00:00:00",
          "2000-02-01T00:00:00",
          "2000-03-01T00:00:00",
          "2000-04-01T00:00:00",
          "2000-05-01T00:00:00",
          "2000-06-01T00:00:00",
          "2000-07-01T00:00:00",
          "2000-08-01T00:00:00",
          "2000-09-01T00:00:00",
          "2000-10-01T00:00:00",
          "2000-11-01T00:00:00",
          "2000-12-01T00:00:00",
          "2001-01-01T00:00:00",
          "2001-02-01T00:00:00",
          "2001-03-01T00:00:00",
          "2001-04-01T00:00:00",
          "2001-05-01T00:00:00",
          "2001-06-01T00:00:00",
          "2001-07-01T00:00:00",
          "2001-08-01T00:00:00",
          "2001-09-01T00:00:00",
          "2001-10-01T00:00:00",
          "2001-11-01T00:00:00",
          "2001-12-01T00:00:00",
          "2002-01-01T00:00:00",
          "2002-02-01T00:00:00",
          "2002-03-01T00:00:00",
          "2002-04-01T00:00:00",
          "2002-05-01T00:00:00",
          "2002-06-01T00:00:00",
          "2002-07-01T00:00:00",
          "2002-08-01T00:00:00",
          "2002-09-01T00:00:00",
          "2002-10-01T00:00:00",
          "2002-11-01T00:00:00",
          "2002-12-01T00:00:00",
          "2003-01-01T00:00:00",
          "2003-02-01T00:00:00",
          "2003-03-01T00:00:00",
          "2003-04-01T00:00:00",
          "2003-05-01T00:00:00",
          "2003-06-01T00:00:00",
          "2003-07-01T00:00:00",
          "2003-08-01T00:00:00",
          "2003-09-01T00:00:00",
          "2003-10-01T00:00:00",
          "2003-11-01T00:00:00",
          "2003-12-01T00:00:00",
          "2004-01-01T00:00:00",
          "2004-02-01T00:00:00",
          "2004-03-01T00:00:00",
          "2004-04-01T00:00:00",
          "2004-05-01T00:00:00",
          "2004-06-01T00:00:00",
          "2004-07-01T00:00:00",
          "2004-08-01T00:00:00",
          "2004-09-01T00:00:00",
          "2004-10-01T00:00:00",
          "2004-11-01T00:00:00",
          "2004-12-01T00:00:00",
          "2005-01-01T00:00:00",
          "2005-02-01T00:00:00",
          "2005-03-01T00:00:00",
          "2005-04-01T00:00:00",
          "2005-05-01T00:00:00",
          "2005-06-01T00:00:00",
          "2005-07-01T00:00:00",
          "2005-08-01T00:00:00",
          "2005-09-01T00:00:00",
          "2005-10-01T00:00:00",
          "2005-11-01T00:00:00",
          "2005-12-01T00:00:00",
          "2006-01-01T00:00:00",
          "2006-02-01T00:00:00",
          "2006-03-01T00:00:00",
          "2006-04-01T00:00:00",
          "2006-05-01T00:00:00",
          "2006-06-01T00:00:00",
          "2006-07-01T00:00:00",
          "2006-08-01T00:00:00",
          "2006-09-01T00:00:00",
          "2006-10-01T00:00:00",
          "2006-11-01T00:00:00",
          "2006-12-01T00:00:00",
          "2007-01-01T00:00:00",
          "2007-02-01T00:00:00",
          "2007-03-01T00:00:00",
          "2007-04-01T00:00:00",
          "2007-05-01T00:00:00",
          "2007-06-01T00:00:00",
          "2007-07-01T00:00:00",
          "2007-08-01T00:00:00",
          "2007-09-01T00:00:00",
          "2007-10-01T00:00:00",
          "2007-11-01T00:00:00",
          "2007-12-01T00:00:00",
          "2008-01-01T00:00:00",
          "2008-02-01T00:00:00",
          "2008-03-01T00:00:00",
          "2008-04-01T00:00:00",
          "2008-05-01T00:00:00",
          "2008-06-01T00:00:00",
          "2008-07-01T00:00:00",
          "2008-08-01T00:00:00",
          "2008-09-01T00:00:00",
          "2008-10-01T00:00:00",
          "2008-11-01T00:00:00",
          "2008-12-01T00:00:00",
          "2009-01-01T00:00:00",
          "2009-02-01T00:00:00",
          "2009-03-01T00:00:00",
          "2009-04-01T00:00:00",
          "2009-05-01T00:00:00",
          "2009-06-01T00:00:00",
          "2009-07-01T00:00:00",
          "2009-08-01T00:00:00",
          "2009-09-01T00:00:00",
          "2009-10-01T00:00:00",
          "2009-11-01T00:00:00",
          "2009-12-01T00:00:00",
          "2010-01-01T00:00:00",
          "2010-02-01T00:00:00",
          "2010-03-01T00:00:00",
          "2010-04-01T00:00:00",
          "2010-05-01T00:00:00",
          "2010-06-01T00:00:00",
          "2010-07-01T00:00:00",
          "2010-08-01T00:00:00",
          "2010-09-01T00:00:00",
          "2010-10-01T00:00:00",
          "2010-11-01T00:00:00",
          "2010-12-01T00:00:00",
          "2011-03-01T00:00:00",
          "2011-04-01T00:00:00",
          "2011-05-01T00:00:00",
          "2011-06-01T00:00:00",
          "2011-07-01T00:00:00",
          "2011-08-01T00:00:00",
          "2011-09-01T00:00:00",
          "2011-10-01T00:00:00",
          "2011-11-01T00:00:00",
          "2011-12-01T00:00:00",
          "2012-01-01T00:00:00",
          "2012-02-01T00:00:00",
          "2012-03-01T00:00:00",
          "2012-04-01T00:00:00",
          "2012-05-01T00:00:00",
          "2012-06-01T00:00:00",
          "2012-07-01T00:00:00",
          "2012-08-01T00:00:00",
          "2012-09-01T00:00:00",
          "2012-10-01T00:00:00",
          "2012-11-01T00:00:00",
          "2012-12-01T00:00:00",
          "2013-01-01T00:00:00",
          "2013-02-01T00:00:00",
          "2013-03-01T00:00:00",
          "2013-04-01T00:00:00",
          "2013-05-01T00:00:00",
          "2013-06-01T00:00:00",
          "2013-07-01T00:00:00",
          "2013-08-01T00:00:00",
          "2013-09-01T00:00:00",
          "2013-10-01T00:00:00",
          "2013-11-01T00:00:00",
          "2013-12-01T00:00:00",
          "2014-01-01T00:00:00",
          "2014-02-01T00:00:00",
          "2014-03-01T00:00:00",
          "2014-04-01T00:00:00",
          "2014-05-01T00:00:00",
          "2014-06-01T00:00:00",
          "2014-07-01T00:00:00",
          "2014-08-01T00:00:00",
          "2014-09-01T00:00:00",
          "2014-10-01T00:00:00",
          "2014-11-01T00:00:00",
          "2014-12-01T00:00:00",
          "2015-01-01T00:00:00",
          "2015-02-01T00:00:00",
          "2015-03-01T00:00:00",
          "2015-04-01T00:00:00",
          "2015-05-01T00:00:00",
          "2015-06-01T00:00:00",
          "2015-07-01T00:00:00",
          "2015-08-01T00:00:00",
          "2015-09-01T00:00:00",
          "2015-10-01T00:00:00",
          "2015-11-01T00:00:00",
          "2015-12-01T00:00:00",
          "2016-01-01T00:00:00",
          "2016-02-01T00:00:00",
          "2016-03-01T00:00:00",
          "2016-04-01T00:00:00",
          "2016-05-01T00:00:00",
          "2016-06-01T00:00:00",
          "2016-07-01T00:00:00",
          "2016-08-01T00:00:00",
          "2016-09-01T00:00:00",
          "2016-10-01T00:00:00",
          "2016-11-01T00:00:00",
          "2016-12-01T00:00:00",
          "2017-01-01T00:00:00",
          "2017-02-01T00:00:00",
          "2017-03-01T00:00:00",
          "2017-04-01T00:00:00",
          "2017-05-01T00:00:00",
          "2017-06-01T00:00:00",
          "2017-07-01T00:00:00",
          "2017-08-01T00:00:00",
          "2017-09-01T00:00:00",
          "2017-10-01T00:00:00",
          "2017-11-01T00:00:00",
          "2017-12-01T00:00:00",
          "2018-01-01T00:00:00",
          "2018-02-01T00:00:00",
          "2018-03-01T00:00:00",
          "2018-04-01T00:00:00",
          "2018-05-01T00:00:00",
          "2018-06-01T00:00:00",
          "2018-07-01T00:00:00",
          "2018-08-01T00:00:00",
          "2018-09-01T00:00:00",
          "2018-10-01T00:00:00",
          "2018-11-01T00:00:00",
          "2018-12-01T00:00:00",
          "2019-01-01T00:00:00",
          "2019-02-01T00:00:00",
          "2019-03-01T00:00:00",
          "2019-04-01T00:00:00",
          "2019-05-01T00:00:00",
          "2019-06-01T00:00:00",
          "2019-07-01T00:00:00",
          "2019-08-01T00:00:00",
          "2019-09-01T00:00:00",
          "2019-10-01T00:00:00",
          "2019-11-01T00:00:00",
          "2019-12-01T00:00:00",
          "2020-01-01T00:00:00",
          "2020-02-01T00:00:00",
          "2020-03-01T00:00:00",
          "2020-04-01T00:00:00",
          "2020-05-01T00:00:00",
          "2020-06-01T00:00:00",
          "2020-07-01T00:00:00",
          "2020-08-01T00:00:00",
          "2020-09-01T00:00:00",
          "2020-10-01T00:00:00",
          "2020-11-01T00:00:00",
          "2020-12-01T00:00:00",
          "2021-01-01T00:00:00",
          "2021-02-01T00:00:00",
          "2021-03-01T00:00:00",
          "2021-04-01T00:00:00",
          "2021-05-01T00:00:00",
          "2021-06-01T00:00:00",
          "2021-07-01T00:00:00",
          "2021-08-01T00:00:00",
          "2021-09-01T00:00:00",
          "2021-10-01T00:00:00",
          "2021-11-01T00:00:00",
          "2021-12-01T00:00:00",
          "2022-01-01T00:00:00",
          "2022-02-01T00:00:00",
          "2022-03-01T00:00:00",
          "2022-04-01T00:00:00",
          "2022-05-01T00:00:00",
          "2022-06-01T00:00:00",
          "2022-07-01T00:00:00",
          "2022-08-01T00:00:00",
          "2022-09-01T00:00:00",
          "2022-10-01T00:00:00",
          "2022-11-01T00:00:00",
          "2022-12-01T00:00:00",
          "2022-12-31T00:00:00",
          "2023-01-31T00:00:00",
          "2023-02-28T00:00:00",
          "2023-03-31T00:00:00",
          "2023-04-30T00:00:00",
          "2023-05-31T00:00:00",
          "2023-06-30T00:00:00",
          "2023-07-31T00:00:00",
          "2023-08-31T00:00:00",
          "2023-09-30T00:00:00",
          "2023-10-31T00:00:00",
          "2023-11-30T00:00:00",
          "2023-12-31T00:00:00",
          "2024-01-31T00:00:00",
          "2024-02-29T00:00:00",
          "2024-03-31T00:00:00",
          "2024-04-30T00:00:00",
          "2024-05-31T00:00:00",
          "2024-06-30T00:00:00",
          "2024-07-31T00:00:00",
          "2024-08-31T00:00:00",
          "2024-09-30T00:00:00",
          "2024-10-31T00:00:00",
          "2024-11-30T00:00:00",
          "2024-12-31T00:00:00",
          "2025-01-31T00:00:00",
          "2025-02-28T00:00:00",
          "2025-03-31T00:00:00",
          "2025-04-30T00:00:00",
          "2025-05-31T00:00:00",
          "2025-06-30T00:00:00",
          "2025-07-31T00:00:00",
          "2025-08-31T00:00:00",
          "2025-09-30T00:00:00",
          "2025-10-31T00:00:00",
          "2025-11-30T00:00:00"
         ],
         "xaxis": "x",
         "y": [
          380875.411683,
          379012.9419682111,
          377270.63158986025,
          375408.16187507135,
          373605.7718285014,
          371743.30211371253,
          369940.91206714266,
          368078.44235235377,
          366215.9726375649,
          364413.582590995,
          362551.1128156736,
          360748.72271052387,
          358886.25293520244,
          357023.783159881,
          355341.55239507457,
          353479.0826197532,
          351676.69251460343,
          349814.22273928206,
          348011.83263737446,
          346149.3628654034,
          344286.89309343224,
          342484.5029915247,
          340622.0332195536,
          338819.64311764605,
          336957.1733456749,
          335094.70357370377,
          333412.4728119234,
          331550.0030466408,
          329747.61295120604,
          327885.1431859234,
          326082.75309048867,
          324220.2833252061,
          322357.8135599235,
          320555.4234644887,
          318692.9536992061,
          316890.5636037713,
          315028.0938725369,
          313165.62414130254,
          311483.39341631666,
          309620.92368508223,
          307818.5336225973,
          305956.0638913629,
          304153.673828878,
          302291.20409764355,
          300428.7343664092,
          298626.3442892959,
          296763.8745429455,
          294961.4844658321,
          293099.01471948164,
          291236.5449731312,
          289494.234565255,
          287631.7648189046,
          285829.3747417913,
          283966.9050755082,
          282164.51507587946,
          280302.04540959647,
          278439.5757433134,
          276637.1857436847,
          274774.7160774017,
          272972.326077773,
          271109.85641148995,
          269247.3867452069,
          267565.1564122017,
          265702.68711494596,
          263900.29747244046,
          262037.82817518472,
          260235.4385326792,
          258372.96923542352,
          256510.49993816778,
          254708.11029566225,
          252845.6409984065,
          251043.25143782317,
          249180.78222522032,
          247318.31301261758,
          245636.08275607307,
          243773.61354347027,
          241971.22398288688,
          240108.75477028408,
          238306.36520970074,
          236443.96353354392,
          234581.56185738713,
          232779.23765465472,
          230916.8359784979,
          229114.51177576548,
          227252.11009960866,
          225389.7084234519,
          223707.53916756835,
          221845.1374914115,
          220042.8244246732,
          218180.43425571028,
          216378.121188972,
          214515.73102000906,
          212653.34085104617,
          210851.02778430787,
          208988.63761534495,
          207186.32454860667,
          205323.93437964382,
          203461.54422417955,
          201719.30827229365,
          199856.91811682945,
          198054.6050631544,
          196192.21490769013,
          194389.90185401507,
          192527.51169855084,
          190665.1215430866,
          188862.80848941152,
          187089.80110508506,
          185373.98750734978,
          183600.98012302336,
          181827.97273869687,
          180226.54671414394,
          178453.53932981752,
          176737.72573208224,
          174964.71834775578,
          173288.8296299151,
          171557.0779548131,
          169825.32627971112,
          168149.43756187044,
          166417.68588676842,
          164741.7971689278,
          163010.04549382578,
          161278.29381872376,
          159714.13101540576,
          158205.4889990015,
          156745.51285409418,
          155236.87083768993,
          153776.89469278263,
          152268.25267637838,
          150759.61065997416,
          149299.63451506683,
          147790.9924986626,
          146331.01635375532,
          143183.1150951946,
          142098.83799502373,
          141049.5375755035,
          139965.2604753326,
          138915.96005581235,
          137831.68295564147,
          136747.40585547057,
          135698.10543595036,
          134613.82833577946,
          134172.37592495815,
          133716.20843377613,
          133260.04094259415,
          132833.30361213355,
          132377.1361209515,
          131935.68371013022,
          131479.5162189482,
          131038.0638081269,
          131302.1634852338,
          131566.26316234065,
          131821.84349502472,
          132085.9431721316,
          132341.5235048157,
          132605.62318192256,
          132869.72285902943,
          133108.26450286788,
          133372.36417997483,
          134383.15069986315,
          135427.63010374783,
          136438.4166236362,
          137482.89602752085,
          138527.37543140555,
          139538.16195129388,
          140582.64135517855,
          141593.4278750669,
          142637.90727895158,
          144478.16806546954,
          146140.3390984535,
          147980.5998849715,
          149761.4974203115,
          151601.7582068295,
          153382.65574216947,
          155222.91652868743,
          157063.17731520557,
          159585.95233728745,
          162192.8198601055,
          164715.59488218738,
          167322.46240500535,
          169929.32992782333,
          172283.9199484332,
          174890.7874712511,
          177413.56249333307,
          180020.43001615108,
          183194.37050931907,
          186474.10901892584,
          189753.84752853285,
          192927.78802170075,
          196207.52653130764,
          199381.46702447563,
          202661.2055340824,
          205940.9440436894,
          209009.08652041803,
          212785.36270456944,
          216439.8235279417,
          220216.09971209295,
          223870.5605354653,
          227646.83671961655,
          231423.11290376788,
          235077.57372714014,
          238853.84991129147,
          242508.31073466362,
          246516.93016800177,
          250525.54960133968,
          254146.23812177402,
          258154.85755511196,
          262034.1666841488,
          266042.7861174868,
          269922.0952465235,
          273930.71467986173,
          277939.3340958386,
          281818.6432080741,
          285827.26262405096,
          289706.5717362867,
          293715.1911522633,
          297723.8105682402,
          301344.4990729934,
          305353.11848897015,
          309232.4276012059,
          313241.0471400216,
          317120.35637113376,
          321128.9759099496,
          325137.5954487655,
          329016.90467987757,
          333025.5242186934,
          336904.8334498055,
          340913.4529886213,
          344922.0725274372,
          348542.7611431418,
          352551.3806819577,
          356430.6899130697,
          360439.30945188564,
          364318.6186829976,
          368327.2382218135,
          372335.85776062944,
          376215.16699174163,
          380223.7865305573,
          384103.0957616695,
          388111.71530048526,
          392120.3348393011,
          395870.33376270963,
          399878.9533015253,
          403758.2625326376,
          407766.88207145326,
          411646.19130256545,
          415654.81084138114,
          419663.43038019707,
          423542.73961130925,
          427551.359150125,
          431430.6683812372,
          435439.2879200529,
          439447.9074588688,
          443068.5960745734,
          447077.21561338933,
          450956.5248445015,
          454965.1443833172,
          458844.4536144294,
          462853.0731532453,
          466861.692692061,
          470741.0019231732,
          474749.62146198895,
          478628.93069310114,
          482637.55023191683,
          486646.16977073275,
          490266.85838643735,
          494275.4779252533,
          498154.78715636546,
          502163.4066951814,
          506042.71592629334,
          510051.33546510927,
          514059.95500392496,
          517939.26423503715,
          521947.8837738529,
          525827.1930049651,
          529603.1182557864,
          533365.0935095001,
          536596.4797504643,
          540244.8357804342,
          543635.88983363,
          547062.2171790752,
          550321.4832341089,
          553708.202922872,
          557045.4649722821,
          560411.3351188794,
          563877.6195435536,
          567007.0559673972,
          570297.0492238908,
          573396.4236003215,
          576334.8352212311,
          579350.0963350578,
          582506.2847519785,
          585455.1835733303,
          588344.2831457667,
          591507.1430213709,
          594585.8502936944,
          597584.9814429812,
          600713.4228999717,
          603472.4855521448,
          606419.1402862131,
          609402.5128908977,
          611909.3324536594,
          615111.8334893541,
          617841.6125727325,
          620744.7045259614,
          623954.7824380724,
          627268.7377672154,
          630338.4922797284,
          633228.546595753,
          636175.0238631497,
          638992.1509684299
         ],
         "yaxis": "y"
        },
        {
         "line": {
          "color": "#0072B2",
          "width": 2
         },
         "mode": "lines",
         "name": "yearly",
         "type": "scatter",
         "x": [
          "2017-01-01T00:00:00",
          "2017-01-02T00:00:59.178082",
          "2017-01-03T00:01:58.356164",
          "2017-01-04T00:02:57.534246",
          "2017-01-05T00:03:56.712328",
          "2017-01-06T00:04:55.890411",
          "2017-01-07T00:05:55.068493",
          "2017-01-08T00:06:54.246575",
          "2017-01-09T00:07:53.424657",
          "2017-01-10T00:08:52.602739",
          "2017-01-11T00:09:51.780822",
          "2017-01-12T00:10:50.958904",
          "2017-01-13T00:11:50.136986",
          "2017-01-14T00:12:49.315068",
          "2017-01-15T00:13:48.493150",
          "2017-01-16T00:14:47.671232",
          "2017-01-17T00:15:46.849315",
          "2017-01-18T00:16:46.027397",
          "2017-01-19T00:17:45.205479",
          "2017-01-20T00:18:44.383561",
          "2017-01-21T00:19:43.561643",
          "2017-01-22T00:20:42.739726",
          "2017-01-23T00:21:41.917808",
          "2017-01-24T00:22:41.095890",
          "2017-01-25T00:23:40.273972",
          "2017-01-26T00:24:39.452054",
          "2017-01-27T00:25:38.630137",
          "2017-01-28T00:26:37.808219",
          "2017-01-29T00:27:36.986301",
          "2017-01-30T00:28:36.164383",
          "2017-01-31T00:29:35.342465",
          "2017-02-01T00:30:34.520547",
          "2017-02-02T00:31:33.698630",
          "2017-02-03T00:32:32.876712",
          "2017-02-04T00:33:32.054794",
          "2017-02-05T00:34:31.232876",
          "2017-02-06T00:35:30.410958",
          "2017-02-07T00:36:29.589041",
          "2017-02-08T00:37:28.767123",
          "2017-02-09T00:38:27.945205",
          "2017-02-10T00:39:27.123287",
          "2017-02-11T00:40:26.301369",
          "2017-02-12T00:41:25.479452",
          "2017-02-13T00:42:24.657534",
          "2017-02-14T00:43:23.835616",
          "2017-02-15T00:44:23.013698",
          "2017-02-16T00:45:22.191780",
          "2017-02-17T00:46:21.369862",
          "2017-02-18T00:47:20.547945",
          "2017-02-19T00:48:19.726027",
          "2017-02-20T00:49:18.904109",
          "2017-02-21T00:50:18.082191",
          "2017-02-22T00:51:17.260273",
          "2017-02-23T00:52:16.438356",
          "2017-02-24T00:53:15.616438",
          "2017-02-25T00:54:14.794520",
          "2017-02-26T00:55:13.972602",
          "2017-02-27T00:56:13.150684",
          "2017-02-28T00:57:12.328767",
          "2017-03-01T00:58:11.506849",
          "2017-03-02T00:59:10.684931",
          "2017-03-03T01:00:09.863013",
          "2017-03-04T01:01:09.041095",
          "2017-03-05T01:02:08.219177",
          "2017-03-06T01:03:07.397260",
          "2017-03-07T01:04:06.575342",
          "2017-03-08T01:05:05.753424",
          "2017-03-09T01:06:04.931506",
          "2017-03-10T01:07:04.109588",
          "2017-03-11T01:08:03.287671",
          "2017-03-12T01:09:02.465753",
          "2017-03-13T01:10:01.643835",
          "2017-03-14T01:11:00.821917",
          "2017-03-15T01:12:00",
          "2017-03-16T01:12:59.178082",
          "2017-03-17T01:13:58.356164",
          "2017-03-18T01:14:57.534246",
          "2017-03-19T01:15:56.712328",
          "2017-03-20T01:16:55.890411",
          "2017-03-21T01:17:55.068493",
          "2017-03-22T01:18:54.246575",
          "2017-03-23T01:19:53.424657",
          "2017-03-24T01:20:52.602739",
          "2017-03-25T01:21:51.780822",
          "2017-03-26T01:22:50.958904",
          "2017-03-27T01:23:50.136986",
          "2017-03-28T01:24:49.315068",
          "2017-03-29T01:25:48.493150",
          "2017-03-30T01:26:47.671232",
          "2017-03-31T01:27:46.849315",
          "2017-04-01T01:28:46.027397",
          "2017-04-02T01:29:45.205479",
          "2017-04-03T01:30:44.383561",
          "2017-04-04T01:31:43.561643",
          "2017-04-05T01:32:42.739726",
          "2017-04-06T01:33:41.917808",
          "2017-04-07T01:34:41.095890",
          "2017-04-08T01:35:40.273972",
          "2017-04-09T01:36:39.452054",
          "2017-04-10T01:37:38.630137",
          "2017-04-11T01:38:37.808219",
          "2017-04-12T01:39:36.986301",
          "2017-04-13T01:40:36.164383",
          "2017-04-14T01:41:35.342465",
          "2017-04-15T01:42:34.520547",
          "2017-04-16T01:43:33.698630",
          "2017-04-17T01:44:32.876712",
          "2017-04-18T01:45:32.054794",
          "2017-04-19T01:46:31.232876",
          "2017-04-20T01:47:30.410958",
          "2017-04-21T01:48:29.589041",
          "2017-04-22T01:49:28.767123",
          "2017-04-23T01:50:27.945205",
          "2017-04-24T01:51:27.123287",
          "2017-04-25T01:52:26.301369",
          "2017-04-26T01:53:25.479452",
          "2017-04-27T01:54:24.657534",
          "2017-04-28T01:55:23.835616",
          "2017-04-29T01:56:23.013698",
          "2017-04-30T01:57:22.191780",
          "2017-05-01T01:58:21.369862",
          "2017-05-02T01:59:20.547945",
          "2017-05-03T02:00:19.726027",
          "2017-05-04T02:01:18.904109",
          "2017-05-05T02:02:18.082191",
          "2017-05-06T02:03:17.260273",
          "2017-05-07T02:04:16.438356",
          "2017-05-08T02:05:15.616438",
          "2017-05-09T02:06:14.794520",
          "2017-05-10T02:07:13.972602",
          "2017-05-11T02:08:13.150684",
          "2017-05-12T02:09:12.328767",
          "2017-05-13T02:10:11.506849",
          "2017-05-14T02:11:10.684931",
          "2017-05-15T02:12:09.863013",
          "2017-05-16T02:13:09.041095",
          "2017-05-17T02:14:08.219177",
          "2017-05-18T02:15:07.397260",
          "2017-05-19T02:16:06.575342",
          "2017-05-20T02:17:05.753424",
          "2017-05-21T02:18:04.931506",
          "2017-05-22T02:19:04.109588",
          "2017-05-23T02:20:03.287671",
          "2017-05-24T02:21:02.465753",
          "2017-05-25T02:22:01.643835",
          "2017-05-26T02:23:00.821917",
          "2017-05-27T02:24:00",
          "2017-05-28T02:24:59.178082",
          "2017-05-29T02:25:58.356164",
          "2017-05-30T02:26:57.534246",
          "2017-05-31T02:27:56.712328",
          "2017-06-01T02:28:55.890411",
          "2017-06-02T02:29:55.068493",
          "2017-06-03T02:30:54.246575",
          "2017-06-04T02:31:53.424657",
          "2017-06-05T02:32:52.602739",
          "2017-06-06T02:33:51.780822",
          "2017-06-07T02:34:50.958904",
          "2017-06-08T02:35:50.136986",
          "2017-06-09T02:36:49.315068",
          "2017-06-10T02:37:48.493150",
          "2017-06-11T02:38:47.671232",
          "2017-06-12T02:39:46.849315",
          "2017-06-13T02:40:46.027397",
          "2017-06-14T02:41:45.205479",
          "2017-06-15T02:42:44.383561",
          "2017-06-16T02:43:43.561643",
          "2017-06-17T02:44:42.739726",
          "2017-06-18T02:45:41.917808",
          "2017-06-19T02:46:41.095890",
          "2017-06-20T02:47:40.273972",
          "2017-06-21T02:48:39.452054",
          "2017-06-22T02:49:38.630137",
          "2017-06-23T02:50:37.808219",
          "2017-06-24T02:51:36.986301",
          "2017-06-25T02:52:36.164383",
          "2017-06-26T02:53:35.342465",
          "2017-06-27T02:54:34.520547",
          "2017-06-28T02:55:33.698630",
          "2017-06-29T02:56:32.876712",
          "2017-06-30T02:57:32.054794",
          "2017-07-01T02:58:31.232876",
          "2017-07-02T02:59:30.410958",
          "2017-07-03T03:00:29.589041",
          "2017-07-04T03:01:28.767123",
          "2017-07-05T03:02:27.945205",
          "2017-07-06T03:03:27.123287",
          "2017-07-07T03:04:26.301369",
          "2017-07-08T03:05:25.479452",
          "2017-07-09T03:06:24.657534",
          "2017-07-10T03:07:23.835616",
          "2017-07-11T03:08:23.013698",
          "2017-07-12T03:09:22.191780",
          "2017-07-13T03:10:21.369862",
          "2017-07-14T03:11:20.547945",
          "2017-07-15T03:12:19.726027",
          "2017-07-16T03:13:18.904109",
          "2017-07-17T03:14:18.082191",
          "2017-07-18T03:15:17.260273",
          "2017-07-19T03:16:16.438356",
          "2017-07-20T03:17:15.616438",
          "2017-07-21T03:18:14.794520",
          "2017-07-22T03:19:13.972602",
          "2017-07-23T03:20:13.150684",
          "2017-07-24T03:21:12.328767",
          "2017-07-25T03:22:11.506849",
          "2017-07-26T03:23:10.684931",
          "2017-07-27T03:24:09.863013",
          "2017-07-28T03:25:09.041095",
          "2017-07-29T03:26:08.219177",
          "2017-07-30T03:27:07.397260",
          "2017-07-31T03:28:06.575342",
          "2017-08-01T03:29:05.753424",
          "2017-08-02T03:30:04.931506",
          "2017-08-03T03:31:04.109588",
          "2017-08-04T03:32:03.287671",
          "2017-08-05T03:33:02.465753",
          "2017-08-06T03:34:01.643835",
          "2017-08-07T03:35:00.821917",
          "2017-08-08T03:36:00",
          "2017-08-09T03:36:59.178082",
          "2017-08-10T03:37:58.356164",
          "2017-08-11T03:38:57.534246",
          "2017-08-12T03:39:56.712328",
          "2017-08-13T03:40:55.890411",
          "2017-08-14T03:41:55.068493",
          "2017-08-15T03:42:54.246575",
          "2017-08-16T03:43:53.424657",
          "2017-08-17T03:44:52.602739",
          "2017-08-18T03:45:51.780822",
          "2017-08-19T03:46:50.958904",
          "2017-08-20T03:47:50.136986",
          "2017-08-21T03:48:49.315068",
          "2017-08-22T03:49:48.493150",
          "2017-08-23T03:50:47.671232",
          "2017-08-24T03:51:46.849315",
          "2017-08-25T03:52:46.027397",
          "2017-08-26T03:53:45.205479",
          "2017-08-27T03:54:44.383561",
          "2017-08-28T03:55:43.561643",
          "2017-08-29T03:56:42.739726",
          "2017-08-30T03:57:41.917808",
          "2017-08-31T03:58:41.095890",
          "2017-09-01T03:59:40.273972",
          "2017-09-02T04:00:39.452054",
          "2017-09-03T04:01:38.630137",
          "2017-09-04T04:02:37.808219",
          "2017-09-05T04:03:36.986301",
          "2017-09-06T04:04:36.164383",
          "2017-09-07T04:05:35.342465",
          "2017-09-08T04:06:34.520547",
          "2017-09-09T04:07:33.698630",
          "2017-09-10T04:08:32.876712",
          "2017-09-11T04:09:32.054794",
          "2017-09-12T04:10:31.232876",
          "2017-09-13T04:11:30.410958",
          "2017-09-14T04:12:29.589041",
          "2017-09-15T04:13:28.767123",
          "2017-09-16T04:14:27.945205",
          "2017-09-17T04:15:27.123287",
          "2017-09-18T04:16:26.301369",
          "2017-09-19T04:17:25.479452",
          "2017-09-20T04:18:24.657534",
          "2017-09-21T04:19:23.835616",
          "2017-09-22T04:20:23.013698",
          "2017-09-23T04:21:22.191780",
          "2017-09-24T04:22:21.369862",
          "2017-09-25T04:23:20.547945",
          "2017-09-26T04:24:19.726027",
          "2017-09-27T04:25:18.904109",
          "2017-09-28T04:26:18.082191",
          "2017-09-29T04:27:17.260273",
          "2017-09-30T04:28:16.438356",
          "2017-10-01T04:29:15.616438",
          "2017-10-02T04:30:14.794520",
          "2017-10-03T04:31:13.972602",
          "2017-10-04T04:32:13.150684",
          "2017-10-05T04:33:12.328767",
          "2017-10-06T04:34:11.506849",
          "2017-10-07T04:35:10.684931",
          "2017-10-08T04:36:09.863013",
          "2017-10-09T04:37:09.041095",
          "2017-10-10T04:38:08.219177",
          "2017-10-11T04:39:07.397260",
          "2017-10-12T04:40:06.575342",
          "2017-10-13T04:41:05.753424",
          "2017-10-14T04:42:04.931506",
          "2017-10-15T04:43:04.109588",
          "2017-10-16T04:44:03.287671",
          "2017-10-17T04:45:02.465753",
          "2017-10-18T04:46:01.643835",
          "2017-10-19T04:47:00.821917",
          "2017-10-20T04:48:00",
          "2017-10-21T04:48:59.178082",
          "2017-10-22T04:49:58.356164",
          "2017-10-23T04:50:57.534246",
          "2017-10-24T04:51:56.712328",
          "2017-10-25T04:52:55.890411",
          "2017-10-26T04:53:55.068493",
          "2017-10-27T04:54:54.246575",
          "2017-10-28T04:55:53.424657",
          "2017-10-29T04:56:52.602739",
          "2017-10-30T04:57:51.780822",
          "2017-10-31T04:58:50.958904",
          "2017-11-01T04:59:50.136986",
          "2017-11-02T05:00:49.315068",
          "2017-11-03T05:01:48.493150",
          "2017-11-04T05:02:47.671232",
          "2017-11-05T05:03:46.849315",
          "2017-11-06T05:04:46.027397",
          "2017-11-07T05:05:45.205479",
          "2017-11-08T05:06:44.383561",
          "2017-11-09T05:07:43.561643",
          "2017-11-10T05:08:42.739726",
          "2017-11-11T05:09:41.917808",
          "2017-11-12T05:10:41.095890",
          "2017-11-13T05:11:40.273972",
          "2017-11-14T05:12:39.452054",
          "2017-11-15T05:13:38.630137",
          "2017-11-16T05:14:37.808219",
          "2017-11-17T05:15:36.986301",
          "2017-11-18T05:16:36.164383",
          "2017-11-19T05:17:35.342465",
          "2017-11-20T05:18:34.520547",
          "2017-11-21T05:19:33.698630",
          "2017-11-22T05:20:32.876712",
          "2017-11-23T05:21:32.054794",
          "2017-11-24T05:22:31.232876",
          "2017-11-25T05:23:30.410958",
          "2017-11-26T05:24:29.589041",
          "2017-11-27T05:25:28.767123",
          "2017-11-28T05:26:27.945205",
          "2017-11-29T05:27:27.123287",
          "2017-11-30T05:28:26.301369",
          "2017-12-01T05:29:25.479452",
          "2017-12-02T05:30:24.657534",
          "2017-12-03T05:31:23.835616",
          "2017-12-04T05:32:23.013698",
          "2017-12-05T05:33:22.191780",
          "2017-12-06T05:34:21.369862",
          "2017-12-07T05:35:20.547945",
          "2017-12-08T05:36:19.726027",
          "2017-12-09T05:37:18.904109",
          "2017-12-10T05:38:18.082191",
          "2017-12-11T05:39:17.260273",
          "2017-12-12T05:40:16.438356",
          "2017-12-13T05:41:15.616438",
          "2017-12-14T05:42:14.794520",
          "2017-12-15T05:43:13.972602",
          "2017-12-16T05:44:13.150684",
          "2017-12-17T05:45:12.328767",
          "2017-12-18T05:46:11.506849",
          "2017-12-19T05:47:10.684931",
          "2017-12-20T05:48:09.863013",
          "2017-12-21T05:49:09.041095",
          "2017-12-22T05:50:08.219177",
          "2017-12-23T05:51:07.397260",
          "2017-12-24T05:52:06.575342",
          "2017-12-25T05:53:05.753424",
          "2017-12-26T05:54:04.931506",
          "2017-12-27T05:55:04.109588",
          "2017-12-28T05:56:03.287671",
          "2017-12-29T05:57:02.465753",
          "2017-12-30T05:58:01.643835",
          "2017-12-31T05:59:00.821917"
         ],
         "xaxis": "x2",
         "y": [
          -87972.16674451146,
          -87702.64248214595,
          -86435.66011081461,
          -84195.86084458891,
          -81026.7095346173,
          -76989.49262413553,
          -72161.84785232923,
          -66636.21387344656,
          -60517.38206909902,
          -53920.324557089014,
          -46967.538957093304,
          -39786.292594369515,
          -32505.69837940591,
          -25254.198801861367,
          -18156.259421345076,
          -11330.030163108437,
          -4884.772241985724,
          1081.4511834480436,
          6483.45012544053,
          11250.927111607578,
          15329.421449343947,
          18681.20655454005,
          21285.699154376813,
          23139.465762858053,
          24255.722308917637,
          24663.643861293483,
          24407.083756056534,
          23543.08160665327,
          22140.058765343274,
          20275.754342004482,
          18035.097927866955,
          15507.740936808972,
          12785.744473775945,
          9961.172559589264,
          7123.739780708853,
          4358.749588816144,
          1744.8834271461214,
          -647.4502331496185,
          -2757.6614724604638,
          -4536.187565148927,
          -5945.38701815762,
          -6960.014692713038,
          -7567.506275874091,
          -7767.748651957392,
          -7572.605801067415,
          -7005.106596578639,
          -6098.390780888004,
          -4894.340111269368,
          -3442.0705039030654,
          -1796.2436040158407,
          -15.279763577424635,
          1840.5012088924668,
          3710.6286122218053,
          5536.392351165275,
          7262.436116709044,
          8838.309908803583,
          10219.813986278732,
          11370.133612082083,
          12260.663748436422,
          12871.697968471371,
          13192.703111125313,
          13222.384663268576,
          12968.457977918895,
          12447.177403403135,
          11682.591144450284,
          10705.608485700524,
          9552.875634777485,
          8265.508792269136,
          6887.707635207781,
          5465.3896463687315,
          4044.6467065716497,
          2670.388478165232,
          1384.9758715786095,
          226.96534981949054,
          -769.9392502213135,
          -1577.8950047197015,
          -2175.594350393142,
          -2548.7939042042044,
          -2690.6024523774013,
          -2601.535698031401,
          -2289.3520437926218,
          -1768.6565624062564,
          -1060.3100971999452,
          -190.6562435509991,
          809.4060274501069,
          1905.4858449460914,
          3060.7876725418223,
          4237.3795350274,
          5397.349458976828,
          6504.001965509855,
          7522.995351340094,
          8423.329857549124,
          9178.331150638,
          9766.365716431577,
          10171.447791819619,
          10383.648814182798,
          10399.310983534488,
          10221.0647447123,
          9857.649519660858,
          9323.542634691472,
          8638.418907082818,
          7826.45447494737,
          6915.488922756447,
          5936.138492310926,
          4920.729163811513,
          3902.2940120916182,
          2913.5112591505526,
          1985.6670159225166,
          1147.7271269966225,
          425.38796789554885,
          -159.65120423809515,
          -590.3357620332337,
          -854.7384981901334,
          -946.3756004225739,
          -864.3455438784295,
          -613.2992774682226,
          -203.22354668953523,
          350.9331525972478,
          1029.797368978157,
          1810.2001490384314,
          2665.9988720097062,
          3568.9078652111552,
          4489.425146724655,
          5397.781291135557,
          6264.8972224431045,
          7063.262141460108,
          7767.852747090175,
          8356.86534033872,
          8812.39021277539,
          9120.946763747655,
          9273.874785031592,
          9267.563891195608,
          9103.536988681848,
          8788.351225513754,
          8333.351813115876,
          7754.266104051129,
          7070.6972596832475,
          6305.430895489363,
          5483.71107595195,
          4632.412243731839,
          3779.1711289711925,
          2951.490999643279,
          2175.903026704546,
          1477.0690805942197,
          877.0450320768919,
          394.5830828845158,
          44.54960729558326,
          -162.51247521938313,
          -220.72021372913306,
          -128.9954165177523,
          108.92152001266092,
          484.61582471993614,
          985.2969006586434,
          1594.203683345788,
          2291.1933908901547,
          3053.3789170513887,
          3855.8775015746733,
          4672.614670580747,
          5477.171972067179,
          6243.596416492836,
          6947.284442688988,
          7565.726827491595,
          8079.231047654173,
          8471.545939992116,
          8730.354385890223,
          8847.682910819345,
          8820.12507355493,
          8648.943522101521,
          8340.017743984308,
          7903.639066833249,
          7354.19275516927,
          6709.658574569963,
          5991.046636453007,
          5221.714616732283,
          4426.615596140943,
          3631.4870874121466,
          2862.06180632722,
          2143.188057087513,
          1498.071128143818,
          947.5217936220726,
          509.28671589188224,
          197.50027208641617,
          22.20279763240911,
          -10.958386329925094,
          99.0849913700666,
          348.7880493349758,
          730.1110420336745,
          1230.756984471183,
          1834.5907306147033,
          2522.138256255774,
          3271.212678639161,
          4057.632924299472,
          4855.960933847974,
          5640.370831838523,
          6385.441019570783,
          7066.979394531419,
          7662.801582180146,
          8153.451305409025,
          8522.808552061513,
          8758.647666817278,
          8853.014191800055,
          8802.496419144802,
          8608.346119891155,
          8276.44598295685,
          7817.150477002106,
          7244.9435226284095,
          6578.000018776216,
          5837.611206185641,
          5047.502328619005,
          4233.116451377412,
          3420.7491405047017,
          2636.7436175838343,
          1906.6362258032107,
          1254.333189560216,
          701.3302901034522,
          266.03622827137855,
          -36.87105224047654,
          -196.90656486927742,
          -208.14264021518534,
          -69.41997108885899,
          215.58202100652068,
          638.4467870066593,
          1186.259825263825,
          1841.9983156424216,
          2585.053477394079,
          3391.8801493477504,
          4236.6966070702365,
          5092.354056899748,
          5931.162494369222,
          6725.785129091949,
          7450.1184497802715,
          8080.14560620385,
          8594.694602386098,
          8976.182804502403,
          9211.178100983523,
          9290.870203122662,
          9211.388277694585,
          8973.970790257881,
          8584.962637938328,
          8055.656648784371,
          7401.974050133191,
          6643.994526931987,
          5805.339437699566,
          4912.486180411127,
          3993.88732562508,
          3079.115047205634,
          2197.914165585377,
          1379.2498730008717,
          650.3630749035113,
          35.91150287075568,
          -442.8989603353427,
          -768.9962568081055,
          -930.0439465171256,
          -918.8885069997922,
          -733.8502355093202,
          -378.8399196695981,
          136.7018303234882,
          798.0394901805225,
          1585.549634641842,
          2475.299096708731,
          3439.714277475142,
          4448.478736281262,
          5469.427007145546,
          6469.559042688355,
          7416.095191523131,
          8277.48480896464,
          9024.498651627606,
          9631.151851747978,
          10075.593479762536,
          10340.866344815122,
          10415.522540021291,
          10294.072652702991,
          9977.259539381716,
          9472.128019263919,
          8791.904063273656,
          7955.674584101412,
          6987.864963381409,
          5917.597412279407,
          4777.776595206058,
          3604.1517895567195,
          2434.2186702100694,
          1306.044845150986,
          257.1207596237471,
          -676.922411641305,
          -1463.4275714441937,
          -2073.820924243656,
          -2484.6003260179455,
          -2678.1843935567545,
          -2643.585179588821,
          -2376.9075739473587,
          -1881.6113715395206,
          -1168.5639384577119,
          -255.84722650586937,
          831.6084443785523,
          2062.7204585592526,
          3401.0525024330623,
          4805.847802882086,
          6233.2103772163555,
          7637.426816139791,
          8972.294689617778,
          10192.660678201297,
          11255.798389952553,
          12122.828434138512,
          12760.038401107926,
          13140.080072047087,
          13242.984536815085,
          13057.01893534379,
          12579.266089226378,
          11815.977815003542,
          10782.639094248621,
          9503.81787638085,
          8012.611815388787,
          6349.939364364869,
          4563.518064640672,
          2706.618979729774,
          836.5958488803515,
          -986.6442283392058,
          -2702.511746677826,
          -4251.464541660918,
          -5576.87262941668,
          -6626.835267849573,
          -7355.925526734595,
          -7726.76776457573,
          -7711.516559931477,
          -7293.021366308497,
          -6465.774698593809,
          -5236.535332549181,
          -3624.705815101703,
          -1662.2216280586192,
          606.7708155924194,
          3126.648339192407,
          5831.370188732317,
          8645.8866500875,
          11487.670223771502,
          14268.824543750115,
          16898.0704978787,
          19283.046688183884,
          21332.694745214467,
          22959.567270389707,
          24082.34335829537,
          24628.010389187468,
          24534.020070449566,
          23750.208703893502,
          22240.431862085316,
          19983.987522389252,
          16976.50448306737,
          13230.612494848481,
          8776.132184038072,
          3659.8602615297746,
          -2055.133773887869,
          -8290.279806219718,
          -14953.338402852241,
          -21939.93489457599,
          -29135.733889785057,
          -36418.906016741756,
          -43662.38706868015,
          -50737.13609419413,
          -57514.63506238567,
          -63869.82804992071,
          -69683.92453530965,
          -74847.13736646174,
          -79260.94654623192,
          -82840.70538983867,
          -85517.33383460608,
          -87238.9698465983
         ],
         "yaxis": "y2"
        }
       ],
       "layout": {
        "height": 400,
        "showlegend": false,
        "template": {
         "data": {
          "bar": [
           {
            "error_x": {
             "color": "#2a3f5f"
            },
            "error_y": {
             "color": "#2a3f5f"
            },
            "marker": {
             "line": {
              "color": "white",
              "width": 0.5
             },
             "pattern": {
              "fillmode": "overlay",
              "size": 10,
              "solidity": 0.2
             }
            },
            "type": "bar"
           }
          ],
          "barpolar": [
           {
            "marker": {
             "line": {
              "color": "white",
              "width": 0.5
             },
             "pattern": {
              "fillmode": "overlay",
              "size": 10,
              "solidity": 0.2
             }
            },
            "type": "barpolar"
           }
          ],
          "carpet": [
           {
            "aaxis": {
             "endlinecolor": "#2a3f5f",
             "gridcolor": "#C8D4E3",
             "linecolor": "#C8D4E3",
             "minorgridcolor": "#C8D4E3",
             "startlinecolor": "#2a3f5f"
            },
            "baxis": {
             "endlinecolor": "#2a3f5f",
             "gridcolor": "#C8D4E3",
             "linecolor": "#C8D4E3",
             "minorgridcolor": "#C8D4E3",
             "startlinecolor": "#2a3f5f"
            },
            "type": "carpet"
           }
          ],
          "choropleth": [
           {
            "colorbar": {
             "outlinewidth": 0,
             "ticks": ""
            },
            "type": "choropleth"
           }
          ],
          "contour": [
           {
            "colorbar": {
             "outlinewidth": 0,
             "ticks": ""
            },
            "colorscale": [
             [
              0,
              "#0d0887"
             ],
             [
              0.1111111111111111,
              "#46039f"
             ],
             [
              0.2222222222222222,
              "#7201a8"
             ],
             [
              0.3333333333333333,
              "#9c179e"
             ],
             [
              0.4444444444444444,
              "#bd3786"
             ],
             [
              0.5555555555555556,
              "#d8576b"
             ],
             [
              0.6666666666666666,
              "#ed7953"
             ],
             [
              0.7777777777777778,
              "#fb9f3a"
             ],
             [
              0.8888888888888888,
              "#fdca26"
             ],
             [
              1,
              "#f0f921"
             ]
            ],
            "type": "contour"
           }
          ],
          "contourcarpet": [
           {
            "colorbar": {
             "outlinewidth": 0,
             "ticks": ""
            },
            "type": "contourcarpet"
           }
          ],
          "heatmap": [
           {
            "colorbar": {
             "outlinewidth": 0,
             "ticks": ""
            },
            "colorscale": [
             [
              0,
              "#0d0887"
             ],
             [
              0.1111111111111111,
              "#46039f"
             ],
             [
              0.2222222222222222,
              "#7201a8"
             ],
             [
              0.3333333333333333,
              "#9c179e"
             ],
             [
              0.4444444444444444,
              "#bd3786"
             ],
             [
              0.5555555555555556,
              "#d8576b"
             ],
             [
              0.6666666666666666,
              "#ed7953"
             ],
             [
              0.7777777777777778,
              "#fb9f3a"
             ],
             [
              0.8888888888888888,
              "#fdca26"
             ],
             [
              1,
              "#f0f921"
             ]
            ],
            "type": "heatmap"
           }
          ],
          "heatmapgl": [
           {
            "colorbar": {
             "outlinewidth": 0,
             "ticks": ""
            },
            "colorscale": [
             [
              0,
              "#0d0887"
             ],
             [
              0.1111111111111111,
              "#46039f"
             ],
             [
              0.2222222222222222,
              "#7201a8"
             ],
             [
              0.3333333333333333,
              "#9c179e"
             ],
             [
              0.4444444444444444,
              "#bd3786"
             ],
             [
              0.5555555555555556,
              "#d8576b"
             ],
             [
              0.6666666666666666,
              "#ed7953"
             ],
             [
              0.7777777777777778,
              "#fb9f3a"
             ],
             [
              0.8888888888888888,
              "#fdca26"
             ],
             [
              1,
              "#f0f921"
             ]
            ],
            "type": "heatmapgl"
           }
          ],
          "histogram": [
           {
            "marker": {
             "pattern": {
              "fillmode": "overlay",
              "size": 10,
              "solidity": 0.2
             }
            },
            "type": "histogram"
           }
          ],
          "histogram2d": [
           {
            "colorbar": {
             "outlinewidth": 0,
             "ticks": ""
            },
            "colorscale": [
             [
              0,
              "#0d0887"
             ],
             [
              0.1111111111111111,
              "#46039f"
             ],
             [
              0.2222222222222222,
              "#7201a8"
             ],
             [
              0.3333333333333333,
              "#9c179e"
             ],
             [
              0.4444444444444444,
              "#bd3786"
             ],
             [
              0.5555555555555556,
              "#d8576b"
             ],
             [
              0.6666666666666666,
              "#ed7953"
             ],
             [
              0.7777777777777778,
              "#fb9f3a"
             ],
             [
              0.8888888888888888,
              "#fdca26"
             ],
             [
              1,
              "#f0f921"
             ]
            ],
            "type": "histogram2d"
           }
          ],
          "histogram2dcontour": [
           {
            "colorbar": {
             "outlinewidth": 0,
             "ticks": ""
            },
            "colorscale": [
             [
              0,
              "#0d0887"
             ],
             [
              0.1111111111111111,
              "#46039f"
             ],
             [
              0.2222222222222222,
              "#7201a8"
             ],
             [
              0.3333333333333333,
              "#9c179e"
             ],
             [
              0.4444444444444444,
              "#bd3786"
             ],
             [
              0.5555555555555556,
              "#d8576b"
             ],
             [
              0.6666666666666666,
              "#ed7953"
             ],
             [
              0.7777777777777778,
              "#fb9f3a"
             ],
             [
              0.8888888888888888,
              "#fdca26"
             ],
             [
              1,
              "#f0f921"
             ]
            ],
            "type": "histogram2dcontour"
           }
          ],
          "mesh3d": [
           {
            "colorbar": {
             "outlinewidth": 0,
             "ticks": ""
            },
            "type": "mesh3d"
           }
          ],
          "parcoords": [
           {
            "line": {
             "colorbar": {
              "outlinewidth": 0,
              "ticks": ""
             }
            },
            "type": "parcoords"
           }
          ],
          "pie": [
           {
            "automargin": true,
            "type": "pie"
           }
          ],
          "scatter": [
           {
            "fillpattern": {
             "fillmode": "overlay",
             "size": 10,
             "solidity": 0.2
            },
            "type": "scatter"
           }
          ],
          "scatter3d": [
           {
            "line": {
             "colorbar": {
              "outlinewidth": 0,
              "ticks": ""
             }
            },
            "marker": {
             "colorbar": {
              "outlinewidth": 0,
              "ticks": ""
             }
            },
            "type": "scatter3d"
           }
          ],
          "scattercarpet": [
           {
            "marker": {
             "colorbar": {
              "outlinewidth": 0,
              "ticks": ""
             }
            },
            "type": "scattercarpet"
           }
          ],
          "scattergeo": [
           {
            "marker": {
             "colorbar": {
              "outlinewidth": 0,
              "ticks": ""
             }
            },
            "type": "scattergeo"
           }
          ],
          "scattergl": [
           {
            "marker": {
             "colorbar": {
              "outlinewidth": 0,
              "ticks": ""
             }
            },
            "type": "scattergl"
           }
          ],
          "scattermapbox": [
           {
            "marker": {
             "colorbar": {
              "outlinewidth": 0,
              "ticks": ""
             }
            },
            "type": "scattermapbox"
           }
          ],
          "scatterpolar": [
           {
            "marker": {
             "colorbar": {
              "outlinewidth": 0,
              "ticks": ""
             }
            },
            "type": "scatterpolar"
           }
          ],
          "scatterpolargl": [
           {
            "marker": {
             "colorbar": {
              "outlinewidth": 0,
              "ticks": ""
             }
            },
            "type": "scatterpolargl"
           }
          ],
          "scatterternary": [
           {
            "marker": {
             "colorbar": {
              "outlinewidth": 0,
              "ticks": ""
             }
            },
            "type": "scatterternary"
           }
          ],
          "surface": [
           {
            "colorbar": {
             "outlinewidth": 0,
             "ticks": ""
            },
            "colorscale": [
             [
              0,
              "#0d0887"
             ],
             [
              0.1111111111111111,
              "#46039f"
             ],
             [
              0.2222222222222222,
              "#7201a8"
             ],
             [
              0.3333333333333333,
              "#9c179e"
             ],
             [
              0.4444444444444444,
              "#bd3786"
             ],
             [
              0.5555555555555556,
              "#d8576b"
             ],
             [
              0.6666666666666666,
              "#ed7953"
             ],
             [
              0.7777777777777778,
              "#fb9f3a"
             ],
             [
              0.8888888888888888,
              "#fdca26"
             ],
             [
              1,
              "#f0f921"
             ]
            ],
            "type": "surface"
           }
          ],
          "table": [
           {
            "cells": {
             "fill": {
              "color": "#EBF0F8"
             },
             "line": {
              "color": "white"
             }
            },
            "header": {
             "fill": {
              "color": "#C8D4E3"
             },
             "line": {
              "color": "white"
             }
            },
            "type": "table"
           }
          ]
         },
         "layout": {
          "annotationdefaults": {
           "arrowcolor": "#2a3f5f",
           "arrowhead": 0,
           "arrowwidth": 1
          },
          "autotypenumbers": "strict",
          "coloraxis": {
           "colorbar": {
            "outlinewidth": 0,
            "ticks": ""
           }
          },
          "colorscale": {
           "diverging": [
            [
             0,
             "#8e0152"
            ],
            [
             0.1,
             "#c51b7d"
            ],
            [
             0.2,
             "#de77ae"
            ],
            [
             0.3,
             "#f1b6da"
            ],
            [
             0.4,
             "#fde0ef"
            ],
            [
             0.5,
             "#f7f7f7"
            ],
            [
             0.6,
             "#e6f5d0"
            ],
            [
             0.7,
             "#b8e186"
            ],
            [
             0.8,
             "#7fbc41"
            ],
            [
             0.9,
             "#4d9221"
            ],
            [
             1,
             "#276419"
            ]
           ],
           "sequential": [
            [
             0,
             "#0d0887"
            ],
            [
             0.1111111111111111,
             "#46039f"
            ],
            [
             0.2222222222222222,
             "#7201a8"
            ],
            [
             0.3333333333333333,
             "#9c179e"
            ],
            [
             0.4444444444444444,
             "#bd3786"
            ],
            [
             0.5555555555555556,
             "#d8576b"
            ],
            [
             0.6666666666666666,
             "#ed7953"
            ],
            [
             0.7777777777777778,
             "#fb9f3a"
            ],
            [
             0.8888888888888888,
             "#fdca26"
            ],
            [
             1,
             "#f0f921"
            ]
           ],
           "sequentialminus": [
            [
             0,
             "#0d0887"
            ],
            [
             0.1111111111111111,
             "#46039f"
            ],
            [
             0.2222222222222222,
             "#7201a8"
            ],
            [
             0.3333333333333333,
             "#9c179e"
            ],
            [
             0.4444444444444444,
             "#bd3786"
            ],
            [
             0.5555555555555556,
             "#d8576b"
            ],
            [
             0.6666666666666666,
             "#ed7953"
            ],
            [
             0.7777777777777778,
             "#fb9f3a"
            ],
            [
             0.8888888888888888,
             "#fdca26"
            ],
            [
             1,
             "#f0f921"
            ]
           ]
          },
          "colorway": [
           "#636efa",
           "#EF553B",
           "#00cc96",
           "#ab63fa",
           "#FFA15A",
           "#19d3f3",
           "#FF6692",
           "#B6E880",
           "#FF97FF",
           "#FECB52"
          ],
          "font": {
           "color": "#2a3f5f"
          },
          "geo": {
           "bgcolor": "white",
           "lakecolor": "white",
           "landcolor": "white",
           "showlakes": true,
           "showland": true,
           "subunitcolor": "#C8D4E3"
          },
          "hoverlabel": {
           "align": "left"
          },
          "hovermode": "closest",
          "mapbox": {
           "style": "light"
          },
          "paper_bgcolor": "white",
          "plot_bgcolor": "white",
          "polar": {
           "angularaxis": {
            "gridcolor": "#EBF0F8",
            "linecolor": "#EBF0F8",
            "ticks": ""
           },
           "bgcolor": "white",
           "radialaxis": {
            "gridcolor": "#EBF0F8",
            "linecolor": "#EBF0F8",
            "ticks": ""
           }
          },
          "scene": {
           "xaxis": {
            "backgroundcolor": "white",
            "gridcolor": "#DFE8F3",
            "gridwidth": 2,
            "linecolor": "#EBF0F8",
            "showbackground": true,
            "ticks": "",
            "zerolinecolor": "#EBF0F8"
           },
           "yaxis": {
            "backgroundcolor": "white",
            "gridcolor": "#DFE8F3",
            "gridwidth": 2,
            "linecolor": "#EBF0F8",
            "showbackground": true,
            "ticks": "",
            "zerolinecolor": "#EBF0F8"
           },
           "zaxis": {
            "backgroundcolor": "white",
            "gridcolor": "#DFE8F3",
            "gridwidth": 2,
            "linecolor": "#EBF0F8",
            "showbackground": true,
            "ticks": "",
            "zerolinecolor": "#EBF0F8"
           }
          },
          "shapedefaults": {
           "line": {
            "color": "#2a3f5f"
           }
          },
          "ternary": {
           "aaxis": {
            "gridcolor": "#DFE8F3",
            "linecolor": "#A2B1C6",
            "ticks": ""
           },
           "baxis": {
            "gridcolor": "#DFE8F3",
            "linecolor": "#A2B1C6",
            "ticks": ""
           },
           "bgcolor": "white",
           "caxis": {
            "gridcolor": "#DFE8F3",
            "linecolor": "#A2B1C6",
            "ticks": ""
           }
          },
          "title": {
           "x": 0.05
          },
          "xaxis": {
           "automargin": true,
           "gridcolor": "#EBF0F8",
           "linecolor": "#EBF0F8",
           "ticks": "",
           "title": {
            "standoff": 15
           },
           "zerolinecolor": "#EBF0F8",
           "zerolinewidth": 2
          },
          "yaxis": {
           "automargin": true,
           "gridcolor": "#EBF0F8",
           "linecolor": "#EBF0F8",
           "ticks": "",
           "title": {
            "standoff": 15
           },
           "zerolinecolor": "#EBF0F8",
           "zerolinewidth": 2
          }
         }
        },
        "width": 900,
        "xaxis": {
         "anchor": "y",
         "domain": [
          0,
          1
         ],
         "range": [
          "1998-09-14T18:00:00",
          "2027-03-18T06:00:00"
         ],
         "type": "date"
        },
        "xaxis2": {
         "anchor": "y2",
         "domain": [
          0,
          1
         ],
         "range": [
          "2016-12-13T18:54:02.958904115",
          "2018-01-18T11:04:57.863013581"
         ],
         "tickformat": "%B %e",
         "type": "date"
        },
        "yaxis": {
         "anchor": "x",
         "domain": [
          0.575,
          1
         ],
         "rangemode": "normal",
         "title": {
          "text": "trend"
         },
         "zerolinecolor": "#AAA"
        },
        "yaxis2": {
         "anchor": "x2",
         "domain": [
          0,
          0.425
         ],
         "title": {
          "text": "yearly"
         },
         "zerolinecolor": "#AAA"
        }
       }
      }
     },
     "metadata": {},
     "output_type": "display_data"
    }
   ],
   "source": [
    "plot_components_plotly(m, forecast)"
   ]
  },
  {
   "cell_type": "code",
   "execution_count": null,
   "metadata": {},
   "outputs": [],
   "source": [
    "qty_series = qty_series.set_index(\"ds\")"
   ]
  },
  {
   "cell_type": "code",
   "execution_count": null,
   "metadata": {},
   "outputs": [
    {
     "data": {
      "image/png": "[encoded data removed]",
      "text/plain": [
       "<Figure size 640x480 with 4 Axes>"
      ]
     },
     "metadata": {},
     "output_type": "display_data"
    }
   ],
   "source": [
    "seasonal_decompose(qty_series[\"y\"], model=\"additive\", period=12).plot()"
   ]
  },
  {
   "cell_type": "code",
   "execution_count": null,
   "metadata": {},
   "outputs": [],
   "source": []
  }
 ],
 "metadata": {
  "colab": {
   "provenance": []
  },
  "kernelspec": {
   "display_name": "Python 3 (ipykernel)",
   "language": "python",
   "name": "python3"
  },
  "language_info": {
   "codemirror_mode": {
    "name": "ipython",
    "version": 3
   },
   "file_extension": ".py",
   "mimetype": "text/x-python",
   "name": "python",
   "nbconvert_exporter": "python",
   "pygments_lexer": "ipython3",
   "version": "3.11.6"
  }
 },
 "nbformat": 4,
 "nbformat_minor": 4
}
