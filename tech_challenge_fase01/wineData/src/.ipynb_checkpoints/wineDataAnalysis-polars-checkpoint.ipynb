{
 "cells": [
  {
   "cell_type": "markdown",
   "metadata": {},
   "source": [
    "# Introdução\n",
    "\n",
    "Descrição da atividade.\n",
    "\n",
    "Imagine agora, que você vai atuar como Expert em Data Analytics em uma empresa que exporta vinhos do Brasil para o mundo todo.\n",
    "\n",
    "Sua área é recém-criada dentro da empresa, e você será responsável pelos relatórios iniciais a serem apresentados em uma reunião de investidores e acionistas, explicando a quantidade de vinhos exportados e os fatores externos que podem vir a surgir e que interferem nas análises:\n",
    "\n",
    "- \tDados climáticos.\n",
    "- \tDados demográficos.\n",
    "- \tDados econômicos.\n",
    "- \tDados de avaliações de vinhos.\n",
    "  \n",
    "O Head de Dados pediu para que você construísse uma tabela contendo as seguintes informações:\n",
    "-   País de origem (Brasil).\n",
    "- \tPaís de destino.\n",
    "- \tQuantidade em litros de vinho exportado (utilize: 1KG =1L).\n",
    "- \tValor em US$.\n",
    "\n",
    "Os dados que lhe forneceram são de uma vinícola parceira, e podem ser encontrados  [aqui](http://vitibrasil.cnpuv.embrapa.br/index.php?opcao=opt_01).\n",
    "\n",
    "\n",
    "- opções de ferramentas:\n",
    "  - https://ipyvizzu-story.vizzuhq.com/latest/\n",
    "  - http://gsap.com/"
   ]
  },
  {
   "cell_type": "markdown",
   "metadata": {},
   "source": [
    "# Análise de dados"
   ]
  },
  {
   "cell_type": "code",
   "execution_count": 62,
   "metadata": {},
   "outputs": [],
   "source": [
    "# importa as bibliotecas e carrega os dados\n",
    "import plotly.express as px\n",
    "import polars as pl\n",
    "\n",
    "# carrega os dados de importação de vinhos\n",
    "exp_vinho = (pl.read_csv(\"../data/ExpVinho.csv\", separator=\";\")\n",
    "             .rename({\"País\":\"country\"})\n",
    "             .drop(\"Id\")\n",
    "            )\n",
    "\n",
    "# carrega os dados com as colunas necessárias para posterior plotagem dos dados em mapa\n",
    "df = px.data.gapminder()\n",
    "\n",
    "geo_info = (\n",
    "    df.groupby([\"country\", \"iso_alpha\"])\n",
    "    .first()\n",
    "    .reset_index()[[\"country\", \"iso_alpha\", \"continent\"]]\n",
    ")\n",
    "\n",
    "exp_vinho = pl.DataFrame.join(pl.from_dataframe(geo_info), exp_vinho,  on=\"country\")"
   ]
  },
  {
   "cell_type": "code",
   "execution_count": 68,
   "metadata": {},
   "outputs": [],
   "source": [
    "import polars.selectors as cs\n",
    "\n",
    "# dados de quantidade exportada\n",
    "exp_vinho_qty = exp_vinho.select(cs.by_name(\"country\") | cs.by_name(\"iso_alpha\") | cs.by_name(\"continent\") | cs.ends_with(\"_0\"))\n",
    "exp_vinho_qty.columns = [col.replace(\"_duplicated_0\",\"\") for col in exp_vinho_qty.columns]\n",
    "\n",
    "# dados de exportação em valor (US$)\n",
    "exp_vinho_val = exp_vinho.select(cs.by_name(\"country\") | cs.by_name(\"iso_alpha\") | cs.by_name(\"continent\") | ~cs.ends_with(\"_0\"))\n"
   ]
  },
  {
   "cell_type": "code",
   "execution_count": 69,
   "metadata": {},
   "outputs": [
    {
     "data": {
      "text/html": [
       "<div><style>\n",
       ".dataframe > thead > tr > th,\n",
       ".dataframe > tbody > tr > td {\n",
       "  text-align: right;\n",
       "  white-space: pre-wrap;\n",
       "}\n",
       "</style>\n",
       "<small>shape: (22, 56)</small><table border=\"1\" class=\"dataframe\"><thead><tr><th>country</th><th>iso_alpha</th><th>continent</th><th>1970</th><th>1971</th><th>1972</th><th>1973</th><th>1974</th><th>1975</th><th>1976</th><th>1977</th><th>1978</th><th>1979</th><th>1980</th><th>1981</th><th>1982</th><th>1983</th><th>1984</th><th>1985</th><th>1986</th><th>1987</th><th>1988</th><th>1989</th><th>1990</th><th>1991</th><th>1992</th><th>1993</th><th>1994</th><th>1995</th><th>1996</th><th>1997</th><th>1998</th><th>1999</th><th>2000</th><th>2001</th><th>2002</th><th>2003</th><th>2004</th><th>2005</th><th>2006</th><th>2007</th><th>2008</th><th>2009</th><th>2010</th><th>2011</th><th>2012</th><th>2013</th><th>2014</th><th>2015</th><th>2016</th><th>2017</th><th>2018</th><th>2019</th><th>2020</th><th>2021</th><th>2022</th></tr><tr><td>str</td><td>str</td><td>str</td><td>i64</td><td>i64</td><td>i64</td><td>i64</td><td>i64</td><td>i64</td><td>i64</td><td>i64</td><td>i64</td><td>i64</td><td>i64</td><td>i64</td><td>i64</td><td>i64</td><td>i64</td><td>i64</td><td>i64</td><td>i64</td><td>i64</td><td>i64</td><td>i64</td><td>i64</td><td>i64</td><td>i64</td><td>i64</td><td>i64</td><td>i64</td><td>i64</td><td>i64</td><td>i64</td><td>i64</td><td>i64</td><td>i64</td><td>i64</td><td>i64</td><td>i64</td><td>i64</td><td>i64</td><td>i64</td><td>i64</td><td>i64</td><td>i64</td><td>i64</td><td>i64</td><td>i64</td><td>i64</td><td>i64</td><td>i64</td><td>i64</td><td>i64</td><td>i64</td><td>i64</td><td>i64</td></tr></thead><tbody><tr><td>&quot;Angola&quot;</td><td>&quot;AGO&quot;</td><td>&quot;Africa&quot;</td><td>0</td><td>0</td><td>0</td><td>0</td><td>0</td><td>0</td><td>0</td><td>0</td><td>0</td><td>3465756</td><td>1682244</td><td>0</td><td>0</td><td>0</td><td>0</td><td>339</td><td>774</td><td>1316</td><td>18500</td><td>168</td><td>930</td><td>125</td><td>292</td><td>189</td><td>0</td><td>24</td><td>2118</td><td>68494</td><td>15780</td><td>10998</td><td>249717</td><td>12150</td><td>9812</td><td>19937</td><td>37573</td><td>24056</td><td>3766</td><td>25931</td><td>25721</td><td>54786</td><td>33557</td><td>13889</td><td>2833</td><td>1573</td><td>12182</td><td>1908</td><td>7359</td><td>10170</td><td>477</td><td>345</td><td>0</td><td>0</td><td>4068</td></tr><tr><td>&quot;Argentina&quot;</td><td>&quot;ARG&quot;</td><td>&quot;Americas&quot;</td><td>0</td><td>0</td><td>0</td><td>0</td><td>0</td><td>0</td><td>0</td><td>0</td><td>0</td><td>0</td><td>0</td><td>0</td><td>0</td><td>0</td><td>0</td><td>0</td><td>0</td><td>0</td><td>360</td><td>0</td><td>6300</td><td>0</td><td>1125</td><td>322990</td><td>691422</td><td>0</td><td>2100</td><td>40</td><td>211</td><td>0</td><td>0</td><td>1477</td><td>0</td><td>0</td><td>0</td><td>0</td><td>0</td><td>0</td><td>0</td><td>162</td><td>0</td><td>13253</td><td>0</td><td>0</td><td>20385</td><td>0</td><td>0</td><td>0</td><td>15711</td><td>0</td><td>1015</td><td>6</td><td>480</td></tr><tr><td>&quot;Bangladesh&quot;</td><td>&quot;BGD&quot;</td><td>&quot;Asia&quot;</td><td>0</td><td>0</td><td>0</td><td>0</td><td>0</td><td>0</td><td>0</td><td>0</td><td>0</td><td>0</td><td>0</td><td>0</td><td>0</td><td>0</td><td>0</td><td>0</td><td>0</td><td>0</td><td>0</td><td>0</td><td>0</td><td>0</td><td>0</td><td>0</td><td>0</td><td>0</td><td>0</td><td>0</td><td>0</td><td>0</td><td>0</td><td>0</td><td>0</td><td>0</td><td>0</td><td>0</td><td>0</td><td>0</td><td>0</td><td>0</td><td>0</td><td>0</td><td>0</td><td>0</td><td>0</td><td>0</td><td>0</td><td>0</td><td>0</td><td>0</td><td>3</td><td>2</td><td>7</td></tr><tr><td>&quot;Benin&quot;</td><td>&quot;BEN&quot;</td><td>&quot;Africa&quot;</td><td>0</td><td>0</td><td>0</td><td>0</td><td>0</td><td>0</td><td>0</td><td>0</td><td>0</td><td>0</td><td>0</td><td>0</td><td>0</td><td>0</td><td>0</td><td>0</td><td>0</td><td>0</td><td>0</td><td>0</td><td>0</td><td>0</td><td>0</td><td>0</td><td>0</td><td>0</td><td>0</td><td>0</td><td>0</td><td>0</td><td>0</td><td>0</td><td>0</td><td>0</td><td>0</td><td>0</td><td>10350</td><td>0</td><td>10350</td><td>0</td><td>0</td><td>0</td><td>0</td><td>0</td><td>0</td><td>0</td><td>5040</td><td>0</td><td>0</td><td>9</td><td>0</td><td>0</td><td>0</td></tr><tr><td>&quot;Chile&quot;</td><td>&quot;CHL&quot;</td><td>&quot;Americas&quot;</td><td>0</td><td>0</td><td>0</td><td>0</td><td>0</td><td>0</td><td>0</td><td>0</td><td>0</td><td>0</td><td>0</td><td>0</td><td>0</td><td>0</td><td>0</td><td>0</td><td>0</td><td>0</td><td>0</td><td>900</td><td>0</td><td>0</td><td>0</td><td>160</td><td>0</td><td>0</td><td>0</td><td>0</td><td>0</td><td>0</td><td>0</td><td>0</td><td>31</td><td>0</td><td>0</td><td>0</td><td>1988</td><td>60930</td><td>0</td><td>1475</td><td>0</td><td>0</td><td>8550</td><td>0</td><td>0</td><td>0</td><td>0</td><td>0</td><td>11049</td><td>0</td><td>11</td><td>26</td><td>2094</td></tr><tr><td>&quot;China&quot;</td><td>&quot;CHN&quot;</td><td>&quot;Asia&quot;</td><td>0</td><td>0</td><td>0</td><td>0</td><td>0</td><td>0</td><td>0</td><td>0</td><td>0</td><td>0</td><td>0</td><td>0</td><td>0</td><td>0</td><td>0</td><td>0</td><td>0</td><td>0</td><td>0</td><td>0</td><td>0</td><td>0</td><td>0</td><td>0</td><td>0</td><td>0</td><td>0</td><td>0</td><td>0</td><td>0</td><td>0</td><td>0</td><td>0</td><td>0</td><td>404</td><td>0</td><td>0</td><td>7638</td><td>8689</td><td>1553416</td><td>795</td><td>54156</td><td>87905</td><td>40929</td><td>64040</td><td>47609</td><td>134106</td><td>67594</td><td>30835</td><td>129852</td><td>122253</td><td>61884</td><td>105395</td></tr><tr><td>&quot;Costa Rica&quot;</td><td>&quot;CRI&quot;</td><td>&quot;Americas&quot;</td><td>0</td><td>0</td><td>0</td><td>0</td><td>0</td><td>0</td><td>0</td><td>0</td><td>0</td><td>0</td><td>0</td><td>0</td><td>0</td><td>0</td><td>0</td><td>168</td><td>0</td><td>750</td><td>0</td><td>0</td><td>3097</td><td>0</td><td>0</td><td>0</td><td>0</td><td>0</td><td>0</td><td>0</td><td>0</td><td>0</td><td>0</td><td>0</td><td>100</td><td>31</td><td>0</td><td>0</td><td>0</td><td>0</td><td>55</td><td>0</td><td>0</td><td>0</td><td>0</td><td>0</td><td>0</td><td>0</td><td>0</td><td>0</td><td>0</td><td>0</td><td>0</td><td>0</td><td>0</td></tr><tr><td>&quot;Cuba&quot;</td><td>&quot;CUB&quot;</td><td>&quot;Americas&quot;</td><td>0</td><td>0</td><td>0</td><td>0</td><td>0</td><td>0</td><td>0</td><td>0</td><td>0</td><td>0</td><td>0</td><td>0</td><td>0</td><td>0</td><td>0</td><td>0</td><td>0</td><td>0</td><td>0</td><td>0</td><td>0</td><td>0</td><td>172</td><td>0</td><td>0</td><td>0</td><td>0</td><td>0</td><td>0</td><td>0</td><td>0</td><td>0</td><td>0</td><td>0</td><td>0</td><td>0</td><td>0</td><td>2669</td><td>0</td><td>0</td><td>0</td><td>2880</td><td>0</td><td>0</td><td>38875</td><td>97965</td><td>63741</td><td>62791</td><td>4776</td><td>0</td><td>0</td><td>0</td><td>16</td></tr><tr><td>&quot;El Salvador&quot;</td><td>&quot;SLV&quot;</td><td>&quot;Americas&quot;</td><td>0</td><td>0</td><td>1600</td><td>0</td><td>0</td><td>389</td><td>2923</td><td>45</td><td>1030</td><td>28</td><td>0</td><td>0</td><td>0</td><td>0</td><td>0</td><td>0</td><td>0</td><td>0</td><td>1550</td><td>0</td><td>0</td><td>0</td><td>0</td><td>0</td><td>0</td><td>0</td><td>0</td><td>0</td><td>0</td><td>0</td><td>0</td><td>0</td><td>0</td><td>0</td><td>0</td><td>0</td><td>0</td><td>0</td><td>0</td><td>55</td><td>0</td><td>0</td><td>0</td><td>0</td><td>0</td><td>0</td><td>0</td><td>0</td><td>0</td><td>0</td><td>0</td><td>0</td><td>0</td></tr><tr><td>&quot;Guatemala&quot;</td><td>&quot;GTM&quot;</td><td>&quot;Americas&quot;</td><td>0</td><td>0</td><td>0</td><td>0</td><td>0</td><td>0</td><td>0</td><td>0</td><td>0</td><td>0</td><td>86</td><td>0</td><td>0</td><td>0</td><td>0</td><td>0</td><td>0</td><td>0</td><td>0</td><td>0</td><td>0</td><td>0</td><td>0</td><td>0</td><td>0</td><td>0</td><td>0</td><td>8509</td><td>0</td><td>0</td><td>0</td><td>0</td><td>0</td><td>0</td><td>0</td><td>0</td><td>0</td><td>0</td><td>0</td><td>20</td><td>0</td><td>0</td><td>0</td><td>0</td><td>0</td><td>0</td><td>0</td><td>0</td><td>0</td><td>1597</td><td>0</td><td>17347</td><td>1283</td></tr><tr><td>&quot;Haiti&quot;</td><td>&quot;HTI&quot;</td><td>&quot;Americas&quot;</td><td>0</td><td>0</td><td>1008</td><td>1008</td><td>0</td><td>0</td><td>0</td><td>0</td><td>0</td><td>0</td><td>0</td><td>1858</td><td>0</td><td>0</td><td>0</td><td>996</td><td>0</td><td>0</td><td>0</td><td>180</td><td>0</td><td>0</td><td>0</td><td>0</td><td>0</td><td>0</td><td>0</td><td>0</td><td>0</td><td>0</td><td>0</td><td>0</td><td>0</td><td>0</td><td>0</td><td>0</td><td>0</td><td>0</td><td>20</td><td>4500</td><td>2700</td><td>0</td><td>0</td><td>0</td><td>0</td><td>0</td><td>0</td><td>0</td><td>79500</td><td>81873</td><td>399128</td><td>670379</td><td>553503</td></tr><tr><td>&quot;Honduras&quot;</td><td>&quot;HND&quot;</td><td>&quot;Americas&quot;</td><td>0</td><td>0</td><td>0</td><td>800</td><td>0</td><td>400</td><td>0</td><td>0</td><td>0</td><td>0</td><td>0</td><td>0</td><td>0</td><td>0</td><td>0</td><td>0</td><td>0</td><td>0</td><td>0</td><td>0</td><td>2025</td><td>0</td><td>6874</td><td>7606</td><td>8952</td><td>8960</td><td>8953</td><td>0</td><td>8963</td><td>8963</td><td>0</td><td>0</td><td>7918</td><td>0</td><td>0</td><td>0</td><td>0</td><td>0</td><td>162</td><td>14</td><td>0</td><td>0</td><td>0</td><td>0</td><td>0</td><td>0</td><td>0</td><td>0</td><td>0</td><td>0</td><td>0</td><td>0</td><td>0</td></tr><tr><td>&quot;India&quot;</td><td>&quot;IND&quot;</td><td>&quot;Asia&quot;</td><td>0</td><td>0</td><td>0</td><td>0</td><td>0</td><td>0</td><td>0</td><td>0</td><td>0</td><td>0</td><td>0</td><td>0</td><td>0</td><td>0</td><td>0</td><td>0</td><td>0</td><td>0</td><td>0</td><td>0</td><td>0</td><td>0</td><td>0</td><td>0</td><td>0</td><td>0</td><td>0</td><td>0</td><td>0</td><td>0</td><td>0</td><td>0</td><td>0</td><td>0</td><td>0</td><td>0</td><td>14</td><td>0</td><td>0</td><td>0</td><td>0</td><td>0</td><td>0</td><td>0</td><td>0</td><td>0</td><td>0</td><td>0</td><td>0</td><td>51</td><td>7</td><td>13</td><td>247</td></tr><tr><td>&quot;Jamaica&quot;</td><td>&quot;JAM&quot;</td><td>&quot;Americas&quot;</td><td>0</td><td>0</td><td>0</td><td>0</td><td>0</td><td>0</td><td>0</td><td>0</td><td>0</td><td>0</td><td>0</td><td>0</td><td>0</td><td>0</td><td>0</td><td>0</td><td>0</td><td>0</td><td>0</td><td>0</td><td>0</td><td>0</td><td>0</td><td>0</td><td>0</td><td>0</td><td>315</td><td>0</td><td>0</td><td>0</td><td>0</td><td>0</td><td>0</td><td>0</td><td>0</td><td>0</td><td>0</td><td>0</td><td>0</td><td>0</td><td>0</td><td>0</td><td>0</td><td>0</td><td>0</td><td>0</td><td>0</td><td>0</td><td>0</td><td>0</td><td>0</td><td>0</td><td>0</td></tr><tr><td>&quot;Montenegro&quot;</td><td>&quot;MNE&quot;</td><td>&quot;Europe&quot;</td><td>0</td><td>0</td><td>0</td><td>0</td><td>0</td><td>0</td><td>0</td><td>0</td><td>0</td><td>0</td><td>0</td><td>0</td><td>0</td><td>0</td><td>0</td><td>0</td><td>0</td><td>0</td><td>0</td><td>0</td><td>0</td><td>0</td><td>0</td><td>0</td><td>0</td><td>0</td><td>0</td><td>0</td><td>0</td><td>0</td><td>0</td><td>0</td><td>0</td><td>0</td><td>0</td><td>0</td><td>0</td><td>0</td><td>0</td><td>0</td><td>0</td><td>0</td><td>0</td><td>0</td><td>0</td><td>0</td><td>0</td><td>0</td><td>0</td><td>9</td><td>9</td><td>14</td><td>0</td></tr><tr><td>&quot;Namibia&quot;</td><td>&quot;NAM&quot;</td><td>&quot;Africa&quot;</td><td>0</td><td>0</td><td>0</td><td>0</td><td>0</td><td>0</td><td>0</td><td>0</td><td>0</td><td>0</td><td>0</td><td>0</td><td>0</td><td>0</td><td>0</td><td>0</td><td>0</td><td>0</td><td>0</td><td>0</td><td>0</td><td>0</td><td>0</td><td>0</td><td>0</td><td>0</td><td>0</td><td>0</td><td>0</td><td>0</td><td>0</td><td>0</td><td>0</td><td>0</td><td>0</td><td>0</td><td>0</td><td>0</td><td>340</td><td>0</td><td>0</td><td>0</td><td>0</td><td>0</td><td>0</td><td>0</td><td>0</td><td>0</td><td>0</td><td>0</td><td>0</td><td>0</td><td>0</td></tr><tr><td>&quot;Nicaragua&quot;</td><td>&quot;NIC&quot;</td><td>&quot;Americas&quot;</td><td>0</td><td>0</td><td>0</td><td>0</td><td>0</td><td>0</td><td>0</td><td>0</td><td>0</td><td>0</td><td>0</td><td>0</td><td>0</td><td>0</td><td>0</td><td>0</td><td>0</td><td>0</td><td>0</td><td>0</td><td>0</td><td>0</td><td>0</td><td>0</td><td>0</td><td>0</td><td>0</td><td>0</td><td>0</td><td>0</td><td>0</td><td>0</td><td>0</td><td>0</td><td>0</td><td>0</td><td>0</td><td>0</td><td>0</td><td>24</td><td>0</td><td>0</td><td>0</td><td>0</td><td>0</td><td>0</td><td>0</td><td>0</td><td>0</td><td>0</td><td>0</td><td>0</td><td>0</td></tr><tr><td>&quot;Peru&quot;</td><td>&quot;PER&quot;</td><td>&quot;Americas&quot;</td><td>0</td><td>0</td><td>0</td><td>0</td><td>0</td><td>0</td><td>0</td><td>0</td><td>0</td><td>0</td><td>0</td><td>0</td><td>0</td><td>0</td><td>570</td><td>0</td><td>0</td><td>0</td><td>0</td><td>0</td><td>0</td><td>0</td><td>0</td><td>0</td><td>0</td><td>0</td><td>0</td><td>0</td><td>0</td><td>0</td><td>0</td><td>2625</td><td>5050</td><td>0</td><td>0</td><td>0</td><td>0</td><td>0</td><td>0</td><td>0</td><td>0</td><td>0</td><td>0</td><td>0</td><td>0</td><td>0</td><td>0</td><td>0</td><td>5193</td><td>9755</td><td>0</td><td>9720</td><td>0</td></tr><tr><td>&quot;Portugal&quot;</td><td>&quot;PRT&quot;</td><td>&quot;Europe&quot;</td><td>0</td><td>0</td><td>0</td><td>0</td><td>0</td><td>0</td><td>0</td><td>0</td><td>0</td><td>0</td><td>0</td><td>0</td><td>0</td><td>0</td><td>0</td><td>0</td><td>0</td><td>0</td><td>0</td><td>0</td><td>0</td><td>0</td><td>0</td><td>0</td><td>0</td><td>0</td><td>0</td><td>0</td><td>0</td><td>0</td><td>0</td><td>0</td><td>0</td><td>2100</td><td>16080</td><td>17741</td><td>17732</td><td>109074</td><td>49090</td><td>141000</td><td>4577</td><td>95</td><td>47172</td><td>23810</td><td>71544</td><td>47736</td><td>0</td><td>0</td><td>0</td><td>18328</td><td>7958</td><td>6358</td><td>1918</td></tr><tr><td>&quot;Senegal&quot;</td><td>&quot;SEN&quot;</td><td>&quot;Africa&quot;</td><td>0</td><td>0</td><td>0</td><td>0</td><td>0</td><td>0</td><td>0</td><td>0</td><td>0</td><td>0</td><td>284</td><td>178</td><td>567</td><td>353</td><td>0</td><td>0</td><td>0</td><td>0</td><td>0</td><td>0</td><td>0</td><td>0</td><td>0</td><td>0</td><td>0</td><td>0</td><td>0</td><td>0</td><td>0</td><td>0</td><td>0</td><td>0</td><td>0</td><td>0</td><td>0</td><td>0</td><td>0</td><td>0</td><td>0</td><td>0</td><td>0</td><td>0</td><td>0</td><td>0</td><td>0</td><td>0</td><td>0</td><td>0</td><td>0</td><td>0</td><td>0</td><td>0</td><td>0</td></tr><tr><td>&quot;Togo&quot;</td><td>&quot;TGO&quot;</td><td>&quot;Africa&quot;</td><td>0</td><td>0</td><td>0</td><td>0</td><td>0</td><td>0</td><td>0</td><td>0</td><td>0</td><td>0</td><td>0</td><td>0</td><td>0</td><td>0</td><td>0</td><td>0</td><td>0</td><td>0</td><td>0</td><td>0</td><td>0</td><td>0</td><td>0</td><td>0</td><td>0</td><td>0</td><td>0</td><td>0</td><td>0</td><td>0</td><td>0</td><td>0</td><td>0</td><td>0</td><td>0</td><td>0</td><td>24</td><td>11</td><td>5160</td><td>0</td><td>0</td><td>0</td><td>0</td><td>0</td><td>0</td><td>0</td><td>0</td><td>0</td><td>0</td><td>0</td><td>0</td><td>1890</td><td>17317</td></tr><tr><td>&quot;Venezuela&quot;</td><td>&quot;VEN&quot;</td><td>&quot;Americas&quot;</td><td>0</td><td>3200</td><td>1350</td><td>11700</td><td>9830</td><td>4050</td><td>0</td><td>0</td><td>0</td><td>0</td><td>0</td><td>0</td><td>0</td><td>0</td><td>0</td><td>0</td><td>0</td><td>0</td><td>0</td><td>0</td><td>0</td><td>0</td><td>0</td><td>0</td><td>0</td><td>0</td><td>0</td><td>0</td><td>0</td><td>0</td><td>0</td><td>0</td><td>0</td><td>0</td><td>0</td><td>0</td><td>0</td><td>20700</td><td>0</td><td>0</td><td>0</td><td>0</td><td>1029</td><td>0</td><td>14</td><td>0</td><td>0</td><td>680</td><td>71</td><td>0</td><td>4086</td><td>26415</td><td>23220</td></tr></tbody></table></div>"
      ],
      "text/plain": [
       "shape: (22, 56)\n",
       "┌────────────┬───────────┬───────────┬──────┬───┬───────┬──────┬───────┬───────┐\n",
       "│ country    ┆ iso_alpha ┆ continent ┆ 1970 ┆ … ┆ 2019  ┆ 2020 ┆ 2021  ┆ 2022  │\n",
       "│ ---        ┆ ---       ┆ ---       ┆ ---  ┆   ┆ ---   ┆ ---  ┆ ---   ┆ ---   │\n",
       "│ str        ┆ str       ┆ str       ┆ i64  ┆   ┆ i64   ┆ i64  ┆ i64   ┆ i64   │\n",
       "╞════════════╪═══════════╪═══════════╪══════╪═══╪═══════╪══════╪═══════╪═══════╡\n",
       "│ Angola     ┆ AGO       ┆ Africa    ┆ 0    ┆ … ┆ 345   ┆ 0    ┆ 0     ┆ 4068  │\n",
       "│ Argentina  ┆ ARG       ┆ Americas  ┆ 0    ┆ … ┆ 0     ┆ 1015 ┆ 6     ┆ 480   │\n",
       "│ Bangladesh ┆ BGD       ┆ Asia      ┆ 0    ┆ … ┆ 0     ┆ 3    ┆ 2     ┆ 7     │\n",
       "│ Benin      ┆ BEN       ┆ Africa    ┆ 0    ┆ … ┆ 9     ┆ 0    ┆ 0     ┆ 0     │\n",
       "│ …          ┆ …         ┆ …         ┆ …    ┆ … ┆ …     ┆ …    ┆ …     ┆ …     │\n",
       "│ Portugal   ┆ PRT       ┆ Europe    ┆ 0    ┆ … ┆ 18328 ┆ 7958 ┆ 6358  ┆ 1918  │\n",
       "│ Senegal    ┆ SEN       ┆ Africa    ┆ 0    ┆ … ┆ 0     ┆ 0    ┆ 0     ┆ 0     │\n",
       "│ Togo       ┆ TGO       ┆ Africa    ┆ 0    ┆ … ┆ 0     ┆ 0    ┆ 1890  ┆ 17317 │\n",
       "│ Venezuela  ┆ VEN       ┆ Americas  ┆ 0    ┆ … ┆ 0     ┆ 4086 ┆ 26415 ┆ 23220 │\n",
       "└────────────┴───────────┴───────────┴──────┴───┴───────┴──────┴───────┴───────┘"
      ]
     },
     "execution_count": 69,
     "metadata": {},
     "output_type": "execute_result"
    }
   ],
   "source": []
  },
  {
   "cell_type": "code",
   "execution_count": null,
   "metadata": {},
   "outputs": [],
   "source": []
  },
  {
   "cell_type": "code",
   "execution_count": null,
   "metadata": {},
   "outputs": [],
   "source": []
  },
  {
   "cell_type": "code",
   "execution_count": null,
   "metadata": {},
   "outputs": [],
   "source": []
  }
 ],
 "metadata": {
  "kernelspec": {
   "display_name": "Python 3 (ipykernel)",
   "language": "python",
   "name": "python3"
  },
  "language_info": {
   "codemirror_mode": {
    "name": "ipython",
    "version": 3
   },
   "file_extension": ".py",
   "mimetype": "text/x-python",
   "name": "python",
   "nbconvert_exporter": "python",
   "pygments_lexer": "ipython3",
   "version": "3.11.6"
  }
 },
 "nbformat": 4,
 "nbformat_minor": 4
}
