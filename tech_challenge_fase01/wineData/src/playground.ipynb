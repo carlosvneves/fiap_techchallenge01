{
 "cells": [
  {
   "cell_type": "code",
   "execution_count": 3,
   "metadata": {},
   "outputs": [],
   "source": [
    "import polars as pl \n",
    "import pandas as pd \n",
    "import polars.selectors as cs\n"
   ]
  },
  {
   "cell_type": "code",
   "execution_count": 13,
   "id": "b04f10a1",
   "metadata": {},
   "outputs": [
    {
     "data": {
      "text/html": [
       "<div><style>\n",
       ".dataframe > thead > tr > th,\n",
       ".dataframe > tbody > tr > td {\n",
       "  text-align: right;\n",
       "  white-space: pre-wrap;\n",
       "}\n",
       "</style>\n",
       "<small>shape: (5, 34)</small><table border=\"1\" class=\"dataframe\"><thead><tr><th>Id</th><th>País</th><th>2007</th><th>2007_duplicated_0</th><th>2008</th><th>2008_duplicated_0</th><th>2009</th><th>2009_duplicated_0</th><th>2010</th><th>2010_duplicated_0</th><th>2011</th><th>2011_duplicated_0</th><th>2012</th><th>2012_duplicated_0</th><th>2013</th><th>2013_duplicated_0</th><th>2014</th><th>2014_duplicated_0</th><th>2015</th><th>2015_duplicated_0</th><th>2016</th><th>2016_duplicated_0</th><th>2017</th><th>2017_duplicated_0</th><th>2018</th><th>2018_duplicated_0</th><th>2019</th><th>2019_duplicated_0</th><th>2020</th><th>2020_duplicated_0</th><th>2021</th><th>2021_duplicated_0</th><th>2022</th><th>2022_duplicated_0</th></tr><tr><td>i64</td><td>str</td><td>i64</td><td>i64</td><td>i64</td><td>i64</td><td>i64</td><td>i64</td><td>i64</td><td>i64</td><td>i64</td><td>i64</td><td>i64</td><td>i64</td><td>i64</td><td>i64</td><td>i64</td><td>i64</td><td>i64</td><td>i64</td><td>i64</td><td>i64</td><td>i64</td><td>i64</td><td>i64</td><td>i64</td><td>i64</td><td>i64</td><td>i64</td><td>i64</td><td>i64</td><td>i64</td><td>i64</td><td>i64</td></tr></thead><tbody><tr><td>1</td><td>&quot;Afeganistão&quot;</td><td>0</td><td>0</td><td>0</td><td>0</td><td>0</td><td>0</td><td>0</td><td>0</td><td>0</td><td>0</td><td>0</td><td>0</td><td>0</td><td>0</td><td>0</td><td>0</td><td>0</td><td>0</td><td>0</td><td>0</td><td>0</td><td>0</td><td>0</td><td>0</td><td>0</td><td>0</td><td>0</td><td>0</td><td>11</td><td>46</td><td>0</td><td>0</td></tr><tr><td>2</td><td>&quot;África do Sul&quot;</td><td>0</td><td>0</td><td>0</td><td>0</td><td>0</td><td>0</td><td>0</td><td>0</td><td>0</td><td>0</td><td>0</td><td>0</td><td>0</td><td>0</td><td>0</td><td>0</td><td>0</td><td>0</td><td>0</td><td>0</td><td>0</td><td>0</td><td>0</td><td>0</td><td>26</td><td>95</td><td>4</td><td>21</td><td>0</td><td>0</td><td>0</td><td>0</td></tr><tr><td>3</td><td>&quot;Alemanha, Repú…</td><td>119512</td><td>238052</td><td>265742</td><td>429970</td><td>225086</td><td>393482</td><td>27715</td><td>138666</td><td>36070</td><td>144150</td><td>8189</td><td>56342</td><td>61699</td><td>265978</td><td>213348</td><td>761653</td><td>10680</td><td>44780</td><td>14012</td><td>68109</td><td>15467</td><td>87702</td><td>10794</td><td>45382</td><td>3660</td><td>25467</td><td>6261</td><td>32605</td><td>2698</td><td>6741</td><td>7630</td><td>45367</td></tr><tr><td>4</td><td>&quot;Angola&quot;</td><td>25931</td><td>49753</td><td>25721</td><td>71083</td><td>54786</td><td>84235</td><td>33557</td><td>189891</td><td>13889</td><td>69001</td><td>2833</td><td>8861</td><td>1573</td><td>9300</td><td>12182</td><td>23124</td><td>1908</td><td>17089</td><td>7359</td><td>35390</td><td>10170</td><td>61680</td><td>477</td><td>709</td><td>345</td><td>1065</td><td>0</td><td>0</td><td>0</td><td>0</td><td>4068</td><td>4761</td></tr><tr><td>5</td><td>&quot;Anguilla&quot;</td><td>0</td><td>0</td><td>0</td><td>0</td><td>0</td><td>0</td><td>0</td><td>0</td><td>0</td><td>0</td><td>0</td><td>0</td><td>0</td><td>0</td><td>0</td><td>0</td><td>0</td><td>0</td><td>0</td><td>0</td><td>0</td><td>0</td><td>0</td><td>0</td><td>0</td><td>0</td><td>0</td><td>0</td><td>0</td><td>0</td><td>0</td><td>0</td></tr></tbody></table></div>"
      ],
      "text/plain": [
       "shape: (5, 34)\n",
       "┌─────┬────────────────┬────────┬────────────────┬───┬──────┬───────────────┬──────┬───────────────┐\n",
       "│ Id  ┆ País           ┆ 2007   ┆ 2007_duplicate ┆ … ┆ 2021 ┆ 2021_duplicat ┆ 2022 ┆ 2022_duplicat │\n",
       "│ --- ┆ ---            ┆ ---    ┆ d_0            ┆   ┆ ---  ┆ ed_0          ┆ ---  ┆ ed_0          │\n",
       "│ i64 ┆ str            ┆ i64    ┆ ---            ┆   ┆ i64  ┆ ---           ┆ i64  ┆ ---           │\n",
       "│     ┆                ┆        ┆ i64            ┆   ┆      ┆ i64           ┆      ┆ i64           │\n",
       "╞═════╪════════════════╪════════╪════════════════╪═══╪══════╪═══════════════╪══════╪═══════════════╡\n",
       "│ 1   ┆ Afeganistão    ┆ 0      ┆ 0              ┆ … ┆ 11   ┆ 46            ┆ 0    ┆ 0             │\n",
       "│ 2   ┆ África do Sul  ┆ 0      ┆ 0              ┆ … ┆ 0    ┆ 0             ┆ 0    ┆ 0             │\n",
       "│ 3   ┆ Alemanha,      ┆ 119512 ┆ 238052         ┆ … ┆ 2698 ┆ 6741          ┆ 7630 ┆ 45367         │\n",
       "│     ┆ República      ┆        ┆                ┆   ┆      ┆               ┆      ┆               │\n",
       "│     ┆ Democrática    ┆        ┆                ┆   ┆      ┆               ┆      ┆               │\n",
       "│ 4   ┆ Angola         ┆ 25931  ┆ 49753          ┆ … ┆ 0    ┆ 0             ┆ 4068 ┆ 4761          │\n",
       "│ 5   ┆ Anguilla       ┆ 0      ┆ 0              ┆ … ┆ 0    ┆ 0             ┆ 0    ┆ 0             │\n",
       "└─────┴────────────────┴────────┴────────────────┴───┴──────┴───────────────┴──────┴───────────────┘"
      ]
     },
     "execution_count": 13,
     "metadata": {},
     "output_type": "execute_result"
    }
   ],
   "source": [
    "exp_vinho = (pl.read_csv(\"../data/ExpVinho.csv\", separator=\";\") # lê os dados\n",
    "             .select(~cs.starts_with(\"19\") &                    # exclui colunas correspondentes ao século XX\n",
    "                     ~cs.matches(r\"(\\b(200[0-6]))\") &                   \n",
    "                     ~cs.matches(r\"(\\b(200[0-6])_duplicated_0\\b)\")) # exclui colunas de 2000 a 2006    \n",
    "             )\n",
    "exp_vinho.head()"
   ]
  },
  {
   "cell_type": "code",
   "execution_count": 21,
   "id": "b9f9a2eb",
   "metadata": {},
   "outputs": [
    {
     "name": "stdout",
     "output_type": "stream",
     "text": [
      "2001_qtd\n",
      "2001_qtd_duplicated_0\n",
      "2002_qtd_name3\n",
      "other_text\n"
     ]
    }
   ],
   "source": [
    "import re\n",
    "\n",
    "# Define your regular expression pattern\n",
    "pattern = r'((\\d{4}|\\d{4}_duplicated_0))'\n",
    "\n",
    "# Your original list of strings\n",
    "strings = [\"2001\", \"2001_duplicated_0\", \"2002_name3\", \"other_text\"]\n",
    "\n",
    "# Define a function to use in re.sub()\n",
    "def replace(match):\n",
    "    year = match.group(1)\n",
    "    name = match.group(2)\n",
    "    new_name = f\"{year}_qtd\"\n",
    "    return new_name\n",
    "\n",
    "# Use re.sub() to apply the replacement\n",
    "new_strings = [re.sub(pattern, replace, string) for string in strings]\n",
    "\n",
    "# Print the renamed strings\n",
    "for new_string in new_strings:\n",
    "    print(new_string)\n"
   ]
  },
  {
   "cell_type": "code",
   "execution_count": 23,
   "id": "02bc4e50",
   "metadata": {},
   "outputs": [
    {
     "data": {
      "text/html": [
       "<div><style>\n",
       ".dataframe > thead > tr > th,\n",
       ".dataframe > tbody > tr > td {\n",
       "  text-align: right;\n",
       "  white-space: pre-wrap;\n",
       "}\n",
       "</style>\n",
       "<small>shape: (5, 34)</small><table border=\"1\" class=\"dataframe\"><thead><tr><th>Id</th><th>País</th><th>2007</th><th>2007_val</th><th>2008</th><th>2008_val</th><th>2009</th><th>2009_val</th><th>2010</th><th>2010_val</th><th>2011</th><th>2011_val</th><th>2012</th><th>2012_val</th><th>2013</th><th>2013_val</th><th>2014</th><th>2014_val</th><th>2015</th><th>2015_val</th><th>2016</th><th>2016_val</th><th>2017</th><th>2017_val</th><th>2018</th><th>2018_val</th><th>2019</th><th>2019_val</th><th>2020</th><th>2020_val</th><th>2021</th><th>2021_val</th><th>2022</th><th>2022_val</th></tr><tr><td>i64</td><td>str</td><td>i64</td><td>i64</td><td>i64</td><td>i64</td><td>i64</td><td>i64</td><td>i64</td><td>i64</td><td>i64</td><td>i64</td><td>i64</td><td>i64</td><td>i64</td><td>i64</td><td>i64</td><td>i64</td><td>i64</td><td>i64</td><td>i64</td><td>i64</td><td>i64</td><td>i64</td><td>i64</td><td>i64</td><td>i64</td><td>i64</td><td>i64</td><td>i64</td><td>i64</td><td>i64</td><td>i64</td><td>i64</td></tr></thead><tbody><tr><td>1</td><td>&quot;Afeganistão&quot;</td><td>0</td><td>0</td><td>0</td><td>0</td><td>0</td><td>0</td><td>0</td><td>0</td><td>0</td><td>0</td><td>0</td><td>0</td><td>0</td><td>0</td><td>0</td><td>0</td><td>0</td><td>0</td><td>0</td><td>0</td><td>0</td><td>0</td><td>0</td><td>0</td><td>0</td><td>0</td><td>0</td><td>0</td><td>11</td><td>46</td><td>0</td><td>0</td></tr><tr><td>2</td><td>&quot;África do Sul&quot;</td><td>0</td><td>0</td><td>0</td><td>0</td><td>0</td><td>0</td><td>0</td><td>0</td><td>0</td><td>0</td><td>0</td><td>0</td><td>0</td><td>0</td><td>0</td><td>0</td><td>0</td><td>0</td><td>0</td><td>0</td><td>0</td><td>0</td><td>0</td><td>0</td><td>26</td><td>95</td><td>4</td><td>21</td><td>0</td><td>0</td><td>0</td><td>0</td></tr><tr><td>3</td><td>&quot;Alemanha, Repú…</td><td>119512</td><td>238052</td><td>265742</td><td>429970</td><td>225086</td><td>393482</td><td>27715</td><td>138666</td><td>36070</td><td>144150</td><td>8189</td><td>56342</td><td>61699</td><td>265978</td><td>213348</td><td>761653</td><td>10680</td><td>44780</td><td>14012</td><td>68109</td><td>15467</td><td>87702</td><td>10794</td><td>45382</td><td>3660</td><td>25467</td><td>6261</td><td>32605</td><td>2698</td><td>6741</td><td>7630</td><td>45367</td></tr><tr><td>4</td><td>&quot;Angola&quot;</td><td>25931</td><td>49753</td><td>25721</td><td>71083</td><td>54786</td><td>84235</td><td>33557</td><td>189891</td><td>13889</td><td>69001</td><td>2833</td><td>8861</td><td>1573</td><td>9300</td><td>12182</td><td>23124</td><td>1908</td><td>17089</td><td>7359</td><td>35390</td><td>10170</td><td>61680</td><td>477</td><td>709</td><td>345</td><td>1065</td><td>0</td><td>0</td><td>0</td><td>0</td><td>4068</td><td>4761</td></tr><tr><td>5</td><td>&quot;Anguilla&quot;</td><td>0</td><td>0</td><td>0</td><td>0</td><td>0</td><td>0</td><td>0</td><td>0</td><td>0</td><td>0</td><td>0</td><td>0</td><td>0</td><td>0</td><td>0</td><td>0</td><td>0</td><td>0</td><td>0</td><td>0</td><td>0</td><td>0</td><td>0</td><td>0</td><td>0</td><td>0</td><td>0</td><td>0</td><td>0</td><td>0</td><td>0</td><td>0</td></tr></tbody></table></div>"
      ],
      "text/plain": [
       "shape: (5, 34)\n",
       "┌─────┬─────────────────────┬────────┬──────────┬───┬──────┬──────────┬──────┬──────────┐\n",
       "│ Id  ┆ País                ┆ 2007   ┆ 2007_val ┆ … ┆ 2021 ┆ 2021_val ┆ 2022 ┆ 2022_val │\n",
       "│ --- ┆ ---                 ┆ ---    ┆ ---      ┆   ┆ ---  ┆ ---      ┆ ---  ┆ ---      │\n",
       "│ i64 ┆ str                 ┆ i64    ┆ i64      ┆   ┆ i64  ┆ i64      ┆ i64  ┆ i64      │\n",
       "╞═════╪═════════════════════╪════════╪══════════╪═══╪══════╪══════════╪══════╪══════════╡\n",
       "│ 1   ┆ Afeganistão         ┆ 0      ┆ 0        ┆ … ┆ 11   ┆ 46       ┆ 0    ┆ 0        │\n",
       "│ 2   ┆ África do Sul       ┆ 0      ┆ 0        ┆ … ┆ 0    ┆ 0        ┆ 0    ┆ 0        │\n",
       "│ 3   ┆ Alemanha, República ┆ 119512 ┆ 238052   ┆ … ┆ 2698 ┆ 6741     ┆ 7630 ┆ 45367    │\n",
       "│     ┆ Democrática         ┆        ┆          ┆   ┆      ┆          ┆      ┆          │\n",
       "│ 4   ┆ Angola              ┆ 25931  ┆ 49753    ┆ … ┆ 0    ┆ 0        ┆ 4068 ┆ 4761     │\n",
       "│ 5   ┆ Anguilla            ┆ 0      ┆ 0        ┆ … ┆ 0    ┆ 0        ┆ 0    ┆ 0        │\n",
       "└─────┴─────────────────────┴────────┴──────────┴───┴──────┴──────────┴──────┴──────────┘"
      ]
     },
     "execution_count": 23,
     "metadata": {},
     "output_type": "execute_result"
    }
   ],
   "source": [
    "old_cols = exp_vinho.columns\n",
    "exp_vinho = (exp_vinho\n",
    "    \n",
    "    .rename({col: col.replace(\"_duplicated_0\", \"_val\") for col in old_cols}) # renomeia as colunas para acrescentar o sufixo _val(US$)\n",
    "    #.rename({col: re.sub(pattern, replace, col) for col in old_cols})\n",
    "    \n",
    ")\n",
    "\n",
    "exp_vinho.head()"
   ]
  },
  {
   "cell_type": "code",
   "execution_count": null,
   "id": "261ed790",
   "metadata": {},
   "outputs": [],
   "source": []
  }
 ],
 "metadata": {
  "kernelspec": {
   "display_name": "winedata-Vmd1qRfz-py3.11",
   "language": "python",
   "name": "python3"
  },
  "language_info": {
   "codemirror_mode": {
    "name": "ipython",
    "version": 3
   },
   "file_extension": ".py",
   "mimetype": "text/x-python",
   "name": "python",
   "nbconvert_exporter": "python",
   "pygments_lexer": "ipython3",
   "version": "3.11.2"
  }
 },
 "nbformat": 4,
 "nbformat_minor": 5
}
