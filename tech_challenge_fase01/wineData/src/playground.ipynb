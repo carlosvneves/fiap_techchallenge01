{
 "cells": [
  {
   "cell_type": "code",
   "execution_count": 1,
   "metadata": {},
   "outputs": [],
   "source": [
    "import polars as pl \n",
    "import pandas as pd \n",
    "import polars.selectors as cs\n",
    "import plotly.express as px"
   ]
  },
  {
   "cell_type": "markdown",
   "id": "79b1c43a",
   "metadata": {},
   "source": [
    "# Leitura dos dados e preparação para a análise"
   ]
  },
  {
   "cell_type": "code",
   "execution_count": 2,
   "id": "b04f10a1",
   "metadata": {},
   "outputs": [
    {
     "data": {
      "text/html": [
       "<div><style>\n",
       ".dataframe > thead > tr > th,\n",
       ".dataframe > tbody > tr > td {\n",
       "  text-align: right;\n",
       "  white-space: pre-wrap;\n",
       "}\n",
       "</style>\n",
       "<small>shape: (5, 34)</small><table border=\"1\" class=\"dataframe\"><thead><tr><th>Id</th><th>País</th><th>2007</th><th>2007_duplicated_0</th><th>2008</th><th>2008_duplicated_0</th><th>2009</th><th>2009_duplicated_0</th><th>2010</th><th>2010_duplicated_0</th><th>2011</th><th>2011_duplicated_0</th><th>2012</th><th>2012_duplicated_0</th><th>2013</th><th>2013_duplicated_0</th><th>2014</th><th>2014_duplicated_0</th><th>2015</th><th>2015_duplicated_0</th><th>2016</th><th>2016_duplicated_0</th><th>2017</th><th>2017_duplicated_0</th><th>2018</th><th>2018_duplicated_0</th><th>2019</th><th>2019_duplicated_0</th><th>2020</th><th>2020_duplicated_0</th><th>2021</th><th>2021_duplicated_0</th><th>2022</th><th>2022_duplicated_0</th></tr><tr><td>i64</td><td>str</td><td>i64</td><td>i64</td><td>i64</td><td>i64</td><td>i64</td><td>i64</td><td>i64</td><td>i64</td><td>i64</td><td>i64</td><td>i64</td><td>i64</td><td>i64</td><td>i64</td><td>i64</td><td>i64</td><td>i64</td><td>i64</td><td>i64</td><td>i64</td><td>i64</td><td>i64</td><td>i64</td><td>i64</td><td>i64</td><td>i64</td><td>i64</td><td>i64</td><td>i64</td><td>i64</td><td>i64</td><td>i64</td></tr></thead><tbody><tr><td>1</td><td>&quot;Afeganistão&quot;</td><td>0</td><td>0</td><td>0</td><td>0</td><td>0</td><td>0</td><td>0</td><td>0</td><td>0</td><td>0</td><td>0</td><td>0</td><td>0</td><td>0</td><td>0</td><td>0</td><td>0</td><td>0</td><td>0</td><td>0</td><td>0</td><td>0</td><td>0</td><td>0</td><td>0</td><td>0</td><td>0</td><td>0</td><td>11</td><td>46</td><td>0</td><td>0</td></tr><tr><td>2</td><td>&quot;África do Sul&quot;</td><td>0</td><td>0</td><td>0</td><td>0</td><td>0</td><td>0</td><td>0</td><td>0</td><td>0</td><td>0</td><td>0</td><td>0</td><td>0</td><td>0</td><td>0</td><td>0</td><td>0</td><td>0</td><td>0</td><td>0</td><td>0</td><td>0</td><td>0</td><td>0</td><td>26</td><td>95</td><td>4</td><td>21</td><td>0</td><td>0</td><td>0</td><td>0</td></tr><tr><td>3</td><td>&quot;Alemanha, Repú…</td><td>119512</td><td>238052</td><td>265742</td><td>429970</td><td>225086</td><td>393482</td><td>27715</td><td>138666</td><td>36070</td><td>144150</td><td>8189</td><td>56342</td><td>61699</td><td>265978</td><td>213348</td><td>761653</td><td>10680</td><td>44780</td><td>14012</td><td>68109</td><td>15467</td><td>87702</td><td>10794</td><td>45382</td><td>3660</td><td>25467</td><td>6261</td><td>32605</td><td>2698</td><td>6741</td><td>7630</td><td>45367</td></tr><tr><td>4</td><td>&quot;Angola&quot;</td><td>25931</td><td>49753</td><td>25721</td><td>71083</td><td>54786</td><td>84235</td><td>33557</td><td>189891</td><td>13889</td><td>69001</td><td>2833</td><td>8861</td><td>1573</td><td>9300</td><td>12182</td><td>23124</td><td>1908</td><td>17089</td><td>7359</td><td>35390</td><td>10170</td><td>61680</td><td>477</td><td>709</td><td>345</td><td>1065</td><td>0</td><td>0</td><td>0</td><td>0</td><td>4068</td><td>4761</td></tr><tr><td>5</td><td>&quot;Anguilla&quot;</td><td>0</td><td>0</td><td>0</td><td>0</td><td>0</td><td>0</td><td>0</td><td>0</td><td>0</td><td>0</td><td>0</td><td>0</td><td>0</td><td>0</td><td>0</td><td>0</td><td>0</td><td>0</td><td>0</td><td>0</td><td>0</td><td>0</td><td>0</td><td>0</td><td>0</td><td>0</td><td>0</td><td>0</td><td>0</td><td>0</td><td>0</td><td>0</td></tr></tbody></table></div>"
      ],
      "text/plain": [
       "shape: (5, 34)\n",
       "┌─────┬────────────────┬────────┬────────────────┬───┬──────┬───────────────┬──────┬───────────────┐\n",
       "│ Id  ┆ País           ┆ 2007   ┆ 2007_duplicate ┆ … ┆ 2021 ┆ 2021_duplicat ┆ 2022 ┆ 2022_duplicat │\n",
       "│ --- ┆ ---            ┆ ---    ┆ d_0            ┆   ┆ ---  ┆ ed_0          ┆ ---  ┆ ed_0          │\n",
       "│ i64 ┆ str            ┆ i64    ┆ ---            ┆   ┆ i64  ┆ ---           ┆ i64  ┆ ---           │\n",
       "│     ┆                ┆        ┆ i64            ┆   ┆      ┆ i64           ┆      ┆ i64           │\n",
       "╞═════╪════════════════╪════════╪════════════════╪═══╪══════╪═══════════════╪══════╪═══════════════╡\n",
       "│ 1   ┆ Afeganistão    ┆ 0      ┆ 0              ┆ … ┆ 11   ┆ 46            ┆ 0    ┆ 0             │\n",
       "│ 2   ┆ África do Sul  ┆ 0      ┆ 0              ┆ … ┆ 0    ┆ 0             ┆ 0    ┆ 0             │\n",
       "│ 3   ┆ Alemanha,      ┆ 119512 ┆ 238052         ┆ … ┆ 2698 ┆ 6741          ┆ 7630 ┆ 45367         │\n",
       "│     ┆ República      ┆        ┆                ┆   ┆      ┆               ┆      ┆               │\n",
       "│     ┆ Democrática    ┆        ┆                ┆   ┆      ┆               ┆      ┆               │\n",
       "│ 4   ┆ Angola         ┆ 25931  ┆ 49753          ┆ … ┆ 0    ┆ 0             ┆ 4068 ┆ 4761          │\n",
       "│ 5   ┆ Anguilla       ┆ 0      ┆ 0              ┆ … ┆ 0    ┆ 0             ┆ 0    ┆ 0             │\n",
       "└─────┴────────────────┴────────┴────────────────┴───┴──────┴───────────────┴──────┴───────────────┘"
      ]
     },
     "execution_count": 2,
     "metadata": {},
     "output_type": "execute_result"
    }
   ],
   "source": [
    "exp_vinho = (pl.read_csv(\"../data/ExpVinho.csv\", separator=\";\") # lê os dados\n",
    "             .select(~cs.starts_with(\"19\") &                    # exclui colunas correspondentes ao século XX\n",
    "                     ~cs.matches(r\"(\\b(200[0-6]))\") &                   \n",
    "                     ~cs.matches(r\"(\\b(200[0-6])_duplicated_0\\b)\")) # exclui colunas de 2000 a 2006    \n",
    "             )\n",
    "exp_vinho.head()"
   ]
  },
  {
   "cell_type": "code",
   "execution_count": 21,
   "id": "b9f9a2eb",
   "metadata": {},
   "outputs": [
    {
     "name": "stdout",
     "output_type": "stream",
     "text": [
      "2001_qtd\n",
      "2001_qtd_duplicated_0\n",
      "2002_qtd_name3\n",
      "other_text\n"
     ]
    }
   ],
   "source": [
    "import re\n",
    "\n",
    "# Define your regular expression pattern\n",
    "pattern = r'((\\d{4}|\\d{4}_duplicated_0))'\n",
    "\n",
    "# Your original list of strings\n",
    "strings = [\"2001\", \"2001_duplicated_0\", \"2002_name3\", \"other_text\"]\n",
    "\n",
    "# Define a function to use in re.sub()\n",
    "def replace(match):\n",
    "    year = match.group(1)\n",
    "    name = match.group(2)\n",
    "    new_name = f\"{year}_qtd\"\n",
    "    return new_name\n",
    "\n",
    "# Use re.sub() to apply the replacement\n",
    "new_strings = [re.sub(pattern, replace, string) for string in strings]\n",
    "\n",
    "# Print the renamed strings\n",
    "for new_string in new_strings:\n",
    "    print(new_string)\n"
   ]
  },
  {
   "cell_type": "code",
   "execution_count": 3,
   "id": "02bc4e50",
   "metadata": {},
   "outputs": [
    {
     "data": {
      "text/html": [
       "<div><style>\n",
       ".dataframe > thead > tr > th,\n",
       ".dataframe > tbody > tr > td {\n",
       "  text-align: right;\n",
       "  white-space: pre-wrap;\n",
       "}\n",
       "</style>\n",
       "<small>shape: (5, 34)</small><table border=\"1\" class=\"dataframe\"><thead><tr><th>Id</th><th>Country</th><th>2007</th><th>2007_val</th><th>2008</th><th>2008_val</th><th>2009</th><th>2009_val</th><th>2010</th><th>2010_val</th><th>2011</th><th>2011_val</th><th>2012</th><th>2012_val</th><th>2013</th><th>2013_val</th><th>2014</th><th>2014_val</th><th>2015</th><th>2015_val</th><th>2016</th><th>2016_val</th><th>2017</th><th>2017_val</th><th>2018</th><th>2018_val</th><th>2019</th><th>2019_val</th><th>2020</th><th>2020_val</th><th>2021</th><th>2021_val</th><th>2022</th><th>2022_val</th></tr><tr><td>i64</td><td>str</td><td>i64</td><td>i64</td><td>i64</td><td>i64</td><td>i64</td><td>i64</td><td>i64</td><td>i64</td><td>i64</td><td>i64</td><td>i64</td><td>i64</td><td>i64</td><td>i64</td><td>i64</td><td>i64</td><td>i64</td><td>i64</td><td>i64</td><td>i64</td><td>i64</td><td>i64</td><td>i64</td><td>i64</td><td>i64</td><td>i64</td><td>i64</td><td>i64</td><td>i64</td><td>i64</td><td>i64</td><td>i64</td></tr></thead><tbody><tr><td>1</td><td>&quot;Afeganistão&quot;</td><td>0</td><td>0</td><td>0</td><td>0</td><td>0</td><td>0</td><td>0</td><td>0</td><td>0</td><td>0</td><td>0</td><td>0</td><td>0</td><td>0</td><td>0</td><td>0</td><td>0</td><td>0</td><td>0</td><td>0</td><td>0</td><td>0</td><td>0</td><td>0</td><td>0</td><td>0</td><td>0</td><td>0</td><td>11</td><td>46</td><td>0</td><td>0</td></tr><tr><td>2</td><td>&quot;África do Sul&quot;</td><td>0</td><td>0</td><td>0</td><td>0</td><td>0</td><td>0</td><td>0</td><td>0</td><td>0</td><td>0</td><td>0</td><td>0</td><td>0</td><td>0</td><td>0</td><td>0</td><td>0</td><td>0</td><td>0</td><td>0</td><td>0</td><td>0</td><td>0</td><td>0</td><td>26</td><td>95</td><td>4</td><td>21</td><td>0</td><td>0</td><td>0</td><td>0</td></tr><tr><td>3</td><td>&quot;Alemanha, Repú…</td><td>119512</td><td>238052</td><td>265742</td><td>429970</td><td>225086</td><td>393482</td><td>27715</td><td>138666</td><td>36070</td><td>144150</td><td>8189</td><td>56342</td><td>61699</td><td>265978</td><td>213348</td><td>761653</td><td>10680</td><td>44780</td><td>14012</td><td>68109</td><td>15467</td><td>87702</td><td>10794</td><td>45382</td><td>3660</td><td>25467</td><td>6261</td><td>32605</td><td>2698</td><td>6741</td><td>7630</td><td>45367</td></tr><tr><td>4</td><td>&quot;Angola&quot;</td><td>25931</td><td>49753</td><td>25721</td><td>71083</td><td>54786</td><td>84235</td><td>33557</td><td>189891</td><td>13889</td><td>69001</td><td>2833</td><td>8861</td><td>1573</td><td>9300</td><td>12182</td><td>23124</td><td>1908</td><td>17089</td><td>7359</td><td>35390</td><td>10170</td><td>61680</td><td>477</td><td>709</td><td>345</td><td>1065</td><td>0</td><td>0</td><td>0</td><td>0</td><td>4068</td><td>4761</td></tr><tr><td>5</td><td>&quot;Anguilla&quot;</td><td>0</td><td>0</td><td>0</td><td>0</td><td>0</td><td>0</td><td>0</td><td>0</td><td>0</td><td>0</td><td>0</td><td>0</td><td>0</td><td>0</td><td>0</td><td>0</td><td>0</td><td>0</td><td>0</td><td>0</td><td>0</td><td>0</td><td>0</td><td>0</td><td>0</td><td>0</td><td>0</td><td>0</td><td>0</td><td>0</td><td>0</td><td>0</td></tr></tbody></table></div>"
      ],
      "text/plain": [
       "shape: (5, 34)\n",
       "┌─────┬─────────────────────┬────────┬──────────┬───┬──────┬──────────┬──────┬──────────┐\n",
       "│ Id  ┆ Country             ┆ 2007   ┆ 2007_val ┆ … ┆ 2021 ┆ 2021_val ┆ 2022 ┆ 2022_val │\n",
       "│ --- ┆ ---                 ┆ ---    ┆ ---      ┆   ┆ ---  ┆ ---      ┆ ---  ┆ ---      │\n",
       "│ i64 ┆ str                 ┆ i64    ┆ i64      ┆   ┆ i64  ┆ i64      ┆ i64  ┆ i64      │\n",
       "╞═════╪═════════════════════╪════════╪══════════╪═══╪══════╪══════════╪══════╪══════════╡\n",
       "│ 1   ┆ Afeganistão         ┆ 0      ┆ 0        ┆ … ┆ 11   ┆ 46       ┆ 0    ┆ 0        │\n",
       "│ 2   ┆ África do Sul       ┆ 0      ┆ 0        ┆ … ┆ 0    ┆ 0        ┆ 0    ┆ 0        │\n",
       "│ 3   ┆ Alemanha, República ┆ 119512 ┆ 238052   ┆ … ┆ 2698 ┆ 6741     ┆ 7630 ┆ 45367    │\n",
       "│     ┆ Democrática         ┆        ┆          ┆   ┆      ┆          ┆      ┆          │\n",
       "│ 4   ┆ Angola              ┆ 25931  ┆ 49753    ┆ … ┆ 0    ┆ 0        ┆ 4068 ┆ 4761     │\n",
       "│ 5   ┆ Anguilla            ┆ 0      ┆ 0        ┆ … ┆ 0    ┆ 0        ┆ 0    ┆ 0        │\n",
       "└─────┴─────────────────────┴────────┴──────────┴───┴──────┴──────────┴──────┴──────────┘"
      ]
     },
     "execution_count": 3,
     "metadata": {},
     "output_type": "execute_result"
    }
   ],
   "source": [
    "old_cols = exp_vinho.columns\n",
    "exp_vinho = (exp_vinho\n",
    "    \n",
    "    .rename({col: col.replace(\"_duplicated_0\", \"_val\") for col in old_cols}) # renomeia as colunas para acrescentar o sufixo _val(US$)\n",
    "    #.rename({col: re.sub(pattern, replace, col) for col in old_cols})\n",
    "    .rename({\"País\":\"Country\"})\n",
    "    \n",
    ")\n",
    "\n",
    "exp_vinho.head()"
   ]
  },
  {
   "cell_type": "code",
   "execution_count": 114,
   "id": "01e4ab35",
   "metadata": {},
   "outputs": [
    {
     "data": {
      "text/html": [
       "<div><style>\n",
       ".dataframe > thead > tr > th,\n",
       ".dataframe > tbody > tr > td {\n",
       "  text-align: right;\n",
       "  white-space: pre-wrap;\n",
       "}\n",
       "</style>\n",
       "<small>shape: (5, 18)</small><table border=\"1\" class=\"dataframe\"><thead><tr><th>Id</th><th>Country</th><th>2007</th><th>2008</th><th>2009</th><th>2010</th><th>2011</th><th>2012</th><th>2013</th><th>2014</th><th>2015</th><th>2016</th><th>2017</th><th>2018</th><th>2019</th><th>2020</th><th>2021</th><th>2022</th></tr><tr><td>i64</td><td>str</td><td>i64</td><td>i64</td><td>i64</td><td>i64</td><td>i64</td><td>i64</td><td>i64</td><td>i64</td><td>i64</td><td>i64</td><td>i64</td><td>i64</td><td>i64</td><td>i64</td><td>i64</td><td>i64</td></tr></thead><tbody><tr><td>1</td><td>&quot;Afeganistão&quot;</td><td>0</td><td>0</td><td>0</td><td>0</td><td>0</td><td>0</td><td>0</td><td>0</td><td>0</td><td>0</td><td>0</td><td>0</td><td>0</td><td>0</td><td>11</td><td>0</td></tr><tr><td>2</td><td>&quot;África do Sul&quot;</td><td>0</td><td>0</td><td>0</td><td>0</td><td>0</td><td>0</td><td>0</td><td>0</td><td>0</td><td>0</td><td>0</td><td>0</td><td>26</td><td>4</td><td>0</td><td>0</td></tr><tr><td>3</td><td>&quot;Alemanha, Repú…</td><td>119512</td><td>265742</td><td>225086</td><td>27715</td><td>36070</td><td>8189</td><td>61699</td><td>213348</td><td>10680</td><td>14012</td><td>15467</td><td>10794</td><td>3660</td><td>6261</td><td>2698</td><td>7630</td></tr><tr><td>4</td><td>&quot;Angola&quot;</td><td>25931</td><td>25721</td><td>54786</td><td>33557</td><td>13889</td><td>2833</td><td>1573</td><td>12182</td><td>1908</td><td>7359</td><td>10170</td><td>477</td><td>345</td><td>0</td><td>0</td><td>4068</td></tr><tr><td>5</td><td>&quot;Anguilla&quot;</td><td>0</td><td>0</td><td>0</td><td>0</td><td>0</td><td>0</td><td>0</td><td>0</td><td>0</td><td>0</td><td>0</td><td>0</td><td>0</td><td>0</td><td>0</td><td>0</td></tr></tbody></table></div>"
      ],
      "text/plain": [
       "shape: (5, 18)\n",
       "┌─────┬─────────────────────────────────┬────────┬────────┬───┬──────┬──────┬──────┬──────┐\n",
       "│ Id  ┆ Country                         ┆ 2007   ┆ 2008   ┆ … ┆ 2019 ┆ 2020 ┆ 2021 ┆ 2022 │\n",
       "│ --- ┆ ---                             ┆ ---    ┆ ---    ┆   ┆ ---  ┆ ---  ┆ ---  ┆ ---  │\n",
       "│ i64 ┆ str                             ┆ i64    ┆ i64    ┆   ┆ i64  ┆ i64  ┆ i64  ┆ i64  │\n",
       "╞═════╪═════════════════════════════════╪════════╪════════╪═══╪══════╪══════╪══════╪══════╡\n",
       "│ 1   ┆ Afeganistão                     ┆ 0      ┆ 0      ┆ … ┆ 0    ┆ 0    ┆ 11   ┆ 0    │\n",
       "│ 2   ┆ África do Sul                   ┆ 0      ┆ 0      ┆ … ┆ 26   ┆ 4    ┆ 0    ┆ 0    │\n",
       "│ 3   ┆ Alemanha, República Democrática ┆ 119512 ┆ 265742 ┆ … ┆ 3660 ┆ 6261 ┆ 2698 ┆ 7630 │\n",
       "│ 4   ┆ Angola                          ┆ 25931  ┆ 25721  ┆ … ┆ 345  ┆ 0    ┆ 0    ┆ 4068 │\n",
       "│ 5   ┆ Anguilla                        ┆ 0      ┆ 0      ┆ … ┆ 0    ┆ 0    ┆ 0    ┆ 0    │\n",
       "└─────┴─────────────────────────────────┴────────┴────────┴───┴──────┴──────┴──────┴──────┘"
      ]
     },
     "execution_count": 114,
     "metadata": {},
     "output_type": "execute_result"
    }
   ],
   "source": [
    "exp_vinho_qtd = exp_vinho.select(cs.all() - cs.contains(\"_val\"))\n",
    "exp_vinho_qtd.head()"
   ]
  },
  {
   "cell_type": "code",
   "execution_count": 204,
   "id": "f800c380",
   "metadata": {},
   "outputs": [
    {
     "data": {
      "text/html": [
       "<div><style>\n",
       ".dataframe > thead > tr > th,\n",
       ".dataframe > tbody > tr > td {\n",
       "  text-align: right;\n",
       "  white-space: pre-wrap;\n",
       "}\n",
       "</style>\n",
       "<small>shape: (5, 18)</small><table border=\"1\" class=\"dataframe\"><thead><tr><th>Id</th><th>Country</th><th>2007</th><th>2008</th><th>2009</th><th>2010</th><th>2011</th><th>2012</th><th>2013</th><th>2014</th><th>2015</th><th>2016</th><th>2017</th><th>2018</th><th>2019</th><th>2020</th><th>2021</th><th>2022</th></tr><tr><td>i64</td><td>str</td><td>i64</td><td>i64</td><td>i64</td><td>i64</td><td>i64</td><td>i64</td><td>i64</td><td>i64</td><td>i64</td><td>i64</td><td>i64</td><td>i64</td><td>i64</td><td>i64</td><td>i64</td><td>i64</td></tr></thead><tbody><tr><td>1</td><td>&quot;Afeganistão&quot;</td><td>0</td><td>0</td><td>0</td><td>0</td><td>0</td><td>0</td><td>0</td><td>0</td><td>0</td><td>0</td><td>0</td><td>0</td><td>0</td><td>0</td><td>46</td><td>0</td></tr><tr><td>2</td><td>&quot;África do Sul&quot;</td><td>0</td><td>0</td><td>0</td><td>0</td><td>0</td><td>0</td><td>0</td><td>0</td><td>0</td><td>0</td><td>0</td><td>0</td><td>95</td><td>21</td><td>0</td><td>0</td></tr><tr><td>3</td><td>&quot;Alemanha, Repú…</td><td>238052</td><td>429970</td><td>393482</td><td>138666</td><td>144150</td><td>56342</td><td>265978</td><td>761653</td><td>44780</td><td>68109</td><td>87702</td><td>45382</td><td>25467</td><td>32605</td><td>6741</td><td>45367</td></tr><tr><td>4</td><td>&quot;Angola&quot;</td><td>49753</td><td>71083</td><td>84235</td><td>189891</td><td>69001</td><td>8861</td><td>9300</td><td>23124</td><td>17089</td><td>35390</td><td>61680</td><td>709</td><td>1065</td><td>0</td><td>0</td><td>4761</td></tr><tr><td>5</td><td>&quot;Anguilla&quot;</td><td>0</td><td>0</td><td>0</td><td>0</td><td>0</td><td>0</td><td>0</td><td>0</td><td>0</td><td>0</td><td>0</td><td>0</td><td>0</td><td>0</td><td>0</td><td>0</td></tr></tbody></table></div>"
      ],
      "text/plain": [
       "shape: (5, 18)\n",
       "┌─────┬─────────────────────────────────┬────────┬────────┬───┬───────┬───────┬──────┬───────┐\n",
       "│ Id  ┆ Country                         ┆ 2007   ┆ 2008   ┆ … ┆ 2019  ┆ 2020  ┆ 2021 ┆ 2022  │\n",
       "│ --- ┆ ---                             ┆ ---    ┆ ---    ┆   ┆ ---   ┆ ---   ┆ ---  ┆ ---   │\n",
       "│ i64 ┆ str                             ┆ i64    ┆ i64    ┆   ┆ i64   ┆ i64   ┆ i64  ┆ i64   │\n",
       "╞═════╪═════════════════════════════════╪════════╪════════╪═══╪═══════╪═══════╪══════╪═══════╡\n",
       "│ 1   ┆ Afeganistão                     ┆ 0      ┆ 0      ┆ … ┆ 0     ┆ 0     ┆ 46   ┆ 0     │\n",
       "│ 2   ┆ África do Sul                   ┆ 0      ┆ 0      ┆ … ┆ 95    ┆ 21    ┆ 0    ┆ 0     │\n",
       "│ 3   ┆ Alemanha, República Democrática ┆ 238052 ┆ 429970 ┆ … ┆ 25467 ┆ 32605 ┆ 6741 ┆ 45367 │\n",
       "│ 4   ┆ Angola                          ┆ 49753  ┆ 71083  ┆ … ┆ 1065  ┆ 0     ┆ 0    ┆ 4761  │\n",
       "│ 5   ┆ Anguilla                        ┆ 0      ┆ 0      ┆ … ┆ 0     ┆ 0     ┆ 0    ┆ 0     │\n",
       "└─────┴─────────────────────────────────┴────────┴────────┴───┴───────┴───────┴──────┴───────┘"
      ]
     },
     "execution_count": 204,
     "metadata": {},
     "output_type": "execute_result"
    }
   ],
   "source": [
    "exp_vinho_val = (\n",
    "                (exp_vinho\n",
    "                 .select(cs.starts_with([\"Id\", \"Country\"]) | cs.contains(\"_val\") )\n",
    "                 ).rename({col: col.replace(\"_val\", \"\") for col in exp_vinho.columns}) \n",
    "                )\n",
    "exp_vinho_val.head()"
   ]
  },
  {
   "cell_type": "markdown",
   "id": "bbddd9ba",
   "metadata": {},
   "source": [
    "# Estatísticas gerais - agregado\n",
    "\n",
    "- Número de países na amostra: 128\n"
   ]
  },
  {
   "cell_type": "markdown",
   "id": "488ed853",
   "metadata": {},
   "source": [
    "## Quantidade de vinho exportado (1 Kg = 1 L)"
   ]
  },
  {
   "cell_type": "code",
   "execution_count": 74,
   "id": "c05f3013",
   "metadata": {},
   "outputs": [],
   "source": [
    "# converts polars dataframe to pandas series to use with plotly express\n",
    "def polars_df_to_pandas_series(df):\n",
    "    index = df.columns\n",
    "    df = (df.transpose()).to_pandas()\n",
    "    df.index = index\n",
    "    df = df.drop(index=\"describe\")\n",
    "    #print(df)\n",
    "\n",
    "    return df "
   ]
  },
  {
   "cell_type": "code",
   "execution_count": 220,
   "id": "c527fc68",
   "metadata": {},
   "outputs": [
    {
     "data": {
      "text/html": [
       "<div><style>\n",
       ".dataframe > thead > tr > th,\n",
       ".dataframe > tbody > tr > td {\n",
       "  text-align: right;\n",
       "  white-space: pre-wrap;\n",
       "}\n",
       "</style>\n",
       "<small>shape: (5, 2)</small><table border=\"1\" class=\"dataframe\"><thead><tr><th>Country</th><th>total_qty</th></tr><tr><td>str</td><td>i64</td></tr></thead><tbody><tr><td>&quot;Bolívia&quot;</td><td>209406</td></tr><tr><td>&quot;Grécia&quot;</td><td>9480</td></tr><tr><td>&quot;Argentina&quot;</td><td>51012</td></tr><tr><td>&quot;Omã&quot;</td><td>194</td></tr><tr><td>&quot;Moçambique&quot;</td><td>383</td></tr></tbody></table></div>"
      ],
      "text/plain": [
       "shape: (5, 2)\n",
       "┌────────────┬───────────┐\n",
       "│ Country    ┆ total_qty │\n",
       "│ ---        ┆ ---       │\n",
       "│ str        ┆ i64       │\n",
       "╞════════════╪═══════════╡\n",
       "│ Bolívia    ┆ 209406    │\n",
       "│ Grécia     ┆ 9480      │\n",
       "│ Argentina  ┆ 51012     │\n",
       "│ Omã        ┆ 194       │\n",
       "│ Moçambique ┆ 383       │\n",
       "└────────────┴───────────┘"
      ]
     },
     "execution_count": 220,
     "metadata": {},
     "output_type": "execute_result"
    }
   ],
   "source": [
    "# Sum of quantity by country\n",
    "qty_by_country = []\n",
    "\n",
    "for name, data in exp_vinho_qtd.group_by(\"Country\"): \n",
    "        dictionary = {name: (data\n",
    "                        .select(cs.all() - cs.starts_with([\"Id\", \"Country\"]))\n",
    "                        .transpose()\n",
    "                        .sum()\n",
    "                        .to_numpy())}\n",
    "        key = list(dictionary.keys())[0]\n",
    "        value = list(dictionary.values())[0][0][0]        \n",
    "        qty_by_country.append({\"Country\":key, \"total_qty\": value})\n",
    "        \n",
    "\n",
    "qty_by_country = pl.DataFrame(qty_by_country)\n",
    "qty_by_country.head()\n"
   ]
  },
  {
   "cell_type": "code",
   "execution_count": 223,
   "id": "7dc3a40c",
   "metadata": {},
   "outputs": [
    {
     "data": {
      "application/vnd.plotly.v1+json": {
       "config": {
        "plotlyServerURL": "https://plot.ly"
       },
       "data": [
        {
         "alignmentgroup": "True",
         "hovertemplate": "Country=%{x}<br>total_qty=%{y}<extra></extra>",
         "legendgroup": "",
         "marker": {
          "color": "#636efa",
          "pattern": {
           "shape": ""
          }
         },
         "name": "",
         "offsetgroup": "",
         "orientation": "v",
         "showlegend": false,
         "textposition": "auto",
         "type": "bar",
         "x": [
          "Bolívia",
          "Grécia",
          "Argentina",
          "Omã",
          "Moçambique",
          "Vanuatu",
          "Bulgária",
          "Jamaica",
          "Japão",
          "Hong Kong",
          "Antígua e Barbuda",
          "Guiana Francesa",
          "México",
          "Vietnã",
          "Cocos (Keeling), Ilhas",
          "Catar",
          "Brasil",
          "Gana",
          "Iraque",
          "Tunísia",
          "Jordânia",
          "Portugal",
          "Granada",
          "Libéria",
          "Tailândia",
          "São Tomé e Príncipe",
          "Espanha",
          "Guine Bissau",
          "Honduras",
          "Rússia",
          "Croácia",
          "Bangladesh",
          "Aruba",
          "Cuba",
          "França",
          "Hungria",
          "Líbano",
          "Turquia",
          "India",
          "Coreia, Republica Sul",
          "Curaçao",
          "Montenegro",
          "Paraguai",
          "Tuvalu",
          "Austrália",
          "Canadá",
          "Comores",
          "Cayman, Ilhas",
          "Suazilândia",
          "Letônia",
          "Namibia",
          "Guiana",
          "Luxemburgo",
          "Nigéria",
          "Anguilla",
          "Alemanha, República Democrática",
          "Polônia",
          "Tcheca, República",
          "Chile",
          "Colômbia",
          "Togo",
          "Congo",
          "Malta",
          "Nicaragua",
          "Uruguai",
          "Estados Unidos",
          "Noruega",
          "República Dominicana",
          "Peru",
          "Suriname",
          "Trinidade Tobago",
          "Serra Leoa",
          "Eslovaca, Republica",
          "Barbados",
          "São Vicente e Granadinas",
          "Guatemala",
          "El Salvador",
          "Irã",
          "Cingapura",
          "Bélgica",
          "Haiti",
          "Áustria",
          "Angola",
          "Indonésia",
          "Ilha de Man",
          "Dominica",
          "Antilhas Holandesas",
          "Mauritânia",
          "Benin",
          "Panamá",
          "Senegal",
          "Nova Zelândia",
          "Filipinas",
          "Países Baixos",
          "Camarões",
          "Singapura",
          "Marshall, Ilhas",
          "Quênia",
          "Costa Rica",
          "Suíça",
          "China",
          "Gibraltar",
          "Malásia",
          "Porto Rico",
          "Costa do Marfim",
          "Nova Caledônia",
          "Estônia",
          "Belice",
          "Venezuela",
          "Bahamas",
          "Barein",
          "Emirados Arabes Unidos",
          "Reino Unido",
          "África do Sul",
          "Itália",
          "Taiwan (FORMOSA)",
          "Irlanda",
          "Dinamarca",
          "Chipre",
          "Tanzânia",
          "Guine Equatorial",
          "Ilhas Virgens",
          "Finlândia",
          "Bósnia-Herzegovina",
          "Cabo Verde",
          "Afeganistão",
          "Equador",
          "Suécia"
         ],
         "xaxis": "x",
         "y": [
          209406,
          9480,
          51012,
          194,
          383,
          18,
          122,
          0,
          1539635,
          149132,
          2104,
          112,
          8779,
          9799,
          26,
          13339,
          2535,
          102178,
          0,
          0,
          12,
          528660,
          5610,
          26953,
          3275,
          2184,
          1993000,
          48,
          176,
          39296199,
          55,
          12,
          1350,
          273713,
          323902,
          627,
          0,
          1236,
          318,
          4977,
          191119,
          32,
          30500229,
          2,
          274714,
          199663,
          9,
          425,
          10,
          387,
          340,
          6633,
          67326,
          161641,
          0,
          1028563,
          154475,
          151832,
          84135,
          43886,
          24378,
          360,
          14222,
          24,
          792595,
          4042624,
          44399,
          601,
          24668,
          29801,
          891,
          23884,
          585,
          615,
          28,
          20247,
          55,
          184,
          34837,
          403744,
          1791603,
          681,
          194799,
          5,
          301,
          1945,
          114027,
          9,
          15399,
          62966,
          0,
          14030,
          14222,
          1417200,
          1749,
          8826,
          30353,
          18911,
          55,
          178984,
          2517096,
          792,
          63,
          0,
          0,
          7227,
          107768,
          9,
          76215,
          14101,
          1771,
          17312,
          1324164,
          30,
          32806,
          82483,
          16970,
          81584,
          6805,
          0,
          20684,
          0,
          86763,
          45,
          12625,
          11,
          6617,
          99454
         ],
         "yaxis": "y"
        }
       ],
       "layout": {
        "barmode": "relative",
        "legend": {
         "tracegroupgap": 0
        },
        "margin": {
         "t": 60
        },
        "template": {
         "data": {
          "bar": [
           {
            "error_x": {
             "color": "#2a3f5f"
            },
            "error_y": {
             "color": "#2a3f5f"
            },
            "marker": {
             "line": {
              "color": "#E5ECF6",
              "width": 0.5
             },
             "pattern": {
              "fillmode": "overlay",
              "size": 10,
              "solidity": 0.2
             }
            },
            "type": "bar"
           }
          ],
          "barpolar": [
           {
            "marker": {
             "line": {
              "color": "#E5ECF6",
              "width": 0.5
             },
             "pattern": {
              "fillmode": "overlay",
              "size": 10,
              "solidity": 0.2
             }
            },
            "type": "barpolar"
           }
          ],
          "carpet": [
           {
            "aaxis": {
             "endlinecolor": "#2a3f5f",
             "gridcolor": "white",
             "linecolor": "white",
             "minorgridcolor": "white",
             "startlinecolor": "#2a3f5f"
            },
            "baxis": {
             "endlinecolor": "#2a3f5f",
             "gridcolor": "white",
             "linecolor": "white",
             "minorgridcolor": "white",
             "startlinecolor": "#2a3f5f"
            },
            "type": "carpet"
           }
          ],
          "choropleth": [
           {
            "colorbar": {
             "outlinewidth": 0,
             "ticks": ""
            },
            "type": "choropleth"
           }
          ],
          "contour": [
           {
            "colorbar": {
             "outlinewidth": 0,
             "ticks": ""
            },
            "colorscale": [
             [
              0,
              "#0d0887"
             ],
             [
              0.1111111111111111,
              "#46039f"
             ],
             [
              0.2222222222222222,
              "#7201a8"
             ],
             [
              0.3333333333333333,
              "#9c179e"
             ],
             [
              0.4444444444444444,
              "#bd3786"
             ],
             [
              0.5555555555555556,
              "#d8576b"
             ],
             [
              0.6666666666666666,
              "#ed7953"
             ],
             [
              0.7777777777777778,
              "#fb9f3a"
             ],
             [
              0.8888888888888888,
              "#fdca26"
             ],
             [
              1,
              "#f0f921"
             ]
            ],
            "type": "contour"
           }
          ],
          "contourcarpet": [
           {
            "colorbar": {
             "outlinewidth": 0,
             "ticks": ""
            },
            "type": "contourcarpet"
           }
          ],
          "heatmap": [
           {
            "colorbar": {
             "outlinewidth": 0,
             "ticks": ""
            },
            "colorscale": [
             [
              0,
              "#0d0887"
             ],
             [
              0.1111111111111111,
              "#46039f"
             ],
             [
              0.2222222222222222,
              "#7201a8"
             ],
             [
              0.3333333333333333,
              "#9c179e"
             ],
             [
              0.4444444444444444,
              "#bd3786"
             ],
             [
              0.5555555555555556,
              "#d8576b"
             ],
             [
              0.6666666666666666,
              "#ed7953"
             ],
             [
              0.7777777777777778,
              "#fb9f3a"
             ],
             [
              0.8888888888888888,
              "#fdca26"
             ],
             [
              1,
              "#f0f921"
             ]
            ],
            "type": "heatmap"
           }
          ],
          "heatmapgl": [
           {
            "colorbar": {
             "outlinewidth": 0,
             "ticks": ""
            },
            "colorscale": [
             [
              0,
              "#0d0887"
             ],
             [
              0.1111111111111111,
              "#46039f"
             ],
             [
              0.2222222222222222,
              "#7201a8"
             ],
             [
              0.3333333333333333,
              "#9c179e"
             ],
             [
              0.4444444444444444,
              "#bd3786"
             ],
             [
              0.5555555555555556,
              "#d8576b"
             ],
             [
              0.6666666666666666,
              "#ed7953"
             ],
             [
              0.7777777777777778,
              "#fb9f3a"
             ],
             [
              0.8888888888888888,
              "#fdca26"
             ],
             [
              1,
              "#f0f921"
             ]
            ],
            "type": "heatmapgl"
           }
          ],
          "histogram": [
           {
            "marker": {
             "pattern": {
              "fillmode": "overlay",
              "size": 10,
              "solidity": 0.2
             }
            },
            "type": "histogram"
           }
          ],
          "histogram2d": [
           {
            "colorbar": {
             "outlinewidth": 0,
             "ticks": ""
            },
            "colorscale": [
             [
              0,
              "#0d0887"
             ],
             [
              0.1111111111111111,
              "#46039f"
             ],
             [
              0.2222222222222222,
              "#7201a8"
             ],
             [
              0.3333333333333333,
              "#9c179e"
             ],
             [
              0.4444444444444444,
              "#bd3786"
             ],
             [
              0.5555555555555556,
              "#d8576b"
             ],
             [
              0.6666666666666666,
              "#ed7953"
             ],
             [
              0.7777777777777778,
              "#fb9f3a"
             ],
             [
              0.8888888888888888,
              "#fdca26"
             ],
             [
              1,
              "#f0f921"
             ]
            ],
            "type": "histogram2d"
           }
          ],
          "histogram2dcontour": [
           {
            "colorbar": {
             "outlinewidth": 0,
             "ticks": ""
            },
            "colorscale": [
             [
              0,
              "#0d0887"
             ],
             [
              0.1111111111111111,
              "#46039f"
             ],
             [
              0.2222222222222222,
              "#7201a8"
             ],
             [
              0.3333333333333333,
              "#9c179e"
             ],
             [
              0.4444444444444444,
              "#bd3786"
             ],
             [
              0.5555555555555556,
              "#d8576b"
             ],
             [
              0.6666666666666666,
              "#ed7953"
             ],
             [
              0.7777777777777778,
              "#fb9f3a"
             ],
             [
              0.8888888888888888,
              "#fdca26"
             ],
             [
              1,
              "#f0f921"
             ]
            ],
            "type": "histogram2dcontour"
           }
          ],
          "mesh3d": [
           {
            "colorbar": {
             "outlinewidth": 0,
             "ticks": ""
            },
            "type": "mesh3d"
           }
          ],
          "parcoords": [
           {
            "line": {
             "colorbar": {
              "outlinewidth": 0,
              "ticks": ""
             }
            },
            "type": "parcoords"
           }
          ],
          "pie": [
           {
            "automargin": true,
            "type": "pie"
           }
          ],
          "scatter": [
           {
            "fillpattern": {
             "fillmode": "overlay",
             "size": 10,
             "solidity": 0.2
            },
            "type": "scatter"
           }
          ],
          "scatter3d": [
           {
            "line": {
             "colorbar": {
              "outlinewidth": 0,
              "ticks": ""
             }
            },
            "marker": {
             "colorbar": {
              "outlinewidth": 0,
              "ticks": ""
             }
            },
            "type": "scatter3d"
           }
          ],
          "scattercarpet": [
           {
            "marker": {
             "colorbar": {
              "outlinewidth": 0,
              "ticks": ""
             }
            },
            "type": "scattercarpet"
           }
          ],
          "scattergeo": [
           {
            "marker": {
             "colorbar": {
              "outlinewidth": 0,
              "ticks": ""
             }
            },
            "type": "scattergeo"
           }
          ],
          "scattergl": [
           {
            "marker": {
             "colorbar": {
              "outlinewidth": 0,
              "ticks": ""
             }
            },
            "type": "scattergl"
           }
          ],
          "scattermapbox": [
           {
            "marker": {
             "colorbar": {
              "outlinewidth": 0,
              "ticks": ""
             }
            },
            "type": "scattermapbox"
           }
          ],
          "scatterpolar": [
           {
            "marker": {
             "colorbar": {
              "outlinewidth": 0,
              "ticks": ""
             }
            },
            "type": "scatterpolar"
           }
          ],
          "scatterpolargl": [
           {
            "marker": {
             "colorbar": {
              "outlinewidth": 0,
              "ticks": ""
             }
            },
            "type": "scatterpolargl"
           }
          ],
          "scatterternary": [
           {
            "marker": {
             "colorbar": {
              "outlinewidth": 0,
              "ticks": ""
             }
            },
            "type": "scatterternary"
           }
          ],
          "surface": [
           {
            "colorbar": {
             "outlinewidth": 0,
             "ticks": ""
            },
            "colorscale": [
             [
              0,
              "#0d0887"
             ],
             [
              0.1111111111111111,
              "#46039f"
             ],
             [
              0.2222222222222222,
              "#7201a8"
             ],
             [
              0.3333333333333333,
              "#9c179e"
             ],
             [
              0.4444444444444444,
              "#bd3786"
             ],
             [
              0.5555555555555556,
              "#d8576b"
             ],
             [
              0.6666666666666666,
              "#ed7953"
             ],
             [
              0.7777777777777778,
              "#fb9f3a"
             ],
             [
              0.8888888888888888,
              "#fdca26"
             ],
             [
              1,
              "#f0f921"
             ]
            ],
            "type": "surface"
           }
          ],
          "table": [
           {
            "cells": {
             "fill": {
              "color": "#EBF0F8"
             },
             "line": {
              "color": "white"
             }
            },
            "header": {
             "fill": {
              "color": "#C8D4E3"
             },
             "line": {
              "color": "white"
             }
            },
            "type": "table"
           }
          ]
         },
         "layout": {
          "annotationdefaults": {
           "arrowcolor": "#2a3f5f",
           "arrowhead": 0,
           "arrowwidth": 1
          },
          "autotypenumbers": "strict",
          "coloraxis": {
           "colorbar": {
            "outlinewidth": 0,
            "ticks": ""
           }
          },
          "colorscale": {
           "diverging": [
            [
             0,
             "#8e0152"
            ],
            [
             0.1,
             "#c51b7d"
            ],
            [
             0.2,
             "#de77ae"
            ],
            [
             0.3,
             "#f1b6da"
            ],
            [
             0.4,
             "#fde0ef"
            ],
            [
             0.5,
             "#f7f7f7"
            ],
            [
             0.6,
             "#e6f5d0"
            ],
            [
             0.7,
             "#b8e186"
            ],
            [
             0.8,
             "#7fbc41"
            ],
            [
             0.9,
             "#4d9221"
            ],
            [
             1,
             "#276419"
            ]
           ],
           "sequential": [
            [
             0,
             "#0d0887"
            ],
            [
             0.1111111111111111,
             "#46039f"
            ],
            [
             0.2222222222222222,
             "#7201a8"
            ],
            [
             0.3333333333333333,
             "#9c179e"
            ],
            [
             0.4444444444444444,
             "#bd3786"
            ],
            [
             0.5555555555555556,
             "#d8576b"
            ],
            [
             0.6666666666666666,
             "#ed7953"
            ],
            [
             0.7777777777777778,
             "#fb9f3a"
            ],
            [
             0.8888888888888888,
             "#fdca26"
            ],
            [
             1,
             "#f0f921"
            ]
           ],
           "sequentialminus": [
            [
             0,
             "#0d0887"
            ],
            [
             0.1111111111111111,
             "#46039f"
            ],
            [
             0.2222222222222222,
             "#7201a8"
            ],
            [
             0.3333333333333333,
             "#9c179e"
            ],
            [
             0.4444444444444444,
             "#bd3786"
            ],
            [
             0.5555555555555556,
             "#d8576b"
            ],
            [
             0.6666666666666666,
             "#ed7953"
            ],
            [
             0.7777777777777778,
             "#fb9f3a"
            ],
            [
             0.8888888888888888,
             "#fdca26"
            ],
            [
             1,
             "#f0f921"
            ]
           ]
          },
          "colorway": [
           "#636efa",
           "#EF553B",
           "#00cc96",
           "#ab63fa",
           "#FFA15A",
           "#19d3f3",
           "#FF6692",
           "#B6E880",
           "#FF97FF",
           "#FECB52"
          ],
          "font": {
           "color": "#2a3f5f"
          },
          "geo": {
           "bgcolor": "white",
           "lakecolor": "white",
           "landcolor": "#E5ECF6",
           "showlakes": true,
           "showland": true,
           "subunitcolor": "white"
          },
          "hoverlabel": {
           "align": "left"
          },
          "hovermode": "closest",
          "mapbox": {
           "style": "light"
          },
          "paper_bgcolor": "white",
          "plot_bgcolor": "#E5ECF6",
          "polar": {
           "angularaxis": {
            "gridcolor": "white",
            "linecolor": "white",
            "ticks": ""
           },
           "bgcolor": "#E5ECF6",
           "radialaxis": {
            "gridcolor": "white",
            "linecolor": "white",
            "ticks": ""
           }
          },
          "scene": {
           "xaxis": {
            "backgroundcolor": "#E5ECF6",
            "gridcolor": "white",
            "gridwidth": 2,
            "linecolor": "white",
            "showbackground": true,
            "ticks": "",
            "zerolinecolor": "white"
           },
           "yaxis": {
            "backgroundcolor": "#E5ECF6",
            "gridcolor": "white",
            "gridwidth": 2,
            "linecolor": "white",
            "showbackground": true,
            "ticks": "",
            "zerolinecolor": "white"
           },
           "zaxis": {
            "backgroundcolor": "#E5ECF6",
            "gridcolor": "white",
            "gridwidth": 2,
            "linecolor": "white",
            "showbackground": true,
            "ticks": "",
            "zerolinecolor": "white"
           }
          },
          "shapedefaults": {
           "line": {
            "color": "#2a3f5f"
           }
          },
          "ternary": {
           "aaxis": {
            "gridcolor": "white",
            "linecolor": "white",
            "ticks": ""
           },
           "baxis": {
            "gridcolor": "white",
            "linecolor": "white",
            "ticks": ""
           },
           "bgcolor": "#E5ECF6",
           "caxis": {
            "gridcolor": "white",
            "linecolor": "white",
            "ticks": ""
           }
          },
          "title": {
           "x": 0.05
          },
          "xaxis": {
           "automargin": true,
           "gridcolor": "white",
           "linecolor": "white",
           "ticks": "",
           "title": {
            "standoff": 15
           },
           "zerolinecolor": "white",
           "zerolinewidth": 2
          },
          "yaxis": {
           "automargin": true,
           "gridcolor": "white",
           "linecolor": "white",
           "ticks": "",
           "title": {
            "standoff": 15
           },
           "zerolinecolor": "white",
           "zerolinewidth": 2
          }
         }
        },
        "xaxis": {
         "anchor": "y",
         "domain": [
          0,
          1
         ],
         "title": {
          "text": "Country"
         }
        },
        "yaxis": {
         "anchor": "x",
         "domain": [
          0,
          1
         ],
         "title": {
          "text": "total_qty"
         }
        }
       }
      }
     },
     "metadata": {},
     "output_type": "display_data"
    }
   ],
   "source": [
    "px.bar(qty_by_country, x=\"Country\", y=\"total_qty\")"
   ]
  },
  {
   "cell_type": "code",
   "execution_count": 196,
   "id": "03f93714",
   "metadata": {},
   "outputs": [
    {
     "name": "stdout",
     "output_type": "stream",
     "text": [
      "Camarões 1749\n"
     ]
    }
   ],
   "source": [
    "k = list(qtd_by_country[0].keys())[0]\n",
    "v = list(qtd_by_country[0].values())[0][0][0]\n",
    "\n",
    "print(k,v)"
   ]
  },
  {
   "cell_type": "code",
   "execution_count": null,
   "id": "e3bf9314",
   "metadata": {},
   "outputs": [],
   "source": [
    "qtd_by_coutry[0].pivot(values=\"baz\", index=\"foo\", columns=\"bar\", aggregate_function=\"sum\")"
   ]
  },
  {
   "cell_type": "code",
   "execution_count": 7,
   "id": "df05fa99",
   "metadata": {},
   "outputs": [
    {
     "data": {
      "text/html": [
       "<div><style>\n",
       ".dataframe > thead > tr > th,\n",
       ".dataframe > tbody > tr > td {\n",
       "  text-align: right;\n",
       "  white-space: pre-wrap;\n",
       "}\n",
       "</style>\n",
       "<small>shape: (9, 17)</small><table border=\"1\" class=\"dataframe\"><thead><tr><th>describe</th><th>2007</th><th>2008</th><th>2009</th><th>2010</th><th>2011</th><th>2012</th><th>2013</th><th>2014</th><th>2015</th><th>2016</th><th>2017</th><th>2018</th><th>2019</th><th>2020</th><th>2021</th><th>2022</th></tr><tr><td>str</td><td>f64</td><td>f64</td><td>f64</td><td>f64</td><td>f64</td><td>f64</td><td>f64</td><td>f64</td><td>f64</td><td>f64</td><td>f64</td><td>f64</td><td>f64</td><td>f64</td><td>f64</td><td>f64</td></tr></thead><tbody><tr><td>&quot;count&quot;</td><td>128.0</td><td>128.0</td><td>128.0</td><td>128.0</td><td>128.0</td><td>128.0</td><td>128.0</td><td>128.0</td><td>128.0</td><td>128.0</td><td>128.0</td><td>128.0</td><td>128.0</td><td>128.0</td><td>128.0</td><td>128.0</td></tr><tr><td>&quot;null_count&quot;</td><td>0.0</td><td>0.0</td><td>0.0</td><td>0.0</td><td>0.0</td><td>0.0</td><td>0.0</td><td>0.0</td><td>0.0</td><td>0.0</td><td>0.0</td><td>0.0</td><td>0.0</td><td>0.0</td><td>0.0</td><td>0.0</td></tr><tr><td>&quot;mean&quot;</td><td>28798.046875</td><td>55610.15625</td><td>69851.46875</td><td>20275.804688</td><td>28243.125</td><td>43135.101562</td><td>177694.101562</td><td>58381.210938</td><td>21634.0625</td><td>34646.125</td><td>55746.929688</td><td>58484.867188</td><td>46365.828125</td><td>47486.625</td><td>76968.296875</td><td>85510.015625</td></tr><tr><td>&quot;std&quot;</td><td>112790.554073</td><td>260556.007784</td><td>512646.746246</td><td>72911.605058</td><td>108366.034983</td><td>205931.510206</td><td>1.3477e6</td><td>193594.835251</td><td>88585.993054</td><td>170258.797445</td><td>400539.90942</td><td>487459.51628</td><td>343522.079741</td><td>348702.778141</td><td>639549.029833</td><td>641474.619049</td></tr><tr><td>&quot;min&quot;</td><td>0.0</td><td>0.0</td><td>0.0</td><td>0.0</td><td>0.0</td><td>0.0</td><td>0.0</td><td>0.0</td><td>0.0</td><td>0.0</td><td>0.0</td><td>0.0</td><td>0.0</td><td>0.0</td><td>0.0</td><td>0.0</td></tr><tr><td>&quot;25%&quot;</td><td>0.0</td><td>0.0</td><td>0.0</td><td>0.0</td><td>0.0</td><td>0.0</td><td>0.0</td><td>0.0</td><td>0.0</td><td>0.0</td><td>0.0</td><td>0.0</td><td>0.0</td><td>0.0</td><td>0.0</td><td>0.0</td></tr><tr><td>&quot;50%&quot;</td><td>0.0</td><td>0.0</td><td>0.0</td><td>0.0</td><td>0.0</td><td>0.0</td><td>0.0</td><td>0.0</td><td>0.0</td><td>0.0</td><td>0.0</td><td>0.0</td><td>3.0</td><td>28.0</td><td>48.0</td><td>212.0</td></tr><tr><td>&quot;75%&quot;</td><td>2448.0</td><td>6834.0</td><td>2143.0</td><td>1015.0</td><td>4899.0</td><td>5622.0</td><td>4092.0</td><td>3887.0</td><td>0.0</td><td>1214.0</td><td>2248.0</td><td>9744.0</td><td>2832.0</td><td>4805.0</td><td>8153.0</td><td>7914.0</td></tr><tr><td>&quot;max&quot;</td><td>810038.0</td><td>2.352768e6</td><td>5.73228e6</td><td>478630.0</td><td>1.030254e6</td><td>2.103968e6</td><td>1.4795694e7</td><td>1.373747e6</td><td>741370.0</td><td>1.655417e6</td><td>4.27465e6</td><td>5.494321e6</td><td>3.826587e6</td><td>3.869243e6</td><td>7.192362e6</td><td>7.156293e6</td></tr></tbody></table></div>"
      ],
      "text/plain": [
       "shape: (9, 17)\n",
       "┌───────────┬───────────┬───────────┬───────────┬───┬───────────┬───────────┬───────────┬──────────┐\n",
       "│ describe  ┆ 2007      ┆ 2008      ┆ 2009      ┆ … ┆ 2019      ┆ 2020      ┆ 2021      ┆ 2022     │\n",
       "│ ---       ┆ ---       ┆ ---       ┆ ---       ┆   ┆ ---       ┆ ---       ┆ ---       ┆ ---      │\n",
       "│ str       ┆ f64       ┆ f64       ┆ f64       ┆   ┆ f64       ┆ f64       ┆ f64       ┆ f64      │\n",
       "╞═══════════╪═══════════╪═══════════╪═══════════╪═══╪═══════════╪═══════════╪═══════════╪══════════╡\n",
       "│ count     ┆ 128.0     ┆ 128.0     ┆ 128.0     ┆ … ┆ 128.0     ┆ 128.0     ┆ 128.0     ┆ 128.0    │\n",
       "│ null_coun ┆ 0.0       ┆ 0.0       ┆ 0.0       ┆ … ┆ 0.0       ┆ 0.0       ┆ 0.0       ┆ 0.0      │\n",
       "│ t         ┆           ┆           ┆           ┆   ┆           ┆           ┆           ┆          │\n",
       "│ mean      ┆ 28798.046 ┆ 55610.156 ┆ 69851.468 ┆ … ┆ 46365.828 ┆ 47486.625 ┆ 76968.296 ┆ 85510.01 │\n",
       "│           ┆ 875       ┆ 25        ┆ 75        ┆   ┆ 125       ┆           ┆ 875       ┆ 5625     │\n",
       "│ std       ┆ 112790.55 ┆ 260556.00 ┆ 512646.74 ┆ … ┆ 343522.07 ┆ 348702.77 ┆ 639549.02 ┆ 641474.6 │\n",
       "│           ┆ 4073      ┆ 7784      ┆ 6246      ┆   ┆ 9741      ┆ 8141      ┆ 9833      ┆ 19049    │\n",
       "│ min       ┆ 0.0       ┆ 0.0       ┆ 0.0       ┆ … ┆ 0.0       ┆ 0.0       ┆ 0.0       ┆ 0.0      │\n",
       "│ 25%       ┆ 0.0       ┆ 0.0       ┆ 0.0       ┆ … ┆ 0.0       ┆ 0.0       ┆ 0.0       ┆ 0.0      │\n",
       "│ 50%       ┆ 0.0       ┆ 0.0       ┆ 0.0       ┆ … ┆ 3.0       ┆ 28.0      ┆ 48.0      ┆ 212.0    │\n",
       "│ 75%       ┆ 2448.0    ┆ 6834.0    ┆ 2143.0    ┆ … ┆ 2832.0    ┆ 4805.0    ┆ 8153.0    ┆ 7914.0   │\n",
       "│ max       ┆ 810038.0  ┆ 2.352768e ┆ 5.73228e6 ┆ … ┆ 3.826587e ┆ 3.869243e ┆ 7.192362e ┆ 7.156293 │\n",
       "│           ┆           ┆ 6         ┆           ┆   ┆ 6         ┆ 6         ┆ 6         ┆ e6       │\n",
       "└───────────┴───────────┴───────────┴───────────┴───┴───────────┴───────────┴───────────┴──────────┘"
      ]
     },
     "execution_count": 7,
     "metadata": {},
     "output_type": "execute_result"
    }
   ],
   "source": [
    "exp_vinho_qtd_summ = exp_vinho_qtd.select(cs.all() - cs.starts_with([\"Id\", \"Country\"])).describe()\n",
    "exp_vinho_qtd_summ"
   ]
  },
  {
   "cell_type": "code",
   "execution_count": 95,
   "id": "fd2a0ae0",
   "metadata": {},
   "outputs": [
    {
     "data": {
      "application/vnd.plotly.v1+json": {
       "config": {
        "plotlyServerURL": "https://plot.ly"
       },
       "data": [
        {
         "hovertemplate": "variable=mean<br>index=%{x}<br>value=%{y}<extra></extra>",
         "legendgroup": "mean",
         "marker": {
          "color": "#636efa",
          "symbol": "circle"
         },
         "mode": "markers",
         "name": "mean",
         "orientation": "v",
         "showlegend": true,
         "type": "scatter",
         "x": [
          "2007",
          "2008",
          "2009",
          "2010",
          "2011",
          "2012",
          "2013",
          "2014",
          "2015",
          "2016",
          "2017",
          "2018",
          "2019",
          "2020",
          "2021",
          "2022"
         ],
         "xaxis": "x",
         "y": [
          "28798.046875",
          "55610.15625",
          "69851.46875",
          "20275.8046875",
          "28243.125",
          "43135.1015625",
          "177694.1015625",
          "58381.2109375",
          "21634.0625",
          "34646.125",
          "55746.9296875",
          "58484.8671875",
          "46365.828125",
          "47486.625",
          "76968.296875",
          "85510.015625"
         ],
         "yaxis": "y"
        },
        {
         "hovertemplate": "<b>OLS trendline</b><br>value = 1361.75 * index + -2.68645e+06<br>R<sup>2</sup>=0.029926<br><br>variable=mean<br>index=%{x}<br>value=%{y} <b>(trend)</b><extra></extra>",
         "legendgroup": "mean",
         "marker": {
          "color": "#636efa",
          "symbol": "circle"
         },
         "mode": "lines",
         "name": "mean",
         "showlegend": false,
         "type": "scatter",
         "x": [
          "2007",
          "2008",
          "2009",
          "2010",
          "2011",
          "2012",
          "2013",
          "2014",
          "2015",
          "2016",
          "2017",
          "2018",
          "2019",
          "2020",
          "2021",
          "2022"
         ],
         "xaxis": "x",
         "y": [
          46588.8322610273,
          47950.58600643184,
          49312.33975183591,
          50674.09349724045,
          52035.84724264499,
          53397.60098804906,
          54759.3547334536,
          56121.108478858136,
          57482.86222426221,
          58844.615969666746,
          60206.36971507082,
          61568.123460475355,
          62929.87720587989,
          64291.630951283965,
          65653.3846966885,
          67015.13844209304
         ],
         "yaxis": "y"
        },
        {
         "hovertemplate": "variable=max<br>index=%{x}<br>value=%{y}<extra></extra>",
         "legendgroup": "max",
         "marker": {
          "color": "#EF553B",
          "symbol": "circle"
         },
         "mode": "markers",
         "name": "max",
         "orientation": "v",
         "showlegend": true,
         "type": "scatter",
         "x": [
          "2007",
          "2008",
          "2009",
          "2010",
          "2011",
          "2012",
          "2013",
          "2014",
          "2015",
          "2016",
          "2017",
          "2018",
          "2019",
          "2020",
          "2021",
          "2022"
         ],
         "xaxis": "x",
         "y": [
          "810038.0",
          "2352768.0",
          "5732280.0",
          "478630.0",
          "1030254.0",
          "2103968.0",
          "14795694.0",
          "1373747.0",
          "741370.0",
          "1655417.0",
          "4274650.0",
          "5494321.0",
          "3826587.0",
          "3869243.0",
          "7192362.0",
          "7156293.0"
         ],
         "yaxis": "y"
        },
        {
         "hovertemplate": "<b>OLS trendline</b><br>value = 249699 * index + -4.99088e+08<br>R<sup>2</sup>=0.104585<br><br>variable=max<br>index=%{x}<br>value=%{y} <b>(trend)</b><extra></extra>",
         "legendgroup": "max",
         "marker": {
          "color": "#EF553B",
          "symbol": "circle"
         },
         "mode": "lines",
         "name": "max",
         "showlegend": false,
         "type": "scatter",
         "x": [
          "2007",
          "2008",
          "2009",
          "2010",
          "2011",
          "2012",
          "2013",
          "2014",
          "2015",
          "2016",
          "2017",
          "2018",
          "2019",
          "2020",
          "2021",
          "2022"
         ],
         "xaxis": "x",
         "y": [
          2057732.727940917,
          2307431.880882144,
          2557131.0338233113,
          2806830.1867644787,
          3056529.339705646,
          3306228.492646873,
          3555927.6455880404,
          3805626.7985292077,
          4055325.951470375,
          4305025.104411542,
          4554724.257352769,
          4804423.410293937,
          5054122.563235104,
          5303821.716176271,
          5553520.869117439,
          5803220.022058666
         ],
         "yaxis": "y"
        }
       ],
       "layout": {
        "legend": {
         "title": {
          "text": "variable"
         },
         "tracegroupgap": 0
        },
        "margin": {
         "t": 60
        },
        "template": {
         "data": {
          "bar": [
           {
            "error_x": {
             "color": "#2a3f5f"
            },
            "error_y": {
             "color": "#2a3f5f"
            },
            "marker": {
             "line": {
              "color": "#E5ECF6",
              "width": 0.5
             },
             "pattern": {
              "fillmode": "overlay",
              "size": 10,
              "solidity": 0.2
             }
            },
            "type": "bar"
           }
          ],
          "barpolar": [
           {
            "marker": {
             "line": {
              "color": "#E5ECF6",
              "width": 0.5
             },
             "pattern": {
              "fillmode": "overlay",
              "size": 10,
              "solidity": 0.2
             }
            },
            "type": "barpolar"
           }
          ],
          "carpet": [
           {
            "aaxis": {
             "endlinecolor": "#2a3f5f",
             "gridcolor": "white",
             "linecolor": "white",
             "minorgridcolor": "white",
             "startlinecolor": "#2a3f5f"
            },
            "baxis": {
             "endlinecolor": "#2a3f5f",
             "gridcolor": "white",
             "linecolor": "white",
             "minorgridcolor": "white",
             "startlinecolor": "#2a3f5f"
            },
            "type": "carpet"
           }
          ],
          "choropleth": [
           {
            "colorbar": {
             "outlinewidth": 0,
             "ticks": ""
            },
            "type": "choropleth"
           }
          ],
          "contour": [
           {
            "colorbar": {
             "outlinewidth": 0,
             "ticks": ""
            },
            "colorscale": [
             [
              0,
              "#0d0887"
             ],
             [
              0.1111111111111111,
              "#46039f"
             ],
             [
              0.2222222222222222,
              "#7201a8"
             ],
             [
              0.3333333333333333,
              "#9c179e"
             ],
             [
              0.4444444444444444,
              "#bd3786"
             ],
             [
              0.5555555555555556,
              "#d8576b"
             ],
             [
              0.6666666666666666,
              "#ed7953"
             ],
             [
              0.7777777777777778,
              "#fb9f3a"
             ],
             [
              0.8888888888888888,
              "#fdca26"
             ],
             [
              1,
              "#f0f921"
             ]
            ],
            "type": "contour"
           }
          ],
          "contourcarpet": [
           {
            "colorbar": {
             "outlinewidth": 0,
             "ticks": ""
            },
            "type": "contourcarpet"
           }
          ],
          "heatmap": [
           {
            "colorbar": {
             "outlinewidth": 0,
             "ticks": ""
            },
            "colorscale": [
             [
              0,
              "#0d0887"
             ],
             [
              0.1111111111111111,
              "#46039f"
             ],
             [
              0.2222222222222222,
              "#7201a8"
             ],
             [
              0.3333333333333333,
              "#9c179e"
             ],
             [
              0.4444444444444444,
              "#bd3786"
             ],
             [
              0.5555555555555556,
              "#d8576b"
             ],
             [
              0.6666666666666666,
              "#ed7953"
             ],
             [
              0.7777777777777778,
              "#fb9f3a"
             ],
             [
              0.8888888888888888,
              "#fdca26"
             ],
             [
              1,
              "#f0f921"
             ]
            ],
            "type": "heatmap"
           }
          ],
          "heatmapgl": [
           {
            "colorbar": {
             "outlinewidth": 0,
             "ticks": ""
            },
            "colorscale": [
             [
              0,
              "#0d0887"
             ],
             [
              0.1111111111111111,
              "#46039f"
             ],
             [
              0.2222222222222222,
              "#7201a8"
             ],
             [
              0.3333333333333333,
              "#9c179e"
             ],
             [
              0.4444444444444444,
              "#bd3786"
             ],
             [
              0.5555555555555556,
              "#d8576b"
             ],
             [
              0.6666666666666666,
              "#ed7953"
             ],
             [
              0.7777777777777778,
              "#fb9f3a"
             ],
             [
              0.8888888888888888,
              "#fdca26"
             ],
             [
              1,
              "#f0f921"
             ]
            ],
            "type": "heatmapgl"
           }
          ],
          "histogram": [
           {
            "marker": {
             "pattern": {
              "fillmode": "overlay",
              "size": 10,
              "solidity": 0.2
             }
            },
            "type": "histogram"
           }
          ],
          "histogram2d": [
           {
            "colorbar": {
             "outlinewidth": 0,
             "ticks": ""
            },
            "colorscale": [
             [
              0,
              "#0d0887"
             ],
             [
              0.1111111111111111,
              "#46039f"
             ],
             [
              0.2222222222222222,
              "#7201a8"
             ],
             [
              0.3333333333333333,
              "#9c179e"
             ],
             [
              0.4444444444444444,
              "#bd3786"
             ],
             [
              0.5555555555555556,
              "#d8576b"
             ],
             [
              0.6666666666666666,
              "#ed7953"
             ],
             [
              0.7777777777777778,
              "#fb9f3a"
             ],
             [
              0.8888888888888888,
              "#fdca26"
             ],
             [
              1,
              "#f0f921"
             ]
            ],
            "type": "histogram2d"
           }
          ],
          "histogram2dcontour": [
           {
            "colorbar": {
             "outlinewidth": 0,
             "ticks": ""
            },
            "colorscale": [
             [
              0,
              "#0d0887"
             ],
             [
              0.1111111111111111,
              "#46039f"
             ],
             [
              0.2222222222222222,
              "#7201a8"
             ],
             [
              0.3333333333333333,
              "#9c179e"
             ],
             [
              0.4444444444444444,
              "#bd3786"
             ],
             [
              0.5555555555555556,
              "#d8576b"
             ],
             [
              0.6666666666666666,
              "#ed7953"
             ],
             [
              0.7777777777777778,
              "#fb9f3a"
             ],
             [
              0.8888888888888888,
              "#fdca26"
             ],
             [
              1,
              "#f0f921"
             ]
            ],
            "type": "histogram2dcontour"
           }
          ],
          "mesh3d": [
           {
            "colorbar": {
             "outlinewidth": 0,
             "ticks": ""
            },
            "type": "mesh3d"
           }
          ],
          "parcoords": [
           {
            "line": {
             "colorbar": {
              "outlinewidth": 0,
              "ticks": ""
             }
            },
            "type": "parcoords"
           }
          ],
          "pie": [
           {
            "automargin": true,
            "type": "pie"
           }
          ],
          "scatter": [
           {
            "fillpattern": {
             "fillmode": "overlay",
             "size": 10,
             "solidity": 0.2
            },
            "type": "scatter"
           }
          ],
          "scatter3d": [
           {
            "line": {
             "colorbar": {
              "outlinewidth": 0,
              "ticks": ""
             }
            },
            "marker": {
             "colorbar": {
              "outlinewidth": 0,
              "ticks": ""
             }
            },
            "type": "scatter3d"
           }
          ],
          "scattercarpet": [
           {
            "marker": {
             "colorbar": {
              "outlinewidth": 0,
              "ticks": ""
             }
            },
            "type": "scattercarpet"
           }
          ],
          "scattergeo": [
           {
            "marker": {
             "colorbar": {
              "outlinewidth": 0,
              "ticks": ""
             }
            },
            "type": "scattergeo"
           }
          ],
          "scattergl": [
           {
            "marker": {
             "colorbar": {
              "outlinewidth": 0,
              "ticks": ""
             }
            },
            "type": "scattergl"
           }
          ],
          "scattermapbox": [
           {
            "marker": {
             "colorbar": {
              "outlinewidth": 0,
              "ticks": ""
             }
            },
            "type": "scattermapbox"
           }
          ],
          "scatterpolar": [
           {
            "marker": {
             "colorbar": {
              "outlinewidth": 0,
              "ticks": ""
             }
            },
            "type": "scatterpolar"
           }
          ],
          "scatterpolargl": [
           {
            "marker": {
             "colorbar": {
              "outlinewidth": 0,
              "ticks": ""
             }
            },
            "type": "scatterpolargl"
           }
          ],
          "scatterternary": [
           {
            "marker": {
             "colorbar": {
              "outlinewidth": 0,
              "ticks": ""
             }
            },
            "type": "scatterternary"
           }
          ],
          "surface": [
           {
            "colorbar": {
             "outlinewidth": 0,
             "ticks": ""
            },
            "colorscale": [
             [
              0,
              "#0d0887"
             ],
             [
              0.1111111111111111,
              "#46039f"
             ],
             [
              0.2222222222222222,
              "#7201a8"
             ],
             [
              0.3333333333333333,
              "#9c179e"
             ],
             [
              0.4444444444444444,
              "#bd3786"
             ],
             [
              0.5555555555555556,
              "#d8576b"
             ],
             [
              0.6666666666666666,
              "#ed7953"
             ],
             [
              0.7777777777777778,
              "#fb9f3a"
             ],
             [
              0.8888888888888888,
              "#fdca26"
             ],
             [
              1,
              "#f0f921"
             ]
            ],
            "type": "surface"
           }
          ],
          "table": [
           {
            "cells": {
             "fill": {
              "color": "#EBF0F8"
             },
             "line": {
              "color": "white"
             }
            },
            "header": {
             "fill": {
              "color": "#C8D4E3"
             },
             "line": {
              "color": "white"
             }
            },
            "type": "table"
           }
          ]
         },
         "layout": {
          "annotationdefaults": {
           "arrowcolor": "#2a3f5f",
           "arrowhead": 0,
           "arrowwidth": 1
          },
          "autotypenumbers": "strict",
          "coloraxis": {
           "colorbar": {
            "outlinewidth": 0,
            "ticks": ""
           }
          },
          "colorscale": {
           "diverging": [
            [
             0,
             "#8e0152"
            ],
            [
             0.1,
             "#c51b7d"
            ],
            [
             0.2,
             "#de77ae"
            ],
            [
             0.3,
             "#f1b6da"
            ],
            [
             0.4,
             "#fde0ef"
            ],
            [
             0.5,
             "#f7f7f7"
            ],
            [
             0.6,
             "#e6f5d0"
            ],
            [
             0.7,
             "#b8e186"
            ],
            [
             0.8,
             "#7fbc41"
            ],
            [
             0.9,
             "#4d9221"
            ],
            [
             1,
             "#276419"
            ]
           ],
           "sequential": [
            [
             0,
             "#0d0887"
            ],
            [
             0.1111111111111111,
             "#46039f"
            ],
            [
             0.2222222222222222,
             "#7201a8"
            ],
            [
             0.3333333333333333,
             "#9c179e"
            ],
            [
             0.4444444444444444,
             "#bd3786"
            ],
            [
             0.5555555555555556,
             "#d8576b"
            ],
            [
             0.6666666666666666,
             "#ed7953"
            ],
            [
             0.7777777777777778,
             "#fb9f3a"
            ],
            [
             0.8888888888888888,
             "#fdca26"
            ],
            [
             1,
             "#f0f921"
            ]
           ],
           "sequentialminus": [
            [
             0,
             "#0d0887"
            ],
            [
             0.1111111111111111,
             "#46039f"
            ],
            [
             0.2222222222222222,
             "#7201a8"
            ],
            [
             0.3333333333333333,
             "#9c179e"
            ],
            [
             0.4444444444444444,
             "#bd3786"
            ],
            [
             0.5555555555555556,
             "#d8576b"
            ],
            [
             0.6666666666666666,
             "#ed7953"
            ],
            [
             0.7777777777777778,
             "#fb9f3a"
            ],
            [
             0.8888888888888888,
             "#fdca26"
            ],
            [
             1,
             "#f0f921"
            ]
           ]
          },
          "colorway": [
           "#636efa",
           "#EF553B",
           "#00cc96",
           "#ab63fa",
           "#FFA15A",
           "#19d3f3",
           "#FF6692",
           "#B6E880",
           "#FF97FF",
           "#FECB52"
          ],
          "font": {
           "color": "#2a3f5f"
          },
          "geo": {
           "bgcolor": "white",
           "lakecolor": "white",
           "landcolor": "#E5ECF6",
           "showlakes": true,
           "showland": true,
           "subunitcolor": "white"
          },
          "hoverlabel": {
           "align": "left"
          },
          "hovermode": "closest",
          "mapbox": {
           "style": "light"
          },
          "paper_bgcolor": "white",
          "plot_bgcolor": "#E5ECF6",
          "polar": {
           "angularaxis": {
            "gridcolor": "white",
            "linecolor": "white",
            "ticks": ""
           },
           "bgcolor": "#E5ECF6",
           "radialaxis": {
            "gridcolor": "white",
            "linecolor": "white",
            "ticks": ""
           }
          },
          "scene": {
           "xaxis": {
            "backgroundcolor": "#E5ECF6",
            "gridcolor": "white",
            "gridwidth": 2,
            "linecolor": "white",
            "showbackground": true,
            "ticks": "",
            "zerolinecolor": "white"
           },
           "yaxis": {
            "backgroundcolor": "#E5ECF6",
            "gridcolor": "white",
            "gridwidth": 2,
            "linecolor": "white",
            "showbackground": true,
            "ticks": "",
            "zerolinecolor": "white"
           },
           "zaxis": {
            "backgroundcolor": "#E5ECF6",
            "gridcolor": "white",
            "gridwidth": 2,
            "linecolor": "white",
            "showbackground": true,
            "ticks": "",
            "zerolinecolor": "white"
           }
          },
          "shapedefaults": {
           "line": {
            "color": "#2a3f5f"
           }
          },
          "ternary": {
           "aaxis": {
            "gridcolor": "white",
            "linecolor": "white",
            "ticks": ""
           },
           "baxis": {
            "gridcolor": "white",
            "linecolor": "white",
            "ticks": ""
           },
           "bgcolor": "#E5ECF6",
           "caxis": {
            "gridcolor": "white",
            "linecolor": "white",
            "ticks": ""
           }
          },
          "title": {
           "x": 0.05
          },
          "xaxis": {
           "automargin": true,
           "gridcolor": "white",
           "linecolor": "white",
           "ticks": "",
           "title": {
            "standoff": 15
           },
           "zerolinecolor": "white",
           "zerolinewidth": 2
          },
          "yaxis": {
           "automargin": true,
           "gridcolor": "white",
           "linecolor": "white",
           "ticks": "",
           "title": {
            "standoff": 15
           },
           "zerolinecolor": "white",
           "zerolinewidth": 2
          }
         }
        },
        "xaxis": {
         "anchor": "y",
         "domain": [
          0,
          1
         ],
         "title": {
          "text": "index"
         }
        },
        "yaxis": {
         "anchor": "x",
         "domain": [
          0,
          1
         ],
         "title": {
          "text": "value"
         },
         "type": "log"
        }
       }
      }
     },
     "metadata": {},
     "output_type": "display_data"
    }
   ],
   "source": [
    "exp_vinho_qtd = polars_df_to_pandas_series(exp_vinho_qtd_summ[[1,7],1:])\n",
    "exp_vinho_qtd.columns = [\"mean\", \"max\"]\n",
    "fig = px.scatter(exp_vinho_qtd, log_y=True, trendline='ols')\n",
    "fig.show()"
   ]
  },
  {
   "cell_type": "code",
   "execution_count": 106,
   "id": "0ce1db45",
   "metadata": {},
   "outputs": [
    {
     "name": "stdout",
     "output_type": "stream",
     "text": [
      "  variable                                     px_fit_results\n",
      "0     mean  <statsmodels.regression.linear_model.Regressio...\n",
      "1      max  <statsmodels.regression.linear_model.Regressio...\n"
     ]
    }
   ],
   "source": [
    "results = px.get_trendline_results(fig)\n",
    "print(results)"
   ]
  },
  {
   "cell_type": "code",
   "execution_count": 108,
   "id": "311b5d9f",
   "metadata": {},
   "outputs": [
    {
     "name": "stderr",
     "output_type": "stream",
     "text": [
      "/home/juno/.cache/pypoetry/virtualenvs/winedata-Vmd1qRfz-py3.11/lib/python3.11/site-packages/scipy/stats/_stats_py.py:1806: UserWarning:\n",
      "\n",
      "kurtosistest only valid for n>=20 ... continuing anyway, n=16\n",
      "\n"
     ]
    },
    {
     "data": {
      "text/html": [
       "<table class=\"simpletable\">\n",
       "<caption>OLS Regression Results</caption>\n",
       "<tr>\n",
       "  <th>Dep. Variable:</th>            <td>y</td>        <th>  R-squared:         </th> <td>   0.105</td>\n",
       "</tr>\n",
       "<tr>\n",
       "  <th>Model:</th>                   <td>OLS</td>       <th>  Adj. R-squared:    </th> <td>   0.041</td>\n",
       "</tr>\n",
       "<tr>\n",
       "  <th>Method:</th>             <td>Least Squares</td>  <th>  F-statistic:       </th> <td>   1.635</td>\n",
       "</tr>\n",
       "<tr>\n",
       "  <th>Date:</th>             <td>Sat, 21 Oct 2023</td> <th>  Prob (F-statistic):</th>  <td> 0.222</td> \n",
       "</tr>\n",
       "<tr>\n",
       "  <th>Time:</th>                 <td>14:59:24</td>     <th>  Log-Likelihood:    </th> <td> -263.18</td>\n",
       "</tr>\n",
       "<tr>\n",
       "  <th>No. Observations:</th>      <td>    16</td>      <th>  AIC:               </th> <td>   530.4</td>\n",
       "</tr>\n",
       "<tr>\n",
       "  <th>Df Residuals:</th>          <td>    14</td>      <th>  BIC:               </th> <td>   531.9</td>\n",
       "</tr>\n",
       "<tr>\n",
       "  <th>Df Model:</th>              <td>     1</td>      <th>                     </th>     <td> </td>   \n",
       "</tr>\n",
       "<tr>\n",
       "  <th>Covariance Type:</th>      <td>nonrobust</td>    <th>                     </th>     <td> </td>   \n",
       "</tr>\n",
       "</table>\n",
       "<table class=\"simpletable\">\n",
       "<tr>\n",
       "    <td></td>       <th>coef</th>     <th>std err</th>      <th>t</th>      <th>P>|t|</th>  <th>[0.025</th>    <th>0.975]</th>  \n",
       "</tr>\n",
       "<tr>\n",
       "  <th>const</th> <td>-4.991e+08</td> <td> 3.93e+08</td> <td>   -1.269</td> <td> 0.225</td> <td>-1.34e+09</td> <td> 3.45e+08</td>\n",
       "</tr>\n",
       "<tr>\n",
       "  <th>x1</th>    <td> 2.497e+05</td> <td> 1.95e+05</td> <td>    1.279</td> <td> 0.222</td> <td>-1.69e+05</td> <td> 6.69e+05</td>\n",
       "</tr>\n",
       "</table>\n",
       "<table class=\"simpletable\">\n",
       "<tr>\n",
       "  <th>Omnibus:</th>       <td>23.871</td> <th>  Durbin-Watson:     </th> <td>   2.233</td>\n",
       "</tr>\n",
       "<tr>\n",
       "  <th>Prob(Omnibus):</th> <td> 0.000</td> <th>  Jarque-Bera (JB):  </th> <td>  29.435</td>\n",
       "</tr>\n",
       "<tr>\n",
       "  <th>Skew:</th>          <td> 2.225</td> <th>  Prob(JB):          </th> <td>4.06e-07</td>\n",
       "</tr>\n",
       "<tr>\n",
       "  <th>Kurtosis:</th>      <td> 7.934</td> <th>  Cond. No.          </th> <td>8.80e+05</td>\n",
       "</tr>\n",
       "</table><br/><br/>Notes:<br/>[1] Standard Errors assume that the covariance matrix of the errors is correctly specified.<br/>[2] The condition number is large, 8.8e+05. This might indicate that there are<br/>strong multicollinearity or other numerical problems."
      ],
      "text/latex": [
       "\\begin{center}\n",
       "\\begin{tabular}{lclc}\n",
       "\\toprule\n",
       "\\textbf{Dep. Variable:}    &        y         & \\textbf{  R-squared:         } &     0.105   \\\\\n",
       "\\textbf{Model:}            &       OLS        & \\textbf{  Adj. R-squared:    } &     0.041   \\\\\n",
       "\\textbf{Method:}           &  Least Squares   & \\textbf{  F-statistic:       } &     1.635   \\\\\n",
       "\\textbf{Date:}             & Sat, 21 Oct 2023 & \\textbf{  Prob (F-statistic):} &    0.222    \\\\\n",
       "\\textbf{Time:}             &     14:59:24     & \\textbf{  Log-Likelihood:    } &   -263.18   \\\\\n",
       "\\textbf{No. Observations:} &          16      & \\textbf{  AIC:               } &     530.4   \\\\\n",
       "\\textbf{Df Residuals:}     &          14      & \\textbf{  BIC:               } &     531.9   \\\\\n",
       "\\textbf{Df Model:}         &           1      & \\textbf{                     } &             \\\\\n",
       "\\textbf{Covariance Type:}  &    nonrobust     & \\textbf{                     } &             \\\\\n",
       "\\bottomrule\n",
       "\\end{tabular}\n",
       "\\begin{tabular}{lcccccc}\n",
       "               & \\textbf{coef} & \\textbf{std err} & \\textbf{t} & \\textbf{P$> |$t$|$} & \\textbf{[0.025} & \\textbf{0.975]}  \\\\\n",
       "\\midrule\n",
       "\\textbf{const} &   -4.991e+08  &     3.93e+08     &    -1.269  &         0.225        &    -1.34e+09    &     3.45e+08     \\\\\n",
       "\\textbf{x1}    &    2.497e+05  &     1.95e+05     &     1.279  &         0.222        &    -1.69e+05    &     6.69e+05     \\\\\n",
       "\\bottomrule\n",
       "\\end{tabular}\n",
       "\\begin{tabular}{lclc}\n",
       "\\textbf{Omnibus:}       & 23.871 & \\textbf{  Durbin-Watson:     } &    2.233  \\\\\n",
       "\\textbf{Prob(Omnibus):} &  0.000 & \\textbf{  Jarque-Bera (JB):  } &   29.435  \\\\\n",
       "\\textbf{Skew:}          &  2.225 & \\textbf{  Prob(JB):          } & 4.06e-07  \\\\\n",
       "\\textbf{Kurtosis:}      &  7.934 & \\textbf{  Cond. No.          } & 8.80e+05  \\\\\n",
       "\\bottomrule\n",
       "\\end{tabular}\n",
       "%\\caption{OLS Regression Results}\n",
       "\\end{center}\n",
       "\n",
       "Notes: \\newline\n",
       " [1] Standard Errors assume that the covariance matrix of the errors is correctly specified. \\newline\n",
       " [2] The condition number is large, 8.8e+05. This might indicate that there are \\newline\n",
       " strong multicollinearity or other numerical problems."
      ],
      "text/plain": [
       "<class 'statsmodels.iolib.summary.Summary'>\n",
       "\"\"\"\n",
       "                            OLS Regression Results                            \n",
       "==============================================================================\n",
       "Dep. Variable:                      y   R-squared:                       0.105\n",
       "Model:                            OLS   Adj. R-squared:                  0.041\n",
       "Method:                 Least Squares   F-statistic:                     1.635\n",
       "Date:                Sat, 21 Oct 2023   Prob (F-statistic):              0.222\n",
       "Time:                        14:59:24   Log-Likelihood:                -263.18\n",
       "No. Observations:                  16   AIC:                             530.4\n",
       "Df Residuals:                      14   BIC:                             531.9\n",
       "Df Model:                           1                                         \n",
       "Covariance Type:            nonrobust                                         \n",
       "==============================================================================\n",
       "                 coef    std err          t      P>|t|      [0.025      0.975]\n",
       "------------------------------------------------------------------------------\n",
       "const      -4.991e+08   3.93e+08     -1.269      0.225   -1.34e+09    3.45e+08\n",
       "x1          2.497e+05   1.95e+05      1.279      0.222   -1.69e+05    6.69e+05\n",
       "==============================================================================\n",
       "Omnibus:                       23.871   Durbin-Watson:                   2.233\n",
       "Prob(Omnibus):                  0.000   Jarque-Bera (JB):               29.435\n",
       "Skew:                           2.225   Prob(JB):                     4.06e-07\n",
       "Kurtosis:                       7.934   Cond. No.                     8.80e+05\n",
       "==============================================================================\n",
       "\n",
       "Notes:\n",
       "[1] Standard Errors assume that the covariance matrix of the errors is correctly specified.\n",
       "[2] The condition number is large, 8.8e+05. This might indicate that there are\n",
       "strong multicollinearity or other numerical problems.\n",
       "\"\"\""
      ]
     },
     "execution_count": 108,
     "metadata": {},
     "output_type": "execute_result"
    }
   ],
   "source": [
    "results.query(\"variable == 'max'\").px_fit_results.iloc[0].summary()\n"
   ]
  },
  {
   "cell_type": "code",
   "execution_count": null,
   "id": "ad3aaf29",
   "metadata": {},
   "outputs": [],
   "source": [
    "# mean by year without zero\n"
   ]
  },
  {
   "cell_type": "markdown",
   "id": "e3d55c67",
   "metadata": {},
   "source": [
    "## Valor de vinho exportado (US$) - qual a data-base?"
   ]
  },
  {
   "cell_type": "code",
   "execution_count": 110,
   "id": "eb01cb12",
   "metadata": {},
   "outputs": [
    {
     "data": {
      "text/html": [
       "<div><style>\n",
       ".dataframe > thead > tr > th,\n",
       ".dataframe > tbody > tr > td {\n",
       "  text-align: right;\n",
       "  white-space: pre-wrap;\n",
       "}\n",
       "</style>\n",
       "<small>shape: (9, 17)</small><table border=\"1\" class=\"dataframe\"><thead><tr><th>describe</th><th>2007</th><th>2008</th><th>2009</th><th>2010</th><th>2011</th><th>2012</th><th>2013</th><th>2014</th><th>2015</th><th>2016</th><th>2017</th><th>2018</th><th>2019</th><th>2020</th><th>2021</th><th>2022</th></tr><tr><td>str</td><td>f64</td><td>f64</td><td>f64</td><td>f64</td><td>f64</td><td>f64</td><td>f64</td><td>f64</td><td>f64</td><td>f64</td><td>f64</td><td>f64</td><td>f64</td><td>f64</td><td>f64</td><td>f64</td></tr></thead><tbody><tr><td>&quot;count&quot;</td><td>128.0</td><td>128.0</td><td>128.0</td><td>128.0</td><td>128.0</td><td>128.0</td><td>128.0</td><td>128.0</td><td>128.0</td><td>128.0</td><td>128.0</td><td>128.0</td><td>128.0</td><td>128.0</td><td>128.0</td><td>128.0</td></tr><tr><td>&quot;null_count&quot;</td><td>0.0</td><td>0.0</td><td>0.0</td><td>0.0</td><td>0.0</td><td>0.0</td><td>0.0</td><td>0.0</td><td>0.0</td><td>0.0</td><td>0.0</td><td>0.0</td><td>0.0</td><td>0.0</td><td>0.0</td><td>0.0</td></tr><tr><td>&quot;mean&quot;</td><td>28798.046875</td><td>55610.15625</td><td>69851.46875</td><td>20275.804688</td><td>28243.125</td><td>43135.101562</td><td>177694.101562</td><td>58381.210938</td><td>21634.0625</td><td>34646.125</td><td>55746.929688</td><td>58484.867188</td><td>46365.828125</td><td>47486.625</td><td>76968.296875</td><td>85510.015625</td></tr><tr><td>&quot;std&quot;</td><td>112790.554073</td><td>260556.007784</td><td>512646.746246</td><td>72911.605058</td><td>108366.034983</td><td>205931.510206</td><td>1.3477e6</td><td>193594.835251</td><td>88585.993054</td><td>170258.797445</td><td>400539.90942</td><td>487459.51628</td><td>343522.079741</td><td>348702.778141</td><td>639549.029833</td><td>641474.619049</td></tr><tr><td>&quot;min&quot;</td><td>0.0</td><td>0.0</td><td>0.0</td><td>0.0</td><td>0.0</td><td>0.0</td><td>0.0</td><td>0.0</td><td>0.0</td><td>0.0</td><td>0.0</td><td>0.0</td><td>0.0</td><td>0.0</td><td>0.0</td><td>0.0</td></tr><tr><td>&quot;25%&quot;</td><td>0.0</td><td>0.0</td><td>0.0</td><td>0.0</td><td>0.0</td><td>0.0</td><td>0.0</td><td>0.0</td><td>0.0</td><td>0.0</td><td>0.0</td><td>0.0</td><td>0.0</td><td>0.0</td><td>0.0</td><td>0.0</td></tr><tr><td>&quot;50%&quot;</td><td>0.0</td><td>0.0</td><td>0.0</td><td>0.0</td><td>0.0</td><td>0.0</td><td>0.0</td><td>0.0</td><td>0.0</td><td>0.0</td><td>0.0</td><td>0.0</td><td>3.0</td><td>28.0</td><td>48.0</td><td>212.0</td></tr><tr><td>&quot;75%&quot;</td><td>2448.0</td><td>6834.0</td><td>2143.0</td><td>1015.0</td><td>4899.0</td><td>5622.0</td><td>4092.0</td><td>3887.0</td><td>0.0</td><td>1214.0</td><td>2248.0</td><td>9744.0</td><td>2832.0</td><td>4805.0</td><td>8153.0</td><td>7914.0</td></tr><tr><td>&quot;max&quot;</td><td>810038.0</td><td>2.352768e6</td><td>5.73228e6</td><td>478630.0</td><td>1.030254e6</td><td>2.103968e6</td><td>1.4795694e7</td><td>1.373747e6</td><td>741370.0</td><td>1.655417e6</td><td>4.27465e6</td><td>5.494321e6</td><td>3.826587e6</td><td>3.869243e6</td><td>7.192362e6</td><td>7.156293e6</td></tr></tbody></table></div>"
      ],
      "text/plain": [
       "shape: (9, 17)\n",
       "┌───────────┬───────────┬───────────┬───────────┬───┬───────────┬───────────┬───────────┬──────────┐\n",
       "│ describe  ┆ 2007      ┆ 2008      ┆ 2009      ┆ … ┆ 2019      ┆ 2020      ┆ 2021      ┆ 2022     │\n",
       "│ ---       ┆ ---       ┆ ---       ┆ ---       ┆   ┆ ---       ┆ ---       ┆ ---       ┆ ---      │\n",
       "│ str       ┆ f64       ┆ f64       ┆ f64       ┆   ┆ f64       ┆ f64       ┆ f64       ┆ f64      │\n",
       "╞═══════════╪═══════════╪═══════════╪═══════════╪═══╪═══════════╪═══════════╪═══════════╪══════════╡\n",
       "│ count     ┆ 128.0     ┆ 128.0     ┆ 128.0     ┆ … ┆ 128.0     ┆ 128.0     ┆ 128.0     ┆ 128.0    │\n",
       "│ null_coun ┆ 0.0       ┆ 0.0       ┆ 0.0       ┆ … ┆ 0.0       ┆ 0.0       ┆ 0.0       ┆ 0.0      │\n",
       "│ t         ┆           ┆           ┆           ┆   ┆           ┆           ┆           ┆          │\n",
       "│ mean      ┆ 28798.046 ┆ 55610.156 ┆ 69851.468 ┆ … ┆ 46365.828 ┆ 47486.625 ┆ 76968.296 ┆ 85510.01 │\n",
       "│           ┆ 875       ┆ 25        ┆ 75        ┆   ┆ 125       ┆           ┆ 875       ┆ 5625     │\n",
       "│ std       ┆ 112790.55 ┆ 260556.00 ┆ 512646.74 ┆ … ┆ 343522.07 ┆ 348702.77 ┆ 639549.02 ┆ 641474.6 │\n",
       "│           ┆ 4073      ┆ 7784      ┆ 6246      ┆   ┆ 9741      ┆ 8141      ┆ 9833      ┆ 19049    │\n",
       "│ min       ┆ 0.0       ┆ 0.0       ┆ 0.0       ┆ … ┆ 0.0       ┆ 0.0       ┆ 0.0       ┆ 0.0      │\n",
       "│ 25%       ┆ 0.0       ┆ 0.0       ┆ 0.0       ┆ … ┆ 0.0       ┆ 0.0       ┆ 0.0       ┆ 0.0      │\n",
       "│ 50%       ┆ 0.0       ┆ 0.0       ┆ 0.0       ┆ … ┆ 3.0       ┆ 28.0      ┆ 48.0      ┆ 212.0    │\n",
       "│ 75%       ┆ 2448.0    ┆ 6834.0    ┆ 2143.0    ┆ … ┆ 2832.0    ┆ 4805.0    ┆ 8153.0    ┆ 7914.0   │\n",
       "│ max       ┆ 810038.0  ┆ 2.352768e ┆ 5.73228e6 ┆ … ┆ 3.826587e ┆ 3.869243e ┆ 7.192362e ┆ 7.156293 │\n",
       "│           ┆           ┆ 6         ┆           ┆   ┆ 6         ┆ 6         ┆ 6         ┆ e6       │\n",
       "└───────────┴───────────┴───────────┴───────────┴───┴───────────┴───────────┴───────────┴──────────┘"
      ]
     },
     "execution_count": 110,
     "metadata": {},
     "output_type": "execute_result"
    }
   ],
   "source": [
    "\n",
    "\n",
    "exp_vinho_val_summ = exp_vinho_val.select(cs.all() - cs.starts_with([\"Id\", \"Country\"])).describe()\n",
    "exp_vinho_val_summ"
   ]
  },
  {
   "cell_type": "code",
   "execution_count": 111,
   "id": "261ed790",
   "metadata": {},
   "outputs": [
    {
     "data": {
      "application/vnd.plotly.v1+json": {
       "config": {
        "plotlyServerURL": "https://plot.ly"
       },
       "data": [
        {
         "hovertemplate": "variable=mean<br>index=%{x}<br>value=%{y}<extra></extra>",
         "legendgroup": "mean",
         "marker": {
          "color": "#636efa",
          "symbol": "circle"
         },
         "mode": "markers",
         "name": "mean",
         "orientation": "v",
         "showlegend": true,
         "type": "scatter",
         "x": [
          "2007",
          "2008",
          "2009",
          "2010",
          "2011",
          "2012",
          "2013",
          "2014",
          "2015",
          "2016",
          "2017",
          "2018",
          "2019",
          "2020",
          "2021",
          "2022"
         ],
         "xaxis": "x",
         "y": [
          "28798.046875",
          "55610.15625",
          "69851.46875",
          "20275.8046875",
          "28243.125",
          "43135.1015625",
          "177694.1015625",
          "58381.2109375",
          "21634.0625",
          "34646.125",
          "55746.9296875",
          "58484.8671875",
          "46365.828125",
          "47486.625",
          "76968.296875",
          "85510.015625"
         ],
         "yaxis": "y"
        },
        {
         "hovertemplate": "<b>OLS trendline</b><br>value = 1361.75 * index + -2.68645e+06<br>R<sup>2</sup>=0.029926<br><br>variable=mean<br>index=%{x}<br>value=%{y} <b>(trend)</b><extra></extra>",
         "legendgroup": "mean",
         "marker": {
          "color": "#636efa",
          "symbol": "circle"
         },
         "mode": "lines",
         "name": "mean",
         "showlegend": false,
         "type": "scatter",
         "x": [
          "2007",
          "2008",
          "2009",
          "2010",
          "2011",
          "2012",
          "2013",
          "2014",
          "2015",
          "2016",
          "2017",
          "2018",
          "2019",
          "2020",
          "2021",
          "2022"
         ],
         "xaxis": "x",
         "y": [
          46588.8322610273,
          47950.58600643184,
          49312.33975183591,
          50674.09349724045,
          52035.84724264499,
          53397.60098804906,
          54759.3547334536,
          56121.108478858136,
          57482.86222426221,
          58844.615969666746,
          60206.36971507082,
          61568.123460475355,
          62929.87720587989,
          64291.630951283965,
          65653.3846966885,
          67015.13844209304
         ],
         "yaxis": "y"
        },
        {
         "hovertemplate": "variable=max<br>index=%{x}<br>value=%{y}<extra></extra>",
         "legendgroup": "max",
         "marker": {
          "color": "#EF553B",
          "symbol": "circle"
         },
         "mode": "markers",
         "name": "max",
         "orientation": "v",
         "showlegend": true,
         "type": "scatter",
         "x": [
          "2007",
          "2008",
          "2009",
          "2010",
          "2011",
          "2012",
          "2013",
          "2014",
          "2015",
          "2016",
          "2017",
          "2018",
          "2019",
          "2020",
          "2021",
          "2022"
         ],
         "xaxis": "x",
         "y": [
          "810038.0",
          "2352768.0",
          "5732280.0",
          "478630.0",
          "1030254.0",
          "2103968.0",
          "14795694.0",
          "1373747.0",
          "741370.0",
          "1655417.0",
          "4274650.0",
          "5494321.0",
          "3826587.0",
          "3869243.0",
          "7192362.0",
          "7156293.0"
         ],
         "yaxis": "y"
        },
        {
         "hovertemplate": "<b>OLS trendline</b><br>value = 249699 * index + -4.99088e+08<br>R<sup>2</sup>=0.104585<br><br>variable=max<br>index=%{x}<br>value=%{y} <b>(trend)</b><extra></extra>",
         "legendgroup": "max",
         "marker": {
          "color": "#EF553B",
          "symbol": "circle"
         },
         "mode": "lines",
         "name": "max",
         "showlegend": false,
         "type": "scatter",
         "x": [
          "2007",
          "2008",
          "2009",
          "2010",
          "2011",
          "2012",
          "2013",
          "2014",
          "2015",
          "2016",
          "2017",
          "2018",
          "2019",
          "2020",
          "2021",
          "2022"
         ],
         "xaxis": "x",
         "y": [
          2057732.727940917,
          2307431.880882144,
          2557131.0338233113,
          2806830.1867644787,
          3056529.339705646,
          3306228.492646873,
          3555927.6455880404,
          3805626.7985292077,
          4055325.951470375,
          4305025.104411542,
          4554724.257352769,
          4804423.410293937,
          5054122.563235104,
          5303821.716176271,
          5553520.869117439,
          5803220.022058666
         ],
         "yaxis": "y"
        }
       ],
       "layout": {
        "legend": {
         "title": {
          "text": "variable"
         },
         "tracegroupgap": 0
        },
        "margin": {
         "t": 60
        },
        "template": {
         "data": {
          "bar": [
           {
            "error_x": {
             "color": "#2a3f5f"
            },
            "error_y": {
             "color": "#2a3f5f"
            },
            "marker": {
             "line": {
              "color": "#E5ECF6",
              "width": 0.5
             },
             "pattern": {
              "fillmode": "overlay",
              "size": 10,
              "solidity": 0.2
             }
            },
            "type": "bar"
           }
          ],
          "barpolar": [
           {
            "marker": {
             "line": {
              "color": "#E5ECF6",
              "width": 0.5
             },
             "pattern": {
              "fillmode": "overlay",
              "size": 10,
              "solidity": 0.2
             }
            },
            "type": "barpolar"
           }
          ],
          "carpet": [
           {
            "aaxis": {
             "endlinecolor": "#2a3f5f",
             "gridcolor": "white",
             "linecolor": "white",
             "minorgridcolor": "white",
             "startlinecolor": "#2a3f5f"
            },
            "baxis": {
             "endlinecolor": "#2a3f5f",
             "gridcolor": "white",
             "linecolor": "white",
             "minorgridcolor": "white",
             "startlinecolor": "#2a3f5f"
            },
            "type": "carpet"
           }
          ],
          "choropleth": [
           {
            "colorbar": {
             "outlinewidth": 0,
             "ticks": ""
            },
            "type": "choropleth"
           }
          ],
          "contour": [
           {
            "colorbar": {
             "outlinewidth": 0,
             "ticks": ""
            },
            "colorscale": [
             [
              0,
              "#0d0887"
             ],
             [
              0.1111111111111111,
              "#46039f"
             ],
             [
              0.2222222222222222,
              "#7201a8"
             ],
             [
              0.3333333333333333,
              "#9c179e"
             ],
             [
              0.4444444444444444,
              "#bd3786"
             ],
             [
              0.5555555555555556,
              "#d8576b"
             ],
             [
              0.6666666666666666,
              "#ed7953"
             ],
             [
              0.7777777777777778,
              "#fb9f3a"
             ],
             [
              0.8888888888888888,
              "#fdca26"
             ],
             [
              1,
              "#f0f921"
             ]
            ],
            "type": "contour"
           }
          ],
          "contourcarpet": [
           {
            "colorbar": {
             "outlinewidth": 0,
             "ticks": ""
            },
            "type": "contourcarpet"
           }
          ],
          "heatmap": [
           {
            "colorbar": {
             "outlinewidth": 0,
             "ticks": ""
            },
            "colorscale": [
             [
              0,
              "#0d0887"
             ],
             [
              0.1111111111111111,
              "#46039f"
             ],
             [
              0.2222222222222222,
              "#7201a8"
             ],
             [
              0.3333333333333333,
              "#9c179e"
             ],
             [
              0.4444444444444444,
              "#bd3786"
             ],
             [
              0.5555555555555556,
              "#d8576b"
             ],
             [
              0.6666666666666666,
              "#ed7953"
             ],
             [
              0.7777777777777778,
              "#fb9f3a"
             ],
             [
              0.8888888888888888,
              "#fdca26"
             ],
             [
              1,
              "#f0f921"
             ]
            ],
            "type": "heatmap"
           }
          ],
          "heatmapgl": [
           {
            "colorbar": {
             "outlinewidth": 0,
             "ticks": ""
            },
            "colorscale": [
             [
              0,
              "#0d0887"
             ],
             [
              0.1111111111111111,
              "#46039f"
             ],
             [
              0.2222222222222222,
              "#7201a8"
             ],
             [
              0.3333333333333333,
              "#9c179e"
             ],
             [
              0.4444444444444444,
              "#bd3786"
             ],
             [
              0.5555555555555556,
              "#d8576b"
             ],
             [
              0.6666666666666666,
              "#ed7953"
             ],
             [
              0.7777777777777778,
              "#fb9f3a"
             ],
             [
              0.8888888888888888,
              "#fdca26"
             ],
             [
              1,
              "#f0f921"
             ]
            ],
            "type": "heatmapgl"
           }
          ],
          "histogram": [
           {
            "marker": {
             "pattern": {
              "fillmode": "overlay",
              "size": 10,
              "solidity": 0.2
             }
            },
            "type": "histogram"
           }
          ],
          "histogram2d": [
           {
            "colorbar": {
             "outlinewidth": 0,
             "ticks": ""
            },
            "colorscale": [
             [
              0,
              "#0d0887"
             ],
             [
              0.1111111111111111,
              "#46039f"
             ],
             [
              0.2222222222222222,
              "#7201a8"
             ],
             [
              0.3333333333333333,
              "#9c179e"
             ],
             [
              0.4444444444444444,
              "#bd3786"
             ],
             [
              0.5555555555555556,
              "#d8576b"
             ],
             [
              0.6666666666666666,
              "#ed7953"
             ],
             [
              0.7777777777777778,
              "#fb9f3a"
             ],
             [
              0.8888888888888888,
              "#fdca26"
             ],
             [
              1,
              "#f0f921"
             ]
            ],
            "type": "histogram2d"
           }
          ],
          "histogram2dcontour": [
           {
            "colorbar": {
             "outlinewidth": 0,
             "ticks": ""
            },
            "colorscale": [
             [
              0,
              "#0d0887"
             ],
             [
              0.1111111111111111,
              "#46039f"
             ],
             [
              0.2222222222222222,
              "#7201a8"
             ],
             [
              0.3333333333333333,
              "#9c179e"
             ],
             [
              0.4444444444444444,
              "#bd3786"
             ],
             [
              0.5555555555555556,
              "#d8576b"
             ],
             [
              0.6666666666666666,
              "#ed7953"
             ],
             [
              0.7777777777777778,
              "#fb9f3a"
             ],
             [
              0.8888888888888888,
              "#fdca26"
             ],
             [
              1,
              "#f0f921"
             ]
            ],
            "type": "histogram2dcontour"
           }
          ],
          "mesh3d": [
           {
            "colorbar": {
             "outlinewidth": 0,
             "ticks": ""
            },
            "type": "mesh3d"
           }
          ],
          "parcoords": [
           {
            "line": {
             "colorbar": {
              "outlinewidth": 0,
              "ticks": ""
             }
            },
            "type": "parcoords"
           }
          ],
          "pie": [
           {
            "automargin": true,
            "type": "pie"
           }
          ],
          "scatter": [
           {
            "fillpattern": {
             "fillmode": "overlay",
             "size": 10,
             "solidity": 0.2
            },
            "type": "scatter"
           }
          ],
          "scatter3d": [
           {
            "line": {
             "colorbar": {
              "outlinewidth": 0,
              "ticks": ""
             }
            },
            "marker": {
             "colorbar": {
              "outlinewidth": 0,
              "ticks": ""
             }
            },
            "type": "scatter3d"
           }
          ],
          "scattercarpet": [
           {
            "marker": {
             "colorbar": {
              "outlinewidth": 0,
              "ticks": ""
             }
            },
            "type": "scattercarpet"
           }
          ],
          "scattergeo": [
           {
            "marker": {
             "colorbar": {
              "outlinewidth": 0,
              "ticks": ""
             }
            },
            "type": "scattergeo"
           }
          ],
          "scattergl": [
           {
            "marker": {
             "colorbar": {
              "outlinewidth": 0,
              "ticks": ""
             }
            },
            "type": "scattergl"
           }
          ],
          "scattermapbox": [
           {
            "marker": {
             "colorbar": {
              "outlinewidth": 0,
              "ticks": ""
             }
            },
            "type": "scattermapbox"
           }
          ],
          "scatterpolar": [
           {
            "marker": {
             "colorbar": {
              "outlinewidth": 0,
              "ticks": ""
             }
            },
            "type": "scatterpolar"
           }
          ],
          "scatterpolargl": [
           {
            "marker": {
             "colorbar": {
              "outlinewidth": 0,
              "ticks": ""
             }
            },
            "type": "scatterpolargl"
           }
          ],
          "scatterternary": [
           {
            "marker": {
             "colorbar": {
              "outlinewidth": 0,
              "ticks": ""
             }
            },
            "type": "scatterternary"
           }
          ],
          "surface": [
           {
            "colorbar": {
             "outlinewidth": 0,
             "ticks": ""
            },
            "colorscale": [
             [
              0,
              "#0d0887"
             ],
             [
              0.1111111111111111,
              "#46039f"
             ],
             [
              0.2222222222222222,
              "#7201a8"
             ],
             [
              0.3333333333333333,
              "#9c179e"
             ],
             [
              0.4444444444444444,
              "#bd3786"
             ],
             [
              0.5555555555555556,
              "#d8576b"
             ],
             [
              0.6666666666666666,
              "#ed7953"
             ],
             [
              0.7777777777777778,
              "#fb9f3a"
             ],
             [
              0.8888888888888888,
              "#fdca26"
             ],
             [
              1,
              "#f0f921"
             ]
            ],
            "type": "surface"
           }
          ],
          "table": [
           {
            "cells": {
             "fill": {
              "color": "#EBF0F8"
             },
             "line": {
              "color": "white"
             }
            },
            "header": {
             "fill": {
              "color": "#C8D4E3"
             },
             "line": {
              "color": "white"
             }
            },
            "type": "table"
           }
          ]
         },
         "layout": {
          "annotationdefaults": {
           "arrowcolor": "#2a3f5f",
           "arrowhead": 0,
           "arrowwidth": 1
          },
          "autotypenumbers": "strict",
          "coloraxis": {
           "colorbar": {
            "outlinewidth": 0,
            "ticks": ""
           }
          },
          "colorscale": {
           "diverging": [
            [
             0,
             "#8e0152"
            ],
            [
             0.1,
             "#c51b7d"
            ],
            [
             0.2,
             "#de77ae"
            ],
            [
             0.3,
             "#f1b6da"
            ],
            [
             0.4,
             "#fde0ef"
            ],
            [
             0.5,
             "#f7f7f7"
            ],
            [
             0.6,
             "#e6f5d0"
            ],
            [
             0.7,
             "#b8e186"
            ],
            [
             0.8,
             "#7fbc41"
            ],
            [
             0.9,
             "#4d9221"
            ],
            [
             1,
             "#276419"
            ]
           ],
           "sequential": [
            [
             0,
             "#0d0887"
            ],
            [
             0.1111111111111111,
             "#46039f"
            ],
            [
             0.2222222222222222,
             "#7201a8"
            ],
            [
             0.3333333333333333,
             "#9c179e"
            ],
            [
             0.4444444444444444,
             "#bd3786"
            ],
            [
             0.5555555555555556,
             "#d8576b"
            ],
            [
             0.6666666666666666,
             "#ed7953"
            ],
            [
             0.7777777777777778,
             "#fb9f3a"
            ],
            [
             0.8888888888888888,
             "#fdca26"
            ],
            [
             1,
             "#f0f921"
            ]
           ],
           "sequentialminus": [
            [
             0,
             "#0d0887"
            ],
            [
             0.1111111111111111,
             "#46039f"
            ],
            [
             0.2222222222222222,
             "#7201a8"
            ],
            [
             0.3333333333333333,
             "#9c179e"
            ],
            [
             0.4444444444444444,
             "#bd3786"
            ],
            [
             0.5555555555555556,
             "#d8576b"
            ],
            [
             0.6666666666666666,
             "#ed7953"
            ],
            [
             0.7777777777777778,
             "#fb9f3a"
            ],
            [
             0.8888888888888888,
             "#fdca26"
            ],
            [
             1,
             "#f0f921"
            ]
           ]
          },
          "colorway": [
           "#636efa",
           "#EF553B",
           "#00cc96",
           "#ab63fa",
           "#FFA15A",
           "#19d3f3",
           "#FF6692",
           "#B6E880",
           "#FF97FF",
           "#FECB52"
          ],
          "font": {
           "color": "#2a3f5f"
          },
          "geo": {
           "bgcolor": "white",
           "lakecolor": "white",
           "landcolor": "#E5ECF6",
           "showlakes": true,
           "showland": true,
           "subunitcolor": "white"
          },
          "hoverlabel": {
           "align": "left"
          },
          "hovermode": "closest",
          "mapbox": {
           "style": "light"
          },
          "paper_bgcolor": "white",
          "plot_bgcolor": "#E5ECF6",
          "polar": {
           "angularaxis": {
            "gridcolor": "white",
            "linecolor": "white",
            "ticks": ""
           },
           "bgcolor": "#E5ECF6",
           "radialaxis": {
            "gridcolor": "white",
            "linecolor": "white",
            "ticks": ""
           }
          },
          "scene": {
           "xaxis": {
            "backgroundcolor": "#E5ECF6",
            "gridcolor": "white",
            "gridwidth": 2,
            "linecolor": "white",
            "showbackground": true,
            "ticks": "",
            "zerolinecolor": "white"
           },
           "yaxis": {
            "backgroundcolor": "#E5ECF6",
            "gridcolor": "white",
            "gridwidth": 2,
            "linecolor": "white",
            "showbackground": true,
            "ticks": "",
            "zerolinecolor": "white"
           },
           "zaxis": {
            "backgroundcolor": "#E5ECF6",
            "gridcolor": "white",
            "gridwidth": 2,
            "linecolor": "white",
            "showbackground": true,
            "ticks": "",
            "zerolinecolor": "white"
           }
          },
          "shapedefaults": {
           "line": {
            "color": "#2a3f5f"
           }
          },
          "ternary": {
           "aaxis": {
            "gridcolor": "white",
            "linecolor": "white",
            "ticks": ""
           },
           "baxis": {
            "gridcolor": "white",
            "linecolor": "white",
            "ticks": ""
           },
           "bgcolor": "#E5ECF6",
           "caxis": {
            "gridcolor": "white",
            "linecolor": "white",
            "ticks": ""
           }
          },
          "title": {
           "x": 0.05
          },
          "xaxis": {
           "automargin": true,
           "gridcolor": "white",
           "linecolor": "white",
           "ticks": "",
           "title": {
            "standoff": 15
           },
           "zerolinecolor": "white",
           "zerolinewidth": 2
          },
          "yaxis": {
           "automargin": true,
           "gridcolor": "white",
           "linecolor": "white",
           "ticks": "",
           "title": {
            "standoff": 15
           },
           "zerolinecolor": "white",
           "zerolinewidth": 2
          }
         }
        },
        "xaxis": {
         "anchor": "y",
         "domain": [
          0,
          1
         ],
         "title": {
          "text": "index"
         }
        },
        "yaxis": {
         "anchor": "x",
         "domain": [
          0,
          1
         ],
         "title": {
          "text": "value"
         },
         "type": "log"
        }
       }
      }
     },
     "metadata": {},
     "output_type": "display_data"
    }
   ],
   "source": [
    "exp_vinho_val = polars_df_to_pandas_series(exp_vinho_qtd_summ[[1,7],1:])\n",
    "exp_vinho_val.columns = [\"mean\", \"max\"]\n",
    "fig = px.scatter(exp_vinho_val, log_y=True, trendline='ols')\n",
    "fig.show()"
   ]
  },
  {
   "cell_type": "code",
   "execution_count": 125,
   "id": "f789f25b",
   "metadata": {},
   "outputs": [
    {
     "data": {
      "text/html": [
       "<div><style>\n",
       ".dataframe > thead > tr > th,\n",
       ".dataframe > tbody > tr > td {\n",
       "  text-align: right;\n",
       "  white-space: pre-wrap;\n",
       "}\n",
       "</style>\n",
       "<small>shape: (6, 3)</small><table border=\"1\" class=\"dataframe\"><thead><tr><th>foo</th><th>bar</th><th>baz</th></tr><tr><td>str</td><td>str</td><td>i64</td></tr></thead><tbody><tr><td>&quot;one&quot;</td><td>&quot;y&quot;</td><td>1</td></tr><tr><td>&quot;one&quot;</td><td>&quot;y&quot;</td><td>2</td></tr><tr><td>&quot;two&quot;</td><td>&quot;y&quot;</td><td>3</td></tr><tr><td>&quot;two&quot;</td><td>&quot;x&quot;</td><td>4</td></tr><tr><td>&quot;one&quot;</td><td>&quot;x&quot;</td><td>5</td></tr><tr><td>&quot;two&quot;</td><td>&quot;x&quot;</td><td>6</td></tr></tbody></table></div>"
      ],
      "text/plain": [
       "shape: (6, 3)\n",
       "┌─────┬─────┬─────┐\n",
       "│ foo ┆ bar ┆ baz │\n",
       "│ --- ┆ --- ┆ --- │\n",
       "│ str ┆ str ┆ i64 │\n",
       "╞═════╪═════╪═════╡\n",
       "│ one ┆ y   ┆ 1   │\n",
       "│ one ┆ y   ┆ 2   │\n",
       "│ two ┆ y   ┆ 3   │\n",
       "│ two ┆ x   ┆ 4   │\n",
       "│ one ┆ x   ┆ 5   │\n",
       "│ two ┆ x   ┆ 6   │\n",
       "└─────┴─────┴─────┘"
      ]
     },
     "execution_count": 125,
     "metadata": {},
     "output_type": "execute_result"
    }
   ],
   "source": [
    "df = pl.DataFrame(\n",
    "    {\n",
    "        \"foo\": [\"one\", \"one\", \"two\", \"two\", \"one\", \"two\"],\n",
    "        \"bar\": [\"y\", \"y\", \"y\", \"x\", \"x\", \"x\"],\n",
    "        \"baz\": [1, 2, 3, 4, 5, 6],\n",
    "    }\n",
    ")\n",
    "df"
   ]
  },
  {
   "cell_type": "code",
   "execution_count": 126,
   "id": "f2d20e5b",
   "metadata": {},
   "outputs": [
    {
     "data": {
      "text/html": [
       "<div><style>\n",
       ".dataframe > thead > tr > th,\n",
       ".dataframe > tbody > tr > td {\n",
       "  text-align: right;\n",
       "  white-space: pre-wrap;\n",
       "}\n",
       "</style>\n",
       "<small>shape: (2, 3)</small><table border=\"1\" class=\"dataframe\"><thead><tr><th>foo</th><th>y</th><th>x</th></tr><tr><td>str</td><td>i64</td><td>i64</td></tr></thead><tbody><tr><td>&quot;one&quot;</td><td>3</td><td>5</td></tr><tr><td>&quot;two&quot;</td><td>3</td><td>10</td></tr></tbody></table></div>"
      ],
      "text/plain": [
       "shape: (2, 3)\n",
       "┌─────┬─────┬─────┐\n",
       "│ foo ┆ y   ┆ x   │\n",
       "│ --- ┆ --- ┆ --- │\n",
       "│ str ┆ i64 ┆ i64 │\n",
       "╞═════╪═════╪═════╡\n",
       "│ one ┆ 3   ┆ 5   │\n",
       "│ two ┆ 3   ┆ 10  │\n",
       "└─────┴─────┴─────┘"
      ]
     },
     "execution_count": 126,
     "metadata": {},
     "output_type": "execute_result"
    }
   ],
   "source": [
    "df.pivot(values=\"baz\", index=\"foo\", columns=\"bar\", aggregate_function=\"sum\")"
   ]
  },
  {
   "cell_type": "code",
   "execution_count": null,
   "id": "969f51d4",
   "metadata": {},
   "outputs": [],
   "source": []
  }
 ],
 "metadata": {
  "kernelspec": {
   "display_name": "winedata-Vmd1qRfz-py3.11",
   "language": "python",
   "name": "python3"
  },
  "language_info": {
   "codemirror_mode": {
    "name": "ipython",
    "version": 3
   },
   "file_extension": ".py",
   "mimetype": "text/x-python",
   "name": "python",
   "nbconvert_exporter": "python",
   "pygments_lexer": "ipython3",
   "version": "3.11.2"
  }
 },
 "nbformat": 4,
 "nbformat_minor": 5
}
