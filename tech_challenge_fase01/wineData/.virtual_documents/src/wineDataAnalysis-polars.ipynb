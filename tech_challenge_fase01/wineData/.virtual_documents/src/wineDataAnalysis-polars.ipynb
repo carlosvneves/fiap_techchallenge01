





# importa as bibliotecas e carrega os dados
import plotly.express as px
import polars as pl

# carrega os dados de importação de vinhos
exp_vinho = (pl.read_csv("../data/ExpVinho.csv", separator=";")
             .rename({"País":"country"})
             .drop("Id")
            )

# carrega os dados com as colunas necessárias para posterior plotagem dos dados em mapa
df = px.data.gapminder()

geo_info = (
    df.groupby(["country", "iso_alpha"])
    .first()
    .reset_index()[["country", "iso_alpha", "continent"]]
)

exp_vinho = pl.DataFrame.join(pl.from_dataframe(geo_info), exp_vinho,  on="country")


import polars.selectors as cs

# dados de quantidade exportada
exp_vinho_qty = exp_vinho.select(cs.by_name("country") | cs.by_name("iso_alpha") | cs.by_name("continent") | cs.ends_with("_0"))
exp_vinho_qty.columns = [col.replace("_duplicated_0","") for col in exp_vinho_qty.columns]

# dados de exportação em valor (US$)
exp_vinho_val = exp_vinho.select(cs.by_name("country") | cs.by_name("iso_alpha") | cs.by_name("continent") | ~cs.ends_with("_0"))













